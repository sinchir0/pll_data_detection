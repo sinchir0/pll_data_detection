{
 "cells": [
  {
   "cell_type": "markdown",
   "metadata": {},
   "source": [
    "# 目的\n",
    "- O以外のタグについて、B,Iで結合した文字列を取得し、データフレームにする"
   ]
  },
  {
   "cell_type": "code",
   "execution_count": 9,
   "metadata": {},
   "outputs": [],
   "source": [
    "import polars as pl\n",
    "import ast\n",
    "from tqdm.auto import tqdm"
   ]
  },
  {
   "cell_type": "code",
   "execution_count": 10,
   "metadata": {},
   "outputs": [],
   "source": [
    "train = pl.read_json(\"../data/train.json\")\n",
    "moredata = pl.read_csv(\"../data/moredata_dataset_fixed.csv\").with_columns(\n",
    "    pl.col(\"tokens\").map_elements(lambda x: ast.literal_eval(x)),\n",
    "    pl.col(\"trailing_whitespace\").map_elements(lambda x: ast.literal_eval(x)),\n",
    "    pl.col(\"labels\").map_elements(lambda x: ast.literal_eval(x)),\n",
    ")\n",
    "pii_dataset = pl.read_csv(\"../data/pii_dataset_fixed.csv\").with_columns(\n",
    "    pl.col(\"tokens\").map_elements(lambda x: ast.literal_eval(x)),\n",
    "    pl.col(\"trailing_whitespace\").map_elements(lambda x: ast.literal_eval(x)),\n",
    "    pl.col(\"labels\").map_elements(lambda x: ast.literal_eval(x)),\n",
    ")\n",
    "mixtral = pl.read_json(\"../data/mixtral-8x7b-v1.json\")"
   ]
  },
  {
   "cell_type": "code",
   "execution_count": 11,
   "metadata": {},
   "outputs": [],
   "source": [
    "# B-で始まっていたら、tokenを文字列に追加、suffixを\n",
    "# 次のtokenがI-で始まっている & 一つ前と同じ"
   ]
  },
  {
   "cell_type": "code",
   "execution_count": 12,
   "metadata": {},
   "outputs": [
    {
     "name": "stderr",
     "output_type": "stream",
     "text": [
      "100%|██████████| 10/10 [00:00<00:00, 3376.24it/s]\n"
     ]
    },
    {
     "data": {
      "text/html": [
       "<div><style>\n",
       ".dataframe > thead > tr,\n",
       ".dataframe > tbody > tr {\n",
       "  text-align: right;\n",
       "  white-space: pre-wrap;\n",
       "}\n",
       "</style>\n",
       "<small>shape: (13, 7)</small><table border=\"1\" class=\"dataframe\"><thead><tr><th>NAME_STUDENT</th><th>EMAIL</th><th>USERNAME</th><th>ID_NUM</th><th>PHONE_NUM</th><th>URL_PERSONAL</th><th>STREET_ADDRESS</th></tr><tr><td>str</td><td>null</td><td>null</td><td>null</td><td>null</td><td>null</td><td>null</td></tr></thead><tbody><tr><td>&quot;Nathalie Sylla…</td><td>null</td><td>null</td><td>null</td><td>null</td><td>null</td><td>null</td></tr><tr><td>&quot;Nathalie Sylla…</td><td>null</td><td>null</td><td>null</td><td>null</td><td>null</td><td>null</td></tr><tr><td>&quot;Nathalie Sylla…</td><td>null</td><td>null</td><td>null</td><td>null</td><td>null</td><td>null</td></tr><tr><td>&quot;Diego Estrada&quot;</td><td>null</td><td>null</td><td>null</td><td>null</td><td>null</td><td>null</td></tr><tr><td>&quot;Diego Estrada&quot;</td><td>null</td><td>null</td><td>null</td><td>null</td><td>null</td><td>null</td></tr><tr><td>&quot;Gilberto Gambo…</td><td>null</td><td>null</td><td>null</td><td>null</td><td>null</td><td>null</td></tr><tr><td>&quot;Sindy Samaca&quot;</td><td>null</td><td>null</td><td>null</td><td>null</td><td>null</td><td>null</td></tr><tr><td>&quot;Nadine Born&quot;</td><td>null</td><td>null</td><td>null</td><td>null</td><td>null</td><td>null</td></tr><tr><td>&quot;Eladio Amaya&quot;</td><td>null</td><td>null</td><td>null</td><td>null</td><td>null</td><td>null</td></tr><tr><td>&quot;Silvia Villalo…</td><td>null</td><td>null</td><td>null</td><td>null</td><td>null</td><td>null</td></tr><tr><td>&quot;Sakir Ahmad&quot;</td><td>null</td><td>null</td><td>null</td><td>null</td><td>null</td><td>null</td></tr><tr><td>&quot;Francisco Ferr…</td><td>null</td><td>null</td><td>null</td><td>null</td><td>null</td><td>null</td></tr><tr><td>&quot;Stefano Lovato…</td><td>null</td><td>null</td><td>null</td><td>null</td><td>null</td><td>null</td></tr></tbody></table></div>"
      ],
      "text/plain": [
       "shape: (13, 7)\n",
       "┌────────────────────┬───────┬──────────┬────────┬───────────┬──────────────┬────────────────┐\n",
       "│ NAME_STUDENT       ┆ EMAIL ┆ USERNAME ┆ ID_NUM ┆ PHONE_NUM ┆ URL_PERSONAL ┆ STREET_ADDRESS │\n",
       "│ ---                ┆ ---   ┆ ---      ┆ ---    ┆ ---       ┆ ---          ┆ ---            │\n",
       "│ str                ┆ null  ┆ null     ┆ null   ┆ null      ┆ null         ┆ null           │\n",
       "╞════════════════════╪═══════╪══════════╪════════╪═══════════╪══════════════╪════════════════╡\n",
       "│ Nathalie Sylla     ┆ null  ┆ null     ┆ null   ┆ null      ┆ null         ┆ null           │\n",
       "│ Nathalie Sylla     ┆ null  ┆ null     ┆ null   ┆ null      ┆ null         ┆ null           │\n",
       "│ Nathalie Sylla     ┆ null  ┆ null     ┆ null   ┆ null      ┆ null         ┆ null           │\n",
       "│ Diego Estrada      ┆ null  ┆ null     ┆ null   ┆ null      ┆ null         ┆ null           │\n",
       "│ Diego Estrada      ┆ null  ┆ null     ┆ null   ┆ null      ┆ null         ┆ null           │\n",
       "│ …                  ┆ …     ┆ …        ┆ …      ┆ …         ┆ …            ┆ …              │\n",
       "│ Eladio Amaya       ┆ null  ┆ null     ┆ null   ┆ null      ┆ null         ┆ null           │\n",
       "│ Silvia Villalobos  ┆ null  ┆ null     ┆ null   ┆ null      ┆ null         ┆ null           │\n",
       "│ Sakir Ahmad        ┆ null  ┆ null     ┆ null   ┆ null      ┆ null         ┆ null           │\n",
       "│ Francisco Ferreira ┆ null  ┆ null     ┆ null   ┆ null      ┆ null         ┆ null           │\n",
       "│ Stefano Lovato     ┆ null  ┆ null     ┆ null   ┆ null      ┆ null         ┆ null           │\n",
       "└────────────────────┴───────┴──────────┴────────┴───────────┴──────────────┴────────────────┘"
      ]
     },
     "execution_count": 12,
     "metadata": {},
     "output_type": "execute_result"
    }
   ],
   "source": [
    "make_token_df(train[:10])"
   ]
  },
  {
   "cell_type": "code",
   "execution_count": 13,
   "metadata": {},
   "outputs": [
    {
     "name": "stderr",
     "output_type": "stream",
     "text": [
      "100%|██████████| 6807/6807 [00:01<00:00, 5532.74it/s]\n"
     ]
    },
    {
     "data": {
      "text/html": [
       "<div><style>\n",
       ".dataframe > thead > tr,\n",
       ".dataframe > tbody > tr {\n",
       "  text-align: right;\n",
       "  white-space: pre-wrap;\n",
       "}\n",
       "</style>\n",
       "<small>shape: (1_365, 7)</small><table border=\"1\" class=\"dataframe\"><thead><tr><th>NAME_STUDENT</th><th>EMAIL</th><th>USERNAME</th><th>ID_NUM</th><th>PHONE_NUM</th><th>URL_PERSONAL</th><th>STREET_ADDRESS</th></tr><tr><td>str</td><td>str</td><td>str</td><td>str</td><td>str</td><td>str</td><td>str</td></tr></thead><tbody><tr><td>&quot;Nathalie Sylla…</td><td>&quot;djones@gmail.c…</td><td>&quot;castanedagabri…</td><td>&quot;860632713425&quot;</td><td>&quot;( 320)202 - 06…</td><td>&quot;https://www.ja…</td><td>&quot;591 Smith Cent…</td></tr><tr><td>&quot;Nathalie Sylla…</td><td>&quot;matthew72@hotm…</td><td>&quot;fdixon&quot;</td><td>&quot;530670102508&quot;</td><td>&quot;( 223)392 - 27…</td><td>&quot;https://www.li…</td><td>&quot;743 Erika Bypa…</td></tr><tr><td>&quot;Nathalie Sylla…</td><td>&quot;belindarojas@y…</td><td>&quot;fdixon&quot;</td><td>&quot;530670102508&quot;</td><td>&quot;( 820)913 - 32…</td><td>&quot;https://youtu.…</td><td>null</td></tr><tr><td>&quot;Diego Estrada&quot;</td><td>&quot;kennethevans@h…</td><td>&quot;meyermichelle&quot;</td><td>&quot;875673967537&quot;</td><td>&quot;( 820)913 - 32…</td><td>&quot;https://www.ha…</td><td>null</td></tr><tr><td>&quot;Diego Estrada&quot;</td><td>&quot;agood@gmail.co…</td><td>&quot;jacob59&quot;</td><td>&quot;860632713425&quot;</td><td>&quot;( 820)913 - 32…</td><td>&quot;http://www.bur…</td><td>null</td></tr><tr><td>&quot;Gilberto Gambo…</td><td>&quot;agood@gmail.co…</td><td>&quot;holmespatrick&quot;</td><td>&quot;557349702179&quot;</td><td>&quot;410.526.1667&quot;</td><td>&quot;http://jacobs-…</td><td>null</td></tr><tr><td>&quot;Sindy Samaca&quot;</td><td>&quot;hwillis@gmail.…</td><td>null</td><td>&quot;784372734211&quot;</td><td>null</td><td>&quot;https://www.yo…</td><td>null</td></tr><tr><td>&quot;Nadine Born&quot;</td><td>&quot;kellyharrison@…</td><td>null</td><td>&quot;054176622314&quot;</td><td>null</td><td>&quot;tps://www.face…</td><td>null</td></tr><tr><td>&quot;Eladio Amaya&quot;</td><td>&quot;kellyharrison@…</td><td>null</td><td>&quot;674915248960&quot;</td><td>null</td><td>&quot;https://www.yo…</td><td>null</td></tr><tr><td>&quot;Silvia Villalo…</td><td>&quot;lowetyler@hotm…</td><td>null</td><td>&quot;932353568953&quot;</td><td>null</td><td>&quot;https://oconne…</td><td>null</td></tr><tr><td>&quot;Sakir Ahmad&quot;</td><td>&quot;murraythomas@g…</td><td>null</td><td>&quot;982645662261&quot;</td><td>null</td><td>&quot;https://www.pe…</td><td>null</td></tr><tr><td>&quot;Francisco Ferr…</td><td>&quot;vmartinez@hotm…</td><td>null</td><td>&quot;409046248321&quot;</td><td>null</td><td>&quot;https://diaz.c…</td><td>null</td></tr><tr><td>&hellip;</td><td>&hellip;</td><td>&hellip;</td><td>&hellip;</td><td>&hellip;</td><td>&hellip;</td><td>&hellip;</td></tr><tr><td>&quot;Alina Ijaz&quot;</td><td>null</td><td>null</td><td>null</td><td>null</td><td>null</td><td>null</td></tr><tr><td>&quot;Hersh Guerrero…</td><td>null</td><td>null</td><td>null</td><td>null</td><td>null</td><td>null</td></tr><tr><td>&quot;Robert Walsh&quot;</td><td>null</td><td>null</td><td>null</td><td>null</td><td>null</td><td>null</td></tr><tr><td>&quot;Said Catania&quot;</td><td>null</td><td>null</td><td>null</td><td>null</td><td>null</td><td>null</td></tr><tr><td>&quot;Brittany Jacks…</td><td>null</td><td>null</td><td>null</td><td>null</td><td>null</td><td>null</td></tr><tr><td>&quot;Gopal Kumar&quot;</td><td>null</td><td>null</td><td>null</td><td>null</td><td>null</td><td>null</td></tr><tr><td>&quot;Jose Luis Llam…</td><td>null</td><td>null</td><td>null</td><td>null</td><td>null</td><td>null</td></tr><tr><td>&quot;Jose Luis Llam…</td><td>null</td><td>null</td><td>null</td><td>null</td><td>null</td><td>null</td></tr><tr><td>&quot;Oscar&quot;</td><td>null</td><td>null</td><td>null</td><td>null</td><td>null</td><td>null</td></tr><tr><td>&quot;Silvia Cervant…</td><td>null</td><td>null</td><td>null</td><td>null</td><td>null</td><td>null</td></tr><tr><td>&quot;Carlos Hernand…</td><td>null</td><td>null</td><td>null</td><td>null</td><td>null</td><td>null</td></tr><tr><td>&quot;Carlos Hernand…</td><td>null</td><td>null</td><td>null</td><td>null</td><td>null</td><td>null</td></tr></tbody></table></div>"
      ],
      "text/plain": [
       "shape: (1_365, 7)\n",
       "┌──────────────┬─────────────┬─────────────┬─────────────┬─────────────┬─────────────┬─────────────┐\n",
       "│ NAME_STUDENT ┆ EMAIL       ┆ USERNAME    ┆ ID_NUM      ┆ PHONE_NUM   ┆ URL_PERSONA ┆ STREET_ADDR │\n",
       "│ ---          ┆ ---         ┆ ---         ┆ ---         ┆ ---         ┆ L           ┆ ESS         │\n",
       "│ str          ┆ str         ┆ str         ┆ str         ┆ str         ┆ ---         ┆ ---         │\n",
       "│              ┆             ┆             ┆             ┆             ┆ str         ┆ str         │\n",
       "╞══════════════╪═════════════╪═════════════╪═════════════╪═════════════╪═════════════╪═════════════╡\n",
       "│ Nathalie     ┆ djones@gmai ┆ castanedaga ┆ 86063271342 ┆ ( 320)202 - ┆ https://www ┆ 591 Smith   │\n",
       "│ Sylla        ┆ l.com       ┆ briel       ┆ 5           ┆ 0688x95843  ┆ .jackson.co ┆ Centers Apt │\n",
       "│              ┆             ┆             ┆             ┆             ┆ m/list/exp… ┆ . 656       │\n",
       "│              ┆             ┆             ┆             ┆             ┆             ┆  Jo…        │\n",
       "│ Nathalie     ┆ matthew72@h ┆ fdixon      ┆ 53067010250 ┆ ( 223)392 - ┆ https://www ┆ 743 Erika   │\n",
       "│ Sylla        ┆ otmail.com  ┆             ┆ 8           ┆ 2765        ┆ .linkedin.c ┆ Bypass Apt  │\n",
       "│              ┆             ┆             ┆             ┆             ┆ om/in/mmar… ┆ . 419       │\n",
       "│              ┆             ┆             ┆             ┆             ┆             ┆  And…       │\n",
       "│ Nathalie     ┆ belindaroja ┆ fdixon      ┆ 53067010250 ┆ ( 820)913 - ┆ https://you ┆ null        │\n",
       "│ Sylla        ┆ s@yahoo.com ┆             ┆ 8           ┆ 3241x894    ┆ tu.be/rFD2l ┆             │\n",
       "│              ┆             ┆             ┆             ┆             ┆ Juvace      ┆             │\n",
       "│ Diego        ┆ kennethevan ┆ meyermichel ┆ 87567396753 ┆ ( 820)913 - ┆ https://www ┆ null        │\n",
       "│ Estrada      ┆ s@hotmail.c ┆ le          ┆ 7           ┆ 3241x894    ┆ .hall.biz/w ┆             │\n",
       "│              ┆ om          ┆             ┆             ┆             ┆ p-contenth… ┆             │\n",
       "│ Diego        ┆ agood@gmail ┆ jacob59     ┆ 86063271342 ┆ ( 820)913 - ┆ http://www. ┆ null        │\n",
       "│ Estrada      ┆ .com        ┆             ┆ 5           ┆ 3241x894    ┆ burns-lopez ┆             │\n",
       "│              ┆             ┆             ┆             ┆             ┆ .com/categ… ┆             │\n",
       "│ …            ┆ …           ┆ …           ┆ …           ┆ …           ┆ …           ┆ …           │\n",
       "│ Jose Luis    ┆ null        ┆ null        ┆ null        ┆ null        ┆ null        ┆ null        │\n",
       "│ Llamas       ┆             ┆             ┆             ┆             ┆             ┆             │\n",
       "│ Oscar        ┆ null        ┆ null        ┆ null        ┆ null        ┆ null        ┆ null        │\n",
       "│ Silvia       ┆ null        ┆ null        ┆ null        ┆ null        ┆ null        ┆ null        │\n",
       "│ Cervantes    ┆             ┆             ┆             ┆             ┆             ┆             │\n",
       "│ Carlos       ┆ null        ┆ null        ┆ null        ┆ null        ┆ null        ┆ null        │\n",
       "│ Hernandez    ┆             ┆             ┆             ┆             ┆             ┆             │\n",
       "│ Carlos       ┆ null        ┆ null        ┆ null        ┆ null        ┆ null        ┆ null        │\n",
       "│ Hernandez    ┆             ┆             ┆             ┆             ┆             ┆             │\n",
       "└──────────────┴─────────────┴─────────────┴─────────────┴─────────────┴─────────────┴─────────────┘"
      ]
     },
     "execution_count": 13,
     "metadata": {},
     "output_type": "execute_result"
    }
   ],
   "source": [
    "def tokens_to_entities(tokens, labels):\n",
    "    entities = []\n",
    "    entity = []\n",
    "    current_label = None\n",
    "    for token, label in zip(tokens, labels):\n",
    "        if label.startswith(\"B-\"):\n",
    "            # If there is an entity being built, add it to the entities list\n",
    "            if entity:\n",
    "                entities.append((\" \".join(entity), current_label))\n",
    "            # Start a new entity\n",
    "            entity = [token]\n",
    "            current_label = label[2:]  # Remove 'B-' from the label\n",
    "        elif label.startswith(\"I-\") and entity:\n",
    "            # If the entity is being built, add the token to the entity\n",
    "            entity.append(token)\n",
    "    # Add the last entity\n",
    "    if entity:\n",
    "        entities.append((\" \".join(entity), current_label))\n",
    "    return entities\n",
    "\n",
    "\n",
    "def make_token_df(data: pl.DataFrame) -> pl.DataFrame:\n",
    "    NAME_STUDENT_token = []\n",
    "    EMAIL_token = []\n",
    "    USERNAME_token = []\n",
    "    ID_NUM_token = []\n",
    "    PHONE_NUM_token = []\n",
    "    URL_PERSONAL_token = []\n",
    "    STREET_ADDRESS_token = []\n",
    "\n",
    "    all_labels = [\n",
    "        \"NAME_STUDENT\",\n",
    "        \"EMAIL\",\n",
    "        \"USERNAME\",\n",
    "        \"ID_NUM\",\n",
    "        \"PHONE_NUM\",\n",
    "        \"URL_PERSONAL\",\n",
    "        \"STREET_ADDRESS\",\n",
    "    ]\n",
    "\n",
    "    for tokens, labels in tqdm(zip(data[\"tokens\"], data[\"labels\"]), total=len(data)):\n",
    "        tokens_labels = tokens_to_entities(tokens, labels)\n",
    "        for token, label in tokens_labels:\n",
    "            if label == \"NAME_STUDENT\":\n",
    "                NAME_STUDENT_token.append(token)\n",
    "            elif label == \"EMAIL\":\n",
    "                EMAIL_token.append(token)\n",
    "            elif label == \"USERNAME\":\n",
    "                USERNAME_token.append(token)\n",
    "            elif label == \"ID_NUM\":\n",
    "                ID_NUM_token.append(token)\n",
    "            elif label == \"PHONE_NUM\":\n",
    "                PHONE_NUM_token.append(token)\n",
    "            elif label == \"URL_PERSONAL\":\n",
    "                URL_PERSONAL_token.append(token)\n",
    "            elif label == \"STREET_ADDRESS\":\n",
    "                STREET_ADDRESS_token.append(token)\n",
    "\n",
    "    max_len = max(\n",
    "        len(NAME_STUDENT_token),\n",
    "        len(EMAIL_token),\n",
    "        len(USERNAME_token),\n",
    "        len(ID_NUM_token),\n",
    "        len(PHONE_NUM_token),\n",
    "        len(URL_PERSONAL_token),\n",
    "        len(STREET_ADDRESS_token),\n",
    "    )\n",
    "\n",
    "    def pad_token(token: list[str]) -> list[str]:\n",
    "        return token + [None for _ in range(max_len - len(token))]\n",
    "\n",
    "    return pl.DataFrame(\n",
    "        [\n",
    "            pad_token(NAME_STUDENT_token),\n",
    "            pad_token(EMAIL_token),\n",
    "            pad_token(USERNAME_token),\n",
    "            pad_token(ID_NUM_token),\n",
    "            pad_token(PHONE_NUM_token),\n",
    "            pad_token(URL_PERSONAL_token),\n",
    "            pad_token(STREET_ADDRESS_token),\n",
    "        ],\n",
    "        orient=\"col\",\n",
    "        schema=all_labels,\n",
    "    )\n",
    "\n",
    "\n",
    "make_token_df(train)"
   ]
  },
  {
   "cell_type": "code",
   "execution_count": 14,
   "metadata": {},
   "outputs": [],
   "source": [
    "# from tqdm.auto import tqdm\n",
    "\n",
    "\n",
    "# def make_token_df(data: pl.DataFrame) -> pl.DataFrame:\n",
    "#     B_NAME_STUDENT_token = []\n",
    "#     I_NAME_STUDENT_token = []\n",
    "#     B_EMAIL_token = []\n",
    "#     I_EMAIL_token = []\n",
    "#     B_USERNAME_token = []\n",
    "#     I_USERNAME_token = []\n",
    "#     B_ID_NUM_token = []\n",
    "#     I_ID_NUM_token = []\n",
    "#     B_PHONE_NUM_token = []\n",
    "#     I_PHONE_NUM_token = []\n",
    "#     B_URL_PERSONAL_token = []\n",
    "#     I_URL_PERSONAL_token = []\n",
    "#     B_STREET_ADDRESS_token = []\n",
    "#     I_STREET_ADDRESS_token = []\n",
    "\n",
    "#     all_labels = [\n",
    "#         \"B-NAME_STUDENT\",\n",
    "#         \"I-NAME_STUDENT\",\n",
    "#         \"B-EMAIL\",\n",
    "#         \"I-EMAIL\",\n",
    "#         \"B-USERNAME\",\n",
    "#         \"I-USERNAME\",\n",
    "#         \"B-ID_NUM\",\n",
    "#         \"I-ID_NUM\",\n",
    "#         \"B-PHONE_NUM\",\n",
    "#         \"I-PHONE_NUM\",\n",
    "#         \"B-URL_PERSONAL\",\n",
    "#         \"I-URL_PERSONAL\",\n",
    "#         \"B-STREET_ADDRESS\",\n",
    "#         \"I-STREET_ADDRESS\",\n",
    "#     ]\n",
    "\n",
    "#     for tokens, labels in tqdm(zip(data[\"tokens\"], data[\"labels\"]), total=len(data)):\n",
    "#         for token, label in zip(tokens, labels):\n",
    "#             if label == \"B-NAME_STUDENT\":\n",
    "#                 B_NAME_STUDENT_token.append(token)\n",
    "#             elif label == \"I-NAME_STUDENT\":\n",
    "#                 I_NAME_STUDENT_token.append(token)\n",
    "#             elif label == \"B-EMAIL\":\n",
    "#                 B_EMAIL_token.append(token)\n",
    "#             elif label == \"I-EMAIL\":\n",
    "#                 I_EMAIL_token.append(token)\n",
    "#             elif label == \"B-USERNAME\":\n",
    "#                 B_USERNAME_token.append(token)\n",
    "#             elif label == \"I-USERNAME\":\n",
    "#                 I_USERNAME_token.append(token)\n",
    "#             elif label == \"B-ID_NUM\":\n",
    "#                 B_ID_NUM_token.append(token)\n",
    "#             elif label == \"I-ID_NUM\":\n",
    "#                 I_ID_NUM_token.append(token)\n",
    "#             elif label == \"B-PHONE_NUM\":\n",
    "#                 B_PHONE_NUM_token.append(token)\n",
    "#             elif label == \"I-PHONE_NUM\":\n",
    "#                 I_PHONE_NUM_token.append(token)\n",
    "#             elif label == \"B-URL_PERSONAL\":\n",
    "#                 B_URL_PERSONAL_token.append(token)\n",
    "#             elif label == \"I-URL_PERSONAL\":\n",
    "#                 I_URL_PERSONAL_token.append(token)\n",
    "#             elif label == \"B-STREET_ADDRESS\":\n",
    "#                 B_STREET_ADDRESS_token.append(token)\n",
    "#             elif label == \"I-STREET_ADDRESS\":\n",
    "#                 I_STREET_ADDRESS_token.append(token)\n",
    "\n",
    "#     max_len = max(\n",
    "#         len(B_NAME_STUDENT_token),\n",
    "#         len(I_NAME_STUDENT_token),\n",
    "#         len(B_EMAIL_token),\n",
    "#         len(I_EMAIL_token),\n",
    "#         len(B_USERNAME_token),\n",
    "#         len(I_USERNAME_token),\n",
    "#         len(B_ID_NUM_token),\n",
    "#         len(I_ID_NUM_token),\n",
    "#         len(B_PHONE_NUM_token),\n",
    "#         len(I_PHONE_NUM_token),\n",
    "#         len(B_URL_PERSONAL_token),\n",
    "#         len(I_URL_PERSONAL_token),\n",
    "#         len(B_STREET_ADDRESS_token),\n",
    "#         len(I_STREET_ADDRESS_token),\n",
    "#     )\n",
    "\n",
    "#     def pad_token(token: list[str]) -> list[str]:\n",
    "#         return token + [None for _ in range(max_len - len(token))]\n",
    "\n",
    "#     return pl.DataFrame(\n",
    "#         [\n",
    "#             pad_token(B_NAME_STUDENT_token),\n",
    "#             pad_token(I_NAME_STUDENT_token),\n",
    "#             pad_token(B_EMAIL_token),\n",
    "#             pad_token(I_EMAIL_token),\n",
    "#             pad_token(B_USERNAME_token),\n",
    "#             pad_token(I_USERNAME_token),\n",
    "#             pad_token(B_ID_NUM_token),\n",
    "#             pad_token(I_ID_NUM_token),\n",
    "#             pad_token(B_PHONE_NUM_token),\n",
    "#             pad_token(I_PHONE_NUM_token),\n",
    "#             pad_token(B_URL_PERSONAL_token),\n",
    "#             pad_token(I_URL_PERSONAL_token),\n",
    "#             pad_token(B_STREET_ADDRESS_token),\n",
    "#             pad_token(I_STREET_ADDRESS_token),\n",
    "#         ],\n",
    "#         orient=\"col\",\n",
    "#         schema=all_labels,\n",
    "#     )"
   ]
  },
  {
   "cell_type": "code",
   "execution_count": 15,
   "metadata": {},
   "outputs": [
    {
     "name": "stderr",
     "output_type": "stream",
     "text": [
      "100%|██████████| 6807/6807 [00:01<00:00, 5614.92it/s]\n"
     ]
    }
   ],
   "source": [
    "train_token_df = make_token_df(train)"
   ]
  },
  {
   "cell_type": "code",
   "execution_count": 16,
   "metadata": {},
   "outputs": [
    {
     "name": "stderr",
     "output_type": "stream",
     "text": [
      "100%|██████████| 2000/2000 [00:00<00:00, 7174.79it/s]\n"
     ]
    }
   ],
   "source": [
    "moredata_token_df = make_token_df(moredata)\n",
    "moredata_token_df.columns = [\n",
    "    \"more_\" + col_name for col_name in moredata_token_df.columns\n",
    "]"
   ]
  },
  {
   "cell_type": "code",
   "execution_count": 17,
   "metadata": {},
   "outputs": [
    {
     "name": "stderr",
     "output_type": "stream",
     "text": [
      "100%|██████████| 4434/4434 [00:00<00:00, 10710.15it/s]\n"
     ]
    }
   ],
   "source": [
    "pii_dataset_token_df = make_token_df(pii_dataset)\n",
    "pii_dataset_token_df.columns = [\n",
    "    \"pii_\" + col_name for col_name in pii_dataset_token_df.columns\n",
    "]"
   ]
  },
  {
   "cell_type": "code",
   "execution_count": 18,
   "metadata": {},
   "outputs": [
    {
     "name": "stderr",
     "output_type": "stream",
     "text": [
      "100%|██████████| 2355/2355 [00:00<00:00, 4587.99it/s]\n"
     ]
    }
   ],
   "source": [
    "mixtral_token_df = make_token_df(mixtral)\n",
    "mixtral_token_df.columns = [\n",
    "    \"mixtral_\" + col_name for col_name in mixtral_token_df.columns\n",
    "]"
   ]
  },
  {
   "cell_type": "code",
   "execution_count": 19,
   "metadata": {},
   "outputs": [],
   "source": [
    "token_df = pl.concat(\n",
    "    [train_token_df, moredata_token_df, pii_dataset_token_df, mixtral_token_df],\n",
    "    how=\"horizontal\",\n",
    ")"
   ]
  },
  {
   "cell_type": "code",
   "execution_count": 20,
   "metadata": {},
   "outputs": [],
   "source": [
    "token_df_column = []\n",
    "for train_token, modedata_token, pii_dataset_token, mixtral_token in zip(\n",
    "    train_token_df.columns,\n",
    "    moredata_token_df.columns,\n",
    "    pii_dataset_token_df.columns,\n",
    "    mixtral_token_df.columns,\n",
    "):\n",
    "    token_df_column.append(train_token)\n",
    "    token_df_column.append(modedata_token)\n",
    "    token_df_column.append(pii_dataset_token)\n",
    "    token_df_column.append(mixtral_token)"
   ]
  },
  {
   "cell_type": "code",
   "execution_count": 21,
   "metadata": {},
   "outputs": [],
   "source": [
    "# 並び替え\n",
    "token_df[token_df_column].write_csv(\"output/concat_token_df_with_mixtral.csv\")"
   ]
  },
  {
   "cell_type": "code",
   "execution_count": 22,
   "metadata": {},
   "outputs": [
    {
     "data": {
      "text/html": [
       "<div><style>\n",
       ".dataframe > thead > tr,\n",
       ".dataframe > tbody > tr {\n",
       "  text-align: right;\n",
       "  white-space: pre-wrap;\n",
       "}\n",
       "</style>\n",
       "<small>shape: (1_365, 7)</small><table border=\"1\" class=\"dataframe\"><thead><tr><th>NAME_STUDENT</th><th>EMAIL</th><th>USERNAME</th><th>ID_NUM</th><th>PHONE_NUM</th><th>URL_PERSONAL</th><th>STREET_ADDRESS</th></tr><tr><td>str</td><td>str</td><td>str</td><td>str</td><td>str</td><td>str</td><td>str</td></tr></thead><tbody><tr><td>&quot;Nathalie Sylla…</td><td>&quot;djones@gmail.c…</td><td>&quot;castanedagabri…</td><td>&quot;860632713425&quot;</td><td>&quot;( 320)202 - 06…</td><td>&quot;https://www.ja…</td><td>&quot;591 Smith Cent…</td></tr><tr><td>&quot;Nathalie Sylla…</td><td>&quot;matthew72@hotm…</td><td>&quot;fdixon&quot;</td><td>&quot;530670102508&quot;</td><td>&quot;( 223)392 - 27…</td><td>&quot;https://www.li…</td><td>&quot;743 Erika Bypa…</td></tr><tr><td>&quot;Nathalie Sylla…</td><td>&quot;belindarojas@y…</td><td>&quot;fdixon&quot;</td><td>&quot;530670102508&quot;</td><td>&quot;( 820)913 - 32…</td><td>&quot;https://youtu.…</td><td>null</td></tr><tr><td>&quot;Diego Estrada&quot;</td><td>&quot;kennethevans@h…</td><td>&quot;meyermichelle&quot;</td><td>&quot;875673967537&quot;</td><td>&quot;( 820)913 - 32…</td><td>&quot;https://www.ha…</td><td>null</td></tr><tr><td>&quot;Diego Estrada&quot;</td><td>&quot;agood@gmail.co…</td><td>&quot;jacob59&quot;</td><td>&quot;860632713425&quot;</td><td>&quot;( 820)913 - 32…</td><td>&quot;http://www.bur…</td><td>null</td></tr><tr><td>&quot;Gilberto Gambo…</td><td>&quot;agood@gmail.co…</td><td>&quot;holmespatrick&quot;</td><td>&quot;557349702179&quot;</td><td>&quot;410.526.1667&quot;</td><td>&quot;http://jacobs-…</td><td>null</td></tr><tr><td>&quot;Sindy Samaca&quot;</td><td>&quot;hwillis@gmail.…</td><td>null</td><td>&quot;784372734211&quot;</td><td>null</td><td>&quot;https://www.yo…</td><td>null</td></tr><tr><td>&quot;Nadine Born&quot;</td><td>&quot;kellyharrison@…</td><td>null</td><td>&quot;054176622314&quot;</td><td>null</td><td>&quot;tps://www.face…</td><td>null</td></tr><tr><td>&quot;Eladio Amaya&quot;</td><td>&quot;kellyharrison@…</td><td>null</td><td>&quot;674915248960&quot;</td><td>null</td><td>&quot;https://www.yo…</td><td>null</td></tr><tr><td>&quot;Silvia Villalo…</td><td>&quot;lowetyler@hotm…</td><td>null</td><td>&quot;932353568953&quot;</td><td>null</td><td>&quot;https://oconne…</td><td>null</td></tr><tr><td>&quot;Sakir Ahmad&quot;</td><td>&quot;murraythomas@g…</td><td>null</td><td>&quot;982645662261&quot;</td><td>null</td><td>&quot;https://www.pe…</td><td>null</td></tr><tr><td>&quot;Francisco Ferr…</td><td>&quot;vmartinez@hotm…</td><td>null</td><td>&quot;409046248321&quot;</td><td>null</td><td>&quot;https://diaz.c…</td><td>null</td></tr><tr><td>&hellip;</td><td>&hellip;</td><td>&hellip;</td><td>&hellip;</td><td>&hellip;</td><td>&hellip;</td><td>&hellip;</td></tr><tr><td>&quot;Alina Ijaz&quot;</td><td>null</td><td>null</td><td>null</td><td>null</td><td>null</td><td>null</td></tr><tr><td>&quot;Hersh Guerrero…</td><td>null</td><td>null</td><td>null</td><td>null</td><td>null</td><td>null</td></tr><tr><td>&quot;Robert Walsh&quot;</td><td>null</td><td>null</td><td>null</td><td>null</td><td>null</td><td>null</td></tr><tr><td>&quot;Said Catania&quot;</td><td>null</td><td>null</td><td>null</td><td>null</td><td>null</td><td>null</td></tr><tr><td>&quot;Brittany Jacks…</td><td>null</td><td>null</td><td>null</td><td>null</td><td>null</td><td>null</td></tr><tr><td>&quot;Gopal Kumar&quot;</td><td>null</td><td>null</td><td>null</td><td>null</td><td>null</td><td>null</td></tr><tr><td>&quot;Jose Luis Llam…</td><td>null</td><td>null</td><td>null</td><td>null</td><td>null</td><td>null</td></tr><tr><td>&quot;Jose Luis Llam…</td><td>null</td><td>null</td><td>null</td><td>null</td><td>null</td><td>null</td></tr><tr><td>&quot;Oscar&quot;</td><td>null</td><td>null</td><td>null</td><td>null</td><td>null</td><td>null</td></tr><tr><td>&quot;Silvia Cervant…</td><td>null</td><td>null</td><td>null</td><td>null</td><td>null</td><td>null</td></tr><tr><td>&quot;Carlos Hernand…</td><td>null</td><td>null</td><td>null</td><td>null</td><td>null</td><td>null</td></tr><tr><td>&quot;Carlos Hernand…</td><td>null</td><td>null</td><td>null</td><td>null</td><td>null</td><td>null</td></tr></tbody></table></div>"
      ],
      "text/plain": [
       "shape: (1_365, 7)\n",
       "┌──────────────┬─────────────┬─────────────┬─────────────┬─────────────┬─────────────┬─────────────┐\n",
       "│ NAME_STUDENT ┆ EMAIL       ┆ USERNAME    ┆ ID_NUM      ┆ PHONE_NUM   ┆ URL_PERSONA ┆ STREET_ADDR │\n",
       "│ ---          ┆ ---         ┆ ---         ┆ ---         ┆ ---         ┆ L           ┆ ESS         │\n",
       "│ str          ┆ str         ┆ str         ┆ str         ┆ str         ┆ ---         ┆ ---         │\n",
       "│              ┆             ┆             ┆             ┆             ┆ str         ┆ str         │\n",
       "╞══════════════╪═════════════╪═════════════╪═════════════╪═════════════╪═════════════╪═════════════╡\n",
       "│ Nathalie     ┆ djones@gmai ┆ castanedaga ┆ 86063271342 ┆ ( 320)202 - ┆ https://www ┆ 591 Smith   │\n",
       "│ Sylla        ┆ l.com       ┆ briel       ┆ 5           ┆ 0688x95843  ┆ .jackson.co ┆ Centers Apt │\n",
       "│              ┆             ┆             ┆             ┆             ┆ m/list/exp… ┆ . 656       │\n",
       "│              ┆             ┆             ┆             ┆             ┆             ┆  Jo…        │\n",
       "│ Nathalie     ┆ matthew72@h ┆ fdixon      ┆ 53067010250 ┆ ( 223)392 - ┆ https://www ┆ 743 Erika   │\n",
       "│ Sylla        ┆ otmail.com  ┆             ┆ 8           ┆ 2765        ┆ .linkedin.c ┆ Bypass Apt  │\n",
       "│              ┆             ┆             ┆             ┆             ┆ om/in/mmar… ┆ . 419       │\n",
       "│              ┆             ┆             ┆             ┆             ┆             ┆  And…       │\n",
       "│ Nathalie     ┆ belindaroja ┆ fdixon      ┆ 53067010250 ┆ ( 820)913 - ┆ https://you ┆ null        │\n",
       "│ Sylla        ┆ s@yahoo.com ┆             ┆ 8           ┆ 3241x894    ┆ tu.be/rFD2l ┆             │\n",
       "│              ┆             ┆             ┆             ┆             ┆ Juvace      ┆             │\n",
       "│ Diego        ┆ kennethevan ┆ meyermichel ┆ 87567396753 ┆ ( 820)913 - ┆ https://www ┆ null        │\n",
       "│ Estrada      ┆ s@hotmail.c ┆ le          ┆ 7           ┆ 3241x894    ┆ .hall.biz/w ┆             │\n",
       "│              ┆ om          ┆             ┆             ┆             ┆ p-contenth… ┆             │\n",
       "│ Diego        ┆ agood@gmail ┆ jacob59     ┆ 86063271342 ┆ ( 820)913 - ┆ http://www. ┆ null        │\n",
       "│ Estrada      ┆ .com        ┆             ┆ 5           ┆ 3241x894    ┆ burns-lopez ┆             │\n",
       "│              ┆             ┆             ┆             ┆             ┆ .com/categ… ┆             │\n",
       "│ …            ┆ …           ┆ …           ┆ …           ┆ …           ┆ …           ┆ …           │\n",
       "│ Jose Luis    ┆ null        ┆ null        ┆ null        ┆ null        ┆ null        ┆ null        │\n",
       "│ Llamas       ┆             ┆             ┆             ┆             ┆             ┆             │\n",
       "│ Oscar        ┆ null        ┆ null        ┆ null        ┆ null        ┆ null        ┆ null        │\n",
       "│ Silvia       ┆ null        ┆ null        ┆ null        ┆ null        ┆ null        ┆ null        │\n",
       "│ Cervantes    ┆             ┆             ┆             ┆             ┆             ┆             │\n",
       "│ Carlos       ┆ null        ┆ null        ┆ null        ┆ null        ┆ null        ┆ null        │\n",
       "│ Hernandez    ┆             ┆             ┆             ┆             ┆             ┆             │\n",
       "│ Carlos       ┆ null        ┆ null        ┆ null        ┆ null        ┆ null        ┆ null        │\n",
       "│ Hernandez    ┆             ┆             ┆             ┆             ┆             ┆             │\n",
       "└──────────────┴─────────────┴─────────────┴─────────────┴─────────────┴─────────────┴─────────────┘"
      ]
     },
     "execution_count": 22,
     "metadata": {},
     "output_type": "execute_result"
    }
   ],
   "source": [
    "train_token_df"
   ]
  },
  {
   "cell_type": "code",
   "execution_count": null,
   "metadata": {},
   "outputs": [],
   "source": []
  }
 ],
 "metadata": {
  "kernelspec": {
   "display_name": ".venv",
   "language": "python",
   "name": "python3"
  },
  "language_info": {
   "codemirror_mode": {
    "name": "ipython",
    "version": 3
   },
   "file_extension": ".py",
   "mimetype": "text/x-python",
   "name": "python",
   "nbconvert_exporter": "python",
   "pygments_lexer": "ipython3",
   "version": "3.12.1"
  }
 },
 "nbformat": 4,
 "nbformat_minor": 2
}
