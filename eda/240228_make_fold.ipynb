{
 "cells": [
  {
   "cell_type": "code",
   "execution_count": 35,
   "metadata": {},
   "outputs": [],
   "source": [
    "import polars as pl"
   ]
  },
  {
   "cell_type": "code",
   "execution_count": 36,
   "metadata": {},
   "outputs": [
    {
     "data": {
      "text/html": [
       "<div><style>\n",
       ".dataframe > thead > tr,\n",
       ".dataframe > tbody > tr {\n",
       "  text-align: right;\n",
       "  white-space: pre-wrap;\n",
       "}\n",
       "</style>\n",
       "<small>shape: (5, 5)</small><table border=\"1\" class=\"dataframe\"><thead><tr><th>document</th><th>full_text</th><th>tokens</th><th>trailing_whitespace</th><th>labels</th></tr><tr><td>i64</td><td>str</td><td>list[str]</td><td>list[bool]</td><td>list[str]</td></tr></thead><tbody><tr><td>7</td><td>&quot;Design Thinking for innovation reflexion-Avril 2021-Nathalie Sylla\n",
       "\n",
       "Challenge &amp; selection\n",
       "\n",
       "The tool…</td><td>[&quot;Design&quot;, &quot;Thinking&quot;, … &quot;\n",
       "\n",
       "&quot;]</td><td>[true, true, … false]</td><td>[&quot;O&quot;, &quot;O&quot;, … &quot;O&quot;]</td></tr><tr><td>10</td><td>&quot;Diego Estrada\n",
       "\n",
       "Design Thinking Assignment\n",
       "\n",
       "Visualization Tool\n",
       "\n",
       "Challenge &amp; Selection\n",
       "\n",
       "The elderly w…</td><td>[&quot;Diego&quot;, &quot;Estrada&quot;, … &quot;\n",
       "\n",
       "&quot;]</td><td>[true, false, … false]</td><td>[&quot;B-NAME_STUDENT&quot;, &quot;I-NAME_STUDENT&quot;, … &quot;O&quot;]</td></tr><tr><td>16</td><td>&quot;Reporting process\n",
       "\n",
       "by Gilberto Gamboa\n",
       "\n",
       "Challenge\n",
       "\n",
       "I received a promotion of being the Regional Cont…</td><td>[&quot;Reporting&quot;, &quot;process&quot;, … &quot;\n",
       "\n",
       "&quot;]</td><td>[true, false, … false]</td><td>[&quot;O&quot;, &quot;O&quot;, … &quot;O&quot;]</td></tr><tr><td>20</td><td>&quot;Design Thinking for Innovation\n",
       "\n",
       "Sindy Samaca\n",
       "\n",
       "Gitam University\n",
       "\n",
       "December,  2021\n",
       "\n",
       "Challenge\n",
       "\n",
       "My chal…</td><td>[&quot;Design&quot;, &quot;Thinking&quot;, … &quot;\n",
       "\n",
       "&quot;]</td><td>[true, true, … false]</td><td>[&quot;O&quot;, &quot;O&quot;, … &quot;O&quot;]</td></tr><tr><td>56</td><td>&quot;Assignment:  Visualization Reflection  Submitted by: Nadine Born  Course:  Design Thinking for Inno…</td><td>[&quot;Assignment&quot;, &quot;:&quot;, … &quot;\n",
       "\n",
       "&quot;]</td><td>[false, false, … false]</td><td>[&quot;O&quot;, &quot;O&quot;, … &quot;O&quot;]</td></tr></tbody></table></div>"
      ],
      "text/plain": [
       "shape: (5, 5)\n",
       "┌──────────┬─────────────────────┬─────────────────────┬─────────────────────┬─────────────────────┐\n",
       "│ document ┆ full_text           ┆ tokens              ┆ trailing_whitespace ┆ labels              │\n",
       "│ ---      ┆ ---                 ┆ ---                 ┆ ---                 ┆ ---                 │\n",
       "│ i64      ┆ str                 ┆ list[str]           ┆ list[bool]          ┆ list[str]           │\n",
       "╞══════════╪═════════════════════╪═════════════════════╪═════════════════════╪═════════════════════╡\n",
       "│ 7        ┆ Design Thinking for ┆ [\"Design\",          ┆ [true, true, …      ┆ [\"O\", \"O\", … \"O\"]   │\n",
       "│          ┆ innovation          ┆ \"Thinking\", … \"     ┆ false]              ┆                     │\n",
       "│          ┆ reflexion-Avril     ┆                     ┆                     ┆                     │\n",
       "│          ┆ 2021-Nathalie Sylla ┆ \"]                  ┆                     ┆                     │\n",
       "│          ┆                     ┆                     ┆                     ┆                     │\n",
       "│          ┆ Challenge &         ┆                     ┆                     ┆                     │\n",
       "│          ┆ selection           ┆                     ┆                     ┆                     │\n",
       "│          ┆                     ┆                     ┆                     ┆                     │\n",
       "│          ┆ The tool …          ┆                     ┆                     ┆                     │\n",
       "│ 10       ┆ Diego Estrada       ┆ [\"Diego\",           ┆ [true, false, …     ┆ [\"B-NAME_STUDENT\",  │\n",
       "│          ┆                     ┆ \"Estrada\", … \"      ┆ false]              ┆ \"I-NAME_STUDENT\", … │\n",
       "│          ┆ Design Thinking     ┆                     ┆                     ┆ \"O\"]                │\n",
       "│          ┆ Assignment          ┆ \"]                  ┆                     ┆                     │\n",
       "│          ┆                     ┆                     ┆                     ┆                     │\n",
       "│          ┆ Visualization Tool  ┆                     ┆                     ┆                     │\n",
       "│          ┆                     ┆                     ┆                     ┆                     │\n",
       "│          ┆ Challenge &         ┆                     ┆                     ┆                     │\n",
       "│          ┆ Selection           ┆                     ┆                     ┆                     │\n",
       "│          ┆                     ┆                     ┆                     ┆                     │\n",
       "│          ┆ The elderly we…     ┆                     ┆                     ┆                     │\n",
       "│ 16       ┆ Reporting process   ┆ [\"Reporting\",       ┆ [true, false, …     ┆ [\"O\", \"O\", … \"O\"]   │\n",
       "│          ┆                     ┆ \"process\", … \"      ┆ false]              ┆                     │\n",
       "│          ┆ by Gilberto Gamboa  ┆                     ┆                     ┆                     │\n",
       "│          ┆                     ┆ \"]                  ┆                     ┆                     │\n",
       "│          ┆ Challenge           ┆                     ┆                     ┆                     │\n",
       "│          ┆                     ┆                     ┆                     ┆                     │\n",
       "│          ┆ I received a        ┆                     ┆                     ┆                     │\n",
       "│          ┆ promotion of being  ┆                     ┆                     ┆                     │\n",
       "│          ┆ the Regional Contr… ┆                     ┆                     ┆                     │\n",
       "│ 20       ┆ Design Thinking for ┆ [\"Design\",          ┆ [true, true, …      ┆ [\"O\", \"O\", … \"O\"]   │\n",
       "│          ┆ Innovation          ┆ \"Thinking\", … \"     ┆ false]              ┆                     │\n",
       "│          ┆                     ┆                     ┆                     ┆                     │\n",
       "│          ┆ Sindy Samaca        ┆ \"]                  ┆                     ┆                     │\n",
       "│          ┆                     ┆                     ┆                     ┆                     │\n",
       "│          ┆ Gitam University    ┆                     ┆                     ┆                     │\n",
       "│          ┆                     ┆                     ┆                     ┆                     │\n",
       "│          ┆ December,  2021     ┆                     ┆                     ┆                     │\n",
       "│          ┆                     ┆                     ┆                     ┆                     │\n",
       "│          ┆ Challenge           ┆                     ┆                     ┆                     │\n",
       "│          ┆                     ┆                     ┆                     ┆                     │\n",
       "│          ┆ My chall…           ┆                     ┆                     ┆                     │\n",
       "│ 56       ┆ Assignment:  Visual ┆ [\"Assignment\", \":\", ┆ [false, false, …    ┆ [\"O\", \"O\", … \"O\"]   │\n",
       "│          ┆ ization Reflection  ┆ … \"                 ┆ false]              ┆                     │\n",
       "│          ┆ Submitted by: Nadin ┆                     ┆                     ┆                     │\n",
       "│          ┆ e Born  Course:     ┆ \"]                  ┆                     ┆                     │\n",
       "│          ┆ Design Thinking for ┆                     ┆                     ┆                     │\n",
       "│          ┆  Innov…             ┆                     ┆                     ┆                     │\n",
       "└──────────┴─────────────────────┴─────────────────────┴─────────────────────┴─────────────────────┘"
      ]
     },
     "execution_count": 36,
     "metadata": {},
     "output_type": "execute_result"
    }
   ],
   "source": [
    "train = pl.read_json(\"..//data/train.json\")\n",
    "train.head()"
   ]
  },
  {
   "cell_type": "code",
   "execution_count": 37,
   "metadata": {},
   "outputs": [],
   "source": [
    "def get_has_label_seq(label: list[str]) -> str:\n",
    "    # labelをuniqueにしてソート\n",
    "    label_set = set(label)\n",
    "    has_b_name_student = int(\"B-NAME_STUDENT\" in label_set)\n",
    "    has_i_name_student = int(\"I-NAME_STUDENT\" in label_set)\n",
    "    has_b_email = int(\"B-EMAIL\" in label_set)\n",
    "    has_i_email = int(\"I-EMAIL\" in label_set)\n",
    "    has_b_username = int(\"B-USERNAME\" in label_set)\n",
    "    has_i_username = int(\"I-USERNAME\" in label_set)\n",
    "    has_b_id_num = int(\"B-ID_NUM\" in label_set)\n",
    "    has_i_id_num = int(\"I-ID_NUM\" in label_set)\n",
    "    has_b_phone_num = int(\"B-PHONE_NUM\" in label_set)\n",
    "    has_i_phone_num = int(\"I-PHONE_NUM\" in label_set)\n",
    "    has_b_url_personal = int(\"B-URL_PERSONAL\" in label_set)\n",
    "    has_i_url_personal = int(\"I-URL_PERSONAL\" in label_set)\n",
    "    has_b_street_address = int(\"B-STREET_ADDRESS\" in label_set)\n",
    "    has_i_street_address = int(\"I-STREET_ADDRESS\" in label_set)\n",
    "\n",
    "    output_label = f\"{has_b_name_student}_{has_i_name_student}_{has_b_email}_{has_i_email}_{has_b_username}_{has_i_username}_{has_b_id_num}_{has_i_id_num}_{has_b_phone_num}_{has_i_phone_num}_{has_b_url_personal}_{has_i_url_personal}_{has_b_street_address}_{has_i_street_address}\"\n",
    "\n",
    "    # 1件しかないデータはOtherとして扱う\n",
    "    if (\n",
    "        output_label == \"1_1_0_0_0_0_0_0_0_0_1_1_0_0\"\n",
    "        or output_label == \"0_0_1_0_0_0_0_0_1_1_0_0_0_0\"\n",
    "        or output_label == \"1_1_0_0_1_0_0_0_0_0_0_0_0_0\"\n",
    "        or output_label == \"1_1_1_0_1_0_0_0_0_0_0_0_0_0\"\n",
    "        or output_label == \"1_1_1_0_0_0_1_0_0_0_0_0_0_0\"\n",
    "        or output_label == \"1_1_0_0_0_0_0_0_1_0_1_0_1_1\"\n",
    "        or output_label == \"0_0_1_0_0_0_0_0_0_0_1_0_0_0\"\n",
    "        or output_label == \"0_0_0_0_0_0_0_0_0_0_0_0_1_1\"\n",
    "        or output_label == \"0_0_0_0_0_0_1_1_0_0_0_0_0_0\"\n",
    "    ):\n",
    "        output_label = \"Other\"\n",
    "\n",
    "    return output_label"
   ]
  },
  {
   "cell_type": "code",
   "execution_count": 38,
   "metadata": {},
   "outputs": [
    {
     "data": {
      "text/plain": [
       "polars.config.Config"
      ]
     },
     "execution_count": 38,
     "metadata": {},
     "output_type": "execute_result"
    }
   ],
   "source": [
    "# 文字列の表示制限を増やす\n",
    "pl.Config.set_fmt_str_lengths(n=100)"
   ]
  },
  {
   "cell_type": "code",
   "execution_count": 39,
   "metadata": {},
   "outputs": [],
   "source": [
    "train = train.with_columns(\n",
    "    pl.col(\"labels\").map_elements(get_has_label_seq).alias(\"pattern\")\n",
    ")"
   ]
  },
  {
   "cell_type": "code",
   "execution_count": 40,
   "metadata": {},
   "outputs": [
    {
     "data": {
      "text/html": [
       "<div><style>\n",
       ".dataframe > thead > tr,\n",
       ".dataframe > tbody > tr {\n",
       "  text-align: right;\n",
       "  white-space: pre-wrap;\n",
       "}\n",
       "</style>\n",
       "<small>shape: (14, 2)</small><table border=\"1\" class=\"dataframe\"><thead><tr><th>pattern</th><th>count</th></tr><tr><td>str</td><td>u32</td></tr></thead><tbody><tr><td>&quot;0_0_0_0_0_0_0_0_0_0_0_0_0_0&quot;</td><td>5862</td></tr><tr><td>&quot;1_1_0_0_0_0_0_0_0_0_0_0_0_0&quot;</td><td>743</td></tr><tr><td>&quot;1_0_0_0_0_0_0_0_0_0_0_0_0_0&quot;</td><td>74</td></tr><tr><td>&quot;0_0_0_0_0_0_0_0_0_0_1_0_0_0&quot;</td><td>40</td></tr><tr><td>&quot;1_1_0_0_0_0_0_0_0_0_1_0_0_0&quot;</td><td>25</td></tr><tr><td>&quot;1_1_0_0_0_0_1_0_0_0_0_0_0_0&quot;</td><td>23</td></tr><tr><td>&quot;1_1_1_0_0_0_0_0_0_0_0_0_0_0&quot;</td><td>12</td></tr><tr><td>&quot;Other&quot;</td><td>9</td></tr><tr><td>&quot;0_0_0_0_0_0_1_0_0_0_0_0_0_0&quot;</td><td>5</td></tr><tr><td>&quot;1_1_1_0_0_0_0_0_0_0_1_0_0_0&quot;</td><td>4</td></tr><tr><td>&quot;0_0_0_0_1_0_0_0_0_0_0_0_0_0&quot;</td><td>3</td></tr><tr><td>&quot;1_0_0_0_0_0_1_0_0_0_0_0_0_0&quot;</td><td>3</td></tr><tr><td>&quot;1_1_1_0_0_0_0_0_1_1_0_0_0_0&quot;</td><td>2</td></tr><tr><td>&quot;0_0_1_0_0_0_0_0_0_0_0_0_0_0&quot;</td><td>2</td></tr></tbody></table></div>"
      ],
      "text/plain": [
       "shape: (14, 2)\n",
       "┌─────────────────────────────┬───────┐\n",
       "│ pattern                     ┆ count │\n",
       "│ ---                         ┆ ---   │\n",
       "│ str                         ┆ u32   │\n",
       "╞═════════════════════════════╪═══════╡\n",
       "│ 0_0_0_0_0_0_0_0_0_0_0_0_0_0 ┆ 5862  │\n",
       "│ 1_1_0_0_0_0_0_0_0_0_0_0_0_0 ┆ 743   │\n",
       "│ 1_0_0_0_0_0_0_0_0_0_0_0_0_0 ┆ 74    │\n",
       "│ 0_0_0_0_0_0_0_0_0_0_1_0_0_0 ┆ 40    │\n",
       "│ 1_1_0_0_0_0_0_0_0_0_1_0_0_0 ┆ 25    │\n",
       "│ …                           ┆ …     │\n",
       "│ 1_1_1_0_0_0_0_0_0_0_1_0_0_0 ┆ 4     │\n",
       "│ 0_0_0_0_1_0_0_0_0_0_0_0_0_0 ┆ 3     │\n",
       "│ 1_0_0_0_0_0_1_0_0_0_0_0_0_0 ┆ 3     │\n",
       "│ 1_1_1_0_0_0_0_0_1_1_0_0_0_0 ┆ 2     │\n",
       "│ 0_0_1_0_0_0_0_0_0_0_0_0_0_0 ┆ 2     │\n",
       "└─────────────────────────────┴───────┘"
      ]
     },
     "execution_count": 40,
     "metadata": {},
     "output_type": "execute_result"
    }
   ],
   "source": [
    "train.get_column(\"pattern\").value_counts(sort=True)"
   ]
  },
  {
   "cell_type": "code",
   "execution_count": 41,
   "metadata": {},
   "outputs": [],
   "source": [
    "document_pattern_dict = dict(zip(train[\"document\"], train[\"pattern\"]))"
   ]
  },
  {
   "cell_type": "code",
   "execution_count": 42,
   "metadata": {},
   "outputs": [],
   "source": [
    "import json\n",
    "\n",
    "with open(\"../data/document_pattern_dict.json\", \"w\") as f:\n",
    "    json.dump(document_pattern_dict, f)"
   ]
  },
  {
   "cell_type": "code",
   "execution_count": null,
   "metadata": {},
   "outputs": [],
   "source": []
  }
 ],
 "metadata": {
  "kernelspec": {
   "display_name": ".venv",
   "language": "python",
   "name": "python3"
  },
  "language_info": {
   "codemirror_mode": {
    "name": "ipython",
    "version": 3
   },
   "file_extension": ".py",
   "mimetype": "text/x-python",
   "name": "python",
   "nbconvert_exporter": "python",
   "pygments_lexer": "ipython3",
   "version": "3.12.1"
  }
 },
 "nbformat": 4,
 "nbformat_minor": 2
}
