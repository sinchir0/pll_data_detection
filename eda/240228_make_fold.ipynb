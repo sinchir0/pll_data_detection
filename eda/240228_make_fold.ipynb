{
 "cells": [
  {
   "cell_type": "code",
   "execution_count": 1,
   "metadata": {},
   "outputs": [],
   "source": [
    "import polars as pl"
   ]
  },
  {
   "cell_type": "code",
   "execution_count": 2,
   "metadata": {},
   "outputs": [
    {
     "data": {
      "text/html": [
       "<div><style>\n",
       ".dataframe > thead > tr,\n",
       ".dataframe > tbody > tr {\n",
       "  text-align: right;\n",
       "  white-space: pre-wrap;\n",
       "}\n",
       "</style>\n",
       "<small>shape: (5, 5)</small><table border=\"1\" class=\"dataframe\"><thead><tr><th>document</th><th>full_text</th><th>tokens</th><th>trailing_whitespace</th><th>labels</th></tr><tr><td>i64</td><td>str</td><td>list[str]</td><td>list[bool]</td><td>list[str]</td></tr></thead><tbody><tr><td>7</td><td>&quot;Design Thinkin…</td><td>[&quot;Design&quot;, &quot;Thinking&quot;, … &quot;\n",
       "\n",
       "&quot;]</td><td>[true, true, … false]</td><td>[&quot;O&quot;, &quot;O&quot;, … &quot;O&quot;]</td></tr><tr><td>10</td><td>&quot;Diego Estrada\n",
       "…</td><td>[&quot;Diego&quot;, &quot;Estrada&quot;, … &quot;\n",
       "\n",
       "&quot;]</td><td>[true, false, … false]</td><td>[&quot;B-NAME_STUDENT&quot;, &quot;I-NAME_STUDENT&quot;, … &quot;O&quot;]</td></tr><tr><td>16</td><td>&quot;Reporting proc…</td><td>[&quot;Reporting&quot;, &quot;process&quot;, … &quot;\n",
       "\n",
       "&quot;]</td><td>[true, false, … false]</td><td>[&quot;O&quot;, &quot;O&quot;, … &quot;O&quot;]</td></tr><tr><td>20</td><td>&quot;Design Thinkin…</td><td>[&quot;Design&quot;, &quot;Thinking&quot;, … &quot;\n",
       "\n",
       "&quot;]</td><td>[true, true, … false]</td><td>[&quot;O&quot;, &quot;O&quot;, … &quot;O&quot;]</td></tr><tr><td>56</td><td>&quot;Assignment:  V…</td><td>[&quot;Assignment&quot;, &quot;:&quot;, … &quot;\n",
       "\n",
       "&quot;]</td><td>[false, false, … false]</td><td>[&quot;O&quot;, &quot;O&quot;, … &quot;O&quot;]</td></tr></tbody></table></div>"
      ],
      "text/plain": [
       "shape: (5, 5)\n",
       "┌──────────┬─────────────────────┬─────────────────────┬─────────────────────┬─────────────────────┐\n",
       "│ document ┆ full_text           ┆ tokens              ┆ trailing_whitespace ┆ labels              │\n",
       "│ ---      ┆ ---                 ┆ ---                 ┆ ---                 ┆ ---                 │\n",
       "│ i64      ┆ str                 ┆ list[str]           ┆ list[bool]          ┆ list[str]           │\n",
       "╞══════════╪═════════════════════╪═════════════════════╪═════════════════════╪═════════════════════╡\n",
       "│ 7        ┆ Design Thinking for ┆ [\"Design\",          ┆ [true, true, …      ┆ [\"O\", \"O\", … \"O\"]   │\n",
       "│          ┆ innovation r…       ┆ \"Thinking\", … \"     ┆ false]              ┆                     │\n",
       "│          ┆                     ┆                     ┆                     ┆                     │\n",
       "│          ┆                     ┆ \"]                  ┆                     ┆                     │\n",
       "│ 10       ┆ Diego Estrada       ┆ [\"Diego\",           ┆ [true, false, …     ┆ [\"B-NAME_STUDENT\",  │\n",
       "│          ┆                     ┆ \"Estrada\", … \"      ┆ false]              ┆ \"I-NAME_STUDE…      │\n",
       "│          ┆ Design Thinking A…  ┆                     ┆                     ┆                     │\n",
       "│          ┆                     ┆ \"]                  ┆                     ┆                     │\n",
       "│ 16       ┆ Reporting process   ┆ [\"Reporting\",       ┆ [true, false, …     ┆ [\"O\", \"O\", … \"O\"]   │\n",
       "│          ┆                     ┆ \"process\", … \"      ┆ false]              ┆                     │\n",
       "│          ┆ by Gilberto G…      ┆                     ┆                     ┆                     │\n",
       "│          ┆                     ┆ \"]                  ┆                     ┆                     │\n",
       "│ 20       ┆ Design Thinking for ┆ [\"Design\",          ┆ [true, true, …      ┆ [\"O\", \"O\", … \"O\"]   │\n",
       "│          ┆ Innovation          ┆ \"Thinking\", … \"     ┆ false]              ┆                     │\n",
       "│          ┆                     ┆                     ┆                     ┆                     │\n",
       "│          ┆ …                   ┆ \"]                  ┆                     ┆                     │\n",
       "│ 56       ┆ Assignment:  Visual ┆ [\"Assignment\", \":\", ┆ [false, false, …    ┆ [\"O\", \"O\", … \"O\"]   │\n",
       "│          ┆ ization Refle…      ┆ … \"                 ┆ false]              ┆                     │\n",
       "│          ┆                     ┆                     ┆                     ┆                     │\n",
       "│          ┆                     ┆ \"]                  ┆                     ┆                     │\n",
       "└──────────┴─────────────────────┴─────────────────────┴─────────────────────┴─────────────────────┘"
      ]
     },
     "execution_count": 2,
     "metadata": {},
     "output_type": "execute_result"
    }
   ],
   "source": [
    "train = pl.read_json(\"..//data/train.json\")\n",
    "train.head()"
   ]
  },
  {
   "cell_type": "code",
   "execution_count": 3,
   "metadata": {},
   "outputs": [],
   "source": [
    "def get_has_label_seq(label: list[str]) -> str:\n",
    "    # labelをuniqueにしてソート\n",
    "    label_set = set(label)\n",
    "    has_b_name_student = int(\"B-NAME_STUDENT\" in label_set)\n",
    "    has_i_name_student = int(\"I-NAME_STUDENT\" in label_set)\n",
    "    has_b_email = int(\"B-EMAIL\" in label_set)\n",
    "    has_i_email = int(\"I-EMAIL\" in label_set)\n",
    "    has_b_username = int(\"B-USERNAME\" in label_set)\n",
    "    has_i_username = int(\"I-USERNAME\" in label_set)\n",
    "    has_b_id_num = int(\"B-ID_NUM\" in label_set)\n",
    "    has_i_id_num = int(\"I-ID_NUM\" in label_set)\n",
    "    has_b_phone_num = int(\"B-PHONE_NUM\" in label_set)\n",
    "    has_i_phone_num = int(\"I-PHONE_NUM\" in label_set)\n",
    "    has_b_url_personal = int(\"B-URL_PERSONAL\" in label_set)\n",
    "    has_i_url_personal = int(\"I-URL_PERSONAL\" in label_set)\n",
    "    has_b_street_address = int(\"B-STREET_ADDRESS\" in label_set)\n",
    "    has_i_street_address = int(\"I-STREET_ADDRESS\" in label_set)\n",
    "\n",
    "    output_label = f\"{has_b_name_student}_{has_i_name_student}_{has_b_email}_{has_i_email}_{has_b_username}_{has_i_username}_{has_b_id_num}_{has_i_id_num}_{has_b_phone_num}_{has_i_phone_num}_{has_b_url_personal}_{has_i_url_personal}_{has_b_street_address}_{has_i_street_address}\"\n",
    "\n",
    "    # 1件しかないデータはOtherとして扱う\n",
    "    if (\n",
    "        output_label == \"1_1_0_0_0_0_0_0_0_0_1_1_0_0\"\n",
    "        or output_label == \"0_0_1_0_0_0_0_0_1_1_0_0_0_0\"\n",
    "        or output_label == \"1_1_0_0_1_0_0_0_0_0_0_0_0_0\"\n",
    "        or output_label == \"1_1_1_0_1_0_0_0_0_0_0_0_0_0\"\n",
    "        or output_label == \"1_1_1_0_0_0_1_0_0_0_0_0_0_0\"\n",
    "        or output_label == \"1_1_0_0_0_0_0_0_1_0_1_0_1_1\"\n",
    "        or output_label == \"0_0_1_0_0_0_0_0_0_0_1_0_0_0\"\n",
    "        or output_label == \"0_0_0_0_0_0_0_0_0_0_0_0_1_1\"\n",
    "        or output_label == \"0_0_0_0_0_0_1_1_0_0_0_0_0_0\"\n",
    "    ):\n",
    "        output_label = \"Other\"\n",
    "\n",
    "    return output_label"
   ]
  },
  {
   "cell_type": "code",
   "execution_count": 4,
   "metadata": {},
   "outputs": [
    {
     "data": {
      "text/plain": [
       "polars.config.Config"
      ]
     },
     "execution_count": 4,
     "metadata": {},
     "output_type": "execute_result"
    }
   ],
   "source": [
    "# 文字列の表示制限を増やす\n",
    "pl.Config.set_fmt_str_lengths(n=100)"
   ]
  },
  {
   "cell_type": "code",
   "execution_count": 5,
   "metadata": {},
   "outputs": [],
   "source": [
    "train = train.with_columns(\n",
    "    pl.col(\"labels\").map_elements(get_has_label_seq).alias(\"pattern\")\n",
    ")"
   ]
  },
  {
   "cell_type": "code",
   "execution_count": 6,
   "metadata": {},
   "outputs": [
    {
     "data": {
      "text/html": [
       "<div><style>\n",
       ".dataframe > thead > tr,\n",
       ".dataframe > tbody > tr {\n",
       "  text-align: right;\n",
       "  white-space: pre-wrap;\n",
       "}\n",
       "</style>\n",
       "<small>shape: (14, 2)</small><table border=\"1\" class=\"dataframe\"><thead><tr><th>pattern</th><th>count</th></tr><tr><td>str</td><td>u32</td></tr></thead><tbody><tr><td>&quot;0_0_0_0_0_0_0_0_0_0_0_0_0_0&quot;</td><td>5862</td></tr><tr><td>&quot;1_1_0_0_0_0_0_0_0_0_0_0_0_0&quot;</td><td>743</td></tr><tr><td>&quot;1_0_0_0_0_0_0_0_0_0_0_0_0_0&quot;</td><td>74</td></tr><tr><td>&quot;0_0_0_0_0_0_0_0_0_0_1_0_0_0&quot;</td><td>40</td></tr><tr><td>&quot;1_1_0_0_0_0_0_0_0_0_1_0_0_0&quot;</td><td>25</td></tr><tr><td>&quot;1_1_0_0_0_0_1_0_0_0_0_0_0_0&quot;</td><td>23</td></tr><tr><td>&quot;1_1_1_0_0_0_0_0_0_0_0_0_0_0&quot;</td><td>12</td></tr><tr><td>&quot;Other&quot;</td><td>9</td></tr><tr><td>&quot;0_0_0_0_0_0_1_0_0_0_0_0_0_0&quot;</td><td>5</td></tr><tr><td>&quot;1_1_1_0_0_0_0_0_0_0_1_0_0_0&quot;</td><td>4</td></tr><tr><td>&quot;0_0_0_0_1_0_0_0_0_0_0_0_0_0&quot;</td><td>3</td></tr><tr><td>&quot;1_0_0_0_0_0_1_0_0_0_0_0_0_0&quot;</td><td>3</td></tr><tr><td>&quot;1_1_1_0_0_0_0_0_1_1_0_0_0_0&quot;</td><td>2</td></tr><tr><td>&quot;0_0_1_0_0_0_0_0_0_0_0_0_0_0&quot;</td><td>2</td></tr></tbody></table></div>"
      ],
      "text/plain": [
       "shape: (14, 2)\n",
       "┌─────────────────────────────┬───────┐\n",
       "│ pattern                     ┆ count │\n",
       "│ ---                         ┆ ---   │\n",
       "│ str                         ┆ u32   │\n",
       "╞═════════════════════════════╪═══════╡\n",
       "│ 0_0_0_0_0_0_0_0_0_0_0_0_0_0 ┆ 5862  │\n",
       "│ 1_1_0_0_0_0_0_0_0_0_0_0_0_0 ┆ 743   │\n",
       "│ 1_0_0_0_0_0_0_0_0_0_0_0_0_0 ┆ 74    │\n",
       "│ 0_0_0_0_0_0_0_0_0_0_1_0_0_0 ┆ 40    │\n",
       "│ 1_1_0_0_0_0_0_0_0_0_1_0_0_0 ┆ 25    │\n",
       "│ …                           ┆ …     │\n",
       "│ 1_1_1_0_0_0_0_0_0_0_1_0_0_0 ┆ 4     │\n",
       "│ 0_0_0_0_1_0_0_0_0_0_0_0_0_0 ┆ 3     │\n",
       "│ 1_0_0_0_0_0_1_0_0_0_0_0_0_0 ┆ 3     │\n",
       "│ 1_1_1_0_0_0_0_0_1_1_0_0_0_0 ┆ 2     │\n",
       "│ 0_0_1_0_0_0_0_0_0_0_0_0_0_0 ┆ 2     │\n",
       "└─────────────────────────────┴───────┘"
      ]
     },
     "execution_count": 6,
     "metadata": {},
     "output_type": "execute_result"
    }
   ],
   "source": [
    "train.get_column(\"pattern\").value_counts(sort=True)"
   ]
  },
  {
   "cell_type": "code",
   "execution_count": 13,
   "metadata": {},
   "outputs": [
    {
     "data": {
      "text/plain": [
       "'The development of technology has changed the world, has given mankind new standards of living and  allowed it to work miracles that once seemed fantastic. However, the same technologies have led to a  new stage in the development of society, which is characterized by unreasonable expenditure of  resources and environmental pollution.\\n\\nTo solve these problems, technical innovations alone will not be enough. Society needs a new approach  to innovation, which would bring the needs of mankind into harmony with the natural world.\\n\\nDesign thinking can help in this, which is based on the techniques used by designers, but also applicable  in other areas. Design thinking allows each person to use their innate creative abilities.\\n\\nOnce upon a time, designers were engaged almost exclusively in the design of new products. Design  concepts did not go beyond this special area.\\n\\nRecently, however, the same principles have been applied not only in the design of specific objects, but  also in the formation of consumer experience, in the organization of production and exchange of  information, as well as for the improvement of existing products.\\n\\nDesign thinking is used in all fields of activity, in all markets.\\n\\n“Design thinking originated in the field of design, but its principles can be applied by anyone in any field  of activity.”\\n\\nIn 2004, the Japanese company Shimano, a manufacturer of bicycle accessories, decided to change its  strategy in accordance with market requirements. In collaboration with IDEO, the company tried to  understand why only 10% of adult Americans ride bicycles, although 90% did so in childhood.\\n\\nIt was decided to analyze the positive experiences of consumers in childhood and the negative  experiences that emerged later. Based on the results of this consumer-focused study, new bicycle  design concepts were created, and not thanks to a technological breakthrough, but based on  observations and interaction with people.\\n\\n'"
      ]
     },
     "execution_count": 13,
     "metadata": {},
     "output_type": "execute_result"
    }
   ],
   "source": [
    "train.filter(pl.col(\"pattern\").eq(\"0_0_0_0_0_0_0_0_0_0_0_0_0_0\"))[\"full_text\"][3]"
   ]
  },
  {
   "cell_type": "code",
   "execution_count": 7,
   "metadata": {},
   "outputs": [],
   "source": [
    "document_pattern_dict = dict(zip(train[\"document\"], train[\"pattern\"]))"
   ]
  },
  {
   "cell_type": "code",
   "execution_count": 8,
   "metadata": {},
   "outputs": [],
   "source": [
    "import json\n",
    "\n",
    "with open(\"../data/document_pattern_dict.json\", \"w\") as f:\n",
    "    json.dump(document_pattern_dict, f)"
   ]
  },
  {
   "cell_type": "markdown",
   "metadata": {},
   "source": [
    "ClassLabel(names=['0_0_0_0_0_0_0_0_0_0_0_0_0_0', '0_0_0_0_0_0_0_0_0_0_1_0_0_0', '0_0_0_0_0_0_1_0_0_0_0_0_0_0', '0_0_0_0_1_0_0_0_0_0_0_0_0_0', '0_0_1_0_0_0_0_0_0_0_0_0_0_0', '1_0_0_0_0_0_0_0_0_0_0_0_0_0', '1_0_0_0_0_0_1_0_0_0_0_0_0_0', '1_1_0_0_0_0_0_0_0_0_0_0_0_0', '1_1_0_0_0_0_0_0_0_0_1_0_0_0', '1_1_0_0_0_0_1_0_0_0_0_0_0_0', '1_1_1_0_0_0_0_0_0_0_0_0_0_0', '1_1_1_0_0_0_0_0_0_0_1_0_0_0', '1_1_1_0_0_0_0_0_1_1_0_0_0_0', 'Other'], id=None)"
   ]
  },
  {
   "cell_type": "markdown",
   "metadata": {},
   "source": []
  }
 ],
 "metadata": {
  "kernelspec": {
   "display_name": ".venv",
   "language": "python",
   "name": "python3"
  },
  "language_info": {
   "codemirror_mode": {
    "name": "ipython",
    "version": 3
   },
   "file_extension": ".py",
   "mimetype": "text/x-python",
   "name": "python",
   "nbconvert_exporter": "python",
   "pygments_lexer": "ipython3",
   "version": "3.12.1"
  }
 },
 "nbformat": 4,
 "nbformat_minor": 2
}
