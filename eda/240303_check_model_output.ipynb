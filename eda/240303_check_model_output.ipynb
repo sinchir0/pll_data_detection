{
 "cells": [
  {
   "cell_type": "markdown",
   "id": "34335e05",
   "metadata": {},
   "source": [
    "# 目的\n",
    "モデルの出力の確認"
   ]
  },
  {
   "cell_type": "code",
   "execution_count": 244,
   "id": "a829770f",
   "metadata": {},
   "outputs": [],
   "source": [
    "CHECK_DOCUMENT = 2804"
   ]
  },
  {
   "cell_type": "markdown",
   "id": "32143193",
   "metadata": {
    "papermill": {
     "duration": 0.00716,
     "end_time": "2024-03-03T00:22:50.143728",
     "exception": false,
     "start_time": "2024-03-03T00:22:50.136568",
     "status": "completed"
    },
    "tags": []
   },
   "source": [
    "# Constant"
   ]
  },
  {
   "cell_type": "code",
   "execution_count": 245,
   "id": "dbdae190",
   "metadata": {
    "execution": {
     "iopub.execute_input": "2024-03-03T00:22:50.159935Z",
     "iopub.status.busy": "2024-03-03T00:22:50.159566Z",
     "iopub.status.idle": "2024-03-03T00:22:50.171237Z",
     "shell.execute_reply": "2024-03-03T00:22:50.170153Z"
    },
    "papermill": {
     "duration": 0.022473,
     "end_time": "2024-03-03T00:22:50.173468",
     "exception": false,
     "start_time": "2024-03-03T00:22:50.150995",
     "status": "completed"
    },
    "tags": []
   },
   "outputs": [],
   "source": [
    "TRAINED_MODEL_PATH = \"../trained_model/exp024\"\n",
    "\n",
    "DATA_PATH = \"../data\"\n",
    "MODEL_NAME = \"microsoft/deberta-v3-base\"\n",
    "INFERENCE_MAX_LENGTH = 2048"
   ]
  },
  {
   "cell_type": "markdown",
   "id": "24f29967",
   "metadata": {
    "papermill": {
     "duration": 0.007115,
     "end_time": "2024-03-03T00:22:50.188055",
     "exception": false,
     "start_time": "2024-03-03T00:22:50.180940",
     "status": "completed"
    },
    "tags": []
   },
   "source": [
    "# Install\n",
    "https://www.kaggle.com/competitions/benetech-making-graphs-accessible/discussion/410130#2258335"
   ]
  },
  {
   "cell_type": "code",
   "execution_count": 246,
   "id": "ce3430e7",
   "metadata": {},
   "outputs": [],
   "source": [
    "# %pip install polars==0.20.10\n",
    "# %pip install transformers==4.37.2\n",
    "# %pip install datasets==2.16.1\n",
    "# %pip install evaluate==0.4.1\n",
    "# %pip install seqeval==1.2.2\n",
    "# %pip install accelerate\n",
    "# %pip install python-dotenv\n",
    "# %pip install kaggle\n",
    "# %pip iinstall wandb==0.16.3\n",
    "\n",
    "# # formatter\n",
    "# %pip install black isort"
   ]
  },
  {
   "cell_type": "markdown",
   "id": "b60dfecf",
   "metadata": {
    "papermill": {
     "duration": 0.008233,
     "end_time": "2024-03-03T00:23:45.423339",
     "exception": false,
     "start_time": "2024-03-03T00:23:45.415106",
     "status": "completed"
    },
    "tags": []
   },
   "source": [
    "# Import"
   ]
  },
  {
   "cell_type": "code",
   "execution_count": 247,
   "id": "84983a4e",
   "metadata": {
    "execution": {
     "iopub.execute_input": "2024-03-03T00:23:45.443252Z",
     "iopub.status.busy": "2024-03-03T00:23:45.442845Z",
     "iopub.status.idle": "2024-03-03T00:24:08.921864Z",
     "shell.execute_reply": "2024-03-03T00:24:08.921029Z"
    },
    "papermill": {
     "duration": 23.491289,
     "end_time": "2024-03-03T00:24:08.924212",
     "exception": false,
     "start_time": "2024-03-03T00:23:45.432923",
     "status": "completed"
    },
    "tags": []
   },
   "outputs": [],
   "source": [
    "import evaluate\n",
    "import numpy as np\n",
    "import polars as pl\n",
    "import torch\n",
    "import datasets\n",
    "from datasets import load_dataset\n",
    "from tqdm.auto import tqdm\n",
    "import transformers\n",
    "from transformers import (\n",
    "    AutoModelForTokenClassification,\n",
    "    AutoTokenizer,\n",
    "    DataCollatorForTokenClassification,\n",
    "    TokenClassificationPipeline,\n",
    "    Trainer,\n",
    "    TrainingArguments,\n",
    ")"
   ]
  },
  {
   "cell_type": "markdown",
   "id": "43d367b8",
   "metadata": {
    "papermill": {
     "duration": 0.007691,
     "end_time": "2024-03-03T00:24:08.940212",
     "exception": false,
     "start_time": "2024-03-03T00:24:08.932521",
     "status": "completed"
    },
    "tags": []
   },
   "source": [
    "# Check Environment"
   ]
  },
  {
   "cell_type": "code",
   "execution_count": 248,
   "id": "893a5ae6",
   "metadata": {
    "execution": {
     "iopub.execute_input": "2024-03-03T00:24:08.959190Z",
     "iopub.status.busy": "2024-03-03T00:24:08.958048Z",
     "iopub.status.idle": "2024-03-03T00:24:09.966906Z",
     "shell.execute_reply": "2024-03-03T00:24:09.965883Z"
    },
    "papermill": {
     "duration": 1.021224,
     "end_time": "2024-03-03T00:24:09.969356",
     "exception": false,
     "start_time": "2024-03-03T00:24:08.948132",
     "status": "completed"
    },
    "tags": []
   },
   "outputs": [
    {
     "name": "stdout",
     "output_type": "stream",
     "text": [
      "Python 3.12.1\n"
     ]
    }
   ],
   "source": [
    "!python --version"
   ]
  },
  {
   "cell_type": "code",
   "execution_count": 249,
   "id": "0e16b608",
   "metadata": {
    "execution": {
     "iopub.execute_input": "2024-03-03T00:24:09.988188Z",
     "iopub.status.busy": "2024-03-03T00:24:09.987788Z",
     "iopub.status.idle": "2024-03-03T00:24:11.026946Z",
     "shell.execute_reply": "2024-03-03T00:24:11.025640Z"
    },
    "papermill": {
     "duration": 1.051571,
     "end_time": "2024-03-03T00:24:11.029470",
     "exception": false,
     "start_time": "2024-03-03T00:24:09.977899",
     "status": "completed"
    },
    "tags": []
   },
   "outputs": [
    {
     "name": "stdout",
     "output_type": "stream",
     "text": [
      "zsh:1: command not found: nvidia-smi\n"
     ]
    }
   ],
   "source": [
    "!nvidia-smi"
   ]
  },
  {
   "cell_type": "code",
   "execution_count": 250,
   "id": "8e89dbb3",
   "metadata": {
    "execution": {
     "iopub.execute_input": "2024-03-03T00:24:11.048575Z",
     "iopub.status.busy": "2024-03-03T00:24:11.047596Z",
     "iopub.status.idle": "2024-03-03T00:24:11.053276Z",
     "shell.execute_reply": "2024-03-03T00:24:11.052265Z"
    },
    "papermill": {
     "duration": 0.017514,
     "end_time": "2024-03-03T00:24:11.055438",
     "exception": false,
     "start_time": "2024-03-03T00:24:11.037924",
     "status": "completed"
    },
    "tags": []
   },
   "outputs": [],
   "source": [
    "assert transformers.__version__ == \"4.37.2\"\n",
    "assert datasets.__version__ == \"2.16.1\"\n",
    "assert evaluate.__version__ == \"0.4.1\""
   ]
  },
  {
   "cell_type": "markdown",
   "id": "5d3942b4",
   "metadata": {
    "papermill": {
     "duration": 0.008372,
     "end_time": "2024-03-03T00:24:11.072384",
     "exception": false,
     "start_time": "2024-03-03T00:24:11.064012",
     "status": "completed"
    },
    "tags": []
   },
   "source": [
    "# Data Load"
   ]
  },
  {
   "cell_type": "code",
   "execution_count": 251,
   "id": "89c48c79",
   "metadata": {
    "execution": {
     "iopub.execute_input": "2024-03-03T00:24:11.090564Z",
     "iopub.status.busy": "2024-03-03T00:24:11.089940Z",
     "iopub.status.idle": "2024-03-03T00:24:31.279294Z",
     "shell.execute_reply": "2024-03-03T00:24:31.278474Z"
    },
    "papermill": {
     "duration": 20.200727,
     "end_time": "2024-03-03T00:24:31.281344",
     "exception": false,
     "start_time": "2024-03-03T00:24:11.080617",
     "status": "completed"
    },
    "tags": []
   },
   "outputs": [],
   "source": [
    "train_dataset = load_dataset(\"json\", data_files={\"train\": f\"{DATA_PATH}/train.json\"})"
   ]
  },
  {
   "cell_type": "code",
   "execution_count": 252,
   "id": "07b49a89",
   "metadata": {},
   "outputs": [],
   "source": [
    "# 確認したいデータをここで選択する\n",
    "train_dataset = train_dataset.filter(\n",
    "    lambda example: example[\"document\"] == CHECK_DOCUMENT, num_proc=3\n",
    ")"
   ]
  },
  {
   "cell_type": "code",
   "execution_count": 253,
   "id": "8c30ec6f",
   "metadata": {
    "execution": {
     "iopub.execute_input": "2024-03-03T00:24:31.300740Z",
     "iopub.status.busy": "2024-03-03T00:24:31.300378Z",
     "iopub.status.idle": "2024-03-03T00:24:36.420311Z",
     "shell.execute_reply": "2024-03-03T00:24:36.419462Z"
    },
    "papermill": {
     "duration": 5.132218,
     "end_time": "2024-03-03T00:24:36.422643",
     "exception": false,
     "start_time": "2024-03-03T00:24:31.290425",
     "status": "completed"
    },
    "tags": []
   },
   "outputs": [],
   "source": [
    "model = AutoModelForTokenClassification.from_pretrained(TRAINED_MODEL_PATH)\n",
    "tokenizer = AutoTokenizer.from_pretrained(TRAINED_MODEL_PATH)"
   ]
  },
  {
   "cell_type": "code",
   "execution_count": 254,
   "id": "f179fc56",
   "metadata": {},
   "outputs": [
    {
     "data": {
      "text/plain": [
       "['[CLS]',\n",
       " '▁Was',\n",
       " 'eem',\n",
       " '▁Mab',\n",
       " 'unda',\n",
       " '▁591',\n",
       " '▁Smith',\n",
       " '▁Centers',\n",
       " '▁Apt',\n",
       " '.',\n",
       " '▁656',\n",
       " '▁Joshua',\n",
       " 'mouth',\n",
       " ',',\n",
       " '▁R',\n",
       " '[SEP]']"
      ]
     },
     "execution_count": 254,
     "metadata": {},
     "output_type": "execute_result"
    }
   ],
   "source": [
    "tmp = tokenizer(\"Waseem Mabunda  591 Smith Centers Apt. 656\\nJoshuamouth, R\")[\n",
    "    \"input_ids\"\n",
    "]\n",
    "tokenizer.convert_ids_to_tokens(tmp)"
   ]
  },
  {
   "cell_type": "code",
   "execution_count": 255,
   "id": "6176ac50",
   "metadata": {},
   "outputs": [
    {
     "data": {
      "text/plain": [
       "['▁656']"
      ]
     },
     "execution_count": 255,
     "metadata": {},
     "output_type": "execute_result"
    }
   ],
   "source": [
    "tokenizer.convert_ids_to_tokens([73716])"
   ]
  },
  {
   "cell_type": "code",
   "execution_count": 256,
   "id": "4bb01b50",
   "metadata": {},
   "outputs": [
    {
     "data": {
      "text/plain": [
       "[1,\n",
       " 4045,\n",
       " 33829,\n",
       " 42382,\n",
       " 32141,\n",
       " 86726,\n",
       " 2430,\n",
       " 13291,\n",
       " 40572,\n",
       " 260,\n",
       " 73716,\n",
       " 10917,\n",
       " 15052,\n",
       " 261,\n",
       " 909,\n",
       " 2]"
      ]
     },
     "execution_count": 256,
     "metadata": {},
     "output_type": "execute_result"
    }
   ],
   "source": [
    "tmp"
   ]
  },
  {
   "cell_type": "markdown",
   "id": "5cdfa305",
   "metadata": {
    "papermill": {
     "duration": 0.008578,
     "end_time": "2024-03-03T00:24:36.440315",
     "exception": false,
     "start_time": "2024-03-03T00:24:36.431737",
     "status": "completed"
    },
    "tags": []
   },
   "source": [
    "# Prediction"
   ]
  },
  {
   "cell_type": "code",
   "execution_count": 257,
   "id": "cf761f22",
   "metadata": {
    "execution": {
     "iopub.execute_input": "2024-03-03T00:24:36.458877Z",
     "iopub.status.busy": "2024-03-03T00:24:36.458480Z",
     "iopub.status.idle": "2024-03-03T00:24:36.465475Z",
     "shell.execute_reply": "2024-03-03T00:24:36.464564Z"
    },
    "papermill": {
     "duration": 0.018762,
     "end_time": "2024-03-03T00:24:36.467485",
     "exception": false,
     "start_time": "2024-03-03T00:24:36.448723",
     "status": "completed"
    },
    "tags": []
   },
   "outputs": [],
   "source": [
    "def tokenize(example, tokenizer):\n",
    "    text = []\n",
    "    token_map = []\n",
    "\n",
    "    idx = 0\n",
    "\n",
    "    for t, ws in zip(example[\"tokens\"], example[\"trailing_whitespace\"]):\n",
    "        text.append(t)\n",
    "        token_map.extend([idx] * len(t))\n",
    "        if ws:\n",
    "            text.append(\" \")\n",
    "            token_map.append(-1)\n",
    "\n",
    "        idx += 1\n",
    "\n",
    "    tokenized = tokenizer(\n",
    "        \"\".join(text),\n",
    "        return_offsets_mapping=True,\n",
    "        truncation=True,\n",
    "        max_length=INFERENCE_MAX_LENGTH,\n",
    "    )\n",
    "    # tokenized = tokenizer(\"\".join(text), return_offsets_mapping=True, truncation=True)\n",
    "\n",
    "    return {\n",
    "        **tokenized,\n",
    "        \"token_map\": token_map,\n",
    "    }"
   ]
  },
  {
   "cell_type": "code",
   "execution_count": 258,
   "id": "74342530",
   "metadata": {
    "execution": {
     "iopub.execute_input": "2024-03-03T00:24:36.486020Z",
     "iopub.status.busy": "2024-03-03T00:24:36.485350Z",
     "iopub.status.idle": "2024-03-03T00:24:37.298565Z",
     "shell.execute_reply": "2024-03-03T00:24:37.297181Z"
    },
    "papermill": {
     "duration": 0.825306,
     "end_time": "2024-03-03T00:24:37.301331",
     "exception": false,
     "start_time": "2024-03-03T00:24:36.476025",
     "status": "completed"
    },
    "tags": []
   },
   "outputs": [
    {
     "name": "stderr",
     "output_type": "stream",
     "text": [
      "num_proc must be <= 1. Reducing num_proc to 1 for dataset of size 1.\n"
     ]
    }
   ],
   "source": [
    "train_dataset = train_dataset.map(\n",
    "    tokenize, fn_kwargs={\"tokenizer\": tokenizer}, num_proc=3\n",
    ")"
   ]
  },
  {
   "cell_type": "code",
   "execution_count": 259,
   "id": "7fd5bc43",
   "metadata": {
    "execution": {
     "iopub.execute_input": "2024-03-03T00:24:37.380217Z",
     "iopub.status.busy": "2024-03-03T00:24:37.379857Z",
     "iopub.status.idle": "2024-03-03T00:24:37.385226Z",
     "shell.execute_reply": "2024-03-03T00:24:37.384368Z"
    },
    "papermill": {
     "duration": 0.018452,
     "end_time": "2024-03-03T00:24:37.387483",
     "exception": false,
     "start_time": "2024-03-03T00:24:37.369031",
     "status": "completed"
    },
    "tags": []
   },
   "outputs": [],
   "source": [
    "collator = DataCollatorForTokenClassification(tokenizer, pad_to_multiple_of=16)"
   ]
  },
  {
   "cell_type": "code",
   "execution_count": 260,
   "id": "3b9625af",
   "metadata": {
    "execution": {
     "iopub.execute_input": "2024-03-03T00:24:37.409174Z",
     "iopub.status.busy": "2024-03-03T00:24:37.408736Z",
     "iopub.status.idle": "2024-03-03T00:24:37.837546Z",
     "shell.execute_reply": "2024-03-03T00:24:37.836481Z"
    },
    "papermill": {
     "duration": 0.442726,
     "end_time": "2024-03-03T00:24:37.840356",
     "exception": false,
     "start_time": "2024-03-03T00:24:37.397630",
     "status": "completed"
    },
    "tags": []
   },
   "outputs": [],
   "source": [
    "args = TrainingArguments(\n",
    "    \".\",\n",
    "    per_device_eval_batch_size=1,\n",
    "    report_to=\"none\",\n",
    ")\n",
    "trainer = Trainer(\n",
    "    model=model,\n",
    "    args=args,\n",
    "    data_collator=collator,\n",
    "    tokenizer=tokenizer,\n",
    ")"
   ]
  },
  {
   "cell_type": "code",
   "execution_count": 261,
   "id": "c2bcc9ff",
   "metadata": {
    "execution": {
     "iopub.execute_input": "2024-03-03T00:24:37.860609Z",
     "iopub.status.busy": "2024-03-03T00:24:37.860224Z",
     "iopub.status.idle": "2024-03-03T00:24:37.866096Z",
     "shell.execute_reply": "2024-03-03T00:24:37.865115Z"
    },
    "papermill": {
     "duration": 0.017949,
     "end_time": "2024-03-03T00:24:37.868104",
     "exception": false,
     "start_time": "2024-03-03T00:24:37.850155",
     "status": "completed"
    },
    "tags": []
   },
   "outputs": [],
   "source": [
    "id2label = {\n",
    "    0: \"O\",\n",
    "    1: \"B-NAME_STUDENT\",\n",
    "    2: \"I-NAME_STUDENT\",\n",
    "    3: \"B-EMAIL\",\n",
    "    4: \"I-EMAIL\",\n",
    "    5: \"B-USERNAME\",\n",
    "    6: \"I-USERNAME\",\n",
    "    7: \"B-ID_NUM\",\n",
    "    8: \"I-ID_NUM\",\n",
    "    9: \"B-PHONE_NUM\",\n",
    "    10: \"I-PHONE_NUM\",\n",
    "    11: \"B-URL_PERSONAL\",\n",
    "    12: \"I-URL_PERSONAL\",\n",
    "    13: \"B-STREET_ADDRESS\",\n",
    "    14: \"I-STREET_ADDRESS\",\n",
    "}"
   ]
  },
  {
   "cell_type": "code",
   "execution_count": 262,
   "id": "a07bb01b",
   "metadata": {},
   "outputs": [],
   "source": [
    "data = train_dataset[\"train\"].select_columns(\n",
    "    [\n",
    "        \"trailing_whitespace\",\n",
    "        \"full_text\",\n",
    "        \"tokens\",\n",
    "        \"document\",\n",
    "        \"input_ids\",\n",
    "        \"token_type_ids\",\n",
    "        \"attention_mask\",\n",
    "        \"offset_mapping\",\n",
    "        \"token_map\",\n",
    "    ]\n",
    ")"
   ]
  },
  {
   "cell_type": "code",
   "execution_count": 263,
   "id": "03d30da6",
   "metadata": {},
   "outputs": [
    {
     "name": "stderr",
     "output_type": "stream",
     "text": [
      "100%|██████████| 1/1 [00:00<00:00, 419.98it/s]\n"
     ]
    }
   ],
   "source": [
    "out = trainer.predict(data).predictions"
   ]
  },
  {
   "cell_type": "code",
   "execution_count": 264,
   "id": "0d9474e0",
   "metadata": {},
   "outputs": [
    {
     "data": {
      "text/html": [
       "<div><style>\n",
       ".dataframe > thead > tr,\n",
       ".dataframe > tbody > tr {\n",
       "  text-align: right;\n",
       "  white-space: pre-wrap;\n",
       "}\n",
       "</style>\n",
       "<small>shape: (496, 16)</small><table border=\"1\" class=\"dataframe\"><thead><tr><th>token</th><th>O</th><th>B-NAME_STUDENT</th><th>I-NAME_STUDENT</th><th>B-EMAIL</th><th>I-EMAIL</th><th>B-USERNAME</th><th>I-USERNAME</th><th>B-ID_NUM</th><th>I-ID_NUM</th><th>B-PHONE_NUM</th><th>I-PHONE_NUM</th><th>B-URL_PERSONAL</th><th>I-URL_PERSONAL</th><th>B-STREET_ADDRESS</th><th>I-STREET_ADDRESS</th></tr><tr><td>str</td><td>f32</td><td>f32</td><td>f32</td><td>f32</td><td>f32</td><td>f32</td><td>f32</td><td>f32</td><td>f32</td><td>f32</td><td>f32</td><td>f32</td><td>f32</td><td>f32</td><td>f32</td></tr></thead><tbody><tr><td>&quot;[CLS]&quot;</td><td>9.436209</td><td>-0.100948</td><td>-1.020993</td><td>-2.01943</td><td>-1.73673</td><td>-2.230707</td><td>-1.54927</td><td>-1.93825</td><td>-0.465267</td><td>-1.192132</td><td>-0.539012</td><td>-1.623414</td><td>-1.103013</td><td>-0.627131</td><td>-0.784668</td></tr><tr><td>&quot;▁Mai&quot;</td><td>1.159454</td><td>7.568308</td><td>-0.312837</td><td>-0.647191</td><td>-1.243123</td><td>-0.197258</td><td>-0.902603</td><td>-1.755704</td><td>-1.706048</td><td>-0.974412</td><td>-2.088173</td><td>-1.941469</td><td>-1.706681</td><td>0.916169</td><td>-1.287308</td></tr><tr><td>&quot;col&quot;</td><td>1.124249</td><td>7.813073</td><td>0.161078</td><td>-1.033913</td><td>-1.593857</td><td>-0.108133</td><td>-1.001023</td><td>-2.145751</td><td>-1.622348</td><td>-0.38215</td><td>-2.040435</td><td>-1.789871</td><td>-1.318204</td><td>0.69517</td><td>-1.331388</td></tr><tr><td>&quot;▁Toro&quot;</td><td>1.476706</td><td>0.501315</td><td>7.963993</td><td>-1.452245</td><td>-1.236041</td><td>-0.751044</td><td>-1.262135</td><td>-0.390905</td><td>-1.455048</td><td>-0.854642</td><td>-0.808904</td><td>-1.440665</td><td>-1.596767</td><td>-0.700916</td><td>-1.009426</td></tr><tr><td>&quot;▁Reflection&quot;</td><td>10.714262</td><td>0.127162</td><td>0.151683</td><td>-2.917443</td><td>-2.397041</td><td>-2.512652</td><td>-1.946224</td><td>-2.039197</td><td>-1.424484</td><td>-1.595968</td><td>-1.83955</td><td>-1.58248</td><td>-2.217337</td><td>0.820619</td><td>-1.151044</td></tr><tr><td>&quot;▁-&quot;</td><td>11.057509</td><td>0.269149</td><td>-0.186961</td><td>-2.667807</td><td>-2.388384</td><td>-2.512439</td><td>-1.699139</td><td>-1.761003</td><td>-1.495107</td><td>-1.04516</td><td>-1.229051</td><td>-1.353144</td><td>-2.137986</td><td>0.246086</td><td>-0.698996</td></tr><tr><td>&quot;▁Storytelling&quot;</td><td>11.226655</td><td>1.516809</td><td>-0.673215</td><td>-2.86155</td><td>-2.566422</td><td>-2.526584</td><td>-2.031832</td><td>-2.518571</td><td>-1.507164</td><td>-1.303853</td><td>-1.928729</td><td>-1.723491</td><td>-2.132847</td><td>1.045223</td><td>-1.245594</td></tr><tr><td>&quot;▁Challenge&quot;</td><td>11.906203</td><td>0.701263</td><td>-0.534744</td><td>-2.932057</td><td>-2.603152</td><td>-2.458041</td><td>-1.99006</td><td>-2.591805</td><td>-1.649032</td><td>-1.587592</td><td>-1.638152</td><td>-1.668367</td><td>-2.095124</td><td>0.7547</td><td>-1.080184</td></tr><tr><td>&quot;▁&amp;&quot;</td><td>11.978357</td><td>0.014843</td><td>-0.987001</td><td>-2.626772</td><td>-2.20437</td><td>-2.472258</td><td>-1.84455</td><td>-2.316189</td><td>-1.093384</td><td>-1.519852</td><td>-1.212774</td><td>-1.69384</td><td>-2.248641</td><td>0.506151</td><td>-0.736924</td></tr><tr><td>&quot;▁Selection&quot;</td><td>11.902819</td><td>0.321159</td><td>-0.806204</td><td>-2.810894</td><td>-2.324125</td><td>-2.525705</td><td>-1.868189</td><td>-2.424431</td><td>-1.260944</td><td>-1.635601</td><td>-1.693804</td><td>-1.818183</td><td>-2.221089</td><td>0.536773</td><td>-0.751121</td></tr><tr><td>&quot;:&quot;</td><td>11.935383</td><td>0.341901</td><td>-0.949494</td><td>-2.732638</td><td>-2.348213</td><td>-2.433958</td><td>-2.013594</td><td>-2.192867</td><td>-1.360991</td><td>-1.288896</td><td>-1.117641</td><td>-1.496609</td><td>-2.029324</td><td>0.244872</td><td>-0.902657</td></tr><tr><td>&quot;▁I&quot;</td><td>11.364385</td><td>1.271766</td><td>-1.484588</td><td>-2.1345</td><td>-2.421587</td><td>-2.238174</td><td>-1.870287</td><td>-2.602532</td><td>-1.319708</td><td>-1.461289</td><td>-1.688808</td><td>-1.621204</td><td>-1.999491</td><td>0.687142</td><td>-1.119419</td></tr><tr><td>&hellip;</td><td>&hellip;</td><td>&hellip;</td><td>&hellip;</td><td>&hellip;</td><td>&hellip;</td><td>&hellip;</td><td>&hellip;</td><td>&hellip;</td><td>&hellip;</td><td>&hellip;</td><td>&hellip;</td><td>&hellip;</td><td>&hellip;</td><td>&hellip;</td><td>&hellip;</td></tr><tr><td>null</td><td>0.935319</td><td>1.024939</td><td>-0.763435</td><td>-0.864522</td><td>-0.661279</td><td>-0.460919</td><td>-1.542239</td><td>-1.135046</td><td>0.881008</td><td>-0.34381</td><td>-0.526614</td><td>-0.55177</td><td>-0.507175</td><td>-0.662224</td><td>0.49226</td></tr><tr><td>null</td><td>0.935319</td><td>1.024939</td><td>-0.763435</td><td>-0.864522</td><td>-0.661279</td><td>-0.460919</td><td>-1.542239</td><td>-1.135046</td><td>0.881008</td><td>-0.34381</td><td>-0.526614</td><td>-0.55177</td><td>-0.507175</td><td>-0.662224</td><td>0.49226</td></tr><tr><td>null</td><td>0.935319</td><td>1.024939</td><td>-0.763435</td><td>-0.864522</td><td>-0.661279</td><td>-0.460919</td><td>-1.542239</td><td>-1.135046</td><td>0.881008</td><td>-0.34381</td><td>-0.526614</td><td>-0.55177</td><td>-0.507175</td><td>-0.662224</td><td>0.49226</td></tr><tr><td>null</td><td>0.935319</td><td>1.024939</td><td>-0.763435</td><td>-0.864522</td><td>-0.661279</td><td>-0.460919</td><td>-1.542239</td><td>-1.135046</td><td>0.881008</td><td>-0.34381</td><td>-0.526614</td><td>-0.55177</td><td>-0.507175</td><td>-0.662224</td><td>0.49226</td></tr><tr><td>null</td><td>0.935319</td><td>1.024939</td><td>-0.763435</td><td>-0.864522</td><td>-0.661279</td><td>-0.460919</td><td>-1.542239</td><td>-1.135046</td><td>0.881008</td><td>-0.34381</td><td>-0.526614</td><td>-0.55177</td><td>-0.507175</td><td>-0.662224</td><td>0.49226</td></tr><tr><td>null</td><td>0.935319</td><td>1.024939</td><td>-0.763435</td><td>-0.864522</td><td>-0.661279</td><td>-0.460919</td><td>-1.542239</td><td>-1.135046</td><td>0.881008</td><td>-0.34381</td><td>-0.526614</td><td>-0.55177</td><td>-0.507175</td><td>-0.662224</td><td>0.49226</td></tr><tr><td>null</td><td>0.935319</td><td>1.024939</td><td>-0.763435</td><td>-0.864522</td><td>-0.661279</td><td>-0.460919</td><td>-1.542239</td><td>-1.135046</td><td>0.881008</td><td>-0.34381</td><td>-0.526614</td><td>-0.55177</td><td>-0.507175</td><td>-0.662224</td><td>0.49226</td></tr><tr><td>null</td><td>0.935319</td><td>1.024939</td><td>-0.763435</td><td>-0.864522</td><td>-0.661279</td><td>-0.460919</td><td>-1.542239</td><td>-1.135046</td><td>0.881008</td><td>-0.34381</td><td>-0.526614</td><td>-0.55177</td><td>-0.507175</td><td>-0.662224</td><td>0.49226</td></tr><tr><td>null</td><td>0.935319</td><td>1.024939</td><td>-0.763435</td><td>-0.864522</td><td>-0.661279</td><td>-0.460919</td><td>-1.542239</td><td>-1.135046</td><td>0.881008</td><td>-0.34381</td><td>-0.526614</td><td>-0.55177</td><td>-0.507175</td><td>-0.662224</td><td>0.49226</td></tr><tr><td>null</td><td>0.935319</td><td>1.024939</td><td>-0.763435</td><td>-0.864522</td><td>-0.661279</td><td>-0.460919</td><td>-1.542239</td><td>-1.135046</td><td>0.881008</td><td>-0.34381</td><td>-0.526614</td><td>-0.55177</td><td>-0.507175</td><td>-0.662224</td><td>0.49226</td></tr><tr><td>null</td><td>0.935319</td><td>1.024939</td><td>-0.763435</td><td>-0.864522</td><td>-0.661279</td><td>-0.460919</td><td>-1.542239</td><td>-1.135046</td><td>0.881008</td><td>-0.34381</td><td>-0.526614</td><td>-0.55177</td><td>-0.507175</td><td>-0.662224</td><td>0.49226</td></tr><tr><td>null</td><td>0.935319</td><td>1.024939</td><td>-0.763435</td><td>-0.864522</td><td>-0.661279</td><td>-0.460919</td><td>-1.542239</td><td>-1.135046</td><td>0.881008</td><td>-0.34381</td><td>-0.526614</td><td>-0.55177</td><td>-0.507175</td><td>-0.662224</td><td>0.49226</td></tr></tbody></table></div>"
      ],
      "text/plain": [
       "shape: (496, 16)\n",
       "┌───────────┬───────────┬───────────┬───────────┬───┬───────────┬───────────┬───────────┬──────────┐\n",
       "│ token     ┆ O         ┆ B-NAME_ST ┆ I-NAME_ST ┆ … ┆ B-URL_PER ┆ I-URL_PER ┆ B-STREET_ ┆ I-STREET │\n",
       "│ ---       ┆ ---       ┆ UDENT     ┆ UDENT     ┆   ┆ SONAL     ┆ SONAL     ┆ ADDRESS   ┆ _ADDRESS │\n",
       "│ str       ┆ f32       ┆ ---       ┆ ---       ┆   ┆ ---       ┆ ---       ┆ ---       ┆ ---      │\n",
       "│           ┆           ┆ f32       ┆ f32       ┆   ┆ f32       ┆ f32       ┆ f32       ┆ f32      │\n",
       "╞═══════════╪═══════════╪═══════════╪═══════════╪═══╪═══════════╪═══════════╪═══════════╪══════════╡\n",
       "│ [CLS]     ┆ 9.436209  ┆ -0.100948 ┆ -1.020993 ┆ … ┆ -1.623414 ┆ -1.103013 ┆ -0.627131 ┆ -0.78466 │\n",
       "│           ┆           ┆           ┆           ┆   ┆           ┆           ┆           ┆ 8        │\n",
       "│ ▁Mai      ┆ 1.159454  ┆ 7.568308  ┆ -0.312837 ┆ … ┆ -1.941469 ┆ -1.706681 ┆ 0.916169  ┆ -1.28730 │\n",
       "│           ┆           ┆           ┆           ┆   ┆           ┆           ┆           ┆ 8        │\n",
       "│ col       ┆ 1.124249  ┆ 7.813073  ┆ 0.161078  ┆ … ┆ -1.789871 ┆ -1.318204 ┆ 0.69517   ┆ -1.33138 │\n",
       "│           ┆           ┆           ┆           ┆   ┆           ┆           ┆           ┆ 8        │\n",
       "│ ▁Toro     ┆ 1.476706  ┆ 0.501315  ┆ 7.963993  ┆ … ┆ -1.440665 ┆ -1.596767 ┆ -0.700916 ┆ -1.00942 │\n",
       "│           ┆           ┆           ┆           ┆   ┆           ┆           ┆           ┆ 6        │\n",
       "│ ▁Reflecti ┆ 10.714262 ┆ 0.127162  ┆ 0.151683  ┆ … ┆ -1.58248  ┆ -2.217337 ┆ 0.820619  ┆ -1.15104 │\n",
       "│ on        ┆           ┆           ┆           ┆   ┆           ┆           ┆           ┆ 4        │\n",
       "│ …         ┆ …         ┆ …         ┆ …         ┆ … ┆ …         ┆ …         ┆ …         ┆ …        │\n",
       "│ null      ┆ 0.935319  ┆ 1.024939  ┆ -0.763435 ┆ … ┆ -0.55177  ┆ -0.507175 ┆ -0.662224 ┆ 0.49226  │\n",
       "│ null      ┆ 0.935319  ┆ 1.024939  ┆ -0.763435 ┆ … ┆ -0.55177  ┆ -0.507175 ┆ -0.662224 ┆ 0.49226  │\n",
       "│ null      ┆ 0.935319  ┆ 1.024939  ┆ -0.763435 ┆ … ┆ -0.55177  ┆ -0.507175 ┆ -0.662224 ┆ 0.49226  │\n",
       "│ null      ┆ 0.935319  ┆ 1.024939  ┆ -0.763435 ┆ … ┆ -0.55177  ┆ -0.507175 ┆ -0.662224 ┆ 0.49226  │\n",
       "│ null      ┆ 0.935319  ┆ 1.024939  ┆ -0.763435 ┆ … ┆ -0.55177  ┆ -0.507175 ┆ -0.662224 ┆ 0.49226  │\n",
       "└───────────┴───────────┴───────────┴───────────┴───┴───────────┴───────────┴───────────┴──────────┘"
      ]
     },
     "execution_count": 264,
     "metadata": {},
     "output_type": "execute_result"
    }
   ],
   "source": [
    "logit_df = pl.concat(\n",
    "    [\n",
    "        pl.DataFrame(\n",
    "            tokenizer.convert_ids_to_tokens(data[\"input_ids\"][0]), schema=[\"token\"]\n",
    "        ),\n",
    "        pl.DataFrame(\n",
    "            out[0],\n",
    "            schema=id2label.values(),\n",
    "        ),\n",
    "    ],\n",
    "    how=\"horizontal\",\n",
    ")\n",
    "\n",
    "logit_df"
   ]
  },
  {
   "cell_type": "code",
   "execution_count": 265,
   "id": "e1349819",
   "metadata": {},
   "outputs": [],
   "source": [
    "# logit_df.write_csv(f\"output/exp024_document{CHECK_DOCUMENT}_logit.csv\")"
   ]
  },
  {
   "cell_type": "code",
   "execution_count": 267,
   "id": "e74e49b9",
   "metadata": {},
   "outputs": [
    {
     "name": "stderr",
     "output_type": "stream",
     "text": [
      "100%|██████████| 1/1 [00:00<00:00, 1442.83it/s]\n"
     ]
    },
    {
     "data": {
      "text/plain": [
       "array([[0, 1, 1, 2, 0, 0, 0, 0, 0, 0, 0, 0, 0, 0, 0, 0, 0, 0, 0, 0, 0, 0,\n",
       "        0, 0, 0, 0, 0, 0, 0, 0, 0, 0, 0, 0, 0, 0, 0, 0, 0, 0, 0, 0, 0, 0,\n",
       "        0, 0, 0, 0, 0, 0, 0, 0, 0, 0, 0, 0, 0, 0, 0, 0, 0, 0, 0, 0, 0, 0,\n",
       "        0, 0, 0, 0, 0, 0, 0, 0, 0, 0, 0, 0, 0, 0, 0, 0, 0, 0, 0, 0, 0, 0,\n",
       "        0, 0, 0, 0, 0, 0, 0, 0, 0, 0, 0, 0, 0, 0, 0, 0, 0, 0, 0, 0, 0, 0,\n",
       "        0, 0, 0, 0, 0, 0, 0, 0, 0, 0, 0, 0, 0, 0, 0, 0, 0, 0, 0, 0, 0, 0,\n",
       "        0, 0, 0, 0, 0, 0, 0, 0, 0, 0, 0, 0, 0, 0, 0, 0, 0, 0, 0, 0, 0, 0,\n",
       "        0, 0, 0, 0, 0, 0, 0, 0, 0, 0, 0, 0, 0, 0, 0, 0, 0, 0, 0, 0, 0, 0,\n",
       "        0, 0, 0, 0, 0, 0, 0, 0, 0, 0, 0, 0, 0, 0, 0, 0, 0, 0, 0, 0, 0, 0,\n",
       "        0, 0, 0, 0, 0, 0, 0, 0, 0, 0, 0, 0, 0, 0, 0, 0, 0, 0, 0, 0, 0, 0,\n",
       "        0, 0, 0, 0, 0, 0, 0, 0, 0, 0, 0, 0, 0, 0, 0, 0, 0, 0, 0, 0, 0, 0,\n",
       "        0, 0, 0, 0, 0, 0, 0, 0, 0, 0, 0, 0, 0, 0, 0, 0, 0, 0, 0, 0, 0, 0,\n",
       "        0, 0, 0, 0, 0, 0, 0, 0, 0, 0, 0, 0, 0, 0, 0, 0, 0, 0, 0, 0, 0, 0,\n",
       "        0, 0, 0, 0, 0, 0, 0, 0, 0, 0, 0, 0, 0, 0, 0, 0, 0, 0, 0, 0, 0, 0,\n",
       "        0, 0, 0, 0, 0, 0, 0, 0, 0, 0, 0, 0, 0, 0, 0, 0, 0, 0, 0, 0, 0, 0,\n",
       "        0, 0, 0, 0, 0, 0, 0, 0, 0, 0, 0, 0, 0, 0, 0, 0, 0, 0, 0, 0, 0, 0,\n",
       "        0, 0, 0, 0, 0, 0, 0, 0, 0, 0, 0, 0, 0, 0, 0, 0, 0, 0, 0, 0, 0, 0,\n",
       "        0, 0, 0, 0, 0, 0, 0, 0, 0, 0, 0, 0, 0, 0, 0, 0, 0, 0, 0, 0, 0, 0,\n",
       "        0, 0, 0, 0, 0, 0, 0, 0, 0, 0, 0, 0, 0, 0, 0, 0, 0, 0, 0, 0, 0, 0,\n",
       "        0, 0, 0, 0, 0, 0, 0, 0, 0, 0, 0, 0, 0, 0, 0, 0, 0, 0, 0, 0, 0, 0,\n",
       "        0, 0, 0, 0, 0, 0, 0, 0, 0, 0, 0, 0, 0, 0, 0, 0, 0, 0, 0, 0, 0, 0,\n",
       "        0, 0, 0, 0, 0, 0, 0, 0, 0, 0, 0, 0, 0, 0, 0, 0, 0, 0, 0, 1, 1, 1,\n",
       "        1, 1, 1, 1, 1, 1, 1, 1, 1, 1, 1, 1]])"
      ]
     },
     "execution_count": 267,
     "metadata": {},
     "output_type": "execute_result"
    }
   ],
   "source": [
    "predictions = trainer.predict(data).predictions\n",
    "pred_softmax = np.exp(predictions) / np.sum(np.exp(predictions), axis=2).reshape(\n",
    "    predictions.shape[0], predictions.shape[1], 1\n",
    ")\n",
    "preds_final = predictions.argmax(-1)\n",
    "preds_final"
   ]
  },
  {
   "cell_type": "code",
   "execution_count": 268,
   "id": "71513d3b",
   "metadata": {},
   "outputs": [],
   "source": [
    "triplets = []\n",
    "document, token, label, token_str = [], [], [], []\n",
    "for p, token_map, offsets, tokens, doc in zip(\n",
    "    preds_final,\n",
    "    data[\"token_map\"],\n",
    "    data[\"offset_mapping\"],\n",
    "    data[\"tokens\"],\n",
    "    data[\"document\"],\n",
    "):\n",
    "    for token_pred, (start_idx, end_idx) in zip(p, offsets):\n",
    "        label_pred = id2label[token_pred]\n",
    "\n",
    "        if start_idx + end_idx == 0:\n",
    "            continue\n",
    "\n",
    "        if token_map[start_idx] == -1:\n",
    "            start_idx += 1\n",
    "\n",
    "        # ignore \"\\n\\n\"\n",
    "        while start_idx < len(token_map) and tokens[token_map[start_idx]].isspace():\n",
    "            start_idx += 1\n",
    "\n",
    "        if start_idx >= len(token_map):\n",
    "            break\n",
    "\n",
    "        token_id = token_map[start_idx]\n",
    "\n",
    "        # ignore \"O\" predictions and whitespace preds\n",
    "        if label_pred != \"O\" and token_id != -1:\n",
    "            triplet = (label_pred, token_id, tokens[token_id])\n",
    "\n",
    "            if triplet not in triplets:\n",
    "                document.append(doc)\n",
    "                token.append(token_id)\n",
    "                label.append(label_pred)\n",
    "                token_str.append(tokens[token_id])\n",
    "                triplets.append(triplet)"
   ]
  },
  {
   "cell_type": "code",
   "execution_count": 269,
   "id": "780708f4",
   "metadata": {},
   "outputs": [
    {
     "data": {
      "text/html": [
       "<div><style>\n",
       ".dataframe > thead > tr,\n",
       ".dataframe > tbody > tr {\n",
       "  text-align: right;\n",
       "  white-space: pre-wrap;\n",
       "}\n",
       "</style>\n",
       "<small>shape: (2, 4)</small><table border=\"1\" class=\"dataframe\"><thead><tr><th>document</th><th>token</th><th>label</th><th>token_str</th></tr><tr><td>i64</td><td>i64</td><td>str</td><td>str</td></tr></thead><tbody><tr><td>2804</td><td>0</td><td>&quot;B-NAME_STUDENT…</td><td>&quot;Maicol&quot;</td></tr><tr><td>2804</td><td>1</td><td>&quot;I-NAME_STUDENT…</td><td>&quot;Toro&quot;</td></tr></tbody></table></div>"
      ],
      "text/plain": [
       "shape: (2, 4)\n",
       "┌──────────┬───────┬────────────────┬───────────┐\n",
       "│ document ┆ token ┆ label          ┆ token_str │\n",
       "│ ---      ┆ ---   ┆ ---            ┆ ---       │\n",
       "│ i64      ┆ i64   ┆ str            ┆ str       │\n",
       "╞══════════╪═══════╪════════════════╪═══════════╡\n",
       "│ 2804     ┆ 0     ┆ B-NAME_STUDENT ┆ Maicol    │\n",
       "│ 2804     ┆ 1     ┆ I-NAME_STUDENT ┆ Toro      │\n",
       "└──────────┴───────┴────────────────┴───────────┘"
      ]
     },
     "execution_count": 269,
     "metadata": {},
     "output_type": "execute_result"
    }
   ],
   "source": [
    "output_df = pl.DataFrame(\n",
    "    [document, token, label, token_str],\n",
    "    schema=[\"document\", \"token\", \"label\", \"token_str\"],\n",
    ")\n",
    "\n",
    "output_df"
   ]
  },
  {
   "cell_type": "code",
   "execution_count": 266,
   "id": "46d9082f",
   "metadata": {
    "execution": {
     "iopub.execute_input": "2024-03-03T00:24:37.886964Z",
     "iopub.status.busy": "2024-03-03T00:24:37.886563Z",
     "iopub.status.idle": "2024-03-03T00:24:39.843708Z",
     "shell.execute_reply": "2024-03-03T00:24:39.842877Z"
    },
    "papermill": {
     "duration": 1.969331,
     "end_time": "2024-03-03T00:24:39.846001",
     "exception": false,
     "start_time": "2024-03-03T00:24:37.876670",
     "status": "completed"
    },
    "tags": []
   },
   "outputs": [
    {
     "name": "stderr",
     "output_type": "stream",
     "text": [
      "100%|██████████| 10/10 [00:08<00:00,  1.19it/s]\n"
     ]
    }
   ],
   "source": [
    "predictions = trainer.predict(test_dataset).predictions\n",
    "pred_softmax = np.exp(predictions) / np.sum(np.exp(predictions), axis=2).reshape(\n",
    "    predictions.shape[0], predictions.shape[1], 1\n",
    ")\n",
    "preds_final = predictions.argmax(-1)"
   ]
  }
 ],
 "metadata": {
  "kaggle": {
   "accelerator": "gpu",
   "dataSources": [
    {
     "databundleVersionId": 7500999,
     "sourceId": 66653,
     "sourceType": "competition"
    },
    {
     "datasetId": 4526859,
     "sourceId": 7744249,
     "sourceType": "datasetVersion"
    },
    {
     "sourceId": 161710222,
     "sourceType": "kernelVersion"
    }
   ],
   "dockerImageVersionId": 30648,
   "isGpuEnabled": true,
   "isInternetEnabled": false,
   "language": "python",
   "sourceType": "notebook"
  },
  "kernelspec": {
   "display_name": "Python 3",
   "language": "python",
   "name": "python3"
  },
  "language_info": {
   "codemirror_mode": {
    "name": "ipython",
    "version": 3
   },
   "file_extension": ".py",
   "mimetype": "text/x-python",
   "name": "python",
   "nbconvert_exporter": "python",
   "pygments_lexer": "ipython3",
   "version": "3.12.1"
  },
  "papermill": {
   "default_parameters": {},
   "duration": 116.362451,
   "end_time": "2024-03-03T00:24:43.412722",
   "environment_variables": {},
   "exception": null,
   "input_path": "__notebook__.ipynb",
   "output_path": "__notebook__.ipynb",
   "parameters": {},
   "start_time": "2024-03-03T00:22:47.050271",
   "version": "2.5.0"
  },
  "widgets": {
   "application/vnd.jupyter.widget-state+json": {
    "state": {
     "09572d777e8541b5a1158e4451a452f3": {
      "model_module": "@jupyter-widgets/controls",
      "model_module_version": "1.5.0",
      "model_name": "DescriptionStyleModel",
      "state": {
       "_model_module": "@jupyter-widgets/controls",
       "_model_module_version": "1.5.0",
       "_model_name": "DescriptionStyleModel",
       "_view_count": null,
       "_view_module": "@jupyter-widgets/base",
       "_view_module_version": "1.2.0",
       "_view_name": "StyleView",
       "description_width": ""
      }
     },
     "16f297ecc57e4a3fbc778663c2e16a4e": {
      "model_module": "@jupyter-widgets/controls",
      "model_module_version": "1.5.0",
      "model_name": "HTMLModel",
      "state": {
       "_dom_classes": [],
       "_model_module": "@jupyter-widgets/controls",
       "_model_module_version": "1.5.0",
       "_model_name": "HTMLModel",
       "_view_count": null,
       "_view_module": "@jupyter-widgets/controls",
       "_view_module_version": "1.5.0",
       "_view_name": "HTMLView",
       "description": "",
       "description_tooltip": null,
       "layout": "IPY_MODEL_5bc765d617a94c38990e0b75b28406b1",
       "placeholder": "​",
       "style": "IPY_MODEL_09572d777e8541b5a1158e4451a452f3",
       "value": "Computing checksums: 100%"
      }
     },
     "19cf006fa4ed4d049d6cece7a1b8f91e": {
      "model_module": "@jupyter-widgets/base",
      "model_module_version": "1.2.0",
      "model_name": "LayoutModel",
      "state": {
       "_model_module": "@jupyter-widgets/base",
       "_model_module_version": "1.2.0",
       "_model_name": "LayoutModel",
       "_view_count": null,
       "_view_module": "@jupyter-widgets/base",
       "_view_module_version": "1.2.0",
       "_view_name": "LayoutView",
       "align_content": null,
       "align_items": null,
       "align_self": null,
       "border": null,
       "bottom": null,
       "display": null,
       "flex": null,
       "flex_flow": null,
       "grid_area": null,
       "grid_auto_columns": null,
       "grid_auto_flow": null,
       "grid_auto_rows": null,
       "grid_column": null,
       "grid_gap": null,
       "grid_row": null,
       "grid_template_areas": null,
       "grid_template_columns": null,
       "grid_template_rows": null,
       "height": null,
       "justify_content": null,
       "justify_items": null,
       "left": null,
       "margin": null,
       "max_height": null,
       "max_width": null,
       "min_height": null,
       "min_width": null,
       "object_fit": null,
       "object_position": null,
       "order": null,
       "overflow": null,
       "overflow_x": null,
       "overflow_y": null,
       "padding": null,
       "right": null,
       "top": null,
       "visibility": null,
       "width": null
      }
     },
     "1b25cede7cd24c1aa8aa595c7f433bb9": {
      "model_module": "@jupyter-widgets/controls",
      "model_module_version": "1.5.0",
      "model_name": "FloatProgressModel",
      "state": {
       "_dom_classes": [],
       "_model_module": "@jupyter-widgets/controls",
       "_model_module_version": "1.5.0",
       "_model_name": "FloatProgressModel",
       "_view_count": null,
       "_view_module": "@jupyter-widgets/controls",
       "_view_module_version": "1.5.0",
       "_view_name": "ProgressView",
       "bar_style": "success",
       "description": "",
       "description_tooltip": null,
       "layout": "IPY_MODEL_bad9896d0e9949c4b0e5c219f374f574",
       "max": 1,
       "min": 0,
       "orientation": "horizontal",
       "style": "IPY_MODEL_870e04ff13714abb889e3178965b32a1",
       "value": 1
      }
     },
     "285de589f9144262a0cf8a3315672685": {
      "model_module": "@jupyter-widgets/controls",
      "model_module_version": "1.5.0",
      "model_name": "HTMLModel",
      "state": {
       "_dom_classes": [],
       "_model_module": "@jupyter-widgets/controls",
       "_model_module_version": "1.5.0",
       "_model_name": "HTMLModel",
       "_view_count": null,
       "_view_module": "@jupyter-widgets/controls",
       "_view_module_version": "1.5.0",
       "_view_name": "HTMLView",
       "description": "",
       "description_tooltip": null,
       "layout": "IPY_MODEL_72f3ad2b37594644bc8e3ca31a77e1f9",
       "placeholder": "​",
       "style": "IPY_MODEL_5ea651e7910e40938ed014bb5db245ad",
       "value": " 1/1 [00:00&lt;00:00, 101.34it/s]"
      }
     },
     "2d6019b79805415f97d0db4e1c0451d8": {
      "model_module": "@jupyter-widgets/controls",
      "model_module_version": "1.5.0",
      "model_name": "HTMLModel",
      "state": {
       "_dom_classes": [],
       "_model_module": "@jupyter-widgets/controls",
       "_model_module_version": "1.5.0",
       "_model_name": "HTMLModel",
       "_view_count": null,
       "_view_module": "@jupyter-widgets/controls",
       "_view_module_version": "1.5.0",
       "_view_name": "HTMLView",
       "description": "",
       "description_tooltip": null,
       "layout": "IPY_MODEL_748bbd9491df4800a1e9f448e4afe21f",
       "placeholder": "​",
       "style": "IPY_MODEL_9f44ddd5105948ed93f248e935660a0a",
       "value": "Generating test split: "
      }
     },
     "3252d267cc554971b5a67a0753deabad": {
      "model_module": "@jupyter-widgets/base",
      "model_module_version": "1.2.0",
      "model_name": "LayoutModel",
      "state": {
       "_model_module": "@jupyter-widgets/base",
       "_model_module_version": "1.2.0",
       "_model_name": "LayoutModel",
       "_view_count": null,
       "_view_module": "@jupyter-widgets/base",
       "_view_module_version": "1.2.0",
       "_view_name": "LayoutView",
       "align_content": null,
       "align_items": null,
       "align_self": null,
       "border": null,
       "bottom": null,
       "display": null,
       "flex": null,
       "flex_flow": null,
       "grid_area": null,
       "grid_auto_columns": null,
       "grid_auto_flow": null,
       "grid_auto_rows": null,
       "grid_column": null,
       "grid_gap": null,
       "grid_row": null,
       "grid_template_areas": null,
       "grid_template_columns": null,
       "grid_template_rows": null,
       "height": null,
       "justify_content": null,
       "justify_items": null,
       "left": null,
       "margin": null,
       "max_height": null,
       "max_width": null,
       "min_height": null,
       "min_width": null,
       "object_fit": null,
       "object_position": null,
       "order": null,
       "overflow": null,
       "overflow_x": null,
       "overflow_y": null,
       "padding": null,
       "right": null,
       "top": null,
       "visibility": null,
       "width": "20px"
      }
     },
     "38a89ce89b094af69e26f18c6774ad74": {
      "model_module": "@jupyter-widgets/controls",
      "model_module_version": "1.5.0",
      "model_name": "FloatProgressModel",
      "state": {
       "_dom_classes": [],
       "_model_module": "@jupyter-widgets/controls",
       "_model_module_version": "1.5.0",
       "_model_name": "FloatProgressModel",
       "_view_count": null,
       "_view_module": "@jupyter-widgets/controls",
       "_view_module_version": "1.5.0",
       "_view_name": "ProgressView",
       "bar_style": "success",
       "description": "",
       "description_tooltip": null,
       "layout": "IPY_MODEL_f4d859c8dff1408ca54ca271f37d5c1b",
       "max": 10,
       "min": 0,
       "orientation": "horizontal",
       "style": "IPY_MODEL_e89d4205d8cd49c9a349408bc43effc8",
       "value": 10
      }
     },
     "3e215166218a48439c865141c3a35744": {
      "model_module": "@jupyter-widgets/controls",
      "model_module_version": "1.5.0",
      "model_name": "HBoxModel",
      "state": {
       "_dom_classes": [],
       "_model_module": "@jupyter-widgets/controls",
       "_model_module_version": "1.5.0",
       "_model_name": "HBoxModel",
       "_view_count": null,
       "_view_module": "@jupyter-widgets/controls",
       "_view_module_version": "1.5.0",
       "_view_name": "HBoxView",
       "box_style": "",
       "children": [
        "IPY_MODEL_16f297ecc57e4a3fbc778663c2e16a4e",
        "IPY_MODEL_1b25cede7cd24c1aa8aa595c7f433bb9",
        "IPY_MODEL_285de589f9144262a0cf8a3315672685"
       ],
       "layout": "IPY_MODEL_19cf006fa4ed4d049d6cece7a1b8f91e"
      }
     },
     "4661e431ad464d36925b0f47bfdda384": {
      "model_module": "@jupyter-widgets/controls",
      "model_module_version": "1.5.0",
      "model_name": "HBoxModel",
      "state": {
       "_dom_classes": [],
       "_model_module": "@jupyter-widgets/controls",
       "_model_module_version": "1.5.0",
       "_model_name": "HBoxModel",
       "_view_count": null,
       "_view_module": "@jupyter-widgets/controls",
       "_view_module_version": "1.5.0",
       "_view_name": "HBoxView",
       "box_style": "",
       "children": [
        "IPY_MODEL_2d6019b79805415f97d0db4e1c0451d8",
        "IPY_MODEL_9c558fe22600475dba6bf23c24d279e8",
        "IPY_MODEL_d736e52c8c304b08b5825e61d219b87c"
       ],
       "layout": "IPY_MODEL_e83610c574d64c1cbbf15f9a8be518f9"
      }
     },
     "46b0d9efd17a43f7952ee732249f5e8c": {
      "model_module": "@jupyter-widgets/base",
      "model_module_version": "1.2.0",
      "model_name": "LayoutModel",
      "state": {
       "_model_module": "@jupyter-widgets/base",
       "_model_module_version": "1.2.0",
       "_model_name": "LayoutModel",
       "_view_count": null,
       "_view_module": "@jupyter-widgets/base",
       "_view_module_version": "1.2.0",
       "_view_name": "LayoutView",
       "align_content": null,
       "align_items": null,
       "align_self": null,
       "border": null,
       "bottom": null,
       "display": null,
       "flex": null,
       "flex_flow": null,
       "grid_area": null,
       "grid_auto_columns": null,
       "grid_auto_flow": null,
       "grid_auto_rows": null,
       "grid_column": null,
       "grid_gap": null,
       "grid_row": null,
       "grid_template_areas": null,
       "grid_template_columns": null,
       "grid_template_rows": null,
       "height": null,
       "justify_content": null,
       "justify_items": null,
       "left": null,
       "margin": null,
       "max_height": null,
       "max_width": null,
       "min_height": null,
       "min_width": null,
       "object_fit": null,
       "object_position": null,
       "order": null,
       "overflow": null,
       "overflow_x": null,
       "overflow_y": null,
       "padding": null,
       "right": null,
       "top": null,
       "visibility": null,
       "width": null
      }
     },
     "57876c7dc69e4875bb03ae7caa2eee9c": {
      "model_module": "@jupyter-widgets/controls",
      "model_module_version": "1.5.0",
      "model_name": "DescriptionStyleModel",
      "state": {
       "_model_module": "@jupyter-widgets/controls",
       "_model_module_version": "1.5.0",
       "_model_name": "DescriptionStyleModel",
       "_view_count": null,
       "_view_module": "@jupyter-widgets/base",
       "_view_module_version": "1.2.0",
       "_view_name": "StyleView",
       "description_width": ""
      }
     },
     "5bc765d617a94c38990e0b75b28406b1": {
      "model_module": "@jupyter-widgets/base",
      "model_module_version": "1.2.0",
      "model_name": "LayoutModel",
      "state": {
       "_model_module": "@jupyter-widgets/base",
       "_model_module_version": "1.2.0",
       "_model_name": "LayoutModel",
       "_view_count": null,
       "_view_module": "@jupyter-widgets/base",
       "_view_module_version": "1.2.0",
       "_view_name": "LayoutView",
       "align_content": null,
       "align_items": null,
       "align_self": null,
       "border": null,
       "bottom": null,
       "display": null,
       "flex": null,
       "flex_flow": null,
       "grid_area": null,
       "grid_auto_columns": null,
       "grid_auto_flow": null,
       "grid_auto_rows": null,
       "grid_column": null,
       "grid_gap": null,
       "grid_row": null,
       "grid_template_areas": null,
       "grid_template_columns": null,
       "grid_template_rows": null,
       "height": null,
       "justify_content": null,
       "justify_items": null,
       "left": null,
       "margin": null,
       "max_height": null,
       "max_width": null,
       "min_height": null,
       "min_width": null,
       "object_fit": null,
       "object_position": null,
       "order": null,
       "overflow": null,
       "overflow_x": null,
       "overflow_y": null,
       "padding": null,
       "right": null,
       "top": null,
       "visibility": null,
       "width": null
      }
     },
     "5ea651e7910e40938ed014bb5db245ad": {
      "model_module": "@jupyter-widgets/controls",
      "model_module_version": "1.5.0",
      "model_name": "DescriptionStyleModel",
      "state": {
       "_model_module": "@jupyter-widgets/controls",
       "_model_module_version": "1.5.0",
       "_model_name": "DescriptionStyleModel",
       "_view_count": null,
       "_view_module": "@jupyter-widgets/base",
       "_view_module_version": "1.2.0",
       "_view_name": "StyleView",
       "description_width": ""
      }
     },
     "6c9e8107b4c4455a98f348dd5b51f3a5": {
      "model_module": "@jupyter-widgets/base",
      "model_module_version": "1.2.0",
      "model_name": "LayoutModel",
      "state": {
       "_model_module": "@jupyter-widgets/base",
       "_model_module_version": "1.2.0",
       "_model_name": "LayoutModel",
       "_view_count": null,
       "_view_module": "@jupyter-widgets/base",
       "_view_module_version": "1.2.0",
       "_view_name": "LayoutView",
       "align_content": null,
       "align_items": null,
       "align_self": null,
       "border": null,
       "bottom": null,
       "display": null,
       "flex": null,
       "flex_flow": null,
       "grid_area": null,
       "grid_auto_columns": null,
       "grid_auto_flow": null,
       "grid_auto_rows": null,
       "grid_column": null,
       "grid_gap": null,
       "grid_row": null,
       "grid_template_areas": null,
       "grid_template_columns": null,
       "grid_template_rows": null,
       "height": null,
       "justify_content": null,
       "justify_items": null,
       "left": null,
       "margin": null,
       "max_height": null,
       "max_width": null,
       "min_height": null,
       "min_width": null,
       "object_fit": null,
       "object_position": null,
       "order": null,
       "overflow": null,
       "overflow_x": null,
       "overflow_y": null,
       "padding": null,
       "right": null,
       "top": null,
       "visibility": null,
       "width": null
      }
     },
     "72f3ad2b37594644bc8e3ca31a77e1f9": {
      "model_module": "@jupyter-widgets/base",
      "model_module_version": "1.2.0",
      "model_name": "LayoutModel",
      "state": {
       "_model_module": "@jupyter-widgets/base",
       "_model_module_version": "1.2.0",
       "_model_name": "LayoutModel",
       "_view_count": null,
       "_view_module": "@jupyter-widgets/base",
       "_view_module_version": "1.2.0",
       "_view_name": "LayoutView",
       "align_content": null,
       "align_items": null,
       "align_self": null,
       "border": null,
       "bottom": null,
       "display": null,
       "flex": null,
       "flex_flow": null,
       "grid_area": null,
       "grid_auto_columns": null,
       "grid_auto_flow": null,
       "grid_auto_rows": null,
       "grid_column": null,
       "grid_gap": null,
       "grid_row": null,
       "grid_template_areas": null,
       "grid_template_columns": null,
       "grid_template_rows": null,
       "height": null,
       "justify_content": null,
       "justify_items": null,
       "left": null,
       "margin": null,
       "max_height": null,
       "max_width": null,
       "min_height": null,
       "min_width": null,
       "object_fit": null,
       "object_position": null,
       "order": null,
       "overflow": null,
       "overflow_x": null,
       "overflow_y": null,
       "padding": null,
       "right": null,
       "top": null,
       "visibility": null,
       "width": null
      }
     },
     "748bbd9491df4800a1e9f448e4afe21f": {
      "model_module": "@jupyter-widgets/base",
      "model_module_version": "1.2.0",
      "model_name": "LayoutModel",
      "state": {
       "_model_module": "@jupyter-widgets/base",
       "_model_module_version": "1.2.0",
       "_model_name": "LayoutModel",
       "_view_count": null,
       "_view_module": "@jupyter-widgets/base",
       "_view_module_version": "1.2.0",
       "_view_name": "LayoutView",
       "align_content": null,
       "align_items": null,
       "align_self": null,
       "border": null,
       "bottom": null,
       "display": null,
       "flex": null,
       "flex_flow": null,
       "grid_area": null,
       "grid_auto_columns": null,
       "grid_auto_flow": null,
       "grid_auto_rows": null,
       "grid_column": null,
       "grid_gap": null,
       "grid_row": null,
       "grid_template_areas": null,
       "grid_template_columns": null,
       "grid_template_rows": null,
       "height": null,
       "justify_content": null,
       "justify_items": null,
       "left": null,
       "margin": null,
       "max_height": null,
       "max_width": null,
       "min_height": null,
       "min_width": null,
       "object_fit": null,
       "object_position": null,
       "order": null,
       "overflow": null,
       "overflow_x": null,
       "overflow_y": null,
       "padding": null,
       "right": null,
       "top": null,
       "visibility": null,
       "width": null
      }
     },
     "7ba9e5a39ea94f51a6dd8516d3c0c47f": {
      "model_module": "@jupyter-widgets/controls",
      "model_module_version": "1.5.0",
      "model_name": "ProgressStyleModel",
      "state": {
       "_model_module": "@jupyter-widgets/controls",
       "_model_module_version": "1.5.0",
       "_model_name": "ProgressStyleModel",
       "_view_count": null,
       "_view_module": "@jupyter-widgets/base",
       "_view_module_version": "1.2.0",
       "_view_name": "StyleView",
       "bar_color": null,
       "description_width": ""
      }
     },
     "870e04ff13714abb889e3178965b32a1": {
      "model_module": "@jupyter-widgets/controls",
      "model_module_version": "1.5.0",
      "model_name": "ProgressStyleModel",
      "state": {
       "_model_module": "@jupyter-widgets/controls",
       "_model_module_version": "1.5.0",
       "_model_name": "ProgressStyleModel",
       "_view_count": null,
       "_view_module": "@jupyter-widgets/base",
       "_view_module_version": "1.2.0",
       "_view_name": "StyleView",
       "bar_color": null,
       "description_width": ""
      }
     },
     "9c558fe22600475dba6bf23c24d279e8": {
      "model_module": "@jupyter-widgets/controls",
      "model_module_version": "1.5.0",
      "model_name": "FloatProgressModel",
      "state": {
       "_dom_classes": [],
       "_model_module": "@jupyter-widgets/controls",
       "_model_module_version": "1.5.0",
       "_model_name": "FloatProgressModel",
       "_view_count": null,
       "_view_module": "@jupyter-widgets/controls",
       "_view_module_version": "1.5.0",
       "_view_name": "ProgressView",
       "bar_style": "success",
       "description": "",
       "description_tooltip": null,
       "layout": "IPY_MODEL_3252d267cc554971b5a67a0753deabad",
       "max": 1,
       "min": 0,
       "orientation": "horizontal",
       "style": "IPY_MODEL_7ba9e5a39ea94f51a6dd8516d3c0c47f",
       "value": 1
      }
     },
     "9f44ddd5105948ed93f248e935660a0a": {
      "model_module": "@jupyter-widgets/controls",
      "model_module_version": "1.5.0",
      "model_name": "DescriptionStyleModel",
      "state": {
       "_model_module": "@jupyter-widgets/controls",
       "_model_module_version": "1.5.0",
       "_model_name": "DescriptionStyleModel",
       "_view_count": null,
       "_view_module": "@jupyter-widgets/base",
       "_view_module_version": "1.2.0",
       "_view_name": "StyleView",
       "description_width": ""
      }
     },
     "a0e27bbab2b44ae0a51495a6a91ecb54": {
      "model_module": "@jupyter-widgets/controls",
      "model_module_version": "1.5.0",
      "model_name": "DescriptionStyleModel",
      "state": {
       "_model_module": "@jupyter-widgets/controls",
       "_model_module_version": "1.5.0",
       "_model_name": "DescriptionStyleModel",
       "_view_count": null,
       "_view_module": "@jupyter-widgets/base",
       "_view_module_version": "1.2.0",
       "_view_name": "StyleView",
       "description_width": ""
      }
     },
     "a6df541d29b54a169dfae56b37270a9e": {
      "model_module": "@jupyter-widgets/base",
      "model_module_version": "1.2.0",
      "model_name": "LayoutModel",
      "state": {
       "_model_module": "@jupyter-widgets/base",
       "_model_module_version": "1.2.0",
       "_model_name": "LayoutModel",
       "_view_count": null,
       "_view_module": "@jupyter-widgets/base",
       "_view_module_version": "1.2.0",
       "_view_name": "LayoutView",
       "align_content": null,
       "align_items": null,
       "align_self": null,
       "border": null,
       "bottom": null,
       "display": null,
       "flex": null,
       "flex_flow": null,
       "grid_area": null,
       "grid_auto_columns": null,
       "grid_auto_flow": null,
       "grid_auto_rows": null,
       "grid_column": null,
       "grid_gap": null,
       "grid_row": null,
       "grid_template_areas": null,
       "grid_template_columns": null,
       "grid_template_rows": null,
       "height": null,
       "justify_content": null,
       "justify_items": null,
       "left": null,
       "margin": null,
       "max_height": null,
       "max_width": null,
       "min_height": null,
       "min_width": null,
       "object_fit": null,
       "object_position": null,
       "order": null,
       "overflow": null,
       "overflow_x": null,
       "overflow_y": null,
       "padding": null,
       "right": null,
       "top": null,
       "visibility": null,
       "width": null
      }
     },
     "ac09281a409646ccb2a7bba9e7d0d291": {
      "model_module": "@jupyter-widgets/controls",
      "model_module_version": "1.5.0",
      "model_name": "HTMLModel",
      "state": {
       "_dom_classes": [],
       "_model_module": "@jupyter-widgets/controls",
       "_model_module_version": "1.5.0",
       "_model_name": "HTMLModel",
       "_view_count": null,
       "_view_module": "@jupyter-widgets/controls",
       "_view_module_version": "1.5.0",
       "_view_name": "HTMLView",
       "description": "",
       "description_tooltip": null,
       "layout": "IPY_MODEL_a6df541d29b54a169dfae56b37270a9e",
       "placeholder": "​",
       "style": "IPY_MODEL_a0e27bbab2b44ae0a51495a6a91ecb54",
       "value": " 10/10 [00:00&lt;00:00,  8.90 examples/s]"
      }
     },
     "aeea4de1af7f409ab2e01fc90cf46325": {
      "model_module": "@jupyter-widgets/controls",
      "model_module_version": "1.5.0",
      "model_name": "HBoxModel",
      "state": {
       "_dom_classes": [],
       "_model_module": "@jupyter-widgets/controls",
       "_model_module_version": "1.5.0",
       "_model_name": "HBoxModel",
       "_view_count": null,
       "_view_module": "@jupyter-widgets/controls",
       "_view_module_version": "1.5.0",
       "_view_name": "HBoxView",
       "box_style": "",
       "children": [
        "IPY_MODEL_e0b07d536c67450280705b425a155518",
        "IPY_MODEL_38a89ce89b094af69e26f18c6774ad74",
        "IPY_MODEL_ac09281a409646ccb2a7bba9e7d0d291"
       ],
       "layout": "IPY_MODEL_6c9e8107b4c4455a98f348dd5b51f3a5"
      }
     },
     "bad9896d0e9949c4b0e5c219f374f574": {
      "model_module": "@jupyter-widgets/base",
      "model_module_version": "1.2.0",
      "model_name": "LayoutModel",
      "state": {
       "_model_module": "@jupyter-widgets/base",
       "_model_module_version": "1.2.0",
       "_model_name": "LayoutModel",
       "_view_count": null,
       "_view_module": "@jupyter-widgets/base",
       "_view_module_version": "1.2.0",
       "_view_name": "LayoutView",
       "align_content": null,
       "align_items": null,
       "align_self": null,
       "border": null,
       "bottom": null,
       "display": null,
       "flex": null,
       "flex_flow": null,
       "grid_area": null,
       "grid_auto_columns": null,
       "grid_auto_flow": null,
       "grid_auto_rows": null,
       "grid_column": null,
       "grid_gap": null,
       "grid_row": null,
       "grid_template_areas": null,
       "grid_template_columns": null,
       "grid_template_rows": null,
       "height": null,
       "justify_content": null,
       "justify_items": null,
       "left": null,
       "margin": null,
       "max_height": null,
       "max_width": null,
       "min_height": null,
       "min_width": null,
       "object_fit": null,
       "object_position": null,
       "order": null,
       "overflow": null,
       "overflow_x": null,
       "overflow_y": null,
       "padding": null,
       "right": null,
       "top": null,
       "visibility": null,
       "width": null
      }
     },
     "d0c77026c16c419e8d48a83d95253a35": {
      "model_module": "@jupyter-widgets/base",
      "model_module_version": "1.2.0",
      "model_name": "LayoutModel",
      "state": {
       "_model_module": "@jupyter-widgets/base",
       "_model_module_version": "1.2.0",
       "_model_name": "LayoutModel",
       "_view_count": null,
       "_view_module": "@jupyter-widgets/base",
       "_view_module_version": "1.2.0",
       "_view_name": "LayoutView",
       "align_content": null,
       "align_items": null,
       "align_self": null,
       "border": null,
       "bottom": null,
       "display": null,
       "flex": null,
       "flex_flow": null,
       "grid_area": null,
       "grid_auto_columns": null,
       "grid_auto_flow": null,
       "grid_auto_rows": null,
       "grid_column": null,
       "grid_gap": null,
       "grid_row": null,
       "grid_template_areas": null,
       "grid_template_columns": null,
       "grid_template_rows": null,
       "height": null,
       "justify_content": null,
       "justify_items": null,
       "left": null,
       "margin": null,
       "max_height": null,
       "max_width": null,
       "min_height": null,
       "min_width": null,
       "object_fit": null,
       "object_position": null,
       "order": null,
       "overflow": null,
       "overflow_x": null,
       "overflow_y": null,
       "padding": null,
       "right": null,
       "top": null,
       "visibility": null,
       "width": null
      }
     },
     "d736e52c8c304b08b5825e61d219b87c": {
      "model_module": "@jupyter-widgets/controls",
      "model_module_version": "1.5.0",
      "model_name": "HTMLModel",
      "state": {
       "_dom_classes": [],
       "_model_module": "@jupyter-widgets/controls",
       "_model_module_version": "1.5.0",
       "_model_name": "HTMLModel",
       "_view_count": null,
       "_view_module": "@jupyter-widgets/controls",
       "_view_module_version": "1.5.0",
       "_view_name": "HTMLView",
       "description": "",
       "description_tooltip": null,
       "layout": "IPY_MODEL_46b0d9efd17a43f7952ee732249f5e8c",
       "placeholder": "​",
       "style": "IPY_MODEL_e5dee679d29b41b6b957f981c9695f68",
       "value": " 10/0 [00:00&lt;00:00, 209.11 examples/s]"
      }
     },
     "e0b07d536c67450280705b425a155518": {
      "model_module": "@jupyter-widgets/controls",
      "model_module_version": "1.5.0",
      "model_name": "HTMLModel",
      "state": {
       "_dom_classes": [],
       "_model_module": "@jupyter-widgets/controls",
       "_model_module_version": "1.5.0",
       "_model_name": "HTMLModel",
       "_view_count": null,
       "_view_module": "@jupyter-widgets/controls",
       "_view_module_version": "1.5.0",
       "_view_name": "HTMLView",
       "description": "",
       "description_tooltip": null,
       "layout": "IPY_MODEL_d0c77026c16c419e8d48a83d95253a35",
       "placeholder": "​",
       "style": "IPY_MODEL_57876c7dc69e4875bb03ae7caa2eee9c",
       "value": "Map (num_proc=2): 100%"
      }
     },
     "e5dee679d29b41b6b957f981c9695f68": {
      "model_module": "@jupyter-widgets/controls",
      "model_module_version": "1.5.0",
      "model_name": "DescriptionStyleModel",
      "state": {
       "_model_module": "@jupyter-widgets/controls",
       "_model_module_version": "1.5.0",
       "_model_name": "DescriptionStyleModel",
       "_view_count": null,
       "_view_module": "@jupyter-widgets/base",
       "_view_module_version": "1.2.0",
       "_view_name": "StyleView",
       "description_width": ""
      }
     },
     "e83610c574d64c1cbbf15f9a8be518f9": {
      "model_module": "@jupyter-widgets/base",
      "model_module_version": "1.2.0",
      "model_name": "LayoutModel",
      "state": {
       "_model_module": "@jupyter-widgets/base",
       "_model_module_version": "1.2.0",
       "_model_name": "LayoutModel",
       "_view_count": null,
       "_view_module": "@jupyter-widgets/base",
       "_view_module_version": "1.2.0",
       "_view_name": "LayoutView",
       "align_content": null,
       "align_items": null,
       "align_self": null,
       "border": null,
       "bottom": null,
       "display": null,
       "flex": null,
       "flex_flow": null,
       "grid_area": null,
       "grid_auto_columns": null,
       "grid_auto_flow": null,
       "grid_auto_rows": null,
       "grid_column": null,
       "grid_gap": null,
       "grid_row": null,
       "grid_template_areas": null,
       "grid_template_columns": null,
       "grid_template_rows": null,
       "height": null,
       "justify_content": null,
       "justify_items": null,
       "left": null,
       "margin": null,
       "max_height": null,
       "max_width": null,
       "min_height": null,
       "min_width": null,
       "object_fit": null,
       "object_position": null,
       "order": null,
       "overflow": null,
       "overflow_x": null,
       "overflow_y": null,
       "padding": null,
       "right": null,
       "top": null,
       "visibility": null,
       "width": null
      }
     },
     "e89d4205d8cd49c9a349408bc43effc8": {
      "model_module": "@jupyter-widgets/controls",
      "model_module_version": "1.5.0",
      "model_name": "ProgressStyleModel",
      "state": {
       "_model_module": "@jupyter-widgets/controls",
       "_model_module_version": "1.5.0",
       "_model_name": "ProgressStyleModel",
       "_view_count": null,
       "_view_module": "@jupyter-widgets/base",
       "_view_module_version": "1.2.0",
       "_view_name": "StyleView",
       "bar_color": null,
       "description_width": ""
      }
     },
     "f4d859c8dff1408ca54ca271f37d5c1b": {
      "model_module": "@jupyter-widgets/base",
      "model_module_version": "1.2.0",
      "model_name": "LayoutModel",
      "state": {
       "_model_module": "@jupyter-widgets/base",
       "_model_module_version": "1.2.0",
       "_model_name": "LayoutModel",
       "_view_count": null,
       "_view_module": "@jupyter-widgets/base",
       "_view_module_version": "1.2.0",
       "_view_name": "LayoutView",
       "align_content": null,
       "align_items": null,
       "align_self": null,
       "border": null,
       "bottom": null,
       "display": null,
       "flex": null,
       "flex_flow": null,
       "grid_area": null,
       "grid_auto_columns": null,
       "grid_auto_flow": null,
       "grid_auto_rows": null,
       "grid_column": null,
       "grid_gap": null,
       "grid_row": null,
       "grid_template_areas": null,
       "grid_template_columns": null,
       "grid_template_rows": null,
       "height": null,
       "justify_content": null,
       "justify_items": null,
       "left": null,
       "margin": null,
       "max_height": null,
       "max_width": null,
       "min_height": null,
       "min_width": null,
       "object_fit": null,
       "object_position": null,
       "order": null,
       "overflow": null,
       "overflow_x": null,
       "overflow_y": null,
       "padding": null,
       "right": null,
       "top": null,
       "visibility": null,
       "width": null
      }
     }
    },
    "version_major": 2,
    "version_minor": 0
   }
  }
 },
 "nbformat": 4,
 "nbformat_minor": 5
}
