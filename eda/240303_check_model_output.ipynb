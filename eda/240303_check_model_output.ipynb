{
 "cells": [
  {
   "cell_type": "markdown",
   "id": "34335e05",
   "metadata": {},
   "source": [
    "# 目的\n",
    "モデルの出力の確認"
   ]
  },
  {
   "cell_type": "code",
   "execution_count": 69,
   "id": "a829770f",
   "metadata": {},
   "outputs": [],
   "source": [
    "EXP_NAME = \"exp051\"\n",
    "CHECK_DOCUMENT = 9760"
   ]
  },
  {
   "cell_type": "markdown",
   "id": "32143193",
   "metadata": {
    "papermill": {
     "duration": 0.00716,
     "end_time": "2024-03-03T00:22:50.143728",
     "exception": false,
     "start_time": "2024-03-03T00:22:50.136568",
     "status": "completed"
    },
    "tags": []
   },
   "source": [
    "# Constant"
   ]
  },
  {
   "cell_type": "code",
   "execution_count": 70,
   "id": "372eaf54",
   "metadata": {},
   "outputs": [],
   "source": [
    "TRAINED_MODEL_PATH = \"pll_data_detection/trained_models/e050-add-epoch\"\n",
    "\n",
    "DATA_PATH = \"pll_data_detection/data\"\n",
    "MODEL_NAME = \"microsoft/deberta-v3-large\""
   ]
  },
  {
   "cell_type": "markdown",
   "id": "24f29967",
   "metadata": {
    "papermill": {
     "duration": 0.007115,
     "end_time": "2024-03-03T00:22:50.188055",
     "exception": false,
     "start_time": "2024-03-03T00:22:50.180940",
     "status": "completed"
    },
    "tags": []
   },
   "source": [
    "# Install\n",
    "https://www.kaggle.com/competitions/benetech-making-graphs-accessible/discussion/410130#2258335"
   ]
  },
  {
   "cell_type": "code",
   "execution_count": 71,
   "id": "ce3430e7",
   "metadata": {},
   "outputs": [],
   "source": [
    "# %pip install polars==0.20.10\n",
    "# %pip install transformers==4.37.2\n",
    "# %pip install datasets==2.16.1\n",
    "# %pip install evaluate==0.4.1\n",
    "# %pip install seqeval==1.2.2\n",
    "# %pip install accelerate\n",
    "# %pip install python-dotenv\n",
    "# %pip install kaggle\n",
    "# %pip iinstall wandb==0.16.3\n",
    "\n",
    "# # formatter\n",
    "# %pip install black isort"
   ]
  },
  {
   "cell_type": "markdown",
   "id": "b60dfecf",
   "metadata": {
    "papermill": {
     "duration": 0.008233,
     "end_time": "2024-03-03T00:23:45.423339",
     "exception": false,
     "start_time": "2024-03-03T00:23:45.415106",
     "status": "completed"
    },
    "tags": []
   },
   "source": [
    "# Import"
   ]
  },
  {
   "cell_type": "code",
   "execution_count": 72,
   "id": "84983a4e",
   "metadata": {
    "execution": {
     "iopub.execute_input": "2024-03-03T00:23:45.443252Z",
     "iopub.status.busy": "2024-03-03T00:23:45.442845Z",
     "iopub.status.idle": "2024-03-03T00:24:08.921864Z",
     "shell.execute_reply": "2024-03-03T00:24:08.921029Z"
    },
    "papermill": {
     "duration": 23.491289,
     "end_time": "2024-03-03T00:24:08.924212",
     "exception": false,
     "start_time": "2024-03-03T00:23:45.432923",
     "status": "completed"
    },
    "tags": []
   },
   "outputs": [],
   "source": [
    "import evaluate\n",
    "import numpy as np\n",
    "import polars as pl\n",
    "import torch\n",
    "import datasets\n",
    "from datasets import load_dataset\n",
    "from tqdm.auto import tqdm\n",
    "import transformers\n",
    "from transformers import (\n",
    "    AutoModelForTokenClassification,\n",
    "    AutoTokenizer,\n",
    "    DataCollatorForTokenClassification,\n",
    "    TokenClassificationPipeline,\n",
    "    Trainer,\n",
    "    TrainingArguments,\n",
    ")"
   ]
  },
  {
   "cell_type": "code",
   "execution_count": 73,
   "id": "447d01c8",
   "metadata": {},
   "outputs": [],
   "source": [
    "# Seed the same seed to all\n",
    "import random\n",
    "import os\n",
    "\n",
    "SEED = 42\n",
    "\n",
    "\n",
    "def seed_everything(seed: int):\n",
    "    random.seed(seed)\n",
    "    os.environ[\"PYTHONHASHSEED\"] = str(seed)\n",
    "    np.random.seed(seed)\n",
    "    torch.manual_seed(seed)\n",
    "    torch.cuda.manual_seed(seed)\n",
    "    torch.backends.cudnn.deterministic = True\n",
    "    torch.backends.cudnn.benchmark = True\n",
    "\n",
    "\n",
    "seed_everything(SEED)"
   ]
  },
  {
   "cell_type": "markdown",
   "id": "43d367b8",
   "metadata": {
    "papermill": {
     "duration": 0.007691,
     "end_time": "2024-03-03T00:24:08.940212",
     "exception": false,
     "start_time": "2024-03-03T00:24:08.932521",
     "status": "completed"
    },
    "tags": []
   },
   "source": [
    "# Check Environment"
   ]
  },
  {
   "cell_type": "code",
   "execution_count": 74,
   "id": "893a5ae6",
   "metadata": {
    "execution": {
     "iopub.execute_input": "2024-03-03T00:24:08.959190Z",
     "iopub.status.busy": "2024-03-03T00:24:08.958048Z",
     "iopub.status.idle": "2024-03-03T00:24:09.966906Z",
     "shell.execute_reply": "2024-03-03T00:24:09.965883Z"
    },
    "papermill": {
     "duration": 1.021224,
     "end_time": "2024-03-03T00:24:09.969356",
     "exception": false,
     "start_time": "2024-03-03T00:24:08.948132",
     "status": "completed"
    },
    "tags": []
   },
   "outputs": [
    {
     "name": "stdout",
     "output_type": "stream",
     "text": [
      "Python 3.9.16\n"
     ]
    }
   ],
   "source": [
    "!python --version"
   ]
  },
  {
   "cell_type": "code",
   "execution_count": 75,
   "id": "0e16b608",
   "metadata": {
    "execution": {
     "iopub.execute_input": "2024-03-03T00:24:09.988188Z",
     "iopub.status.busy": "2024-03-03T00:24:09.987788Z",
     "iopub.status.idle": "2024-03-03T00:24:11.026946Z",
     "shell.execute_reply": "2024-03-03T00:24:11.025640Z"
    },
    "papermill": {
     "duration": 1.051571,
     "end_time": "2024-03-03T00:24:11.029470",
     "exception": false,
     "start_time": "2024-03-03T00:24:09.977899",
     "status": "completed"
    },
    "tags": []
   },
   "outputs": [
    {
     "name": "stdout",
     "output_type": "stream",
     "text": [
      "Wed Mar 20 05:16:33 2024       \n",
      "+-----------------------------------------------------------------------------+\n",
      "| NVIDIA-SMI 525.116.04   Driver Version: 525.116.04   CUDA Version: 12.0     |\n",
      "|-------------------------------+----------------------+----------------------+\n",
      "| GPU  Name        Persistence-M| Bus-Id        Disp.A | Volatile Uncorr. ECC |\n",
      "| Fan  Temp  Perf  Pwr:Usage/Cap|         Memory-Usage | GPU-Util  Compute M. |\n",
      "|                               |                      |               MIG M. |\n",
      "|===============================+======================+======================|\n",
      "|   0  NVIDIA RTX A6000    On   | 00000000:00:05.0 Off |                  Off |\n",
      "| 30%   39C    P8    23W / 300W |   4565MiB / 49140MiB |      0%      Default |\n",
      "|                               |                      |                  N/A |\n",
      "+-------------------------------+----------------------+----------------------+\n",
      "                                                                               \n",
      "+-----------------------------------------------------------------------------+\n",
      "| Processes:                                                                  |\n",
      "|  GPU   GI   CI        PID   Type   Process name                  GPU Memory |\n",
      "|        ID   ID                                                   Usage      |\n",
      "|=============================================================================|\n",
      "+-----------------------------------------------------------------------------+\n"
     ]
    }
   ],
   "source": [
    "!nvidia-smi"
   ]
  },
  {
   "cell_type": "code",
   "execution_count": 76,
   "id": "8e89dbb3",
   "metadata": {
    "execution": {
     "iopub.execute_input": "2024-03-03T00:24:11.048575Z",
     "iopub.status.busy": "2024-03-03T00:24:11.047596Z",
     "iopub.status.idle": "2024-03-03T00:24:11.053276Z",
     "shell.execute_reply": "2024-03-03T00:24:11.052265Z"
    },
    "papermill": {
     "duration": 0.017514,
     "end_time": "2024-03-03T00:24:11.055438",
     "exception": false,
     "start_time": "2024-03-03T00:24:11.037924",
     "status": "completed"
    },
    "tags": []
   },
   "outputs": [],
   "source": [
    "assert transformers.__version__ == \"4.37.2\"\n",
    "assert datasets.__version__ == \"2.16.1\"\n",
    "assert evaluate.__version__ == \"0.4.1\""
   ]
  },
  {
   "cell_type": "markdown",
   "id": "5d3942b4",
   "metadata": {
    "papermill": {
     "duration": 0.008372,
     "end_time": "2024-03-03T00:24:11.072384",
     "exception": false,
     "start_time": "2024-03-03T00:24:11.064012",
     "status": "completed"
    },
    "tags": []
   },
   "source": [
    "# Data Load"
   ]
  },
  {
   "cell_type": "code",
   "execution_count": 77,
   "id": "89c48c79",
   "metadata": {
    "execution": {
     "iopub.execute_input": "2024-03-03T00:24:11.090564Z",
     "iopub.status.busy": "2024-03-03T00:24:11.089940Z",
     "iopub.status.idle": "2024-03-03T00:24:31.279294Z",
     "shell.execute_reply": "2024-03-03T00:24:31.278474Z"
    },
    "papermill": {
     "duration": 20.200727,
     "end_time": "2024-03-03T00:24:31.281344",
     "exception": false,
     "start_time": "2024-03-03T00:24:11.080617",
     "status": "completed"
    },
    "tags": []
   },
   "outputs": [],
   "source": [
    "train_dataset = load_dataset(\"json\", data_files={\"train\": f\"{DATA_PATH}/train.json\"})"
   ]
  },
  {
   "cell_type": "code",
   "execution_count": 78,
   "id": "07b49a89",
   "metadata": {},
   "outputs": [
    {
     "data": {
      "application/vnd.jupyter.widget-view+json": {
       "model_id": "c0bb1389aa5d419491bbe3c4e2d8ca47",
       "version_major": 2,
       "version_minor": 0
      },
      "text/plain": [
       "Filter (num_proc=3):   0%|          | 0/6807 [00:00<?, ? examples/s]"
      ]
     },
     "metadata": {},
     "output_type": "display_data"
    }
   ],
   "source": [
    "# 確認したいデータをここで選択する\n",
    "train_dataset = train_dataset.filter(\n",
    "    lambda example: example[\"document\"] == CHECK_DOCUMENT, num_proc=3\n",
    ")"
   ]
  },
  {
   "cell_type": "code",
   "execution_count": 79,
   "id": "8c30ec6f",
   "metadata": {
    "execution": {
     "iopub.execute_input": "2024-03-03T00:24:31.300740Z",
     "iopub.status.busy": "2024-03-03T00:24:31.300378Z",
     "iopub.status.idle": "2024-03-03T00:24:36.420311Z",
     "shell.execute_reply": "2024-03-03T00:24:36.419462Z"
    },
    "papermill": {
     "duration": 5.132218,
     "end_time": "2024-03-03T00:24:36.422643",
     "exception": false,
     "start_time": "2024-03-03T00:24:31.290425",
     "status": "completed"
    },
    "tags": []
   },
   "outputs": [
    {
     "name": "stderr",
     "output_type": "stream",
     "text": [
      "Special tokens have been added in the vocabulary, make sure the associated word embeddings are fine-tuned or trained.\n"
     ]
    }
   ],
   "source": [
    "model = AutoModelForTokenClassification.from_pretrained(TRAINED_MODEL_PATH)\n",
    "tokenizer = AutoTokenizer.from_pretrained(TRAINED_MODEL_PATH)"
   ]
  },
  {
   "cell_type": "markdown",
   "id": "5cdfa305",
   "metadata": {
    "papermill": {
     "duration": 0.008578,
     "end_time": "2024-03-03T00:24:36.440315",
     "exception": false,
     "start_time": "2024-03-03T00:24:36.431737",
     "status": "completed"
    },
    "tags": []
   },
   "source": [
    "# Prediction"
   ]
  },
  {
   "cell_type": "code",
   "execution_count": 80,
   "id": "cf761f22",
   "metadata": {
    "execution": {
     "iopub.execute_input": "2024-03-03T00:24:36.458877Z",
     "iopub.status.busy": "2024-03-03T00:24:36.458480Z",
     "iopub.status.idle": "2024-03-03T00:24:36.465475Z",
     "shell.execute_reply": "2024-03-03T00:24:36.464564Z"
    },
    "papermill": {
     "duration": 0.018762,
     "end_time": "2024-03-03T00:24:36.467485",
     "exception": false,
     "start_time": "2024-03-03T00:24:36.448723",
     "status": "completed"
    },
    "tags": []
   },
   "outputs": [],
   "source": [
    "def tokenize(example, tokenizer):\n",
    "    text = []\n",
    "    token_map = []\n",
    "\n",
    "    idx = 0\n",
    "\n",
    "    for t, ws in zip(example[\"tokens\"], example[\"trailing_whitespace\"]):\n",
    "        text.append(t)\n",
    "        token_map.extend([idx] * len(t))\n",
    "        if ws:\n",
    "            text.append(\" \")\n",
    "            token_map.append(-1)\n",
    "\n",
    "        idx += 1\n",
    "\n",
    "    tokenized = tokenizer(\"\".join(text), return_offsets_mapping=True, truncation=False)\n",
    "\n",
    "    return {\n",
    "        **tokenized,\n",
    "        \"token_map\": token_map,\n",
    "    }"
   ]
  },
  {
   "cell_type": "code",
   "execution_count": 81,
   "id": "74342530",
   "metadata": {
    "execution": {
     "iopub.execute_input": "2024-03-03T00:24:36.486020Z",
     "iopub.status.busy": "2024-03-03T00:24:36.485350Z",
     "iopub.status.idle": "2024-03-03T00:24:37.298565Z",
     "shell.execute_reply": "2024-03-03T00:24:37.297181Z"
    },
    "papermill": {
     "duration": 0.825306,
     "end_time": "2024-03-03T00:24:37.301331",
     "exception": false,
     "start_time": "2024-03-03T00:24:36.476025",
     "status": "completed"
    },
    "tags": []
   },
   "outputs": [
    {
     "name": "stderr",
     "output_type": "stream",
     "text": [
      "num_proc must be <= 1. Reducing num_proc to 1 for dataset of size 1.\n"
     ]
    },
    {
     "data": {
      "application/vnd.jupyter.widget-view+json": {
       "model_id": "36162ab7c94c49f9ab1a05c257b7d4a0",
       "version_major": 2,
       "version_minor": 0
      },
      "text/plain": [
       "Map:   0%|          | 0/1 [00:00<?, ? examples/s]"
      ]
     },
     "metadata": {},
     "output_type": "display_data"
    }
   ],
   "source": [
    "train_dataset = train_dataset.map(\n",
    "    tokenize, fn_kwargs={\"tokenizer\": tokenizer}, num_proc=3\n",
    ")"
   ]
  },
  {
   "cell_type": "code",
   "execution_count": 82,
   "id": "7fd5bc43",
   "metadata": {
    "execution": {
     "iopub.execute_input": "2024-03-03T00:24:37.380217Z",
     "iopub.status.busy": "2024-03-03T00:24:37.379857Z",
     "iopub.status.idle": "2024-03-03T00:24:37.385226Z",
     "shell.execute_reply": "2024-03-03T00:24:37.384368Z"
    },
    "papermill": {
     "duration": 0.018452,
     "end_time": "2024-03-03T00:24:37.387483",
     "exception": false,
     "start_time": "2024-03-03T00:24:37.369031",
     "status": "completed"
    },
    "tags": []
   },
   "outputs": [],
   "source": [
    "collator = DataCollatorForTokenClassification(tokenizer, pad_to_multiple_of=16)"
   ]
  },
  {
   "cell_type": "code",
   "execution_count": 83,
   "id": "3b9625af",
   "metadata": {
    "execution": {
     "iopub.execute_input": "2024-03-03T00:24:37.409174Z",
     "iopub.status.busy": "2024-03-03T00:24:37.408736Z",
     "iopub.status.idle": "2024-03-03T00:24:37.837546Z",
     "shell.execute_reply": "2024-03-03T00:24:37.836481Z"
    },
    "papermill": {
     "duration": 0.442726,
     "end_time": "2024-03-03T00:24:37.840356",
     "exception": false,
     "start_time": "2024-03-03T00:24:37.397630",
     "status": "completed"
    },
    "tags": []
   },
   "outputs": [],
   "source": [
    "args = TrainingArguments(\n",
    "    \".\",\n",
    "    per_device_eval_batch_size=1,\n",
    "    report_to=\"none\",\n",
    ")\n",
    "trainer = Trainer(\n",
    "    model=model,\n",
    "    args=args,\n",
    "    data_collator=collator,\n",
    "    tokenizer=tokenizer,\n",
    ")"
   ]
  },
  {
   "cell_type": "code",
   "execution_count": 84,
   "id": "c2bcc9ff",
   "metadata": {
    "execution": {
     "iopub.execute_input": "2024-03-03T00:24:37.860609Z",
     "iopub.status.busy": "2024-03-03T00:24:37.860224Z",
     "iopub.status.idle": "2024-03-03T00:24:37.866096Z",
     "shell.execute_reply": "2024-03-03T00:24:37.865115Z"
    },
    "papermill": {
     "duration": 0.017949,
     "end_time": "2024-03-03T00:24:37.868104",
     "exception": false,
     "start_time": "2024-03-03T00:24:37.850155",
     "status": "completed"
    },
    "tags": []
   },
   "outputs": [],
   "source": [
    "id2label = {\n",
    "    0: \"O\",\n",
    "    1: \"B-NAME_STUDENT\",\n",
    "    2: \"I-NAME_STUDENT\",\n",
    "    3: \"B-EMAIL\",\n",
    "    4: \"I-EMAIL\",\n",
    "    5: \"B-USERNAME\",\n",
    "    6: \"I-USERNAME\",\n",
    "    7: \"B-ID_NUM\",\n",
    "    8: \"I-ID_NUM\",\n",
    "    9: \"B-PHONE_NUM\",\n",
    "    10: \"I-PHONE_NUM\",\n",
    "    11: \"B-URL_PERSONAL\",\n",
    "    12: \"I-URL_PERSONAL\",\n",
    "    13: \"B-STREET_ADDRESS\",\n",
    "    14: \"I-STREET_ADDRESS\",\n",
    "}"
   ]
  },
  {
   "cell_type": "code",
   "execution_count": 85,
   "id": "a07bb01b",
   "metadata": {},
   "outputs": [],
   "source": [
    "data = train_dataset[\"train\"].select_columns(\n",
    "    [\n",
    "        \"trailing_whitespace\",\n",
    "        \"full_text\",\n",
    "        \"tokens\",\n",
    "        \"document\",\n",
    "        \"input_ids\",\n",
    "        \"token_type_ids\",\n",
    "        \"attention_mask\",\n",
    "        \"offset_mapping\",\n",
    "        \"token_map\",\n",
    "    ]\n",
    ")"
   ]
  },
  {
   "cell_type": "code",
   "execution_count": 86,
   "id": "03d30da6",
   "metadata": {},
   "outputs": [
    {
     "data": {
      "text/html": [],
      "text/plain": [
       "<IPython.core.display.HTML object>"
      ]
     },
     "metadata": {},
     "output_type": "display_data"
    }
   ],
   "source": [
    "out = trainer.predict(data).predictions"
   ]
  },
  {
   "cell_type": "code",
   "execution_count": 87,
   "id": "0d9474e0",
   "metadata": {},
   "outputs": [
    {
     "data": {
      "text/html": [
       "<div><style>\n",
       ".dataframe > thead > tr,\n",
       ".dataframe > tbody > tr {\n",
       "  text-align: right;\n",
       "  white-space: pre-wrap;\n",
       "}\n",
       "</style>\n",
       "<small>shape: (432, 16)</small><table border=\"1\" class=\"dataframe\"><thead><tr><th>token</th><th>O</th><th>B-NAME_STUDENT</th><th>I-NAME_STUDENT</th><th>B-EMAIL</th><th>I-EMAIL</th><th>B-USERNAME</th><th>I-USERNAME</th><th>B-ID_NUM</th><th>I-ID_NUM</th><th>B-PHONE_NUM</th><th>I-PHONE_NUM</th><th>B-URL_PERSONAL</th><th>I-URL_PERSONAL</th><th>B-STREET_ADDRESS</th><th>I-STREET_ADDRESS</th></tr><tr><td>str</td><td>f32</td><td>f32</td><td>f32</td><td>f32</td><td>f32</td><td>f32</td><td>f32</td><td>f32</td><td>f32</td><td>f32</td><td>f32</td><td>f32</td><td>f32</td><td>f32</td><td>f32</td></tr></thead><tbody><tr><td>&quot;[CLS]&quot;</td><td>11.04885</td><td>0.44001</td><td>-1.186121</td><td>-2.170916</td><td>-1.243217</td><td>-0.651233</td><td>-1.235379</td><td>-0.202882</td><td>-2.279014</td><td>-1.469696</td><td>-1.892465</td><td>-1.019939</td><td>-1.869305</td><td>0.30078</td><td>-0.61287</td></tr><tr><td>&quot;▁Name&quot;</td><td>12.910772</td><td>1.136533</td><td>0.160565</td><td>-2.020278</td><td>-2.014395</td><td>-0.641895</td><td>-2.440061</td><td>-0.790824</td><td>-1.62418</td><td>-1.148059</td><td>-2.24225</td><td>-1.149885</td><td>-1.48836</td><td>0.211409</td><td>-0.698627</td></tr><tr><td>&quot;:&quot;</td><td>12.595451</td><td>0.43406</td><td>0.208871</td><td>-2.10352</td><td>-2.406795</td><td>-0.854782</td><td>-2.367032</td><td>-0.579656</td><td>-1.830994</td><td>-0.894282</td><td>-2.427516</td><td>-0.793023</td><td>-1.752013</td><td>-0.199894</td><td>-1.316524</td></tr><tr><td>&quot;▁Bk&quot;</td><td>3.793081</td><td>6.185917</td><td>1.826345</td><td>-2.511793</td><td>-1.729593</td><td>-0.944009</td><td>-1.917012</td><td>0.137435</td><td>-1.39509</td><td>-1.234843</td><td>-2.060781</td><td>-1.602226</td><td>-1.492442</td><td>0.683547</td><td>-1.916264</td></tr><tr><td>&quot;▁Bk&quot;</td><td>4.530054</td><td>5.017063</td><td>4.221374</td><td>-1.729772</td><td>-2.122084</td><td>-0.287324</td><td>-2.03901</td><td>0.354104</td><td>-0.750184</td><td>-1.782859</td><td>-2.639889</td><td>-1.965319</td><td>-1.582808</td><td>1.232731</td><td>-1.147424</td></tr><tr><td>&quot;▁Roll&quot;</td><td>13.236468</td><td>0.568029</td><td>-0.225706</td><td>-2.328736</td><td>-1.927059</td><td>-0.16618</td><td>-2.818129</td><td>-0.421243</td><td>-1.623899</td><td>-1.235324</td><td>-1.725881</td><td>-1.484768</td><td>-0.855491</td><td>0.977858</td><td>-0.991793</td></tr><tr><td>&quot;▁No&quot;</td><td>13.744381</td><td>-0.716081</td><td>-0.260859</td><td>-2.035801</td><td>-2.255582</td><td>0.093179</td><td>-2.427076</td><td>-0.408077</td><td>-1.756567</td><td>-0.903704</td><td>-2.327629</td><td>-1.593311</td><td>-1.252056</td><td>0.441623</td><td>-1.170448</td></tr><tr><td>&quot;:&quot;</td><td>12.443534</td><td>-0.425047</td><td>-0.384406</td><td>-1.870055</td><td>-2.519083</td><td>-0.855654</td><td>-2.010065</td><td>0.250098</td><td>-1.255611</td><td>-0.114158</td><td>-2.719435</td><td>-1.286022</td><td>-1.647909</td><td>-0.020091</td><td>-1.364368</td></tr><tr><td>&quot;▁172&quot;</td><td>1.961098</td><td>0.883388</td><td>-0.881172</td><td>-0.607576</td><td>-0.751658</td><td>0.45317</td><td>-1.637036</td><td>9.831906</td><td>-0.402555</td><td>-0.265344</td><td>-2.197389</td><td>-1.599271</td><td>-1.228016</td><td>-0.617258</td><td>-1.866018</td></tr><tr><td>&quot;801&quot;</td><td>1.959107</td><td>0.755942</td><td>-0.316336</td><td>-0.648564</td><td>-0.852651</td><td>0.548146</td><td>-1.889917</td><td>9.638918</td><td>0.151647</td><td>-0.188268</td><td>-1.765705</td><td>-1.545599</td><td>-1.772728</td><td>-0.43244</td><td>-1.26797</td></tr><tr><td>&quot;513&quot;</td><td>1.809606</td><td>0.900365</td><td>-0.242832</td><td>-0.496502</td><td>-0.679736</td><td>0.296604</td><td>-1.606476</td><td>9.881197</td><td>0.137833</td><td>-0.004482</td><td>-1.713065</td><td>-1.545647</td><td>-1.499799</td><td>-0.9076</td><td>-1.352793</td></tr><tr><td>&quot;686&quot;</td><td>2.20021</td><td>0.894505</td><td>-0.034724</td><td>-0.687679</td><td>-0.934014</td><td>0.249175</td><td>-1.540332</td><td>9.726796</td><td>0.026881</td><td>0.126365</td><td>-1.739951</td><td>-1.448217</td><td>-1.650605</td><td>-0.499493</td><td>-1.257085</td></tr><tr><td>&hellip;</td><td>&hellip;</td><td>&hellip;</td><td>&hellip;</td><td>&hellip;</td><td>&hellip;</td><td>&hellip;</td><td>&hellip;</td><td>&hellip;</td><td>&hellip;</td><td>&hellip;</td><td>&hellip;</td><td>&hellip;</td><td>&hellip;</td><td>&hellip;</td><td>&hellip;</td></tr><tr><td>&quot;▁simple&quot;</td><td>14.7499</td><td>-0.274891</td><td>-1.145759</td><td>-1.9454</td><td>-2.190169</td><td>0.292517</td><td>-1.980805</td><td>-0.766505</td><td>-2.127955</td><td>-0.801199</td><td>-1.403699</td><td>-1.538808</td><td>-1.382041</td><td>-0.10004</td><td>-0.680057</td></tr><tr><td>&quot;▁and&quot;</td><td>14.486018</td><td>-0.471873</td><td>-1.1927</td><td>-2.033337</td><td>-2.23149</td><td>-0.441603</td><td>-2.20836</td><td>-1.213756</td><td>-2.023195</td><td>-0.884</td><td>-1.760083</td><td>-0.632588</td><td>-1.358583</td><td>-0.673256</td><td>-0.385848</td></tr><tr><td>&quot;▁can&quot;</td><td>13.839086</td><td>-0.088448</td><td>-0.410145</td><td>-1.645661</td><td>-2.149854</td><td>-0.148466</td><td>-2.240915</td><td>-0.89629</td><td>-1.723627</td><td>-1.082488</td><td>-1.759782</td><td>-1.109193</td><td>-1.481427</td><td>-0.209463</td><td>-0.276257</td></tr><tr><td>&quot;▁understandabl…</td><td>14.221519</td><td>-0.175278</td><td>-0.528341</td><td>-1.831998</td><td>-1.911619</td><td>0.082563</td><td>-2.218947</td><td>-0.718978</td><td>-1.888744</td><td>-1.189438</td><td>-1.682409</td><td>-1.349804</td><td>-1.173338</td><td>0.142449</td><td>-0.554756</td></tr><tr><td>&quot;▁for&quot;</td><td>14.027094</td><td>-0.36856</td><td>-0.650329</td><td>-1.987152</td><td>-2.589898</td><td>-0.147398</td><td>-1.979089</td><td>-0.712249</td><td>-1.659747</td><td>-0.737409</td><td>-2.005053</td><td>-1.077468</td><td>-1.226473</td><td>-0.164469</td><td>-0.297082</td></tr><tr><td>&quot;▁uneducated&quot;</td><td>14.576626</td><td>0.11189</td><td>-0.942188</td><td>-2.052027</td><td>-2.129543</td><td>0.072344</td><td>-2.401222</td><td>-1.064066</td><td>-1.974902</td><td>-0.964297</td><td>-1.808714</td><td>-1.487993</td><td>-1.32683</td><td>-0.089893</td><td>-0.743426</td></tr><tr><td>&quot;▁people&quot;</td><td>14.449008</td><td>-0.073314</td><td>-0.99873</td><td>-1.668971</td><td>-2.429284</td><td>-0.100905</td><td>-2.24935</td><td>-0.911745</td><td>-1.734742</td><td>-0.640478</td><td>-1.565352</td><td>-1.345419</td><td>-1.448864</td><td>-0.403192</td><td>-0.046665</td></tr><tr><td>&quot;▁also&quot;</td><td>14.262296</td><td>0.214608</td><td>-0.924497</td><td>-1.701946</td><td>-1.817924</td><td>-0.193286</td><td>-2.10353</td><td>-1.174164</td><td>-1.876554</td><td>-0.797405</td><td>-1.691643</td><td>-1.11353</td><td>-1.730813</td><td>-0.466034</td><td>-0.174204</td></tr><tr><td>&quot;.&quot;</td><td>14.504825</td><td>-0.426017</td><td>-0.67105</td><td>-1.771721</td><td>-2.350832</td><td>-0.566801</td><td>-1.955794</td><td>-0.804086</td><td>-2.079112</td><td>-0.640031</td><td>-2.199858</td><td>-0.737985</td><td>-1.300982</td><td>-0.507312</td><td>-0.862167</td></tr><tr><td>&quot;\n",
       "&quot;</td><td>13.98327</td><td>0.729338</td><td>-0.559049</td><td>-1.846961</td><td>-2.171297</td><td>-0.658038</td><td>-2.23615</td><td>-1.458224</td><td>-2.147917</td><td>-1.156327</td><td>-1.060912</td><td>-1.543356</td><td>-1.685445</td><td>-0.02574</td><td>-0.511494</td></tr><tr><td>&quot;\n",
       "&quot;</td><td>13.184669</td><td>0.934687</td><td>-0.412615</td><td>-1.612788</td><td>-2.130443</td><td>-0.766018</td><td>-2.234924</td><td>-1.150701</td><td>-1.983717</td><td>-1.082536</td><td>-1.235991</td><td>-1.490272</td><td>-1.728615</td><td>0.19435</td><td>-0.832429</td></tr><tr><td>&quot;[SEP]&quot;</td><td>11.109811</td><td>0.394497</td><td>-1.295459</td><td>-2.175398</td><td>-1.370531</td><td>-0.701952</td><td>-1.168802</td><td>-0.310946</td><td>-2.275602</td><td>-1.42704</td><td>-1.982779</td><td>-1.05225</td><td>-1.844816</td><td>0.239915</td><td>-0.697264</td></tr></tbody></table></div>"
      ],
      "text/plain": [
       "shape: (432, 16)\n",
       "┌───────┬───────────┬────────────┬────────────┬───┬────────────┬───────────┬───────────┬───────────┐\n",
       "│ token ┆ O         ┆ B-NAME_STU ┆ I-NAME_STU ┆ … ┆ B-URL_PERS ┆ I-URL_PER ┆ B-STREET_ ┆ I-STREET_ │\n",
       "│ ---   ┆ ---       ┆ DENT       ┆ DENT       ┆   ┆ ONAL       ┆ SONAL     ┆ ADDRESS   ┆ ADDRESS   │\n",
       "│ str   ┆ f32       ┆ ---        ┆ ---        ┆   ┆ ---        ┆ ---       ┆ ---       ┆ ---       │\n",
       "│       ┆           ┆ f32        ┆ f32        ┆   ┆ f32        ┆ f32       ┆ f32       ┆ f32       │\n",
       "╞═══════╪═══════════╪════════════╪════════════╪═══╪════════════╪═══════════╪═══════════╪═══════════╡\n",
       "│ [CLS] ┆ 11.04885  ┆ 0.44001    ┆ -1.186121  ┆ … ┆ -1.019939  ┆ -1.869305 ┆ 0.30078   ┆ -0.61287  │\n",
       "│ ▁Name ┆ 12.910772 ┆ 1.136533   ┆ 0.160565   ┆ … ┆ -1.149885  ┆ -1.48836  ┆ 0.211409  ┆ -0.698627 │\n",
       "│ :     ┆ 12.595451 ┆ 0.43406    ┆ 0.208871   ┆ … ┆ -0.793023  ┆ -1.752013 ┆ -0.199894 ┆ -1.316524 │\n",
       "│ ▁Bk   ┆ 3.793081  ┆ 6.185917   ┆ 1.826345   ┆ … ┆ -1.602226  ┆ -1.492442 ┆ 0.683547  ┆ -1.916264 │\n",
       "│ ▁Bk   ┆ 4.530054  ┆ 5.017063   ┆ 4.221374   ┆ … ┆ -1.965319  ┆ -1.582808 ┆ 1.232731  ┆ -1.147424 │\n",
       "│ …     ┆ …         ┆ …          ┆ …          ┆ … ┆ …          ┆ …         ┆ …         ┆ …         │\n",
       "│ ▁also ┆ 14.262296 ┆ 0.214608   ┆ -0.924497  ┆ … ┆ -1.11353   ┆ -1.730813 ┆ -0.466034 ┆ -0.174204 │\n",
       "│ .     ┆ 14.504825 ┆ -0.426017  ┆ -0.67105   ┆ … ┆ -0.737985  ┆ -1.300982 ┆ -0.507312 ┆ -0.862167 │\n",
       "│       ┆ 13.98327  ┆ 0.729338   ┆ -0.559049  ┆ … ┆ -1.543356  ┆ -1.685445 ┆ -0.02574  ┆ -0.511494 │\n",
       "│       ┆           ┆            ┆            ┆   ┆            ┆           ┆           ┆           │\n",
       "│       ┆ 13.184669 ┆ 0.934687   ┆ -0.412615  ┆ … ┆ -1.490272  ┆ -1.728615 ┆ 0.19435   ┆ -0.832429 │\n",
       "│       ┆           ┆            ┆            ┆   ┆            ┆           ┆           ┆           │\n",
       "│ [SEP] ┆ 11.109811 ┆ 0.394497   ┆ -1.295459  ┆ … ┆ -1.05225   ┆ -1.844816 ┆ 0.239915  ┆ -0.697264 │\n",
       "└───────┴───────────┴────────────┴────────────┴───┴────────────┴───────────┴───────────┴───────────┘"
      ]
     },
     "execution_count": 87,
     "metadata": {},
     "output_type": "execute_result"
    }
   ],
   "source": [
    "logit_df = pl.concat(\n",
    "    [\n",
    "        pl.DataFrame(\n",
    "            tokenizer.convert_ids_to_tokens(data[\"input_ids\"][0]), schema=[\"token\"]\n",
    "        ),\n",
    "        pl.DataFrame(\n",
    "            out[0],\n",
    "            schema=id2label.values(),\n",
    "        ),\n",
    "    ],\n",
    "    how=\"horizontal\",\n",
    ")\n",
    "\n",
    "logit_df"
   ]
  },
  {
   "cell_type": "code",
   "execution_count": 88,
   "id": "e1349819",
   "metadata": {},
   "outputs": [],
   "source": [
    "# logit_df.write_csv(f\"output/{EXP_NAME}_document{CHECK_DOCUMENT}_logit.csv\") # vscode\n",
    "logit_df.write_csv(f\"{EXP_NAME}_document{CHECK_DOCUMENT}_logit.csv\")  # jupyterlab"
   ]
  },
  {
   "cell_type": "code",
   "execution_count": null,
   "id": "50c38729",
   "metadata": {},
   "outputs": [],
   "source": []
  },
  {
   "cell_type": "code",
   "execution_count": null,
   "id": "7865d7e1",
   "metadata": {},
   "outputs": [],
   "source": []
  },
  {
   "cell_type": "code",
   "execution_count": 89,
   "id": "e74e49b9",
   "metadata": {},
   "outputs": [],
   "source": [
    "# predictions = trainer.predict(data).predictions\n",
    "# pred_softmax = np.exp(predictions) / np.sum(np.exp(predictions), axis=2).reshape(\n",
    "#     predictions.shape[0], predictions.shape[1], 1\n",
    "# )\n",
    "# preds_final = predictions.argmax(-1)\n",
    "# preds_final"
   ]
  },
  {
   "cell_type": "code",
   "execution_count": 90,
   "id": "71513d3b",
   "metadata": {},
   "outputs": [],
   "source": [
    "# triplets = []\n",
    "# document, token, label, token_str = [], [], [], []\n",
    "# for p, token_map, offsets, tokens, doc in zip(\n",
    "#     preds_final,\n",
    "#     data[\"token_map\"],\n",
    "#     data[\"offset_mapping\"],\n",
    "#     data[\"tokens\"],\n",
    "#     data[\"document\"],\n",
    "# ):\n",
    "#     for token_pred, (start_idx, end_idx) in zip(p, offsets):\n",
    "#         label_pred = id2label[token_pred]\n",
    "\n",
    "#         if start_idx + end_idx == 0:\n",
    "#             continue\n",
    "\n",
    "#         if token_map[start_idx] == -1:\n",
    "#             start_idx += 1\n",
    "\n",
    "#         # ignore \"\\n\\n\"\n",
    "#         while start_idx < len(token_map) and tokens[token_map[start_idx]].isspace():\n",
    "#             start_idx += 1\n",
    "\n",
    "#         if start_idx >= len(token_map):\n",
    "#             break\n",
    "\n",
    "#         token_id = token_map[start_idx]\n",
    "\n",
    "#         # ignore \"O\" predictions and whitespace preds\n",
    "#         if label_pred != \"O\" and token_id != -1:\n",
    "#             triplet = (label_pred, token_id, tokens[token_id])\n",
    "\n",
    "#             if triplet not in triplets:\n",
    "#                 document.append(doc)\n",
    "#                 token.append(token_id)\n",
    "#                 label.append(label_pred)\n",
    "#                 token_str.append(tokens[token_id])\n",
    "#                 triplets.append(triplet)"
   ]
  },
  {
   "cell_type": "code",
   "execution_count": 91,
   "id": "780708f4",
   "metadata": {},
   "outputs": [],
   "source": [
    "# output_df = pl.DataFrame(\n",
    "#     [document, token, label, token_str],\n",
    "#     schema=[\"document\", \"token\", \"label\", \"token_str\"],\n",
    "# )\n",
    "\n",
    "# output_df"
   ]
  },
  {
   "cell_type": "code",
   "execution_count": 92,
   "id": "46d9082f",
   "metadata": {
    "execution": {
     "iopub.execute_input": "2024-03-03T00:24:37.886964Z",
     "iopub.status.busy": "2024-03-03T00:24:37.886563Z",
     "iopub.status.idle": "2024-03-03T00:24:39.843708Z",
     "shell.execute_reply": "2024-03-03T00:24:39.842877Z"
    },
    "papermill": {
     "duration": 1.969331,
     "end_time": "2024-03-03T00:24:39.846001",
     "exception": false,
     "start_time": "2024-03-03T00:24:37.876670",
     "status": "completed"
    },
    "tags": []
   },
   "outputs": [],
   "source": [
    "# predictions = trainer.predict(test_dataset).predictions\n",
    "# pred_softmax = np.exp(predictions) / np.sum(np.exp(predictions), axis=2).reshape(\n",
    "#     predictions.shape[0], predictions.shape[1], 1\n",
    "# )\n",
    "# preds_final = predictions.argmax(-1)"
   ]
  }
 ],
 "metadata": {
  "kaggle": {
   "accelerator": "gpu",
   "dataSources": [
    {
     "databundleVersionId": 7500999,
     "sourceId": 66653,
     "sourceType": "competition"
    },
    {
     "datasetId": 4526859,
     "sourceId": 7744249,
     "sourceType": "datasetVersion"
    },
    {
     "sourceId": 161710222,
     "sourceType": "kernelVersion"
    }
   ],
   "dockerImageVersionId": 30648,
   "isGpuEnabled": true,
   "isInternetEnabled": false,
   "language": "python",
   "sourceType": "notebook"
  },
  "kernelspec": {
   "display_name": "Python 3 (ipykernel)",
   "language": "python",
   "name": "python3"
  },
  "language_info": {
   "codemirror_mode": {
    "name": "ipython",
    "version": 3
   },
   "file_extension": ".py",
   "mimetype": "text/x-python",
   "name": "python",
   "nbconvert_exporter": "python",
   "pygments_lexer": "ipython3",
   "version": "3.9.16"
  },
  "papermill": {
   "default_parameters": {},
   "duration": 116.362451,
   "end_time": "2024-03-03T00:24:43.412722",
   "environment_variables": {},
   "exception": null,
   "input_path": "__notebook__.ipynb",
   "output_path": "__notebook__.ipynb",
   "parameters": {},
   "start_time": "2024-03-03T00:22:47.050271",
   "version": "2.5.0"
  },
  "widgets": {
   "application/vnd.jupyter.widget-state+json": {
    "state": {
     "09572d777e8541b5a1158e4451a452f3": {
      "model_module": "@jupyter-widgets/controls",
      "model_module_version": "1.5.0",
      "model_name": "DescriptionStyleModel",
      "state": {
       "_model_module": "@jupyter-widgets/controls",
       "_model_module_version": "1.5.0",
       "_model_name": "DescriptionStyleModel",
       "_view_count": null,
       "_view_module": "@jupyter-widgets/base",
       "_view_module_version": "1.2.0",
       "_view_name": "StyleView",
       "description_width": ""
      }
     },
     "16f297ecc57e4a3fbc778663c2e16a4e": {
      "model_module": "@jupyter-widgets/controls",
      "model_module_version": "1.5.0",
      "model_name": "HTMLModel",
      "state": {
       "_dom_classes": [],
       "_model_module": "@jupyter-widgets/controls",
       "_model_module_version": "1.5.0",
       "_model_name": "HTMLModel",
       "_view_count": null,
       "_view_module": "@jupyter-widgets/controls",
       "_view_module_version": "1.5.0",
       "_view_name": "HTMLView",
       "description": "",
       "description_tooltip": null,
       "layout": "IPY_MODEL_5bc765d617a94c38990e0b75b28406b1",
       "placeholder": "​",
       "style": "IPY_MODEL_09572d777e8541b5a1158e4451a452f3",
       "value": "Computing checksums: 100%"
      }
     },
     "19cf006fa4ed4d049d6cece7a1b8f91e": {
      "model_module": "@jupyter-widgets/base",
      "model_module_version": "1.2.0",
      "model_name": "LayoutModel",
      "state": {
       "_model_module": "@jupyter-widgets/base",
       "_model_module_version": "1.2.0",
       "_model_name": "LayoutModel",
       "_view_count": null,
       "_view_module": "@jupyter-widgets/base",
       "_view_module_version": "1.2.0",
       "_view_name": "LayoutView",
       "align_content": null,
       "align_items": null,
       "align_self": null,
       "border": null,
       "bottom": null,
       "display": null,
       "flex": null,
       "flex_flow": null,
       "grid_area": null,
       "grid_auto_columns": null,
       "grid_auto_flow": null,
       "grid_auto_rows": null,
       "grid_column": null,
       "grid_gap": null,
       "grid_row": null,
       "grid_template_areas": null,
       "grid_template_columns": null,
       "grid_template_rows": null,
       "height": null,
       "justify_content": null,
       "justify_items": null,
       "left": null,
       "margin": null,
       "max_height": null,
       "max_width": null,
       "min_height": null,
       "min_width": null,
       "object_fit": null,
       "object_position": null,
       "order": null,
       "overflow": null,
       "overflow_x": null,
       "overflow_y": null,
       "padding": null,
       "right": null,
       "top": null,
       "visibility": null,
       "width": null
      }
     },
     "1b25cede7cd24c1aa8aa595c7f433bb9": {
      "model_module": "@jupyter-widgets/controls",
      "model_module_version": "1.5.0",
      "model_name": "FloatProgressModel",
      "state": {
       "_dom_classes": [],
       "_model_module": "@jupyter-widgets/controls",
       "_model_module_version": "1.5.0",
       "_model_name": "FloatProgressModel",
       "_view_count": null,
       "_view_module": "@jupyter-widgets/controls",
       "_view_module_version": "1.5.0",
       "_view_name": "ProgressView",
       "bar_style": "success",
       "description": "",
       "description_tooltip": null,
       "layout": "IPY_MODEL_bad9896d0e9949c4b0e5c219f374f574",
       "max": 1,
       "min": 0,
       "orientation": "horizontal",
       "style": "IPY_MODEL_870e04ff13714abb889e3178965b32a1",
       "value": 1
      }
     },
     "285de589f9144262a0cf8a3315672685": {
      "model_module": "@jupyter-widgets/controls",
      "model_module_version": "1.5.0",
      "model_name": "HTMLModel",
      "state": {
       "_dom_classes": [],
       "_model_module": "@jupyter-widgets/controls",
       "_model_module_version": "1.5.0",
       "_model_name": "HTMLModel",
       "_view_count": null,
       "_view_module": "@jupyter-widgets/controls",
       "_view_module_version": "1.5.0",
       "_view_name": "HTMLView",
       "description": "",
       "description_tooltip": null,
       "layout": "IPY_MODEL_72f3ad2b37594644bc8e3ca31a77e1f9",
       "placeholder": "​",
       "style": "IPY_MODEL_5ea651e7910e40938ed014bb5db245ad",
       "value": " 1/1 [00:00&lt;00:00, 101.34it/s]"
      }
     },
     "2d6019b79805415f97d0db4e1c0451d8": {
      "model_module": "@jupyter-widgets/controls",
      "model_module_version": "1.5.0",
      "model_name": "HTMLModel",
      "state": {
       "_dom_classes": [],
       "_model_module": "@jupyter-widgets/controls",
       "_model_module_version": "1.5.0",
       "_model_name": "HTMLModel",
       "_view_count": null,
       "_view_module": "@jupyter-widgets/controls",
       "_view_module_version": "1.5.0",
       "_view_name": "HTMLView",
       "description": "",
       "description_tooltip": null,
       "layout": "IPY_MODEL_748bbd9491df4800a1e9f448e4afe21f",
       "placeholder": "​",
       "style": "IPY_MODEL_9f44ddd5105948ed93f248e935660a0a",
       "value": "Generating test split: "
      }
     },
     "3252d267cc554971b5a67a0753deabad": {
      "model_module": "@jupyter-widgets/base",
      "model_module_version": "1.2.0",
      "model_name": "LayoutModel",
      "state": {
       "_model_module": "@jupyter-widgets/base",
       "_model_module_version": "1.2.0",
       "_model_name": "LayoutModel",
       "_view_count": null,
       "_view_module": "@jupyter-widgets/base",
       "_view_module_version": "1.2.0",
       "_view_name": "LayoutView",
       "align_content": null,
       "align_items": null,
       "align_self": null,
       "border": null,
       "bottom": null,
       "display": null,
       "flex": null,
       "flex_flow": null,
       "grid_area": null,
       "grid_auto_columns": null,
       "grid_auto_flow": null,
       "grid_auto_rows": null,
       "grid_column": null,
       "grid_gap": null,
       "grid_row": null,
       "grid_template_areas": null,
       "grid_template_columns": null,
       "grid_template_rows": null,
       "height": null,
       "justify_content": null,
       "justify_items": null,
       "left": null,
       "margin": null,
       "max_height": null,
       "max_width": null,
       "min_height": null,
       "min_width": null,
       "object_fit": null,
       "object_position": null,
       "order": null,
       "overflow": null,
       "overflow_x": null,
       "overflow_y": null,
       "padding": null,
       "right": null,
       "top": null,
       "visibility": null,
       "width": "20px"
      }
     },
     "38a89ce89b094af69e26f18c6774ad74": {
      "model_module": "@jupyter-widgets/controls",
      "model_module_version": "1.5.0",
      "model_name": "FloatProgressModel",
      "state": {
       "_dom_classes": [],
       "_model_module": "@jupyter-widgets/controls",
       "_model_module_version": "1.5.0",
       "_model_name": "FloatProgressModel",
       "_view_count": null,
       "_view_module": "@jupyter-widgets/controls",
       "_view_module_version": "1.5.0",
       "_view_name": "ProgressView",
       "bar_style": "success",
       "description": "",
       "description_tooltip": null,
       "layout": "IPY_MODEL_f4d859c8dff1408ca54ca271f37d5c1b",
       "max": 10,
       "min": 0,
       "orientation": "horizontal",
       "style": "IPY_MODEL_e89d4205d8cd49c9a349408bc43effc8",
       "value": 10
      }
     },
     "3e215166218a48439c865141c3a35744": {
      "model_module": "@jupyter-widgets/controls",
      "model_module_version": "1.5.0",
      "model_name": "HBoxModel",
      "state": {
       "_dom_classes": [],
       "_model_module": "@jupyter-widgets/controls",
       "_model_module_version": "1.5.0",
       "_model_name": "HBoxModel",
       "_view_count": null,
       "_view_module": "@jupyter-widgets/controls",
       "_view_module_version": "1.5.0",
       "_view_name": "HBoxView",
       "box_style": "",
       "children": [
        "IPY_MODEL_16f297ecc57e4a3fbc778663c2e16a4e",
        "IPY_MODEL_1b25cede7cd24c1aa8aa595c7f433bb9",
        "IPY_MODEL_285de589f9144262a0cf8a3315672685"
       ],
       "layout": "IPY_MODEL_19cf006fa4ed4d049d6cece7a1b8f91e"
      }
     },
     "4661e431ad464d36925b0f47bfdda384": {
      "model_module": "@jupyter-widgets/controls",
      "model_module_version": "1.5.0",
      "model_name": "HBoxModel",
      "state": {
       "_dom_classes": [],
       "_model_module": "@jupyter-widgets/controls",
       "_model_module_version": "1.5.0",
       "_model_name": "HBoxModel",
       "_view_count": null,
       "_view_module": "@jupyter-widgets/controls",
       "_view_module_version": "1.5.0",
       "_view_name": "HBoxView",
       "box_style": "",
       "children": [
        "IPY_MODEL_2d6019b79805415f97d0db4e1c0451d8",
        "IPY_MODEL_9c558fe22600475dba6bf23c24d279e8",
        "IPY_MODEL_d736e52c8c304b08b5825e61d219b87c"
       ],
       "layout": "IPY_MODEL_e83610c574d64c1cbbf15f9a8be518f9"
      }
     },
     "46b0d9efd17a43f7952ee732249f5e8c": {
      "model_module": "@jupyter-widgets/base",
      "model_module_version": "1.2.0",
      "model_name": "LayoutModel",
      "state": {
       "_model_module": "@jupyter-widgets/base",
       "_model_module_version": "1.2.0",
       "_model_name": "LayoutModel",
       "_view_count": null,
       "_view_module": "@jupyter-widgets/base",
       "_view_module_version": "1.2.0",
       "_view_name": "LayoutView",
       "align_content": null,
       "align_items": null,
       "align_self": null,
       "border": null,
       "bottom": null,
       "display": null,
       "flex": null,
       "flex_flow": null,
       "grid_area": null,
       "grid_auto_columns": null,
       "grid_auto_flow": null,
       "grid_auto_rows": null,
       "grid_column": null,
       "grid_gap": null,
       "grid_row": null,
       "grid_template_areas": null,
       "grid_template_columns": null,
       "grid_template_rows": null,
       "height": null,
       "justify_content": null,
       "justify_items": null,
       "left": null,
       "margin": null,
       "max_height": null,
       "max_width": null,
       "min_height": null,
       "min_width": null,
       "object_fit": null,
       "object_position": null,
       "order": null,
       "overflow": null,
       "overflow_x": null,
       "overflow_y": null,
       "padding": null,
       "right": null,
       "top": null,
       "visibility": null,
       "width": null
      }
     },
     "57876c7dc69e4875bb03ae7caa2eee9c": {
      "model_module": "@jupyter-widgets/controls",
      "model_module_version": "1.5.0",
      "model_name": "DescriptionStyleModel",
      "state": {
       "_model_module": "@jupyter-widgets/controls",
       "_model_module_version": "1.5.0",
       "_model_name": "DescriptionStyleModel",
       "_view_count": null,
       "_view_module": "@jupyter-widgets/base",
       "_view_module_version": "1.2.0",
       "_view_name": "StyleView",
       "description_width": ""
      }
     },
     "5bc765d617a94c38990e0b75b28406b1": {
      "model_module": "@jupyter-widgets/base",
      "model_module_version": "1.2.0",
      "model_name": "LayoutModel",
      "state": {
       "_model_module": "@jupyter-widgets/base",
       "_model_module_version": "1.2.0",
       "_model_name": "LayoutModel",
       "_view_count": null,
       "_view_module": "@jupyter-widgets/base",
       "_view_module_version": "1.2.0",
       "_view_name": "LayoutView",
       "align_content": null,
       "align_items": null,
       "align_self": null,
       "border": null,
       "bottom": null,
       "display": null,
       "flex": null,
       "flex_flow": null,
       "grid_area": null,
       "grid_auto_columns": null,
       "grid_auto_flow": null,
       "grid_auto_rows": null,
       "grid_column": null,
       "grid_gap": null,
       "grid_row": null,
       "grid_template_areas": null,
       "grid_template_columns": null,
       "grid_template_rows": null,
       "height": null,
       "justify_content": null,
       "justify_items": null,
       "left": null,
       "margin": null,
       "max_height": null,
       "max_width": null,
       "min_height": null,
       "min_width": null,
       "object_fit": null,
       "object_position": null,
       "order": null,
       "overflow": null,
       "overflow_x": null,
       "overflow_y": null,
       "padding": null,
       "right": null,
       "top": null,
       "visibility": null,
       "width": null
      }
     },
     "5ea651e7910e40938ed014bb5db245ad": {
      "model_module": "@jupyter-widgets/controls",
      "model_module_version": "1.5.0",
      "model_name": "DescriptionStyleModel",
      "state": {
       "_model_module": "@jupyter-widgets/controls",
       "_model_module_version": "1.5.0",
       "_model_name": "DescriptionStyleModel",
       "_view_count": null,
       "_view_module": "@jupyter-widgets/base",
       "_view_module_version": "1.2.0",
       "_view_name": "StyleView",
       "description_width": ""
      }
     },
     "6c9e8107b4c4455a98f348dd5b51f3a5": {
      "model_module": "@jupyter-widgets/base",
      "model_module_version": "1.2.0",
      "model_name": "LayoutModel",
      "state": {
       "_model_module": "@jupyter-widgets/base",
       "_model_module_version": "1.2.0",
       "_model_name": "LayoutModel",
       "_view_count": null,
       "_view_module": "@jupyter-widgets/base",
       "_view_module_version": "1.2.0",
       "_view_name": "LayoutView",
       "align_content": null,
       "align_items": null,
       "align_self": null,
       "border": null,
       "bottom": null,
       "display": null,
       "flex": null,
       "flex_flow": null,
       "grid_area": null,
       "grid_auto_columns": null,
       "grid_auto_flow": null,
       "grid_auto_rows": null,
       "grid_column": null,
       "grid_gap": null,
       "grid_row": null,
       "grid_template_areas": null,
       "grid_template_columns": null,
       "grid_template_rows": null,
       "height": null,
       "justify_content": null,
       "justify_items": null,
       "left": null,
       "margin": null,
       "max_height": null,
       "max_width": null,
       "min_height": null,
       "min_width": null,
       "object_fit": null,
       "object_position": null,
       "order": null,
       "overflow": null,
       "overflow_x": null,
       "overflow_y": null,
       "padding": null,
       "right": null,
       "top": null,
       "visibility": null,
       "width": null
      }
     },
     "72f3ad2b37594644bc8e3ca31a77e1f9": {
      "model_module": "@jupyter-widgets/base",
      "model_module_version": "1.2.0",
      "model_name": "LayoutModel",
      "state": {
       "_model_module": "@jupyter-widgets/base",
       "_model_module_version": "1.2.0",
       "_model_name": "LayoutModel",
       "_view_count": null,
       "_view_module": "@jupyter-widgets/base",
       "_view_module_version": "1.2.0",
       "_view_name": "LayoutView",
       "align_content": null,
       "align_items": null,
       "align_self": null,
       "border": null,
       "bottom": null,
       "display": null,
       "flex": null,
       "flex_flow": null,
       "grid_area": null,
       "grid_auto_columns": null,
       "grid_auto_flow": null,
       "grid_auto_rows": null,
       "grid_column": null,
       "grid_gap": null,
       "grid_row": null,
       "grid_template_areas": null,
       "grid_template_columns": null,
       "grid_template_rows": null,
       "height": null,
       "justify_content": null,
       "justify_items": null,
       "left": null,
       "margin": null,
       "max_height": null,
       "max_width": null,
       "min_height": null,
       "min_width": null,
       "object_fit": null,
       "object_position": null,
       "order": null,
       "overflow": null,
       "overflow_x": null,
       "overflow_y": null,
       "padding": null,
       "right": null,
       "top": null,
       "visibility": null,
       "width": null
      }
     },
     "748bbd9491df4800a1e9f448e4afe21f": {
      "model_module": "@jupyter-widgets/base",
      "model_module_version": "1.2.0",
      "model_name": "LayoutModel",
      "state": {
       "_model_module": "@jupyter-widgets/base",
       "_model_module_version": "1.2.0",
       "_model_name": "LayoutModel",
       "_view_count": null,
       "_view_module": "@jupyter-widgets/base",
       "_view_module_version": "1.2.0",
       "_view_name": "LayoutView",
       "align_content": null,
       "align_items": null,
       "align_self": null,
       "border": null,
       "bottom": null,
       "display": null,
       "flex": null,
       "flex_flow": null,
       "grid_area": null,
       "grid_auto_columns": null,
       "grid_auto_flow": null,
       "grid_auto_rows": null,
       "grid_column": null,
       "grid_gap": null,
       "grid_row": null,
       "grid_template_areas": null,
       "grid_template_columns": null,
       "grid_template_rows": null,
       "height": null,
       "justify_content": null,
       "justify_items": null,
       "left": null,
       "margin": null,
       "max_height": null,
       "max_width": null,
       "min_height": null,
       "min_width": null,
       "object_fit": null,
       "object_position": null,
       "order": null,
       "overflow": null,
       "overflow_x": null,
       "overflow_y": null,
       "padding": null,
       "right": null,
       "top": null,
       "visibility": null,
       "width": null
      }
     },
     "7ba9e5a39ea94f51a6dd8516d3c0c47f": {
      "model_module": "@jupyter-widgets/controls",
      "model_module_version": "1.5.0",
      "model_name": "ProgressStyleModel",
      "state": {
       "_model_module": "@jupyter-widgets/controls",
       "_model_module_version": "1.5.0",
       "_model_name": "ProgressStyleModel",
       "_view_count": null,
       "_view_module": "@jupyter-widgets/base",
       "_view_module_version": "1.2.0",
       "_view_name": "StyleView",
       "bar_color": null,
       "description_width": ""
      }
     },
     "870e04ff13714abb889e3178965b32a1": {
      "model_module": "@jupyter-widgets/controls",
      "model_module_version": "1.5.0",
      "model_name": "ProgressStyleModel",
      "state": {
       "_model_module": "@jupyter-widgets/controls",
       "_model_module_version": "1.5.0",
       "_model_name": "ProgressStyleModel",
       "_view_count": null,
       "_view_module": "@jupyter-widgets/base",
       "_view_module_version": "1.2.0",
       "_view_name": "StyleView",
       "bar_color": null,
       "description_width": ""
      }
     },
     "9c558fe22600475dba6bf23c24d279e8": {
      "model_module": "@jupyter-widgets/controls",
      "model_module_version": "1.5.0",
      "model_name": "FloatProgressModel",
      "state": {
       "_dom_classes": [],
       "_model_module": "@jupyter-widgets/controls",
       "_model_module_version": "1.5.0",
       "_model_name": "FloatProgressModel",
       "_view_count": null,
       "_view_module": "@jupyter-widgets/controls",
       "_view_module_version": "1.5.0",
       "_view_name": "ProgressView",
       "bar_style": "success",
       "description": "",
       "description_tooltip": null,
       "layout": "IPY_MODEL_3252d267cc554971b5a67a0753deabad",
       "max": 1,
       "min": 0,
       "orientation": "horizontal",
       "style": "IPY_MODEL_7ba9e5a39ea94f51a6dd8516d3c0c47f",
       "value": 1
      }
     },
     "9f44ddd5105948ed93f248e935660a0a": {
      "model_module": "@jupyter-widgets/controls",
      "model_module_version": "1.5.0",
      "model_name": "DescriptionStyleModel",
      "state": {
       "_model_module": "@jupyter-widgets/controls",
       "_model_module_version": "1.5.0",
       "_model_name": "DescriptionStyleModel",
       "_view_count": null,
       "_view_module": "@jupyter-widgets/base",
       "_view_module_version": "1.2.0",
       "_view_name": "StyleView",
       "description_width": ""
      }
     },
     "a0e27bbab2b44ae0a51495a6a91ecb54": {
      "model_module": "@jupyter-widgets/controls",
      "model_module_version": "1.5.0",
      "model_name": "DescriptionStyleModel",
      "state": {
       "_model_module": "@jupyter-widgets/controls",
       "_model_module_version": "1.5.0",
       "_model_name": "DescriptionStyleModel",
       "_view_count": null,
       "_view_module": "@jupyter-widgets/base",
       "_view_module_version": "1.2.0",
       "_view_name": "StyleView",
       "description_width": ""
      }
     },
     "a6df541d29b54a169dfae56b37270a9e": {
      "model_module": "@jupyter-widgets/base",
      "model_module_version": "1.2.0",
      "model_name": "LayoutModel",
      "state": {
       "_model_module": "@jupyter-widgets/base",
       "_model_module_version": "1.2.0",
       "_model_name": "LayoutModel",
       "_view_count": null,
       "_view_module": "@jupyter-widgets/base",
       "_view_module_version": "1.2.0",
       "_view_name": "LayoutView",
       "align_content": null,
       "align_items": null,
       "align_self": null,
       "border": null,
       "bottom": null,
       "display": null,
       "flex": null,
       "flex_flow": null,
       "grid_area": null,
       "grid_auto_columns": null,
       "grid_auto_flow": null,
       "grid_auto_rows": null,
       "grid_column": null,
       "grid_gap": null,
       "grid_row": null,
       "grid_template_areas": null,
       "grid_template_columns": null,
       "grid_template_rows": null,
       "height": null,
       "justify_content": null,
       "justify_items": null,
       "left": null,
       "margin": null,
       "max_height": null,
       "max_width": null,
       "min_height": null,
       "min_width": null,
       "object_fit": null,
       "object_position": null,
       "order": null,
       "overflow": null,
       "overflow_x": null,
       "overflow_y": null,
       "padding": null,
       "right": null,
       "top": null,
       "visibility": null,
       "width": null
      }
     },
     "ac09281a409646ccb2a7bba9e7d0d291": {
      "model_module": "@jupyter-widgets/controls",
      "model_module_version": "1.5.0",
      "model_name": "HTMLModel",
      "state": {
       "_dom_classes": [],
       "_model_module": "@jupyter-widgets/controls",
       "_model_module_version": "1.5.0",
       "_model_name": "HTMLModel",
       "_view_count": null,
       "_view_module": "@jupyter-widgets/controls",
       "_view_module_version": "1.5.0",
       "_view_name": "HTMLView",
       "description": "",
       "description_tooltip": null,
       "layout": "IPY_MODEL_a6df541d29b54a169dfae56b37270a9e",
       "placeholder": "​",
       "style": "IPY_MODEL_a0e27bbab2b44ae0a51495a6a91ecb54",
       "value": " 10/10 [00:00&lt;00:00,  8.90 examples/s]"
      }
     },
     "aeea4de1af7f409ab2e01fc90cf46325": {
      "model_module": "@jupyter-widgets/controls",
      "model_module_version": "1.5.0",
      "model_name": "HBoxModel",
      "state": {
       "_dom_classes": [],
       "_model_module": "@jupyter-widgets/controls",
       "_model_module_version": "1.5.0",
       "_model_name": "HBoxModel",
       "_view_count": null,
       "_view_module": "@jupyter-widgets/controls",
       "_view_module_version": "1.5.0",
       "_view_name": "HBoxView",
       "box_style": "",
       "children": [
        "IPY_MODEL_e0b07d536c67450280705b425a155518",
        "IPY_MODEL_38a89ce89b094af69e26f18c6774ad74",
        "IPY_MODEL_ac09281a409646ccb2a7bba9e7d0d291"
       ],
       "layout": "IPY_MODEL_6c9e8107b4c4455a98f348dd5b51f3a5"
      }
     },
     "bad9896d0e9949c4b0e5c219f374f574": {
      "model_module": "@jupyter-widgets/base",
      "model_module_version": "1.2.0",
      "model_name": "LayoutModel",
      "state": {
       "_model_module": "@jupyter-widgets/base",
       "_model_module_version": "1.2.0",
       "_model_name": "LayoutModel",
       "_view_count": null,
       "_view_module": "@jupyter-widgets/base",
       "_view_module_version": "1.2.0",
       "_view_name": "LayoutView",
       "align_content": null,
       "align_items": null,
       "align_self": null,
       "border": null,
       "bottom": null,
       "display": null,
       "flex": null,
       "flex_flow": null,
       "grid_area": null,
       "grid_auto_columns": null,
       "grid_auto_flow": null,
       "grid_auto_rows": null,
       "grid_column": null,
       "grid_gap": null,
       "grid_row": null,
       "grid_template_areas": null,
       "grid_template_columns": null,
       "grid_template_rows": null,
       "height": null,
       "justify_content": null,
       "justify_items": null,
       "left": null,
       "margin": null,
       "max_height": null,
       "max_width": null,
       "min_height": null,
       "min_width": null,
       "object_fit": null,
       "object_position": null,
       "order": null,
       "overflow": null,
       "overflow_x": null,
       "overflow_y": null,
       "padding": null,
       "right": null,
       "top": null,
       "visibility": null,
       "width": null
      }
     },
     "d0c77026c16c419e8d48a83d95253a35": {
      "model_module": "@jupyter-widgets/base",
      "model_module_version": "1.2.0",
      "model_name": "LayoutModel",
      "state": {
       "_model_module": "@jupyter-widgets/base",
       "_model_module_version": "1.2.0",
       "_model_name": "LayoutModel",
       "_view_count": null,
       "_view_module": "@jupyter-widgets/base",
       "_view_module_version": "1.2.0",
       "_view_name": "LayoutView",
       "align_content": null,
       "align_items": null,
       "align_self": null,
       "border": null,
       "bottom": null,
       "display": null,
       "flex": null,
       "flex_flow": null,
       "grid_area": null,
       "grid_auto_columns": null,
       "grid_auto_flow": null,
       "grid_auto_rows": null,
       "grid_column": null,
       "grid_gap": null,
       "grid_row": null,
       "grid_template_areas": null,
       "grid_template_columns": null,
       "grid_template_rows": null,
       "height": null,
       "justify_content": null,
       "justify_items": null,
       "left": null,
       "margin": null,
       "max_height": null,
       "max_width": null,
       "min_height": null,
       "min_width": null,
       "object_fit": null,
       "object_position": null,
       "order": null,
       "overflow": null,
       "overflow_x": null,
       "overflow_y": null,
       "padding": null,
       "right": null,
       "top": null,
       "visibility": null,
       "width": null
      }
     },
     "d736e52c8c304b08b5825e61d219b87c": {
      "model_module": "@jupyter-widgets/controls",
      "model_module_version": "1.5.0",
      "model_name": "HTMLModel",
      "state": {
       "_dom_classes": [],
       "_model_module": "@jupyter-widgets/controls",
       "_model_module_version": "1.5.0",
       "_model_name": "HTMLModel",
       "_view_count": null,
       "_view_module": "@jupyter-widgets/controls",
       "_view_module_version": "1.5.0",
       "_view_name": "HTMLView",
       "description": "",
       "description_tooltip": null,
       "layout": "IPY_MODEL_46b0d9efd17a43f7952ee732249f5e8c",
       "placeholder": "​",
       "style": "IPY_MODEL_e5dee679d29b41b6b957f981c9695f68",
       "value": " 10/0 [00:00&lt;00:00, 209.11 examples/s]"
      }
     },
     "e0b07d536c67450280705b425a155518": {
      "model_module": "@jupyter-widgets/controls",
      "model_module_version": "1.5.0",
      "model_name": "HTMLModel",
      "state": {
       "_dom_classes": [],
       "_model_module": "@jupyter-widgets/controls",
       "_model_module_version": "1.5.0",
       "_model_name": "HTMLModel",
       "_view_count": null,
       "_view_module": "@jupyter-widgets/controls",
       "_view_module_version": "1.5.0",
       "_view_name": "HTMLView",
       "description": "",
       "description_tooltip": null,
       "layout": "IPY_MODEL_d0c77026c16c419e8d48a83d95253a35",
       "placeholder": "​",
       "style": "IPY_MODEL_57876c7dc69e4875bb03ae7caa2eee9c",
       "value": "Map (num_proc=2): 100%"
      }
     },
     "e5dee679d29b41b6b957f981c9695f68": {
      "model_module": "@jupyter-widgets/controls",
      "model_module_version": "1.5.0",
      "model_name": "DescriptionStyleModel",
      "state": {
       "_model_module": "@jupyter-widgets/controls",
       "_model_module_version": "1.5.0",
       "_model_name": "DescriptionStyleModel",
       "_view_count": null,
       "_view_module": "@jupyter-widgets/base",
       "_view_module_version": "1.2.0",
       "_view_name": "StyleView",
       "description_width": ""
      }
     },
     "e83610c574d64c1cbbf15f9a8be518f9": {
      "model_module": "@jupyter-widgets/base",
      "model_module_version": "1.2.0",
      "model_name": "LayoutModel",
      "state": {
       "_model_module": "@jupyter-widgets/base",
       "_model_module_version": "1.2.0",
       "_model_name": "LayoutModel",
       "_view_count": null,
       "_view_module": "@jupyter-widgets/base",
       "_view_module_version": "1.2.0",
       "_view_name": "LayoutView",
       "align_content": null,
       "align_items": null,
       "align_self": null,
       "border": null,
       "bottom": null,
       "display": null,
       "flex": null,
       "flex_flow": null,
       "grid_area": null,
       "grid_auto_columns": null,
       "grid_auto_flow": null,
       "grid_auto_rows": null,
       "grid_column": null,
       "grid_gap": null,
       "grid_row": null,
       "grid_template_areas": null,
       "grid_template_columns": null,
       "grid_template_rows": null,
       "height": null,
       "justify_content": null,
       "justify_items": null,
       "left": null,
       "margin": null,
       "max_height": null,
       "max_width": null,
       "min_height": null,
       "min_width": null,
       "object_fit": null,
       "object_position": null,
       "order": null,
       "overflow": null,
       "overflow_x": null,
       "overflow_y": null,
       "padding": null,
       "right": null,
       "top": null,
       "visibility": null,
       "width": null
      }
     },
     "e89d4205d8cd49c9a349408bc43effc8": {
      "model_module": "@jupyter-widgets/controls",
      "model_module_version": "1.5.0",
      "model_name": "ProgressStyleModel",
      "state": {
       "_model_module": "@jupyter-widgets/controls",
       "_model_module_version": "1.5.0",
       "_model_name": "ProgressStyleModel",
       "_view_count": null,
       "_view_module": "@jupyter-widgets/base",
       "_view_module_version": "1.2.0",
       "_view_name": "StyleView",
       "bar_color": null,
       "description_width": ""
      }
     },
     "f4d859c8dff1408ca54ca271f37d5c1b": {
      "model_module": "@jupyter-widgets/base",
      "model_module_version": "1.2.0",
      "model_name": "LayoutModel",
      "state": {
       "_model_module": "@jupyter-widgets/base",
       "_model_module_version": "1.2.0",
       "_model_name": "LayoutModel",
       "_view_count": null,
       "_view_module": "@jupyter-widgets/base",
       "_view_module_version": "1.2.0",
       "_view_name": "LayoutView",
       "align_content": null,
       "align_items": null,
       "align_self": null,
       "border": null,
       "bottom": null,
       "display": null,
       "flex": null,
       "flex_flow": null,
       "grid_area": null,
       "grid_auto_columns": null,
       "grid_auto_flow": null,
       "grid_auto_rows": null,
       "grid_column": null,
       "grid_gap": null,
       "grid_row": null,
       "grid_template_areas": null,
       "grid_template_columns": null,
       "grid_template_rows": null,
       "height": null,
       "justify_content": null,
       "justify_items": null,
       "left": null,
       "margin": null,
       "max_height": null,
       "max_width": null,
       "min_height": null,
       "min_width": null,
       "object_fit": null,
       "object_position": null,
       "order": null,
       "overflow": null,
       "overflow_x": null,
       "overflow_y": null,
       "padding": null,
       "right": null,
       "top": null,
       "visibility": null,
       "width": null
      }
     }
    },
    "version_major": 2,
    "version_minor": 0
   }
  }
 },
 "nbformat": 4,
 "nbformat_minor": 5
}
