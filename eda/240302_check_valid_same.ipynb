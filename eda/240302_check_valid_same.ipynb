{
 "cells": [
  {
   "cell_type": "code",
   "execution_count": 1,
   "metadata": {},
   "outputs": [],
   "source": [
    "import polars as pl"
   ]
  },
  {
   "cell_type": "code",
   "execution_count": 4,
   "metadata": {},
   "outputs": [],
   "source": [
    "exp017 = pl.read_csv(\"../valid_df/exp017.csv\")\n",
    "exp018 = pl.read_csv(\"../valid_df/exp018.csv\")"
   ]
  },
  {
   "cell_type": "code",
   "execution_count": 11,
   "metadata": {},
   "outputs": [
    {
     "data": {
      "text/plain": [
       "(522, 8)"
      ]
     },
     "execution_count": 11,
     "metadata": {},
     "output_type": "execute_result"
    }
   ],
   "source": [
    "exp017.shape"
   ]
  },
  {
   "cell_type": "code",
   "execution_count": 12,
   "metadata": {},
   "outputs": [
    {
     "data": {
      "text/plain": [
       "(497, 8)"
      ]
     },
     "execution_count": 12,
     "metadata": {},
     "output_type": "execute_result"
    }
   ],
   "source": [
    "exp018.shape"
   ]
  },
  {
   "cell_type": "code",
   "execution_count": 9,
   "metadata": {},
   "outputs": [
    {
     "data": {
      "text/html": [
       "<div><style>\n",
       ".dataframe > thead > tr,\n",
       ".dataframe > tbody > tr {\n",
       "  text-align: right;\n",
       "  white-space: pre-wrap;\n",
       "}\n",
       "</style>\n",
       "<small>shape: (20, 8)</small><table border=\"1\" class=\"dataframe\"><thead><tr><th>document</th><th>token</th><th>label</th><th>token_str</th><th>document_pred</th><th>token_pred</th><th>label_pred</th><th>token_str_pred</th></tr><tr><td>str</td><td>str</td><td>str</td><td>str</td><td>str</td><td>str</td><td>str</td><td>str</td></tr></thead><tbody><tr><td>&quot;10&quot;</td><td>&quot;0&quot;</td><td>&quot;B-NAME_STUDENT…</td><td>&quot;Diego&quot;</td><td>&quot;10&quot;</td><td>&quot;0&quot;</td><td>&quot;B-NAME_STUDENT…</td><td>&quot;Diego&quot;</td></tr><tr><td>&quot;10&quot;</td><td>&quot;1&quot;</td><td>&quot;I-NAME_STUDENT…</td><td>&quot;Estrada&quot;</td><td>&quot;10&quot;</td><td>&quot;1&quot;</td><td>&quot;I-NAME_STUDENT…</td><td>&quot;Estrada&quot;</td></tr><tr><td>&quot;10&quot;</td><td>&quot;464&quot;</td><td>&quot;B-NAME_STUDENT…</td><td>&quot;Diego&quot;</td><td>&quot;10&quot;</td><td>&quot;464&quot;</td><td>&quot;B-NAME_STUDENT…</td><td>&quot;Diego&quot;</td></tr><tr><td>&quot;10&quot;</td><td>&quot;465&quot;</td><td>&quot;I-NAME_STUDENT…</td><td>&quot;Estrada&quot;</td><td>&quot;10&quot;</td><td>&quot;465&quot;</td><td>&quot;I-NAME_STUDENT…</td><td>&quot;Estrada&quot;</td></tr><tr><td>&quot;10024&quot;</td><td>&quot;183&quot;</td><td>&quot;B-URL_PERSONAL…</td><td>&quot;https://youtu.…</td><td>&quot;10024&quot;</td><td>&quot;183&quot;</td><td>&quot;B-URL_PERSONAL…</td><td>&quot;https://youtu.…</td></tr><tr><td>&quot;10034&quot;</td><td>&quot;3&quot;</td><td>&quot;B-NAME_STUDENT…</td><td>&quot;Monica&quot;</td><td>&quot;10034&quot;</td><td>&quot;3&quot;</td><td>&quot;B-NAME_STUDENT…</td><td>&quot;Monica&quot;</td></tr><tr><td>&quot;10034&quot;</td><td>&quot;4&quot;</td><td>&quot;I-NAME_STUDENT…</td><td>&quot;Avila&quot;</td><td>&quot;10034&quot;</td><td>&quot;4&quot;</td><td>&quot;I-NAME_STUDENT…</td><td>&quot;Avila&quot;</td></tr><tr><td>&quot;10131&quot;</td><td>&quot;6&quot;</td><td>&quot;B-NAME_STUDENT…</td><td>&quot;Miguel&quot;</td><td>&quot;10131&quot;</td><td>&quot;6&quot;</td><td>&quot;B-NAME_STUDENT…</td><td>&quot;Miguel&quot;</td></tr><tr><td>&quot;10131&quot;</td><td>&quot;7&quot;</td><td>&quot;I-NAME_STUDENT…</td><td>&quot;Perez&quot;</td><td>&quot;10131&quot;</td><td>&quot;7&quot;</td><td>&quot;I-NAME_STUDENT…</td><td>&quot;Perez&quot;</td></tr><tr><td>&quot;10205&quot;</td><td>&quot;0&quot;</td><td>&quot;B-NAME_STUDENT…</td><td>&quot;Samuel&quot;</td><td>&quot;10205&quot;</td><td>&quot;0&quot;</td><td>&quot;B-NAME_STUDENT…</td><td>&quot;Samuel&quot;</td></tr><tr><td>&quot;10205&quot;</td><td>&quot;1&quot;</td><td>&quot;I-NAME_STUDENT…</td><td>&quot;Carvalho&quot;</td><td>&quot;10205&quot;</td><td>&quot;1&quot;</td><td>&quot;I-NAME_STUDENT…</td><td>&quot;Carvalho&quot;</td></tr><tr><td>&quot;10405&quot;</td><td>&quot;7&quot;</td><td>&quot;B-NAME_STUDENT…</td><td>&quot;Omar&quot;</td><td>&quot;10405&quot;</td><td>&quot;7&quot;</td><td>&quot;B-NAME_STUDENT…</td><td>&quot;Omar&quot;</td></tr><tr><td>&quot;10405&quot;</td><td>&quot;8&quot;</td><td>&quot;I-NAME_STUDENT…</td><td>&quot;Gonzales&quot;</td><td>&quot;10405&quot;</td><td>&quot;8&quot;</td><td>&quot;I-NAME_STUDENT…</td><td>&quot;Gonzales&quot;</td></tr><tr><td>&quot;10431&quot;</td><td>&quot;0&quot;</td><td>&quot;B-NAME_STUDENT…</td><td>&quot;Anas&quot;</td><td>&quot;10431&quot;</td><td>&quot;0&quot;</td><td>&quot;B-NAME_STUDENT…</td><td>&quot;Anas&quot;</td></tr><tr><td>&quot;10431&quot;</td><td>&quot;1&quot;</td><td>&quot;I-NAME_STUDENT…</td><td>&quot;Naser&quot;</td><td>&quot;10431&quot;</td><td>&quot;1&quot;</td><td>&quot;I-NAME_STUDENT…</td><td>&quot;Naser&quot;</td></tr><tr><td>&quot;10472&quot;</td><td>&quot;0&quot;</td><td>&quot;B-NAME_STUDENT…</td><td>&quot;Cardo&quot;</td><td>&quot;10472&quot;</td><td>&quot;0&quot;</td><td>&quot;B-NAME_STUDENT…</td><td>&quot;Cardo&quot;</td></tr><tr><td>&quot;10472&quot;</td><td>&quot;1&quot;</td><td>&quot;I-NAME_STUDENT…</td><td>&quot;Dalisay&quot;</td><td>&quot;10472&quot;</td><td>&quot;1&quot;</td><td>&quot;I-NAME_STUDENT…</td><td>&quot;Dalisay&quot;</td></tr><tr><td>&quot;10606&quot;</td><td>&quot;3&quot;</td><td>&quot;B-NAME_STUDENT…</td><td>&quot;Omar&quot;</td><td>&quot;10606&quot;</td><td>&quot;3&quot;</td><td>&quot;B-NAME_STUDENT…</td><td>&quot;Omar&quot;</td></tr><tr><td>&quot;10606&quot;</td><td>&quot;4&quot;</td><td>&quot;I-NAME_STUDENT…</td><td>&quot;Martinez&quot;</td><td>&quot;10606&quot;</td><td>&quot;4&quot;</td><td>&quot;I-NAME_STUDENT…</td><td>&quot;Martinez&quot;</td></tr><tr><td>&quot;10649&quot;</td><td>&quot;0&quot;</td><td>&quot;B-NAME_STUDENT…</td><td>&quot;Yu&quot;</td><td>&quot;10649&quot;</td><td>&quot;0&quot;</td><td>&quot;B-NAME_STUDENT…</td><td>&quot;Yu&quot;</td></tr></tbody></table></div>"
      ],
      "text/plain": [
       "shape: (20, 8)\n",
       "┌──────────┬───────┬─────────────┬─────────────┬────────────┬────────────┬────────────┬────────────┐\n",
       "│ document ┆ token ┆ label       ┆ token_str   ┆ document_p ┆ token_pred ┆ label_pred ┆ token_str_ │\n",
       "│ ---      ┆ ---   ┆ ---         ┆ ---         ┆ red        ┆ ---        ┆ ---        ┆ pred       │\n",
       "│ str      ┆ str   ┆ str         ┆ str         ┆ ---        ┆ str        ┆ str        ┆ ---        │\n",
       "│          ┆       ┆             ┆             ┆ str        ┆            ┆            ┆ str        │\n",
       "╞══════════╪═══════╪═════════════╪═════════════╪════════════╪════════════╪════════════╪════════════╡\n",
       "│ 10       ┆ 0     ┆ B-NAME_STUD ┆ Diego       ┆ 10         ┆ 0          ┆ B-NAME_STU ┆ Diego      │\n",
       "│          ┆       ┆ ENT         ┆             ┆            ┆            ┆ DENT       ┆            │\n",
       "│ 10       ┆ 1     ┆ I-NAME_STUD ┆ Estrada     ┆ 10         ┆ 1          ┆ I-NAME_STU ┆ Estrada    │\n",
       "│          ┆       ┆ ENT         ┆             ┆            ┆            ┆ DENT       ┆            │\n",
       "│ 10       ┆ 464   ┆ B-NAME_STUD ┆ Diego       ┆ 10         ┆ 464        ┆ B-NAME_STU ┆ Diego      │\n",
       "│          ┆       ┆ ENT         ┆             ┆            ┆            ┆ DENT       ┆            │\n",
       "│ 10       ┆ 465   ┆ I-NAME_STUD ┆ Estrada     ┆ 10         ┆ 465        ┆ I-NAME_STU ┆ Estrada    │\n",
       "│          ┆       ┆ ENT         ┆             ┆            ┆            ┆ DENT       ┆            │\n",
       "│ 10024    ┆ 183   ┆ B-URL_PERSO ┆ https://you ┆ 10024      ┆ 183        ┆ B-URL_PERS ┆ https://yo │\n",
       "│          ┆       ┆ NAL         ┆ tu.be/h9YTx ┆            ┆            ┆ ONAL       ┆ utu.be/h9Y │\n",
       "│          ┆       ┆             ┆ zr_HPS      ┆            ┆            ┆            ┆ Txzr_HPS   │\n",
       "│ …        ┆ …     ┆ …           ┆ …           ┆ …          ┆ …          ┆ …          ┆ …          │\n",
       "│ 10472    ┆ 0     ┆ B-NAME_STUD ┆ Cardo       ┆ 10472      ┆ 0          ┆ B-NAME_STU ┆ Cardo      │\n",
       "│          ┆       ┆ ENT         ┆             ┆            ┆            ┆ DENT       ┆            │\n",
       "│ 10472    ┆ 1     ┆ I-NAME_STUD ┆ Dalisay     ┆ 10472      ┆ 1          ┆ I-NAME_STU ┆ Dalisay    │\n",
       "│          ┆       ┆ ENT         ┆             ┆            ┆            ┆ DENT       ┆            │\n",
       "│ 10606    ┆ 3     ┆ B-NAME_STUD ┆ Omar        ┆ 10606      ┆ 3          ┆ B-NAME_STU ┆ Omar       │\n",
       "│          ┆       ┆ ENT         ┆             ┆            ┆            ┆ DENT       ┆            │\n",
       "│ 10606    ┆ 4     ┆ I-NAME_STUD ┆ Martinez    ┆ 10606      ┆ 4          ┆ I-NAME_STU ┆ Martinez   │\n",
       "│          ┆       ┆ ENT         ┆             ┆            ┆            ┆ DENT       ┆            │\n",
       "│ 10649    ┆ 0     ┆ B-NAME_STUD ┆ Yu          ┆ 10649      ┆ 0          ┆ B-NAME_STU ┆ Yu         │\n",
       "│          ┆       ┆ ENT         ┆             ┆            ┆            ┆ DENT       ┆            │\n",
       "└──────────┴───────┴─────────────┴─────────────┴────────────┴────────────┴────────────┴────────────┘"
      ]
     },
     "execution_count": 9,
     "metadata": {},
     "output_type": "execute_result"
    }
   ],
   "source": [
    "exp017.sort([\"document\", \"token\"]).head(20)"
   ]
  },
  {
   "cell_type": "code",
   "execution_count": 10,
   "metadata": {},
   "outputs": [
    {
     "data": {
      "text/html": [
       "<div><style>\n",
       ".dataframe > thead > tr,\n",
       ".dataframe > tbody > tr {\n",
       "  text-align: right;\n",
       "  white-space: pre-wrap;\n",
       "}\n",
       "</style>\n",
       "<small>shape: (20, 8)</small><table border=\"1\" class=\"dataframe\"><thead><tr><th>document</th><th>token</th><th>label</th><th>token_str</th><th>document_pred</th><th>token_pred</th><th>label_pred</th><th>token_str_pred</th></tr><tr><td>str</td><td>str</td><td>str</td><td>str</td><td>str</td><td>str</td><td>str</td><td>str</td></tr></thead><tbody><tr><td>&quot;10&quot;</td><td>&quot;0&quot;</td><td>&quot;B-NAME_STUDENT…</td><td>&quot;Diego&quot;</td><td>&quot;10&quot;</td><td>&quot;0&quot;</td><td>&quot;B-NAME_STUDENT…</td><td>&quot;Diego&quot;</td></tr><tr><td>&quot;10&quot;</td><td>&quot;1&quot;</td><td>&quot;I-NAME_STUDENT…</td><td>&quot;Estrada&quot;</td><td>&quot;10&quot;</td><td>&quot;1&quot;</td><td>&quot;I-NAME_STUDENT…</td><td>&quot;Estrada&quot;</td></tr><tr><td>&quot;10&quot;</td><td>&quot;464&quot;</td><td>&quot;B-NAME_STUDENT…</td><td>&quot;Diego&quot;</td><td>&quot;10&quot;</td><td>&quot;464&quot;</td><td>&quot;B-NAME_STUDENT…</td><td>&quot;Diego&quot;</td></tr><tr><td>&quot;10&quot;</td><td>&quot;465&quot;</td><td>&quot;I-NAME_STUDENT…</td><td>&quot;Estrada&quot;</td><td>&quot;10&quot;</td><td>&quot;465&quot;</td><td>&quot;I-NAME_STUDENT…</td><td>&quot;Estrada&quot;</td></tr><tr><td>&quot;10024&quot;</td><td>&quot;183&quot;</td><td>&quot;B-URL_PERSONAL…</td><td>&quot;https://youtu.…</td><td>&quot;10024&quot;</td><td>&quot;183&quot;</td><td>&quot;B-URL_PERSONAL…</td><td>&quot;https://youtu.…</td></tr><tr><td>&quot;10034&quot;</td><td>&quot;3&quot;</td><td>&quot;B-NAME_STUDENT…</td><td>&quot;Monica&quot;</td><td>&quot;10034&quot;</td><td>&quot;3&quot;</td><td>&quot;B-NAME_STUDENT…</td><td>&quot;Monica&quot;</td></tr><tr><td>&quot;10034&quot;</td><td>&quot;4&quot;</td><td>&quot;I-NAME_STUDENT…</td><td>&quot;Avila&quot;</td><td>&quot;10034&quot;</td><td>&quot;4&quot;</td><td>&quot;I-NAME_STUDENT…</td><td>&quot;Avila&quot;</td></tr><tr><td>&quot;10131&quot;</td><td>&quot;6&quot;</td><td>&quot;B-NAME_STUDENT…</td><td>&quot;Miguel&quot;</td><td>&quot;10131&quot;</td><td>&quot;6&quot;</td><td>&quot;B-NAME_STUDENT…</td><td>&quot;Miguel&quot;</td></tr><tr><td>&quot;10131&quot;</td><td>&quot;7&quot;</td><td>&quot;I-NAME_STUDENT…</td><td>&quot;Perez&quot;</td><td>&quot;10131&quot;</td><td>&quot;7&quot;</td><td>&quot;I-NAME_STUDENT…</td><td>&quot;Perez&quot;</td></tr><tr><td>&quot;10205&quot;</td><td>&quot;0&quot;</td><td>&quot;B-NAME_STUDENT…</td><td>&quot;Samuel&quot;</td><td>&quot;10205&quot;</td><td>&quot;0&quot;</td><td>&quot;B-NAME_STUDENT…</td><td>&quot;Samuel&quot;</td></tr><tr><td>&quot;10205&quot;</td><td>&quot;1&quot;</td><td>&quot;I-NAME_STUDENT…</td><td>&quot;Carvalho&quot;</td><td>&quot;10205&quot;</td><td>&quot;1&quot;</td><td>&quot;I-NAME_STUDENT…</td><td>&quot;Carvalho&quot;</td></tr><tr><td>&quot;10405&quot;</td><td>&quot;7&quot;</td><td>&quot;B-NAME_STUDENT…</td><td>&quot;Omar&quot;</td><td>&quot;10405&quot;</td><td>&quot;7&quot;</td><td>&quot;B-NAME_STUDENT…</td><td>&quot;Omar&quot;</td></tr><tr><td>&quot;10405&quot;</td><td>&quot;8&quot;</td><td>&quot;I-NAME_STUDENT…</td><td>&quot;Gonzales&quot;</td><td>&quot;10405&quot;</td><td>&quot;8&quot;</td><td>&quot;I-NAME_STUDENT…</td><td>&quot;Gonzales&quot;</td></tr><tr><td>&quot;10431&quot;</td><td>&quot;0&quot;</td><td>&quot;B-NAME_STUDENT…</td><td>&quot;Anas&quot;</td><td>&quot;10431&quot;</td><td>&quot;0&quot;</td><td>&quot;B-NAME_STUDENT…</td><td>&quot;Anas&quot;</td></tr><tr><td>&quot;10431&quot;</td><td>&quot;1&quot;</td><td>&quot;I-NAME_STUDENT…</td><td>&quot;Naser&quot;</td><td>&quot;10431&quot;</td><td>&quot;1&quot;</td><td>&quot;I-NAME_STUDENT…</td><td>&quot;Naser&quot;</td></tr><tr><td>&quot;10472&quot;</td><td>&quot;0&quot;</td><td>&quot;B-NAME_STUDENT…</td><td>&quot;Cardo&quot;</td><td>&quot;10472&quot;</td><td>&quot;0&quot;</td><td>&quot;B-NAME_STUDENT…</td><td>&quot;Cardo&quot;</td></tr><tr><td>&quot;10472&quot;</td><td>&quot;1&quot;</td><td>&quot;I-NAME_STUDENT…</td><td>&quot;Dalisay&quot;</td><td>&quot;10472&quot;</td><td>&quot;1&quot;</td><td>&quot;I-NAME_STUDENT…</td><td>&quot;Dalisay&quot;</td></tr><tr><td>&quot;10606&quot;</td><td>&quot;3&quot;</td><td>&quot;B-NAME_STUDENT…</td><td>&quot;Omar&quot;</td><td>&quot;10606&quot;</td><td>&quot;3&quot;</td><td>&quot;B-NAME_STUDENT…</td><td>&quot;Omar&quot;</td></tr><tr><td>&quot;10606&quot;</td><td>&quot;4&quot;</td><td>&quot;I-NAME_STUDENT…</td><td>&quot;Martinez&quot;</td><td>&quot;10606&quot;</td><td>&quot;4&quot;</td><td>&quot;I-NAME_STUDENT…</td><td>&quot;Martinez&quot;</td></tr><tr><td>&quot;10649&quot;</td><td>&quot;0&quot;</td><td>&quot;B-NAME_STUDENT…</td><td>&quot;Yu&quot;</td><td>&quot;10649&quot;</td><td>&quot;0&quot;</td><td>&quot;B-NAME_STUDENT…</td><td>&quot;Yu&quot;</td></tr></tbody></table></div>"
      ],
      "text/plain": [
       "shape: (20, 8)\n",
       "┌──────────┬───────┬─────────────┬─────────────┬────────────┬────────────┬────────────┬────────────┐\n",
       "│ document ┆ token ┆ label       ┆ token_str   ┆ document_p ┆ token_pred ┆ label_pred ┆ token_str_ │\n",
       "│ ---      ┆ ---   ┆ ---         ┆ ---         ┆ red        ┆ ---        ┆ ---        ┆ pred       │\n",
       "│ str      ┆ str   ┆ str         ┆ str         ┆ ---        ┆ str        ┆ str        ┆ ---        │\n",
       "│          ┆       ┆             ┆             ┆ str        ┆            ┆            ┆ str        │\n",
       "╞══════════╪═══════╪═════════════╪═════════════╪════════════╪════════════╪════════════╪════════════╡\n",
       "│ 10       ┆ 0     ┆ B-NAME_STUD ┆ Diego       ┆ 10         ┆ 0          ┆ B-NAME_STU ┆ Diego      │\n",
       "│          ┆       ┆ ENT         ┆             ┆            ┆            ┆ DENT       ┆            │\n",
       "│ 10       ┆ 1     ┆ I-NAME_STUD ┆ Estrada     ┆ 10         ┆ 1          ┆ I-NAME_STU ┆ Estrada    │\n",
       "│          ┆       ┆ ENT         ┆             ┆            ┆            ┆ DENT       ┆            │\n",
       "│ 10       ┆ 464   ┆ B-NAME_STUD ┆ Diego       ┆ 10         ┆ 464        ┆ B-NAME_STU ┆ Diego      │\n",
       "│          ┆       ┆ ENT         ┆             ┆            ┆            ┆ DENT       ┆            │\n",
       "│ 10       ┆ 465   ┆ I-NAME_STUD ┆ Estrada     ┆ 10         ┆ 465        ┆ I-NAME_STU ┆ Estrada    │\n",
       "│          ┆       ┆ ENT         ┆             ┆            ┆            ┆ DENT       ┆            │\n",
       "│ 10024    ┆ 183   ┆ B-URL_PERSO ┆ https://you ┆ 10024      ┆ 183        ┆ B-URL_PERS ┆ https://yo │\n",
       "│          ┆       ┆ NAL         ┆ tu.be/h9YTx ┆            ┆            ┆ ONAL       ┆ utu.be/h9Y │\n",
       "│          ┆       ┆             ┆ zr_HPS      ┆            ┆            ┆            ┆ Txzr_HPS   │\n",
       "│ …        ┆ …     ┆ …           ┆ …           ┆ …          ┆ …          ┆ …          ┆ …          │\n",
       "│ 10472    ┆ 0     ┆ B-NAME_STUD ┆ Cardo       ┆ 10472      ┆ 0          ┆ B-NAME_STU ┆ Cardo      │\n",
       "│          ┆       ┆ ENT         ┆             ┆            ┆            ┆ DENT       ┆            │\n",
       "│ 10472    ┆ 1     ┆ I-NAME_STUD ┆ Dalisay     ┆ 10472      ┆ 1          ┆ I-NAME_STU ┆ Dalisay    │\n",
       "│          ┆       ┆ ENT         ┆             ┆            ┆            ┆ DENT       ┆            │\n",
       "│ 10606    ┆ 3     ┆ B-NAME_STUD ┆ Omar        ┆ 10606      ┆ 3          ┆ B-NAME_STU ┆ Omar       │\n",
       "│          ┆       ┆ ENT         ┆             ┆            ┆            ┆ DENT       ┆            │\n",
       "│ 10606    ┆ 4     ┆ I-NAME_STUD ┆ Martinez    ┆ 10606      ┆ 4          ┆ I-NAME_STU ┆ Martinez   │\n",
       "│          ┆       ┆ ENT         ┆             ┆            ┆            ┆ DENT       ┆            │\n",
       "│ 10649    ┆ 0     ┆ B-NAME_STUD ┆ Yu          ┆ 10649      ┆ 0          ┆ B-NAME_STU ┆ Yu         │\n",
       "│          ┆       ┆ ENT         ┆             ┆            ┆            ┆ DENT       ┆            │\n",
       "└──────────┴───────┴─────────────┴─────────────┴────────────┴────────────┴────────────┴────────────┘"
      ]
     },
     "execution_count": 10,
     "metadata": {},
     "output_type": "execute_result"
    }
   ],
   "source": [
    "exp018.sort([\"document\", \"token\"]).head(20)"
   ]
  },
  {
   "cell_type": "code",
   "execution_count": 17,
   "metadata": {},
   "outputs": [
    {
     "data": {
      "text/plain": [
       "{'11319',\n",
       " '4323',\n",
       " '4922',\n",
       " '5935',\n",
       " '6007',\n",
       " '8718',\n",
       " '9018',\n",
       " '9286',\n",
       " '9365',\n",
       " '9818'}"
      ]
     },
     "execution_count": 17,
     "metadata": {},
     "output_type": "execute_result"
    }
   ],
   "source": [
    "set(exp017[\"document\"].unique().to_list()) ^ set(exp018[\"document\"].unique().to_list())"
   ]
  },
  {
   "cell_type": "code",
   "execution_count": null,
   "metadata": {},
   "outputs": [],
   "source": []
  },
  {
   "cell_type": "code",
   "execution_count": 18,
   "metadata": {},
   "outputs": [
    {
     "data": {
      "text/html": [
       "<div><style>\n",
       ".dataframe > thead > tr,\n",
       ".dataframe > tbody > tr {\n",
       "  text-align: right;\n",
       "  white-space: pre-wrap;\n",
       "}\n",
       "</style>\n",
       "<small>shape: (3, 8)</small><table border=\"1\" class=\"dataframe\"><thead><tr><th>document</th><th>token</th><th>label</th><th>token_str</th><th>document_pred</th><th>token_pred</th><th>label_pred</th><th>token_str_pred</th></tr><tr><td>str</td><td>str</td><td>str</td><td>str</td><td>str</td><td>str</td><td>str</td><td>str</td></tr></thead><tbody><tr><td>&quot;11319&quot;</td><td>&quot;208&quot;</td><td>&quot;B-NAME_STUDENT…</td><td>&quot;Ricardo&quot;</td><td>&quot;11319&quot;</td><td>&quot;208&quot;</td><td>&quot;B-NAME_STUDENT…</td><td>&quot;Ricardo&quot;</td></tr><tr><td>&quot;11319&quot;</td><td>&quot;255&quot;</td><td>&quot;B-NAME_STUDENT…</td><td>&quot;Ricardo&quot;</td><td>&quot;11319&quot;</td><td>&quot;255&quot;</td><td>&quot;B-NAME_STUDENT…</td><td>&quot;Ricardo&quot;</td></tr><tr><td>&quot;11319&quot;</td><td>&quot;173&quot;</td><td>&quot;B-NAME_STUDENT…</td><td>&quot;Noora&quot;</td><td>&quot;null&quot;</td><td>&quot;null&quot;</td><td>&quot;null&quot;</td><td>&quot;null&quot;</td></tr></tbody></table></div>"
      ],
      "text/plain": [
       "shape: (3, 8)\n",
       "┌──────────┬───────┬─────────────┬───────────┬─────────────┬────────────┬─────────────┬────────────┐\n",
       "│ document ┆ token ┆ label       ┆ token_str ┆ document_pr ┆ token_pred ┆ label_pred  ┆ token_str_ │\n",
       "│ ---      ┆ ---   ┆ ---         ┆ ---       ┆ ed          ┆ ---        ┆ ---         ┆ pred       │\n",
       "│ str      ┆ str   ┆ str         ┆ str       ┆ ---         ┆ str        ┆ str         ┆ ---        │\n",
       "│          ┆       ┆             ┆           ┆ str         ┆            ┆             ┆ str        │\n",
       "╞══════════╪═══════╪═════════════╪═══════════╪═════════════╪════════════╪═════════════╪════════════╡\n",
       "│ 11319    ┆ 208   ┆ B-NAME_STUD ┆ Ricardo   ┆ 11319       ┆ 208        ┆ B-NAME_STUD ┆ Ricardo    │\n",
       "│          ┆       ┆ ENT         ┆           ┆             ┆            ┆ ENT         ┆            │\n",
       "│ 11319    ┆ 255   ┆ B-NAME_STUD ┆ Ricardo   ┆ 11319       ┆ 255        ┆ B-NAME_STUD ┆ Ricardo    │\n",
       "│          ┆       ┆ ENT         ┆           ┆             ┆            ┆ ENT         ┆            │\n",
       "│ 11319    ┆ 173   ┆ B-NAME_STUD ┆ Noora     ┆ null        ┆ null       ┆ null        ┆ null       │\n",
       "│          ┆       ┆ ENT         ┆           ┆             ┆            ┆             ┆            │\n",
       "└──────────┴───────┴─────────────┴───────────┴─────────────┴────────────┴─────────────┴────────────┘"
      ]
     },
     "execution_count": 18,
     "metadata": {},
     "output_type": "execute_result"
    }
   ],
   "source": [
    "exp017.filter(pl.col(\"document\") == \"11319\")"
   ]
  },
  {
   "cell_type": "code",
   "execution_count": 19,
   "metadata": {},
   "outputs": [
    {
     "data": {
      "text/html": [
       "<div><style>\n",
       ".dataframe > thead > tr,\n",
       ".dataframe > tbody > tr {\n",
       "  text-align: right;\n",
       "  white-space: pre-wrap;\n",
       "}\n",
       "</style>\n",
       "<small>shape: (0, 8)</small><table border=\"1\" class=\"dataframe\"><thead><tr><th>document</th><th>token</th><th>label</th><th>token_str</th><th>document_pred</th><th>token_pred</th><th>label_pred</th><th>token_str_pred</th></tr><tr><td>str</td><td>str</td><td>str</td><td>str</td><td>str</td><td>str</td><td>str</td><td>str</td></tr></thead><tbody></tbody></table></div>"
      ],
      "text/plain": [
       "shape: (0, 8)\n",
       "┌──────────┬───────┬───────┬───────────┬───────────────┬────────────┬────────────┬────────────────┐\n",
       "│ document ┆ token ┆ label ┆ token_str ┆ document_pred ┆ token_pred ┆ label_pred ┆ token_str_pred │\n",
       "│ ---      ┆ ---   ┆ ---   ┆ ---       ┆ ---           ┆ ---        ┆ ---        ┆ ---            │\n",
       "│ str      ┆ str   ┆ str   ┆ str       ┆ str           ┆ str        ┆ str        ┆ str            │\n",
       "╞══════════╪═══════╪═══════╪═══════════╪═══════════════╪════════════╪════════════╪════════════════╡\n",
       "└──────────┴───────┴───────┴───────────┴───────────────┴────────────┴────────────┴────────────────┘"
      ]
     },
     "execution_count": 19,
     "metadata": {},
     "output_type": "execute_result"
    }
   ],
   "source": [
    "exp018.filter(pl.col(\"document\") == \"11319\")"
   ]
  },
  {
   "cell_type": "code",
   "execution_count": null,
   "metadata": {},
   "outputs": [],
   "source": []
  }
 ],
 "metadata": {
  "kernelspec": {
   "display_name": ".venv",
   "language": "python",
   "name": "python3"
  },
  "language_info": {
   "codemirror_mode": {
    "name": "ipython",
    "version": 3
   },
   "file_extension": ".py",
   "mimetype": "text/x-python",
   "name": "python",
   "nbconvert_exporter": "python",
   "pygments_lexer": "ipython3",
   "version": "3.12.1"
  }
 },
 "nbformat": 4,
 "nbformat_minor": 2
}
