{
 "cells": [
  {
   "cell_type": "markdown",
   "metadata": {},
   "source": [
    "# 目的\n",
    "以下を計算する\n",
    "- 外部データセットのラベル数"
   ]
  },
  {
   "cell_type": "code",
   "execution_count": 2,
   "metadata": {},
   "outputs": [],
   "source": [
    "import polars as pl\n",
    "import matplotlib.pyplot as plt\n",
    "import ast\n",
    "\n",
    "import itertools\n",
    "from collections import Counter"
   ]
  },
  {
   "cell_type": "code",
   "execution_count": 3,
   "metadata": {},
   "outputs": [],
   "source": [
    "train = pl.read_json(\"../data/train.json\")\n",
    "pii_dataset = pl.read_csv(\"../data/external_pii_dataset.csv\")\n",
    "pii_dataset_fixed = pl.read_csv(\"../data/pii_dataset_fixed.csv\")\n",
    "moredata_dataset_fixed = pl.read_csv(\"../data/moredata_dataset_fixed.csv\")"
   ]
  },
  {
   "cell_type": "code",
   "execution_count": 4,
   "metadata": {},
   "outputs": [],
   "source": [
    "pii_dataset = pii_dataset.with_columns(\n",
    "    pl.col(\"tokens\").map_elements(lambda x: ast.literal_eval(x)),\n",
    "    pl.col(\"trailing_whitespace\").map_elements(lambda x: ast.literal_eval(x)),\n",
    "    pl.col(\"labels\").map_elements(lambda x: ast.literal_eval(x)),\n",
    ")"
   ]
  },
  {
   "cell_type": "code",
   "execution_count": 5,
   "metadata": {},
   "outputs": [],
   "source": [
    "pii_dataset_fixed = pii_dataset_fixed.with_columns(\n",
    "    pl.col(\"tokens\").map_elements(lambda x: ast.literal_eval(x)),\n",
    "    pl.col(\"trailing_whitespace\").map_elements(lambda x: ast.literal_eval(x)),\n",
    "    pl.col(\"labels\").map_elements(lambda x: ast.literal_eval(x)),\n",
    ")"
   ]
  },
  {
   "cell_type": "code",
   "execution_count": 6,
   "metadata": {},
   "outputs": [],
   "source": [
    "moredata_dataset_fixed = moredata_dataset_fixed.with_columns(\n",
    "    pl.col(\"tokens\").map_elements(lambda x: ast.literal_eval(x)),\n",
    "    pl.col(\"trailing_whitespace\").map_elements(lambda x: ast.literal_eval(x)),\n",
    "    pl.col(\"labels\").map_elements(lambda x: ast.literal_eval(x)),\n",
    ")"
   ]
  },
  {
   "cell_type": "code",
   "execution_count": null,
   "metadata": {},
   "outputs": [],
   "source": [
    "def count_all_tag(df: pl.DataFrame) -> pl.DataFrame:\n",
    "    # 全tagのリスト\n",
    "    all_tags = list(itertools.chain.from_iterable(df.get_column(\"labels\").to_list()))\n",
    "    all_tags_count = Counter(all_tags)\n",
    "    return pl.DataFrame(all_tags_count).transpose(include_header=True)"
   ]
  },
  {
   "cell_type": "code",
   "execution_count": null,
   "metadata": {},
   "outputs": [],
   "source": [
    "original_count = count_all_tag(train)\n",
    "pii_dataset_count = count_all_tag(pii_dataset)\n",
    "pii_dataset_fixed_count = count_all_tag(pii_dataset_fixed)\n",
    "moredata_dataset_fixed_count = count_all_tag(moredata_dataset_fixed)"
   ]
  },
  {
   "cell_type": "code",
   "execution_count": null,
   "metadata": {},
   "outputs": [
    {
     "data": {
      "text/html": [
       "<div><style>\n",
       ".dataframe > thead > tr,\n",
       ".dataframe > tbody > tr {\n",
       "  text-align: right;\n",
       "  white-space: pre-wrap;\n",
       "}\n",
       "</style>\n",
       "<small>shape: (13, 5)</small><table border=\"1\" class=\"dataframe\"><thead><tr><th>column</th><th>column_0</th><th>column_0_pii</th><th>column_0_pii_fixed</th><th>column_0_moredata_fixed</th></tr><tr><td>str</td><td>i64</td><td>i64</td><td>i64</td><td>i64</td></tr></thead><tbody><tr><td>&quot;O&quot;</td><td>4989794</td><td>1333514</td><td>1526223</td><td>943276</td></tr><tr><td>&quot;B-NAME_STUDENT…</td><td>1365</td><td>11104</td><td>11108</td><td>22963</td></tr><tr><td>&quot;I-NAME_STUDENT…</td><td>1096</td><td>5667</td><td>5875</td><td>4848</td></tr><tr><td>&quot;B-URL_PERSONAL…</td><td>110</td><td>620</td><td>621</td><td>2582</td></tr><tr><td>&quot;B-EMAIL&quot;</td><td>39</td><td>3794</td><td>3793</td><td>2603</td></tr><tr><td>&quot;B-ID_NUM&quot;</td><td>78</td><td>null</td><td>null</td><td>2553</td></tr><tr><td>&quot;I-URL_PERSONAL…</td><td>1</td><td>null</td><td>6</td><td>null</td></tr><tr><td>&quot;B-USERNAME&quot;</td><td>6</td><td>718</td><td>718</td><td>2694</td></tr><tr><td>&quot;B-PHONE_NUM&quot;</td><td>6</td><td>2419</td><td>2409</td><td>2589</td></tr><tr><td>&quot;I-PHONE_NUM&quot;</td><td>15</td><td>3389</td><td>7110</td><td>8534</td></tr><tr><td>&quot;B-STREET_ADDRE…</td><td>2</td><td>3543</td><td>3526</td><td>2591</td></tr><tr><td>&quot;I-STREET_ADDRE…</td><td>20</td><td>8577</td><td>8833</td><td>21531</td></tr><tr><td>&quot;I-ID_NUM&quot;</td><td>1</td><td>null</td><td>null</td><td>2510</td></tr></tbody></table></div>"
      ],
      "text/plain": [
       "shape: (13, 5)\n",
       "┌──────────────────┬──────────┬──────────────┬────────────────────┬─────────────────────────┐\n",
       "│ column           ┆ column_0 ┆ column_0_pii ┆ column_0_pii_fixed ┆ column_0_moredata_fixed │\n",
       "│ ---              ┆ ---      ┆ ---          ┆ ---                ┆ ---                     │\n",
       "│ str              ┆ i64      ┆ i64          ┆ i64                ┆ i64                     │\n",
       "╞══════════════════╪══════════╪══════════════╪════════════════════╪═════════════════════════╡\n",
       "│ O                ┆ 4989794  ┆ 1333514      ┆ 1526223            ┆ 943276                  │\n",
       "│ B-NAME_STUDENT   ┆ 1365     ┆ 11104        ┆ 11108              ┆ 22963                   │\n",
       "│ I-NAME_STUDENT   ┆ 1096     ┆ 5667         ┆ 5875               ┆ 4848                    │\n",
       "│ B-URL_PERSONAL   ┆ 110      ┆ 620          ┆ 621                ┆ 2582                    │\n",
       "│ B-EMAIL          ┆ 39       ┆ 3794         ┆ 3793               ┆ 2603                    │\n",
       "│ …                ┆ …        ┆ …            ┆ …                  ┆ …                       │\n",
       "│ B-PHONE_NUM      ┆ 6        ┆ 2419         ┆ 2409               ┆ 2589                    │\n",
       "│ I-PHONE_NUM      ┆ 15       ┆ 3389         ┆ 7110               ┆ 8534                    │\n",
       "│ B-STREET_ADDRESS ┆ 2        ┆ 3543         ┆ 3526               ┆ 2591                    │\n",
       "│ I-STREET_ADDRESS ┆ 20       ┆ 8577         ┆ 8833               ┆ 21531                   │\n",
       "│ I-ID_NUM         ┆ 1        ┆ null         ┆ null               ┆ 2510                    │\n",
       "└──────────────────┴──────────┴──────────────┴────────────────────┴─────────────────────────┘"
      ]
     },
     "execution_count": 47,
     "metadata": {},
     "output_type": "execute_result"
    }
   ],
   "source": [
    "count_df = (\n",
    "    original_count.join(pii_dataset_count, on=\"column\", how=\"left\", suffix=\"_pii\")\n",
    "    .join(pii_dataset_fixed_count, on=\"column\", how=\"left\", suffix=\"_pii_fixed\")\n",
    "    .join(\n",
    "        moredata_dataset_fixed_count, on=\"column\", how=\"left\", suffix=\"_moredata_fixed\"\n",
    "    )\n",
    ")\n",
    "\n",
    "count_df"
   ]
  },
  {
   "cell_type": "code",
   "execution_count": null,
   "metadata": {},
   "outputs": [
    {
     "data": {
      "text/html": [
       "<div><style>\n",
       ".dataframe > thead > tr,\n",
       ".dataframe > tbody > tr {\n",
       "  text-align: right;\n",
       "  white-space: pre-wrap;\n",
       "}\n",
       "</style>\n",
       "<small>shape: (11, 2)</small><table border=\"1\" class=\"dataframe\"><thead><tr><th>column</th><th>column_0</th></tr><tr><td>str</td><td>i64</td></tr></thead><tbody><tr><td>&quot;O&quot;</td><td>1526223</td></tr><tr><td>&quot;B-EMAIL&quot;</td><td>3793</td></tr><tr><td>&quot;B-USERNAME&quot;</td><td>718</td></tr><tr><td>&quot;B-STREET_ADDRE…</td><td>3526</td></tr><tr><td>&quot;I-STREET_ADDRE…</td><td>8833</td></tr><tr><td>&quot;B-URL_PERSONAL…</td><td>621</td></tr><tr><td>&quot;B-NAME_STUDENT…</td><td>11108</td></tr><tr><td>&quot;I-NAME_STUDENT…</td><td>5875</td></tr><tr><td>&quot;B-PHONE_NUM&quot;</td><td>2409</td></tr><tr><td>&quot;I-PHONE_NUM&quot;</td><td>7110</td></tr><tr><td>&quot;I-URL_PERSONAL…</td><td>6</td></tr></tbody></table></div>"
      ],
      "text/plain": [
       "shape: (11, 2)\n",
       "┌──────────────────┬──────────┐\n",
       "│ column           ┆ column_0 │\n",
       "│ ---              ┆ ---      │\n",
       "│ str              ┆ i64      │\n",
       "╞══════════════════╪══════════╡\n",
       "│ O                ┆ 1526223  │\n",
       "│ B-EMAIL          ┆ 3793     │\n",
       "│ B-USERNAME       ┆ 718      │\n",
       "│ B-STREET_ADDRESS ┆ 3526     │\n",
       "│ I-STREET_ADDRESS ┆ 8833     │\n",
       "│ B-URL_PERSONAL   ┆ 621      │\n",
       "│ B-NAME_STUDENT   ┆ 11108    │\n",
       "│ I-NAME_STUDENT   ┆ 5875     │\n",
       "│ B-PHONE_NUM      ┆ 2409     │\n",
       "│ I-PHONE_NUM      ┆ 7110     │\n",
       "│ I-URL_PERSONAL   ┆ 6        │\n",
       "└──────────────────┴──────────┘"
      ]
     },
     "execution_count": 37,
     "metadata": {},
     "output_type": "execute_result"
    }
   ],
   "source": [
    "pii_dataset_fixed_count"
   ]
  },
  {
   "cell_type": "code",
   "execution_count": null,
   "metadata": {},
   "outputs": [
    {
     "data": {
      "text/plain": [
       "Counter({'O': 1526223,\n",
       "         'B-NAME_STUDENT': 11108,\n",
       "         'I-STREET_ADDRESS': 8833,\n",
       "         'I-PHONE_NUM': 7110,\n",
       "         'I-NAME_STUDENT': 5875,\n",
       "         'B-EMAIL': 3793,\n",
       "         'B-STREET_ADDRESS': 3526,\n",
       "         'B-PHONE_NUM': 2409,\n",
       "         'B-USERNAME': 718,\n",
       "         'B-URL_PERSONAL': 621,\n",
       "         'I-URL_PERSONAL': 6})"
      ]
     },
     "execution_count": 21,
     "metadata": {},
     "output_type": "execute_result"
    }
   ],
   "source": [
    "count_all_tag(pii_dataset_fixed)"
   ]
  },
  {
   "cell_type": "code",
   "execution_count": null,
   "metadata": {},
   "outputs": [
    {
     "data": {
      "text/plain": [
       "Counter({'O': 943276,\n",
       "         'B-NAME_STUDENT': 22963,\n",
       "         'I-STREET_ADDRESS': 21531,\n",
       "         'I-PHONE_NUM': 8534,\n",
       "         'I-NAME_STUDENT': 4848,\n",
       "         'B-USERNAME': 2694,\n",
       "         'B-EMAIL': 2603,\n",
       "         'B-STREET_ADDRESS': 2591,\n",
       "         'B-PHONE_NUM': 2589,\n",
       "         'B-URL_PERSONAL': 2582,\n",
       "         'B-ID_NUM': 2553,\n",
       "         'I-ID_NUM': 2510})"
      ]
     },
     "execution_count": 19,
     "metadata": {},
     "output_type": "execute_result"
    }
   ],
   "source": [
    "count_all_tag(moredata_dataset_fixed)"
   ]
  },
  {
   "cell_type": "markdown",
   "metadata": {},
   "source": [
    "# Visualization"
   ]
  },
  {
   "cell_type": "code",
   "execution_count": null,
   "metadata": {},
   "outputs": [],
   "source": [
    "import spacy\n",
    "from spacy.tokens import Span, Doc\n",
    "from spacy import displacy\n",
    "\n",
    "# https://matplotlib.org/2.0.2/examples/color/named_colors.html\n",
    "options = {\n",
    "    \"colors\": {\n",
    "        \"B-NAME_STUDENT\": \"aqua\",\n",
    "        \"I-NAME_STUDENT\": \"aliceblue\",\n",
    "        \"B-EMAIL\": \"forestgreen\",\n",
    "        \"I-EMAIL\": \"greenyellow\",\n",
    "        \"B-USERNAME\": \"hotpink\",\n",
    "        \"I-USERNAME\": \"lightpink\",\n",
    "        \"B-ID_NUM\": \"purple\",\n",
    "        \"I-ID_NUM\": \"rebeccapurple\",\n",
    "        \"B-PHONE_NUM\": \"red\",\n",
    "        \"I-PHONE_NUM\": \"salmon\",\n",
    "        \"B-URL_PERSONAL\": \"slategrey\",\n",
    "        \"I-URL_PERSONAL\": \"silver\",\n",
    "        \"B-STREET_ADDRESS\": \"brown\",\n",
    "        \"I-STREET_ADDRESS\": \"chocolate\",\n",
    "    }\n",
    "}\n",
    "\n",
    "\n",
    "class PllLabelRenderer:\n",
    "    def __init__(\n",
    "        self,\n",
    "        documents: list[str],\n",
    "        tokens: list[str],\n",
    "        labels: list[str],\n",
    "        options: dict[str, dict[str, str]],\n",
    "    ) -> None:\n",
    "        self.documents = documents\n",
    "        self.tokens = tokens\n",
    "        self.labels = labels\n",
    "        self.options = options\n",
    "        self.nlp = spacy.blank(\"en\")\n",
    "\n",
    "    def render(\n",
    "        self, render_idx: int | None = None, documents_id: int | None = None\n",
    "    ) -> None:\n",
    "        if render_idx and documents_id:\n",
    "            raise Exception(\"Don't Use Both render_idx and documents_id\")\n",
    "        if documents_id:\n",
    "            render_idx = self.documents.index(documents_id)\n",
    "\n",
    "        doc = Doc(self.nlp.vocab, words=self.tokens[render_idx])\n",
    "        # エンティティをDocに追加\n",
    "        ents = []\n",
    "        start = 0\n",
    "        label_seq: list[str] = self.labels[render_idx]\n",
    "        for i, label in enumerate(label_seq):\n",
    "            if label == \"O\":\n",
    "                continue\n",
    "            ents.append(Span(doc, start=i, end=i + 1, label=label))\n",
    "\n",
    "        doc.ents = ents\n",
    "\n",
    "        displacy.render(doc, style=\"ent\", jupyter=True, options=options)"
   ]
  },
  {
   "cell_type": "code",
   "execution_count": null,
   "metadata": {},
   "outputs": [],
   "source": [
    "documents = external_pii_dataset.get_column(\"document\").to_list()\n",
    "tokens = external_pii_dataset.get_column(\"tokens\").to_list()\n",
    "full_texts = external_pii_dataset.get_column(\"text\").to_list()\n",
    "labels = external_pii_dataset.get_column(\"labels\").to_list()"
   ]
  },
  {
   "cell_type": "code",
   "execution_count": null,
   "metadata": {},
   "outputs": [],
   "source": [
    "PLR = PllLabelRenderer(\n",
    "    documents=documents, tokens=tokens, labels=labels, options=options\n",
    ")"
   ]
  },
  {
   "cell_type": "code",
   "execution_count": null,
   "metadata": {},
   "outputs": [
    {
     "data": {
      "text/html": [
       "<span class=\"tex2jax_ignore\"><div class=\"entities\" style=\"line-height: 2.5; direction: ltr\">My name is \n",
       "<mark class=\"entity\" style=\"background: aqua; padding: 0.45em 0.6em; margin: 0 0.25em; line-height: 1; border-radius: 0.35em;\">\n",
       "    Aaliyah\n",
       "    <span style=\"font-size: 0.8em; font-weight: bold; line-height: 1; border-radius: 0.35em; vertical-align: middle; margin-left: 0.5rem\">B-NAME_STUDENT</span>\n",
       "</mark>\n",
       " \n",
       "<mark class=\"entity\" style=\"background: aliceblue; padding: 0.45em 0.6em; margin: 0 0.25em; line-height: 1; border-radius: 0.35em;\">\n",
       "    Popova,\n",
       "    <span style=\"font-size: 0.8em; font-weight: bold; line-height: 1; border-radius: 0.35em; vertical-align: middle; margin-left: 0.5rem\">I-NAME_STUDENT</span>\n",
       "</mark>\n",
       " and I am a jeweler with 13 years of experience. I remember a very unique and challenging project I had to work on last year. A customer approached me with a precious family heirloom - a diamond necklace that had been passed down through generations. Unfortunately, the necklace was in poor condition, with several loose diamonds and a broken clasp. The customer wanted me to restore it to its former glory, but it was clear that this would be no ordinary repair. Using my specialized tools and techniques, I began the delicate task of dismantling the necklace. Each diamond was carefully removed from its setting, and the damaged clasp was removed. Once the necklace was completely disassembled, I meticulously cleaned each diamond and inspected it for any damage. Fortunately, the diamonds were all in good condition, with no cracks or chips. The next step was to repair the broken clasp. I carefully soldered the broken pieces back together, ensuring that the clasp was sturdy and secure. Once the clasp was repaired, I began the process of reassembling the necklace. Each diamond was carefully placed back into its setting, and the necklace was polished until it sparkled like new. When I presented the restored necklace to the customer, they were overjoyed. They couldn't believe that I had been able to bring their family heirloom back to life. The necklace looked as beautiful as it had when it was first created, and the customer was thrilled to have it back in their possession. If you have a project that you would like to discuss, please feel free to contact me by phone at \n",
       "<mark class=\"entity\" style=\"background: red; padding: 0.45em 0.6em; margin: 0 0.25em; line-height: 1; border-radius: 0.35em;\">\n",
       "    (95)\n",
       "    <span style=\"font-size: 0.8em; font-weight: bold; line-height: 1; border-radius: 0.35em; vertical-align: middle; margin-left: 0.5rem\">B-PHONE_NUM</span>\n",
       "</mark>\n",
       " \n",
       "<mark class=\"entity\" style=\"background: salmon; padding: 0.45em 0.6em; margin: 0 0.25em; line-height: 1; border-radius: 0.35em;\">\n",
       "    94215-7906\n",
       "    <span style=\"font-size: 0.8em; font-weight: bold; line-height: 1; border-radius: 0.35em; vertical-align: middle; margin-left: 0.5rem\">I-PHONE_NUM</span>\n",
       "</mark>\n",
       " or by email at \n",
       "<mark class=\"entity\" style=\"background: forestgreen; padding: 0.45em 0.6em; margin: 0 0.25em; line-height: 1; border-radius: 0.35em;\">\n",
       "    aaliyah.popova4783@aol.edu.\n",
       "    <span style=\"font-size: 0.8em; font-weight: bold; line-height: 1; border-radius: 0.35em; vertical-align: middle; margin-left: 0.5rem\">B-EMAIL</span>\n",
       "</mark>\n",
       " I look forward to hearing from you! P.S.: When I'm not creating beautiful jewelry, I enjoy spending time podcasting. I love sharing my knowledge about jewelry and connecting with other people who are passionate about this art form. I also enjoy spending time with my family and exploring new places. If you would like to learn more about me, please feel free to visit my website at [website address] or visit me at my studio located at \n",
       "<mark class=\"entity\" style=\"background: brown; padding: 0.45em 0.6em; margin: 0 0.25em; line-height: 1; border-radius: 0.35em;\">\n",
       "    97\n",
       "    <span style=\"font-size: 0.8em; font-weight: bold; line-height: 1; border-radius: 0.35em; vertical-align: middle; margin-left: 0.5rem\">B-STREET_ADDRESS</span>\n",
       "</mark>\n",
       " \n",
       "<mark class=\"entity\" style=\"background: chocolate; padding: 0.45em 0.6em; margin: 0 0.25em; line-height: 1; border-radius: 0.35em;\">\n",
       "    Lincoln\n",
       "    <span style=\"font-size: 0.8em; font-weight: bold; line-height: 1; border-radius: 0.35em; vertical-align: middle; margin-left: 0.5rem\">I-STREET_ADDRESS</span>\n",
       "</mark>\n",
       " \n",
       "<mark class=\"entity\" style=\"background: chocolate; padding: 0.45em 0.6em; margin: 0 0.25em; line-height: 1; border-radius: 0.35em;\">\n",
       "    Street.\n",
       "    <span style=\"font-size: 0.8em; font-weight: bold; line-height: 1; border-radius: 0.35em; vertical-align: middle; margin-left: 0.5rem\">I-STREET_ADDRESS</span>\n",
       "</mark>\n",
       " </div></span>"
      ],
      "text/plain": [
       "<IPython.core.display.HTML object>"
      ]
     },
     "metadata": {},
     "output_type": "display_data"
    }
   ],
   "source": [
    "PLR.render(documents_id=documents[0])"
   ]
  },
  {
   "cell_type": "markdown",
   "metadata": {},
   "source": [
    "# テキストの長さは？"
   ]
  },
  {
   "cell_type": "code",
   "execution_count": null,
   "metadata": {},
   "outputs": [],
   "source": [
    "import matplotlib.pyplot as plt\n",
    "\n",
    "\n",
    "def figure_text_len_hist(full_texts: list[str], name: str):\n",
    "    text_len = [len(text.split()) for text in full_texts]\n",
    "    plt.hist(text_len, bins=100)\n",
    "    plt.xlabel(\"text length\")\n",
    "    plt.ylabel(\"count\")\n",
    "    plt.title(f\"{name} Text Length Hist\")\n",
    "    plt.show()"
   ]
  },
  {
   "cell_type": "code",
   "execution_count": null,
   "metadata": {},
   "outputs": [],
   "source": [
    "figure_text_len_hist(full_texts=external_pii_dataset.get_column(\"text\").to_list())"
   ]
  }
 ],
 "metadata": {
  "kernelspec": {
   "display_name": "Python 3 (ipykernel)",
   "language": "python",
   "name": "python3"
  },
  "language_info": {
   "codemirror_mode": {
    "name": "ipython",
    "version": 3
   },
   "file_extension": ".py",
   "mimetype": "text/x-python",
   "name": "python",
   "nbconvert_exporter": "python",
   "pygments_lexer": "ipython3",
   "version": "3.12.1"
  }
 },
 "nbformat": 4,
 "nbformat_minor": 2
}
