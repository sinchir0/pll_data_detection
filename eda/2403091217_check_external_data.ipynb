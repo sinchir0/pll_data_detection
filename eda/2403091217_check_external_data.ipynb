{
 "cells": [
  {
   "cell_type": "markdown",
   "metadata": {},
   "source": [
    "# 目的\n",
    "追加データとして使えるか判断する\n",
    "- B-NAME_STUDENTなどと同じ項目が存在するか、データ量はどの程度か。"
   ]
  },
  {
   "cell_type": "code",
   "execution_count": 29,
   "metadata": {},
   "outputs": [],
   "source": [
    "import json\n",
    "import polars as pl\n",
    "import ast\n",
    "import matplotlib.pyplot as plt"
   ]
  },
  {
   "cell_type": "code",
   "execution_count": 11,
   "metadata": {},
   "outputs": [],
   "source": [
    "# Read JSONL file\n",
    "with open(\"../data/english_pii_43k.jsonl\", \"r\") as f:\n",
    "    data = [json.loads(line) for line in f]\n",
    "\n",
    "# Convert to Polars DataFrame\n",
    "df = pl.DataFrame(data)"
   ]
  },
  {
   "cell_type": "code",
   "execution_count": 12,
   "metadata": {},
   "outputs": [
    {
     "data": {
      "text/html": [
       "<div><style>\n",
       ".dataframe > thead > tr,\n",
       ".dataframe > tbody > tr {\n",
       "  text-align: right;\n",
       "  white-space: pre-wrap;\n",
       "}\n",
       "</style>\n",
       "<small>shape: (43_501, 6)</small><table border=\"1\" class=\"dataframe\"><thead><tr><th>masked_text</th><th>unmasked_text</th><th>privacy_mask</th><th>span_labels</th><th>bio_labels</th><th>tokenised_text</th></tr><tr><td>str</td><td>str</td><td>str</td><td>str</td><td>list[str]</td><td>list[str]</td></tr></thead><tbody><tr><td>&quot;A student&#x27;s as…</td><td>&quot;A student&#x27;s as…</td><td>&quot;{&#x27;[PHONEIMEI_1…</td><td>&quot;[[0, 57, &#x27;O&#x27;],…</td><td>[&quot;O&quot;, &quot;O&quot;, … &quot;O&quot;]</td><td>[&quot;a&quot;, &quot;student&quot;, … &quot;?&quot;]</td></tr><tr><td>&quot;Dear [FIRSTNAM…</td><td>&quot;Dear Omer, as …</td><td>&quot;{&#x27;[FIRSTNAME_1…</td><td>&quot;[[0, 5, &#x27;O&#x27;], …</td><td>[&quot;O&quot;, &quot;B-FIRSTNAME&quot;, … &quot;O&quot;]</td><td>[&quot;dear&quot;, &quot;om&quot;, … &quot;.&quot;]</td></tr><tr><td>&quot;[FIRSTNAME_1] …</td><td>&quot;Kattie could y…</td><td>&quot;{&#x27;[FIRSTNAME_1…</td><td>&quot;[[0, 6, &#x27;FIRST…</td><td>[&quot;B-FIRSTNAME&quot;, &quot;I-FIRSTNAME&quot;, … &quot;O&quot;]</td><td>[&quot;kat&quot;, &quot;##tie&quot;, … &quot;?&quot;]</td></tr><tr><td>&quot;Emergency supp…</td><td>&quot;Emergency supp…</td><td>&quot;{&#x27;[BUILDINGNUM…</td><td>&quot;[[0, 22, &#x27;O&#x27;],…</td><td>[&quot;O&quot;, &quot;O&quot;, … &quot;O&quot;]</td><td>[&quot;emergency&quot;, &quot;supplies&quot;, … &quot;.&quot;]</td></tr><tr><td>&quot;The [AGE_1] ol…</td><td>&quot;The 88 old chi…</td><td>&quot;{&#x27;[AGE_1]&#x27;: &#x27;8…</td><td>&quot;[[0, 4, &#x27;O&#x27;], …</td><td>[&quot;O&quot;, &quot;B-AGE&quot;, … &quot;O&quot;]</td><td>[&quot;the&quot;, &quot;88&quot;, … &quot;.&quot;]</td></tr><tr><td>&quot;Your recent ho…</td><td>&quot;Your recent ho…</td><td>&quot;{&#x27;[DOB_1]&#x27;: &#x27;2…</td><td>&quot;[[0, 38, &#x27;O&#x27;],…</td><td>[&quot;O&quot;, &quot;O&quot;, … &quot;O&quot;]</td><td>[&quot;your&quot;, &quot;recent&quot;, … &quot;.&quot;]</td></tr><tr><td>&quot;Dear [GENDER_1…</td><td>&quot;Dear Trans mal…</td><td>&quot;{&#x27;[GENDER_1]&#x27;:…</td><td>&quot;[[0, 5, &#x27;O&#x27;], …</td><td>[&quot;O&quot;, &quot;B-GENDER&quot;, … &quot;O&quot;]</td><td>[&quot;dear&quot;, &quot;trans&quot;, … &quot;.&quot;]</td></tr><tr><td>&quot;The wellness p…</td><td>&quot;The wellness p…</td><td>&quot;{&#x27;[NEARBYGPSCO…</td><td>&quot;[[0, 37, &#x27;O&#x27;],…</td><td>[&quot;O&quot;, &quot;O&quot;, … &quot;O&quot;]</td><td>[&quot;the&quot;, &quot;wellness&quot;, … &quot;.&quot;]</td></tr><tr><td>&quot;[FIRSTNAME_1],…</td><td>&quot;Carleton, the …</td><td>&quot;{&#x27;[FIRSTNAME_1…</td><td>&quot;[[0, 8, &#x27;FIRST…</td><td>[&quot;B-FIRSTNAME&quot;, &quot;O&quot;, … &quot;O&quot;]</td><td>[&quot;carleton&quot;, &quot;,&quot;, … &quot;.&quot;]</td></tr><tr><td>&quot;1. Customer qu…</td><td>&quot;1. Customer qu…</td><td>&quot;{&#x27;[TIME_1]&#x27;: &#x27;…</td><td>&quot;[[0, 30, &#x27;O&#x27;],…</td><td>[&quot;O&quot;, &quot;O&quot;, … &quot;O&quot;]</td><td>[&quot;1&quot;, &quot;.&quot;, … &quot;.&quot;]</td></tr><tr><td>&quot;I&#x27;m [FIRSTNAME…</td><td>&quot;I&#x27;m Garrick Mu…</td><td>&quot;{&#x27;[FIRSTNAME_1…</td><td>&quot;[[0, 4, &#x27;O&#x27;], …</td><td>[&quot;O&quot;, &quot;O&quot;, … &quot;O&quot;]</td><td>[&quot;i&quot;, &quot;&#x27;&quot;, … &quot;.&quot;]</td></tr><tr><td>&quot;&quot;Dear [FIRSTNA…</td><td>&quot;&quot;Dear Carmen, …</td><td>&quot;{&#x27;[FIRSTNAME_1…</td><td>&quot;[[0, 6, &#x27;O&#x27;], …</td><td>[&quot;O&quot;, &quot;O&quot;, … &quot;O&quot;]</td><td>[&quot;&quot;&quot;, &quot;dear&quot;, … &quot;&quot;&quot;]</td></tr><tr><td>&hellip;</td><td>&hellip;</td><td>&hellip;</td><td>&hellip;</td><td>&hellip;</td><td>&hellip;</td></tr><tr><td>&quot;[USERNAME_1], …</td><td>&quot;Shanelle49, we…</td><td>&quot;{&#x27;[USERNAME_1]…</td><td>&quot;[[0, 10, &#x27;USER…</td><td>[&quot;B-USERNAME&quot;, &quot;I-USERNAME&quot;, … &quot;O&quot;]</td><td>[&quot;shane&quot;, &quot;##lle&quot;, … &quot;.&quot;]</td></tr><tr><td>&quot;Your Litecoin …</td><td>&quot;Your Litecoin …</td><td>&quot;{&#x27;[LITECOINADD…</td><td>&quot;[[0, 22, &#x27;O&#x27;],…</td><td>[&quot;O&quot;, &quot;O&quot;, … &quot;O&quot;]</td><td>[&quot;your&quot;, &quot;lit&quot;, … &quot;.&quot;]</td></tr><tr><td>&quot;Dear Mrs. [LAS…</td><td>&quot;Dear Mrs. Magg…</td><td>&quot;{&#x27;[LASTNAME_1]…</td><td>&quot;[[0, 10, &#x27;O&#x27;],…</td><td>[&quot;O&quot;, &quot;O&quot;, … &quot;O&quot;]</td><td>[&quot;dear&quot;, &quot;mrs&quot;, … &quot;.&quot;]</td></tr><tr><td>&quot;Have arranged …</td><td>&quot;Have arranged …</td><td>&quot;{&#x27;[BIC_1]&#x27;: &#x27;D…</td><td>&quot;[[0, 27, &#x27;O&#x27;],…</td><td>[&quot;O&quot;, &quot;O&quot;, … &quot;I-DOB&quot;]</td><td>[&quot;have&quot;, &quot;arranged&quot;, … &quot;1975&quot;]</td></tr><tr><td>&quot;[JOBTITLE_1], …</td><td>&quot;Senior Respons…</td><td>&quot;{&#x27;[JOBTITLE_1]…</td><td>&quot;[[0, 26, &#x27;JOBT…</td><td>[&quot;B-JOBTITLE&quot;, &quot;I-JOBTITLE&quot;, … &quot;O&quot;]</td><td>[&quot;senior&quot;, &quot;response&quot;, … &quot;.&quot;]</td></tr><tr><td>&quot;There is an al…</td><td>&quot;There is an al…</td><td>&quot;{&#x27;[DATE_1]&#x27;: &#x27;…</td><td>&quot;[[0, 116, &#x27;O&#x27;]…</td><td>[&quot;O&quot;, &quot;O&quot;, … &quot;O&quot;]</td><td>[&quot;there&quot;, &quot;is&quot;, … &quot;.&quot;]</td></tr><tr><td>&quot;Hey [FIRSTNAME…</td><td>&quot;Hey Twila, you…</td><td>&quot;{&#x27;[FIRSTNAME_1…</td><td>&quot;[[0, 4, &#x27;O&#x27;], …</td><td>[&quot;O&quot;, &quot;B-FIRSTNAME&quot;, … &quot;O&quot;]</td><td>[&quot;hey&quot;, &quot;t&quot;, … &quot;.&quot;]</td></tr><tr><td>&quot;Hello [FIRSTNA…</td><td>&quot;Hello Nellie, …</td><td>&quot;{&#x27;[FIRSTNAME_1…</td><td>&quot;[[0, 6, &#x27;O&#x27;], …</td><td>[&quot;O&quot;, &quot;B-FIRSTNAME&quot;, … &quot;O&quot;]</td><td>[&quot;hello&quot;, &quot;nellie&quot;, … &quot;.&quot;]</td></tr><tr><td>&quot;Dear [FIRSTNAM…</td><td>&quot;Dear Jalon, we…</td><td>&quot;{&#x27;[FIRSTNAME_1…</td><td>&quot;[[0, 5, &#x27;O&#x27;], …</td><td>[&quot;O&quot;, &quot;B-FIRSTNAME&quot;, … &quot;O&quot;]</td><td>[&quot;dear&quot;, &quot;ja&quot;, … &quot;.&quot;]</td></tr><tr><td>&quot;Dear [SEX_1] a…</td><td>&quot;Dear Female at…</td><td>&quot;{&#x27;[SEX_1]&#x27;: &#x27;F…</td><td>&quot;[[0, 5, &#x27;O&#x27;], …</td><td>[&quot;O&quot;, &quot;B-SEX&quot;, … &quot;O&quot;]</td><td>[&quot;dear&quot;, &quot;female&quot;, … &quot;.&quot;]</td></tr><tr><td>&quot;Hello [FIRSTNA…</td><td>&quot;Hello Tito, we…</td><td>&quot;{&#x27;[FIRSTNAME_1…</td><td>&quot;[[0, 6, &#x27;O&#x27;], …</td><td>[&quot;O&quot;, &quot;B-FIRSTNAME&quot;, … &quot;O&quot;]</td><td>[&quot;hello&quot;, &quot;tito&quot;, … &quot;.&quot;]</td></tr><tr><td>&quot;Due to suspect…</td><td>&quot;Due to suspect…</td><td>&quot;{&#x27;[MASKEDNUMBE…</td><td>&quot;[[0, 70, &#x27;O&#x27;],…</td><td>[&quot;O&quot;, &quot;O&quot;, … &quot;O&quot;]</td><td>[&quot;due&quot;, &quot;to&quot;, … &quot;.&quot;]</td></tr></tbody></table></div>"
      ],
      "text/plain": [
       "shape: (43_501, 6)\n",
       "┌────────────────┬────────────────┬────────────────┬───────────────┬───────────────┬───────────────┐\n",
       "│ masked_text    ┆ unmasked_text  ┆ privacy_mask   ┆ span_labels   ┆ bio_labels    ┆ tokenised_tex │\n",
       "│ ---            ┆ ---            ┆ ---            ┆ ---           ┆ ---           ┆ t             │\n",
       "│ str            ┆ str            ┆ str            ┆ str           ┆ list[str]     ┆ ---           │\n",
       "│                ┆                ┆                ┆               ┆               ┆ list[str]     │\n",
       "╞════════════════╪════════════════╪════════════════╪═══════════════╪═══════════════╪═══════════════╡\n",
       "│ A student's    ┆ A student's    ┆ {'[PHONEIMEI_1 ┆ [[0, 57,      ┆ [\"O\", \"O\", …  ┆ [\"a\",         │\n",
       "│ assessment was ┆ assessment was ┆ ]': '06-184755 ┆ 'O'], [57,    ┆ \"O\"]          ┆ \"student\", …  │\n",
       "│ found…         ┆ found…         ┆ -866…          ┆ 75, 'PHONEIM… ┆               ┆ \"?\"]          │\n",
       "│ Dear           ┆ Dear Omer, as  ┆ {'[FIRSTNAME_1 ┆ [[0, 5, 'O'], ┆ [\"O\", \"B-FIRS ┆ [\"dear\",      │\n",
       "│ [FIRSTNAME_1], ┆ per our        ┆ ]': 'Omer',    ┆ [5, 9,        ┆ TNAME\", …     ┆ \"om\", … \".\"]  │\n",
       "│ as per our r…  ┆ records, y…    ┆ '[VEHI…        ┆ 'FIRSTNAME_…  ┆ \"O\"]          ┆               │\n",
       "│ [FIRSTNAME_1]  ┆ Kattie could   ┆ {'[FIRSTNAME_1 ┆ [[0, 6, 'FIRS ┆ [\"B-FIRSTNAME ┆ [\"kat\",       │\n",
       "│ could you      ┆ you please     ┆ ]': 'Kattie',  ┆ TNAME_1'],    ┆ \", \"I-FIRSTNA ┆ \"##tie\", …    │\n",
       "│ please s…      ┆ share yo…      ┆ '[AG…          ┆ [6, 75, …     ┆ ME\", ……       ┆ \"?\"]          │\n",
       "│ Emergency      ┆ Emergency      ┆ {'[BUILDINGNUM ┆ [[0, 22,      ┆ [\"O\", \"O\", …  ┆ [\"emergency\", │\n",
       "│ supplies in    ┆ supplies in    ┆ BER_1]':       ┆ 'O'], [22,    ┆ \"O\"]          ┆ \"supplies\", … │\n",
       "│ [BUILDINGN…    ┆ 16356 need…    ┆ '16356', …     ┆ 27, 'BUILDIN… ┆               ┆ \".\"]          │\n",
       "│ The [AGE_1]    ┆ The 88 old     ┆ {'[AGE_1]':    ┆ [[0, 4, 'O'], ┆ [\"O\",         ┆ [\"the\", \"88\", │\n",
       "│ old child at   ┆ child at 5862, ┆ '88', '[BUILDI ┆ [4, 6,        ┆ \"B-AGE\", …    ┆ … \".\"]        │\n",
       "│ [BUILDI…       ┆ has sh…        ┆ NGNUMB…        ┆ 'AGE_1'], […  ┆ \"O\"]          ┆               │\n",
       "│ …              ┆ …              ┆ …              ┆ …             ┆ …             ┆ …             │\n",
       "│ Hello          ┆ Hello Nellie,  ┆ {'[FIRSTNAME_1 ┆ [[0, 6, 'O'], ┆ [\"O\", \"B-FIRS ┆ [\"hello\",     │\n",
       "│ [FIRSTNAME_1], ┆ your cognitive ┆ ]': 'Nellie',  ┆ [6, 12,       ┆ TNAME\", …     ┆ \"nellie\", …   │\n",
       "│ your cognit…   ┆ the…           ┆ '[DA…          ┆ 'FIRSTNAME…   ┆ \"O\"]          ┆ \".\"]          │\n",
       "│ Dear           ┆ Dear Jalon, we ┆ {'[FIRSTNAME_1 ┆ [[0, 5, 'O'], ┆ [\"O\", \"B-FIRS ┆ [\"dear\",      │\n",
       "│ [FIRSTNAME_1], ┆ appreciate     ┆ ]': 'Jalon',   ┆ [5, 10,       ┆ TNAME\", …     ┆ \"ja\", … \".\"]  │\n",
       "│ we appreciat…  ┆ your a…        ┆ '[CRE…         ┆ 'FIRSTNAME…   ┆ \"O\"]          ┆               │\n",
       "│ Dear [SEX_1]   ┆ Dear Female at ┆ {'[SEX_1]':    ┆ [[0, 5, 'O'], ┆ [\"O\",         ┆ [\"dear\",      │\n",
       "│ at             ┆ 32363-2779, we ┆ 'Female',      ┆ [5, 11,       ┆ \"B-SEX\", …    ┆ \"female\", …   │\n",
       "│ [ZIPCODE_1],   ┆ ar…            ┆ '[ZIPCODE_…    ┆ 'SEX_1'], …   ┆ \"O\"]          ┆ \".\"]          │\n",
       "│ we …           ┆                ┆                ┆               ┆               ┆               │\n",
       "│ Hello          ┆ Hello Tito, we ┆ {'[FIRSTNAME_1 ┆ [[0, 6, 'O'], ┆ [\"O\", \"B-FIRS ┆ [\"hello\",     │\n",
       "│ [FIRSTNAME_1], ┆ encourage you  ┆ ]': 'Tito',    ┆ [6, 10,       ┆ TNAME\", …     ┆ \"tito\", …     │\n",
       "│ we encourag…   ┆ to …           ┆ '[ETHE…        ┆ 'FIRSTNAME…   ┆ \"O\"]          ┆ \".\"]          │\n",
       "│ Due to suspect ┆ Due to suspect ┆ {'[MASKEDNUMBE ┆ [[0, 70,      ┆ [\"O\", \"O\", …  ┆ [\"due\", \"to\", │\n",
       "│ transactions,  ┆ transactions,  ┆ R_1]':         ┆ 'O'], [70,    ┆ \"O\"]          ┆ … \".\"]        │\n",
       "│ the…           ┆ the…           ┆ '7677516432…   ┆ 86, 'MASKEDN… ┆               ┆               │\n",
       "└────────────────┴────────────────┴────────────────┴───────────────┴───────────────┴───────────────┘"
      ]
     },
     "execution_count": 12,
     "metadata": {},
     "output_type": "execute_result"
    }
   ],
   "source": [
    "df"
   ]
  },
  {
   "cell_type": "code",
   "execution_count": 43,
   "metadata": {},
   "outputs": [
    {
     "name": "stdout",
     "output_type": "stream",
     "text": [
      "B-PREFIX ms\n",
      "I-PREFIX .\n",
      "O north\n",
      "O ,\n",
      "O our\n",
      "O office\n",
      "O in\n",
      "B-COUNTY essex\n",
      "O confirmed\n",
      "O your\n",
      "O visit\n",
      "O with\n",
      "O health\n",
      "O psychologist\n",
      "O at\n",
      "B-TIME 10\n",
      "I-TIME :\n",
      "I-TIME 02\n",
      "I-TIME am\n",
      "O .\n",
      "O your\n",
      "O file\n",
      "O with\n",
      "O id\n",
      "B-PHONEIMEI 04\n",
      "I-PHONEIMEI -\n",
      "I-PHONEIMEI 55\n",
      "I-PHONEIMEI ##86\n",
      "I-PHONEIMEI ##19\n",
      "I-PHONEIMEI -\n",
      "I-PHONEIMEI 83\n",
      "I-PHONEIMEI ##26\n",
      "I-PHONEIMEI ##0\n",
      "I-PHONEIMEI ##4\n",
      "I-PHONEIMEI -\n",
      "I-PHONEIMEI 8\n",
      "O is\n",
      "O updated\n",
      "O .\n"
     ]
    }
   ],
   "source": [
    "idx = 13\n",
    "for label, token in zip(df[\"bio_labels\"][idx], df[\"tokenised_text\"][idx]):\n",
    "    print(label, token)"
   ]
  },
  {
   "cell_type": "code",
   "execution_count": 33,
   "metadata": {},
   "outputs": [
    {
     "data": {
      "text/plain": [
       "\"A student's assessment was found on device bearing IMEI: 06-184755-866851-3. The document falls under the various topics discussed in our Optimization curriculum. Can you please collect it?\""
      ]
     },
     "execution_count": 33,
     "metadata": {},
     "output_type": "execute_result"
    }
   ],
   "source": [
    "df[\"unmasked_text\"][0]"
   ]
  },
  {
   "cell_type": "code",
   "execution_count": 32,
   "metadata": {},
   "outputs": [
    {
     "data": {
      "text/plain": [
       "Text(0, 0.5, 'Frequency')"
      ]
     },
     "execution_count": 32,
     "metadata": {},
     "output_type": "execute_result"
    },
    {
     "data": {
      "image/png": "[encoded data removed]",
      "text/plain": [
       "<Figure size 640x480 with 1 Axes>"
      ]
     },
     "metadata": {},
     "output_type": "display_data"
    }
   ],
   "source": [
    "plt.hist(df[\"unmasked_text\"].map_elements(lambda x: len(x.split())).to_list(), bins=100)\n",
    "plt.xlabel(\"Number of words\")\n",
    "plt.ylabel(\"Frequency\")\n",
    "# 一文が短い？"
   ]
  },
  {
   "cell_type": "code",
   "execution_count": null,
   "metadata": {},
   "outputs": [],
   "source": [
    "# tagの変更案\n",
    "# B-FIRSTNAME > B-NAME_STUDENT\n",
    "# B-FIRSTNAME, I-FIRSTNAME > 結合して、B-NAME_STUDENT\n",
    "# B-LASTNAME > I-NAME_STUDENT\n",
    "# B-LASTNAME, I-LASTNAME > 結合して、I-NAME_STUDENT\n",
    "\n",
    "# B-STREET > B-STREET_ADDRESS\n",
    "# I-STREET > I-STREET_ADDRESS\n",
    "#"
   ]
  }
 ],
 "metadata": {
  "kernelspec": {
   "display_name": ".venv",
   "language": "python",
   "name": "python3"
  },
  "language_info": {
   "codemirror_mode": {
    "name": "ipython",
    "version": 3
   },
   "file_extension": ".py",
   "mimetype": "text/x-python",
   "name": "python",
   "nbconvert_exporter": "python",
   "pygments_lexer": "ipython3",
   "version": "3.12.1"
  }
 },
 "nbformat": 4,
 "nbformat_minor": 2
}
