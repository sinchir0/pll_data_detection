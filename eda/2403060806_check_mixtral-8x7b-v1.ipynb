{
 "cells": [
  {
   "cell_type": "markdown",
   "metadata": {},
   "source": [
    "# 目的\n",
    "以下を計算する\n",
    "- mixtral-8x7b-v1.jsonのラベル数"
   ]
  },
  {
   "cell_type": "code",
   "execution_count": 1,
   "metadata": {},
   "outputs": [],
   "source": [
    "import polars as pl\n",
    "import matplotlib.pyplot as plt\n",
    "import ast\n",
    "\n",
    "import itertools\n",
    "from collections import Counter"
   ]
  },
  {
   "cell_type": "code",
   "execution_count": 2,
   "metadata": {},
   "outputs": [],
   "source": [
    "train = pl.read_json(\"../data/train.json\")\n",
    "mixtral = pl.read_json(\"../data/mixtral-8x7b-v1.json\")"
   ]
  },
  {
   "cell_type": "code",
   "execution_count": 3,
   "metadata": {},
   "outputs": [
    {
     "name": "stdout",
     "output_type": "stream",
     "text": [
      "Dear Corrector,\n",
      "\n",
      "Thank you for taking the time to look through my text. I hope you can find some value in it.\n",
      "\n",
      "Regards,\n",
      "\n",
      "Al\n",
      "\n",
      "My First Mind-Mapping Session\n",
      "\n",
      "Challenge\n",
      "\n",
      "A small group of students and I are in the early stages of founding a new student association from the ground up. We noticed that our campus lacks an association that encourages students to take part in cultural activities and that connects art lovers. However, in order to jump start our organization we need events that are actually relevant to our target customers. So we decided to use a design thinking tool to develop design criteria and learn from our stakeholders.\n",
      "\n",
      "Selection\n",
      "\n",
      "We selected mind-mapping, a tool that enables the identification of data insights in a collected data set in order to establish criteria for the idea generation phase. (University of Virginia, 2015). This was perfect for us as it allowed us to source our stakeholders needs and understand their expectations better. This tool also allowed us to counteract the confirmation bias and identify really relevant criteria.\n",
      "\n",
      "Application\n",
      "\n",
      "In order to achieve this we invited a group of student association founders, artists and\n",
      "\n",
      "students to take part in a mind mapping session. There we presented our limited customer insights, ideas and best practices from similar organizations on other campuses. After showing our stakeholder group the relevant information we invited them to a casual talk to understand what insights they could offer. After the talk we opened up the discussion to the group and presented the group with sticky notes and a white board. We encouraged the generation of notes and then collectively reviewed and grouped the ideas. Lastly, we talked about the clusters that formed and wrote insight statements. It worked very well and was applied effectively.\n",
      "\n",
      "Insight\n",
      "\n",
      "Through the session we realized that multiple criteria are very important for our events in order to ensure growth. First of all, we concluded that students would most likely attend if the events were free. Second of all, it became clear that the events have to be flexible in time and fit with the student schedule. This means the events should take place in the afternoon and early evening. Lastly, the events should have a very heavy social component, as with\n",
      "\n",
      "COVID it would bring a lot of value to students if we facilitated networking. The next steps will be organizing test events and then getting feedback on them. The goal is to get multiple hit events that we can repeat monthly. This session really made me realize how powerful design thinking can be. It allowed us to avoid mistakes before we made them.\n",
      "\n",
      "Approach\n",
      "\n",
      "Next time I would use the same tool in a similar case, but I would invite more potential customers from the target group as I learned that they had the most valuable insights. However, in general the tool worked very well and I would not change much.\n",
      "\n",
      "Overall, this tool was incredible for getting new insights. However, for a small operation such as ours it is a lot of work to organize a session. Nevertheless, the ideas and design criteria we generated in the event will be of much use in the future. Furthermore, my team and I are trying to implement the design thinking culture in the association, so that when we leave university the design thinking spirit can live on in the organization. I am very excited to try out the learning launch with our events next.\n",
      "\n",
      "References\n",
      "\n",
      "University of Virginia. (2015, 1. Januar). Mind Mapping Tool [Video]. Coursera.\n",
      "\n",
      "https://www.coursera.org/learn/uva-darden-design-thinking-innovation/lecture/lsFRa/\n",
      "\n",
      "mind-mapping-tool\n",
      "\n",
      "\n"
     ]
    }
   ],
   "source": [
    "print(train[\"full_text\"][10])"
   ]
  },
  {
   "cell_type": "code",
   "execution_count": 4,
   "metadata": {},
   "outputs": [
    {
     "name": "stdout",
     "output_type": "stream",
     "text": [
      "Andre Sorenson - https://www.twitter.com/sorenson - andresorenson15@mail.com\n",
      "53092 Alicia Union\n",
      "West Sandrashire, MS 29843; PIN NUMBER EVpwyzpX4SA1\n",
      "\n",
      "**Introduction - Identifying the Challenge**\n",
      "\n",
      "In the dynamic world of tech startups, one of the most significant challenges is crafting innovative marketing strategies that effectively reach target audiences, foster brand loyalty, and drive growth. As a marketing manager at a rapidly growing tech company in Austin, Texas, I faced this very challenge. The increasingly competitive landscape of the tech industry requires businesses to constantly evolve their marketing approach to stand out from the crowd and maintain customer engagement.\n",
      "\n",
      "**Selection of the Tool or Approach**\n",
      "\n",
      "To tackle this complex challenge, I decided to apply Blue Ocean Strategy, a business strategy framework developed by W. Chan Kim and Renée Mauborgne. This approach focuses on creating uncontested market space, making the competition irrelevant by reconstructing market boundaries and focusing on the factors that the competition has largely neglected. The Blue Ocean Strategy is particularly relevant in the tech startup scene, where competition is fierce, and differentiation is key.\n",
      "\n",
      "My team and I evaluated other marketing strategies such as SWOT analysis and Porter's Five Forces, but we found them to be more focused on competitive positioning within existing markets rather than creating new market spaces. In contrast, Blue Ocean Strategy encourages businesses to pursue differentiation and low cost, two vital elements for a startup's growth.\n",
      "\n",
      "**Application of the Tool or Approach**\n",
      "\n",
      "Applying the Blue Ocean Strategy framework in our marketing efforts involved several steps.\n",
      "\n",
      "1. Identifying our unique value proposition: We determined our target market and their key pain points, focusing on what sets our tech startup apart from the competition.\n",
      "\n",
      "2. Defining the \"Four Actions Framework\": We systematically reconstructed market boundaries by asking four key questions:\n",
      "   - Which aspects of our offering could be eliminated?\n",
      "   - Which aspects could be reduced below the industry's standard?\n",
      "   - Which aspects could be raised above the industry's standard?\n",
      "   - Which aspects could be created that the industry has never of\n",
      "\n",
      "Andre Sorenson - https://www.twitter.com/sorenson - andresorenson15@mail.com\n",
      "53092 Alicia Union\n",
      "West Sandrashire, MS 29843; PIN NUMBER EVpwyzpX4SA1\n",
      "\n",
      "fered?\n",
      "\n",
      "3. Segmenting the market: We identified new, untapped market segments, and strategized on how to reach and serve them.\n",
      "\n",
      "4. Visualizing the strategy with the Strategy Canvas: We depicted our current and desired position in the market on a single page, focusing on the key factors that distinguish our offering from competitors.\n",
      "\n",
      "5. Developing a roadmap: Based on insights gained from the above steps, we outlined clear actions and milestones for our marketing team.\n",
      "\n",
      "**Analysis and Insight**\n",
      "\n",
      "Applying the Blue Ocean Strategy to our marketing efforts was both enlightening and challenging. We identified numerous opportunities to redefine our market space, create new demand, and pursue differentiation and low cost.\n",
      "\n",
      "The tool's emphasis on eliminating and reducing certain aspects in tandem with raising and creating new factors encouraged us to critically evaluate our marketing efforts and refocus our priorities. This strategic shift opened up new avenues for growth and customer engagement. \n",
      "\n",
      "However, implementing the Blue Ocean Strategy did have its limitations. It required significant time and resources to identify new market segments and tailor our offering accordingly. As a result, we faced a steep learning curve and encountered some initial resistance within the team. The iterative nature of the approach also meant frequent adjustments to our marketing strategy, requiring a higher degree of agility and adaptability.\n",
      "\n",
      "**Conclusion - Future Applications**\n",
      "\n",
      "Applying the Blue Ocean Strategy to our marketing efforts was an enlightening and rewarding experience. The insights gained from this process will undoubtedly inform our future marketing efforts.\n",
      "\n",
      "The strategy encouraged us to break away from traditional competitive positioning and focus on unique value creation. This opened up new opportunities for growth and differentiation, ultimately driving success in our company's marketing efforts.\n",
      "\n",
      "Going forward, we plan to merge the Blue Ocean Strategy with other marketing frameworks to leverage their complementary strengths. The combination will allow us to conduct comprehensive competitive analysis while simultaneously fostering an innovative and differentiated marketing approach.\n",
      "\n",
      "By embracing a balanced blend of tradition and openness, we can maintain our American values and meet the technological needs of a dynamic market—ensuring our company thrives in the ongoing new normal. And it is through this approach that I, like Jillian, will continue to pursue a balanced American-lived life while driving success for my company and contributing to the American dream in tech.\n",
      "\n",
      "With gratitude, Andre Sorenson\n"
     ]
    }
   ],
   "source": [
    "print(mixtral[\"full_text\"][10])"
   ]
  },
  {
   "cell_type": "code",
   "execution_count": 5,
   "metadata": {},
   "outputs": [
    {
     "data": {
      "text/html": [
       "<div><style>\n",
       ".dataframe > thead > tr,\n",
       ".dataframe > tbody > tr {\n",
       "  text-align: right;\n",
       "  white-space: pre-wrap;\n",
       "}\n",
       "</style>\n",
       "<small>shape: (12, 2)</small><table border=\"1\" class=\"dataframe\"><thead><tr><th>tag</th><th>count</th></tr><tr><td>str</td><td>i64</td></tr></thead><tbody><tr><td>&quot;O&quot;</td><td>2011212</td></tr><tr><td>&quot;I-STREET_ADDRE…</td><td>19422</td></tr><tr><td>&quot;I-PHONE_NUM&quot;</td><td>7974</td></tr><tr><td>&quot;I-NAME_STUDENT…</td><td>7459</td></tr><tr><td>&quot;B-NAME_STUDENT…</td><td>5937</td></tr><tr><td>&quot;B-URL_PERSONAL…</td><td>3297</td></tr><tr><td>&quot;B-EMAIL&quot;</td><td>2448</td></tr><tr><td>&quot;B-PHONE_NUM&quot;</td><td>2388</td></tr><tr><td>&quot;B-ID_NUM&quot;</td><td>2376</td></tr><tr><td>&quot;B-USERNAME&quot;</td><td>2374</td></tr><tr><td>&quot;B-STREET_ADDRE…</td><td>2294</td></tr><tr><td>&quot;I-ID_NUM&quot;</td><td>1059</td></tr></tbody></table></div>"
      ],
      "text/plain": [
       "shape: (12, 2)\n",
       "┌──────────────────┬─────────┐\n",
       "│ tag              ┆ count   │\n",
       "│ ---              ┆ ---     │\n",
       "│ str              ┆ i64     │\n",
       "╞══════════════════╪═════════╡\n",
       "│ O                ┆ 2011212 │\n",
       "│ I-STREET_ADDRESS ┆ 19422   │\n",
       "│ I-PHONE_NUM      ┆ 7974    │\n",
       "│ I-NAME_STUDENT   ┆ 7459    │\n",
       "│ B-NAME_STUDENT   ┆ 5937    │\n",
       "│ …                ┆ …       │\n",
       "│ B-PHONE_NUM      ┆ 2388    │\n",
       "│ B-ID_NUM         ┆ 2376    │\n",
       "│ B-USERNAME       ┆ 2374    │\n",
       "│ B-STREET_ADDRESS ┆ 2294    │\n",
       "│ I-ID_NUM         ┆ 1059    │\n",
       "└──────────────────┴─────────┘"
      ]
     },
     "execution_count": 5,
     "metadata": {},
     "output_type": "execute_result"
    }
   ],
   "source": [
    "def count_all_tag(df: pl.DataFrame) -> pl.DataFrame:\n",
    "    # 全tagのリスト\n",
    "    all_tags = list(itertools.chain.from_iterable(df.get_column(\"labels\").to_list()))\n",
    "    all_tags_count = Counter(all_tags)\n",
    "    return (\n",
    "        pl.DataFrame(all_tags_count)\n",
    "        .transpose(include_header=True)\n",
    "        .rename({\"column\": \"tag\", \"column_0\": \"count\"})\n",
    "    ).sort(\"count\", descending=True)\n",
    "\n",
    "\n",
    "count_all_tag(mixtral)"
   ]
  },
  {
   "cell_type": "code",
   "execution_count": 6,
   "metadata": {},
   "outputs": [],
   "source": [
    "import spacy\n",
    "from spacy.tokens import Span, Doc\n",
    "from spacy import displacy\n",
    "\n",
    "# https://matplotlib.org/2.0.2/examples/color/named_colors.html\n",
    "options = {\n",
    "    \"colors\": {\n",
    "        \"B-NAME_STUDENT\": \"aqua\",\n",
    "        \"I-NAME_STUDENT\": \"aliceblue\",\n",
    "        \"B-EMAIL\": \"forestgreen\",\n",
    "        \"I-EMAIL\": \"greenyellow\",\n",
    "        \"B-USERNAME\": \"hotpink\",\n",
    "        \"I-USERNAME\": \"lightpink\",\n",
    "        \"B-ID_NUM\": \"purple\",\n",
    "        \"I-ID_NUM\": \"rebeccapurple\",\n",
    "        \"B-PHONE_NUM\": \"red\",\n",
    "        \"I-PHONE_NUM\": \"salmon\",\n",
    "        \"B-URL_PERSONAL\": \"slategrey\",\n",
    "        \"I-URL_PERSONAL\": \"silver\",\n",
    "        \"B-STREET_ADDRESS\": \"brown\",\n",
    "        \"I-STREET_ADDRESS\": \"chocolate\",\n",
    "    }\n",
    "}\n",
    "\n",
    "\n",
    "class PiiLabelRenderer:\n",
    "    def __init__(\n",
    "        self,\n",
    "        documents: list[str],\n",
    "        tokens: list[str],\n",
    "        labels: list[str],\n",
    "        options: dict[str, dict[str, str]],\n",
    "    ) -> None:\n",
    "        self.documents = documents\n",
    "        self.tokens = tokens\n",
    "        self.labels = labels\n",
    "        self.options = options\n",
    "        self.nlp = spacy.blank(\"en\")\n",
    "\n",
    "    def render(\n",
    "        self, render_idx: int | None = None, documents_id: int | None = None\n",
    "    ) -> None:\n",
    "        if render_idx and documents_id:\n",
    "            raise Exception(\"Don't Use Both render_idx and documents_id\")\n",
    "        if documents_id:\n",
    "            render_idx = self.documents.index(documents_id)\n",
    "\n",
    "        doc = Doc(self.nlp.vocab, words=self.tokens[render_idx])\n",
    "        # エンティティをDocに追加\n",
    "        ents = []\n",
    "        start = 0\n",
    "        label_seq: list[str] = self.labels[render_idx]\n",
    "        for i, label in enumerate(label_seq):\n",
    "            if label == \"O\":\n",
    "                continue\n",
    "            ents.append(Span(doc, start=i, end=i + 1, label=label))\n",
    "\n",
    "        doc.ents = ents\n",
    "\n",
    "        displacy.render(doc, style=\"ent\", jupyter=True, options=options)"
   ]
  },
  {
   "cell_type": "code",
   "execution_count": 7,
   "metadata": {},
   "outputs": [],
   "source": [
    "documents = mixtral.get_column(\"document\").to_list()\n",
    "tokens = mixtral.get_column(\"tokens\").to_list()\n",
    "full_texts = mixtral.get_column(\"full_text\").to_list()\n",
    "labels = mixtral.get_column(\"labels\").to_list()"
   ]
  },
  {
   "cell_type": "code",
   "execution_count": 8,
   "metadata": {},
   "outputs": [],
   "source": [
    "PLR = PiiLabelRenderer(\n",
    "    documents=documents, tokens=tokens, labels=labels, options=options\n",
    ")"
   ]
  },
  {
   "cell_type": "code",
   "execution_count": 9,
   "metadata": {},
   "outputs": [
    {
     "ename": "ValueError",
     "evalue": "'pj_1844' is not in list",
     "output_type": "error",
     "traceback": [
      "\u001b[0;31m---------------------------------------------------------------------------\u001b[0m",
      "\u001b[0;31mValueError\u001b[0m                                Traceback (most recent call last)",
      "Cell \u001b[0;32mIn[9], line 1\u001b[0m\n\u001b[0;32m----> 1\u001b[0m \u001b[43mPLR\u001b[49m\u001b[38;5;241;43m.\u001b[39;49m\u001b[43mrender\u001b[49m\u001b[43m(\u001b[49m\u001b[43mdocuments_id\u001b[49m\u001b[38;5;241;43m=\u001b[39;49m\u001b[38;5;124;43m\"\u001b[39;49m\u001b[38;5;124;43mpj_1844\u001b[39;49m\u001b[38;5;124;43m\"\u001b[39;49m\u001b[43m)\u001b[49m\n",
      "Cell \u001b[0;32mIn[6], line 46\u001b[0m, in \u001b[0;36mPiiLabelRenderer.render\u001b[0;34m(self, render_idx, documents_id)\u001b[0m\n\u001b[1;32m     44\u001b[0m     \u001b[38;5;28;01mraise\u001b[39;00m \u001b[38;5;167;01mException\u001b[39;00m(\u001b[38;5;124m\"\u001b[39m\u001b[38;5;124mDon\u001b[39m\u001b[38;5;124m'\u001b[39m\u001b[38;5;124mt Use Both render_idx and documents_id\u001b[39m\u001b[38;5;124m\"\u001b[39m)\n\u001b[1;32m     45\u001b[0m \u001b[38;5;28;01mif\u001b[39;00m documents_id:\n\u001b[0;32m---> 46\u001b[0m     render_idx \u001b[38;5;241m=\u001b[39m \u001b[38;5;28;43mself\u001b[39;49m\u001b[38;5;241;43m.\u001b[39;49m\u001b[43mdocuments\u001b[49m\u001b[38;5;241;43m.\u001b[39;49m\u001b[43mindex\u001b[49m\u001b[43m(\u001b[49m\u001b[43mdocuments_id\u001b[49m\u001b[43m)\u001b[49m\n\u001b[1;32m     48\u001b[0m doc \u001b[38;5;241m=\u001b[39m Doc(\u001b[38;5;28mself\u001b[39m\u001b[38;5;241m.\u001b[39mnlp\u001b[38;5;241m.\u001b[39mvocab, words\u001b[38;5;241m=\u001b[39m\u001b[38;5;28mself\u001b[39m\u001b[38;5;241m.\u001b[39mtokens[render_idx])\n\u001b[1;32m     49\u001b[0m \u001b[38;5;66;03m# エンティティをDocに追加\u001b[39;00m\n",
      "\u001b[0;31mValueError\u001b[0m: 'pj_1844' is not in list"
     ]
    }
   ],
   "source": [
    "PLR.render(documents_id=\"pj_1844\")"
   ]
  },
  {
   "cell_type": "markdown",
   "metadata": {},
   "source": [
    "# テキストの長さは？"
   ]
  },
  {
   "cell_type": "code",
   "execution_count": 43,
   "metadata": {},
   "outputs": [
    {
     "data": {
      "image/png": "[encoded data removed]",
      "text/plain": [
       "<Figure size 640x480 with 1 Axes>"
      ]
     },
     "metadata": {},
     "output_type": "display_data"
    }
   ],
   "source": [
    "text_len = [len(text.split()) for text in full_texts]\n",
    "import matplotlib.pyplot as plt\n",
    "\n",
    "plt.hist(text_len, bins=100)\n",
    "plt.xlabel(\"text length\")\n",
    "plt.ylabel(\"count\")\n",
    "plt.title(\"mixtral Text Length Hist\")"
   ]
  },
  {
   "cell_type": "markdown",
   "metadata": {},
   "source": []
  }
 ],
 "metadata": {
  "kernelspec": {
   "display_name": ".venv",
   "language": "python",
   "name": "python3"
  },
  "language_info": {
   "codemirror_mode": {
    "name": "ipython",
    "version": 3
   },
   "file_extension": ".py",
   "mimetype": "text/x-python",
   "name": "python",
   "nbconvert_exporter": "python",
   "pygments_lexer": "ipython3",
   "version": "3.12.1"
  }
 },
 "nbformat": 4,
 "nbformat_minor": 2
}
