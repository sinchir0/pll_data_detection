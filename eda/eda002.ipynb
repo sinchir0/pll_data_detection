{
 "cells": [
  {
   "cell_type": "markdown",
   "metadata": {},
   "source": [
    "# 目的\n",
    "以下を計算する\n",
    "- trainの単語数\n",
    "- Tagの種類"
   ]
  },
  {
   "cell_type": "code",
   "execution_count": 1,
   "metadata": {},
   "outputs": [],
   "source": [
    "import polars as pl\n",
    "import matplotlib.pyplot as plt"
   ]
  },
  {
   "cell_type": "code",
   "execution_count": 2,
   "metadata": {},
   "outputs": [],
   "source": [
    "train = pl.read_json(\"../data/train.json\")\n",
    "test = pl.read_json(\"../data/test.json\")"
   ]
  },
  {
   "cell_type": "code",
   "execution_count": 3,
   "metadata": {},
   "outputs": [
    {
     "data": {
      "text/html": [
       "<div><style>\n",
       ".dataframe > thead > tr,\n",
       ".dataframe > tbody > tr {\n",
       "  text-align: right;\n",
       "  white-space: pre-wrap;\n",
       "}\n",
       "</style>\n",
       "<small>shape: (6_807, 5)</small><table border=\"1\" class=\"dataframe\"><thead><tr><th>document</th><th>full_text</th><th>tokens</th><th>trailing_whitespace</th><th>labels</th></tr><tr><td>i64</td><td>str</td><td>list[str]</td><td>list[bool]</td><td>list[str]</td></tr></thead><tbody><tr><td>7</td><td>&quot;Design Thinkin…</td><td>[&quot;Design&quot;, &quot;Thinking&quot;, … &quot;\n",
       "\n",
       "&quot;]</td><td>[true, true, … false]</td><td>[&quot;O&quot;, &quot;O&quot;, … &quot;O&quot;]</td></tr><tr><td>10</td><td>&quot;Diego Estrada\n",
       "…</td><td>[&quot;Diego&quot;, &quot;Estrada&quot;, … &quot;\n",
       "\n",
       "&quot;]</td><td>[true, false, … false]</td><td>[&quot;B-NAME_STUDENT&quot;, &quot;I-NAME_STUDENT&quot;, … &quot;O&quot;]</td></tr><tr><td>16</td><td>&quot;Reporting proc…</td><td>[&quot;Reporting&quot;, &quot;process&quot;, … &quot;\n",
       "\n",
       "&quot;]</td><td>[true, false, … false]</td><td>[&quot;O&quot;, &quot;O&quot;, … &quot;O&quot;]</td></tr><tr><td>20</td><td>&quot;Design Thinkin…</td><td>[&quot;Design&quot;, &quot;Thinking&quot;, … &quot;\n",
       "\n",
       "&quot;]</td><td>[true, true, … false]</td><td>[&quot;O&quot;, &quot;O&quot;, … &quot;O&quot;]</td></tr><tr><td>56</td><td>&quot;Assignment:  V…</td><td>[&quot;Assignment&quot;, &quot;:&quot;, … &quot;\n",
       "\n",
       "&quot;]</td><td>[false, false, … false]</td><td>[&quot;O&quot;, &quot;O&quot;, … &quot;O&quot;]</td></tr><tr><td>86</td><td>&quot;Cheese Startup…</td><td>[&quot;Cheese&quot;, &quot;Startup&quot;, … &quot;\n",
       "\n",
       "&quot;]</td><td>[true, true, … false]</td><td>[&quot;O&quot;, &quot;O&quot;, … &quot;O&quot;]</td></tr><tr><td>93</td><td>&quot;Silvia Villalo…</td><td>[&quot;Silvia&quot;, &quot;Villalobos&quot;, … &quot;\n",
       "\n",
       "&quot;]</td><td>[true, false, … false]</td><td>[&quot;B-NAME_STUDENT&quot;, &quot;I-NAME_STUDENT&quot;, … &quot;O&quot;]</td></tr><tr><td>104</td><td>&quot;Storytelling  …</td><td>[&quot;Storytelling&quot;, &quot; &quot;, … &quot;\n",
       "\n",
       "&quot;]</td><td>[true, false, … false]</td><td>[&quot;O&quot;, &quot;O&quot;, … &quot;O&quot;]</td></tr><tr><td>112</td><td>&quot;Reflection – L…</td><td>[&quot;Reflection&quot;, &quot;–&quot;, … &quot;\n",
       "\n",
       "&quot;]</td><td>[true, true, … false]</td><td>[&quot;O&quot;, &quot;O&quot;, … &quot;O&quot;]</td></tr><tr><td>123</td><td>&quot;Gandhi Institu…</td><td>[&quot;Gandhi&quot;, &quot;Institute&quot;, … &quot;\n",
       "\n",
       "&quot;]</td><td>[true, true, … false]</td><td>[&quot;O&quot;, &quot;O&quot;, … &quot;O&quot;]</td></tr><tr><td>136</td><td>&quot;Dear Corrector…</td><td>[&quot;Dear&quot;, &quot;Corrector&quot;, … &quot;\n",
       "\n",
       "&quot;]</td><td>[true, false, … false]</td><td>[&quot;O&quot;, &quot;O&quot;, … &quot;O&quot;]</td></tr><tr><td>166</td><td>&quot;Pepa Medrano\n",
       "\n",
       "…</td><td>[&quot;Pepa&quot;, &quot;Medrano&quot;, … &quot;\n",
       "\n",
       "&quot;]</td><td>[true, false, … false]</td><td>[&quot;B-NAME_STUDENT&quot;, &quot;I-NAME_STUDENT&quot;, … &quot;O&quot;]</td></tr><tr><td>&hellip;</td><td>&hellip;</td><td>&hellip;</td><td>&hellip;</td><td>&hellip;</td></tr><tr><td>22663</td><td>&quot;Reﬂection Stor…</td><td>[&quot;Reﬂection&quot;, &quot;Storytelling&quot;, … &quot;\n",
       "\n",
       "&quot;]</td><td>[true, false, … false]</td><td>[&quot;O&quot;, &quot;O&quot;, … &quot;O&quot;]</td></tr><tr><td>22664</td><td>&quot;Design Thinkin…</td><td>[&quot;Design&quot;, &quot;Thinking&quot;, … &quot;\n",
       "\n",
       "&quot;]</td><td>[true, true, … false]</td><td>[&quot;O&quot;, &quot;O&quot;, … &quot;O&quot;]</td></tr><tr><td>22668</td><td>&quot;Visualization …</td><td>[&quot;Visualization&quot;, &quot;Tool&quot;, … &quot;\n",
       "\n",
       "&quot;]</td><td>[true, false, … false]</td><td>[&quot;O&quot;, &quot;O&quot;, … &quot;O&quot;]</td></tr><tr><td>22672</td><td>&quot;Challenge:    …</td><td>[&quot;Challenge&quot;, &quot;:&quot;, … &quot;\n",
       "\n",
       "&quot;]</td><td>[false, true, … false]</td><td>[&quot;O&quot;, &quot;O&quot;, … &quot;O&quot;]</td></tr><tr><td>22674</td><td>&quot;Reflection – V…</td><td>[&quot;Reflection&quot;, &quot;–&quot;, … &quot;\n",
       "\n",
       "&quot;]</td><td>[true, true, … false]</td><td>[&quot;O&quot;, &quot;O&quot;, … &quot;O&quot;]</td></tr><tr><td>22675</td><td>&quot;Example Reflec…</td><td>[&quot;Example&quot;, &quot;Reflection&quot;, … &quot;\n",
       "\n",
       "&quot;]</td><td>[true, true, … false]</td><td>[&quot;O&quot;, &quot;O&quot;, … &quot;O&quot;]</td></tr><tr><td>22677</td><td>&quot;Mind Mapping T…</td><td>[&quot;Mind&quot;, &quot;Mapping&quot;, … &quot;\n",
       "\n",
       "&quot;]</td><td>[true, true, … false]</td><td>[&quot;O&quot;, &quot;O&quot;, … &quot;O&quot;]</td></tr><tr><td>22678</td><td>&quot;EXAMPLE – JOUR…</td><td>[&quot;EXAMPLE&quot;, &quot;–&quot;, … &quot;\n",
       "\n",
       "&quot;]</td><td>[true, true, … false]</td><td>[&quot;O&quot;, &quot;O&quot;, … &quot;O&quot;]</td></tr><tr><td>22679</td><td>&quot;Why Mind Mappi…</td><td>[&quot;Why&quot;, &quot;Mind&quot;, … &quot;\n",
       "\n",
       "&quot;]</td><td>[true, true, … false]</td><td>[&quot;O&quot;, &quot;O&quot;, … &quot;O&quot;]</td></tr><tr><td>22681</td><td>&quot;Challenge\n",
       "\n",
       "So,…</td><td>[&quot;Challenge&quot;, &quot;\n",
       "\n",
       "&quot;, … &quot;\n",
       "\n",
       "&quot;]</td><td>[false, false, … false]</td><td>[&quot;O&quot;, &quot;O&quot;, … &quot;O&quot;]</td></tr><tr><td>22684</td><td>&quot;Brainstorming\n",
       "…</td><td>[&quot;Brainstorming&quot;, &quot;\n",
       "\n",
       "&quot;, … &quot;\n",
       "\n",
       "&quot;]</td><td>[false, false, … false]</td><td>[&quot;O&quot;, &quot;O&quot;, … &quot;O&quot;]</td></tr><tr><td>22687</td><td>&quot;Mind Mapping\n",
       "\n",
       "…</td><td>[&quot;Mind&quot;, &quot;Mapping&quot;, … &quot;\n",
       "\n",
       "&quot;]</td><td>[true, false, … false]</td><td>[&quot;O&quot;, &quot;O&quot;, … &quot;O&quot;]</td></tr></tbody></table></div>"
      ],
      "text/plain": [
       "shape: (6_807, 5)\n",
       "┌──────────┬─────────────────────┬─────────────────────┬─────────────────────┬─────────────────────┐\n",
       "│ document ┆ full_text           ┆ tokens              ┆ trailing_whitespace ┆ labels              │\n",
       "│ ---      ┆ ---                 ┆ ---                 ┆ ---                 ┆ ---                 │\n",
       "│ i64      ┆ str                 ┆ list[str]           ┆ list[bool]          ┆ list[str]           │\n",
       "╞══════════╪═════════════════════╪═════════════════════╪═════════════════════╪═════════════════════╡\n",
       "│ 7        ┆ Design Thinking for ┆ [\"Design\",          ┆ [true, true, …      ┆ [\"O\", \"O\", … \"O\"]   │\n",
       "│          ┆ innovation r…       ┆ \"Thinking\", … \"     ┆ false]              ┆                     │\n",
       "│          ┆                     ┆                     ┆                     ┆                     │\n",
       "│          ┆                     ┆ \"]                  ┆                     ┆                     │\n",
       "│ 10       ┆ Diego Estrada       ┆ [\"Diego\",           ┆ [true, false, …     ┆ [\"B-NAME_STUDENT\",  │\n",
       "│          ┆                     ┆ \"Estrada\", … \"      ┆ false]              ┆ \"I-NAME_STUDE…      │\n",
       "│          ┆ Design Thinking A…  ┆                     ┆                     ┆                     │\n",
       "│          ┆                     ┆ \"]                  ┆                     ┆                     │\n",
       "│ 16       ┆ Reporting process   ┆ [\"Reporting\",       ┆ [true, false, …     ┆ [\"O\", \"O\", … \"O\"]   │\n",
       "│          ┆                     ┆ \"process\", … \"      ┆ false]              ┆                     │\n",
       "│          ┆ by Gilberto G…      ┆                     ┆                     ┆                     │\n",
       "│          ┆                     ┆ \"]                  ┆                     ┆                     │\n",
       "│ 20       ┆ Design Thinking for ┆ [\"Design\",          ┆ [true, true, …      ┆ [\"O\", \"O\", … \"O\"]   │\n",
       "│          ┆ Innovation          ┆ \"Thinking\", … \"     ┆ false]              ┆                     │\n",
       "│          ┆                     ┆                     ┆                     ┆                     │\n",
       "│          ┆ …                   ┆ \"]                  ┆                     ┆                     │\n",
       "│ 56       ┆ Assignment:  Visual ┆ [\"Assignment\", \":\", ┆ [false, false, …    ┆ [\"O\", \"O\", … \"O\"]   │\n",
       "│          ┆ ization Refle…      ┆ … \"                 ┆ false]              ┆                     │\n",
       "│          ┆                     ┆                     ┆                     ┆                     │\n",
       "│          ┆                     ┆ \"]                  ┆                     ┆                     │\n",
       "│ …        ┆ …                   ┆ …                   ┆ …                   ┆ …                   │\n",
       "│ 22678    ┆ EXAMPLE – JOURNEY   ┆ [\"EXAMPLE\", \"–\", …  ┆ [true, true, …      ┆ [\"O\", \"O\", … \"O\"]   │\n",
       "│          ┆ MAP                 ┆ \"                   ┆ false]              ┆                     │\n",
       "│          ┆                     ┆                     ┆                     ┆                     │\n",
       "│          ┆ THE CHALL…          ┆ \"]                  ┆                     ┆                     │\n",
       "│ 22679    ┆ Why Mind Mapping?   ┆ [\"Why\", \"Mind\", … \" ┆ [true, true, …      ┆ [\"O\", \"O\", … \"O\"]   │\n",
       "│          ┆                     ┆                     ┆ false]              ┆                     │\n",
       "│          ┆ Mind maps are…      ┆ \"]                  ┆                     ┆                     │\n",
       "│ 22681    ┆ Challenge           ┆ [\"Challenge\", \"     ┆ [false, false, …    ┆ [\"O\", \"O\", … \"O\"]   │\n",
       "│          ┆                     ┆                     ┆ false]              ┆                     │\n",
       "│          ┆ So, a few months    ┆ \", … \"              ┆                     ┆                     │\n",
       "│          ┆ back…               ┆                     ┆                     ┆                     │\n",
       "│          ┆                     ┆ \"]                  ┆                     ┆                     │\n",
       "│ 22684    ┆ Brainstorming       ┆ [\"Brainstorming\", \" ┆ [false, false, …    ┆ [\"O\", \"O\", … \"O\"]   │\n",
       "│          ┆                     ┆                     ┆ false]              ┆                     │\n",
       "│          ┆ Challenge & Selec…  ┆ \", … \"              ┆                     ┆                     │\n",
       "│          ┆                     ┆                     ┆                     ┆                     │\n",
       "│          ┆                     ┆ \"]                  ┆                     ┆                     │\n",
       "│ 22687    ┆ Mind Mapping        ┆ [\"Mind\", \"Mapping\", ┆ [true, false, …     ┆ [\"O\", \"O\", … \"O\"]   │\n",
       "│          ┆                     ┆ … \"                 ┆ false]              ┆                     │\n",
       "│          ┆ Challenge           ┆                     ┆                     ┆                     │\n",
       "│          ┆                     ┆ \"]                  ┆                     ┆                     │\n",
       "│          ┆ My cons…            ┆                     ┆                     ┆                     │\n",
       "└──────────┴─────────────────────┴─────────────────────┴─────────────────────┴─────────────────────┘"
      ]
     },
     "execution_count": 3,
     "metadata": {},
     "output_type": "execute_result"
    }
   ],
   "source": [
    "train"
   ]
  },
  {
   "cell_type": "markdown",
   "metadata": {},
   "source": [
    "# trainの単語数"
   ]
  },
  {
   "cell_type": "code",
   "execution_count": 28,
   "metadata": {},
   "outputs": [],
   "source": [
    "# tokens列のlistの長さをカウント\n",
    "token_lens = (\n",
    "    train.get_column(\"tokens\").map_elements(lambda tokens: len(tokens)).to_list()\n",
    ")"
   ]
  },
  {
   "cell_type": "code",
   "execution_count": 29,
   "metadata": {},
   "outputs": [
    {
     "data": {
      "text/plain": [
       "Text(0, 0.5, 'token length')"
      ]
     },
     "execution_count": 29,
     "metadata": {},
     "output_type": "execute_result"
    },
    {
     "data": {
      "image/png": "[encoded data removed]",
      "text/plain": [
       "<Figure size 640x480 with 1 Axes>"
      ]
     },
     "metadata": {},
     "output_type": "display_data"
    }
   ],
   "source": [
    "plt.boxplot(token_lens)\n",
    "plt.ylabel(\"token length\")"
   ]
  },
  {
   "cell_type": "code",
   "execution_count": 30,
   "metadata": {},
   "outputs": [
    {
     "data": {
      "text/html": [
       "<div><style>\n",
       ".dataframe > thead > tr,\n",
       ".dataframe > tbody > tr {\n",
       "  text-align: right;\n",
       "  white-space: pre-wrap;\n",
       "}\n",
       "</style>\n",
       "<small>shape: (9, 2)</small><table border=\"1\" class=\"dataframe\"><thead><tr><th>describe</th><th>token_length</th></tr><tr><td>str</td><td>f64</td></tr></thead><tbody><tr><td>&quot;count&quot;</td><td>6807.0</td></tr><tr><td>&quot;null_count&quot;</td><td>0.0</td></tr><tr><td>&quot;mean&quot;</td><td>733.441017</td></tr><tr><td>&quot;std&quot;</td><td>319.244697</td></tr><tr><td>&quot;min&quot;</td><td>69.0</td></tr><tr><td>&quot;25%&quot;</td><td>520.0</td></tr><tr><td>&quot;50%&quot;</td><td>693.0</td></tr><tr><td>&quot;75%&quot;</td><td>897.0</td></tr><tr><td>&quot;max&quot;</td><td>3298.0</td></tr></tbody></table></div>"
      ],
      "text/plain": [
       "shape: (9, 2)\n",
       "┌────────────┬──────────────┐\n",
       "│ describe   ┆ token_length │\n",
       "│ ---        ┆ ---          │\n",
       "│ str        ┆ f64          │\n",
       "╞════════════╪══════════════╡\n",
       "│ count      ┆ 6807.0       │\n",
       "│ null_count ┆ 0.0          │\n",
       "│ mean       ┆ 733.441017   │\n",
       "│ std        ┆ 319.244697   │\n",
       "│ min        ┆ 69.0         │\n",
       "│ 25%        ┆ 520.0        │\n",
       "│ 50%        ┆ 693.0        │\n",
       "│ 75%        ┆ 897.0        │\n",
       "│ max        ┆ 3298.0       │\n",
       "└────────────┴──────────────┘"
      ]
     },
     "execution_count": 30,
     "metadata": {},
     "output_type": "execute_result"
    }
   ],
   "source": [
    "train.select(\n",
    "    pl.col(\"tokens\").map_elements(lambda tokens: len(tokens)).alias(\"token_length\")\n",
    ").describe()"
   ]
  },
  {
   "cell_type": "markdown",
   "metadata": {},
   "source": [
    "# Tagの種類"
   ]
  },
  {
   "cell_type": "code",
   "execution_count": 31,
   "metadata": {},
   "outputs": [],
   "source": [
    "# 全tagのリスト\n",
    "import itertools\n",
    "\n",
    "all_tags = list(itertools.chain.from_iterable(train.get_column(\"labels\").to_list()))"
   ]
  },
  {
   "cell_type": "code",
   "execution_count": 32,
   "metadata": {},
   "outputs": [
    {
     "data": {
      "text/plain": [
       "(6807, 5)"
      ]
     },
     "execution_count": 32,
     "metadata": {},
     "output_type": "execute_result"
    }
   ],
   "source": [
    "train.shape"
   ]
  },
  {
   "cell_type": "code",
   "execution_count": 37,
   "metadata": {},
   "outputs": [
    {
     "name": "stderr",
     "output_type": "stream",
     "text": [
      "/var/folders/4p/kqrm_mh10fn2pjkrxfzxh03c0000gq/T/ipykernel_65990/853694294.py:3: PolarsInefficientMapWarning: \n",
      "Expr.map_elements is significantly slower than the native expressions API.\n",
      "Only use if you absolutely CANNOT implement your logic otherwise.\n",
      "Replace this expression...\n",
      "  - pl.col(\"labels\").map_elements(lambda labels: ...)\n",
      "with this one instead:\n",
      "  + 'B-STREET_ADDRESS'.is_in(pl.col(\"labels\"))\n",
      "\n",
      "  pl.col(\"labels\").map_elements(lambda labels: \"B-STREET_ADDRESS\" in labels)\n"
     ]
    },
    {
     "data": {
      "text/html": [
       "<div><style>\n",
       ".dataframe > thead > tr,\n",
       ".dataframe > tbody > tr {\n",
       "  text-align: right;\n",
       "  white-space: pre-wrap;\n",
       "}\n",
       "</style>\n",
       "<small>shape: (2, 5)</small><table border=\"1\" class=\"dataframe\"><thead><tr><th>document</th><th>full_text</th><th>tokens</th><th>trailing_whitespace</th><th>labels</th></tr><tr><td>i64</td><td>str</td><td>list[str]</td><td>list[bool]</td><td>list[str]</td></tr></thead><tbody><tr><td>9854</td><td>&quot;Waseem Mabunda…</td><td>[&quot;Waseem&quot;, &quot;Mabunda&quot;, … &quot;\n",
       "\n",
       "&quot;]</td><td>[true, true, … false]</td><td>[&quot;B-NAME_STUDENT&quot;, &quot;I-NAME_STUDENT&quot;, … &quot;O&quot;]</td></tr><tr><td>11442</td><td>&quot;Reflection – L…</td><td>[&quot;Reflection&quot;, &quot;–&quot;, … &quot;\n",
       "\n",
       "&quot;]</td><td>[true, true, … false]</td><td>[&quot;O&quot;, &quot;O&quot;, … &quot;O&quot;]</td></tr></tbody></table></div>"
      ],
      "text/plain": [
       "shape: (2, 5)\n",
       "┌──────────┬─────────────────────┬─────────────────────┬─────────────────────┬─────────────────────┐\n",
       "│ document ┆ full_text           ┆ tokens              ┆ trailing_whitespace ┆ labels              │\n",
       "│ ---      ┆ ---                 ┆ ---                 ┆ ---                 ┆ ---                 │\n",
       "│ i64      ┆ str                 ┆ list[str]           ┆ list[bool]          ┆ list[str]           │\n",
       "╞══════════╪═════════════════════╪═════════════════════╪═════════════════════╪═════════════════════╡\n",
       "│ 9854     ┆ Waseem Mabunda  591 ┆ [\"Waseem\",          ┆ [true, true, …      ┆ [\"B-NAME_STUDENT\",  │\n",
       "│          ┆ Smith Center…       ┆ \"Mabunda\", … \"      ┆ false]              ┆ \"I-NAME_STUDE…      │\n",
       "│          ┆                     ┆                     ┆                     ┆                     │\n",
       "│          ┆                     ┆ \"]                  ┆                     ┆                     │\n",
       "│ 11442    ┆ Reflection –        ┆ [\"Reflection\", \"–\", ┆ [true, true, …      ┆ [\"O\", \"O\", … \"O\"]   │\n",
       "│          ┆ Learning Launch of  ┆ … \"                 ┆ false]              ┆                     │\n",
       "│          ┆ …                   ┆                     ┆                     ┆                     │\n",
       "│          ┆                     ┆ \"]                  ┆                     ┆                     │\n",
       "└──────────┴─────────────────────┴─────────────────────┴─────────────────────┴─────────────────────┘"
      ]
     },
     "execution_count": 37,
     "metadata": {},
     "output_type": "execute_result"
    }
   ],
   "source": [
    "# labelsの中に、\"STREET\"が含まれるかどうか\"\n",
    "train.filter(pl.col(\"labels\").map_elements(lambda labels: \"B-STREET_ADDRESS\" in labels))"
   ]
  },
  {
   "cell_type": "code",
   "execution_count": 40,
   "metadata": {},
   "outputs": [
    {
     "name": "stderr",
     "output_type": "stream",
     "text": [
      "/var/folders/4p/kqrm_mh10fn2pjkrxfzxh03c0000gq/T/ipykernel_65990/2224149912.py:3: PolarsInefficientMapWarning: \n",
      "Expr.map_elements is significantly slower than the native expressions API.\n",
      "Only use if you absolutely CANNOT implement your logic otherwise.\n",
      "Replace this expression...\n",
      "  - pl.col(\"labels\").map_elements(lambda labels: ...)\n",
      "with this one instead:\n",
      "  + 'I-URL_PERSONAL'.is_in(pl.col(\"labels\"))\n",
      "\n",
      "  pl.col(\"labels\").map_elements(lambda labels: \"I-URL_PERSONAL\" in labels)\n"
     ]
    },
    {
     "data": {
      "text/html": [
       "<div><style>\n",
       ".dataframe > thead > tr,\n",
       ".dataframe > tbody > tr {\n",
       "  text-align: right;\n",
       "  white-space: pre-wrap;\n",
       "}\n",
       "</style>\n",
       "<small>shape: (1, 5)</small><table border=\"1\" class=\"dataframe\"><thead><tr><th>document</th><th>full_text</th><th>tokens</th><th>trailing_whitespace</th><th>labels</th></tr><tr><td>i64</td><td>str</td><td>list[str]</td><td>list[bool]</td><td>list[str]</td></tr></thead><tbody><tr><td>3202</td><td>&quot;Final Assignme…</td><td>[&quot;Final&quot;, &quot;Assignment&quot;, … &quot;\n",
       "\n",
       "&quot;]</td><td>[true, false, … false]</td><td>[&quot;O&quot;, &quot;O&quot;, … &quot;O&quot;]</td></tr></tbody></table></div>"
      ],
      "text/plain": [
       "shape: (1, 5)\n",
       "┌──────────┬──────────────────┬───────────────────┬────────────────────────┬───────────────────┐\n",
       "│ document ┆ full_text        ┆ tokens            ┆ trailing_whitespace    ┆ labels            │\n",
       "│ ---      ┆ ---              ┆ ---               ┆ ---                    ┆ ---               │\n",
       "│ i64      ┆ str              ┆ list[str]         ┆ list[bool]             ┆ list[str]         │\n",
       "╞══════════╪══════════════════╪═══════════════════╪════════════════════════╪═══════════════════╡\n",
       "│ 3202     ┆ Final Assignment ┆ [\"Final\",         ┆ [true, false, … false] ┆ [\"O\", \"O\", … \"O\"] │\n",
       "│          ┆                  ┆ \"Assignment\", … \" ┆                        ┆                   │\n",
       "│          ┆ University of …  ┆                   ┆                        ┆                   │\n",
       "│          ┆                  ┆ \"]                ┆                        ┆                   │\n",
       "└──────────┴──────────────────┴───────────────────┴────────────────────────┴───────────────────┘"
      ]
     },
     "execution_count": 40,
     "metadata": {},
     "output_type": "execute_result"
    }
   ],
   "source": [
    "# labelsの中に、\"STREET\"が含まれるかどうか\"\n",
    "train.filter(pl.col(\"labels\").map_elements(lambda labels: \"I-URL_PERSONAL\" in labels))"
   ]
  },
  {
   "cell_type": "code",
   "execution_count": 74,
   "metadata": {},
   "outputs": [],
   "source": [
    "import polars as pl\n",
    "from collections import Counter\n",
    "\n",
    "all_tags_count = Counter(all_tags)"
   ]
  },
  {
   "cell_type": "code",
   "execution_count": 75,
   "metadata": {},
   "outputs": [
    {
     "data": {
      "text/plain": [
       "Counter({'O': 4989794,\n",
       "         'B-NAME_STUDENT': 1365,\n",
       "         'I-NAME_STUDENT': 1096,\n",
       "         'B-URL_PERSONAL': 110,\n",
       "         'B-ID_NUM': 78,\n",
       "         'B-EMAIL': 39,\n",
       "         'I-STREET_ADDRESS': 20,\n",
       "         'I-PHONE_NUM': 15,\n",
       "         'B-USERNAME': 6,\n",
       "         'B-PHONE_NUM': 6,\n",
       "         'B-STREET_ADDRESS': 2,\n",
       "         'I-URL_PERSONAL': 1,\n",
       "         'I-ID_NUM': 1})"
      ]
     },
     "execution_count": 75,
     "metadata": {},
     "output_type": "execute_result"
    }
   ],
   "source": [
    "all_tags_count"
   ]
  },
  {
   "cell_type": "markdown",
   "metadata": {},
   "source": []
  },
  {
   "cell_type": "code",
   "execution_count": 77,
   "metadata": {},
   "outputs": [],
   "source": [
    "total = sum(all_tags_count.values())"
   ]
  },
  {
   "cell_type": "code",
   "execution_count": 78,
   "metadata": {},
   "outputs": [
    {
     "name": "stdout",
     "output_type": "stream",
     "text": [
      "{'O': 99.94513806919252, 'B-NAME_STUDENT': 0.02734083079671181, 'I-NAME_STUDENT': 0.02195278428805578, 'B-URL_PERSONAL': 0.002203290393874212, 'B-EMAIL': 0.000781166594191766, 'B-ID_NUM': 0.001562333188383532, 'I-URL_PERSONAL': 2.0029912671583742e-05, 'B-USERNAME': 0.00012017947602950247, 'B-PHONE_NUM': 0.00012017947602950247, 'I-PHONE_NUM': 0.00030044869007375615, 'B-STREET_ADDRESS': 4.0059825343167485e-05, 'I-STREET_ADDRESS': 0.00040059825343167485, 'I-ID_NUM': 2.0029912671583742e-05}\n"
     ]
    }
   ],
   "source": [
    "# 各要素の割合を計算\n",
    "percentages = {\n",
    "    element: (all_tags_count[element] / total) * 100 for element in all_tags_count\n",
    "}\n",
    "\n",
    "print(percentages)"
   ]
  },
  {
   "cell_type": "code",
   "execution_count": 65,
   "metadata": {},
   "outputs": [
    {
     "ename": "TypeError",
     "evalue": "unsupported operand type(s) for /: 'Counter' and 'int'",
     "output_type": "error",
     "traceback": [
      "\u001b[0;31m---------------------------------------------------------------------------\u001b[0m",
      "\u001b[0;31mTypeError\u001b[0m                                 Traceback (most recent call last)",
      "Cell \u001b[0;32mIn[65], line 2\u001b[0m\n\u001b[1;32m      1\u001b[0m \u001b[38;5;66;03m# all_tags_countの結果から割合を計算\u001b[39;00m\n\u001b[0;32m----> 2\u001b[0m \u001b[43mall_tags_count\u001b[49m\u001b[43m \u001b[49m\u001b[38;5;241;43m/\u001b[39;49m\u001b[43m \u001b[49m\u001b[38;5;28;43msum\u001b[39;49m\u001b[43m(\u001b[49m\u001b[43mall_tags_count\u001b[49m\u001b[38;5;241;43m.\u001b[39;49m\u001b[43mvalues\u001b[49m\u001b[43m(\u001b[49m\u001b[43m)\u001b[49m\u001b[43m)\u001b[49m\n",
      "\u001b[0;31mTypeError\u001b[0m: unsupported operand type(s) for /: 'Counter' and 'int'"
     ]
    }
   ],
   "source": [
    "# all_tags_countの結果から割合を計算\n",
    "all_tags_count / sum(all_tags_count.values())"
   ]
  },
  {
   "cell_type": "code",
   "execution_count": 42,
   "metadata": {},
   "outputs": [],
   "source": [
    "label_names = [\n",
    "    \"B-NAME_STUDENT\",\n",
    "    \"I-NAME_STUDENT\",\n",
    "    \"B-EMAIL\",\n",
    "    \"I-EMAIL\",\n",
    "    \"B-USERNAME\",\n",
    "    \"I-USERNAME\",\n",
    "    \"B-ID_NUM\",\n",
    "    \"I-ID_NUM\",\n",
    "    \"B-PHONE_NUM\",\n",
    "    \"I-PHONE_NUM\",\n",
    "    \"B-URL_PERSONAL\",\n",
    "    \"I-URL_PERSONAL\",\n",
    "    \"B-STREET_ADDRESS\",\n",
    "    \"I-STREET_ADDRESS\",\n",
    "    \"O\",\n",
    "]"
   ]
  },
  {
   "cell_type": "code",
   "execution_count": 45,
   "metadata": {},
   "outputs": [],
   "source": [
    "def count_tag(labels: list[str], label_names: list[str]) -> dict[str, int]:\n",
    "    label_count = {label_name: 0 for label_name in label_names}\n",
    "    for label in labels:\n",
    "        label_count[label] += 1\n",
    "    return label_count"
   ]
  },
  {
   "cell_type": "code",
   "execution_count": 47,
   "metadata": {},
   "outputs": [
    {
     "data": {
      "text/html": [
       "<div><style>\n",
       ".dataframe > thead > tr,\n",
       ".dataframe > tbody > tr {\n",
       "  text-align: right;\n",
       "  white-space: pre-wrap;\n",
       "}\n",
       "</style>\n",
       "<small>shape: (6_807, 1)</small><table border=\"1\" class=\"dataframe\"><thead><tr><th>label_count</th></tr><tr><td>struct[15]</td></tr></thead><tbody><tr><td>{3,3,0,0,0,0,0,0,0,0,0,0,0,0,747}</td></tr><tr><td>{2,2,0,0,0,0,0,0,0,0,0,0,0,0,559}</td></tr><tr><td>{1,1,0,0,0,0,0,0,0,0,0,0,0,0,727}</td></tr><tr><td>{1,1,0,0,0,0,0,0,0,0,0,0,0,0,1069}</td></tr><tr><td>{1,1,0,0,0,0,0,0,0,0,0,0,0,0,1925}</td></tr><tr><td>{1,1,0,0,0,0,0,0,0,0,0,0,0,0,440}</td></tr><tr><td>{1,1,0,0,0,0,0,0,0,0,0,0,0,0,223}</td></tr><tr><td>{1,1,0,0,0,0,0,0,0,0,0,0,0,0,564}</td></tr><tr><td>{1,1,0,0,0,0,0,0,0,0,0,0,0,0,533}</td></tr><tr><td>{1,1,0,0,0,0,0,0,0,0,0,0,0,0,1692}</td></tr><tr><td>{1,0,0,0,0,0,0,0,0,0,0,0,0,0,688}</td></tr><tr><td>{1,1,0,0,0,0,0,0,0,0,0,0,0,0,982}</td></tr><tr><td>&hellip;</td></tr><tr><td>{0,0,0,0,0,0,0,0,0,0,0,0,0,0,669}</td></tr><tr><td>{0,0,0,0,0,0,0,0,0,0,0,0,0,0,825}</td></tr><tr><td>{0,0,0,0,0,0,0,0,0,0,0,0,0,0,468}</td></tr><tr><td>{0,0,0,0,0,0,0,0,0,0,0,0,0,0,738}</td></tr><tr><td>{0,0,0,0,0,0,0,0,0,0,0,0,0,0,502}</td></tr><tr><td>{0,0,0,0,0,0,0,0,0,0,0,0,0,0,208}</td></tr><tr><td>{0,0,0,0,0,0,0,0,0,0,0,0,0,0,204}</td></tr><tr><td>{0,0,0,0,0,0,0,0,0,0,0,0,0,0,601}</td></tr><tr><td>{0,0,0,0,0,0,0,0,0,0,0,0,0,0,433}</td></tr><tr><td>{0,0,0,0,0,0,0,0,0,0,0,0,0,0,633}</td></tr><tr><td>{0,0,0,0,0,0,0,0,0,0,0,0,0,0,679}</td></tr><tr><td>{0,0,0,0,0,0,0,0,0,0,0,0,0,0,820}</td></tr></tbody></table></div>"
      ],
      "text/plain": [
       "shape: (6_807, 1)\n",
       "┌───────────────────────────────────┐\n",
       "│ label_count                       │\n",
       "│ ---                               │\n",
       "│ struct[15]                        │\n",
       "╞═══════════════════════════════════╡\n",
       "│ {3,3,0,0,0,0,0,0,0,0,0,0,0,0,747… │\n",
       "│ {2,2,0,0,0,0,0,0,0,0,0,0,0,0,559… │\n",
       "│ {1,1,0,0,0,0,0,0,0,0,0,0,0,0,727… │\n",
       "│ {1,1,0,0,0,0,0,0,0,0,0,0,0,0,106… │\n",
       "│ {1,1,0,0,0,0,0,0,0,0,0,0,0,0,192… │\n",
       "│ …                                 │\n",
       "│ {0,0,0,0,0,0,0,0,0,0,0,0,0,0,601… │\n",
       "│ {0,0,0,0,0,0,0,0,0,0,0,0,0,0,433… │\n",
       "│ {0,0,0,0,0,0,0,0,0,0,0,0,0,0,633… │\n",
       "│ {0,0,0,0,0,0,0,0,0,0,0,0,0,0,679… │\n",
       "│ {0,0,0,0,0,0,0,0,0,0,0,0,0,0,820… │\n",
       "└───────────────────────────────────┘"
      ]
     },
     "execution_count": 47,
     "metadata": {},
     "output_type": "execute_result"
    }
   ],
   "source": [
    "train.select(\n",
    "    pl.col(\"labels\")\n",
    "    .map_elements(lambda labels: count_tag(labels, label_names))\n",
    "    .alias(\"label_count\")\n",
    ")"
   ]
  },
  {
   "cell_type": "code",
   "execution_count": null,
   "metadata": {},
   "outputs": [],
   "source": [
    "# 全tokenに対するラベルの数を数えた棒グラフ"
   ]
  },
  {
   "cell_type": "code",
   "execution_count": null,
   "metadata": {},
   "outputs": [],
   "source": [
    "# 各文章ごとに登場するtokenの割合の平均"
   ]
  }
 ],
 "metadata": {
  "kernelspec": {
   "display_name": "Python 3 (ipykernel)",
   "language": "python",
   "name": "python3"
  },
  "language_info": {
   "codemirror_mode": {
    "name": "ipython",
    "version": 3
   },
   "file_extension": ".py",
   "mimetype": "text/x-python",
   "name": "python",
   "nbconvert_exporter": "python",
   "pygments_lexer": "ipython3",
   "version": "3.12.1"
  }
 },
 "nbformat": 4,
 "nbformat_minor": 2
}
