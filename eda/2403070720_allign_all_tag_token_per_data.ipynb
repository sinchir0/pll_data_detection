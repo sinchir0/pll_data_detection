{
 "cells": [
  {
   "cell_type": "markdown",
   "metadata": {},
   "source": [
    "# 目的\n",
    "- 全てのデータの文字列を、O以外のタグごとに並べる、mixtralを含める"
   ]
  },
  {
   "cell_type": "code",
   "execution_count": 1,
   "metadata": {},
   "outputs": [],
   "source": [
    "import polars as pl\n",
    "import ast"
   ]
  },
  {
   "cell_type": "code",
   "execution_count": 4,
   "metadata": {},
   "outputs": [],
   "source": [
    "train = pl.read_json(\"../data/train.json\")\n",
    "moredata = pl.read_csv(\"../data/moredata_dataset_fixed.csv\").with_columns(\n",
    "    pl.col(\"tokens\").map_elements(lambda x: ast.literal_eval(x)),\n",
    "    pl.col(\"trailing_whitespace\").map_elements(lambda x: ast.literal_eval(x)),\n",
    "    pl.col(\"labels\").map_elements(lambda x: ast.literal_eval(x)),\n",
    ")\n",
    "pii_dataset = pl.read_csv(\"../data/pii_dataset_fixed.csv\").with_columns(\n",
    "    pl.col(\"tokens\").map_elements(lambda x: ast.literal_eval(x)),\n",
    "    pl.col(\"trailing_whitespace\").map_elements(lambda x: ast.literal_eval(x)),\n",
    "    pl.col(\"labels\").map_elements(lambda x: ast.literal_eval(x)),\n",
    ")\n",
    "mixtral = pl.read_json(\"../data/mixtral-8x7b-v1.json\")"
   ]
  },
  {
   "cell_type": "code",
   "execution_count": 10,
   "metadata": {},
   "outputs": [],
   "source": [
    "from tqdm.auto import tqdm\n",
    "\n",
    "\n",
    "def make_token_df(data: pl.DataFrame) -> pl.DataFrame:\n",
    "    B_NAME_STUDENT_token = []\n",
    "    I_NAME_STUDENT_token = []\n",
    "    B_EMAIL_token = []\n",
    "    I_EMAIL_token = []\n",
    "    B_USERNAME_token = []\n",
    "    I_USERNAME_token = []\n",
    "    B_ID_NUM_token = []\n",
    "    I_ID_NUM_token = []\n",
    "    B_PHONE_NUM_token = []\n",
    "    I_PHONE_NUM_token = []\n",
    "    B_URL_PERSONAL_token = []\n",
    "    I_URL_PERSONAL_token = []\n",
    "    B_STREET_ADDRESS_token = []\n",
    "    I_STREET_ADDRESS_token = []\n",
    "\n",
    "    all_labels = [\n",
    "        \"B-NAME_STUDENT\",\n",
    "        \"I-NAME_STUDENT\",\n",
    "        \"B-EMAIL\",\n",
    "        \"I-EMAIL\",\n",
    "        \"B-USERNAME\",\n",
    "        \"I-USERNAME\",\n",
    "        \"B-ID_NUM\",\n",
    "        \"I-ID_NUM\",\n",
    "        \"B-PHONE_NUM\",\n",
    "        \"I-PHONE_NUM\",\n",
    "        \"B-URL_PERSONAL\",\n",
    "        \"I-URL_PERSONAL\",\n",
    "        \"B-STREET_ADDRESS\",\n",
    "        \"I-STREET_ADDRESS\",\n",
    "    ]\n",
    "\n",
    "    for tokens, labels in tqdm(zip(data[\"tokens\"], data[\"labels\"]), total=len(data)):\n",
    "        for token, label in zip(tokens, labels):\n",
    "            if label == \"B-NAME_STUDENT\":\n",
    "                B_NAME_STUDENT_token.append(token)\n",
    "            elif label == \"I-NAME_STUDENT\":\n",
    "                I_NAME_STUDENT_token.append(token)\n",
    "            elif label == \"B-EMAIL\":\n",
    "                B_EMAIL_token.append(token)\n",
    "            elif label == \"I-EMAIL\":\n",
    "                I_EMAIL_token.append(token)\n",
    "            elif label == \"B-USERNAME\":\n",
    "                B_USERNAME_token.append(token)\n",
    "            elif label == \"I-USERNAME\":\n",
    "                I_USERNAME_token.append(token)\n",
    "            elif label == \"B-ID_NUM\":\n",
    "                B_ID_NUM_token.append(token)\n",
    "            elif label == \"I-ID_NUM\":\n",
    "                I_ID_NUM_token.append(token)\n",
    "            elif label == \"B-PHONE_NUM\":\n",
    "                B_PHONE_NUM_token.append(token)\n",
    "            elif label == \"I-PHONE_NUM\":\n",
    "                I_PHONE_NUM_token.append(token)\n",
    "            elif label == \"B-URL_PERSONAL\":\n",
    "                B_URL_PERSONAL_token.append(token)\n",
    "            elif label == \"I-URL_PERSONAL\":\n",
    "                I_URL_PERSONAL_token.append(token)\n",
    "            elif label == \"B-STREET_ADDRESS\":\n",
    "                B_STREET_ADDRESS_token.append(token)\n",
    "            elif label == \"I-STREET_ADDRESS\":\n",
    "                I_STREET_ADDRESS_token.append(token)\n",
    "\n",
    "    max_len = max(\n",
    "        len(B_NAME_STUDENT_token),\n",
    "        len(I_NAME_STUDENT_token),\n",
    "        len(B_EMAIL_token),\n",
    "        len(I_EMAIL_token),\n",
    "        len(B_USERNAME_token),\n",
    "        len(I_USERNAME_token),\n",
    "        len(B_ID_NUM_token),\n",
    "        len(I_ID_NUM_token),\n",
    "        len(B_PHONE_NUM_token),\n",
    "        len(I_PHONE_NUM_token),\n",
    "        len(B_URL_PERSONAL_token),\n",
    "        len(I_URL_PERSONAL_token),\n",
    "        len(B_STREET_ADDRESS_token),\n",
    "        len(I_STREET_ADDRESS_token),\n",
    "    )\n",
    "\n",
    "    def pad_token(token: list[str]) -> list[str]:\n",
    "        return token + [None for _ in range(max_len - len(token))]\n",
    "\n",
    "    return pl.DataFrame(\n",
    "        [\n",
    "            pad_token(B_NAME_STUDENT_token),\n",
    "            pad_token(I_NAME_STUDENT_token),\n",
    "            pad_token(B_EMAIL_token),\n",
    "            pad_token(I_EMAIL_token),\n",
    "            pad_token(B_USERNAME_token),\n",
    "            pad_token(I_USERNAME_token),\n",
    "            pad_token(B_ID_NUM_token),\n",
    "            pad_token(I_ID_NUM_token),\n",
    "            pad_token(B_PHONE_NUM_token),\n",
    "            pad_token(I_PHONE_NUM_token),\n",
    "            pad_token(B_URL_PERSONAL_token),\n",
    "            pad_token(I_URL_PERSONAL_token),\n",
    "            pad_token(B_STREET_ADDRESS_token),\n",
    "            pad_token(I_STREET_ADDRESS_token),\n",
    "        ],\n",
    "        orient=\"col\",\n",
    "        schema=all_labels,\n",
    "    )"
   ]
  },
  {
   "cell_type": "code",
   "execution_count": 11,
   "metadata": {},
   "outputs": [
    {
     "name": "stderr",
     "output_type": "stream",
     "text": [
      "100%|██████████| 6807/6807 [00:00<00:00, 7232.89it/s]\n"
     ]
    }
   ],
   "source": [
    "train_token_df = make_token_df(train)"
   ]
  },
  {
   "cell_type": "code",
   "execution_count": 12,
   "metadata": {},
   "outputs": [
    {
     "name": "stderr",
     "output_type": "stream",
     "text": [
      "100%|██████████| 2000/2000 [00:00<00:00, 9534.12it/s]\n"
     ]
    }
   ],
   "source": [
    "moredata_token_df = make_token_df(moredata)\n",
    "moredata_token_df.columns = [\n",
    "    \"more_\" + col_name for col_name in moredata_token_df.columns\n",
    "]"
   ]
  },
  {
   "cell_type": "code",
   "execution_count": 13,
   "metadata": {},
   "outputs": [
    {
     "name": "stderr",
     "output_type": "stream",
     "text": [
      "100%|██████████| 4434/4434 [00:00<00:00, 13493.53it/s]\n"
     ]
    }
   ],
   "source": [
    "pii_dataset_token_df = make_token_df(pii_dataset)\n",
    "pii_dataset_token_df.columns = [\n",
    "    \"pii_\" + col_name for col_name in pii_dataset_token_df.columns\n",
    "]"
   ]
  },
  {
   "cell_type": "code",
   "execution_count": 14,
   "metadata": {},
   "outputs": [
    {
     "name": "stderr",
     "output_type": "stream",
     "text": [
      "  0%|          | 0/2355 [00:00<?, ?it/s]"
     ]
    },
    {
     "name": "stderr",
     "output_type": "stream",
     "text": [
      "100%|██████████| 2355/2355 [00:00<00:00, 5937.68it/s]\n"
     ]
    }
   ],
   "source": [
    "mixtral_token_df = make_token_df(mixtral)\n",
    "mixtral_token_df.columns = [\n",
    "    \"mixtral_\" + col_name for col_name in mixtral_token_df.columns\n",
    "]"
   ]
  },
  {
   "cell_type": "code",
   "execution_count": 16,
   "metadata": {},
   "outputs": [],
   "source": [
    "token_df = pl.concat(\n",
    "    [train_token_df, moredata_token_df, pii_dataset_token_df, mixtral_token_df],\n",
    "    how=\"horizontal\",\n",
    ")"
   ]
  },
  {
   "cell_type": "code",
   "execution_count": 18,
   "metadata": {},
   "outputs": [
    {
     "data": {
      "text/plain": [
       "['B-NAME_STUDENT',\n",
       " 'I-NAME_STUDENT',\n",
       " 'B-EMAIL',\n",
       " 'I-EMAIL',\n",
       " 'B-USERNAME',\n",
       " 'I-USERNAME',\n",
       " 'B-ID_NUM',\n",
       " 'I-ID_NUM',\n",
       " 'B-PHONE_NUM',\n",
       " 'I-PHONE_NUM',\n",
       " 'B-URL_PERSONAL',\n",
       " 'I-URL_PERSONAL',\n",
       " 'B-STREET_ADDRESS',\n",
       " 'I-STREET_ADDRESS']"
      ]
     },
     "execution_count": 18,
     "metadata": {},
     "output_type": "execute_result"
    }
   ],
   "source": [
    "token_df_column = []\n",
    "for train_token, modedata_token, pii_dataset_token, mixtral_token in zip(\n",
    "    train_token_df.columns,\n",
    "    moredata_token_df.columns,\n",
    "    pii_dataset_token_df.columns,\n",
    "    mixtral_token_df.columns,\n",
    "):\n",
    "    token_df_column.append(train_token)\n",
    "    token_df_column.append(modedata_token)\n",
    "    token_df_column.append(pii_dataset_token)\n",
    "    token_df_column.append(mixtral_token)"
   ]
  },
  {
   "cell_type": "code",
   "execution_count": 57,
   "metadata": {},
   "outputs": [
    {
     "data": {
      "text/html": [
       "<div><style>\n",
       ".dataframe > thead > tr,\n",
       ".dataframe > tbody > tr {\n",
       "  text-align: right;\n",
       "  white-space: pre-wrap;\n",
       "}\n",
       "</style>\n",
       "<small>shape: (1_365, 14)</small><table border=\"1\" class=\"dataframe\"><thead><tr><th>B-NAME_STUDENT</th><th>I-NAME_STUDENT</th><th>B-EMAIL</th><th>I-EMAIL</th><th>B-USERNAME</th><th>I-USERNAME</th><th>B-ID_NUM</th><th>I-ID_NUM</th><th>B-PHONE_NUM</th><th>I-PHONE_NUM</th><th>B-URL_PERSONAL</th><th>I-URL_PERSONAL</th><th>B-STREET_ADDRESS</th><th>I-STREET_ADDRESS</th></tr><tr><td>str</td><td>str</td><td>str</td><td>null</td><td>str</td><td>null</td><td>str</td><td>str</td><td>str</td><td>str</td><td>str</td><td>str</td><td>str</td><td>str</td></tr></thead><tbody><tr><td>&quot;Nathalie&quot;</td><td>&quot;Sylla&quot;</td><td>&quot;djones@gmail.c…</td><td>null</td><td>&quot;castanedagabri…</td><td>null</td><td>&quot;860632713425&quot;</td><td>&quot;30407059&quot;</td><td>&quot;(&quot;</td><td>&quot;320)202&quot;</td><td>&quot;https://www.ja…</td><td>&quot;nYZqnhEXw&quot;</td><td>&quot;591&quot;</td><td>&quot;Smith&quot;</td></tr><tr><td>&quot;Nathalie&quot;</td><td>&quot;Sylla&quot;</td><td>&quot;matthew72@hotm…</td><td>null</td><td>&quot;fdixon&quot;</td><td>null</td><td>&quot;530670102508&quot;</td><td>null</td><td>&quot;(&quot;</td><td>&quot;-&quot;</td><td>&quot;https://www.li…</td><td>null</td><td>&quot;743&quot;</td><td>&quot;Centers&quot;</td></tr><tr><td>&quot;Nathalie&quot;</td><td>&quot;Sylla&quot;</td><td>&quot;belindarojas@y…</td><td>null</td><td>&quot;fdixon&quot;</td><td>null</td><td>&quot;530670102508&quot;</td><td>null</td><td>&quot;(&quot;</td><td>&quot;0688x95843&quot;</td><td>&quot;https://youtu.…</td><td>null</td><td>null</td><td>&quot;Apt&quot;</td></tr><tr><td>&quot;Diego&quot;</td><td>&quot;Estrada&quot;</td><td>&quot;kennethevans@h…</td><td>null</td><td>&quot;meyermichelle&quot;</td><td>null</td><td>&quot;875673967537&quot;</td><td>null</td><td>&quot;(&quot;</td><td>&quot;223)392&quot;</td><td>&quot;https://www.ha…</td><td>null</td><td>null</td><td>&quot;.&quot;</td></tr><tr><td>&quot;Diego&quot;</td><td>&quot;Estrada&quot;</td><td>&quot;agood@gmail.co…</td><td>null</td><td>&quot;jacob59&quot;</td><td>null</td><td>&quot;860632713425&quot;</td><td>null</td><td>&quot;(&quot;</td><td>&quot;-&quot;</td><td>&quot;http://www.bur…</td><td>null</td><td>null</td><td>&quot;656&quot;</td></tr><tr><td>&quot;Gilberto&quot;</td><td>&quot;Gamboa&quot;</td><td>&quot;agood@gmail.co…</td><td>null</td><td>&quot;holmespatrick&quot;</td><td>null</td><td>&quot;557349702179&quot;</td><td>null</td><td>&quot;410.526.1667&quot;</td><td>&quot;2765&quot;</td><td>&quot;http://jacobs-…</td><td>null</td><td>null</td><td>&quot;\n",
       "&quot;</td></tr><tr><td>&quot;Sindy&quot;</td><td>&quot;Samaca&quot;</td><td>&quot;hwillis@gmail.…</td><td>null</td><td>null</td><td>null</td><td>&quot;784372734211&quot;</td><td>null</td><td>null</td><td>&quot;820)913&quot;</td><td>&quot;https://www.yo…</td><td>null</td><td>null</td><td>&quot;Joshuamouth&quot;</td></tr><tr><td>&quot;Nadine&quot;</td><td>&quot;Born&quot;</td><td>&quot;kellyharrison@…</td><td>null</td><td>null</td><td>null</td><td>&quot;054176622314&quot;</td><td>null</td><td>null</td><td>&quot;-&quot;</td><td>&quot;tps://www.face…</td><td>null</td><td>null</td><td>&quot;,&quot;</td></tr><tr><td>&quot;Eladio&quot;</td><td>&quot;Amaya&quot;</td><td>&quot;kellyharrison@…</td><td>null</td><td>null</td><td>null</td><td>&quot;674915248960&quot;</td><td>null</td><td>null</td><td>&quot;3241x894&quot;</td><td>&quot;https://www.yo…</td><td>null</td><td>null</td><td>&quot;RI&quot;</td></tr><tr><td>&quot;Silvia&quot;</td><td>&quot;Villalobos&quot;</td><td>&quot;lowetyler@hotm…</td><td>null</td><td>null</td><td>null</td><td>&quot;932353568953&quot;</td><td>null</td><td>null</td><td>&quot;820)913&quot;</td><td>&quot;https://oconne…</td><td>null</td><td>null</td><td>&quot;95963&quot;</td></tr><tr><td>&quot;Sakir&quot;</td><td>&quot;Ahmad&quot;</td><td>&quot;murraythomas@g…</td><td>null</td><td>null</td><td>null</td><td>&quot;982645662261&quot;</td><td>null</td><td>null</td><td>&quot;-&quot;</td><td>&quot;https://www.pe…</td><td>null</td><td>null</td><td>&quot;Erika&quot;</td></tr><tr><td>&quot;Francisco&quot;</td><td>&quot;Ferreira&quot;</td><td>&quot;vmartinez@hotm…</td><td>null</td><td>null</td><td>null</td><td>&quot;409046248321&quot;</td><td>null</td><td>null</td><td>&quot;3241x894&quot;</td><td>&quot;https://diaz.c…</td><td>null</td><td>null</td><td>&quot;Bypass&quot;</td></tr><tr><td>&hellip;</td><td>&hellip;</td><td>&hellip;</td><td>&hellip;</td><td>&hellip;</td><td>&hellip;</td><td>&hellip;</td><td>&hellip;</td><td>&hellip;</td><td>&hellip;</td><td>&hellip;</td><td>&hellip;</td><td>&hellip;</td><td>&hellip;</td></tr><tr><td>&quot;Alina&quot;</td><td>null</td><td>null</td><td>null</td><td>null</td><td>null</td><td>null</td><td>null</td><td>null</td><td>null</td><td>null</td><td>null</td><td>null</td><td>null</td></tr><tr><td>&quot;Hersh&quot;</td><td>null</td><td>null</td><td>null</td><td>null</td><td>null</td><td>null</td><td>null</td><td>null</td><td>null</td><td>null</td><td>null</td><td>null</td><td>null</td></tr><tr><td>&quot;Robert&quot;</td><td>null</td><td>null</td><td>null</td><td>null</td><td>null</td><td>null</td><td>null</td><td>null</td><td>null</td><td>null</td><td>null</td><td>null</td><td>null</td></tr><tr><td>&quot;Said&quot;</td><td>null</td><td>null</td><td>null</td><td>null</td><td>null</td><td>null</td><td>null</td><td>null</td><td>null</td><td>null</td><td>null</td><td>null</td><td>null</td></tr><tr><td>&quot;Brittany&quot;</td><td>null</td><td>null</td><td>null</td><td>null</td><td>null</td><td>null</td><td>null</td><td>null</td><td>null</td><td>null</td><td>null</td><td>null</td><td>null</td></tr><tr><td>&quot;Gopal&quot;</td><td>null</td><td>null</td><td>null</td><td>null</td><td>null</td><td>null</td><td>null</td><td>null</td><td>null</td><td>null</td><td>null</td><td>null</td><td>null</td></tr><tr><td>&quot;Jose&quot;</td><td>null</td><td>null</td><td>null</td><td>null</td><td>null</td><td>null</td><td>null</td><td>null</td><td>null</td><td>null</td><td>null</td><td>null</td><td>null</td></tr><tr><td>&quot;Jose&quot;</td><td>null</td><td>null</td><td>null</td><td>null</td><td>null</td><td>null</td><td>null</td><td>null</td><td>null</td><td>null</td><td>null</td><td>null</td><td>null</td></tr><tr><td>&quot;Oscar&quot;</td><td>null</td><td>null</td><td>null</td><td>null</td><td>null</td><td>null</td><td>null</td><td>null</td><td>null</td><td>null</td><td>null</td><td>null</td><td>null</td></tr><tr><td>&quot;Silvia&quot;</td><td>null</td><td>null</td><td>null</td><td>null</td><td>null</td><td>null</td><td>null</td><td>null</td><td>null</td><td>null</td><td>null</td><td>null</td><td>null</td></tr><tr><td>&quot;Carlos&quot;</td><td>null</td><td>null</td><td>null</td><td>null</td><td>null</td><td>null</td><td>null</td><td>null</td><td>null</td><td>null</td><td>null</td><td>null</td><td>null</td></tr><tr><td>&quot;Carlos&quot;</td><td>null</td><td>null</td><td>null</td><td>null</td><td>null</td><td>null</td><td>null</td><td>null</td><td>null</td><td>null</td><td>null</td><td>null</td><td>null</td></tr></tbody></table></div>"
      ],
      "text/plain": [
       "shape: (1_365, 14)\n",
       "┌────────────┬───────────┬───────────┬─────────┬───┬───────────┬───────────┬───────────┬───────────┐\n",
       "│ B-NAME_STU ┆ I-NAME_ST ┆ B-EMAIL   ┆ I-EMAIL ┆ … ┆ B-URL_PER ┆ I-URL_PER ┆ B-STREET_ ┆ I-STREET_ │\n",
       "│ DENT       ┆ UDENT     ┆ ---       ┆ ---     ┆   ┆ SONAL     ┆ SONAL     ┆ ADDRESS   ┆ ADDRESS   │\n",
       "│ ---        ┆ ---       ┆ str       ┆ null    ┆   ┆ ---       ┆ ---       ┆ ---       ┆ ---       │\n",
       "│ str        ┆ str       ┆           ┆         ┆   ┆ str       ┆ str       ┆ str       ┆ str       │\n",
       "╞════════════╪═══════════╪═══════════╪═════════╪═══╪═══════════╪═══════════╪═══════════╪═══════════╡\n",
       "│ Nathalie   ┆ Sylla     ┆ djones@gm ┆ null    ┆ … ┆ https://w ┆ nYZqnhEXw ┆ 591       ┆ Smith     │\n",
       "│            ┆           ┆ ail.com   ┆         ┆   ┆ ww.jackso ┆           ┆           ┆           │\n",
       "│            ┆           ┆           ┆         ┆   ┆ n.com/lis ┆           ┆           ┆           │\n",
       "│            ┆           ┆           ┆         ┆   ┆ t/exp…    ┆           ┆           ┆           │\n",
       "│ Nathalie   ┆ Sylla     ┆ matthew72 ┆ null    ┆ … ┆ https://w ┆ null      ┆ 743       ┆ Centers   │\n",
       "│            ┆           ┆ @hotmail. ┆         ┆   ┆ ww.linked ┆           ┆           ┆           │\n",
       "│            ┆           ┆ com       ┆         ┆   ┆ in.com/in ┆           ┆           ┆           │\n",
       "│            ┆           ┆           ┆         ┆   ┆ /mmar…    ┆           ┆           ┆           │\n",
       "│ Nathalie   ┆ Sylla     ┆ belindaro ┆ null    ┆ … ┆ https://y ┆ null      ┆ null      ┆ Apt       │\n",
       "│            ┆           ┆ jas@yahoo ┆         ┆   ┆ outu.be/r ┆           ┆           ┆           │\n",
       "│            ┆           ┆ .com      ┆         ┆   ┆ FD2lJuvac ┆           ┆           ┆           │\n",
       "│            ┆           ┆           ┆         ┆   ┆ e         ┆           ┆           ┆           │\n",
       "│ Diego      ┆ Estrada   ┆ kennethev ┆ null    ┆ … ┆ https://w ┆ null      ┆ null      ┆ .         │\n",
       "│            ┆           ┆ ans@hotma ┆         ┆   ┆ ww.hall.b ┆           ┆           ┆           │\n",
       "│            ┆           ┆ il.com    ┆         ┆   ┆ iz/wp-con ┆           ┆           ┆           │\n",
       "│            ┆           ┆           ┆         ┆   ┆ tenth…    ┆           ┆           ┆           │\n",
       "│ Diego      ┆ Estrada   ┆ agood@gma ┆ null    ┆ … ┆ http://ww ┆ null      ┆ null      ┆ 656       │\n",
       "│            ┆           ┆ il.com    ┆         ┆   ┆ w.burns-l ┆           ┆           ┆           │\n",
       "│            ┆           ┆           ┆         ┆   ┆ opez.com/ ┆           ┆           ┆           │\n",
       "│            ┆           ┆           ┆         ┆   ┆ categ…    ┆           ┆           ┆           │\n",
       "│ …          ┆ …         ┆ …         ┆ …       ┆ … ┆ …         ┆ …         ┆ …         ┆ …         │\n",
       "│ Jose       ┆ null      ┆ null      ┆ null    ┆ … ┆ null      ┆ null      ┆ null      ┆ null      │\n",
       "│ Oscar      ┆ null      ┆ null      ┆ null    ┆ … ┆ null      ┆ null      ┆ null      ┆ null      │\n",
       "│ Silvia     ┆ null      ┆ null      ┆ null    ┆ … ┆ null      ┆ null      ┆ null      ┆ null      │\n",
       "│ Carlos     ┆ null      ┆ null      ┆ null    ┆ … ┆ null      ┆ null      ┆ null      ┆ null      │\n",
       "│ Carlos     ┆ null      ┆ null      ┆ null    ┆ … ┆ null      ┆ null      ┆ null      ┆ null      │\n",
       "└────────────┴───────────┴───────────┴─────────┴───┴───────────┴───────────┴───────────┴───────────┘"
      ]
     },
     "execution_count": 57,
     "metadata": {},
     "output_type": "execute_result"
    }
   ],
   "source": [
    "train_token_df"
   ]
  },
  {
   "cell_type": "code",
   "execution_count": null,
   "metadata": {},
   "outputs": [],
   "source": []
  }
 ],
 "metadata": {
  "kernelspec": {
   "display_name": ".venv",
   "language": "python",
   "name": "python3"
  },
  "language_info": {
   "codemirror_mode": {
    "name": "ipython",
    "version": 3
   },
   "file_extension": ".py",
   "mimetype": "text/x-python",
   "name": "python",
   "nbconvert_exporter": "python",
   "pygments_lexer": "ipython3",
   "version": "3.12.1"
  }
 },
 "nbformat": 4,
 "nbformat_minor": 2
}
