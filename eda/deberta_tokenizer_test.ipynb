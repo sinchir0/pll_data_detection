{
 "cells": [
  {
   "cell_type": "code",
   "execution_count": 1,
   "metadata": {},
   "outputs": [
    {
     "name": "stderr",
     "output_type": "stream",
     "text": [
      "/Users/shinichiro.saito/pll_data_detection/.venv/lib/python3.12/site-packages/tqdm/auto.py:21: TqdmWarning: IProgress not found. Please update jupyter and ipywidgets. See https://ipywidgets.readthedocs.io/en/stable/user_install.html\n",
      "  from .autonotebook import tqdm as notebook_tqdm\n"
     ]
    },
    {
     "name": "stdout",
     "output_type": "stream",
     "text": [
      "[CLS] Design Thinking for innovation reflexion-Avril 2021-Nathalie Sylla Challenge & selection The tool I[SEP]\n",
      "[CLS] Sylla Challenge & selection The tool I use to help all stakeholders finding their way through the complexity of a project[SEP]\n",
      "[CLS] their way through the complexity of a project is the mind map.... by Nathalie Sylla[SEP]\n"
     ]
    },
    {
     "name": "stderr",
     "output_type": "stream",
     "text": [
      "/Users/shinichiro.saito/pll_data_detection/.venv/lib/python3.12/site-packages/transformers/convert_slow_tokenizer.py:515: UserWarning: The sentencepiece tokenizer that you are converting to a fast tokenizer uses the byte fallback option which is not implemented in the fast tokenizers. In practice this means that the fast version of the tokenizer can produce unknown tokens whereas the sentencepiece version would have converted these unknown tokens into a sequence of byte tokens matching the original piece of text.\n",
      "  warnings.warn(\n"
     ]
    }
   ],
   "source": [
    "from transformers import AutoTokenizer\n",
    "\n",
    "tokenizer = AutoTokenizer.from_pretrained(\"microsoft/deberta-v3-base\")\n",
    "\n",
    "test_string = \"\"\"\n",
    "Design Thinking for innovation reflexion-Avril 2021-Nathalie Sylla\\n\\nChallenge & selection\n",
    "The tool I use to help all stakeholders finding their way through the complexity of a project is the  mind map. \n",
    "...\n",
    "by Nathalie Sylla\n",
    "\"\"\"\n",
    "\n",
    "tk = tokenizer(\n",
    "    test_string,\n",
    "    max_length=24,\n",
    "    stride=8,\n",
    "    truncation=True,\n",
    "    return_overflowing_tokens=True,\n",
    ")\n",
    "\n",
    "for seq in tk[\"input_ids\"]:\n",
    "    print(tokenizer.decode(seq))"
   ]
  },
  {
   "cell_type": "code",
   "execution_count": 5,
   "metadata": {},
   "outputs": [
    {
     "data": {
      "text/plain": [
       "'[CLS] As the consultant for the study, I chose   visualization because the charity had a firm concept of why they needed the trail, how it would   benefit the town, and how much it would cost but needed a persuasive way to tie it all together.[SEP]'"
      ]
     },
     "execution_count": 5,
     "metadata": {},
     "output_type": "execute_result"
    }
   ],
   "source": [
    "test_string_2 = \"As the consultant for the study, I chose  visualization because the charity had a firm concept of why they needed the trail, how it would  benefit the town, and how much it would cost but needed a persuasive way to tie it all together.\"\n",
    "\n",
    "from tokenizers import AddedToken\n",
    "tokenizer.add_tokens(AddedToken(\"  \", normalized=False)) \n",
    "\n",
    "tk = tokenizer(\n",
    "    test_string_2,\n",
    "    truncation=False,\n",
    ")\n",
    "\n",
    "tokenizer."
   ]
  },
  {
   "cell_type": "code",
   "execution_count": null,
   "metadata": {},
   "outputs": [],
   "source": []
  }
 ],
 "metadata": {
  "kernelspec": {
   "display_name": ".venv",
   "language": "python",
   "name": "python3"
  },
  "language_info": {
   "codemirror_mode": {
    "name": "ipython",
    "version": 3
   },
   "file_extension": ".py",
   "mimetype": "text/x-python",
   "name": "python",
   "nbconvert_exporter": "python",
   "pygments_lexer": "ipython3",
   "version": "3.12.1"
  }
 },
 "nbformat": 4,
 "nbformat_minor": 2
}
