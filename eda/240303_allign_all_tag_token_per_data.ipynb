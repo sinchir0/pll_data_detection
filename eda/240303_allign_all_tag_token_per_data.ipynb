{
 "cells": [
  {
   "cell_type": "markdown",
   "metadata": {},
   "source": [
    "# 目的\n",
    "- 全てのデータの文字列を、O以外のタグごとに並べる"
   ]
  },
  {
   "cell_type": "code",
   "execution_count": 31,
   "metadata": {},
   "outputs": [],
   "source": [
    "import polars as pl\n",
    "import ast"
   ]
  },
  {
   "cell_type": "code",
   "execution_count": 32,
   "metadata": {},
   "outputs": [],
   "source": [
    "train = pl.read_json(\"../data/train.json\")\n",
    "moredata = pl.read_csv(\"../data/moredata_dataset_fixed.csv\").with_columns(\n",
    "    pl.col(\"tokens\").map_elements(lambda x: ast.literal_eval(x)),\n",
    "    pl.col(\"trailing_whitespace\").map_elements(lambda x: ast.literal_eval(x)),\n",
    "    pl.col(\"labels\").map_elements(lambda x: ast.literal_eval(x)),\n",
    ")\n",
    "pii_dataset = pl.read_csv(\"../data/external_pii_dataset.csv\").with_columns(\n",
    "    pl.col(\"tokens\").map_elements(lambda x: ast.literal_eval(x)),\n",
    "    pl.col(\"trailing_whitespace\").map_elements(lambda x: ast.literal_eval(x)),\n",
    "    pl.col(\"labels\").map_elements(lambda x: ast.literal_eval(x)),\n",
    ")"
   ]
  },
  {
   "cell_type": "code",
   "execution_count": 33,
   "metadata": {},
   "outputs": [],
   "source": [
    "from tqdm.auto import tqdm\n",
    "\n",
    "\n",
    "def make_token_df(data: pl.DataFrame) -> pl.DataFrame:\n",
    "    B_NAME_STUDENT_token = []\n",
    "    I_NAME_STUDENT_token = []\n",
    "    B_EMAIL_token = []\n",
    "    I_EMAIL_token = []\n",
    "    B_USERNAME_token = []\n",
    "    I_USERNAME_token = []\n",
    "    B_ID_NUM_token = []\n",
    "    I_ID_NUM_token = []\n",
    "    B_PHONE_NUM_token = []\n",
    "    I_PHONE_NUM_token = []\n",
    "    B_URL_PERSONAL_token = []\n",
    "    I_URL_PERSONAL_token = []\n",
    "    B_STREET_ADDRESS_token = []\n",
    "    I_STREET_ADDRESS_token = []\n",
    "\n",
    "    all_labels = [\n",
    "        \"B-NAME_STUDENT\",\n",
    "        \"I-NAME_STUDENT\",\n",
    "        \"B-EMAIL\",\n",
    "        \"I-EMAIL\",\n",
    "        \"B-USERNAME\",\n",
    "        \"I-USERNAME\",\n",
    "        \"B-ID_NUM\",\n",
    "        \"I-ID_NUM\",\n",
    "        \"B-PHONE_NUM\",\n",
    "        \"I-PHONE_NUM\",\n",
    "        \"B-URL_PERSONAL\",\n",
    "        \"I-URL_PERSONAL\",\n",
    "        \"B-STREET_ADDRESS\",\n",
    "        \"I-STREET_ADDRESS\",\n",
    "    ]\n",
    "\n",
    "    for tokens, labels in tqdm(zip(data[\"tokens\"], data[\"labels\"]), total=len(data)):\n",
    "        for token, label in zip(tokens, labels):\n",
    "            if label == \"B-NAME_STUDENT\":\n",
    "                B_NAME_STUDENT_token.append(token)\n",
    "            elif label == \"I-NAME_STUDENT\":\n",
    "                I_NAME_STUDENT_token.append(token)\n",
    "            elif label == \"B-EMAIL\":\n",
    "                B_EMAIL_token.append(token)\n",
    "            elif label == \"I-EMAIL\":\n",
    "                I_EMAIL_token.append(token)\n",
    "            elif label == \"B-USERNAME\":\n",
    "                B_USERNAME_token.append(token)\n",
    "            elif label == \"I-USERNAME\":\n",
    "                I_USERNAME_token.append(token)\n",
    "            elif label == \"B-ID_NUM\":\n",
    "                B_ID_NUM_token.append(token)\n",
    "            elif label == \"I-ID_NUM\":\n",
    "                I_ID_NUM_token.append(token)\n",
    "            elif label == \"B-PHONE_NUM\":\n",
    "                B_PHONE_NUM_token.append(token)\n",
    "            elif label == \"I-PHONE_NUM\":\n",
    "                I_PHONE_NUM_token.append(token)\n",
    "            elif label == \"B-URL_PERSONAL\":\n",
    "                B_URL_PERSONAL_token.append(token)\n",
    "            elif label == \"I-URL_PERSONAL\":\n",
    "                I_URL_PERSONAL_token.append(token)\n",
    "            elif label == \"B-STREET_ADDRESS\":\n",
    "                B_STREET_ADDRESS_token.append(token)\n",
    "            elif label == \"I-STREET_ADDRESS\":\n",
    "                I_STREET_ADDRESS_token.append(token)\n",
    "\n",
    "    max_len = max(\n",
    "        len(B_NAME_STUDENT_token),\n",
    "        len(I_NAME_STUDENT_token),\n",
    "        len(B_EMAIL_token),\n",
    "        len(I_EMAIL_token),\n",
    "        len(B_USERNAME_token),\n",
    "        len(I_USERNAME_token),\n",
    "        len(B_ID_NUM_token),\n",
    "        len(I_ID_NUM_token),\n",
    "        len(B_PHONE_NUM_token),\n",
    "        len(I_PHONE_NUM_token),\n",
    "        len(B_URL_PERSONAL_token),\n",
    "        len(I_URL_PERSONAL_token),\n",
    "        len(B_STREET_ADDRESS_token),\n",
    "        len(I_STREET_ADDRESS_token),\n",
    "    )\n",
    "\n",
    "    def pad_token(token: list[str]) -> list[str]:\n",
    "        return token + [None for _ in range(max_len - len(token))]\n",
    "\n",
    "    return pl.DataFrame(\n",
    "        [\n",
    "            B_NAME_STUDENT_token,\n",
    "            pad_token(I_NAME_STUDENT_token),\n",
    "            pad_token(B_EMAIL_token),\n",
    "            pad_token(I_EMAIL_token),\n",
    "            pad_token(B_USERNAME_token),\n",
    "            pad_token(I_USERNAME_token),\n",
    "            pad_token(B_ID_NUM_token),\n",
    "            pad_token(I_ID_NUM_token),\n",
    "            pad_token(B_PHONE_NUM_token),\n",
    "            pad_token(I_PHONE_NUM_token),\n",
    "            pad_token(B_URL_PERSONAL_token),\n",
    "            pad_token(I_URL_PERSONAL_token),\n",
    "            pad_token(B_STREET_ADDRESS_token),\n",
    "            pad_token(I_STREET_ADDRESS_token),\n",
    "        ],\n",
    "        orient=\"col\",\n",
    "        schema=all_labels,\n",
    "    )"
   ]
  },
  {
   "cell_type": "code",
   "execution_count": 34,
   "metadata": {},
   "outputs": [
    {
     "name": "stderr",
     "output_type": "stream",
     "text": [
      "100%|██████████| 6807/6807 [00:14<00:00, 482.71it/s]\n"
     ]
    }
   ],
   "source": [
    "train_token_df = make_token_df(train)"
   ]
  },
  {
   "cell_type": "code",
   "execution_count": 35,
   "metadata": {},
   "outputs": [
    {
     "name": "stderr",
     "output_type": "stream",
     "text": [
      "100%|██████████| 2000/2000 [00:04<00:00, 453.68it/s]\n"
     ]
    }
   ],
   "source": [
    "moredata_token_df = make_token_df(moredata)\n",
    "moredata_token_df.columns = [\n",
    "    \"more_\" + col_name for col_name in moredata_token_df.columns\n",
    "]"
   ]
  },
  {
   "cell_type": "code",
   "execution_count": 36,
   "metadata": {},
   "outputs": [
    {
     "name": "stderr",
     "output_type": "stream",
     "text": [
      "100%|██████████| 4434/4434 [00:05<00:00, 818.58it/s]\n"
     ]
    }
   ],
   "source": [
    "pii_dataset_token_df = make_token_df(pii_dataset)\n",
    "pii_dataset_token_df.columns = [\n",
    "    \"pii_\" + col_name for col_name in pii_dataset_token_df.columns\n",
    "]"
   ]
  },
  {
   "cell_type": "code",
   "execution_count": 37,
   "metadata": {},
   "outputs": [],
   "source": [
    "pl.concat(\n",
    "    [train_token_df, moredata_token_df, pii_dataset_token_df], how=\"horizontal\"\n",
    ").write_csv(\"token_df.csv\")"
   ]
  },
  {
   "cell_type": "code",
   "execution_count": 39,
   "metadata": {},
   "outputs": [
    {
     "data": {
      "text/html": [
       "<div><style>\n",
       ".dataframe > thead > tr,\n",
       ".dataframe > tbody > tr {\n",
       "  text-align: right;\n",
       "  white-space: pre-wrap;\n",
       "}\n",
       "</style>\n",
       "<small>shape: (0, 14)</small><table border=\"1\" class=\"dataframe\"><thead><tr><th>more_B-NAME_STUDENT</th><th>more_I-NAME_STUDENT</th><th>more_B-EMAIL</th><th>more_I-EMAIL</th><th>more_B-USERNAME</th><th>more_I-USERNAME</th><th>more_B-ID_NUM</th><th>more_I-ID_NUM</th><th>more_B-PHONE_NUM</th><th>more_I-PHONE_NUM</th><th>more_B-URL_PERSONAL</th><th>more_I-URL_PERSONAL</th><th>more_B-STREET_ADDRESS</th><th>more_I-STREET_ADDRESS</th></tr><tr><td>null</td><td>null</td><td>null</td><td>null</td><td>null</td><td>null</td><td>null</td><td>null</td><td>null</td><td>null</td><td>null</td><td>null</td><td>null</td><td>null</td></tr></thead><tbody></tbody></table></div>"
      ],
      "text/plain": [
       "shape: (0, 14)\n",
       "┌───────────┬───────────┬───────────┬───────────┬───┬───────────┬───────────┬───────────┬──────────┐\n",
       "│ more_B-NA ┆ more_I-NA ┆ more_B-EM ┆ more_I-EM ┆ … ┆ more_B-UR ┆ more_I-UR ┆ more_B-ST ┆ more_I-S │\n",
       "│ ME_STUDEN ┆ ME_STUDEN ┆ AIL       ┆ AIL       ┆   ┆ L_PERSONA ┆ L_PERSONA ┆ REET_ADDR ┆ TREET_AD │\n",
       "│ T         ┆ T         ┆ ---       ┆ ---       ┆   ┆ L         ┆ L         ┆ ESS       ┆ DRESS    │\n",
       "│ ---       ┆ ---       ┆ null      ┆ null      ┆   ┆ ---       ┆ ---       ┆ ---       ┆ ---      │\n",
       "│ null      ┆ null      ┆           ┆           ┆   ┆ null      ┆ null      ┆ null      ┆ null     │\n",
       "╞═══════════╪═══════════╪═══════════╪═══════════╪═══╪═══════════╪═══════════╪═══════════╪══════════╡\n",
       "└───────────┴───────────┴───────────┴───────────┴───┴───────────┴───────────┴───────────┴──────────┘"
      ]
     },
     "execution_count": 39,
     "metadata": {},
     "output_type": "execute_result"
    }
   ],
   "source": [
    "moredata_token_df"
   ]
  },
  {
   "cell_type": "code",
   "execution_count": null,
   "metadata": {},
   "outputs": [],
   "source": []
  }
 ],
 "metadata": {
  "kernelspec": {
   "display_name": ".venv",
   "language": "python",
   "name": "python3"
  },
  "language_info": {
   "codemirror_mode": {
    "name": "ipython",
    "version": 3
   },
   "file_extension": ".py",
   "mimetype": "text/x-python",
   "name": "python",
   "nbconvert_exporter": "python",
   "pygments_lexer": "ipython3",
   "version": "3.12.1"
  }
 },
 "nbformat": 4,
 "nbformat_minor": 2
}
