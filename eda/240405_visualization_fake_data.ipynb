{
 "cells": [
  {
   "cell_type": "markdown",
   "metadata": {},
   "source": [
    "# 目的\n",
    "以下を計算する\n",
    "- 外部データセット(Fake_data_1850_218.json)のラベル数"
   ]
  },
  {
   "cell_type": "code",
   "execution_count": 10,
   "metadata": {},
   "outputs": [],
   "source": [
    "import polars as pl\n",
    "import matplotlib.pyplot as plt\n",
    "import ast\n",
    "\n",
    "import itertools\n",
    "from collections import Counter\n",
    "from spacy import displacy"
   ]
  },
  {
   "cell_type": "code",
   "execution_count": 3,
   "metadata": {},
   "outputs": [],
   "source": [
    "fake_data = pl.read_json(\"../data/Fake_data_1850_218.json\")"
   ]
  },
  {
   "cell_type": "code",
   "execution_count": 4,
   "metadata": {},
   "outputs": [
    {
     "data": {
      "text/html": [
       "<div><style>\n",
       ".dataframe > thead > tr,\n",
       ".dataframe > tbody > tr {\n",
       "  text-align: right;\n",
       "  white-space: pre-wrap;\n",
       "}\n",
       "</style>\n",
       "<small>shape: (1_850, 5)</small><table border=\"1\" class=\"dataframe\"><thead><tr><th>document</th><th>full_text</th><th>tokens</th><th>trailing_whitespace</th><th>labels</th></tr><tr><td>i64</td><td>str</td><td>list[str]</td><td>list[bool]</td><td>list[str]</td></tr></thead><tbody><tr><td>0</td><td>&quot;Leveraging Lea…</td><td>[&quot;Leveraging&quot;, &quot;Lean&quot;, … &quot;Richard&quot;]</td><td>[true, true, … false]</td><td>[&quot;O&quot;, &quot;O&quot;, … &quot;B-NAME_STUDENT&quot;]</td></tr><tr><td>1</td><td>&quot;From Chaos to …</td><td>[&quot;From&quot;, &quot;Chaos&quot;, … &quot;Katherine&quot;]</td><td>[true, true, … false]</td><td>[&quot;O&quot;, &quot;O&quot;, … &quot;B-NAME_STUDENT&quot;]</td></tr><tr><td>2</td><td>&quot;Leveraging Lea…</td><td>[&quot;Leveraging&quot;, &quot;Lean&quot;, … &quot;Robert&quot;]</td><td>[true, true, … false]</td><td>[&quot;O&quot;, &quot;O&quot;, … &quot;B-NAME_STUDENT&quot;]</td></tr><tr><td>3</td><td>&quot;&quot;Empowering Vu…</td><td>[&quot;&quot;&quot;, &quot;Empowering&quot;, … &quot;\n",
       "&quot;]</td><td>[false, true, … false]</td><td>[&quot;O&quot;, &quot;O&quot;, … &quot;I-NAME_STUDENT&quot;]</td></tr><tr><td>4</td><td>&quot;Rehabilitating…</td><td>[&quot;Rehabilitating&quot;, &quot;Hope&quot;, … &quot;King&quot;]</td><td>[true, false, … false]</td><td>[&quot;O&quot;, &quot;O&quot;, … &quot;I-URL_PERSONAL&quot;]</td></tr><tr><td>5</td><td>&quot;Leveraging Lea…</td><td>[&quot;Leveraging&quot;, &quot;Lean&quot;, … &quot;Kennedy&quot;]</td><td>[true, true, … false]</td><td>[&quot;O&quot;, &quot;O&quot;, … &quot;I-URL_PERSONAL&quot;]</td></tr><tr><td>6</td><td>&quot;Streamlining H…</td><td>[&quot;Streamlining&quot;, &quot;Healthcare&quot;, … &quot;Ramos&quot;]</td><td>[true, true, … false]</td><td>[&quot;O&quot;, &quot;O&quot;, … &quot;I-NAME_STUDENT&quot;]</td></tr><tr><td>7</td><td>&quot;Navigating Com…</td><td>[&quot;Navigating&quot;, &quot;Complex&quot;, … &quot;lindawest@gmail.com&quot;]</td><td>[true, true, … false]</td><td>[&quot;O&quot;, &quot;O&quot;, … &quot;O&quot;]</td></tr><tr><td>8</td><td>&quot;Leveraging Tec…</td><td>[&quot;Leveraging&quot;, &quot;Technology&quot;, … &quot;DDS&quot;]</td><td>[true, true, … false]</td><td>[&quot;O&quot;, &quot;O&quot;, … &quot;I-NAME_STUDENT&quot;]</td></tr><tr><td>9</td><td>&quot;&quot;Empowering Lo…</td><td>[&quot;&quot;&quot;, &quot;Empowering&quot;, … &quot;Martinez&quot;]</td><td>[false, true, … false]</td><td>[&quot;O&quot;, &quot;O&quot;, … &quot;I-URL_PERSONAL&quot;]</td></tr><tr><td>10</td><td>&quot;&quot;Empowering Lo…</td><td>[&quot;&quot;&quot;, &quot;Empowering&quot;, … &quot;77450&quot;]</td><td>[false, true, … false]</td><td>[&quot;O&quot;, &quot;O&quot;, … &quot;I-STREET_ADDRESS&quot;]</td></tr><tr><td>11</td><td>&quot;Leveraging Lea…</td><td>[&quot;Leveraging&quot;, &quot;Lean&quot;, … &quot;79865&quot;]</td><td>[true, true, … false]</td><td>[&quot;O&quot;, &quot;O&quot;, … &quot;I-STREET_ADDRESS&quot;]</td></tr><tr><td>&hellip;</td><td>&hellip;</td><td>&hellip;</td><td>&hellip;</td><td>&hellip;</td></tr><tr><td>1838</td><td>&quot;Navigating the…</td><td>[&quot;Navigating&quot;, &quot;the&quot;, … &quot;https://linkedin.com/in/Mcclain&quot;]</td><td>[true, true, … false]</td><td>[&quot;O&quot;, &quot;O&quot;, … &quot;B-URL_PERSONAL&quot;]</td></tr><tr><td>1839</td><td>&quot;Empowerment th…</td><td>[&quot;Empowerment&quot;, &quot;through&quot;, … &quot;Ashley&quot;]</td><td>[true, true, … false]</td><td>[&quot;O&quot;, &quot;O&quot;, … &quot;B-NAME_STUDENT&quot;]</td></tr><tr><td>1840</td><td>&quot;&quot;Transformativ…</td><td>[&quot;&quot;&quot;, &quot;Transformative&quot;, … &quot;naustin@gmail.com&quot;]</td><td>[false, true, … false]</td><td>[&quot;O&quot;, &quot;O&quot;, … &quot;B-EMAIL&quot;]</td></tr><tr><td>1841</td><td>&quot;&quot;Fostering Con…</td><td>[&quot;&quot;&quot;, &quot;Fostering&quot;, … &quot;85041&quot;]</td><td>[false, true, … false]</td><td>[&quot;O&quot;, &quot;O&quot;, … &quot;I-STREET_ADDRESS&quot;]</td></tr><tr><td>1842</td><td>&quot;Empowerment th…</td><td>[&quot;Empowerment&quot;, &quot;through&quot;, … &quot;Graham&quot;]</td><td>[true, true, … false]</td><td>[&quot;O&quot;, &quot;O&quot;, … &quot;I-URL_PERSONAL&quot;]</td></tr><tr><td>1843</td><td>&quot;Revolutionizin…</td><td>[&quot;Revolutionizing&quot;, &quot;Patient&quot;, … &quot;8546x925&quot;]</td><td>[true, true, … false]</td><td>[&quot;O&quot;, &quot;O&quot;, … &quot;I-PHONE_NUM&quot;]</td></tr><tr><td>1844</td><td>&quot;Transforming L…</td><td>[&quot;Transforming&quot;, &quot;Lives&quot;, … &quot;Gonzales&quot;]</td><td>[true, true, … false]</td><td>[&quot;O&quot;, &quot;O&quot;, … &quot;I-NAME_STUDENT&quot;]</td></tr><tr><td>1845</td><td>&quot;Harnessing the…</td><td>[&quot;Harnessing&quot;, &quot;the&quot;, … &quot;https://facebook.com/Scott&quot;]</td><td>[true, true, … false]</td><td>[&quot;O&quot;, &quot;O&quot;, … &quot;B-URL_PERSONAL&quot;]</td></tr><tr><td>1846</td><td>&quot;Leveraging Lea…</td><td>[&quot;Leveraging&quot;, &quot;Lean&quot;, … &quot;Morgan&quot;]</td><td>[true, true, … false]</td><td>[&quot;O&quot;, &quot;O&quot;, … &quot;I-NAME_STUDENT&quot;]</td></tr><tr><td>1847</td><td>&quot;From Chaos to …</td><td>[&quot;From&quot;, &quot;Chaos&quot;, … &quot;Parsons&quot;]</td><td>[true, true, … false]</td><td>[&quot;O&quot;, &quot;O&quot;, … &quot;I-NAME_STUDENT&quot;]</td></tr><tr><td>1848</td><td>&quot;Holistic Appro…</td><td>[&quot;Holistic&quot;, &quot;Approach&quot;, … &quot;https://youtube.com/c/Thompson&quot;]</td><td>[true, true, … false]</td><td>[&quot;O&quot;, &quot;O&quot;, … &quot;O&quot;]</td></tr><tr><td>1849</td><td>&quot;Navigating Com…</td><td>[&quot;Navigating&quot;, &quot;Complex&quot;, … &quot;0945x7104&quot;]</td><td>[true, true, … false]</td><td>[&quot;O&quot;, &quot;O&quot;, … &quot;I-PHONE_NUM&quot;]</td></tr></tbody></table></div>"
      ],
      "text/plain": [
       "shape: (1_850, 5)\n",
       "┌──────────┬─────────────────────┬─────────────────────┬─────────────────────┬─────────────────────┐\n",
       "│ document ┆ full_text           ┆ tokens              ┆ trailing_whitespace ┆ labels              │\n",
       "│ ---      ┆ ---                 ┆ ---                 ┆ ---                 ┆ ---                 │\n",
       "│ i64      ┆ str                 ┆ list[str]           ┆ list[bool]          ┆ list[str]           │\n",
       "╞══════════╪═════════════════════╪═════════════════════╪═════════════════════╪═════════════════════╡\n",
       "│ 0        ┆ Leveraging Lean     ┆ [\"Leveraging\",      ┆ [true, true, …      ┆ [\"O\", \"O\", …        │\n",
       "│          ┆ Methodology to O…   ┆ \"Lean\", … \"Richar…  ┆ false]              ┆ \"B-NAME_STUDENT\"]   │\n",
       "│ 1        ┆ From Chaos to Calm: ┆ [\"From\", \"Chaos\", … ┆ [true, true, …      ┆ [\"O\", \"O\", …        │\n",
       "│          ┆ Addressing C…       ┆ \"Katherine\"]        ┆ false]              ┆ \"B-NAME_STUDENT\"]   │\n",
       "│ 2        ┆ Leveraging Lean Six ┆ [\"Leveraging\",      ┆ [true, true, …      ┆ [\"O\", \"O\", …        │\n",
       "│          ┆ Sigma to Opt…       ┆ \"Lean\", … \"Robert…  ┆ false]              ┆ \"B-NAME_STUDENT\"]   │\n",
       "│ 3        ┆ \"Empowering         ┆ [\"\"\", \"Empowering\", ┆ [false, true, …     ┆ [\"O\", \"O\", …        │\n",
       "│          ┆ Vulnerable          ┆ … \"                 ┆ false]              ┆ \"I-NAME_STUDENT\"]   │\n",
       "│          ┆ Families:…          ┆ \"]                  ┆                     ┆                     │\n",
       "│ 4        ┆ Rehabilitating      ┆ [\"Rehabilitating\",  ┆ [true, false, …     ┆ [\"O\", \"O\", …        │\n",
       "│          ┆ Hope: The Journey…  ┆ \"Hope\", … \"Ki…      ┆ false]              ┆ \"I-URL_PERSONAL\"]   │\n",
       "│ …        ┆ …                   ┆ …                   ┆ …                   ┆ …                   │\n",
       "│ 1845     ┆ Harnessing the      ┆ [\"Harnessing\",      ┆ [true, true, …      ┆ [\"O\", \"O\", …        │\n",
       "│          ┆ Power of Virtual …  ┆ \"the\", … \"https:/…  ┆ false]              ┆ \"B-URL_PERSONAL\"]   │\n",
       "│ 1846     ┆ Leveraging Lean     ┆ [\"Leveraging\",      ┆ [true, true, …      ┆ [\"O\", \"O\", …        │\n",
       "│          ┆ Methodology to I…   ┆ \"Lean\", … \"Morgan…  ┆ false]              ┆ \"I-NAME_STUDENT\"]   │\n",
       "│ 1847     ┆ From Chaos to Calm: ┆ [\"From\", \"Chaos\", … ┆ [true, true, …      ┆ [\"O\", \"O\", …        │\n",
       "│          ┆ The Transfor…       ┆ \"Parsons\"]          ┆ false]              ┆ \"I-NAME_STUDENT\"]   │\n",
       "│ 1848     ┆ Holistic Approach   ┆ [\"Holistic\",        ┆ [true, true, …      ┆ [\"O\", \"O\", … \"O\"]   │\n",
       "│          ┆ to Combating F…     ┆ \"Approach\", …       ┆ false]              ┆                     │\n",
       "│          ┆                     ┆ \"http…              ┆                     ┆                     │\n",
       "│ 1849     ┆ Navigating Complex  ┆ [\"Navigating\",      ┆ [true, true, …      ┆ [\"O\", \"O\", …        │\n",
       "│          ┆ Challenges: A…      ┆ \"Complex\", … \"094…  ┆ false]              ┆ \"I-PHONE_NUM\"]      │\n",
       "└──────────┴─────────────────────┴─────────────────────┴─────────────────────┴─────────────────────┘"
      ]
     },
     "execution_count": 4,
     "metadata": {},
     "output_type": "execute_result"
    }
   ],
   "source": [
    "fake_data"
   ]
  },
  {
   "cell_type": "markdown",
   "metadata": {},
   "source": [
    "# Visualization"
   ]
  },
  {
   "cell_type": "code",
   "execution_count": 15,
   "metadata": {},
   "outputs": [],
   "source": [
    "import spacy\n",
    "from spacy.tokens import Span, Doc\n",
    "from spacy import displacy\n",
    "\n",
    "# https://matplotlib.org/2.0.2/examples/color/named_colors.html\n",
    "options = {\n",
    "    \"colors\": {\n",
    "        \"B-NAME_STUDENT\": \"aqua\",\n",
    "        \"I-NAME_STUDENT\": \"aliceblue\",\n",
    "        \"B-EMAIL\": \"forestgreen\",\n",
    "        \"I-EMAIL\": \"greenyellow\",\n",
    "        \"B-USERNAME\": \"hotpink\",\n",
    "        \"I-USERNAME\": \"lightpink\",\n",
    "        \"B-ID_NUM\": \"purple\",\n",
    "        \"I-ID_NUM\": \"rebeccapurple\",\n",
    "        \"B-PHONE_NUM\": \"red\",\n",
    "        \"I-PHONE_NUM\": \"salmon\",\n",
    "        \"B-URL_PERSONAL\": \"slategrey\",\n",
    "        \"I-URL_PERSONAL\": \"silver\",\n",
    "        \"B-STREET_ADDRESS\": \"brown\",\n",
    "        \"I-STREET_ADDRESS\": \"chocolate\",\n",
    "    }\n",
    "}\n",
    "\n",
    "\n",
    "class PiiLabelRenderer:\n",
    "    def __init__(\n",
    "        self,\n",
    "        documents: list[str],\n",
    "        tokens: list[str],\n",
    "        full_texts: list[str],\n",
    "        labels: list[str],\n",
    "        options: dict[str, dict[str, str]],\n",
    "    ) -> None:\n",
    "        self.documents = documents\n",
    "        self.tokens = tokens\n",
    "        self.full_texts = full_texts\n",
    "        self.labels = labels\n",
    "        self.options = options\n",
    "        self.nlp = spacy.blank(\"en\")\n",
    "\n",
    "    def get_original_text(\n",
    "        self, render_idx: int | None = None, documents_id: int | None = None\n",
    "    ) -> str:\n",
    "        if render_idx and documents_id:\n",
    "            raise Exception(\"Don't Use Both render_idx and documents_id\")\n",
    "        if documents_id:\n",
    "            render_idx = self.documents.index(documents_id)\n",
    "\n",
    "        return self.full_texts[render_idx]\n",
    "\n",
    "    def render(\n",
    "        self, render_idx: int | None = None, documents_id: int | None = None\n",
    "    ) -> None:\n",
    "        if render_idx and documents_id:\n",
    "            raise Exception(\"Don't Use Both render_idx and documents_id\")\n",
    "        if documents_id and render_idx is None:\n",
    "            render_idx = self.documents.index(documents_id)\n",
    "        if documents_id is None and render_idx:\n",
    "            documents_id = self.documents[render_idx]\n",
    "        if documents_id is None and render_idx is None:\n",
    "            raise Exception(\"Please specify either render_idx or documents_id\")\n",
    "\n",
    "        print(f\"render_idx: {render_idx}, documents_id: {documents_id}\")\n",
    "\n",
    "        doc = self.nlp(self.full_texts[render_idx])\n",
    "        doc.ents = [\n",
    "            Span(doc, idx, idx + 1, label=label)\n",
    "            for idx, label in enumerate(self.labels[render_idx])\n",
    "            if label != \"O\"\n",
    "        ]\n",
    "\n",
    "        displacy.render(doc, style=\"ent\", jupyter=True, options=options)"
   ]
  },
  {
   "cell_type": "code",
   "execution_count": 12,
   "metadata": {},
   "outputs": [],
   "source": [
    "# documents = pii_dataset_fixed.get_column(\"document\").to_list()\n",
    "# tokens = pii_dataset_fixed.get_column(\"tokens\").to_list()\n",
    "# full_texts = pii_dataset_fixed.get_column(\"text\").to_list()\n",
    "# labels = pii_dataset_fixed.get_column(\"labels\").to_list()\n",
    "\n",
    "documents = fake_data.get_column(\"document\").to_list()\n",
    "tokens = fake_data.get_column(\"tokens\").to_list()\n",
    "full_texts = fake_data.get_column(\"full_text\").to_list()\n",
    "labels = fake_data.get_column(\"labels\").to_list()"
   ]
  },
  {
   "cell_type": "code",
   "execution_count": 17,
   "metadata": {},
   "outputs": [],
   "source": [
    "PLR = PiiLabelRenderer(\n",
    "    documents=documents,\n",
    "    tokens=tokens,\n",
    "    labels=labels,\n",
    "    options=options,\n",
    "    full_texts=full_texts,\n",
    ")"
   ]
  },
  {
   "cell_type": "code",
   "execution_count": 27,
   "metadata": {},
   "outputs": [
    {
     "name": "stdout",
     "output_type": "stream",
     "text": [
      "render_idx: 9, documents_id: 9\n"
     ]
    },
    {
     "data": {
      "text/html": [
       "<span class=\"tex2jax_ignore\"><div class=\"entities\" style=\"line-height: 2.5; direction: ltr\">&quot;Empowering Low-Income Families: My Experience with Participatory Action Research&quot; by \n",
       "<mark class=\"entity\" style=\"background: aqua; padding: 0.45em 0.6em; margin: 0 0.25em; line-height: 1; border-radius: 0.35em;\">\n",
       "    Eddie\n",
       "    <span style=\"font-size: 0.8em; font-weight: bold; line-height: 1; border-radius: 0.35em; vertical-align: middle; margin-left: 0.5rem\">B-NAME_STUDENT</span>\n",
       "</mark>\n",
       " \n",
       "<mark class=\"entity\" style=\"background: aliceblue; padding: 0.45em 0.6em; margin: 0 0.25em; line-height: 1; border-radius: 0.35em;\">\n",
       "    Martinez\n",
       "    <span style=\"font-size: 0.8em; font-weight: bold; line-height: 1; border-radius: 0.35em; vertical-align: middle; margin-left: 0.5rem\">I-NAME_STUDENT</span>\n",
       "</mark>\n",
       ", \n",
       "<mark class=\"entity\" style=\"background: forestgreen; padding: 0.45em 0.6em; margin: 0 0.25em; line-height: 1; border-radius: 0.35em;\">\n",
       "    lisa83@hotmail.com\n",
       "    <span style=\"font-size: 0.8em; font-weight: bold; line-height: 1; border-radius: 0.35em; vertical-align: middle; margin-left: 0.5rem\">B-EMAIL</span>\n",
       "</mark>\n",
       ", \n",
       "<mark class=\"entity\" style=\"background: purple; padding: 0.45em 0.6em; margin: 0 0.25em; line-height: 1; border-radius: 0.35em;\">\n",
       "    RSJO19659342320947\n",
       "    <span style=\"font-size: 0.8em; font-weight: bold; line-height: 1; border-radius: 0.35em; vertical-align: middle; margin-left: 0.5rem\">B-ID_NUM</span>\n",
       "</mark>\n",
       ", \n",
       "<mark class=\"entity\" style=\"background: slategrey; padding: 0.45em 0.6em; margin: 0 0.25em; line-height: 1; border-radius: 0.35em;\">\n",
       "    https://instagram.com/Eddie\n",
       "    <span style=\"font-size: 0.8em; font-weight: bold; line-height: 1; border-radius: 0.35em; vertical-align: middle; margin-left: 0.5rem\">B-URL_PERSONAL</span>\n",
       "</mark>\n",
       " \n",
       "<mark class=\"entity\" style=\"background: silver; padding: 0.45em 0.6em; margin: 0 0.25em; line-height: 1; border-radius: 0.35em;\">\n",
       "    Martinez\n",
       "    <span style=\"font-size: 0.8em; font-weight: bold; line-height: 1; border-radius: 0.35em; vertical-align: middle; margin-left: 0.5rem\">I-URL_PERSONAL</span>\n",
       "</mark>\n",
       ".<br><br>As a social worker in the non-profit industry, I am constantly seeking ways to effectively address the complex challenges faced by the communities I serve. In my role at a non-profit organization that provides resources and support to low-income families, I have found that Participatory Action Research (PAR) is a powerful tool for engaging community members in the problem-solving process.<br><br>PAR is a collaborative research approach that involves community members in all stages of the research process, from identifying the problem to be addressed, to collecting and analyzing data, to implementing and evaluating solutions. This approach is grounded in the belief that those who are most affected by a problem are also the ones who are best equipped to find a solution.<br><br>I first learned about PAR in a graduate-level research methods course, and I was immediately drawn to its potential to empower marginalized communities. I knew that this approach could be a game-changer for the families I worked with, who were often overlooked and underserved by traditional research and service delivery models.<br><br>With the support of my organization, I set out to apply PAR to a complex challenge facing our community: food insecurity. I began by reaching out to a group of low-income families who had previously sought assistance from our organization. Together, we formed a PAR team and set to work identifying the root causes of food insecurity in our community.<br><br>Through a series of participatory workshops and interviews, we collected data on the experiences and \n",
       "<mark class=\"entity\" style=\"background: aqua; padding: 0.45em 0.6em; margin: 0 0.25em; line-height: 1; border-radius: 0.35em;\">\n",
       "    Eddie\n",
       "    <span style=\"font-size: 0.8em; font-weight: bold; line-height: 1; border-radius: 0.35em; vertical-align: middle; margin-left: 0.5rem\">B-NAME_STUDENT</span>\n",
       "</mark>\n",
       " \n",
       "<mark class=\"entity\" style=\"background: aliceblue; padding: 0.45em 0.6em; margin: 0 0.25em; line-height: 1; border-radius: 0.35em;\">\n",
       "    Martinez\n",
       "    <span style=\"font-size: 0.8em; font-weight: bold; line-height: 1; border-radius: 0.35em; vertical-align: middle; margin-left: 0.5rem\">I-NAME_STUDENT</span>\n",
       "</mark>\n",
       ", \n",
       "<mark class=\"entity\" style=\"background: forestgreen; padding: 0.45em 0.6em; margin: 0 0.25em; line-height: 1; border-radius: 0.35em;\">\n",
       "    lisa83@hotmail.com\n",
       "    <span style=\"font-size: 0.8em; font-weight: bold; line-height: 1; border-radius: 0.35em; vertical-align: middle; margin-left: 0.5rem\">B-EMAIL</span>\n",
       "</mark>\n",
       ", \n",
       "<mark class=\"entity\" style=\"background: purple; padding: 0.45em 0.6em; margin: 0 0.25em; line-height: 1; border-radius: 0.35em;\">\n",
       "    RSJO19659342320947\n",
       "    <span style=\"font-size: 0.8em; font-weight: bold; line-height: 1; border-radius: 0.35em; vertical-align: middle; margin-left: 0.5rem\">B-ID_NUM</span>\n",
       "</mark>\n",
       ", \n",
       "<mark class=\"entity\" style=\"background: slategrey; padding: 0.45em 0.6em; margin: 0 0.25em; line-height: 1; border-radius: 0.35em;\">\n",
       "    https://instagram.com/Eddie\n",
       "    <span style=\"font-size: 0.8em; font-weight: bold; line-height: 1; border-radius: 0.35em; vertical-align: middle; margin-left: 0.5rem\">B-URL_PERSONAL</span>\n",
       "</mark>\n",
       " \n",
       "<mark class=\"entity\" style=\"background: silver; padding: 0.45em 0.6em; margin: 0 0.25em; line-height: 1; border-radius: 0.35em;\">\n",
       "    Martinez\n",
       "    <span style=\"font-size: 0.8em; font-weight: bold; line-height: 1; border-radius: 0.35em; vertical-align: middle; margin-left: 0.5rem\">I-URL_PERSONAL</span>\n",
       "</mark>\n",
       " perspectives of our PAR team members. We found that transportation barriers, lack of access to fresh and affordable food, and limited knowledge of available resources were all significant contributors to food insecurity in our community.<br><br>Armed with this data, we then worked together to develop and implement a series of interventions aimed at addressing these root causes. These interventions included the creation of a community garden, the establishment of a mobile food pantry, and the development of a series of cooking and nutrition workshops.<br><br>Throughout the process, I was constantly impressed by the dedication and creativity of our PAR team members. They brought a wealth of knowledge and experience to the table, and their insights and ideas were invaluable in shaping our interventions.<br><br>But PAR is not without its challenges. The approach requires a significant investment of time and resources, and it can be difficult to maintain momentum and engagement over the long term. Additionally, the collaborative nature of PAR can sometimes lead to power dynamics and conflicts within the PAR team.<br><br>Despite these challenges, I believe that PAR is a powerful tool for addressing complex challenges in low-income communities. By engaging community members in the problem-solving process, we can tap into a wealth of knowledge and experience that is often overlooked in traditional research and service delivery models.<br><br>Moving forward, I plan to continue using PAR in my work with low-income families. I believe that this approach has the potential to not only address immediate challenges, but also to build capacity and resilience within communities, empowering them to take charge of their own futures.<br><br>In conclusion, Participatory Action Research has been a valuable tool in my experience as a social worker. It has allowed me to engage with the community I serve in a meaningful way, and to work together to find solutions to complex challenges. While the approach is not without its challenges, I believe that its strengths far outweigh its limitations, and I look forward to continuing to use PAR in my work in the future.<br><br>\n",
       "<mark class=\"entity\" style=\"background: aqua; padding: 0.45em 0.6em; margin: 0 0.25em; line-height: 1; border-radius: 0.35em;\">\n",
       "    Eddie\n",
       "    <span style=\"font-size: 0.8em; font-weight: bold; line-height: 1; border-radius: 0.35em; vertical-align: middle; margin-left: 0.5rem\">B-NAME_STUDENT</span>\n",
       "</mark>\n",
       " \n",
       "<mark class=\"entity\" style=\"background: aliceblue; padding: 0.45em 0.6em; margin: 0 0.25em; line-height: 1; border-radius: 0.35em;\">\n",
       "    Martinez\n",
       "    <span style=\"font-size: 0.8em; font-weight: bold; line-height: 1; border-radius: 0.35em; vertical-align: middle; margin-left: 0.5rem\">I-NAME_STUDENT</span>\n",
       "</mark>\n",
       ", \n",
       "<mark class=\"entity\" style=\"background: forestgreen; padding: 0.45em 0.6em; margin: 0 0.25em; line-height: 1; border-radius: 0.35em;\">\n",
       "    lisa83@hotmail.com\n",
       "    <span style=\"font-size: 0.8em; font-weight: bold; line-height: 1; border-radius: 0.35em; vertical-align: middle; margin-left: 0.5rem\">B-EMAIL</span>\n",
       "</mark>\n",
       ", \n",
       "<mark class=\"entity\" style=\"background: purple; padding: 0.45em 0.6em; margin: 0 0.25em; line-height: 1; border-radius: 0.35em;\">\n",
       "    RSJO19659342320947\n",
       "    <span style=\"font-size: 0.8em; font-weight: bold; line-height: 1; border-radius: 0.35em; vertical-align: middle; margin-left: 0.5rem\">B-ID_NUM</span>\n",
       "</mark>\n",
       ", \n",
       "<mark class=\"entity\" style=\"background: slategrey; padding: 0.45em 0.6em; margin: 0 0.25em; line-height: 1; border-radius: 0.35em;\">\n",
       "    https://instagram.com/Eddie\n",
       "    <span style=\"font-size: 0.8em; font-weight: bold; line-height: 1; border-radius: 0.35em; vertical-align: middle; margin-left: 0.5rem\">B-URL_PERSONAL</span>\n",
       "</mark>\n",
       " \n",
       "<mark class=\"entity\" style=\"background: silver; padding: 0.45em 0.6em; margin: 0 0.25em; line-height: 1; border-radius: 0.35em;\">\n",
       "    Martinez\n",
       "    <span style=\"font-size: 0.8em; font-weight: bold; line-height: 1; border-radius: 0.35em; vertical-align: middle; margin-left: 0.5rem\">I-URL_PERSONAL</span>\n",
       "</mark>\n",
       "</div></span>"
      ],
      "text/plain": [
       "<IPython.core.display.HTML object>"
      ]
     },
     "metadata": {},
     "output_type": "display_data"
    }
   ],
   "source": [
    "PLR.render(render_idx=9)"
   ]
  },
  {
   "cell_type": "code",
   "execution_count": null,
   "metadata": {},
   "outputs": [],
   "source": []
  }
 ],
 "metadata": {
  "kernelspec": {
   "display_name": "Python 3 (ipykernel)",
   "language": "python",
   "name": "python3"
  },
  "language_info": {
   "codemirror_mode": {
    "name": "ipython",
    "version": 3
   },
   "file_extension": ".py",
   "mimetype": "text/x-python",
   "name": "python",
   "nbconvert_exporter": "python",
   "pygments_lexer": "ipython3",
   "version": "3.12.1"
  }
 },
 "nbformat": 4,
 "nbformat_minor": 2
}
