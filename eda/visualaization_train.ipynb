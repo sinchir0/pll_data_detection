{
 "cells": [
  {
   "cell_type": "markdown",
   "metadata": {},
   "source": [
    "# 目的\n",
    "spaCyのdisplaCyを用いて、文章とタグを可視化する"
   ]
  },
  {
   "cell_type": "code",
   "execution_count": 1,
   "metadata": {},
   "outputs": [],
   "source": [
    "import polars as pl\n",
    "\n",
    "import spacy\n",
    "from spacy.tokens import Span\n",
    "from spacy import displacy"
   ]
  },
  {
   "cell_type": "code",
   "execution_count": 2,
   "metadata": {},
   "outputs": [],
   "source": [
    "# 一度だけ必要\n",
    "#!poetry run python -m spacy download en_core_web_sm"
   ]
  },
  {
   "cell_type": "code",
   "execution_count": 3,
   "metadata": {},
   "outputs": [],
   "source": [
    "# https://matplotlib.org/2.0.2/examples/color/named_colors.html\n",
    "options = {\n",
    "    \"colors\": {\n",
    "        \"B-NAME_STUDENT\": \"aqua\",\n",
    "        \"I-NAME_STUDENT\": \"aliceblue\",\n",
    "        \"B-EMAIL\": \"forestgreen\",\n",
    "        \"I-EMAIL\": \"greenyellow\",\n",
    "        \"B-USERNAME\": \"hotpink\",\n",
    "        \"I-USERNAME\": \"lightpink\",\n",
    "        \"B-ID_NUM\": \"purple\",\n",
    "        \"I-ID_NUM\": \"rebeccapurple\",\n",
    "        \"B-PHONE_NUM\": \"red\",\n",
    "        \"I-PHONE_NUM\": \"salmon\",\n",
    "        \"B-URL_PERSONAL\": \"slategrey\",\n",
    "        \"I-URL_PERSONAL\": \"silver\",\n",
    "        \"B-STREET_ADDRESS\": \"brown\",\n",
    "        \"I-STREET_ADDRESS\": \"chocolate\",\n",
    "    }\n",
    "}"
   ]
  },
  {
   "cell_type": "code",
   "execution_count": 4,
   "metadata": {},
   "outputs": [],
   "source": [
    "train = pl.read_json(\"../data/train.json\")"
   ]
  },
  {
   "cell_type": "code",
   "execution_count": 5,
   "metadata": {},
   "outputs": [],
   "source": [
    "documents = train.get_column(\"document\").to_list()\n",
    "full_texts = train.get_column(\"full_text\").to_list()\n",
    "labels = train.get_column(\"labels\").to_list()"
   ]
  },
  {
   "cell_type": "code",
   "execution_count": 6,
   "metadata": {},
   "outputs": [],
   "source": [
    "class PllLabelRenderer:\n",
    "    def __init__(\n",
    "        self,\n",
    "        documents: list[str],\n",
    "        full_texts: list[str],\n",
    "        labels: list[str],\n",
    "        options: dict[str, dict[str, str]],\n",
    "    ) -> None:\n",
    "        self.nlp = spacy.blank(\"en\")\n",
    "        self.documents = documents\n",
    "        self.full_texts = full_texts\n",
    "        self.labels = labels\n",
    "        self.options = options\n",
    "\n",
    "    def render(\n",
    "        self, render_idx: int | None = None, documents_id: int | None = None\n",
    "    ) -> None:\n",
    "        if render_idx and documents_id:\n",
    "            raise Exception(\"Don't Use Both render_idx and documents_id\")\n",
    "        if documents_id:\n",
    "            render_idx = self.documents.index(documents_id)\n",
    "        doc = self.nlp(self.full_texts[render_idx])\n",
    "        doc.ents = [\n",
    "            Span(doc, idx, idx + 1, label=label)\n",
    "            for idx, label in enumerate(self.labels[render_idx])\n",
    "            if label != \"O\"\n",
    "        ]\n",
    "        displacy.render(doc, style=\"ent\", jupyter=True, options=options)"
   ]
  },
  {
   "cell_type": "code",
   "execution_count": 7,
   "metadata": {},
   "outputs": [],
   "source": [
    "PLR = PllLabelRenderer(\n",
    "    documents=documents, full_texts=full_texts, labels=labels, options=options\n",
    ")"
   ]
  },
  {
   "cell_type": "code",
   "execution_count": 8,
   "metadata": {},
   "outputs": [
    {
     "data": {
      "text/html": [
       "<span class=\"tex2jax_ignore\"><div class=\"entities\" style=\"line-height: 2.5; direction: ltr\">Freitag, 16. Februar 2018<br><br>MindMapping - \n",
       "<mark class=\"entity\" style=\"background: aqua; padding: 0.45em 0.6em; margin: 0 0.25em; line-height: 1; border-radius: 0.35em;\">\n",
       "    Nicole\n",
       "    <span style=\"font-size: 0.8em; font-weight: bold; line-height: 1; border-radius: 0.35em; vertical-align: middle; margin-left: 0.5rem\">B-NAME_STUDENT</span>\n",
       "</mark>\n",
       " \n",
       "<mark class=\"entity\" style=\"background: aliceblue; padding: 0.45em 0.6em; margin: 0 0.25em; line-height: 1; border-radius: 0.35em;\">\n",
       "    Horvath\n",
       "    <span style=\"font-size: 0.8em; font-weight: bold; line-height: 1; border-radius: 0.35em; vertical-align: middle; margin-left: 0.5rem\">I-NAME_STUDENT</span>\n",
       "</mark>\n",
       "<br><br>1 - Challenge<br><br>I work as a trainer and coach with teams of customer consultants and their leaders in the  German cooperative banking Sector. We had the following situation: The aim for the team is  providing excellent consultation and achieving good returns.   With digitalization they have to use a technical process with their customers, which is relatively  inﬂexible and in some points difﬁcult to handle. So the employees disliked the process. They felt  restricted in their skills and abilities.The conversation with the customers suffered. They needed  a lot more time and their proﬁts deteriorated.<br><br>We had a classic situation: ‚What does the company want?‘ and ‚What is the employee doing?‘<br><br>The consultants want to communicate with their customers on a friendly and personal level.  They have established a basis of trust to their customers and now they fear that the computer  as a ‚third person‘ stands between the customer and themselves like a foreign body.<br><br>2 - Tool &amp;  3 - Application<br><br>First we had collected a lot of representative statements by the employees. They wrote them  down on cards and were clustered on a pinboard. That was easy, because the people were  very emotional and talked about the stuff they didn’t like. So we had a good ‚What is?‘-data- basis.<br><br>So the group was ready to began generating ideas. And I used MindMapping to envision a new  future. (What if?)<br><br>MindMapping brings order to a chaos and gives new perspectives. As we had a confusing and  overwhelming situation, MindMapping gave the possibility to gain new perspectives, see  patterns and get insights they would not have expected.<br><br>Primarily it was necessary to describe a precise heading or goal, that stands in the middle. The  stakeholders searched a long time for a real short description: ‚Consultation that is fun for the  customer and for the consultant‘.   To get activity in the team, I let them work in little groups of 2 or 3 people. I gave them a mindset  to think about: 1 - It was clear that the computer based method was determined, so we didn’t  need to discuss this any longer. 2 - Now they need to look forward and ﬁnd a way and a routine  they can work with.  3 - Find a short and precise headline.<br><br>They can take a short walk outside to discuss or have a cup of coffee together. Finally they  have to reach an agreement all together in the big group to describe their goal.In the next step  they found two way-points that need to be solved.  ‚Getting close to the customers need‘ and ‚Get the computer-based process out of the focus‘<br><br>�1<br><br>Freitag, 16. Februar 2018<br><br>The best question in this phase was: ‚What, if anything is possible?‘  The group was really hard thinking for a while. Than they began to be creative. I tried to  complement the MindMap with pictures and learned that I need more competence in visual  thinking.  Nearly all ideas with steps and tools they described were still known and used in the past. They  used them before the technical process was implemented. In this way of visualization through  the MindMapping process the stakeholders were able to see it. In consequence it was possible  to ﬁnd answers to all the collected data from the ‚What is?‘-stage.<br><br>After that MindMapping it was easy for them to create a structure with all the steps in customer  contact. Every step from ‚Saying Hello‘ to ‚Asking for feedback‘ was written down with interfaces  for ‚Speaking with the customer‘, ‚Use paper or iPad to develop/draw cases, facts, solutions‘  and ‚Use the computer to get solutions done‘. This brief overview is available for all customer  consultants in the bank.<br><br>The next steps are: Creating the computer based process that follows the customer  conversation (not: the customer conversation has to follow the computer program). Testing the  new structure, keep a journal, improve the process, weekly short meetings to talk about  improvement -&gt; learn from each other. And a phase with Training on the job to become more  ﬁrmly established .<br><br>4 - Insights   The incredible effect of using visualization in combination with MindMapping is fantastic for  everyone. The employees had all the tools and procedures in their mind, but with the new  computer based consulting process they lost the ability to transfer it. On top there is no more  loss of time, or better: there is enough time for the conversation with the customer and the  computer is a tool, that is used when it make sense. The consultants were very optimistic after  that workshop.<br><br>With these insights (what visualization can cause) the consultants had the idea to involve their  own customers in creating the customer contact. That’s good news.<br><br>5 - Approach<br><br>Since visualization is such a powerful tool, I need to learn more visual thinking.<br><br>Design Thinking can be used in so many cases, so the transfer into different ﬁelds of  application is a wonderful challenge. Especially in conservative old school minds and  organizations. It needs good and profound stories to the leaders.<br><br>A good spot is to begin with small teams. Agile is not the solution for everyone. Leaders have to  go ﬁrst and need to invite their team to go together.<br><br>�2<br><br></div></span>"
      ],
      "text/plain": [
       "<IPython.core.display.HTML object>"
      ]
     },
     "metadata": {},
     "output_type": "display_data"
    }
   ],
   "source": [
    "PLR.render(documents_id=11644)"
   ]
  },
  {
   "cell_type": "code",
   "execution_count": null,
   "metadata": {},
   "outputs": [],
   "source": []
  }
 ],
 "metadata": {
  "kernelspec": {
   "display_name": ".venv",
   "language": "python",
   "name": "python3"
  },
  "language_info": {
   "codemirror_mode": {
    "name": "ipython",
    "version": 3
   },
   "file_extension": ".py",
   "mimetype": "text/x-python",
   "name": "python",
   "nbconvert_exporter": "python",
   "pygments_lexer": "ipython3",
   "version": "3.12.1"
  }
 },
 "nbformat": 4,
 "nbformat_minor": 2
}
