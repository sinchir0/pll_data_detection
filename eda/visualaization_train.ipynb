{
 "cells": [
  {
   "cell_type": "markdown",
   "metadata": {},
   "source": [
    "# 目的\n",
    "spaCyのdisplaCyを用いて、文章とタグを可視化する"
   ]
  },
  {
   "cell_type": "code",
   "execution_count": 1,
   "metadata": {},
   "outputs": [],
   "source": [
    "import polars as pl\n",
    "\n",
    "import spacy\n",
    "from spacy.tokens import Span\n",
    "from spacy import displacy"
   ]
  },
  {
   "cell_type": "code",
   "execution_count": 2,
   "metadata": {},
   "outputs": [],
   "source": [
    "# 一度だけ必要\n",
    "#!poetry run python -m spacy download en_core_web_sm"
   ]
  },
  {
   "cell_type": "code",
   "execution_count": 3,
   "metadata": {},
   "outputs": [],
   "source": [
    "# https://matplotlib.org/2.0.2/examples/color/named_colors.html\n",
    "options = {\n",
    "    \"colors\": {\n",
    "        \"B-NAME_STUDENT\": \"aqua\",\n",
    "        \"I-NAME_STUDENT\": \"aliceblue\",\n",
    "        \"B-EMAIL\": \"forestgreen\",\n",
    "        \"I-EMAIL\": \"greenyellow\",\n",
    "        \"B-USERNAME\": \"hotpink\",\n",
    "        \"I-USERNAME\": \"lightpink\",\n",
    "        \"B-ID_NUM\": \"purple\",\n",
    "        \"I-ID_NUM\": \"rebeccapurple\",\n",
    "        \"B-PHONE_NUM\": \"red\",\n",
    "        \"I-PHONE_NUM\": \"salmon\",\n",
    "        \"B-URL_PERSONAL\": \"slategrey\",\n",
    "        \"I-URL_PERSONAL\": \"silver\",\n",
    "        \"B-STREET_ADDRESS\": \"brown\",\n",
    "        \"I-STREET_ADDRESS\": \"chocolate\",\n",
    "    }\n",
    "}"
   ]
  },
  {
   "cell_type": "code",
   "execution_count": 4,
   "metadata": {},
   "outputs": [],
   "source": [
    "train = pl.read_json(\"../data/train.json\")"
   ]
  },
  {
   "cell_type": "code",
   "execution_count": 5,
   "metadata": {},
   "outputs": [],
   "source": [
    "documents = train.get_column(\"document\").to_list()\n",
    "full_texts = train.get_column(\"full_text\").to_list()\n",
    "labels = train.get_column(\"labels\").to_list()"
   ]
  },
  {
   "cell_type": "code",
   "execution_count": 6,
   "metadata": {},
   "outputs": [],
   "source": [
    "class PllLabelRenderer:\n",
    "    def __init__(\n",
    "        self,\n",
    "        documents: list[str],\n",
    "        full_texts: list[str],\n",
    "        labels: list[str],\n",
    "        options: dict[str, dict[str, str]],\n",
    "    ) -> None:\n",
    "        self.nlp = spacy.blank(\"en\")\n",
    "        self.documents = documents\n",
    "        self.full_texts = full_texts\n",
    "        self.labels = labels\n",
    "        self.options = options\n",
    "\n",
    "    def render(\n",
    "        self, render_idx: int | None = None, documents_id: int | None = None\n",
    "    ) -> None:\n",
    "        if render_idx and documents_id:\n",
    "            raise Exception(\"Don't Use Both render_idx and documents_id\")\n",
    "        if documents_id:\n",
    "            render_idx = self.documents.index(documents_id)\n",
    "        doc = self.nlp(self.full_texts[render_idx])\n",
    "        doc.ents = [\n",
    "            Span(doc, idx, idx + 1, label=label)\n",
    "            for idx, label in enumerate(self.labels[render_idx])\n",
    "            if label != \"O\"\n",
    "        ]\n",
    "        displacy.render(doc, style=\"ent\", jupyter=True, options=options)"
   ]
  },
  {
   "cell_type": "code",
   "execution_count": 7,
   "metadata": {},
   "outputs": [],
   "source": [
    "PLR = PllLabelRenderer(\n",
    "    documents=documents, full_texts=full_texts, labels=labels, options=options\n",
    ")"
   ]
  },
  {
   "cell_type": "code",
   "execution_count": 26,
   "metadata": {},
   "outputs": [
    {
     "data": {
      "text/html": [
       "<span class=\"tex2jax_ignore\"><div class=\"entities\" style=\"line-height: 2.5; direction: ltr\">\n",
       "<mark class=\"entity\" style=\"background: aqua; padding: 0.45em 0.6em; margin: 0 0.25em; line-height: 1; border-radius: 0.35em;\">\n",
       "    Juana\n",
       "    <span style=\"font-size: 0.8em; font-weight: bold; line-height: 1; border-radius: 0.35em; vertical-align: middle; margin-left: 0.5rem\">B-NAME_STUDENT</span>\n",
       "</mark>\n",
       " \n",
       "<mark class=\"entity\" style=\"background: aliceblue; padding: 0.45em 0.6em; margin: 0 0.25em; line-height: 1; border-radius: 0.35em;\">\n",
       "    Taylor\n",
       "    <span style=\"font-size: 0.8em; font-weight: bold; line-height: 1; border-radius: 0.35em; vertical-align: middle; margin-left: 0.5rem\">I-NAME_STUDENT</span>\n",
       "</mark>\n",
       "<br><br>Design Thinking for Innovation: June 7, 2020<br><br>Reflection: Visualization through Journey Mapping<br><br>Challenge<br><br>The design thinking tool that has been essential in driving innovation in my firm has been<br><br>Visualization though the use of Journey Mapping. Currently, I am supporting a Federal client within my  firm to assist with digitizing immigration benefits and improving the overall adjudication process for  those applying for citizenship. Currently, the adjudication process for citizenship has a multitude of  inefficiencies, from lengthy wait times ranging from 6 months to over a year to a large backlog of cases  for immigration service officers to parse through manually. Throughout the lifecycle of filing for  immigration benefits, there are opportunities to automate and modernize the existing adjudication  process.<br><br>Currently, I am spearheading an innovation initiative across my project in which I have tasked<br><br>team members to uncover a problem that our Federal client is facing, identify an opportunity that exists  for the team to provide value to the client, and prototype concepts yielding high value to the client.  Therefore, I recommended that all team members use journey mapping, a specific visualization tool, to  start this effort in order to understand the audience, outline the sequence of events, and uncover  unanswered needs. This will ultimately define the job to be done and areas of opportunities to  modernize the immigration process.<br><br>Selection<br><br>Using a journey map, we began with defining the “what is” for this innovation initiative to<br><br>improve the inefficient areas of the adjudication process for citizenship.  The end result was a  visualization that described step-by-step how a user interacts with the adjudication process. The process  is mapped from the user perspective, describing what happens at each stage of the interaction, what  touchpoints are involved, and what obstacles and barriers they may encounter while applying for  benefits. Overall, this journey mapping technique both visualized and identified differentiated value  propositions and opportunities for the adjudication innovation initiative.<br><br>Application<br><br>We started this exercise by reaching out to various stakeholders who have visibility into the<br><br>adjudication process for those applying for citizenship. We discussed the tensions that exist for  challenges within the adjudication process. This entire practice allowed us to not only explore the  current reality but also formulate an accurate assessment of what is happening today and identify the  unarticulated needs. Our interviews yielded a storytelling tool where we can put the applicant and  corresponding experience front and center, and can take the listener along the applicant’s journey to  attaining citizenship.<br><br>After gathering information on the adjudication process from these stakeholder interviews, we<br><br>summarized and visualized the lifecycle of the process into four categories: 1) arrival and sorting of  paper applications, 2) security and identity checks, 3) adjudicator reviews the application, 4)<br><br>\n",
       "<mark class=\"entity\" style=\"background: aqua; padding: 0.45em 0.6em; margin: 0 0.25em; line-height: 1; border-radius: 0.35em;\">\n",
       "    Juana\n",
       "    <span style=\"font-size: 0.8em; font-weight: bold; line-height: 1; border-radius: 0.35em; vertical-align: middle; margin-left: 0.5rem\">B-NAME_STUDENT</span>\n",
       "</mark>\n",
       " \n",
       "<mark class=\"entity\" style=\"background: aliceblue; padding: 0.45em 0.6em; margin: 0 0.25em; line-height: 1; border-radius: 0.35em;\">\n",
       "    Taylor\n",
       "    <span style=\"font-size: 0.8em; font-weight: bold; line-height: 1; border-radius: 0.35em; vertical-align: middle; margin-left: 0.5rem\">I-NAME_STUDENT</span>\n",
       "</mark>\n",
       "<br><br>Design Thinking for Innovation: June 7, 2020<br><br>adjudication team conducts final review before sending decision. Within these milestones, we further  defined and mapped the steps that occurs within each, noting systemic dependencies and lengthy steps  due to manual, repetitive, and time-consuming tasks. This action created an overall map from the entire  applicant’s journey to receiving immigration benefits that highlighted the overall challenges and  opportunities.<br><br>Insight<br><br>After mapping out the applicant’s journey, we parsed through the dependencies and<br><br>inefficiencies at each individual step. The major insight from this analysis exposed that applicants face a  lengthy and complex process where the reviewers need to make sense of data inconsistencies in  applications, redundant steps, and process dependencies resulting in downtime. There is a significant  opportunity to relieve taxed adjudicators through automating the highly manual and repetitive tasks.<br><br>For the first category, arrival and sorting of paper applications, we noted an opportunity to<br><br>tackle a highly manual and logistics-oriented process involving inputting data into system databases. For  the second stage of security and identity checks, there is value in finding an efficient method to  aggregate data while finding inaccurate information through the lens of security, fraud, and name  variation checks. For the third milestone where the adjudicator reviews the application, we noted the  challenge in which the adjudicator repeats multiple application check steps (e.g. security, fraud, and  name variation checks) and aggregates and synthesizes application data. In the last period when the  adjudication team conducts final reviews before sending the decision to the applicants, this task is  wholly redundant based on the previous milestones. By creating this journey map, we were able to gain  an understanding for the stakeholders' life, problems, and unarticulated needs and unravel the overall  adjudication process to identify challenges. The next step would include brainstorming possibilities to  address said challenges.<br><br>Approach<br><br>Aside from using the journey mapping exercise to outline the current reality, I would also<br><br>incorporate some projective techniques, such as open-ended ambiguous stimuli to attempt to uncover  hidden or deeper thoughts out of the stakeholders. Rather than guiding the conversation to understand  the overall steps that occur within the adjudication lifecycle, this additional technique would also have  provided an opportunity to take a step back and identify additional unarticulated needs within the  Federal agency. By employing both techniques, we would have had a thorough picture of the current  reality that can lead to concept development during the “what if” phase.<br><br></div></span>"
      ],
      "text/plain": [
       "<IPython.core.display.HTML object>"
      ]
     },
     "metadata": {},
     "output_type": "display_data"
    }
   ],
   "source": [
    "PLR.render(documents_id=12300)"
   ]
  },
  {
   "cell_type": "code",
   "execution_count": null,
   "metadata": {},
   "outputs": [],
   "source": []
  }
 ],
 "metadata": {
  "kernelspec": {
   "display_name": ".venv",
   "language": "python",
   "name": "python3"
  },
  "language_info": {
   "codemirror_mode": {
    "name": "ipython",
    "version": 3
   },
   "file_extension": ".py",
   "mimetype": "text/x-python",
   "name": "python",
   "nbconvert_exporter": "python",
   "pygments_lexer": "ipython3",
   "version": "3.12.1"
  }
 },
 "nbformat": 4,
 "nbformat_minor": 2
}
