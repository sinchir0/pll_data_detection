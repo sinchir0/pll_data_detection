{
 "cells": [
  {
   "cell_type": "markdown",
   "metadata": {},
   "source": [
    "# 目的\n",
    "spaCyのdisplaCyを用いて、文章とタグを可視化する"
   ]
  },
  {
   "cell_type": "code",
   "execution_count": 1,
   "metadata": {},
   "outputs": [],
   "source": [
    "import polars as pl\n",
    "\n",
    "import spacy\n",
    "from spacy.tokens import Span\n",
    "from spacy import displacy"
   ]
  },
  {
   "cell_type": "code",
   "execution_count": 2,
   "metadata": {},
   "outputs": [],
   "source": [
    "# 一度だけ必要\n",
    "#!poetry run python -m spacy download en_core_web_sm"
   ]
  },
  {
   "cell_type": "code",
   "execution_count": 2,
   "metadata": {},
   "outputs": [],
   "source": [
    "# https://matplotlib.org/2.0.2/examples/color/named_colors.html\n",
    "options = {\n",
    "    \"colors\": {\n",
    "        \"B-NAME_STUDENT\": \"aqua\",\n",
    "        \"I-NAME_STUDENT\": \"aliceblue\",\n",
    "        \"B-EMAIL\": \"forestgreen\",\n",
    "        \"I-EMAIL\": \"greenyellow\",\n",
    "        \"B-USERNAME\": \"hotpink\",\n",
    "        \"I-USERNAME\": \"lightpink\",\n",
    "        \"B-ID_NUM\": \"purple\",\n",
    "        \"I-ID_NUM\": \"rebeccapurple\",\n",
    "        \"B-PHONE_NUM\": \"red\",\n",
    "        \"I-PHONE_NUM\": \"salmon\",\n",
    "        \"B-URL_PERSONAL\": \"slategrey\",\n",
    "        \"I-URL_PERSONAL\": \"silver\",\n",
    "        \"B-STREET_ADDRESS\": \"brown\",\n",
    "        \"I-STREET_ADDRESS\": \"chocolate\",\n",
    "    }\n",
    "}"
   ]
  },
  {
   "cell_type": "code",
   "execution_count": 3,
   "metadata": {},
   "outputs": [],
   "source": [
    "train = pl.read_json(\"../data/train.json\")"
   ]
  },
  {
   "cell_type": "code",
   "execution_count": 4,
   "metadata": {},
   "outputs": [],
   "source": [
    "documents = train.get_column(\"document\").to_list()\n",
    "full_texts = train.get_column(\"full_text\").to_list()\n",
    "labels = train.get_column(\"labels\").to_list()"
   ]
  },
  {
   "cell_type": "code",
   "execution_count": 5,
   "metadata": {},
   "outputs": [],
   "source": [
    "class PllLabelRenderer:\n",
    "    def __init__(\n",
    "        self,\n",
    "        documents: list[str],\n",
    "        full_texts: list[str],\n",
    "        labels: list[str],\n",
    "        options: dict[str, dict[str, str]],\n",
    "    ) -> None:\n",
    "        self.nlp = spacy.blank(\"en\")\n",
    "        self.documents = documents\n",
    "        self.full_texts = full_texts\n",
    "        self.labels = labels\n",
    "        self.options = options\n",
    "\n",
    "    def render(\n",
    "        self, render_idx: int | None = None, documents_id: int | None = None\n",
    "    ) -> None:\n",
    "        if render_idx and documents_id:\n",
    "            raise Exception(\"Don't Use Both render_idx and documents_id\")\n",
    "        if documents_id:\n",
    "            render_idx = self.documents.index(documents_id)\n",
    "        doc = self.nlp(self.full_texts[render_idx])\n",
    "        doc.ents = [\n",
    "            Span(doc, idx, idx + 1, label=label)\n",
    "            for idx, label in enumerate(self.labels[render_idx])\n",
    "            if label != \"O\"\n",
    "        ]\n",
    "        displacy.render(doc, style=\"ent\", jupyter=True, options=options)"
   ]
  },
  {
   "cell_type": "code",
   "execution_count": 6,
   "metadata": {},
   "outputs": [],
   "source": [
    "PLR = PllLabelRenderer(\n",
    "    documents=documents, full_texts=full_texts, labels=labels, options=options\n",
    ")"
   ]
  },
  {
   "cell_type": "code",
   "execution_count": 7,
   "metadata": {},
   "outputs": [
    {
     "data": {
      "text/html": [
       "<span class=\"tex2jax_ignore\"><div class=\"entities\" style=\"line-height: 2.5; direction: ltr\">Gandhi Institute of Technology and Management   Higher School of Economics<br><br>Essay №1<br><br>on Economics course<br><br>Topic 7<br><br>“Why are people sometimes altruistic?”<br><br>\n",
       "<mark class=\"entity\" style=\"background: aqua; padding: 0.45em 0.6em; margin: 0 0.25em; line-height: 1; border-radius: 0.35em;\">\n",
       "    Stefano\n",
       "    <span style=\"font-size: 0.8em; font-weight: bold; line-height: 1; border-radius: 0.35em; vertical-align: middle; margin-left: 0.5rem\">B-NAME_STUDENT</span>\n",
       "</mark>\n",
       " \n",
       "<mark class=\"entity\" style=\"background: aliceblue; padding: 0.45em 0.6em; margin: 0 0.25em; line-height: 1; border-radius: 0.35em;\">\n",
       "    Lovato\n",
       "    <span style=\"font-size: 0.8em; font-weight: bold; line-height: 1; border-radius: 0.35em; vertical-align: middle; margin-left: 0.5rem\">I-NAME_STUDENT</span>\n",
       "</mark>\n",
       "<br><br>MDI-191 student<br><br>Sathyabama<br><br>April, 2020<br><br>In many classical economic theories, it is common to determine a human, as a very egoistic  creature. Adam Smith’s books (but not all of them) were wrote based on this idea also.  However, the conception of Homo economicus was introduced for the first time by John Stuart  Mill in the nineteens century and it assumes, that all human beings are consistently rational,  narrowly self-interested, and who pursue their subjectively-defined ends optimally1. However,  in our real life we face acts of altruism very often: our parents provide us with all necessary  goods, a lot of businessmen give money for charity and even strangers give money to homeless  people. So, it is very clear, that people do not necessarily acts in their own interests all the time,  they also tend to help others. But what makes them to do this? Why are people sometimes  altruistic?<br><br>Gerashchenko Igor in his article “The ethical teaching of A. Smith in the context of the modern  economy” writes, that altruism has been existing from the very times of primitive man, as a  single egoistic individual was not capable to survive out of his or her community. All resources  were so difficult to get, that the efforts of the whole pride were essential in struggle for  survival. The following way the system of social values, where helping other people is highly  appreciated, started to form. The ideology of individualism instead of collectivism has appeared  much time later, when the market economy gave us a possibility to live independently from  each other, or to form smaller communities, as nuclear families. But even now, in modern word  and in modern families, we can see people continue to act in altruistic way. So, let’s try to  discover, what other motives, besides ancient habit, do they have.<br><br>One of the mechanisms, which makes people act in altruistic way, is called reciprocal (or  mutual) altruism. It means, that individuals tend to help someone, who is likely to give  something back. But it doesn’t mean, that human beings are egoistic. People subconsciously  wait for the same attitude to them after performing altruistic actions (there the golden rule of  morality2 is taken place). Alexander Shmakov, the author of the article “The purpose for just  cooperation as a motive of economic behavior”, provides us with results of the experiment,  which shows the relevancy of the statement, which was made above:<br><br>Both of two players (A and B) were provided with a certain amount of money (a and b  respectively). Firstly, player A is asked to give a part of his money to player B, and after that  player B is also asked to give money to A. Both players are free to choose any amount of money  (x or y respectively) they want to give or not to give anything at all.<br><br>The rational strategy for both players will be not give money. Because in case, when A decided  to share, it would not be profitable for B to share money (b + xa — yb &lt; b + xa). And if A decided  not to give money, B would not give money either. However, in reality, when the experiment  took place, the results showed that 20 of 30 pairs of students shared their money. The average  received sum of money were 32,5% of the initial one. But in case, when one of the players<br><br>1 The definition is taken from https://en.wikipedia.org/wiki/Homo_economicus .  2 Treat people the way you want to be treated.<br><br>Player A / Player B  To give money  Not to give<br><br>To give money  a + yb — xa, b + xa — yb  a — xa, b + xa<br><br>Not to give  a + yb, b — yb  a, b<br><br>denied the opportunity of cooperation ones, in most of the cases it put the end for the future  transaction, as the condition of relicense was lost.<br><br>One more thing, which can help us to understand the phenomenon of altruism, is economic  games. There exist a lot of such games, but the most famous are “Dictator”, “Ultimatum” and  “The division of the public good”.  In “Dictator” game one the players receives a sum of money,  part of which he/she can give to another player. The rational behavior, which is expected from  the first person, is not to give anything, as only in this case he/she will get the maximum  possible profit. Strangely, but in 616 experiments3, which were carried out, an average given  sum was about 28,35% of the initial sum and only about 1/3 of all participants gave nothing. The  motive for such altruistic action is probably a sense of justice, as the first person did nothing in  order to get money, so he/she thinks, that it would be fair to share them.<br><br>Another explanation of altruism is people’s consciousness about their reputation. As I  mentioned above, altruism is socially approved behavior, so individuals, who are known for  helping people around, may be in more respect, than others. So, the motives for the altruistic  actions can be not only empathy, but also concern for the opinion of others.  Charity donations  are a good example of an altruistic action, which has a considerable impact in person’s  reputation. In most of the charity cases only small donations are made anonymously, but  names of people, who donate huge amounts of money, are usually well-known and numerous  times mentioned in newspapers, magazines and TV programs. So, philanthropists may expect  more support from the society, if they need, as they are known as a good person.<br><br>Developing the idea about philanthropy, we face another reason for being altruistic. This  motive is about being conscious of the future of the civilization, also known as communal  interest, which differ people from animals. People want to live in comfortable conditions,  where hospitals, education and other social institutions work well enough. So, they are ready to  contribute to the common good in order to provide their families and themselves with better  life. That is why the idea of social altruism appeared. Scientists faced the fact, that they are  unable to explain why people continue help others even, when they do not have any filiation at  all. This type of behavior started to take place, when human’s intentions goes beyond family  and reputational altruism. Ernst Fehr and Urs Fischbacher in their article “Nature of human  altruism” call this phenomenon a strong reciprocity, which works under the possibility of  altruistic remuneration or altruistic punishment (stigmatization).<br><br>Taking all things into consideration, we can conclude, that altruism has a significant economic  effect not only on one particular person or a small social group, but on the whole society. And  strange, as it may seem, altruistic behavior can be profitable for the altruist as well as for  someone, who receives help. Moreover, many social organizations, even economic ones, would  not work at all, if people behaved themselves only in egoistic way, as due to desire to get the  maximum possible profit people may break adopted regulations, what may ruin the whole  system.<br><br>3 Kazantseva T.V. Altruism: the phenomenon and operationalization (https://cyberleninka.ru/article/n/stremlenie- k-spravedlivomu-sotrudnichestvu-kak-motiv-ekonomicheskogo-povedeniya)<br><br>Sources:<br><br>1. Gerashchenko I.G. A. Smith's Ethical Teaching in the Context of the Modern Economy //<br><br>Credo new (http://www.intelros.ru/readroom/credo_new/k3-2018/36398-eticheskoe- uchenie-asmita-v-kontekste-sovremennoy-ekonomiki.html).<br><br>2. Shmakov A.V. PURPOSE FOR JUST COOPERATION AS MOTIVES OF ECONOMIC BEHAVIOR<br><br>// Terra Economicus. 2010. (https://cyberleninka.ru/article/n/14398333).<br><br>3. Kazantseva T.V. Altruism: the phenomenon and operationalization<br><br>(https://cyberleninka.ru/article/n/stremlenie-k-spravedlivomu-sotrudnichestvu-kak- motiv-ekonomicheskogo-povedeniya) .<br><br>4. Andreoni J. Philanthropy // Handbook of Giving, Altruism, and Reciprocity. Vol. 2 / S.<br><br>Kolm, J. Ythier (eds.). Amsterdam; L.; N. Y.: Elsevier, 2006. P. 1201-1265.  (https://econweb.ucsd.edu/~jandreon/WorkingPapers/Philanthropy.pdf)<br><br>5. Fehr E., Schmidt K. M. The economics of fairness, reciprocity and altruism–experimental<br><br>evidence and new theories // Handbook of the economics of giving, altruism and  reciprocity. 2006.( https://www.melessa.uni- muenchen.de/team/vorstandssprecher/schmidt/publikationen/papers/reciprocalt.pdf)<br><br></div></span>"
      ],
      "text/plain": [
       "<IPython.core.display.HTML object>"
      ]
     },
     "metadata": {},
     "output_type": "display_data"
    }
   ],
   "source": [
    "PLR.render(render_idx=9)"
   ]
  },
  {
   "cell_type": "code",
   "execution_count": 8,
   "metadata": {},
   "outputs": [
    {
     "data": {
      "text/html": [
       "<span class=\"tex2jax_ignore\"><div class=\"entities\" style=\"line-height: 2.5; direction: ltr\">\n",
       "<mark class=\"entity\" style=\"background: aqua; padding: 0.45em 0.6em; margin: 0 0.25em; line-height: 1; border-radius: 0.35em;\">\n",
       "    Waseem\n",
       "    <span style=\"font-size: 0.8em; font-weight: bold; line-height: 1; border-radius: 0.35em; vertical-align: middle; margin-left: 0.5rem\">B-NAME_STUDENT</span>\n",
       "</mark>\n",
       " \n",
       "<mark class=\"entity\" style=\"background: aliceblue; padding: 0.45em 0.6em; margin: 0 0.25em; line-height: 1; border-radius: 0.35em;\">\n",
       "    Mabunda\n",
       "    <span style=\"font-size: 0.8em; font-weight: bold; line-height: 1; border-radius: 0.35em; vertical-align: middle; margin-left: 0.5rem\">I-NAME_STUDENT</span>\n",
       "</mark>\n",
       "  \n",
       "<mark class=\"entity\" style=\"background: brown; padding: 0.45em 0.6em; margin: 0 0.25em; line-height: 1; border-radius: 0.35em;\">\n",
       "    591\n",
       "    <span style=\"font-size: 0.8em; font-weight: bold; line-height: 1; border-radius: 0.35em; vertical-align: middle; margin-left: 0.5rem\">B-STREET_ADDRESS</span>\n",
       "</mark>\n",
       " \n",
       "<mark class=\"entity\" style=\"background: chocolate; padding: 0.45em 0.6em; margin: 0 0.25em; line-height: 1; border-radius: 0.35em;\">\n",
       "    Smith\n",
       "    <span style=\"font-size: 0.8em; font-weight: bold; line-height: 1; border-radius: 0.35em; vertical-align: middle; margin-left: 0.5rem\">I-STREET_ADDRESS</span>\n",
       "</mark>\n",
       " \n",
       "<mark class=\"entity\" style=\"background: chocolate; padding: 0.45em 0.6em; margin: 0 0.25em; line-height: 1; border-radius: 0.35em;\">\n",
       "    Centers\n",
       "    <span style=\"font-size: 0.8em; font-weight: bold; line-height: 1; border-radius: 0.35em; vertical-align: middle; margin-left: 0.5rem\">I-STREET_ADDRESS</span>\n",
       "</mark>\n",
       " \n",
       "<mark class=\"entity\" style=\"background: chocolate; padding: 0.45em 0.6em; margin: 0 0.25em; line-height: 1; border-radius: 0.35em;\">\n",
       "    Apt\n",
       "    <span style=\"font-size: 0.8em; font-weight: bold; line-height: 1; border-radius: 0.35em; vertical-align: middle; margin-left: 0.5rem\">I-STREET_ADDRESS</span>\n",
       "</mark>\n",
       "\n",
       "<mark class=\"entity\" style=\"background: chocolate; padding: 0.45em 0.6em; margin: 0 0.25em; line-height: 1; border-radius: 0.35em;\">\n",
       "    .\n",
       "    <span style=\"font-size: 0.8em; font-weight: bold; line-height: 1; border-radius: 0.35em; vertical-align: middle; margin-left: 0.5rem\">I-STREET_ADDRESS</span>\n",
       "</mark>\n",
       " \n",
       "<mark class=\"entity\" style=\"background: chocolate; padding: 0.45em 0.6em; margin: 0 0.25em; line-height: 1; border-radius: 0.35em;\">\n",
       "    656\n",
       "    <span style=\"font-size: 0.8em; font-weight: bold; line-height: 1; border-radius: 0.35em; vertical-align: middle; margin-left: 0.5rem\">I-STREET_ADDRESS</span>\n",
       "</mark>\n",
       "\n",
       "<mark class=\"entity\" style=\"background: chocolate; padding: 0.45em 0.6em; margin: 0 0.25em; line-height: 1; border-radius: 0.35em;\">\n",
       "    \n",
       "\n",
       "    <span style=\"font-size: 0.8em; font-weight: bold; line-height: 1; border-radius: 0.35em; vertical-align: middle; margin-left: 0.5rem\">I-STREET_ADDRESS</span>\n",
       "</mark>\n",
       "\n",
       "<mark class=\"entity\" style=\"background: chocolate; padding: 0.45em 0.6em; margin: 0 0.25em; line-height: 1; border-radius: 0.35em;\">\n",
       "    Joshuamouth\n",
       "    <span style=\"font-size: 0.8em; font-weight: bold; line-height: 1; border-radius: 0.35em; vertical-align: middle; margin-left: 0.5rem\">I-STREET_ADDRESS</span>\n",
       "</mark>\n",
       "\n",
       "<mark class=\"entity\" style=\"background: chocolate; padding: 0.45em 0.6em; margin: 0 0.25em; line-height: 1; border-radius: 0.35em;\">\n",
       "    ,\n",
       "    <span style=\"font-size: 0.8em; font-weight: bold; line-height: 1; border-radius: 0.35em; vertical-align: middle; margin-left: 0.5rem\">I-STREET_ADDRESS</span>\n",
       "</mark>\n",
       " \n",
       "<mark class=\"entity\" style=\"background: chocolate; padding: 0.45em 0.6em; margin: 0 0.25em; line-height: 1; border-radius: 0.35em;\">\n",
       "    RI\n",
       "    <span style=\"font-size: 0.8em; font-weight: bold; line-height: 1; border-radius: 0.35em; vertical-align: middle; margin-left: 0.5rem\">I-STREET_ADDRESS</span>\n",
       "</mark>\n",
       " \n",
       "<mark class=\"entity\" style=\"background: chocolate; padding: 0.45em 0.6em; margin: 0 0.25em; line-height: 1; border-radius: 0.35em;\">\n",
       "    95963\n",
       "    <span style=\"font-size: 0.8em; font-weight: bold; line-height: 1; border-radius: 0.35em; vertical-align: middle; margin-left: 0.5rem\">I-STREET_ADDRESS</span>\n",
       "</mark>\n",
       " ( The Netherlands)  \n",
       "<mark class=\"entity\" style=\"background: red; padding: 0.45em 0.6em; margin: 0 0.25em; line-height: 1; border-radius: 0.35em;\">\n",
       "    410.526.1667\n",
       "    <span style=\"font-size: 0.8em; font-weight: bold; line-height: 1; border-radius: 0.35em; vertical-align: middle; margin-left: 0.5rem\">B-PHONE_NUM</span>\n",
       "</mark>\n",
       "  vpi@mn.nl<br><br>Mind Mapping,      Challenge:     For several years I have been working for an Asset manager in the Netherlands. During this period I have been involved in many  projects. Certainly in the world of asset management, much has changed in recent years in the area of Law and Regulations.  What I mainly experience in these projects is that all departments have a different interest in starting a new project. This  certainly does not benefit the project. How do you get everyone to complete a project in the common interest and how do you  motivate everyone who participate in the project?    Selection:    An improvement project can be approached in different ways. The most common way is the scrum approach. We work in  multidisciplinary teams that work in short sprints, with a fixed length of 1 to 4 weeks. Cooperation is very important and  everyone must be able to respond quickly to changing circumstances. Scrum is based on the theory of empirical process  control, or empiricism. Empiricism assumes that knowledge arises from experience and making decisions based on what is  known.     I chose mind mapping because I am looking for a way to show the creativity colleagues always have at the start of a project,  to  keep this up to date and very important to keep it visible.   But also with the thoughts to keep colleagues motivated and to show how their creativity contributes to the project.    So I want to see if scrum can be combined with Design Thinking and especially with Mind mapping.    Application:    When starting a new project at work, I checked whether it is workable to combine the scrum approach with Mind Mapping. The  central theme was to increase the STP (Straight through processing) rate for a specific product that we trade with an x  percentage.    As a scrum team, we have tried to provide insight into the various topics related to the 'increase STP rate' via a paper diagram.  Each team member could indicate in this diagram his or her creativity which related to increasing the STP rate.    After this we went to see if there was a connection between certain ideas. We quickly learned that certain ideas could be  combined and that certain steps in the project could be skipped. By combining scrum work and mind mapping, we were able to  go live with implementation faster and increase STP speed step by step.    By making the project visible through a diagram, colleagues also indicated that this gave them more energy to participate in the  project.<br><br>D e s i g n  T h i n k i n g<br><br>Insight:    The insight I got to combine scrum with mind mapping (Design thinking) is that if you make everyone's creativity and thinking  visible through Mind mapping, you will come sooner to a solid solution to complete a project. The feedback we received is that  it also gives more energy to colleagues who have participated in this project.     The biggest challenge was to create support for this new way of working.     At the beginning of the project, we showed a short video of how mind mapping works. This gave us immediate support from  our fellow team members to combine scrum with mind mapping.      \n",
       "<mark class=\"entity\" style=\"background: slategrey; padding: 0.45em 0.6em; margin: 0 0.25em; line-height: 1; border-radius: 0.35em;\">\n",
       "    https://www.youtube.com/watch?v=tIBN9VJ0S4a\n",
       "    <span style=\"font-size: 0.8em; font-weight: bold; line-height: 1; border-radius: 0.35em; vertical-align: middle; margin-left: 0.5rem\">B-URL_PERSONAL</span>\n",
       "</mark>\n",
       "    The conclusion is that you definitely can combine scrum and Design thinking.    Approach:    In terms of approach, I wouldn't be much different from what I did in this project. I only see advantages of combining scrum  with mind mapping. As described in the alinia insight, there are only benefits.<br><br></div></span>"
      ],
      "text/plain": [
       "<IPython.core.display.HTML object>"
      ]
     },
     "metadata": {},
     "output_type": "display_data"
    }
   ],
   "source": [
    "PLR.render(documents_id=9854)"
   ]
  },
  {
   "cell_type": "code",
   "execution_count": 45,
   "metadata": {},
   "outputs": [
    {
     "data": {
      "text/html": [
       "<span class=\"tex2jax_ignore\"><div class=\"entities\" style=\"line-height: 2.5; direction: ltr\">\n",
       "<mark class=\"entity\" style=\"background: aqua; padding: 0.45em 0.6em; margin: 0 0.25em; line-height: 1; border-radius: 0.35em;\">\n",
       "    Pepa\n",
       "    <span style=\"font-size: 0.8em; font-weight: bold; line-height: 1; border-radius: 0.35em; vertical-align: middle; margin-left: 0.5rem\">B-NAME_STUDENT</span>\n",
       "</mark>\n",
       " \n",
       "<mark class=\"entity\" style=\"background: aliceblue; padding: 0.45em 0.6em; margin: 0 0.25em; line-height: 1; border-radius: 0.35em;\">\n",
       "    Medrano\n",
       "    <span style=\"font-size: 0.8em; font-weight: bold; line-height: 1; border-radius: 0.35em; vertical-align: middle; margin-left: 0.5rem\">I-NAME_STUDENT</span>\n",
       "</mark>\n",
       "<br><br>Design Thinking for Innovation  April 2, 2020<br><br>Mind Mapping<br><br>Challenge:<br><br>I am on the Artist Relations team at a music sync company.  My job includes<br><br>organizing and listening to all the new music submissions that are sent to the label and  communicating with the creative department about possible signings. The creative team  pitches music to music supervisors and are aware of current trends and needs for TV,  Film, and Ads so they are a huge asset to the A&amp;R team and our decision making  process. The challenge often encountered in the company is a lack of communication  between these two departments about new music. It’s often a challenge to get the  creative department to send back feedback on possible signings in a timely manner.  There is currently not a specific tool that is used for feedback so information gets lost in  emails. It creates confusion for the A&amp;R team as well as the potential signings. The label  lacks an effective communication system to circulate and listen to new music in order  for the A&amp;R team to sign new artists into the catalog quickly to match requests and  trends. The project is to build an effective online process to create a clear flow of  communication between the A&amp;R team and the creative department. A process where  information on new artists, their music, and the creative team’s feedback, are organized  clearly and sent back to the A&amp;R team smoothly in order for us to make final decisions.<br><br>Selection:<br><br>I decided to select the mind mapping tool to begin the innovative thinking<br><br>process. Mind Mapping is a brainstorming method often used to fuel a creative mindset  by using illustrations and graphs to express ideas. By using a visual tool to generate  concepts, it helps to collect, analyze, and structure new thoughts to create a better  understanding of the subject/challenge. I selected mind mapping for my challenge  because I am currently in the stage where I have identified the issue and need a place to  represent my information and ideas to create a hypothesis.<br><br>Application:<br><br>I used Adobe Illustrator to put together a mind map of my ideas (see below). I think it  was applied very effectively. Using mind mapping enabled me to let my thoughts flow.<br><br>DESIGN THINKING FOR INNOVATION\t �1<br><br>The current illustration will now help my team and I narrow down the best hypothesis  to move forward with the creation of this online communication portal.<br><br>Insight:<br><br>Mind mapping removes the pressure of coming up with a great idea/thought on<br><br>the first try. It allows your mind to flow freely without judgement. You’re not necessarily  looking for a hypothesis right away, you’re collecting key words and connections that  then creates a large visual map. The map helps you see all these connections in front of  you, which I realized helped me significantly! It also is a great tool for the entire team.  Mind mapping can be done in a group or individually to fuel understanding and  creativity.<br><br>DESIGN THINKING FOR INNOVATION\t �2<br><br>Regarding the specific challenge of creating an online communication system<br><br>between the A&amp;R department and the creative team, I found that the best system  includes both an online method and an in person meeting. I also found that it went  further than just creating a tool with the creative team. We also would benefit from a  submission page on our main website for artists to submit their music to us. The A&amp;R  team was mostly receiving our submissions through email, which left my inbox often  cluttered. By creating a page for artists to access, it creates a more organized place for  me to handle the submissions and listen through. I also realized that we need to narrow  down the music we send to the creative team. They were receiving too much and could  not handle all the music, on top of the tasks they were already doing. By limiting  unsolicited music, we will be able to narrow down our submissions and focus on what’s  really needed. My idea is to create a private page on our website that only the company  can access where the A&amp;R team updates the page with new music to listen to. There will  be a space for feedback and also a deadline. When the A&amp;R team updates the page, an  email notification is automatically sent ot the creative team. When the creative team  submits their feedback, a notification is then sent to the A&amp;R team.  In addition to the  online page, I am thinking of implementing a monthly or biweekly creative meeting  where the A&amp;R team and the creative team get together to discuss trends, new signings,  needs, etc.<br><br>Approach:<br><br>I think mind mapping is a really great, versatile tool that can be used lightly with<br><br>just a few thoughts or expanded into a whole wall of ideas and connections. Next time, I  would expand the map even further and dig a bit deeper into the brainstorming.<br><br>DESIGN THINKING FOR INNOVATION\t �3<br><br></div></span>"
      ],
      "text/plain": [
       "<IPython.core.display.HTML object>"
      ]
     },
     "metadata": {},
     "output_type": "display_data"
    }
   ],
   "source": [
    "PLR.render(render_idx=11)"
   ]
  },
  {
   "cell_type": "code",
   "execution_count": null,
   "metadata": {},
   "outputs": [],
   "source": []
  }
 ],
 "metadata": {
  "kernelspec": {
   "display_name": ".venv",
   "language": "python",
   "name": "python3"
  },
  "language_info": {
   "codemirror_mode": {
    "name": "ipython",
    "version": 3
   },
   "file_extension": ".py",
   "mimetype": "text/x-python",
   "name": "python",
   "nbconvert_exporter": "python",
   "pygments_lexer": "ipython3",
   "version": "3.12.1"
  }
 },
 "nbformat": 4,
 "nbformat_minor": 2
}
