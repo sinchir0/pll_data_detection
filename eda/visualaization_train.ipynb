{
 "cells": [
  {
   "cell_type": "markdown",
   "metadata": {},
   "source": [
    "# 目的\n",
    "spaCyのdisplaCyを用いて、文章とタグを可視化する"
   ]
  },
  {
   "cell_type": "code",
   "execution_count": 2,
   "metadata": {},
   "outputs": [],
   "source": [
    "import polars as pl\n",
    "\n",
    "import spacy\n",
    "from spacy.tokens import Span\n",
    "from spacy import displacy"
   ]
  },
  {
   "cell_type": "code",
   "execution_count": 3,
   "metadata": {},
   "outputs": [],
   "source": [
    "# 一度だけ必要\n",
    "#!poetry run python -m spacy download en_core_web_sm"
   ]
  },
  {
   "cell_type": "code",
   "execution_count": 4,
   "metadata": {},
   "outputs": [],
   "source": [
    "# https://matplotlib.org/2.0.2/examples/color/named_colors.html\n",
    "options = {\n",
    "    \"colors\": {\n",
    "        \"B-NAME_STUDENT\": \"aqua\",\n",
    "        \"I-NAME_STUDENT\": \"aliceblue\",\n",
    "        \"B-EMAIL\": \"forestgreen\",\n",
    "        \"I-EMAIL\": \"greenyellow\",\n",
    "        \"B-USERNAME\": \"hotpink\",\n",
    "        \"I-USERNAME\": \"lightpink\",\n",
    "        \"B-ID_NUM\": \"purple\",\n",
    "        \"I-ID_NUM\": \"rebeccapurple\",\n",
    "        \"B-PHONE_NUM\": \"red\",\n",
    "        \"I-PHONE_NUM\": \"salmon\",\n",
    "        \"B-URL_PERSONAL\": \"slategrey\",\n",
    "        \"I-URL_PERSONAL\": \"silver\",\n",
    "        \"B-STREET_ADDRESS\": \"brown\",\n",
    "        \"I-STREET_ADDRESS\": \"chocolate\",\n",
    "    }\n",
    "}"
   ]
  },
  {
   "cell_type": "code",
   "execution_count": 5,
   "metadata": {},
   "outputs": [],
   "source": [
    "train = pl.read_json(\"../data/train.json\")"
   ]
  },
  {
   "cell_type": "code",
   "execution_count": 6,
   "metadata": {},
   "outputs": [],
   "source": [
    "documents = train.get_column(\"document\").to_list()\n",
    "tokens = train.get_column(\"tokens\").to_list()\n",
    "# full_texts = pii_dataset_fixed.get_column(\"text\").to_list()\n",
    "labels = train.get_column(\"labels\").to_list()"
   ]
  },
  {
   "cell_type": "code",
   "execution_count": 7,
   "metadata": {},
   "outputs": [],
   "source": [
    "# class PllLabelRenderer:\n",
    "#     def __init__(\n",
    "#         self,\n",
    "#         documents: list[str],\n",
    "#         full_texts: list[str],\n",
    "#         labels: list[str],\n",
    "#         options: dict[str, dict[str, str]],\n",
    "#     ) -> None:\n",
    "#         self.nlp = spacy.blank(\"en\")\n",
    "#         self.documents = documents\n",
    "#         self.full_texts = full_texts\n",
    "#         self.labels = labels\n",
    "#         self.options = options\n",
    "\n",
    "#     def render(\n",
    "#         self, render_idx: int | None = None, documents_id: int | None = None\n",
    "#     ) -> None:\n",
    "#         if render_idx and documents_id:\n",
    "#             raise Exception(\"Don't Use Both render_idx and documents_id\")\n",
    "#         if documents_id:\n",
    "#             render_idx = self.documents.index(documents_id)\n",
    "#         doc = self.nlp(self.full_texts[render_idx])\n",
    "#         doc.ents = [\n",
    "#             Span(doc, idx, idx + 1, label=label)\n",
    "#             for idx, label in enumerate(self.labels[render_idx])\n",
    "#             if label != \"O\"\n",
    "#         ]\n",
    "#         displacy.render(doc, style=\"ent\", jupyter=True, options=options)"
   ]
  },
  {
   "cell_type": "code",
   "execution_count": 8,
   "metadata": {},
   "outputs": [],
   "source": [
    "import spacy\n",
    "from spacy.tokens import Span, Doc\n",
    "from spacy import displacy\n",
    "\n",
    "# https://matplotlib.org/2.0.2/examples/color/named_colors.html\n",
    "options = {\n",
    "    \"colors\": {\n",
    "        \"B-NAME_STUDENT\": \"aqua\",\n",
    "        \"I-NAME_STUDENT\": \"aliceblue\",\n",
    "        \"B-EMAIL\": \"forestgreen\",\n",
    "        \"I-EMAIL\": \"greenyellow\",\n",
    "        \"B-USERNAME\": \"hotpink\",\n",
    "        \"I-USERNAME\": \"lightpink\",\n",
    "        \"B-ID_NUM\": \"purple\",\n",
    "        \"I-ID_NUM\": \"rebeccapurple\",\n",
    "        \"B-PHONE_NUM\": \"red\",\n",
    "        \"I-PHONE_NUM\": \"salmon\",\n",
    "        \"B-URL_PERSONAL\": \"slategrey\",\n",
    "        \"I-URL_PERSONAL\": \"silver\",\n",
    "        \"B-STREET_ADDRESS\": \"brown\",\n",
    "        \"I-STREET_ADDRESS\": \"chocolate\",\n",
    "    }\n",
    "}\n",
    "\n",
    "\n",
    "class PiiLabelRenderer:\n",
    "    def __init__(\n",
    "        self,\n",
    "        documents: list[str],\n",
    "        tokens: list[str],\n",
    "        labels: list[str],\n",
    "        options: dict[str, dict[str, str]],\n",
    "    ) -> None:\n",
    "        self.documents = documents\n",
    "        self.tokens = tokens\n",
    "        self.labels = labels\n",
    "        self.options = options\n",
    "        self.nlp = spacy.blank(\"en\")\n",
    "\n",
    "    def get_original_text(\n",
    "        self, render_idx: int | None = None, documents_id: int | None = None\n",
    "    ) -> str:\n",
    "        if render_idx and documents_id:\n",
    "            raise Exception(\"Don't Use Both render_idx and documents_id\")\n",
    "        if documents_id:\n",
    "            render_idx = self.documents.index(documents_id)\n",
    "\n",
    "        return \" \".join(self.tokens[render_idx])\n",
    "\n",
    "    def render(\n",
    "        self, render_idx: int | None = None, documents_id: int | None = None\n",
    "    ) -> None:\n",
    "        if render_idx and documents_id:\n",
    "            raise Exception(\"Don't Use Both render_idx and documents_id\")\n",
    "        if documents_id:\n",
    "            render_idx = self.documents.index(documents_id)\n",
    "\n",
    "        doc = Doc(self.nlp.vocab, words=self.tokens[render_idx])\n",
    "        # エンティティをDocに追加\n",
    "        ents = []\n",
    "        label_seq: list[str] = self.labels[render_idx]\n",
    "        for i, label in enumerate(label_seq):\n",
    "            if label == \"O\":\n",
    "                continue\n",
    "            ents.append(Span(doc, start=i, end=i + 1, label=label))\n",
    "\n",
    "        doc.ents = ents\n",
    "\n",
    "        displacy.render(doc, style=\"ent\", jupyter=True, options=options)"
   ]
  },
  {
   "cell_type": "code",
   "execution_count": 9,
   "metadata": {},
   "outputs": [],
   "source": [
    "PLR = PiiLabelRenderer(\n",
    "    documents=documents, tokens=tokens, labels=labels, options=options\n",
    ")"
   ]
  },
  {
   "cell_type": "code",
   "execution_count": 10,
   "metadata": {},
   "outputs": [
    {
     "data": {
      "text/html": [
       "<span class=\"tex2jax_ignore\"><div class=\"entities\" style=\"line-height: 2.5; direction: ltr\">STORY TELLING AS A TOOL FOR KNOWLEDGE TRANSFER TO COMMUNITY : A <br><br> CASE STUDY OF COVID-19 <br><br> \n",
       "<mark class=\"entity\" style=\"background: aqua; padding: 0.45em 0.6em; margin: 0 0.25em; line-height: 1; border-radius: 0.35em;\">\n",
       "    Davide\n",
       "    <span style=\"font-size: 0.8em; font-weight: bold; line-height: 1; border-radius: 0.35em; vertical-align: middle; margin-left: 0.5rem\">B-NAME_STUDENT</span>\n",
       "</mark>\n",
       " \n",
       "<mark class=\"entity\" style=\"background: aliceblue; padding: 0.45em 0.6em; margin: 0 0.25em; line-height: 1; border-radius: 0.35em;\">\n",
       "    Carletti\n",
       "    <span style=\"font-size: 0.8em; font-weight: bold; line-height: 1; border-radius: 0.35em; vertical-align: middle; margin-left: 0.5rem\">I-NAME_STUDENT</span>\n",
       "</mark>\n",
       " <br><br> Vice Chancellor , Marias Gamesa , Ludhiana , India <br><br> The Subject :   Pandemic of COVID-19 <br><br> The novel corona virus and the Covid-19 disease it causes , have become the <br><br> gravest public - health threat across the   globe , and on March 11 , 2020    the WHO <br><br> declared it as a pandemic . Like in other nations , it has put pan India on the super alert <br><br> mode . Almost all organizations and departments , public or private , are now working <br><br> from home . <br><br> As a preventive measure and to ensure social distancing , faculty , staff and <br><br> students have   been given a   break till   further orders under the instructions of the <br><br> Government , Higher Education Department and UGC . The lockdown is likely to be <br><br> extended further . <br><br> The Marias Gamesa is fully concerned that the endangered pandemic situation <br><br> which is beyond control should not cause academic loss of students . It has discontinued <br><br> classroom   instruction   and   moved   classes   online   as   one   of   the   ways   to   help <br><br> students continue their studies when the university is closed . <br><br> The Challenge for Knowledge Transfer Regarding COVID-19 <br><br> Knowledge flow and knowledge transfer are strategically vital to organizations for <br><br> several reasons .   For a deadly healthcare problem like COVID-19 , the knowledge flow <br><br> should be accurate , timely and continuous . The biggest challenge is to stop the spread <br><br> of the virus and take the needed precautions to stop its entering the community phase . <br><br> In view of this , the present   activity   was selected so that Marias Gamesa could <br><br> perform its intended duty of knowledge flow and transfer to its faculty , staff , students <br><br> and other stakeholders . As its Vice Chancellor , I deemed it proper to identify the task of <br><br> Story Telling to carry   out the activity effectively . <br><br> The Case Study of Story Telling <br><br> The story telling for knowledge transfer facilitates the better co - ordination of work <br><br> flow linking multiple sub - units and people . Furthermore , it can enable the organizations <br><br> to focus on emerging   opportunities requiring the collaboration of   related sub - units . The <br><br> present case study is therefore selected as : <br><br> “ Story telling as a tool for knowledge transfer to community : a case study of COVID-19 ” <br><br> Selection of the Tool Design <br><br> I have purposely selected Story Telling ( Module 2 ) for my task of spreading <br><br> awareness as to what precautions can be used to keep the virus at bay and how to stay <br><br> protected .   Since the prevention is better than cure and one has to focus on one ’s own <br><br> protection first , the story telling can help propagate the guidelines such as : <br><br>  Social distancing , <br><br>  Staying at home , <br><br>  Sanitizing the stuffs and hands using sanitizers or washing with soap and water <br><br>  Following a sequencing of activities involving surface contamination <br><br>  Observing all directives of the government , statuary bodies and the WHO , etc . <br><br> I consider the topic I chose for my case presentation can be better dealt with this <br><br> module of Story Telling . <br><br> 1 . I   took   story   telling   in   groups   of   students ,   faculty ,   parents   and   volunteers <br><br> ( mentors ) . The origin of virus , its contagiousness , spread and precautions were <br><br> told in vernacular terms <br><br> 2 . The   benefits   of using   sanitizers , washing   hands with   foaming   soaps for 20 <br><br> seconds   repeatedly ,   sharing   importance   of   cleaning   door   handles ,   valets , <br><br> keyrings , currency notes , shoes , etc . was highlighted in the story . <br><br> 3 . The feedback and personal experience of others were asked <br><br> 4 . Including the feedback in subsequent stories for other groups were useful <br><br> 5 . The story telling was undertaken in an interactive way <br><br> 6 . The story telling involved the listeners to be story tellers in their own way <br><br> 7 . The transfer of knowledge was made easy by including ideoms and proverbs <br><br> during the talk . <br><br> Description of My Reflection <br><br>  The challenge description of the case study   provides   description in adequate   details . <br><br>  The example   describes the selected tool including the needed information is a   useful way <br><br>  The description of tool has been given in adequate details . It indicates how the   activities were done . <br><br>  The    insight description of the case has been given . <br><br>  Since the case study is being taken up under a situation beyond control , the   alternative approach has not been suggested . <br><br>  The description given here is adequate and useful <br><br> The story telling is an effective tool to communicate the information about the <br><br> COVID-19 to the community and to disseminate the effective preventive measures . <br><br> Application of the Tool <br><br> The Marias Gamesa took an initiative of On - line Education . The free digital content <br><br> along with relevant links , resource material are made available to students without any <br><br> charges . The content is in conformity with the curriculum and has been devised to <br><br> impart chapter wise and topic wise learning and assessment . The online access is <br><br> available either on android mobile , phone , tablet , laptop or desk top .   The teachers have <br><br> prepared daily task format on Google sheets and the same is followed and monitored by <br><br> higher authorities on daily basis . <br><br> The   faculty   is   delivering   online   deliberations   in   interactive   mode   –   video <br><br> conferencing , and Skype . The subject matter notes , resource material , questionnaire , <br><br> etc . , are provided to students through the Google Class Rooms generated by the ERP <br><br> System of the University . The links of useful video clippings , webinars , simulators , ppts , <br><br> slide shows and recorded talks are being shared among students .   The students speak , <br><br> ask questions , and take part in the discussion with their teachers . <br><br> Not only for students , University has also taken a step forward by going Digital <br><br> and successfully implemented ERP solution in just a time span of four months with such <br><br> a   big   success to achieve   paperless university .   This module   is functional   for staff , <br><br> students , administration and various other sections . The students , who are still in the <br><br> hostels have been provided wireless internet hotspots facilitating them to use WiFi to <br><br> complete course work and log on classes . The ppts are loaded with voice over for topics <br><br> relevant to the courses . <br><br> Assignments topics are being shared with students on the assignment panel . <br><br> Students are made to work on these and submit completed assignments online by the <br><br> fixed time . The efforts are proving successful and daily progress is being monitored . <br><br> The Insight Gained <br><br> By implementing the initiative of online education using the ICT and IT provisions <br><br> several gains have been experienced . The major ones are : <br><br>  The administrative and gubernatorial departments working online can   help <br><br> students in case of need . <br><br>  The students can reap the benefit in terms of interacting with their teachers and <br><br> mentors . There is no loss of study even during the lockdown . The faculty can <br><br> ensure that their education is not affected in any way due to the ‘ lockdown ’ . The <br><br> university has made arrangement for appraisal of assignments , quizzes and <br><br> online tests have been made . <br><br>  The On - line education can be started in educational institution . Working from <br><br> home can be an acceptable system in educational and gubernatorial offices . It <br><br> leads to several benefits including : less pollution , cost - effective working , reduced <br><br> risk   of   travelling ,   less accidents ,   slowing   down   global   warming   due   to   less <br><br> pollution due to burning of fuels and hydrocarbons . <br><br>  The Marias Gamesa pleads its students , faculty and staff to observe all precautions <br><br> and stay protected against the spread of corona virus . <br><br> </div></span>"
      ],
      "text/plain": [
       "<IPython.core.display.HTML object>"
      ]
     },
     "metadata": {},
     "output_type": "display_data"
    }
   ],
   "source": [
    "PLR.render(documents_id=330)"
   ]
  },
  {
   "cell_type": "code",
   "execution_count": null,
   "metadata": {},
   "outputs": [],
   "source": []
  }
 ],
 "metadata": {
  "kernelspec": {
   "display_name": ".venv",
   "language": "python",
   "name": "python3"
  },
  "language_info": {
   "codemirror_mode": {
    "name": "ipython",
    "version": 3
   },
   "file_extension": ".py",
   "mimetype": "text/x-python",
   "name": "python",
   "nbconvert_exporter": "python",
   "pygments_lexer": "ipython3",
   "version": "3.12.1"
  }
 },
 "nbformat": 4,
 "nbformat_minor": 2
}
