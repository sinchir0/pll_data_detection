{
 "cells": [
  {
   "cell_type": "markdown",
   "metadata": {},
   "source": [
    "# 目的\n",
    "spaCyのdisplaCyを用いて、文章とタグを可視化する"
   ]
  },
  {
   "cell_type": "code",
   "execution_count": 1,
   "metadata": {},
   "outputs": [],
   "source": [
    "import polars as pl\n",
    "\n",
    "import spacy\n",
    "from spacy.tokens import Span\n",
    "from spacy import displacy"
   ]
  },
  {
   "cell_type": "code",
   "execution_count": 2,
   "metadata": {},
   "outputs": [],
   "source": [
    "# 一度だけ必要\n",
    "#!poetry run python -m spacy download en_core_web_sm"
   ]
  },
  {
   "cell_type": "code",
   "execution_count": 3,
   "metadata": {},
   "outputs": [],
   "source": [
    "# https://matplotlib.org/2.0.2/examples/color/named_colors.html\n",
    "options = {\n",
    "    \"colors\": {\n",
    "        \"B-NAME_STUDENT\": \"aqua\",\n",
    "        \"I-NAME_STUDENT\": \"aliceblue\",\n",
    "        \"B-EMAIL\": \"forestgreen\",\n",
    "        \"I-EMAIL\": \"greenyellow\",\n",
    "        \"B-USERNAME\": \"hotpink\",\n",
    "        \"I-USERNAME\": \"lightpink\",\n",
    "        \"B-ID_NUM\": \"purple\",\n",
    "        \"I-ID_NUM\": \"rebeccapurple\",\n",
    "        \"B-PHONE_NUM\": \"red\",\n",
    "        \"I-PHONE_NUM\": \"salmon\",\n",
    "        \"B-URL_PERSONAL\": \"slategrey\",\n",
    "        \"I-URL_PERSONAL\": \"silver\",\n",
    "        \"B-STREET_ADDRESS\": \"brown\",\n",
    "        \"I-STREET_ADDRESS\": \"chocolate\",\n",
    "    }\n",
    "}"
   ]
  },
  {
   "cell_type": "code",
   "execution_count": 4,
   "metadata": {},
   "outputs": [],
   "source": [
    "train = pl.read_json(\"../data/train.json\")"
   ]
  },
  {
   "cell_type": "code",
   "execution_count": 5,
   "metadata": {},
   "outputs": [],
   "source": [
    "documents = train.get_column(\"document\").to_list()\n",
    "full_texts = train.get_column(\"full_text\").to_list()\n",
    "labels = train.get_column(\"labels\").to_list()"
   ]
  },
  {
   "cell_type": "code",
   "execution_count": 6,
   "metadata": {},
   "outputs": [],
   "source": [
    "class PllLabelRenderer:\n",
    "    def __init__(\n",
    "        self,\n",
    "        documents: list[str],\n",
    "        full_texts: list[str],\n",
    "        labels: list[str],\n",
    "        options: dict[str, dict[str, str]],\n",
    "    ) -> None:\n",
    "        self.nlp = spacy.blank(\"en\")\n",
    "        self.documents = documents\n",
    "        self.full_texts = full_texts\n",
    "        self.labels = labels\n",
    "        self.options = options\n",
    "\n",
    "    def render(\n",
    "        self, render_idx: int | None = None, documents_id: int | None = None\n",
    "    ) -> None:\n",
    "        if render_idx and documents_id:\n",
    "            raise Exception(\"Don't Use Both render_idx and documents_id\")\n",
    "        if documents_id:\n",
    "            render_idx = self.documents.index(documents_id)\n",
    "        doc = self.nlp(self.full_texts[render_idx])\n",
    "        doc.ents = [\n",
    "            Span(doc, idx, idx + 1, label=label)\n",
    "            for idx, label in enumerate(self.labels[render_idx])\n",
    "            if label != \"O\"\n",
    "        ]\n",
    "        displacy.render(doc, style=\"ent\", jupyter=True, options=options)"
   ]
  },
  {
   "cell_type": "code",
   "execution_count": 7,
   "metadata": {},
   "outputs": [],
   "source": [
    "PLR = PllLabelRenderer(\n",
    "    documents=documents, full_texts=full_texts, labels=labels, options=options\n",
    ")"
   ]
  },
  {
   "cell_type": "code",
   "execution_count": 8,
   "metadata": {},
   "outputs": [
    {
     "data": {
      "text/html": [
       "<span class=\"tex2jax_ignore\"><div class=\"entities\" style=\"line-height: 2.5; direction: ltr\">Storytelling  The Path to Innovation<br><br>Dr \n",
       "<mark class=\"entity\" style=\"background: aqua; padding: 0.45em 0.6em; margin: 0 0.25em; line-height: 1; border-radius: 0.35em;\">\n",
       "    Sakir\n",
       "    <span style=\"font-size: 0.8em; font-weight: bold; line-height: 1; border-radius: 0.35em; vertical-align: middle; margin-left: 0.5rem\">B-NAME_STUDENT</span>\n",
       "</mark>\n",
       " \n",
       "<mark class=\"entity\" style=\"background: aliceblue; padding: 0.45em 0.6em; margin: 0 0.25em; line-height: 1; border-radius: 0.35em;\">\n",
       "    Ahmad\n",
       "    <span style=\"font-size: 0.8em; font-weight: bold; line-height: 1; border-radius: 0.35em; vertical-align: middle; margin-left: 0.5rem\">I-NAME_STUDENT</span>\n",
       "</mark>\n",
       "<br><br>Challenge &amp; Selection<br><br>Be it any organization, team or a government venture, I have often observed that they experience  failures because they couldn’t connect with their audience aptly. In such scenarios, storytelling  can turn the table significantly. I have used the tool ‘storytelling’ in my organization to convey a  complicated message as simply as possible or to generate ideas from people around me. The idea  is to implement this innovative tool to make the intricate issues understandable and engage the  targeted audience. I relayed the context of the story to captivate the attention of the audience. I  have used the technique in front of my team-members of the organization to impart its essence,  brainstorm notions, make productive connections and develop appropriate strategies. The crucial  element in storytelling is to engagingly answer the questions raised in the story to its targeted  audience and allow them to resonate with the core subject of the story. When I shared the story, I  tried to gain the insights from the audience as to how the characters inspire them and how it  related to their work emotions. The information and feedback immensely helped me in  recognizing its importance in finding solutions in real world.<br><br>Application<br><br>I used the storytelling tool in an organizational meeting to help the team members visualize the  essence and impact of revolutionary thinking. I understood that the story has to make sense so  that they can comprehend the context and relate with it. I started the story of the time when there  was an emergence of deadly diseases due to mosquitoes i.e. malaria etc. and a company brought  a revolution by introducing a range of mosquito repellent products. I emphasized on its out-of- the box thinking &amp; ideas that made the brand conquer the market. I observed that my audience  were sincerely engaged and were emotionally connected with the company. After I finished, there  were questions and productive interactions which exhibited that they relate it with their ongoing  project. The enthusiasm of thinking afresh was quite overwhelming.<br><br>Insight &amp; Approach<br><br>When I analysed the whole series of events it made me wonder, “Did my tool work? The answer I  think is ‘YES’. Will it serve the purpose? I think that time will tell but I believe it will certainly aid  them in making apt strategies.”<br><br>The exercise portrayed that a revolutionary story can influence a small number of people then  storytelling as a design-thinking tool, if implemented efficiently, can bring ground-breaking  changes in organizations &amp; countries. I observed that my story engaged my targeted audience,  inspired them to think new and deliver better results.<br><br>As a student of design thinking, I can explore this tool from all corners and can confidently say  that I can creatively use it in number of inspiring ways at any appropriate phase of design thinking  activities.<br><br></div></span>"
      ],
      "text/plain": [
       "<IPython.core.display.HTML object>"
      ]
     },
     "metadata": {},
     "output_type": "display_data"
    }
   ],
   "source": [
    "PLR.render(documents_id=104)"
   ]
  },
  {
   "cell_type": "code",
   "execution_count": 8,
   "metadata": {},
   "outputs": [
    {
     "data": {
      "text/html": [
       "<span class=\"tex2jax_ignore\"><div class=\"entities\" style=\"line-height: 2.5; direction: ltr\">\n",
       "<mark class=\"entity\" style=\"background: aqua; padding: 0.45em 0.6em; margin: 0 0.25em; line-height: 1; border-radius: 0.35em;\">\n",
       "    Waseem\n",
       "    <span style=\"font-size: 0.8em; font-weight: bold; line-height: 1; border-radius: 0.35em; vertical-align: middle; margin-left: 0.5rem\">B-NAME_STUDENT</span>\n",
       "</mark>\n",
       " \n",
       "<mark class=\"entity\" style=\"background: aliceblue; padding: 0.45em 0.6em; margin: 0 0.25em; line-height: 1; border-radius: 0.35em;\">\n",
       "    Mabunda\n",
       "    <span style=\"font-size: 0.8em; font-weight: bold; line-height: 1; border-radius: 0.35em; vertical-align: middle; margin-left: 0.5rem\">I-NAME_STUDENT</span>\n",
       "</mark>\n",
       "  \n",
       "<mark class=\"entity\" style=\"background: brown; padding: 0.45em 0.6em; margin: 0 0.25em; line-height: 1; border-radius: 0.35em;\">\n",
       "    591\n",
       "    <span style=\"font-size: 0.8em; font-weight: bold; line-height: 1; border-radius: 0.35em; vertical-align: middle; margin-left: 0.5rem\">B-STREET_ADDRESS</span>\n",
       "</mark>\n",
       " \n",
       "<mark class=\"entity\" style=\"background: chocolate; padding: 0.45em 0.6em; margin: 0 0.25em; line-height: 1; border-radius: 0.35em;\">\n",
       "    Smith\n",
       "    <span style=\"font-size: 0.8em; font-weight: bold; line-height: 1; border-radius: 0.35em; vertical-align: middle; margin-left: 0.5rem\">I-STREET_ADDRESS</span>\n",
       "</mark>\n",
       " \n",
       "<mark class=\"entity\" style=\"background: chocolate; padding: 0.45em 0.6em; margin: 0 0.25em; line-height: 1; border-radius: 0.35em;\">\n",
       "    Centers\n",
       "    <span style=\"font-size: 0.8em; font-weight: bold; line-height: 1; border-radius: 0.35em; vertical-align: middle; margin-left: 0.5rem\">I-STREET_ADDRESS</span>\n",
       "</mark>\n",
       " \n",
       "<mark class=\"entity\" style=\"background: chocolate; padding: 0.45em 0.6em; margin: 0 0.25em; line-height: 1; border-radius: 0.35em;\">\n",
       "    Apt\n",
       "    <span style=\"font-size: 0.8em; font-weight: bold; line-height: 1; border-radius: 0.35em; vertical-align: middle; margin-left: 0.5rem\">I-STREET_ADDRESS</span>\n",
       "</mark>\n",
       "\n",
       "<mark class=\"entity\" style=\"background: chocolate; padding: 0.45em 0.6em; margin: 0 0.25em; line-height: 1; border-radius: 0.35em;\">\n",
       "    .\n",
       "    <span style=\"font-size: 0.8em; font-weight: bold; line-height: 1; border-radius: 0.35em; vertical-align: middle; margin-left: 0.5rem\">I-STREET_ADDRESS</span>\n",
       "</mark>\n",
       " \n",
       "<mark class=\"entity\" style=\"background: chocolate; padding: 0.45em 0.6em; margin: 0 0.25em; line-height: 1; border-radius: 0.35em;\">\n",
       "    656\n",
       "    <span style=\"font-size: 0.8em; font-weight: bold; line-height: 1; border-radius: 0.35em; vertical-align: middle; margin-left: 0.5rem\">I-STREET_ADDRESS</span>\n",
       "</mark>\n",
       "\n",
       "<mark class=\"entity\" style=\"background: chocolate; padding: 0.45em 0.6em; margin: 0 0.25em; line-height: 1; border-radius: 0.35em;\">\n",
       "    \n",
       "\n",
       "    <span style=\"font-size: 0.8em; font-weight: bold; line-height: 1; border-radius: 0.35em; vertical-align: middle; margin-left: 0.5rem\">I-STREET_ADDRESS</span>\n",
       "</mark>\n",
       "\n",
       "<mark class=\"entity\" style=\"background: chocolate; padding: 0.45em 0.6em; margin: 0 0.25em; line-height: 1; border-radius: 0.35em;\">\n",
       "    Joshuamouth\n",
       "    <span style=\"font-size: 0.8em; font-weight: bold; line-height: 1; border-radius: 0.35em; vertical-align: middle; margin-left: 0.5rem\">I-STREET_ADDRESS</span>\n",
       "</mark>\n",
       "\n",
       "<mark class=\"entity\" style=\"background: chocolate; padding: 0.45em 0.6em; margin: 0 0.25em; line-height: 1; border-radius: 0.35em;\">\n",
       "    ,\n",
       "    <span style=\"font-size: 0.8em; font-weight: bold; line-height: 1; border-radius: 0.35em; vertical-align: middle; margin-left: 0.5rem\">I-STREET_ADDRESS</span>\n",
       "</mark>\n",
       " \n",
       "<mark class=\"entity\" style=\"background: chocolate; padding: 0.45em 0.6em; margin: 0 0.25em; line-height: 1; border-radius: 0.35em;\">\n",
       "    RI\n",
       "    <span style=\"font-size: 0.8em; font-weight: bold; line-height: 1; border-radius: 0.35em; vertical-align: middle; margin-left: 0.5rem\">I-STREET_ADDRESS</span>\n",
       "</mark>\n",
       " \n",
       "<mark class=\"entity\" style=\"background: chocolate; padding: 0.45em 0.6em; margin: 0 0.25em; line-height: 1; border-radius: 0.35em;\">\n",
       "    95963\n",
       "    <span style=\"font-size: 0.8em; font-weight: bold; line-height: 1; border-radius: 0.35em; vertical-align: middle; margin-left: 0.5rem\">I-STREET_ADDRESS</span>\n",
       "</mark>\n",
       " ( The Netherlands)  \n",
       "<mark class=\"entity\" style=\"background: red; padding: 0.45em 0.6em; margin: 0 0.25em; line-height: 1; border-radius: 0.35em;\">\n",
       "    410.526.1667\n",
       "    <span style=\"font-size: 0.8em; font-weight: bold; line-height: 1; border-radius: 0.35em; vertical-align: middle; margin-left: 0.5rem\">B-PHONE_NUM</span>\n",
       "</mark>\n",
       "  vpi@mn.nl<br><br>Mind Mapping,      Challenge:     For several years I have been working for an Asset manager in the Netherlands. During this period I have been involved in many  projects. Certainly in the world of asset management, much has changed in recent years in the area of Law and Regulations.  What I mainly experience in these projects is that all departments have a different interest in starting a new project. This  certainly does not benefit the project. How do you get everyone to complete a project in the common interest and how do you  motivate everyone who participate in the project?    Selection:    An improvement project can be approached in different ways. The most common way is the scrum approach. We work in  multidisciplinary teams that work in short sprints, with a fixed length of 1 to 4 weeks. Cooperation is very important and  everyone must be able to respond quickly to changing circumstances. Scrum is based on the theory of empirical process  control, or empiricism. Empiricism assumes that knowledge arises from experience and making decisions based on what is  known.     I chose mind mapping because I am looking for a way to show the creativity colleagues always have at the start of a project,  to  keep this up to date and very important to keep it visible.   But also with the thoughts to keep colleagues motivated and to show how their creativity contributes to the project.    So I want to see if scrum can be combined with Design Thinking and especially with Mind mapping.    Application:    When starting a new project at work, I checked whether it is workable to combine the scrum approach with Mind Mapping. The  central theme was to increase the STP (Straight through processing) rate for a specific product that we trade with an x  percentage.    As a scrum team, we have tried to provide insight into the various topics related to the 'increase STP rate' via a paper diagram.  Each team member could indicate in this diagram his or her creativity which related to increasing the STP rate.    After this we went to see if there was a connection between certain ideas. We quickly learned that certain ideas could be  combined and that certain steps in the project could be skipped. By combining scrum work and mind mapping, we were able to  go live with implementation faster and increase STP speed step by step.    By making the project visible through a diagram, colleagues also indicated that this gave them more energy to participate in the  project.<br><br>D e s i g n  T h i n k i n g<br><br>Insight:    The insight I got to combine scrum with mind mapping (Design thinking) is that if you make everyone's creativity and thinking  visible through Mind mapping, you will come sooner to a solid solution to complete a project. The feedback we received is that  it also gives more energy to colleagues who have participated in this project.     The biggest challenge was to create support for this new way of working.     At the beginning of the project, we showed a short video of how mind mapping works. This gave us immediate support from  our fellow team members to combine scrum with mind mapping.      \n",
       "<mark class=\"entity\" style=\"background: slategrey; padding: 0.45em 0.6em; margin: 0 0.25em; line-height: 1; border-radius: 0.35em;\">\n",
       "    https://www.youtube.com/watch?v=tIBN9VJ0S4a\n",
       "    <span style=\"font-size: 0.8em; font-weight: bold; line-height: 1; border-radius: 0.35em; vertical-align: middle; margin-left: 0.5rem\">B-URL_PERSONAL</span>\n",
       "</mark>\n",
       "    The conclusion is that you definitely can combine scrum and Design thinking.    Approach:    In terms of approach, I wouldn't be much different from what I did in this project. I only see advantages of combining scrum  with mind mapping. As described in the alinia insight, there are only benefits.<br><br></div></span>"
      ],
      "text/plain": [
       "<IPython.core.display.HTML object>"
      ]
     },
     "metadata": {},
     "output_type": "display_data"
    }
   ],
   "source": [
    "PLR.render(documents_id=9854)"
   ]
  },
  {
   "cell_type": "code",
   "execution_count": 45,
   "metadata": {},
   "outputs": [
    {
     "data": {
      "text/html": [
       "<span class=\"tex2jax_ignore\"><div class=\"entities\" style=\"line-height: 2.5; direction: ltr\">\n",
       "<mark class=\"entity\" style=\"background: aqua; padding: 0.45em 0.6em; margin: 0 0.25em; line-height: 1; border-radius: 0.35em;\">\n",
       "    Pepa\n",
       "    <span style=\"font-size: 0.8em; font-weight: bold; line-height: 1; border-radius: 0.35em; vertical-align: middle; margin-left: 0.5rem\">B-NAME_STUDENT</span>\n",
       "</mark>\n",
       " \n",
       "<mark class=\"entity\" style=\"background: aliceblue; padding: 0.45em 0.6em; margin: 0 0.25em; line-height: 1; border-radius: 0.35em;\">\n",
       "    Medrano\n",
       "    <span style=\"font-size: 0.8em; font-weight: bold; line-height: 1; border-radius: 0.35em; vertical-align: middle; margin-left: 0.5rem\">I-NAME_STUDENT</span>\n",
       "</mark>\n",
       "<br><br>Design Thinking for Innovation  April 2, 2020<br><br>Mind Mapping<br><br>Challenge:<br><br>I am on the Artist Relations team at a music sync company.  My job includes<br><br>organizing and listening to all the new music submissions that are sent to the label and  communicating with the creative department about possible signings. The creative team  pitches music to music supervisors and are aware of current trends and needs for TV,  Film, and Ads so they are a huge asset to the A&amp;R team and our decision making  process. The challenge often encountered in the company is a lack of communication  between these two departments about new music. It’s often a challenge to get the  creative department to send back feedback on possible signings in a timely manner.  There is currently not a specific tool that is used for feedback so information gets lost in  emails. It creates confusion for the A&amp;R team as well as the potential signings. The label  lacks an effective communication system to circulate and listen to new music in order  for the A&amp;R team to sign new artists into the catalog quickly to match requests and  trends. The project is to build an effective online process to create a clear flow of  communication between the A&amp;R team and the creative department. A process where  information on new artists, their music, and the creative team’s feedback, are organized  clearly and sent back to the A&amp;R team smoothly in order for us to make final decisions.<br><br>Selection:<br><br>I decided to select the mind mapping tool to begin the innovative thinking<br><br>process. Mind Mapping is a brainstorming method often used to fuel a creative mindset  by using illustrations and graphs to express ideas. By using a visual tool to generate  concepts, it helps to collect, analyze, and structure new thoughts to create a better  understanding of the subject/challenge. I selected mind mapping for my challenge  because I am currently in the stage where I have identified the issue and need a place to  represent my information and ideas to create a hypothesis.<br><br>Application:<br><br>I used Adobe Illustrator to put together a mind map of my ideas (see below). I think it  was applied very effectively. Using mind mapping enabled me to let my thoughts flow.<br><br>DESIGN THINKING FOR INNOVATION\t �1<br><br>The current illustration will now help my team and I narrow down the best hypothesis  to move forward with the creation of this online communication portal.<br><br>Insight:<br><br>Mind mapping removes the pressure of coming up with a great idea/thought on<br><br>the first try. It allows your mind to flow freely without judgement. You’re not necessarily  looking for a hypothesis right away, you’re collecting key words and connections that  then creates a large visual map. The map helps you see all these connections in front of  you, which I realized helped me significantly! It also is a great tool for the entire team.  Mind mapping can be done in a group or individually to fuel understanding and  creativity.<br><br>DESIGN THINKING FOR INNOVATION\t �2<br><br>Regarding the specific challenge of creating an online communication system<br><br>between the A&amp;R department and the creative team, I found that the best system  includes both an online method and an in person meeting. I also found that it went  further than just creating a tool with the creative team. We also would benefit from a  submission page on our main website for artists to submit their music to us. The A&amp;R  team was mostly receiving our submissions through email, which left my inbox often  cluttered. By creating a page for artists to access, it creates a more organized place for  me to handle the submissions and listen through. I also realized that we need to narrow  down the music we send to the creative team. They were receiving too much and could  not handle all the music, on top of the tasks they were already doing. By limiting  unsolicited music, we will be able to narrow down our submissions and focus on what’s  really needed. My idea is to create a private page on our website that only the company  can access where the A&amp;R team updates the page with new music to listen to. There will  be a space for feedback and also a deadline. When the A&amp;R team updates the page, an  email notification is automatically sent ot the creative team. When the creative team  submits their feedback, a notification is then sent to the A&amp;R team.  In addition to the  online page, I am thinking of implementing a monthly or biweekly creative meeting  where the A&amp;R team and the creative team get together to discuss trends, new signings,  needs, etc.<br><br>Approach:<br><br>I think mind mapping is a really great, versatile tool that can be used lightly with<br><br>just a few thoughts or expanded into a whole wall of ideas and connections. Next time, I  would expand the map even further and dig a bit deeper into the brainstorming.<br><br>DESIGN THINKING FOR INNOVATION\t �3<br><br></div></span>"
      ],
      "text/plain": [
       "<IPython.core.display.HTML object>"
      ]
     },
     "metadata": {},
     "output_type": "display_data"
    }
   ],
   "source": [
    "PLR.render(render_idx=11)"
   ]
  },
  {
   "cell_type": "code",
   "execution_count": null,
   "metadata": {},
   "outputs": [],
   "source": []
  }
 ],
 "metadata": {
  "kernelspec": {
   "display_name": ".venv",
   "language": "python",
   "name": "python3"
  },
  "language_info": {
   "codemirror_mode": {
    "name": "ipython",
    "version": 3
   },
   "file_extension": ".py",
   "mimetype": "text/x-python",
   "name": "python",
   "nbconvert_exporter": "python",
   "pygments_lexer": "ipython3",
   "version": "3.12.1"
  }
 },
 "nbformat": 4,
 "nbformat_minor": 2
}
