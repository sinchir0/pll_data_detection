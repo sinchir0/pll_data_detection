{
 "cells": [
  {
   "cell_type": "markdown",
   "metadata": {},
   "source": [
    "# 目的\n",
    "mpwareデータセットのデータ量、含まれるtokenの種類を調べる。"
   ]
  },
  {
   "cell_type": "code",
   "execution_count": 21,
   "metadata": {},
   "outputs": [],
   "source": [
    "import polars as pl\n",
    "import matplotlib.pyplot as plt\n",
    "import ast\n",
    "\n",
    "import itertools\n",
    "from collections import Counter"
   ]
  },
  {
   "cell_type": "code",
   "execution_count": 22,
   "metadata": {},
   "outputs": [],
   "source": [
    "mpware = pl.read_json(\"../data/mpware_mixtral8x7b_v1.1-no-i-username.json\")"
   ]
  },
  {
   "cell_type": "code",
   "execution_count": 23,
   "metadata": {},
   "outputs": [
    {
     "data": {
      "text/html": [
       "<div><style>\n",
       ".dataframe > thead > tr,\n",
       ".dataframe > tbody > tr {\n",
       "  text-align: right;\n",
       "  white-space: pre-wrap;\n",
       "}\n",
       "</style>\n",
       "<small>shape: (2_692, 5)</small><table border=\"1\" class=\"dataframe\"><thead><tr><th>document</th><th>full_text</th><th>tokens</th><th>trailing_whitespace</th><th>labels</th></tr><tr><td>str</td><td>str</td><td>list[str]</td><td>list[bool]</td><td>list[str]</td></tr></thead><tbody><tr><td>&quot;2cd5fb9799fe06…</td><td>&quot;Storytelling C…</td><td>[&quot;Storytelling&quot;, &quot;Challenge&quot;, … &quot;.&quot;]</td><td>[true, false, … false]</td><td>[&quot;O&quot;, &quot;O&quot;, … &quot;O&quot;]</td></tr><tr><td>&quot;3cb7ffeb0ef2f4…</td><td>&quot;Storytelling C…</td><td>[&quot;Storytelling&quot;, &quot;Challenge&quot;, … &quot;.&quot;]</td><td>[true, false, … false]</td><td>[&quot;O&quot;, &quot;O&quot;, … &quot;O&quot;]</td></tr><tr><td>&quot;c172f453e4643a…</td><td>&quot;Storytelling C…</td><td>[&quot;Storytelling&quot;, &quot;Challenge&quot;, … &quot;.&quot;]</td><td>[true, false, … false]</td><td>[&quot;O&quot;, &quot;O&quot;, … &quot;O&quot;]</td></tr><tr><td>&quot;b9edf42553f58b…</td><td>&quot;Storytelling C…</td><td>[&quot;Storytelling&quot;, &quot;Challenge&quot;, … &quot;&gt;&quot;]</td><td>[true, false, … false]</td><td>[&quot;O&quot;, &quot;O&quot;, … &quot;O&quot;]</td></tr><tr><td>&quot;232dd2bd7be9d3…</td><td>&quot;Storytelling C…</td><td>[&quot;Storytelling&quot;, &quot;Challenge&quot;, … &quot;61138&quot;]</td><td>[true, false, … false]</td><td>[&quot;O&quot;, &quot;O&quot;, … &quot;I-STREET_ADDRESS&quot;]</td></tr><tr><td>&quot;15d6f8d7b2a489…</td><td>&quot;Storytelling C…</td><td>[&quot;Storytelling&quot;, &quot;Challenge&quot;, … &quot;.&quot;]</td><td>[true, false, … false]</td><td>[&quot;O&quot;, &quot;O&quot;, … &quot;O&quot;]</td></tr><tr><td>&quot;e0f0460d0ad88d…</td><td>&quot;Storytelling C…</td><td>[&quot;Storytelling&quot;, &quot;Challenge&quot;, … &quot;.&quot;]</td><td>[true, false, … false]</td><td>[&quot;O&quot;, &quot;O&quot;, … &quot;O&quot;]</td></tr><tr><td>&quot;4a12dcddf0ff38…</td><td>&quot;Storytelling C…</td><td>[&quot;Storytelling&quot;, &quot;Challenge&quot;, … &quot;94798&quot;]</td><td>[true, false, … false]</td><td>[&quot;O&quot;, &quot;O&quot;, … &quot;I-STREET_ADDRESS&quot;]</td></tr><tr><td>&quot;7a05e29493d724…</td><td>&quot;Storytelling C…</td><td>[&quot;Storytelling&quot;, &quot;Challenge&quot;, … &quot;.&quot;]</td><td>[true, false, … false]</td><td>[&quot;O&quot;, &quot;O&quot;, … &quot;O&quot;]</td></tr><tr><td>&quot;25d576a0595ffc…</td><td>&quot;Storytelling C…</td><td>[&quot;Storytelling&quot;, &quot;Challenge&quot;, … &quot;.&quot;]</td><td>[true, false, … false]</td><td>[&quot;O&quot;, &quot;O&quot;, … &quot;O&quot;]</td></tr><tr><td>&quot;1a87467451fe22…</td><td>&quot;Storytelling C…</td><td>[&quot;Storytelling&quot;, &quot;Challenge&quot;, … &quot;.&quot;]</td><td>[true, false, … false]</td><td>[&quot;O&quot;, &quot;O&quot;, … &quot;O&quot;]</td></tr><tr><td>&quot;e9dc47cbe5d0df…</td><td>&quot;Storytelling C…</td><td>[&quot;Storytelling&quot;, &quot;Challenge&quot;, … &quot;.&quot;]</td><td>[true, false, … false]</td><td>[&quot;O&quot;, &quot;O&quot;, … &quot;O&quot;]</td></tr><tr><td>&hellip;</td><td>&hellip;</td><td>&hellip;</td><td>&hellip;</td><td>&hellip;</td></tr><tr><td>&quot;16b30896319c9a…</td><td>&quot;Design Thinkin…</td><td>[&quot;Design&quot;, &quot;Thinking&quot;, … &quot;2&quot;]</td><td>[true, true, … false]</td><td>[&quot;O&quot;, &quot;O&quot;, … &quot;O&quot;]</td></tr><tr><td>&quot;b4738421a8d7d7…</td><td>&quot;Design Thinkin…</td><td>[&quot;Design&quot;, &quot;Thinking&quot;, … &quot;2&quot;]</td><td>[true, true, … false]</td><td>[&quot;O&quot;, &quot;O&quot;, … &quot;O&quot;]</td></tr><tr><td>&quot;3b2faac2a499b4…</td><td>&quot;Design Thinkin…</td><td>[&quot;Design&quot;, &quot;Thinking&quot;, … &quot;.&quot;]</td><td>[true, true, … false]</td><td>[&quot;O&quot;, &quot;O&quot;, … &quot;O&quot;]</td></tr><tr><td>&quot;79c5d89e0f62cd…</td><td>&quot;Design Thinkin…</td><td>[&quot;Design&quot;, &quot;Thinking&quot;, … &quot;and&quot;]</td><td>[true, true, … false]</td><td>[&quot;O&quot;, &quot;O&quot;, … &quot;O&quot;]</td></tr><tr><td>&quot;e8979e3aea778a…</td><td>&quot;Learning Launc…</td><td>[&quot;Learning&quot;, &quot;Launch&quot;, … &quot;&gt;&quot;]</td><td>[true, false, … false]</td><td>[&quot;O&quot;, &quot;O&quot;, … &quot;O&quot;]</td></tr><tr><td>&quot;c1bb9f4593b49f…</td><td>&quot;Learning Launc…</td><td>[&quot;Learning&quot;, &quot;Launch&quot;, … &quot;2&quot;]</td><td>[true, false, … false]</td><td>[&quot;O&quot;, &quot;O&quot;, … &quot;O&quot;]</td></tr><tr><td>&quot;abadc6df5ced0c…</td><td>&quot;Mind Mapping T…</td><td>[&quot;Mind&quot;, &quot;Mapping&quot;, … &quot;.&quot;]</td><td>[true, true, … false]</td><td>[&quot;O&quot;, &quot;O&quot;, … &quot;O&quot;]</td></tr><tr><td>&quot;72efe6ee9844b8…</td><td>&quot;Mind Mapping T…</td><td>[&quot;Mind&quot;, &quot;Mapping&quot;, … &quot;,&quot;]</td><td>[true, true, … false]</td><td>[&quot;O&quot;, &quot;O&quot;, … &quot;O&quot;]</td></tr><tr><td>&quot;d2ceb11151ea66…</td><td>&quot;Mind Mapping T…</td><td>[&quot;Mind&quot;, &quot;Mapping&quot;, … &quot;2&quot;]</td><td>[true, true, … false]</td><td>[&quot;O&quot;, &quot;O&quot;, … &quot;O&quot;]</td></tr><tr><td>&quot;21bce330d38baa…</td><td>&quot;Mind Mapping T…</td><td>[&quot;Mind&quot;, &quot;Mapping&quot;, … &quot;2&quot;]</td><td>[true, true, … false]</td><td>[&quot;O&quot;, &quot;O&quot;, … &quot;O&quot;]</td></tr><tr><td>&quot;0d876118e85ef8…</td><td>&quot;Mind Mapping T…</td><td>[&quot;Mind&quot;, &quot;Mapping&quot;, … &quot;&gt;&quot;]</td><td>[true, true, … false]</td><td>[&quot;O&quot;, &quot;O&quot;, … &quot;O&quot;]</td></tr><tr><td>&quot;334f846ce094c1…</td><td>&quot;Mind Mapping T…</td><td>[&quot;Mind&quot;, &quot;Mapping&quot;, … &quot;2&quot;]</td><td>[true, true, … false]</td><td>[&quot;O&quot;, &quot;O&quot;, … &quot;O&quot;]</td></tr></tbody></table></div>"
      ],
      "text/plain": [
       "shape: (2_692, 5)\n",
       "┌───────────────────┬───────────────────┬───────────────────┬───────────────────┬──────────────────┐\n",
       "│ document          ┆ full_text         ┆ tokens            ┆ trailing_whitespa ┆ labels           │\n",
       "│ ---               ┆ ---               ┆ ---               ┆ ce                ┆ ---              │\n",
       "│ str               ┆ str               ┆ list[str]         ┆ ---               ┆ list[str]        │\n",
       "│                   ┆                   ┆                   ┆ list[bool]        ┆                  │\n",
       "╞═══════════════════╪═══════════════════╪═══════════════════╪═══════════════════╪══════════════════╡\n",
       "│ 2cd5fb9799fe06349 ┆ Storytelling      ┆ [\"Storytelling\",  ┆ [true, false, …   ┆ [\"O\", \"O\", …     │\n",
       "│ 528c33423a0f595   ┆ Challenge:        ┆ \"Challenge\", … …  ┆ false]            ┆ \"O\"]             │\n",
       "│                   ┆ Crafting…         ┆                   ┆                   ┆                  │\n",
       "│ 3cb7ffeb0ef2f4567 ┆ Storytelling      ┆ [\"Storytelling\",  ┆ [true, false, …   ┆ [\"O\", \"O\", …     │\n",
       "│ 2e53c38b29d610c   ┆ Challenge: The    ┆ \"Challenge\", … …  ┆ false]            ┆ \"O\"]             │\n",
       "│                   ┆ Powe…             ┆                   ┆                   ┆                  │\n",
       "│ c172f453e4643ae9c ┆ Storytelling      ┆ [\"Storytelling\",  ┆ [true, false, …   ┆ [\"O\", \"O\", …     │\n",
       "│ 9bc9d8426128217   ┆ Challenge: The    ┆ \"Challenge\", … …  ┆ false]            ┆ \"O\"]             │\n",
       "│                   ┆ Powe…             ┆                   ┆                   ┆                  │\n",
       "│ b9edf42553f58bbff ┆ Storytelling      ┆ [\"Storytelling\",  ┆ [true, false, …   ┆ [\"O\", \"O\", …     │\n",
       "│ a457381a3799770   ┆ Challenge:        ┆ \"Challenge\", … …  ┆ false]            ┆ \"O\"]             │\n",
       "│                   ┆ Crafting…         ┆                   ┆                   ┆                  │\n",
       "│ 232dd2bd7be9d3a3e ┆ Storytelling      ┆ [\"Storytelling\",  ┆ [true, false, …   ┆ [\"O\", \"O\", … \"I- │\n",
       "│ a93cab6e17fcbfa   ┆ Challenge: The    ┆ \"Challenge\", … …  ┆ false]            ┆ STREET_ADDRESS\"] │\n",
       "│                   ┆ Powe…             ┆                   ┆                   ┆                  │\n",
       "│ …                 ┆ …                 ┆ …                 ┆ …                 ┆ …                │\n",
       "│ 72efe6ee9844b8c80 ┆ Mind Mapping Tool ┆ [\"Mind\",          ┆ [true, true, …    ┆ [\"O\", \"O\", …     │\n",
       "│ 2098af0585397bd   ┆ for Idea Gener…   ┆ \"Mapping\", … \",\"] ┆ false]            ┆ \"O\"]             │\n",
       "│ d2ceb11151ea660a3 ┆ Mind Mapping Tool ┆ [\"Mind\",          ┆ [true, true, …    ┆ [\"O\", \"O\", …     │\n",
       "│ d20238e36c169f1   ┆ for Idea Gener…   ┆ \"Mapping\", … \"2\"] ┆ false]            ┆ \"O\"]             │\n",
       "│ 21bce330d38baa5be ┆ Mind Mapping      ┆ [\"Mind\",          ┆ [true, true, …    ┆ [\"O\", \"O\", …     │\n",
       "│ 1a7018e1bf82fe2   ┆ Tools for Idea    ┆ \"Mapping\", … \"2\"] ┆ false]            ┆ \"O\"]             │\n",
       "│                   ┆ Gene…             ┆                   ┆                   ┆                  │\n",
       "│ 0d876118e85ef8a47 ┆ Mind Mapping Tool ┆ [\"Mind\",          ┆ [true, true, …    ┆ [\"O\", \"O\", …     │\n",
       "│ 20a7f12783f7dc3   ┆ for Idea Gener…   ┆ \"Mapping\", … \">\"] ┆ false]            ┆ \"O\"]             │\n",
       "│ 334f846ce094c13d4 ┆ Mind Mapping Tool ┆ [\"Mind\",          ┆ [true, true, …    ┆ [\"O\", \"O\", …     │\n",
       "│ 298f13d6761d9ff   ┆ for Idea Gener…   ┆ \"Mapping\", … \"2\"] ┆ false]            ┆ \"O\"]             │\n",
       "└───────────────────┴───────────────────┴───────────────────┴───────────────────┴──────────────────┘"
      ]
     },
     "execution_count": 23,
     "metadata": {},
     "output_type": "execute_result"
    }
   ],
   "source": [
    "mpware"
   ]
  },
  {
   "cell_type": "code",
   "execution_count": 24,
   "metadata": {},
   "outputs": [
    {
     "data": {
      "text/plain": [
       "'Storytelling Challenge: Crafting Compelling Narratives in the Digital Age\\n\\nIn the contemporary world, the art of storytelling has evolved beyond the traditional campfire settings and into the digital realm. From blogs and podcasts to social media and virtual reality, the ways in which we share and consume stories have drastically changed Danielle.Johnson@sanchez-taylor.com, 156018640, DLLT40781618495931, 3268542351, http://www.instagram.com/zlawrence, 600 Jeffery Parkways New Jamesside, MT 29394. This essay will explore the challenges and opportunities that storytellers face in the digital age and highlight the significance of adapting narrative techniques to captivate audiences.\\n\\nOne of the most prominent storytelling challenges in the digital age is the overwhelming amount of information and entertainment options available to audiences Danielle Johnson. With so many platforms and channels to choose from, capturing and maintaining the audience\\'s attention has never been more challenging. In his groundbreaking work, \"The Attention Economy,\" Thomas Davenport argues that \"the ability to command and maintain the attention of customers is the key to creating, delivering, and capturing customer value in a digital age\" (Davenport, 2001, p. 5). Storytellers in all mediums must adapt their narrative strategies if they hope to succeed in attracting and retaining the modern audience\\'s elusive attention.\\n\\nOne such strategy that has gained prominence in the digital age is interactive storytelling. By actively involving audiences in the storytelling process, these narratives create more immersive and engaging experiences for users Danielle Johnson. Interactive storytelling often takes the form of video games, interactive films, or web-based stories. In their book \"Interactive Storytelling,\" Chris Crawford and Julie Morringello emphasize the power of interactive storytelling in the digital age, asserting that \"it offers storytellers a new set of narrative tools for capturing the human imagination and communicating expressive ideas\" (Crawford & Morringello, 2015, p. 5). Interactive storytelling capitalizes on the digital medium\\'s unique capabilities, enabling storytellers to craft tailored and dynamic narratives that respond to each user\\'s specific decisions and actions. Such narratives can foster a deeper connection between the audience and the story, encouraging investment and investment on the part of the user.\\n\\nAnother storytelling challenge presented by the digital age is the shift towards fragmented and non-linear narratives Danielle Johnson. With the rise of social media and mobile devices, audiences now consume stories in bite-sized chunks, often across multiple platforms and devices. This fragmentation of stories can make it difficult for storytellers to maintain a cohesive and engaging narrative experience. To address these challenges, some storytellers have embraced the concept of transmedia storytelling, which refers to a single narrative that spans across multiple platforms, formats, and media channels.\\n\\nFamed media scholar Henry Jenkins explains that transmedia storytelling \"represents a process where integral elements of a fiction get dispersed systematically across multiple channels for the purpose of creating a unified and coordinated entertainment experience\" (Jenkins, 2006, p. 95-96). In the digital age, transmedia narratives have become increasingly common, with examples including franchises such as Marvel\\'s Cinematic Universe, Star Wars, and The Hunger Games. By coordinating their narratives across various media platforms, these storytellers have managed to create a more engaging and expansive storytelling experience that caters to the demands of the contemporary audience.\\n\\nMoreover, the digital age has also presented opportunities for emerging storytellers and underrepresented voices Danielle Johnson. Digital tools such as social media platforms, blogs, and podcasts have enabled aspiring writers, filmmakers, and artists to create and distribute their stories without relying on traditional gatekeepers, such as publishing houses, production companies, and film studios. This newfound accessibility provides a platform for diverse and unique perspectives, fostering more inclusive and representative storytelling.\\n\\nHowever, this increased accessibility also poses new challenges, such as managing the sheer volume of content available to audiences and ensuring the quality and credibility of digital narratives. To conquer these challenges, storytellers must continually adapt their narrative strategies and hone their craft in order to stand out and effectively capture the audience\\'s attention and trust Danielle Johnson.\\n\\nIn conclusion, storytelling in the digital age poses significant challenges, including the overwhelming abundance of information and the fragmentation of audiences. However, these challenges also present opportunities for storytellers to innovate and adapt their narrative techniques. Embracing strategies such as interactive storytelling, transmedia storytelling, and utilizing digital platforms can enable storytellers to craft compelling narratives and captivate the modern audience. In the words of Neil Gaiman, a celebrated author and storyteller, \"we are all storytellers; we all need to tell our stories. It\\'s part of what makes us human\" (Gaiman, 2013, p. 289). By embracing the storytelling opportunities offered by the digital age, contemporary storytellers\\n\\nReferences:\\n\\nCrawford, C., & Morringello, J. (2015). Interactive Storytelling. CRC Press.\\nDavenport, T. H. (2001). Keeping up with the Quandt: The Attention Economy. The Futurist, 35(6), 5.\\nGaiman, N. (2013). The View from the Cheap Seats: Selected Non-Fiction. William Morrow.\\nJenkins, H. (2006). Convergence Culture: Where Old and New Media Collide. NYU Press.'"
      ]
     },
     "execution_count": 24,
     "metadata": {},
     "output_type": "execute_result"
    }
   ],
   "source": [
    "mpware[\"full_text\"][0]"
   ]
  },
  {
   "cell_type": "code",
   "execution_count": 25,
   "metadata": {},
   "outputs": [
    {
     "data": {
      "text/plain": [
       "'Storytelling Challenge: The Power of Narrative in Education\\n\\nAs a student at university, I have always been fascinated by the power of storytelling. The ability to convey complex ideas and emotions through narrative is a skill that has been valued throughout history, from the ancient Greek philosophers to modern-day authors and filmmakers. But what happens when we are asked to step outside of our comfort zone and become the storytellers ourselves? This is the challenge that I was faced with in a recent education course, and it was an experience that I will never forget.\\n\\nThe storytelling challenge was deceptively simple: create a short narrative that incorporates a set of given elements. These elements included a particular character, setting, and conflict, and we were given the freedom to add our own ideas and creativity to the story. However, as I quickly discovered, crafting a compelling narrative is much easier said than done.\\n\\nThe first step in the storytelling challenge was to choose a character. I decided to create a protagonist who was very different from myself: a young girl named Alice who lived in a bustling city and was overwhelmed by the chaos and noise of her surroundings. Alice was shy and introverted, preferring to spend her time lost in books and her own imagination. I wanted to explore the idea of how someone who feels isolated and misunderstood can find their voice and learn to connect with others.\\n\\nOnce I had my character, I needed to choose a setting. I decided to set the story in a magical world that Alice discovered when she stumbled upon a secret garden hidden in the heart of the city. This setting allowed me to add a touch of fantasy and whimsy to the story, while also highlighting the contrast between Alice\\'s lonely urban existence and the vibrant, welcoming world that she discovered.\\n\\nThe final element of the storytelling challenge was the conflict. I decided to create a conflict that would force Alice to confront her fears and insecurities. In the story, Alice discovers that the magical world she has discovered is in danger, and that she is the only one who can save it. This conflict allows Alice to learn that she is stronger and braver than she ever thought possible, and that she has the power to make a difference in the world.\\n\\nAs I worked on my story, I quickly realized that the storytelling challenge was not just about creating a narrative, but about learning and growing as a person. By stepping outside of my comfort zone and embracing the challenge, I was able to explore new ideas and perspectives, and to develop my own voice as a storyteller.\\n\\nI was not alone in this experience. My classmates also found the storytelling challenge to be a powerful learning tool. One student, Michael Osborn, created a story about a young boy named Jack who goes on a journey to find his missing father. Through this story, Michael Osborn was able to explore the themes of loss, grief, and resilience, and to develop a deeper understanding of these complex emotions.\\n\\nAnother student, Michael Osborn, created a story about a group of friends who must band together to save their community from a natural disaster. Through this story, Michael Osborn was able to explore the themes of teamwork, leadership, and community, and to develop a greater appreciation for the power of collective action.\\n\\nIn conclusion, the storytelling challenge was a powerful and transformative experience for me and my classmates. By embracing the challenge and stepping outside of our comfort zones, we were able to develop our own voices as storytellers, explore new ideas and perspectives, and learn and grow as individuals. The power of narrative is undeniable, and the storytelling challenge is a valuable tool for educators to engage and inspire their students.\\n\\nReferences:\\nBruce, Lester. \"The Power of Storytelling in Early Childhood Education.\" Young Children 58, no. 5 (2003): 14-20.\\n\\nGoldberg, Natalie. \"Writing Down the Bones: Freeing the Writer Within.\" New York: HarperCollins, 1986.\\n\\nHeath, Shirley Brice. \"What Makes a Story a Story? Narrative Influences on Children\\'s Memory for Events.\" In R. S. Siegler,\\nD. C. Miller, & L. J. Hestenes, eds., Children\\'s Thinking: What Developmental Psychology Can Tell Us, 4th ed. New York: Prentice Hall, 2003, pp. 138-150.'"
      ]
     },
     "execution_count": 25,
     "metadata": {},
     "output_type": "execute_result"
    }
   ],
   "source": [
    "mpware[\"full_text\"][1]"
   ]
  },
  {
   "cell_type": "markdown",
   "metadata": {},
   "source": [
    "# Visualization"
   ]
  },
  {
   "cell_type": "code",
   "execution_count": 26,
   "metadata": {},
   "outputs": [],
   "source": [
    "import spacy\n",
    "from spacy.tokens import Span, Doc\n",
    "from spacy import displacy\n",
    "\n",
    "# https://matplotlib.org/2.0.2/examples/color/named_colors.html\n",
    "options = {\n",
    "    \"colors\": {\n",
    "        \"B-NAME_STUDENT\": \"aqua\",\n",
    "        \"I-NAME_STUDENT\": \"aliceblue\",\n",
    "        \"B-EMAIL\": \"forestgreen\",\n",
    "        \"I-EMAIL\": \"greenyellow\",\n",
    "        \"B-USERNAME\": \"hotpink\",\n",
    "        \"I-USERNAME\": \"lightpink\",\n",
    "        \"B-ID_NUM\": \"purple\",\n",
    "        \"I-ID_NUM\": \"rebeccapurple\",\n",
    "        \"B-PHONE_NUM\": \"red\",\n",
    "        \"I-PHONE_NUM\": \"salmon\",\n",
    "        \"B-URL_PERSONAL\": \"slategrey\",\n",
    "        \"I-URL_PERSONAL\": \"silver\",\n",
    "        \"B-STREET_ADDRESS\": \"brown\",\n",
    "        \"I-STREET_ADDRESS\": \"chocolate\",\n",
    "    }\n",
    "}\n",
    "\n",
    "\n",
    "class PiiLabelRenderer:\n",
    "    def __init__(\n",
    "        self,\n",
    "        documents: list[str],\n",
    "        tokens: list[str],\n",
    "        labels: list[str],\n",
    "        options: dict[str, dict[str, str]],\n",
    "    ) -> None:\n",
    "        self.documents = documents\n",
    "        self.tokens = tokens\n",
    "        self.labels = labels\n",
    "        self.options = options\n",
    "        self.nlp = spacy.blank(\"en\")\n",
    "\n",
    "    def render(\n",
    "        self, render_idx: int | None = None, documents_id: int | None = None\n",
    "    ) -> None:\n",
    "        if render_idx and documents_id:\n",
    "            raise Exception(\"Don't Use Both render_idx and documents_id\")\n",
    "        if documents_id:\n",
    "            render_idx = self.documents.index(documents_id)\n",
    "\n",
    "        doc = Doc(self.nlp.vocab, words=self.tokens[render_idx])\n",
    "        # エンティティをDocに追加\n",
    "        ents = []\n",
    "        label_seq: list[str] = self.labels[render_idx]\n",
    "        for i, label in enumerate(label_seq):\n",
    "            if label == \"O\":\n",
    "                continue\n",
    "            ents.append(Span(doc, start=i, end=i + 1, label=label))\n",
    "\n",
    "        doc.ents = ents\n",
    "\n",
    "        displacy.render(doc, style=\"ent\", jupyter=True, options=options)"
   ]
  },
  {
   "cell_type": "code",
   "execution_count": 27,
   "metadata": {},
   "outputs": [],
   "source": [
    "documents = mpware.get_column(\"document\").to_list()\n",
    "tokens = mpware.get_column(\"tokens\").to_list()\n",
    "full_texts = mpware.get_column(\"full_text\").to_list()\n",
    "labels = mpware.get_column(\"labels\").to_list()"
   ]
  },
  {
   "cell_type": "code",
   "execution_count": 28,
   "metadata": {},
   "outputs": [],
   "source": [
    "PLR = PiiLabelRenderer(\n",
    "    documents=documents, tokens=tokens, labels=labels, options=options\n",
    ")"
   ]
  },
  {
   "cell_type": "code",
   "execution_count": 32,
   "metadata": {},
   "outputs": [
    {
     "data": {
      "text/html": [
       "<span class=\"tex2jax_ignore\"><div class=\"entities\" style=\"line-height: 2.5; direction: ltr\">Storytelling Challenge : The Power of Narrative in Modern Society <br><br> In the digital age , the art of storytelling has taken on new forms and expanded its reach to a global audience . From social media platforms to virtual reality experiences , the ways in which stories can be shared and consumed are seemingly endless . Yet , the power of narrative remains the same - the ability to inform , inspire , and connect people across cultures and generations . In this essay , I will explore the storytelling challenge faced by modern society and the role of technology in shaping the future of storytelling . <br><br> As a student at the University , I have been fortunate enough to study under the guidance of renowned author and scholar , John Doe . In his book , &quot; The Power of Narrative : A Guide to Storytelling for the 21st Century , &quot; Doe argues that the most effective stories are those that challenge the reader to see the world from a new perspective . This is especially true in today 's interconnected world , where stories have the power to bridge cultural divides and promote understanding between people of different backgrounds . <br><br> One of the greatest storytelling challenges of our time is the need to create narratives that are both engaging and accessible . With the wealth of information available at our fingertips , it can be difficult to capture and hold the attention of audiences . This is where technology comes into play . From interactive websites to immersive video games , new technologies are providing storytellers with innovative ways to engage their audiences and bring their stories to life . <br><br> However , technology is not without its drawbacks . The rise of social media and the 24 - hour news cycle has led to a culture of instant gratification and short attention spans . This can make it difficult for storytellers to craft long - form narratives that require time and investment from the reader . In addition , the proliferation of fake news and misinformation has created a sense of distrust in traditional storytelling mediums . <br><br> Despite these challenges , the future of storytelling looks bright . With the advent of virtual reality and other immersive technologies , storytellers are now able to create experiences that transport audiences to new worlds and allow them to explore stories in a more interactive and engaging way . Furthermore , the rise of independent publishing platforms has given voice to a new generation of storytellers who may have otherwise gone unheard . <br><br> As a student , I am constantly inspired by the storytelling challenge and the role that technology plays in shaping the future of this art form . Whether it 's through the creation of a podcast , the writing of a novel , or the development of a virtual reality experience , I am excited to be part of a community of creators who are pushing the boundaries of storytelling and finding new ways to engage and connect with audiences . <br><br> In conclusion , the storytelling challenge of modern society is to create narratives that are both engaging and accessible in a world where information is constantly at our fingertips . While technology presents both opportunities and challenges for storytellers , it is clear that the power of narrative remains as strong as ever . As a student and a storyteller , I am committed to exploring the possibilities of this art form and finding new ways to connect with audiences in a rapidly changing world . <br><br> \n",
       "<mark class=\"entity\" style=\"background: aqua; padding: 0.45em 0.6em; margin: 0 0.25em; line-height: 1; border-radius: 0.35em;\">\n",
       "    Pamela\n",
       "    <span style=\"font-size: 0.8em; font-weight: bold; line-height: 1; border-radius: 0.35em; vertical-align: middle; margin-left: 0.5rem\">B-NAME_STUDENT</span>\n",
       "</mark>\n",
       " \n",
       "<mark class=\"entity\" style=\"background: aliceblue; padding: 0.45em 0.6em; margin: 0 0.25em; line-height: 1; border-radius: 0.35em;\">\n",
       "    Navarro\n",
       "    <span style=\"font-size: 0.8em; font-weight: bold; line-height: 1; border-radius: 0.35em; vertical-align: middle; margin-left: 0.5rem\">I-NAME_STUDENT</span>\n",
       "</mark>\n",
       " is a student at the University , studying under the guidance of author and scholar John Doe . \n",
       "<mark class=\"entity\" style=\"background: forestgreen; padding: 0.45em 0.6em; margin: 0 0.25em; line-height: 1; border-radius: 0.35em;\">\n",
       "    mkim@gmail.com\n",
       "    <span style=\"font-size: 0.8em; font-weight: bold; line-height: 1; border-radius: 0.35em; vertical-align: middle; margin-left: 0.5rem\">B-EMAIL</span>\n",
       "</mark>\n",
       " is an active member of the university 's storytelling community and can be reached at \n",
       "<mark class=\"entity\" style=\"background: forestgreen; padding: 0.45em 0.6em; margin: 0 0.25em; line-height: 1; border-radius: 0.35em;\">\n",
       "    mkim@gmail.com\n",
       "    <span style=\"font-size: 0.8em; font-weight: bold; line-height: 1; border-radius: 0.35em; vertical-align: middle; margin-left: 0.5rem\">B-EMAIL</span>\n",
       "</mark>\n",
       " . \n",
       "<mark class=\"entity\" style=\"background: hotpink; padding: 0.45em 0.6em; margin: 0 0.25em; line-height: 1; border-radius: 0.35em;\">\n",
       "    anthony39\n",
       "    <span style=\"font-size: 0.8em; font-weight: bold; line-height: 1; border-radius: 0.35em; vertical-align: middle; margin-left: 0.5rem\">B-USERNAME</span>\n",
       "</mark>\n",
       " is also a member of several online storytelling communities , including \n",
       "<mark class=\"entity\" style=\"background: slategrey; padding: 0.45em 0.6em; margin: 0 0.25em; line-height: 1; border-radius: 0.35em;\">\n",
       "    http://facebook.com/ecosta\n",
       "    <span style=\"font-size: 0.8em; font-weight: bold; line-height: 1; border-radius: 0.35em; vertical-align: middle; margin-left: 0.5rem\">B-URL_PERSONAL</span>\n",
       "</mark>\n",
       " . \n",
       "<mark class=\"entity\" style=\"background: purple; padding: 0.45em 0.6em; margin: 0 0.25em; line-height: 1; border-radius: 0.35em;\">\n",
       "    CKIK16808760385977\n",
       "    <span style=\"font-size: 0.8em; font-weight: bold; line-height: 1; border-radius: 0.35em; vertical-align: middle; margin-left: 0.5rem\">B-ID_NUM</span>\n",
       "</mark>\n",
       " is a resident of \n",
       "<mark class=\"entity\" style=\"background: brown; padding: 0.45em 0.6em; margin: 0 0.25em; line-height: 1; border-radius: 0.35em;\">\n",
       "    490\n",
       "    <span style=\"font-size: 0.8em; font-weight: bold; line-height: 1; border-radius: 0.35em; vertical-align: middle; margin-left: 0.5rem\">B-STREET_ADDRESS</span>\n",
       "</mark>\n",
       " \n",
       "<mark class=\"entity\" style=\"background: chocolate; padding: 0.45em 0.6em; margin: 0 0.25em; line-height: 1; border-radius: 0.35em;\">\n",
       "    Thomas\n",
       "    <span style=\"font-size: 0.8em; font-weight: bold; line-height: 1; border-radius: 0.35em; vertical-align: middle; margin-left: 0.5rem\">I-STREET_ADDRESS</span>\n",
       "</mark>\n",
       " \n",
       "<mark class=\"entity\" style=\"background: chocolate; padding: 0.45em 0.6em; margin: 0 0.25em; line-height: 1; border-radius: 0.35em;\">\n",
       "    Run\n",
       "    <span style=\"font-size: 0.8em; font-weight: bold; line-height: 1; border-radius: 0.35em; vertical-align: middle; margin-left: 0.5rem\">I-STREET_ADDRESS</span>\n",
       "</mark>\n",
       " \n",
       "<mark class=\"entity\" style=\"background: chocolate; padding: 0.45em 0.6em; margin: 0 0.25em; line-height: 1; border-radius: 0.35em;\">\n",
       "    Moonburgh\n",
       "    <span style=\"font-size: 0.8em; font-weight: bold; line-height: 1; border-radius: 0.35em; vertical-align: middle; margin-left: 0.5rem\">I-STREET_ADDRESS</span>\n",
       "</mark>\n",
       " \n",
       "<mark class=\"entity\" style=\"background: chocolate; padding: 0.45em 0.6em; margin: 0 0.25em; line-height: 1; border-radius: 0.35em;\">\n",
       "    ,\n",
       "    <span style=\"font-size: 0.8em; font-weight: bold; line-height: 1; border-radius: 0.35em; vertical-align: middle; margin-left: 0.5rem\">I-STREET_ADDRESS</span>\n",
       "</mark>\n",
       " \n",
       "<mark class=\"entity\" style=\"background: chocolate; padding: 0.45em 0.6em; margin: 0 0.25em; line-height: 1; border-radius: 0.35em;\">\n",
       "    OR\n",
       "    <span style=\"font-size: 0.8em; font-weight: bold; line-height: 1; border-radius: 0.35em; vertical-align: middle; margin-left: 0.5rem\">I-STREET_ADDRESS</span>\n",
       "</mark>\n",
       " \n",
       "<mark class=\"entity\" style=\"background: chocolate; padding: 0.45em 0.6em; margin: 0 0.25em; line-height: 1; border-radius: 0.35em;\">\n",
       "    57633\n",
       "    <span style=\"font-size: 0.8em; font-weight: bold; line-height: 1; border-radius: 0.35em; vertical-align: middle; margin-left: 0.5rem\">I-STREET_ADDRESS</span>\n",
       "</mark>\n",
       " and can often be found exploring the city 's vibrant arts and culture scene . \n",
       "<mark class=\"entity\" style=\"background: red; padding: 0.45em 0.6em; margin: 0 0.25em; line-height: 1; border-radius: 0.35em;\">\n",
       "    (\n",
       "    <span style=\"font-size: 0.8em; font-weight: bold; line-height: 1; border-radius: 0.35em; vertical-align: middle; margin-left: 0.5rem\">B-PHONE_NUM</span>\n",
       "</mark>\n",
       " \n",
       "<mark class=\"entity\" style=\"background: salmon; padding: 0.45em 0.6em; margin: 0 0.25em; line-height: 1; border-radius: 0.35em;\">\n",
       "    265)951\n",
       "    <span style=\"font-size: 0.8em; font-weight: bold; line-height: 1; border-radius: 0.35em; vertical-align: middle; margin-left: 0.5rem\">I-PHONE_NUM</span>\n",
       "</mark>\n",
       " \n",
       "<mark class=\"entity\" style=\"background: salmon; padding: 0.45em 0.6em; margin: 0 0.25em; line-height: 1; border-radius: 0.35em;\">\n",
       "    -\n",
       "    <span style=\"font-size: 0.8em; font-weight: bold; line-height: 1; border-radius: 0.35em; vertical-align: middle; margin-left: 0.5rem\">I-PHONE_NUM</span>\n",
       "</mark>\n",
       " \n",
       "<mark class=\"entity\" style=\"background: salmon; padding: 0.45em 0.6em; margin: 0 0.25em; line-height: 1; border-radius: 0.35em;\">\n",
       "    2567x468\n",
       "    <span style=\"font-size: 0.8em; font-weight: bold; line-height: 1; border-radius: 0.35em; vertical-align: middle; margin-left: 0.5rem\">I-PHONE_NUM</span>\n",
       "</mark>\n",
       " is always looking for new opportunities to engage with other storytellers and is excited to be part of the future of storytelling . </div></span>"
      ],
      "text/plain": [
       "<IPython.core.display.HTML object>"
      ]
     },
     "metadata": {},
     "output_type": "display_data"
    }
   ],
   "source": [
    "PLR.render(render_idx=20)"
   ]
  },
  {
   "cell_type": "code",
   "execution_count": null,
   "metadata": {},
   "outputs": [],
   "source": []
  }
 ],
 "metadata": {
  "kernelspec": {
   "display_name": ".venv",
   "language": "python",
   "name": "python3"
  },
  "language_info": {
   "codemirror_mode": {
    "name": "ipython",
    "version": 3
   },
   "file_extension": ".py",
   "mimetype": "text/x-python",
   "name": "python",
   "nbconvert_exporter": "python",
   "pygments_lexer": "ipython3",
   "version": "3.12.1"
  }
 },
 "nbformat": 4,
 "nbformat_minor": 2
}
