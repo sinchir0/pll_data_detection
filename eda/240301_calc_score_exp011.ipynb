{
 "cells": [
  {
   "cell_type": "code",
   "execution_count": 2,
   "metadata": {},
   "outputs": [],
   "source": [
    "import polars as pl"
   ]
  },
  {
   "cell_type": "code",
   "execution_count": 3,
   "metadata": {},
   "outputs": [],
   "source": [
    "train = pl.read_json(\"../data/train.json\")\n",
    "data = pl.read_csv(\"../valid_df/exp011.csv\")"
   ]
  },
  {
   "cell_type": "code",
   "execution_count": 4,
   "metadata": {},
   "outputs": [
    {
     "data": {
      "text/plain": [
       "polars.config.Config"
      ]
     },
     "execution_count": 4,
     "metadata": {},
     "output_type": "execute_result"
    }
   ],
   "source": [
    "# 全行を表示する\n",
    "pl.Config.set_tbl_rows(10)"
   ]
  },
  {
   "cell_type": "code",
   "execution_count": 5,
   "metadata": {},
   "outputs": [],
   "source": [
    "pred_df = (\n",
    "    data.select(\n",
    "        pl.col(\"document_pred\").replace(\"null\", None).cast(pl.Int64),\n",
    "        pl.col(\"token_pred\").replace(\"null\", None).cast(pl.Int64),\n",
    "        pl.col(\"label_pred\").replace(\"null\", None),\n",
    "    )\n",
    "    .drop_nulls()\n",
    "    .sort(\"document_pred\")\n",
    ")"
   ]
  },
  {
   "cell_type": "code",
   "execution_count": 6,
   "metadata": {},
   "outputs": [],
   "source": [
    "# train_only_valid_document = train.filter(\n",
    "#     pl.col(\"document\").is_in(\n",
    "#         pred_df.get_column(\"document_pred\").unique()\n",
    "#     )\n",
    "# )"
   ]
  },
  {
   "cell_type": "code",
   "execution_count": 7,
   "metadata": {},
   "outputs": [],
   "source": [
    "# train_only_valid_document = train_only_valid_document.with_columns(\n",
    "#     pl.col(\"tokens\").map_elements(len).alias(\"tokens_len\"),\n",
    "# )"
   ]
  },
  {
   "cell_type": "code",
   "execution_count": 8,
   "metadata": {},
   "outputs": [],
   "source": [
    "train_with_token_len = train.with_columns(\n",
    "    pl.col(\"tokens\").map_elements(len).alias(\"tokens_len\"),\n",
    ")"
   ]
  },
  {
   "cell_type": "code",
   "execution_count": 9,
   "metadata": {},
   "outputs": [],
   "source": [
    "pred_df_agg_with_len = (\n",
    "    pred_df.group_by(\"document_pred\")\n",
    "    .agg(\n",
    "        pl.col(\"token_pred\"),\n",
    "        pl.col(\"label_pred\"),\n",
    "    )\n",
    "    .join(\n",
    "        train_with_token_len.select([\"document\", \"tokens_len\", \"labels\"]),\n",
    "        left_on=\"document_pred\",\n",
    "        right_on=\"document\",\n",
    "        how=\"left\",\n",
    "    )\n",
    ")"
   ]
  },
  {
   "cell_type": "code",
   "execution_count": 10,
   "metadata": {},
   "outputs": [],
   "source": [
    "# 推論したlabel列を\n",
    "label_pred_alls = []\n",
    "for token_pred, label_pred, tokens_len in zip(\n",
    "    pred_df_agg_with_len[\"token_pred\"],\n",
    "    pred_df_agg_with_len[\"label_pred\"],\n",
    "    pred_df_agg_with_len[\"tokens_len\"],\n",
    "):\n",
    "    label_pred_all = [\"O\" for _ in range(tokens_len)]\n",
    "    for token, label in zip(token_pred, label_pred):\n",
    "        label_pred_all[token] = label\n",
    "    label_pred_alls.append(label_pred_all)\n",
    "\n",
    "actual_pred_df = pred_df_agg_with_len.with_columns(\n",
    "    pl.Series(\"label_pred_all\", label_pred_alls)\n",
    ").select([\"labels\", \"label_pred_all\"])"
   ]
  },
  {
   "cell_type": "code",
   "execution_count": null,
   "metadata": {},
   "outputs": [],
   "source": []
  },
  {
   "cell_type": "code",
   "execution_count": 11,
   "metadata": {},
   "outputs": [],
   "source": [
    "from seqeval.metrics import f1_score\n",
    "from seqeval.metrics.sequence_labeling import precision_recall_fscore_support"
   ]
  },
  {
   "cell_type": "code",
   "execution_count": 12,
   "metadata": {},
   "outputs": [
    {
     "data": {
      "text/plain": [
       "0.874125874125874"
      ]
     },
     "execution_count": 12,
     "metadata": {},
     "output_type": "execute_result"
    }
   ],
   "source": [
    "f1_score(actual_pred_df[\"labels\"].to_list(), actual_pred_df[\"label_pred_all\"].to_list())"
   ]
  },
  {
   "cell_type": "code",
   "execution_count": 17,
   "metadata": {},
   "outputs": [
    {
     "data": {
      "text/plain": [
       "0.8884636413340623"
      ]
     },
     "execution_count": 17,
     "metadata": {},
     "output_type": "execute_result"
    }
   ],
   "source": [
    "# TODO: f5scoreの計算方法\n",
    "out = precision_recall_fscore_support(\n",
    "    actual_pred_df[\"labels\"].to_list(),\n",
    "    actual_pred_df[\"label_pred_all\"].to_list(),\n",
    "    beta=5,\n",
    "    average=\"micro\",\n",
    ")[2]\n",
    "\n",
    "out"
   ]
  }
 ],
 "metadata": {
  "kernelspec": {
   "display_name": ".venv",
   "language": "python",
   "name": "python3"
  },
  "language_info": {
   "codemirror_mode": {
    "name": "ipython",
    "version": 3
   },
   "file_extension": ".py",
   "mimetype": "text/x-python",
   "name": "python",
   "nbconvert_exporter": "python",
   "pygments_lexer": "ipython3",
   "version": "3.12.1"
  }
 },
 "nbformat": 4,
 "nbformat_minor": 2
}
