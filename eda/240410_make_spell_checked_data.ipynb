{
 "cells": [
  {
   "cell_type": "code",
   "execution_count": 2,
   "id": "fab29a41-58c2-4ed2-953e-c081ecac6ad8",
   "metadata": {},
   "outputs": [
    {
     "name": "stdout",
     "output_type": "stream",
     "text": [
      "Requirement already satisfied: autocorrect in /usr/local/lib/python3.9/dist-packages (2.6.1)\n",
      "\u001b[33mWARNING: Running pip as the 'root' user can result in broken permissions and conflicting behaviour with the system package manager. It is recommended to use a virtual environment instead: https://pip.pypa.io/warnings/venv\u001b[0m\u001b[33m\n",
      "\u001b[0mNote: you may need to restart the kernel to use updated packages.\n",
      "\u001b[33mWARNING: Running pip as the 'root' user can result in broken permissions and conflicting behaviour with the system package manager. It is recommended to use a virtual environment instead: https://pip.pypa.io/warnings/venv\u001b[0m\u001b[33m\n",
      "\u001b[0mNote: you may need to restart the kernel to use updated packages.\n"
     ]
    }
   ],
   "source": [
    "%pip install autocorrect\n",
    "%pip install -q datasets==2.16.1"
   ]
  },
  {
   "cell_type": "code",
   "execution_count": 3,
   "id": "49d4b123-0578-468c-997a-9332c06b4b26",
   "metadata": {},
   "outputs": [],
   "source": [
    "import datasets\n",
    "assert datasets.__version__ == \"2.16.1\""
   ]
  },
  {
   "cell_type": "code",
   "execution_count": 6,
   "id": "58fbbb96-d024-47f5-bfe6-a331c7d4db14",
   "metadata": {},
   "outputs": [],
   "source": [
    "import os\n",
    "import numpy as np\n",
    "import torch\n",
    "import random\n",
    "SEED = 42\n",
    "# Seed the same seed to all\n",
    "def seed_everything(seed: int):\n",
    "    random.seed(seed)\n",
    "    os.environ[\"PYTHONHASHSEED\"] = str(seed)\n",
    "    np.random.seed(seed)\n",
    "    torch.manual_seed(seed)\n",
    "    torch.cuda.manual_seed(seed)\n",
    "    torch.backends.cudnn.deterministic = True\n",
    "    torch.backends.cudnn.benchmark = True\n",
    "\n",
    "\n",
    "seed_everything(SEED)"
   ]
  },
  {
   "cell_type": "code",
   "execution_count": 10,
   "id": "8862827e-ef25-4cc2-961d-b8d4d0f68886",
   "metadata": {},
   "outputs": [
    {
     "data": {
      "application/vnd.jupyter.widget-view+json": {
       "model_id": "e6fdaa077a51419fab11c000e35059cc",
       "version_major": 2,
       "version_minor": 0
      },
      "text/plain": [
       "Generating train split: 0 examples [00:00, ? examples/s]"
      ]
     },
     "metadata": {},
     "output_type": "display_data"
    }
   ],
   "source": [
    "from datasets import load_dataset\n",
    "DATA_PATH = \"../../pll_data_detection/data\"\n",
    "train_dataset = (\n",
    "    load_dataset(\n",
    "        \"json\", data_files=f\"{DATA_PATH}/train.json\", split=\"train\"\n",
    "    )\n",
    ")"
   ]
  },
  {
   "cell_type": "code",
   "execution_count": 11,
   "id": "45ccea85-0a1c-4e22-bc41-65c486ac727a",
   "metadata": {},
   "outputs": [
    {
     "data": {
      "text/plain": [
       "Dataset({\n",
       "    features: ['trailing_whitespace', 'tokens', 'document', 'labels', 'full_text'],\n",
       "    num_rows: 6807\n",
       "})"
      ]
     },
     "execution_count": 11,
     "metadata": {},
     "output_type": "execute_result"
    }
   ],
   "source": [
    "train_dataset"
   ]
  },
  {
   "cell_type": "code",
   "execution_count": null,
   "id": "98d5df57-4b7e-425c-bd87-5513222e61f5",
   "metadata": {},
   "outputs": [
    {
     "data": {
      "application/vnd.jupyter.widget-view+json": {
       "model_id": "30f1b33554fd4044ba628ea141da1b33",
       "version_major": 2,
       "version_minor": 0
      },
      "text/plain": [
       "Map (num_proc=8):   0%|          | 0/6807 [00:00<?, ? examples/s]"
      ]
     },
     "metadata": {},
     "output_type": "display_data"
    },
    {
     "data": {
      "application/vnd.jupyter.widget-view+json": {
       "model_id": "1f0180a1bd1a4007a887929106eda3bb",
       "version_major": 2,
       "version_minor": 0
      },
      "text/plain": [
       "Map (num_proc=8):   0%|          | 0/6807 [00:00<?, ? examples/s]"
      ]
     },
     "metadata": {},
     "output_type": "display_data"
    }
   ],
   "source": [
    "# 誤字の修正\n",
    "import os \n",
    "from autocorrect import Speller\n",
    "spell = Speller(lang='en')\n",
    "\n",
    "def correct_spell_full_text(example):\n",
    "    corrected_text = spell(example['full_text'])\n",
    "    return {\"full_text\": corrected_text}\n",
    "\n",
    "def correct_spell_token(example):\n",
    "    return {\"tokens\": [spell(token) for token in example[\"tokens\"]]}\n",
    "\n",
    "# 本当はfull_textの修正を行う必要はないが、やっておくと安心\n",
    "train_dataset = train_dataset.map(correct_spell_full_text, num_proc=os.cpu_count())\n",
    "train_dataset = train_dataset.map(correct_spell_token, num_proc=os.cpu_count())"
   ]
  },
  {
   "cell_type": "code",
   "execution_count": null,
   "id": "270612e9-dc22-4c67-9f2d-83ae8998bd66",
   "metadata": {},
   "outputs": [],
   "source": [
    "# train_dataset.save_to_disk(\"../../pll_data_detection/data/train_spell_corrected\")"
   ]
  },
  {
   "cell_type": "code",
   "execution_count": null,
   "id": "f807fc76-c057-4460-b848-a0dd8085b562",
   "metadata": {},
   "outputs": [],
   "source": [
    "train_dataset.to_json(\"../../pll_data_detection/data/train_spell_corrected.json\")"
   ]
  }
 ],
 "metadata": {
  "kernelspec": {
   "display_name": "Python 3 (ipykernel)",
   "language": "python",
   "name": "python3"
  },
  "language_info": {
   "codemirror_mode": {
    "name": "ipython",
    "version": 3
   },
   "file_extension": ".py",
   "mimetype": "text/x-python",
   "name": "python",
   "nbconvert_exporter": "python",
   "pygments_lexer": "ipython3",
   "version": "3.9.16"
  }
 },
 "nbformat": 4,
 "nbformat_minor": 5
}
