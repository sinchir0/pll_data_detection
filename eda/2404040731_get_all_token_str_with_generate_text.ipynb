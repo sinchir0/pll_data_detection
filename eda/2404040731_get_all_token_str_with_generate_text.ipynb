{
 "cells": [
  {
   "cell_type": "markdown",
   "metadata": {},
   "source": [
    "# 目的\n",
    "- O以外のタグについて、B,Iで結合した文字列を取得し、データフレームにする"
   ]
  },
  {
   "cell_type": "code",
   "execution_count": 3,
   "metadata": {},
   "outputs": [
    {
     "name": "stderr",
     "output_type": "stream",
     "text": [
      "/Users/shinichiro.saito/pll_data_detection/.venv/lib/python3.12/site-packages/tqdm/auto.py:21: TqdmWarning: IProgress not found. Please update jupyter and ipywidgets. See https://ipywidgets.readthedocs.io/en/stable/user_install.html\n",
      "  from .autonotebook import tqdm as notebook_tqdm\n"
     ]
    }
   ],
   "source": [
    "import polars as pl\n",
    "import ast\n",
    "from tqdm.auto import tqdm"
   ]
  },
  {
   "cell_type": "code",
   "execution_count": 4,
   "metadata": {},
   "outputs": [],
   "source": [
    "train = pl.read_json(\"../data/train.json\")\n",
    "moredata = pl.read_csv(\"../data/moredata_dataset_fixed.csv\").with_columns(\n",
    "    pl.col(\"tokens\").map_elements(lambda x: ast.literal_eval(x)),\n",
    "    pl.col(\"trailing_whitespace\").map_elements(lambda x: ast.literal_eval(x)),\n",
    "    pl.col(\"labels\").map_elements(lambda x: ast.literal_eval(x)),\n",
    ")\n",
    "pii_dataset = pl.read_csv(\"../data/pii_dataset_fixed.csv\").with_columns(\n",
    "    pl.col(\"tokens\").map_elements(lambda x: ast.literal_eval(x)),\n",
    "    pl.col(\"trailing_whitespace\").map_elements(lambda x: ast.literal_eval(x)),\n",
    "    pl.col(\"labels\").map_elements(lambda x: ast.literal_eval(x)),\n",
    ")\n",
    "mixtral = pl.read_json(\"../data/mixtral-8x7b-v1.json\")\n",
    "\n",
    "mpware = pl.read_json(\"../data/mpware_mixtral8x7b_v1.1.json\")\n",
    "\n",
    "generate_text = pl.read_csv(\n",
    "    \"../make_base_essay_100/generated_pii_data.csv\"\n",
    ").with_columns(\n",
    "    pl.col(\"tokens\").map_elements(lambda x: ast.literal_eval(x)),\n",
    "    pl.col(\"trailing_whitespace\").map_elements(lambda x: ast.literal_eval(x)),\n",
    "    pl.col(\"labels\").map_elements(lambda x: ast.literal_eval(x)),\n",
    ")"
   ]
  },
  {
   "cell_type": "code",
   "execution_count": 11,
   "metadata": {},
   "outputs": [],
   "source": [
    "# B-で始まっていたら、tokenを文字列に追加、suffixを\n",
    "# 次のtokenがI-で始まっている & 一つ前と同じ"
   ]
  },
  {
   "cell_type": "code",
   "execution_count": 5,
   "metadata": {},
   "outputs": [
    {
     "name": "stderr",
     "output_type": "stream",
     "text": [
      "100%|██████████| 6807/6807 [00:01<00:00, 5714.26it/s]\n"
     ]
    },
    {
     "data": {
      "text/html": [
       "<div><style>\n",
       ".dataframe > thead > tr,\n",
       ".dataframe > tbody > tr {\n",
       "  text-align: right;\n",
       "  white-space: pre-wrap;\n",
       "}\n",
       "</style>\n",
       "<small>shape: (1_365, 7)</small><table border=\"1\" class=\"dataframe\"><thead><tr><th>NAME_STUDENT</th><th>EMAIL</th><th>USERNAME</th><th>ID_NUM</th><th>PHONE_NUM</th><th>URL_PERSONAL</th><th>STREET_ADDRESS</th></tr><tr><td>str</td><td>str</td><td>str</td><td>str</td><td>str</td><td>str</td><td>str</td></tr></thead><tbody><tr><td>&quot;Nathalie Sylla…</td><td>&quot;djones@gmail.c…</td><td>&quot;castanedagabri…</td><td>&quot;860632713425&quot;</td><td>&quot;( 320)202 - 06…</td><td>&quot;https://www.ja…</td><td>&quot;591 Smith Cent…</td></tr><tr><td>&quot;Nathalie Sylla…</td><td>&quot;matthew72@hotm…</td><td>&quot;fdixon&quot;</td><td>&quot;530670102508&quot;</td><td>&quot;( 223)392 - 27…</td><td>&quot;https://www.li…</td><td>&quot;743 Erika Bypa…</td></tr><tr><td>&quot;Nathalie Sylla…</td><td>&quot;belindarojas@y…</td><td>&quot;fdixon&quot;</td><td>&quot;530670102508&quot;</td><td>&quot;( 820)913 - 32…</td><td>&quot;https://youtu.…</td><td>null</td></tr><tr><td>&quot;Diego Estrada&quot;</td><td>&quot;kennethevans@h…</td><td>&quot;meyermichelle&quot;</td><td>&quot;875673967537&quot;</td><td>&quot;( 820)913 - 32…</td><td>&quot;https://www.ha…</td><td>null</td></tr><tr><td>&quot;Diego Estrada&quot;</td><td>&quot;agood@gmail.co…</td><td>&quot;jacob59&quot;</td><td>&quot;860632713425&quot;</td><td>&quot;( 820)913 - 32…</td><td>&quot;http://www.bur…</td><td>null</td></tr><tr><td>&quot;Gilberto Gambo…</td><td>&quot;agood@gmail.co…</td><td>&quot;holmespatrick&quot;</td><td>&quot;557349702179&quot;</td><td>&quot;410.526.1667&quot;</td><td>&quot;http://jacobs-…</td><td>null</td></tr><tr><td>&quot;Sindy Samaca&quot;</td><td>&quot;hwillis@gmail.…</td><td>null</td><td>&quot;784372734211&quot;</td><td>null</td><td>&quot;https://www.yo…</td><td>null</td></tr><tr><td>&quot;Nadine Born&quot;</td><td>&quot;kellyharrison@…</td><td>null</td><td>&quot;054176622314&quot;</td><td>null</td><td>&quot;tps://www.face…</td><td>null</td></tr><tr><td>&quot;Eladio Amaya&quot;</td><td>&quot;kellyharrison@…</td><td>null</td><td>&quot;674915248960&quot;</td><td>null</td><td>&quot;https://www.yo…</td><td>null</td></tr><tr><td>&quot;Silvia Villalo…</td><td>&quot;lowetyler@hotm…</td><td>null</td><td>&quot;932353568953&quot;</td><td>null</td><td>&quot;https://oconne…</td><td>null</td></tr><tr><td>&quot;Sakir Ahmad&quot;</td><td>&quot;murraythomas@g…</td><td>null</td><td>&quot;982645662261&quot;</td><td>null</td><td>&quot;https://www.pe…</td><td>null</td></tr><tr><td>&quot;Francisco Ferr…</td><td>&quot;vmartinez@hotm…</td><td>null</td><td>&quot;409046248321&quot;</td><td>null</td><td>&quot;https://diaz.c…</td><td>null</td></tr><tr><td>&hellip;</td><td>&hellip;</td><td>&hellip;</td><td>&hellip;</td><td>&hellip;</td><td>&hellip;</td><td>&hellip;</td></tr><tr><td>&quot;Alina Ijaz&quot;</td><td>null</td><td>null</td><td>null</td><td>null</td><td>null</td><td>null</td></tr><tr><td>&quot;Hersh Guerrero…</td><td>null</td><td>null</td><td>null</td><td>null</td><td>null</td><td>null</td></tr><tr><td>&quot;Robert Walsh&quot;</td><td>null</td><td>null</td><td>null</td><td>null</td><td>null</td><td>null</td></tr><tr><td>&quot;Said Catania&quot;</td><td>null</td><td>null</td><td>null</td><td>null</td><td>null</td><td>null</td></tr><tr><td>&quot;Brittany Jacks…</td><td>null</td><td>null</td><td>null</td><td>null</td><td>null</td><td>null</td></tr><tr><td>&quot;Gopal Kumar&quot;</td><td>null</td><td>null</td><td>null</td><td>null</td><td>null</td><td>null</td></tr><tr><td>&quot;Jose Luis Llam…</td><td>null</td><td>null</td><td>null</td><td>null</td><td>null</td><td>null</td></tr><tr><td>&quot;Jose Luis Llam…</td><td>null</td><td>null</td><td>null</td><td>null</td><td>null</td><td>null</td></tr><tr><td>&quot;Oscar&quot;</td><td>null</td><td>null</td><td>null</td><td>null</td><td>null</td><td>null</td></tr><tr><td>&quot;Silvia Cervant…</td><td>null</td><td>null</td><td>null</td><td>null</td><td>null</td><td>null</td></tr><tr><td>&quot;Carlos Hernand…</td><td>null</td><td>null</td><td>null</td><td>null</td><td>null</td><td>null</td></tr><tr><td>&quot;Carlos Hernand…</td><td>null</td><td>null</td><td>null</td><td>null</td><td>null</td><td>null</td></tr></tbody></table></div>"
      ],
      "text/plain": [
       "shape: (1_365, 7)\n",
       "┌──────────────┬─────────────┬─────────────┬─────────────┬─────────────┬─────────────┬─────────────┐\n",
       "│ NAME_STUDENT ┆ EMAIL       ┆ USERNAME    ┆ ID_NUM      ┆ PHONE_NUM   ┆ URL_PERSONA ┆ STREET_ADDR │\n",
       "│ ---          ┆ ---         ┆ ---         ┆ ---         ┆ ---         ┆ L           ┆ ESS         │\n",
       "│ str          ┆ str         ┆ str         ┆ str         ┆ str         ┆ ---         ┆ ---         │\n",
       "│              ┆             ┆             ┆             ┆             ┆ str         ┆ str         │\n",
       "╞══════════════╪═════════════╪═════════════╪═════════════╪═════════════╪═════════════╪═════════════╡\n",
       "│ Nathalie     ┆ djones@gmai ┆ castanedaga ┆ 86063271342 ┆ ( 320)202 - ┆ https://www ┆ 591 Smith   │\n",
       "│ Sylla        ┆ l.com       ┆ briel       ┆ 5           ┆ 0688x95843  ┆ .jackson.co ┆ Centers Apt │\n",
       "│              ┆             ┆             ┆             ┆             ┆ m/list/exp… ┆ . 656       │\n",
       "│              ┆             ┆             ┆             ┆             ┆             ┆  Jo…        │\n",
       "│ Nathalie     ┆ matthew72@h ┆ fdixon      ┆ 53067010250 ┆ ( 223)392 - ┆ https://www ┆ 743 Erika   │\n",
       "│ Sylla        ┆ otmail.com  ┆             ┆ 8           ┆ 2765        ┆ .linkedin.c ┆ Bypass Apt  │\n",
       "│              ┆             ┆             ┆             ┆             ┆ om/in/mmar… ┆ . 419       │\n",
       "│              ┆             ┆             ┆             ┆             ┆             ┆  And…       │\n",
       "│ Nathalie     ┆ belindaroja ┆ fdixon      ┆ 53067010250 ┆ ( 820)913 - ┆ https://you ┆ null        │\n",
       "│ Sylla        ┆ s@yahoo.com ┆             ┆ 8           ┆ 3241x894    ┆ tu.be/rFD2l ┆             │\n",
       "│              ┆             ┆             ┆             ┆             ┆ Juvace      ┆             │\n",
       "│ Diego        ┆ kennethevan ┆ meyermichel ┆ 87567396753 ┆ ( 820)913 - ┆ https://www ┆ null        │\n",
       "│ Estrada      ┆ s@hotmail.c ┆ le          ┆ 7           ┆ 3241x894    ┆ .hall.biz/w ┆             │\n",
       "│              ┆ om          ┆             ┆             ┆             ┆ p-contenth… ┆             │\n",
       "│ Diego        ┆ agood@gmail ┆ jacob59     ┆ 86063271342 ┆ ( 820)913 - ┆ http://www. ┆ null        │\n",
       "│ Estrada      ┆ .com        ┆             ┆ 5           ┆ 3241x894    ┆ burns-lopez ┆             │\n",
       "│              ┆             ┆             ┆             ┆             ┆ .com/categ… ┆             │\n",
       "│ …            ┆ …           ┆ …           ┆ …           ┆ …           ┆ …           ┆ …           │\n",
       "│ Jose Luis    ┆ null        ┆ null        ┆ null        ┆ null        ┆ null        ┆ null        │\n",
       "│ Llamas       ┆             ┆             ┆             ┆             ┆             ┆             │\n",
       "│ Oscar        ┆ null        ┆ null        ┆ null        ┆ null        ┆ null        ┆ null        │\n",
       "│ Silvia       ┆ null        ┆ null        ┆ null        ┆ null        ┆ null        ┆ null        │\n",
       "│ Cervantes    ┆             ┆             ┆             ┆             ┆             ┆             │\n",
       "│ Carlos       ┆ null        ┆ null        ┆ null        ┆ null        ┆ null        ┆ null        │\n",
       "│ Hernandez    ┆             ┆             ┆             ┆             ┆             ┆             │\n",
       "│ Carlos       ┆ null        ┆ null        ┆ null        ┆ null        ┆ null        ┆ null        │\n",
       "│ Hernandez    ┆             ┆             ┆             ┆             ┆             ┆             │\n",
       "└──────────────┴─────────────┴─────────────┴─────────────┴─────────────┴─────────────┴─────────────┘"
      ]
     },
     "execution_count": 5,
     "metadata": {},
     "output_type": "execute_result"
    }
   ],
   "source": [
    "def tokens_to_entities(tokens, labels):\n",
    "    entities = []\n",
    "    entity = []\n",
    "    current_label = None\n",
    "    for token, label in zip(tokens, labels):\n",
    "        if label.startswith(\"B-\"):\n",
    "            # If there is an entity being built, add it to the entities list\n",
    "            if entity:\n",
    "                entities.append((\" \".join(entity), current_label))\n",
    "            # Start a new entity\n",
    "            entity = [token]\n",
    "            current_label = label[2:]  # Remove 'B-' from the label\n",
    "        elif label.startswith(\"I-\") and entity:\n",
    "            # If the entity is being built, add the token to the entity\n",
    "            entity.append(token)\n",
    "    # Add the last entity\n",
    "    if entity:\n",
    "        entities.append((\" \".join(entity), current_label))\n",
    "    return entities\n",
    "\n",
    "\n",
    "def make_token_df(data: pl.DataFrame) -> pl.DataFrame:\n",
    "    NAME_STUDENT_token = []\n",
    "    EMAIL_token = []\n",
    "    USERNAME_token = []\n",
    "    ID_NUM_token = []\n",
    "    PHONE_NUM_token = []\n",
    "    URL_PERSONAL_token = []\n",
    "    STREET_ADDRESS_token = []\n",
    "\n",
    "    all_labels = [\n",
    "        \"NAME_STUDENT\",\n",
    "        \"EMAIL\",\n",
    "        \"USERNAME\",\n",
    "        \"ID_NUM\",\n",
    "        \"PHONE_NUM\",\n",
    "        \"URL_PERSONAL\",\n",
    "        \"STREET_ADDRESS\",\n",
    "    ]\n",
    "\n",
    "    for tokens, labels in tqdm(zip(data[\"tokens\"], data[\"labels\"]), total=len(data)):\n",
    "        tokens_labels = tokens_to_entities(tokens, labels)\n",
    "        for token, label in tokens_labels:\n",
    "            if label == \"NAME_STUDENT\":\n",
    "                NAME_STUDENT_token.append(token)\n",
    "            elif label == \"EMAIL\":\n",
    "                EMAIL_token.append(token)\n",
    "            elif label == \"USERNAME\":\n",
    "                USERNAME_token.append(token)\n",
    "            elif label == \"ID_NUM\":\n",
    "                ID_NUM_token.append(token)\n",
    "            elif label == \"PHONE_NUM\":\n",
    "                PHONE_NUM_token.append(token)\n",
    "            elif label == \"URL_PERSONAL\":\n",
    "                URL_PERSONAL_token.append(token)\n",
    "            elif label == \"STREET_ADDRESS\":\n",
    "                STREET_ADDRESS_token.append(token)\n",
    "\n",
    "    max_len = max(\n",
    "        len(NAME_STUDENT_token),\n",
    "        len(EMAIL_token),\n",
    "        len(USERNAME_token),\n",
    "        len(ID_NUM_token),\n",
    "        len(PHONE_NUM_token),\n",
    "        len(URL_PERSONAL_token),\n",
    "        len(STREET_ADDRESS_token),\n",
    "    )\n",
    "\n",
    "    def pad_token(token: list[str]) -> list[str]:\n",
    "        return token + [None for _ in range(max_len - len(token))]\n",
    "\n",
    "    return pl.DataFrame(\n",
    "        [\n",
    "            pad_token(NAME_STUDENT_token),\n",
    "            pad_token(EMAIL_token),\n",
    "            pad_token(USERNAME_token),\n",
    "            pad_token(ID_NUM_token),\n",
    "            pad_token(PHONE_NUM_token),\n",
    "            pad_token(URL_PERSONAL_token),\n",
    "            pad_token(STREET_ADDRESS_token),\n",
    "        ],\n",
    "        orient=\"col\",\n",
    "        schema=all_labels,\n",
    "    )\n",
    "\n",
    "\n",
    "make_token_df(train)"
   ]
  },
  {
   "cell_type": "code",
   "execution_count": 6,
   "metadata": {},
   "outputs": [
    {
     "name": "stderr",
     "output_type": "stream",
     "text": [
      "100%|██████████| 6807/6807 [00:01<00:00, 5727.64it/s]\n"
     ]
    }
   ],
   "source": [
    "train_token_df = make_token_df(train)"
   ]
  },
  {
   "cell_type": "code",
   "execution_count": 7,
   "metadata": {},
   "outputs": [
    {
     "name": "stderr",
     "output_type": "stream",
     "text": [
      "100%|██████████| 2000/2000 [00:00<00:00, 6380.10it/s]\n"
     ]
    }
   ],
   "source": [
    "moredata_token_df = make_token_df(moredata)\n",
    "moredata_token_df.columns = [\n",
    "    \"more_\" + col_name for col_name in moredata_token_df.columns\n",
    "]"
   ]
  },
  {
   "cell_type": "code",
   "execution_count": 8,
   "metadata": {},
   "outputs": [
    {
     "name": "stderr",
     "output_type": "stream",
     "text": [
      "100%|██████████| 4434/4434 [00:00<00:00, 10645.55it/s]\n"
     ]
    }
   ],
   "source": [
    "pii_dataset_token_df = make_token_df(pii_dataset)\n",
    "pii_dataset_token_df.columns = [\n",
    "    \"pii_\" + col_name for col_name in pii_dataset_token_df.columns\n",
    "]"
   ]
  },
  {
   "cell_type": "code",
   "execution_count": 9,
   "metadata": {},
   "outputs": [
    {
     "name": "stderr",
     "output_type": "stream",
     "text": [
      "100%|██████████| 2355/2355 [00:00<00:00, 4544.54it/s]\n"
     ]
    }
   ],
   "source": [
    "mixtral_token_df = make_token_df(mixtral)\n",
    "mixtral_token_df.columns = [\n",
    "    \"mixtral_\" + col_name for col_name in mixtral_token_df.columns\n",
    "]"
   ]
  },
  {
   "cell_type": "code",
   "execution_count": 10,
   "metadata": {},
   "outputs": [
    {
     "name": "stderr",
     "output_type": "stream",
     "text": [
      "100%|██████████| 2692/2692 [00:00<00:00, 5085.37it/s]\n"
     ]
    }
   ],
   "source": [
    "mpware_token_df = make_token_df(mpware)\n",
    "mpware_token_df.columns = [\"mpware_\" + col_name for col_name in mpware_token_df.columns]"
   ]
  },
  {
   "cell_type": "code",
   "execution_count": 11,
   "metadata": {},
   "outputs": [
    {
     "name": "stderr",
     "output_type": "stream",
     "text": [
      "100%|██████████| 100/100 [00:00<00:00, 6197.72it/s]\n"
     ]
    }
   ],
   "source": [
    "generate_text_token_df = make_token_df(generate_text)\n",
    "generate_text_token_df.columns = [\n",
    "    \"generate_text_\" + col_name for col_name in generate_text_token_df.columns\n",
    "]"
   ]
  },
  {
   "cell_type": "code",
   "execution_count": 12,
   "metadata": {},
   "outputs": [],
   "source": [
    "token_df = pl.concat(\n",
    "    [\n",
    "        train_token_df,\n",
    "        moredata_token_df,\n",
    "        pii_dataset_token_df,\n",
    "        mixtral_token_df,\n",
    "        mpware_token_df,\n",
    "        generate_text_token_df,\n",
    "    ],\n",
    "    how=\"horizontal\",\n",
    ")"
   ]
  },
  {
   "cell_type": "code",
   "execution_count": 13,
   "metadata": {},
   "outputs": [],
   "source": [
    "token_df_column = []\n",
    "for (\n",
    "    train_token,\n",
    "    modedata_token,\n",
    "    pii_dataset_token,\n",
    "    mixtral_token,\n",
    "    mpware_token,\n",
    "    generate_text_token,\n",
    ") in zip(\n",
    "    train_token_df.columns,\n",
    "    moredata_token_df.columns,\n",
    "    pii_dataset_token_df.columns,\n",
    "    mixtral_token_df.columns,\n",
    "    mpware_token_df.columns,\n",
    "    generate_text_token_df.columns,\n",
    "):\n",
    "    token_df_column.append(train_token)\n",
    "    token_df_column.append(modedata_token)\n",
    "    token_df_column.append(pii_dataset_token)\n",
    "    token_df_column.append(mixtral_token)\n",
    "    token_df_column.append(mpware_token)\n",
    "    token_df_column.append(generate_text_token)"
   ]
  },
  {
   "cell_type": "code",
   "execution_count": 14,
   "metadata": {},
   "outputs": [],
   "source": [
    "# 並び替え\n",
    "token_df[token_df_column].write_csv(\"output/concat_token_df_with_mpware_generate.csv\")"
   ]
  },
  {
   "cell_type": "code",
   "execution_count": 24,
   "metadata": {},
   "outputs": [],
   "source": [
    "tst = token_df[token_df_column][\"ID_NUM\"].map_elements(lambda x: len(x)).to_list()"
   ]
  },
  {
   "cell_type": "code",
   "execution_count": 27,
   "metadata": {},
   "outputs": [
    {
     "data": {
      "text/plain": [
       "Counter({None: 22885,\n",
       "         12: 55,\n",
       "         15: 5,\n",
       "         16: 3,\n",
       "         13: 2,\n",
       "         19: 2,\n",
       "         6: 2,\n",
       "         9: 2,\n",
       "         7: 2,\n",
       "         8: 1,\n",
       "         11: 1,\n",
       "         10: 1,\n",
       "         5: 1,\n",
       "         18: 1})"
      ]
     },
     "execution_count": 27,
     "metadata": {},
     "output_type": "execute_result"
    }
   ],
   "source": [
    "from collections import Counter\n",
    "\n",
    "Counter(tst)"
   ]
  },
  {
   "cell_type": "code",
   "execution_count": null,
   "metadata": {},
   "outputs": [],
   "source": []
  }
 ],
 "metadata": {
  "kernelspec": {
   "display_name": ".venv",
   "language": "python",
   "name": "python3"
  },
  "language_info": {
   "codemirror_mode": {
    "name": "ipython",
    "version": 3
   },
   "file_extension": ".py",
   "mimetype": "text/x-python",
   "name": "python",
   "nbconvert_exporter": "python",
   "pygments_lexer": "ipython3",
   "version": "3.12.1"
  }
 },
 "nbformat": 4,
 "nbformat_minor": 2
}
