{
 "cells": [
  {
   "cell_type": "markdown",
   "metadata": {},
   "source": [
    "# 目的\n",
    "spaCyのdisplaCyを用いて、文章とタグを可視化する"
   ]
  },
  {
   "cell_type": "code",
   "execution_count": 1,
   "metadata": {},
   "outputs": [],
   "source": [
    "import polars as pl\n",
    "\n",
    "import spacy\n",
    "from spacy.tokens import Span\n",
    "from spacy import displacy"
   ]
  },
  {
   "cell_type": "code",
   "execution_count": 2,
   "metadata": {},
   "outputs": [],
   "source": [
    "# 一度だけ必要\n",
    "#!poetry run python -m spacy download en_core_web_sm"
   ]
  },
  {
   "cell_type": "code",
   "execution_count": 3,
   "metadata": {},
   "outputs": [],
   "source": [
    "# https://matplotlib.org/2.0.2/examples/color/named_colors.html\n",
    "options = {\n",
    "    \"colors\": {\n",
    "        \"B-NAME_STUDENT\": \"aqua\",\n",
    "        \"I-NAME_STUDENT\": \"aliceblue\",\n",
    "        \"B-EMAIL\": \"forestgreen\",\n",
    "        \"I-EMAIL\": \"greenyellow\",\n",
    "        \"B-USERNAME\": \"hotpink\",\n",
    "        \"I-USERNAME\": \"lightpink\",\n",
    "        \"B-ID_NUM\": \"purple\",\n",
    "        \"I-ID_NUM\": \"rebeccapurple\",\n",
    "        \"B-PHONE_NUM\": \"red\",\n",
    "        \"I-PHONE_NUM\": \"salmon\",\n",
    "        \"B-URL_PERSONAL\": \"slategrey\",\n",
    "        \"I-URL_PERSONAL\": \"silver\",\n",
    "        \"B-STREET_ADDRESS\": \"brown\",\n",
    "        \"I-STREET_ADDRESS\": \"chocolate\",\n",
    "    }\n",
    "}"
   ]
  },
  {
   "cell_type": "code",
   "execution_count": 4,
   "metadata": {},
   "outputs": [],
   "source": [
    "original_data = pl.read_csv(\n",
    "    \"../generate_text/make_base_essay_teacher_celebrity_100/generated_df.csv\"\n",
    ")"
   ]
  },
  {
   "cell_type": "code",
   "execution_count": 5,
   "metadata": {},
   "outputs": [
    {
     "data": {
      "text/plain": [
       "'Vicolo Raffaellino, 95 70024, Murgetta (BA)'"
      ]
     },
     "execution_count": 5,
     "metadata": {},
     "output_type": "execute_result"
    }
   ],
   "source": [
    "original_data[8][\"STREET_ADDRESS\"][0]"
   ]
  },
  {
   "cell_type": "code",
   "execution_count": 6,
   "metadata": {},
   "outputs": [],
   "source": [
    "import ast\n",
    "\n",
    "data = pl.read_csv(\n",
    "    \"../generate_text/make_base_essay_teacher_celebrity_100/pii_data_make_base_essay_teacher_celebrity_100_2.csv\"\n",
    ").with_columns(\n",
    "    pl.col(\"tokens\").map_elements(lambda x: ast.literal_eval(x)),\n",
    "    pl.col(\"trailing_whitespace\").map_elements(lambda x: ast.literal_eval(x)),\n",
    "    pl.col(\"labels\").map_elements(lambda x: ast.literal_eval(x)),\n",
    ")"
   ]
  },
  {
   "cell_type": "code",
   "execution_count": 7,
   "metadata": {},
   "outputs": [],
   "source": [
    "documents = data.get_column(\"document\").to_list()\n",
    "tokens = data.get_column(\"tokens\").to_list()\n",
    "full_texts = data.get_column(\"full_text\").to_list()\n",
    "labels = data.get_column(\"labels\").to_list()"
   ]
  },
  {
   "cell_type": "code",
   "execution_count": 8,
   "metadata": {},
   "outputs": [
    {
     "data": {
      "text/plain": [
       "\"In addressing the challenge of increasing the online visibility and user engagement on my personal website, https://mcclain.com/better/discover/donaldgarcia, I decided to apply the tool of Storytelling from Module 2 of our course, guided by our instructor, Kimberly Dudley. As someone deeply intrigued by the power of narrative to connect and communicate, the choice of Storytelling stood out for its ability to craft compelling messages that resonate with audiences. This tool, thoroughly explained in our video lectures, emphasizes the creation and sharing of stories to convey ideas in a more impactful manner.\\n\\nApplying Storytelling to my challenge involved initially understanding the story of my website and its purpose. I embarked on this by crafting a narrative that encapsulated the journey of its creation and the unique value it offers to visitors. This narrative was then integrated across various sections of the site, aiming to weave a coherent and engaging story that visitors could connect with. The application process was both creative and introspective, pushing me to consider not just what my website offered but how it made users feel.\\n\\nThe insight gained from this application was profound. It highlighted the importance of emotional connection in digital spaces, a concept I had underestimated. I learned that by sharing a bit of myself and my journey through the site's narrative, users were more engaged and spent longer exploring the content. This realization not only shifted my thinking about the challenge at hand but also broadened my understanding of design thinking. It underscored the versatility and power of storytelling beyond traditional contexts, revealing its potential as a tool for problem-solving in digital design.\\n\\nIn reflecting on the approach for future applications, I would focus more on collecting audience feedback to refine the storytelling elements continuously. Understanding that narratives can evolve and should be dynamic, gathering insights from users could provide a more tailored experience, enhancing engagement further. Additionally, exploring other design thinking tools like Mind Mapping from Module 3 might offer complementary insights for structuring content and ideas more effectively on my website.\\n\\nIntegrating personal information such as my username, donaldgarcia, and user id, mh:175500265774, into the site’s story, could amplify the personal touch, making the narrative not just about a website but about a journey and an identity. Likewise, mentioning that I can be reached for feedback or collaboration at allison_hill@yahoo.com or through a call to 989.608.3863 could foster a sense of community and open communication. Even weaving in subtle nods to interests, such as my admiration for the work ethic and creativity of celebrity Juan Calderon, whose profile I frequently visit at https://instagram.com/barbara10, could add layers to the narrative. Living at 65423 Garcia Light West Melanieview, AS 06196 has grounded me in a community that values connection and storytelling, an ethos I aim to reflect through my digital presence.\""
      ]
     },
     "execution_count": 8,
     "metadata": {},
     "output_type": "execute_result"
    }
   ],
   "source": [
    "full_texts[0]"
   ]
  },
  {
   "cell_type": "code",
   "execution_count": 9,
   "metadata": {},
   "outputs": [],
   "source": [
    "import spacy\n",
    "from spacy.tokens import Span, Doc\n",
    "from spacy import displacy\n",
    "\n",
    "# https://matplotlib.org/2.0.2/examples/color/named_colors.html\n",
    "options = {\n",
    "    \"colors\": {\n",
    "        \"B-NAME_STUDENT\": \"aqua\",\n",
    "        \"I-NAME_STUDENT\": \"aliceblue\",\n",
    "        \"B-EMAIL\": \"forestgreen\",\n",
    "        \"I-EMAIL\": \"greenyellow\",\n",
    "        \"B-USERNAME\": \"hotpink\",\n",
    "        \"I-USERNAME\": \"lightpink\",\n",
    "        \"B-ID_NUM\": \"purple\",\n",
    "        \"I-ID_NUM\": \"rebeccapurple\",\n",
    "        \"B-PHONE_NUM\": \"red\",\n",
    "        \"I-PHONE_NUM\": \"salmon\",\n",
    "        \"B-URL_PERSONAL\": \"slategrey\",\n",
    "        \"I-URL_PERSONAL\": \"silver\",\n",
    "        \"B-STREET_ADDRESS\": \"brown\",\n",
    "        \"I-STREET_ADDRESS\": \"chocolate\",\n",
    "    }\n",
    "}\n",
    "\n",
    "\n",
    "class PiiLabelRenderer:\n",
    "    def __init__(\n",
    "        self,\n",
    "        documents: list[str],\n",
    "        tokens: list[str],\n",
    "        full_texts: list[str],\n",
    "        labels: list[str],\n",
    "        options: dict[str, dict[str, str]],\n",
    "    ) -> None:\n",
    "        self.documents = documents\n",
    "        self.tokens = tokens\n",
    "        self.full_texts = full_texts\n",
    "        self.labels = labels\n",
    "        self.options = options\n",
    "        self.nlp = spacy.blank(\"en\")\n",
    "\n",
    "    def get_original_text(\n",
    "        self, render_idx: int | None = None, documents_id: int | None = None\n",
    "    ) -> str:\n",
    "        if render_idx and documents_id:\n",
    "            raise Exception(\"Don't Use Both render_idx and documents_id\")\n",
    "        if documents_id:\n",
    "            render_idx = self.documents.index(documents_id)\n",
    "\n",
    "        return self.full_texts[render_idx]\n",
    "\n",
    "    def render(\n",
    "        self, render_idx: int | None = None, documents_id: int | None = None\n",
    "    ) -> None:\n",
    "        if render_idx and documents_id:\n",
    "            raise Exception(\"Don't Use Both render_idx and documents_id\")\n",
    "        if documents_id and render_idx is None:\n",
    "            render_idx = self.documents.index(documents_id)\n",
    "        if documents_id is None and render_idx:\n",
    "            documents_id = self.documents[render_idx]\n",
    "        if documents_id is None and render_idx is None:\n",
    "            raise Exception(\"Please specify either render_idx or documents_id\")\n",
    "\n",
    "        print(f\"render_idx: {render_idx}, documents_id: {documents_id}\")\n",
    "\n",
    "        doc = self.nlp(self.full_texts[render_idx])\n",
    "        doc.ents = [\n",
    "            Span(doc, idx, idx + 1, label=label)\n",
    "            for idx, label in enumerate(self.labels[render_idx])\n",
    "            if label != \"O\"\n",
    "        ]\n",
    "\n",
    "        displacy.render(doc, style=\"ent\", jupyter=True, options=options)"
   ]
  },
  {
   "cell_type": "code",
   "execution_count": 10,
   "metadata": {},
   "outputs": [],
   "source": [
    "PLR = PiiLabelRenderer(\n",
    "    documents=documents,\n",
    "    tokens=tokens,\n",
    "    full_texts=full_texts,\n",
    "    labels=labels,\n",
    "    options=options,\n",
    ")"
   ]
  },
  {
   "cell_type": "code",
   "execution_count": 11,
   "metadata": {},
   "outputs": [
    {
     "name": "stdout",
     "output_type": "stream",
     "text": [
      "render_idx: 8, documents_id: 1221555009\n"
     ]
    },
    {
     "data": {
      "text/html": [
       "<span class=\"tex2jax_ignore\"><div class=\"entities\" style=\"line-height: 2.5; direction: ltr\">When faced with the challenge of enhancing the online presence and personal branding of Ninetta Ferrucci, a celebrity prominently featured on https://edwards.com/movement/for/puccio15, I decided to apply the Design Thinking tool of Storytelling, as covered in Module 2 of our course under the guidance of our esteemed instructor, Antonello Roero-Abbagnale. Storytelling, by its nature, allows for the weaving of intricate narratives that engage audiences on a more personal and emotional level. The idea was to create a compelling story around Ninetta Ferrucci, highlighting her milestones, challenges, and personal insights, thereby strengthening her connection with her audience.<br><br>The application involved crafting a series of narratives across various platforms, focusing on the authenticity and relatability of Ninetta’s experiences. We utilized social media, blog posts, and video content to share these stories, ensuring they were tailored to reflect Ninetta’s persona and the values she stands for. This approach was chosen based on the insights gained from video lectures provided by Antonello Roero-Abbagnale, emphasizing the power of stories in engaging and retaining audience interest over mere facts or achievements.<br><br>The insight gained from employing storytelling to Ninetta Ferrucci's brand enhancement was profound. It led to a noticeable increase in audience engagement and a deeper connection with her fans. It also offered a fresh perspective on how design thinking can be applied beyond traditional product or service innovation, extending to personal branding and digital marketing strategies. This insight has significantly expanded my understanding of design thinking, illustrating its versatility and effectiveness in various contexts.<br><br>For future endeavors, whether for Ninetta or another project perhaps related to my work at ferragni.com or personal ventures discussed on my LinkedIn (\n",
       "<mark class=\"entity\" style=\"background: slategrey; padding: 0.45em 0.6em; margin: 0 0.25em; line-height: 1; border-radius: 0.35em;\">\n",
       "    https://linkedin.com/in/jolanda.marino421\n",
       "    <span style=\"font-size: 0.8em; font-weight: bold; line-height: 1; border-radius: 0.35em; vertical-align: middle; margin-left: 0.5rem\">B-URL_PERSONAL</span>\n",
       "</mark>\n",
       "), I might incorporate a combination of storytelling with another tool such as Visualization from Module 1. This combination could offer a multifaceted approach to challenges, allowing for both emotional engagement through stories and the clarity and impact provided by visual elements. This reflection on the application and potential strategies signifies growth in my approach towards design thinking, cultivated through experiences and teachings from our course.<br><br>To ensure all aspects of my identity and professional journey are woven into this narrative, it's noteworthy to mention my base in \n",
       "<mark class=\"entity\" style=\"background: brown; padding: 0.45em 0.6em; margin: 0 0.25em; line-height: 1; border-radius: 0.35em;\">\n",
       "    Murgetta\n",
       "    <span style=\"font-size: 0.8em; font-weight: bold; line-height: 1; border-radius: 0.35em; vertical-align: middle; margin-left: 0.5rem\">B-STREET_ADDRESS</span>\n",
       "</mark>\n",
       " (BA) at \n",
       "<mark class=\"entity\" style=\"background: brown; padding: 0.45em 0.6em; margin: 0 0.25em; line-height: 1; border-radius: 0.35em;\">\n",
       "    Vicolo\n",
       "    <span style=\"font-size: 0.8em; font-weight: bold; line-height: 1; border-radius: 0.35em; vertical-align: middle; margin-left: 0.5rem\">B-STREET_ADDRESS</span>\n",
       "</mark>\n",
       " \n",
       "<mark class=\"entity\" style=\"background: chocolate; padding: 0.45em 0.6em; margin: 0 0.25em; line-height: 1; border-radius: 0.35em;\">\n",
       "    Raffaellino\n",
       "    <span style=\"font-size: 0.8em; font-weight: bold; line-height: 1; border-radius: 0.35em; vertical-align: middle; margin-left: 0.5rem\">I-STREET_ADDRESS</span>\n",
       "</mark>\n",
       "\n",
       "<mark class=\"entity\" style=\"background: chocolate; padding: 0.45em 0.6em; margin: 0 0.25em; line-height: 1; border-radius: 0.35em;\">\n",
       "    ,\n",
       "    <span style=\"font-size: 0.8em; font-weight: bold; line-height: 1; border-radius: 0.35em; vertical-align: middle; margin-left: 0.5rem\">I-STREET_ADDRESS</span>\n",
       "</mark>\n",
       " \n",
       "<mark class=\"entity\" style=\"background: chocolate; padding: 0.45em 0.6em; margin: 0 0.25em; line-height: 1; border-radius: 0.35em;\">\n",
       "    95\n",
       "    <span style=\"font-size: 0.8em; font-weight: bold; line-height: 1; border-radius: 0.35em; vertical-align: middle; margin-left: 0.5rem\">I-STREET_ADDRESS</span>\n",
       "</mark>\n",
       " \n",
       "<mark class=\"entity\" style=\"background: chocolate; padding: 0.45em 0.6em; margin: 0 0.25em; line-height: 1; border-radius: 0.35em;\">\n",
       "    70024\n",
       "    <span style=\"font-size: 0.8em; font-weight: bold; line-height: 1; border-radius: 0.35em; vertical-align: middle; margin-left: 0.5rem\">I-STREET_ADDRESS</span>\n",
       "</mark>\n",
       ",  with my contact being \n",
       "<mark class=\"entity\" style=\"background: red; padding: 0.45em 0.6em; margin: 0 0.25em; line-height: 1; border-radius: 0.35em;\">\n",
       "    0583868502\n",
       "    <span style=\"font-size: 0.8em; font-weight: bold; line-height: 1; border-radius: 0.35em; vertical-align: middle; margin-left: 0.5rem\">B-PHONE_NUM</span>\n",
       "</mark>\n",
       " and email \n",
       "<mark class=\"entity\" style=\"background: forestgreen; padding: 0.45em 0.6em; margin: 0 0.25em; line-height: 1; border-radius: 0.35em;\">\n",
       "    jolanda_marino@ferragni.com\n",
       "    <span style=\"font-size: 0.8em; font-weight: bold; line-height: 1; border-radius: 0.35em; vertical-align: middle; margin-left: 0.5rem\">B-EMAIL</span>\n",
       "</mark>\n",
       ". This geographical and digital identity shapes my perspective and approach to challenges, integrating local insights with global design thinking methodologies.</div></span>"
      ],
      "text/plain": [
       "<IPython.core.display.HTML object>"
      ]
     },
     "metadata": {},
     "output_type": "display_data"
    }
   ],
   "source": [
    "PLR.render(render_idx=8)"
   ]
  },
  {
   "cell_type": "code",
   "execution_count": 12,
   "metadata": {},
   "outputs": [
    {
     "data": {
      "text/html": [
       "<div><style>\n",
       ".dataframe > thead > tr,\n",
       ".dataframe > tbody > tr {\n",
       "  text-align: right;\n",
       "  white-space: pre-wrap;\n",
       "}\n",
       "</style>\n",
       "<small>shape: (1, 13)</small><table border=\"1\" class=\"dataframe\"><thead><tr><th>document</th><th>full_text</th><th>tokens</th><th>trailing_whitespace</th><th>labels</th><th>token_map</th><th>NAME_STUDENT</th><th>EMAIL</th><th>USERNAME</th><th>ID_NUM</th><th>PHONE_NUM</th><th>URL_PERSONAL</th><th>STREET_ADDRESS</th></tr><tr><td>i64</td><td>str</td><td>list[str]</td><td>list[bool]</td><td>list[str]</td><td>str</td><td>str</td><td>str</td><td>str</td><td>str</td><td>str</td><td>str</td><td>str</td></tr></thead><tbody><tr><td>1221555009</td><td>&quot;When faced wit…</td><td>[&quot;When&quot;, &quot;faced&quot;, … &quot;.&quot;]</td><td>[true, true, … false]</td><td>[&quot;O&quot;, &quot;O&quot;, … &quot;O&quot;]</td><td>&quot;[{&#x27;B-URL_PERSO…</td><td>&quot;Jolanda Marino…</td><td>&quot;jolanda_marino…</td><td>&quot;jolanda.marino…</td><td>&quot;HHdL.&quot;</td><td>&quot;0583868502&quot;</td><td>&quot;https://linked…</td><td>&quot;Vicolo Raffael…</td></tr></tbody></table></div>"
      ],
      "text/plain": [
       "shape: (1, 13)\n",
       "┌────────────┬────────────┬───────────┬───────────┬───┬────────┬───────────┬───────────┬───────────┐\n",
       "│ document   ┆ full_text  ┆ tokens    ┆ trailing_ ┆ … ┆ ID_NUM ┆ PHONE_NUM ┆ URL_PERSO ┆ STREET_AD │\n",
       "│ ---        ┆ ---        ┆ ---       ┆ whitespac ┆   ┆ ---    ┆ ---       ┆ NAL       ┆ DRESS     │\n",
       "│ i64        ┆ str        ┆ list[str] ┆ e         ┆   ┆ str    ┆ str       ┆ ---       ┆ ---       │\n",
       "│            ┆            ┆           ┆ ---       ┆   ┆        ┆           ┆ str       ┆ str       │\n",
       "│            ┆            ┆           ┆ list[bool ┆   ┆        ┆           ┆           ┆           │\n",
       "│            ┆            ┆           ┆ ]         ┆   ┆        ┆           ┆           ┆           │\n",
       "╞════════════╪════════════╪═══════════╪═══════════╪═══╪════════╪═══════════╪═══════════╪═══════════╡\n",
       "│ 1221555009 ┆ When faced ┆ [\"When\",  ┆ [true,    ┆ … ┆ HHdL.  ┆ 058386850 ┆ https://l ┆ Vicolo    │\n",
       "│            ┆ with the   ┆ \"faced\",  ┆ true, …   ┆   ┆        ┆ 2         ┆ inkedin.c ┆ Raffaelli │\n",
       "│            ┆ challenge  ┆ … \".\"]    ┆ false]    ┆   ┆        ┆           ┆ om/in/jol ┆ no, 95    │\n",
       "│            ┆ of…        ┆           ┆           ┆   ┆        ┆           ┆ anda.…    ┆ 70024,    │\n",
       "│            ┆            ┆           ┆           ┆   ┆        ┆           ┆           ┆ Mu…       │\n",
       "└────────────┴────────────┴───────────┴───────────┴───┴────────┴───────────┴───────────┴───────────┘"
      ]
     },
     "execution_count": 12,
     "metadata": {},
     "output_type": "execute_result"
    }
   ],
   "source": [
    "data[8]"
   ]
  },
  {
   "cell_type": "code",
   "execution_count": null,
   "metadata": {},
   "outputs": [],
   "source": []
  }
 ],
 "metadata": {
  "kernelspec": {
   "display_name": ".venv",
   "language": "python",
   "name": "python3"
  },
  "language_info": {
   "codemirror_mode": {
    "name": "ipython",
    "version": 3
   },
   "file_extension": ".py",
   "mimetype": "text/x-python",
   "name": "python",
   "nbconvert_exporter": "python",
   "pygments_lexer": "ipython3",
   "version": "3.12.1"
  }
 },
 "nbformat": 4,
 "nbformat_minor": 2
}
