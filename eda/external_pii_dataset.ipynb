{
 "cells": [
  {
   "cell_type": "markdown",
   "metadata": {},
   "source": [
    "# 目的\n",
    "以下を計算する\n",
    "- 外部データセットのラベル数"
   ]
  },
  {
   "cell_type": "code",
   "execution_count": 2,
   "metadata": {},
   "outputs": [],
   "source": [
    "import polars as pl\n",
    "import matplotlib.pyplot as plt\n",
    "import ast"
   ]
  },
  {
   "cell_type": "code",
   "execution_count": 4,
   "metadata": {},
   "outputs": [],
   "source": [
    "external_pii_dataset = pl.read_csv(\"../data/external_pii_dataset.csv\")"
   ]
  },
  {
   "cell_type": "code",
   "execution_count": 16,
   "metadata": {},
   "outputs": [],
   "source": [
    "# labelsをlistに変換\n",
    "external_pii_dataset = external_pii_dataset.with_columns(\n",
    "    pl.col(\"labels\").map_elements(lambda x: ast.literal_eval(x))\n",
    ")"
   ]
  },
  {
   "cell_type": "code",
   "execution_count": 17,
   "metadata": {},
   "outputs": [
    {
     "data": {
      "text/plain": [
       "Counter({'O': 1333514,\n",
       "         'B-NAME_STUDENT': 11104,\n",
       "         'I-STREET_ADDRESS': 8577,\n",
       "         'I-NAME_STUDENT': 5667,\n",
       "         'B-EMAIL': 3794,\n",
       "         'B-STREET_ADDRESS': 3543,\n",
       "         'I-PHONE_NUM': 3389,\n",
       "         'B-PHONE_NUM': 2419,\n",
       "         'B-USERNAME': 718,\n",
       "         'B-URL_PERSONAL': 620})"
      ]
     },
     "execution_count": 17,
     "metadata": {},
     "output_type": "execute_result"
    }
   ],
   "source": [
    "# 全tagのリスト\n",
    "import itertools\n",
    "from collections import Counter\n",
    "\n",
    "all_tags = list(\n",
    "    itertools.chain.from_iterable(external_pii_dataset.get_column(\"labels\").to_list())\n",
    ")\n",
    "all_tags_count = Counter(all_tags)\n",
    "all_tags_count"
   ]
  },
  {
   "cell_type": "code",
   "execution_count": 15,
   "metadata": {},
   "outputs": [
    {
     "data": {
      "text/html": [
       "<div><style>\n",
       ".dataframe > thead > tr,\n",
       ".dataframe > tbody > tr {\n",
       "  text-align: right;\n",
       "  white-space: pre-wrap;\n",
       "}\n",
       "</style>\n",
       "<small>shape: (4_434,)</small><table border=\"1\" class=\"dataframe\"><thead><tr><th>labels</th></tr><tr><td>list[str]</td></tr></thead><tbody><tr><td>[&quot;O&quot;, &quot;O&quot;, … &quot;I-STREET_ADDRESS&quot;]</td></tr><tr><td>[&quot;O&quot;, &quot;O&quot;, … &quot;O&quot;]</td></tr><tr><td>[&quot;O&quot;, &quot;B-NAME_STUDENT&quot;, … &quot;B-EMAIL&quot;]</td></tr><tr><td>[&quot;O&quot;, &quot;O&quot;, … &quot;I-STREET_ADDRESS&quot;]</td></tr><tr><td>[&quot;O&quot;, &quot;O&quot;, … &quot;O&quot;]</td></tr><tr><td>[&quot;B-NAME_STUDENT&quot;, &quot;I-NAME_STUDENT&quot;, … &quot;B-EMAIL&quot;]</td></tr><tr><td>[&quot;O&quot;, &quot;O&quot;, … &quot;O&quot;]</td></tr><tr><td>[&quot;O&quot;, &quot;O&quot;, … &quot;I-STREET_ADDRESS&quot;]</td></tr><tr><td>[&quot;O&quot;, &quot;O&quot;, … &quot;O&quot;]</td></tr><tr><td>[&quot;O&quot;, &quot;O&quot;, … &quot;O&quot;]</td></tr><tr><td>[&quot;O&quot;, &quot;O&quot;, … &quot;I-STREET_ADDRESS&quot;]</td></tr><tr><td>[&quot;O&quot;, &quot;O&quot;, … &quot;O&quot;]</td></tr><tr><td>&hellip;</td></tr><tr><td>[&quot;O&quot;, &quot;O&quot;, … &quot;O&quot;]</td></tr><tr><td>[&quot;O&quot;, &quot;O&quot;, … &quot;O&quot;]</td></tr><tr><td>[&quot;O&quot;, &quot;B-NAME_STUDENT&quot;, … &quot;B-EMAIL&quot;]</td></tr><tr><td>[&quot;O&quot;, &quot;O&quot;, … &quot;O&quot;]</td></tr><tr><td>[&quot;O&quot;, &quot;O&quot;, … &quot;I-STREET_ADDRESS&quot;]</td></tr><tr><td>[&quot;O&quot;, &quot;O&quot;, … &quot;O&quot;]</td></tr><tr><td>[&quot;O&quot;, &quot;O&quot;, … &quot;O&quot;]</td></tr><tr><td>[&quot;O&quot;, &quot;O&quot;, … &quot;O&quot;]</td></tr><tr><td>[&quot;O&quot;, &quot;O&quot;, … &quot;O&quot;]</td></tr><tr><td>[&quot;O&quot;, &quot;O&quot;, … &quot;O&quot;]</td></tr><tr><td>[&quot;O&quot;, &quot;B-NAME_STUDENT&quot;, … &quot;O&quot;]</td></tr><tr><td>[&quot;O&quot;, &quot;O&quot;, … &quot;O&quot;]</td></tr></tbody></table></div>"
      ],
      "text/plain": [
       "shape: (4_434,)\n",
       "Series: 'labels' [list[str]]\n",
       "[\n",
       "\t[\"O\", \"O\", … \"I-STREET_ADDRESS\"]\n",
       "\t[\"O\", \"O\", … \"O\"]\n",
       "\t[\"O\", \"B-NAME_STUDENT\", … \"B-EMAIL\"]\n",
       "\t[\"O\", \"O\", … \"I-STREET_ADDRESS\"]\n",
       "\t[\"O\", \"O\", … \"O\"]\n",
       "\t[\"B-NAME_STUDENT\", \"I-NAME_STUDENT\", … \"B-EMAIL\"]\n",
       "\t[\"O\", \"O\", … \"O\"]\n",
       "\t[\"O\", \"O\", … \"I-STREET_ADDRESS\"]\n",
       "\t[\"O\", \"O\", … \"O\"]\n",
       "\t[\"O\", \"O\", … \"O\"]\n",
       "\t[\"O\", \"O\", … \"I-STREET_ADDRESS\"]\n",
       "\t[\"O\", \"O\", … \"O\"]\n",
       "\t…\n",
       "\t[\"O\", \"O\", … \"O\"]\n",
       "\t[\"O\", \"O\", … \"O\"]\n",
       "\t[\"O\", \"O\", … \"O\"]\n",
       "\t[\"O\", \"B-NAME_STUDENT\", … \"B-EMAIL\"]\n",
       "\t[\"O\", \"O\", … \"O\"]\n",
       "\t[\"O\", \"O\", … \"I-STREET_ADDRESS\"]\n",
       "\t[\"O\", \"O\", … \"O\"]\n",
       "\t[\"O\", \"O\", … \"O\"]\n",
       "\t[\"O\", \"O\", … \"O\"]\n",
       "\t[\"O\", \"O\", … \"O\"]\n",
       "\t[\"O\", \"O\", … \"O\"]\n",
       "\t[\"O\", \"B-NAME_STUDENT\", … \"O\"]\n",
       "\t[\"O\", \"O\", … \"O\"]\n",
       "]"
      ]
     },
     "execution_count": 15,
     "metadata": {},
     "output_type": "execute_result"
    }
   ],
   "source": []
  },
  {
   "cell_type": "code",
   "execution_count": null,
   "metadata": {},
   "outputs": [],
   "source": []
  }
 ],
 "metadata": {
  "kernelspec": {
   "display_name": ".venv",
   "language": "python",
   "name": "python3"
  },
  "language_info": {
   "codemirror_mode": {
    "name": "ipython",
    "version": 3
   },
   "file_extension": ".py",
   "mimetype": "text/x-python",
   "name": "python",
   "nbconvert_exporter": "python",
   "pygments_lexer": "ipython3",
   "version": "3.12.1"
  }
 },
 "nbformat": 4,
 "nbformat_minor": 2
}
