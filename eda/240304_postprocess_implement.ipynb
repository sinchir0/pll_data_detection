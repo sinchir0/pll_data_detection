{
 "cells": [
  {
   "cell_type": "code",
   "execution_count": 187,
   "metadata": {},
   "outputs": [],
   "source": [
    "import polars as pl\n",
    "import pandas as pd"
   ]
  },
  {
   "cell_type": "code",
   "execution_count": 188,
   "metadata": {},
   "outputs": [],
   "source": [
    "data = pd.read_csv(\"../valid_df/exp024.csv\")\n",
    "\n",
    "pred_data = data[[\"document_pred\", \"token_pred\", \"label_pred\", \"token_str_pred\"]]\n",
    "pred_data = pred_data.dropna()\n",
    "pred_data[\"document_pred\"] = pred_data[\"document_pred\"].astype(int)\n",
    "pred_data[\"token_pred\"] = pred_data[\"token_pred\"].astype(int)\n",
    "pred_data.columns = [\"document\", \"token\", \"label\", \"token_str\"]"
   ]
  },
  {
   "cell_type": "code",
   "execution_count": 189,
   "metadata": {},
   "outputs": [],
   "source": [
    "pred_data = pl.DataFrame(pred_data)"
   ]
  },
  {
   "cell_type": "code",
   "execution_count": 190,
   "metadata": {},
   "outputs": [
    {
     "data": {
      "text/html": [
       "<div><style>\n",
       ".dataframe > thead > tr,\n",
       ".dataframe > tbody > tr {\n",
       "  text-align: right;\n",
       "  white-space: pre-wrap;\n",
       "}\n",
       "</style>\n",
       "<small>shape: (1_438, 4)</small><table border=\"1\" class=\"dataframe\"><thead><tr><th>document</th><th>token</th><th>label</th><th>token_str</th></tr><tr><td>i64</td><td>i64</td><td>str</td><td>str</td></tr></thead><tbody><tr><td>11092</td><td>10</td><td>&quot;B-NAME_STUDENT…</td><td>&quot;Bilal&quot;</td></tr><tr><td>11092</td><td>11</td><td>&quot;I-NAME_STUDENT…</td><td>&quot;Khan&quot;</td></tr><tr><td>6133</td><td>20</td><td>&quot;B-NAME_STUDENT…</td><td>&quot;Mahammad&quot;</td></tr><tr><td>6133</td><td>21</td><td>&quot;I-NAME_STUDENT…</td><td>&quot;Khan&quot;</td></tr><tr><td>7932</td><td>24</td><td>&quot;B-NAME_STUDENT…</td><td>&quot;Ahmed&quot;</td></tr><tr><td>7932</td><td>25</td><td>&quot;I-NAME_STUDENT…</td><td>&quot;Carlos&quot;</td></tr><tr><td>7932</td><td>528</td><td>&quot;B-NAME_STUDENT…</td><td>&quot;Ahmed&quot;</td></tr><tr><td>7932</td><td>529</td><td>&quot;I-NAME_STUDENT…</td><td>&quot;Carlos&quot;</td></tr><tr><td>7932</td><td>750</td><td>&quot;B-NAME_STUDENT…</td><td>&quot;Ahmed&quot;</td></tr><tr><td>7932</td><td>751</td><td>&quot;I-NAME_STUDENT…</td><td>&quot;Alaa&quot;</td></tr><tr><td>7932</td><td>757</td><td>&quot;B-NAME_STUDENT…</td><td>&quot;Ahmed&quot;</td></tr><tr><td>7932</td><td>758</td><td>&quot;I-NAME_STUDENT…</td><td>&quot;Alaa&quot;</td></tr><tr><td>&hellip;</td><td>&hellip;</td><td>&hellip;</td><td>&hellip;</td></tr><tr><td>9009</td><td>4</td><td>&quot;B-NAME_STUDENT…</td><td>&quot;Melvin&quot;</td></tr><tr><td>9009</td><td>5</td><td>&quot;I-NAME_STUDENT…</td><td>&quot;Alfaro&quot;</td></tr><tr><td>10693</td><td>34</td><td>&quot;B-NAME_STUDENT…</td><td>&quot;Jeremy&quot;</td></tr><tr><td>10693</td><td>35</td><td>&quot;I-NAME_STUDENT…</td><td>&quot;Borg&quot;</td></tr><tr><td>10693</td><td>177</td><td>&quot;B-NAME_STUDENT…</td><td>&quot;Jeremy&quot;</td></tr><tr><td>10693</td><td>178</td><td>&quot;I-NAME_STUDENT…</td><td>&quot;Borg&quot;</td></tr><tr><td>10693</td><td>519</td><td>&quot;B-NAME_STUDENT…</td><td>&quot;Jeremy&quot;</td></tr><tr><td>10693</td><td>520</td><td>&quot;I-NAME_STUDENT…</td><td>&quot;Borg&quot;</td></tr><tr><td>10693</td><td>1172</td><td>&quot;B-URL_PERSONAL…</td><td>&quot;https://butler…</td></tr><tr><td>4834</td><td>5</td><td>&quot;B-NAME_STUDENT…</td><td>&quot;Jens&quot;</td></tr><tr><td>4834</td><td>6</td><td>&quot;I-NAME_STUDENT…</td><td>&quot;Hoffmann&quot;</td></tr><tr><td>4834</td><td>326</td><td>&quot;B-NAME_STUDENT…</td><td>&quot;Jens&quot;</td></tr></tbody></table></div>"
      ],
      "text/plain": [
       "shape: (1_438, 4)\n",
       "┌──────────┬───────┬────────────────┬───────────────────────────────────┐\n",
       "│ document ┆ token ┆ label          ┆ token_str                         │\n",
       "│ ---      ┆ ---   ┆ ---            ┆ ---                               │\n",
       "│ i64      ┆ i64   ┆ str            ┆ str                               │\n",
       "╞══════════╪═══════╪════════════════╪═══════════════════════════════════╡\n",
       "│ 11092    ┆ 10    ┆ B-NAME_STUDENT ┆ Bilal                             │\n",
       "│ 11092    ┆ 11    ┆ I-NAME_STUDENT ┆ Khan                              │\n",
       "│ 6133     ┆ 20    ┆ B-NAME_STUDENT ┆ Mahammad                          │\n",
       "│ 6133     ┆ 21    ┆ I-NAME_STUDENT ┆ Khan                              │\n",
       "│ 7932     ┆ 24    ┆ B-NAME_STUDENT ┆ Ahmed                             │\n",
       "│ …        ┆ …     ┆ …              ┆ …                                 │\n",
       "│ 10693    ┆ 520   ┆ I-NAME_STUDENT ┆ Borg                              │\n",
       "│ 10693    ┆ 1172  ┆ B-URL_PERSONAL ┆ https://butler.com/search/wp-con… │\n",
       "│ 4834     ┆ 5     ┆ B-NAME_STUDENT ┆ Jens                              │\n",
       "│ 4834     ┆ 6     ┆ I-NAME_STUDENT ┆ Hoffmann                          │\n",
       "│ 4834     ┆ 326   ┆ B-NAME_STUDENT ┆ Jens                              │\n",
       "└──────────┴───────┴────────────────┴───────────────────────────────────┘"
      ]
     },
     "execution_count": 190,
     "metadata": {},
     "output_type": "execute_result"
    }
   ],
   "source": [
    "pred_data"
   ]
  },
  {
   "cell_type": "code",
   "execution_count": 191,
   "metadata": {},
   "outputs": [],
   "source": [
    "# Modified function to extract up to three distinct B-NAME_STUDENT and their corresponding I-NAME_STUDENT(s)\n",
    "# TODO: これがあっているのか確認する。\n",
    "import numpy as np\n",
    "\n",
    "\n",
    "def extract_three_distinct_students(df):\n",
    "    # Group by document\n",
    "    grouped = df.groupby(\"document\")\n",
    "\n",
    "    # Initialize a list to store the results\n",
    "    results = []\n",
    "\n",
    "    # Iterate over each group\n",
    "    for doc_id, group in grouped:\n",
    "        # Find the indices of B-NAME_STUDENT\n",
    "        b_name_indices = group[group[\"label\"] == \"B-NAME_STUDENT\"].index.tolist()\n",
    "        if not b_name_indices:\n",
    "            continue  # Skip this document if no B-NAME_STUDENT is found\n",
    "\n",
    "        # Function to get the name student and corresponding I-NAME_STUDENT(s)\n",
    "        def get_name(index):\n",
    "            # Get the token_str for B-NAME_STUDENT\n",
    "            b_name_student = group.loc[index, \"token_str\"]\n",
    "\n",
    "            # Initialize a list to store I-NAME_STUDENT(s)\n",
    "            i_name_students = []\n",
    "\n",
    "            # Check if the next label(s) are I-NAME_STUDENT and add them to the list\n",
    "            i = 1\n",
    "            while True:\n",
    "                next_index = index + i\n",
    "                if (\n",
    "                    next_index in group.index\n",
    "                    and group.loc[next_index, \"label\"] == \"I-NAME_STUDENT\"\n",
    "                ):\n",
    "                    i_name_students.append(group.loc[next_index, \"token_str\"])\n",
    "                    i += 1\n",
    "                else:\n",
    "                    break\n",
    "\n",
    "            return b_name_student, \" \".join(i_name_students)\n",
    "\n",
    "        # Store the result for the first B-NAME_STUDENT\n",
    "        first_b_name_student, first_i_name_students = get_name(b_name_indices[0])\n",
    "        result = {\n",
    "            \"document\": doc_id,\n",
    "            \"1st_B-NAME_STUDENT\": first_b_name_student,\n",
    "            \"1st_I-NAME_STUDENT\": first_i_name_students,\n",
    "        }\n",
    "\n",
    "        # Store the results for the second and third distinct B-NAME_STUDENT if they exist\n",
    "        distinct_names = [first_b_name_student]\n",
    "        for index in b_name_indices[1:]:\n",
    "            b_name_student, i_name_students = get_name(index)\n",
    "            if b_name_student not in distinct_names:\n",
    "                distinct_names.append(b_name_student)\n",
    "                if len(distinct_names) == 2:\n",
    "                    result[\"2nd_B-NAME_STUDENT\"] = b_name_student\n",
    "                    result[\"2nd_I-NAME_STUDENT\"] = i_name_students\n",
    "                elif len(distinct_names) == 3:\n",
    "                    result[\"3rd_B-NAME_STUDENT\"] = b_name_student\n",
    "                    result[\"3rd_I-NAME_STUDENT\"] = i_name_students\n",
    "                    break\n",
    "\n",
    "        # Fill in empty values if fewer than three distinct names were found\n",
    "        # for i in range(len(distinct_names), 3):\n",
    "        #    result[f\"{i+1}st_B-NAME_STUDENT\"] = \"\"\n",
    "        #    result[f\"{i+1}st_I-NAME_STUDENT\"] = \"\"\n",
    "\n",
    "        results.append(result)\n",
    "\n",
    "    return pd.DataFrame(results).fillna(np.nan).replace(\"\", np.nan)\n",
    "\n",
    "\n",
    "# Extract the names of up to three distinct students for each document\n",
    "three_distinct_students = extract_three_distinct_students(pred_data.to_pandas())\n",
    "three_distinct_students = pl.DataFrame(three_distinct_students)"
   ]
  },
  {
   "cell_type": "code",
   "execution_count": 192,
   "metadata": {},
   "outputs": [
    {
     "data": {
      "text/html": [
       "<div><style>\n",
       ".dataframe > thead > tr,\n",
       ".dataframe > tbody > tr {\n",
       "  text-align: right;\n",
       "  white-space: pre-wrap;\n",
       "}\n",
       "</style>\n",
       "<small>shape: (434, 7)</small><table border=\"1\" class=\"dataframe\"><thead><tr><th>document</th><th>1st_B-NAME_STUDENT</th><th>1st_I-NAME_STUDENT</th><th>2nd_B-NAME_STUDENT</th><th>2nd_I-NAME_STUDENT</th><th>3rd_B-NAME_STUDENT</th><th>3rd_I-NAME_STUDENT</th></tr><tr><td>i64</td><td>str</td><td>str</td><td>str</td><td>str</td><td>str</td><td>str</td></tr></thead><tbody><tr><td>10</td><td>&quot;Diego&quot;</td><td>&quot;Estrada&quot;</td><td>null</td><td>null</td><td>null</td><td>null</td></tr><tr><td>93</td><td>&quot;Silvia&quot;</td><td>&quot;Villalobos&quot;</td><td>null</td><td>null</td><td>null</td><td>null</td></tr><tr><td>104</td><td>&quot;Sakir&quot;</td><td>&quot;Ahmad&quot;</td><td>null</td><td>null</td><td>null</td><td>null</td></tr><tr><td>112</td><td>&quot;Francisco&quot;</td><td>&quot;Ferreira&quot;</td><td>null</td><td>null</td><td>null</td><td>null</td></tr><tr><td>123</td><td>&quot;Stefano&quot;</td><td>&quot;Lovato&quot;</td><td>null</td><td>null</td><td>null</td><td>null</td></tr><tr><td>136</td><td>&quot;Al&quot;</td><td>null</td><td>null</td><td>null</td><td>null</td><td>null</td></tr><tr><td>166</td><td>&quot;Pepa&quot;</td><td>&quot;Medrano&quot;</td><td>null</td><td>null</td><td>null</td><td>null</td></tr><tr><td>204</td><td>&quot;Deiby&quot;</td><td>null</td><td>null</td><td>null</td><td>null</td><td>null</td></tr><tr><td>214</td><td>&quot;Fareed&quot;</td><td>&quot;Ponce&quot;</td><td>null</td><td>null</td><td>null</td><td>null</td></tr><tr><td>308</td><td>&quot;Maud&quot;</td><td>&quot;Dias&quot;</td><td>null</td><td>null</td><td>null</td><td>null</td></tr><tr><td>330</td><td>&quot;Davide&quot;</td><td>&quot;Carletti&quot;</td><td>&quot;Marias&quot;</td><td>&quot;Gamesa&quot;</td><td>&quot;Gamesa&quot;</td><td>null</td></tr><tr><td>356</td><td>&quot;Luis&quot;</td><td>&quot;Ramadan&quot;</td><td>null</td><td>null</td><td>null</td><td>null</td></tr><tr><td>&hellip;</td><td>&hellip;</td><td>&hellip;</td><td>&hellip;</td><td>&hellip;</td><td>&hellip;</td><td>&hellip;</td></tr><tr><td>13131</td><td>&quot;Andreas&quot;</td><td>&quot;Jensen&quot;</td><td>null</td><td>null</td><td>null</td><td>null</td></tr><tr><td>13133</td><td>&quot;Mike&quot;</td><td>&quot;Rodriguez&quot;</td><td>null</td><td>null</td><td>null</td><td>null</td></tr><tr><td>13144</td><td>&quot;Sarah&quot;</td><td>&quot;Roberto&quot;</td><td>null</td><td>null</td><td>null</td><td>null</td></tr><tr><td>13190</td><td>&quot;Federico&quot;</td><td>&quot;Ragni&quot;</td><td>null</td><td>null</td><td>null</td><td>null</td></tr><tr><td>13219</td><td>&quot;Cassie&quot;</td><td>&quot;Viera&quot;</td><td>null</td><td>null</td><td>null</td><td>null</td></tr><tr><td>13223</td><td>&quot;Erika&quot;</td><td>&quot;Taborda&quot;</td><td>null</td><td>null</td><td>null</td><td>null</td></tr><tr><td>13228</td><td>&quot;Karen&quot;</td><td>&quot;Gardner&quot;</td><td>null</td><td>null</td><td>null</td><td>null</td></tr><tr><td>13236</td><td>&quot;Ana&quot;</td><td>&quot;Gonzalez&quot;</td><td>null</td><td>null</td><td>null</td><td>null</td></tr><tr><td>13244</td><td>&quot;Benjamin&quot;</td><td>&quot;Miller&quot;</td><td>null</td><td>null</td><td>null</td><td>null</td></tr><tr><td>13276</td><td>&quot;Robert&quot;</td><td>&quot;Walsh&quot;</td><td>null</td><td>null</td><td>null</td><td>null</td></tr><tr><td>13311</td><td>&quot;Jose&quot;</td><td>&quot;Luis Llamas&quot;</td><td>null</td><td>null</td><td>null</td><td>null</td></tr><tr><td>13342</td><td>&quot;Carlos&quot;</td><td>&quot;Hernandez&quot;</td><td>null</td><td>null</td><td>null</td><td>null</td></tr></tbody></table></div>"
      ],
      "text/plain": [
       "shape: (434, 7)\n",
       "┌──────────┬──────────────┬──────────────┬──────────────┬──────────────┬─────────────┬─────────────┐\n",
       "│ document ┆ 1st_B-NAME_S ┆ 1st_I-NAME_S ┆ 2nd_B-NAME_S ┆ 2nd_I-NAME_S ┆ 3rd_B-NAME_ ┆ 3rd_I-NAME_ │\n",
       "│ ---      ┆ TUDENT       ┆ TUDENT       ┆ TUDENT       ┆ TUDENT       ┆ STUDENT     ┆ STUDENT     │\n",
       "│ i64      ┆ ---          ┆ ---          ┆ ---          ┆ ---          ┆ ---         ┆ ---         │\n",
       "│          ┆ str          ┆ str          ┆ str          ┆ str          ┆ str         ┆ str         │\n",
       "╞══════════╪══════════════╪══════════════╪══════════════╪══════════════╪═════════════╪═════════════╡\n",
       "│ 10       ┆ Diego        ┆ Estrada      ┆ null         ┆ null         ┆ null        ┆ null        │\n",
       "│ 93       ┆ Silvia       ┆ Villalobos   ┆ null         ┆ null         ┆ null        ┆ null        │\n",
       "│ 104      ┆ Sakir        ┆ Ahmad        ┆ null         ┆ null         ┆ null        ┆ null        │\n",
       "│ 112      ┆ Francisco    ┆ Ferreira     ┆ null         ┆ null         ┆ null        ┆ null        │\n",
       "│ 123      ┆ Stefano      ┆ Lovato       ┆ null         ┆ null         ┆ null        ┆ null        │\n",
       "│ …        ┆ …            ┆ …            ┆ …            ┆ …            ┆ …           ┆ …           │\n",
       "│ 13236    ┆ Ana          ┆ Gonzalez     ┆ null         ┆ null         ┆ null        ┆ null        │\n",
       "│ 13244    ┆ Benjamin     ┆ Miller       ┆ null         ┆ null         ┆ null        ┆ null        │\n",
       "│ 13276    ┆ Robert       ┆ Walsh        ┆ null         ┆ null         ┆ null        ┆ null        │\n",
       "│ 13311    ┆ Jose         ┆ Luis Llamas  ┆ null         ┆ null         ┆ null        ┆ null        │\n",
       "│ 13342    ┆ Carlos       ┆ Hernandez    ┆ null         ┆ null         ┆ null        ┆ null        │\n",
       "└──────────┴──────────────┴──────────────┴──────────────┴──────────────┴─────────────┴─────────────┘"
      ]
     },
     "execution_count": 192,
     "metadata": {},
     "output_type": "execute_result"
    }
   ],
   "source": [
    "three_distinct_students"
   ]
  },
  {
   "cell_type": "code",
   "execution_count": 193,
   "metadata": {},
   "outputs": [
    {
     "name": "stdout",
     "output_type": "stream",
     "text": [
      "Before: valid_pred_df.shape = (1438, 4)\n",
      "After: valid_pred_df.shape = (1245, 4)\n"
     ]
    },
    {
     "data": {
      "text/html": [
       "<div><style>\n",
       ".dataframe > thead > tr,\n",
       ".dataframe > tbody > tr {\n",
       "  text-align: right;\n",
       "  white-space: pre-wrap;\n",
       "}\n",
       "</style>\n",
       "<small>shape: (1_245, 4)</small><table border=\"1\" class=\"dataframe\"><thead><tr><th>document</th><th>token</th><th>label</th><th>token_str</th></tr><tr><td>i64</td><td>i64</td><td>str</td><td>str</td></tr></thead><tbody><tr><td>11092</td><td>10</td><td>&quot;B-NAME_STUDENT…</td><td>&quot;Bilal&quot;</td></tr><tr><td>11092</td><td>11</td><td>&quot;I-NAME_STUDENT…</td><td>&quot;Khan&quot;</td></tr><tr><td>6133</td><td>20</td><td>&quot;B-NAME_STUDENT…</td><td>&quot;Mahammad&quot;</td></tr><tr><td>6133</td><td>21</td><td>&quot;I-NAME_STUDENT…</td><td>&quot;Khan&quot;</td></tr><tr><td>7932</td><td>24</td><td>&quot;B-NAME_STUDENT…</td><td>&quot;Ahmed&quot;</td></tr><tr><td>7932</td><td>25</td><td>&quot;I-NAME_STUDENT…</td><td>&quot;Carlos&quot;</td></tr><tr><td>7932</td><td>528</td><td>&quot;B-NAME_STUDENT…</td><td>&quot;Ahmed&quot;</td></tr><tr><td>7932</td><td>529</td><td>&quot;I-NAME_STUDENT…</td><td>&quot;Carlos&quot;</td></tr><tr><td>7932</td><td>750</td><td>&quot;B-NAME_STUDENT…</td><td>&quot;Ahmed&quot;</td></tr><tr><td>7932</td><td>757</td><td>&quot;B-NAME_STUDENT…</td><td>&quot;Ahmed&quot;</td></tr><tr><td>8393</td><td>6</td><td>&quot;B-NAME_STUDENT…</td><td>&quot;Monika&quot;</td></tr><tr><td>8393</td><td>7</td><td>&quot;I-NAME_STUDENT…</td><td>&quot;Seifert&quot;</td></tr><tr><td>&hellip;</td><td>&hellip;</td><td>&hellip;</td><td>&hellip;</td></tr><tr><td>9009</td><td>4</td><td>&quot;B-NAME_STUDENT…</td><td>&quot;Melvin&quot;</td></tr><tr><td>9009</td><td>5</td><td>&quot;I-NAME_STUDENT…</td><td>&quot;Alfaro&quot;</td></tr><tr><td>10693</td><td>34</td><td>&quot;B-NAME_STUDENT…</td><td>&quot;Jeremy&quot;</td></tr><tr><td>10693</td><td>35</td><td>&quot;I-NAME_STUDENT…</td><td>&quot;Borg&quot;</td></tr><tr><td>10693</td><td>177</td><td>&quot;B-NAME_STUDENT…</td><td>&quot;Jeremy&quot;</td></tr><tr><td>10693</td><td>178</td><td>&quot;I-NAME_STUDENT…</td><td>&quot;Borg&quot;</td></tr><tr><td>10693</td><td>519</td><td>&quot;B-NAME_STUDENT…</td><td>&quot;Jeremy&quot;</td></tr><tr><td>10693</td><td>520</td><td>&quot;I-NAME_STUDENT…</td><td>&quot;Borg&quot;</td></tr><tr><td>10693</td><td>1172</td><td>&quot;B-URL_PERSONAL…</td><td>&quot;https://butler…</td></tr><tr><td>4834</td><td>5</td><td>&quot;B-NAME_STUDENT…</td><td>&quot;Jens&quot;</td></tr><tr><td>4834</td><td>6</td><td>&quot;I-NAME_STUDENT…</td><td>&quot;Hoffmann&quot;</td></tr><tr><td>4834</td><td>326</td><td>&quot;B-NAME_STUDENT…</td><td>&quot;Jens&quot;</td></tr></tbody></table></div>"
      ],
      "text/plain": [
       "shape: (1_245, 4)\n",
       "┌──────────┬───────┬────────────────┬───────────────────────────────────┐\n",
       "│ document ┆ token ┆ label          ┆ token_str                         │\n",
       "│ ---      ┆ ---   ┆ ---            ┆ ---                               │\n",
       "│ i64      ┆ i64   ┆ str            ┆ str                               │\n",
       "╞══════════╪═══════╪════════════════╪═══════════════════════════════════╡\n",
       "│ 11092    ┆ 10    ┆ B-NAME_STUDENT ┆ Bilal                             │\n",
       "│ 11092    ┆ 11    ┆ I-NAME_STUDENT ┆ Khan                              │\n",
       "│ 6133     ┆ 20    ┆ B-NAME_STUDENT ┆ Mahammad                          │\n",
       "│ 6133     ┆ 21    ┆ I-NAME_STUDENT ┆ Khan                              │\n",
       "│ 7932     ┆ 24    ┆ B-NAME_STUDENT ┆ Ahmed                             │\n",
       "│ …        ┆ …     ┆ …              ┆ …                                 │\n",
       "│ 10693    ┆ 520   ┆ I-NAME_STUDENT ┆ Borg                              │\n",
       "│ 10693    ┆ 1172  ┆ B-URL_PERSONAL ┆ https://butler.com/search/wp-con… │\n",
       "│ 4834     ┆ 5     ┆ B-NAME_STUDENT ┆ Jens                              │\n",
       "│ 4834     ┆ 6     ┆ I-NAME_STUDENT ┆ Hoffmann                          │\n",
       "│ 4834     ┆ 326   ┆ B-NAME_STUDENT ┆ Jens                              │\n",
       "└──────────┴───────┴────────────────┴───────────────────────────────────┘"
      ]
     },
     "execution_count": 193,
     "metadata": {},
     "output_type": "execute_result"
    }
   ],
   "source": [
    "def filter_pred(three_distinct_students: pl.DataFrame, valid_pred_df: pl.DataFrame):\n",
    "    print(f\"Before: valid_pred_df.shape = {valid_pred_df.shape}\")\n",
    "    for document in three_distinct_students[\"document\"].unique().to_list():\n",
    "        # three_distinct_studentsから、推論データに残す生徒の名前を取得する。\n",
    "        student_only_document = three_distinct_students.filter(\n",
    "            pl.col(\"document\") == document\n",
    "        )\n",
    "\n",
    "        # use_b_name_col = [\"1st_B-NAME_STUDENT\", \"2nd_B-NAME_STUDENT\", \"3rd_B-NAME_STUDENT\"]\n",
    "        use_b_name_col = [\"1st_B-NAME_STUDENT\"]\n",
    "        # use_i_name_col = [\"1st_I-NAME_STUDENT\", \"2nd_I-NAME_STUDENT\", \"3rd_I-NAME_STUDENT\"]\n",
    "        use_i_name_col = [\"1st_I-NAME_STUDENT\"]\n",
    "\n",
    "        use_b_name_students: list[str] = []\n",
    "        for b_name_col in use_b_name_col:\n",
    "            b_name_student: str = student_only_document.get_column(b_name_col)[0]\n",
    "            use_b_name_students.append(b_name_student)\n",
    "\n",
    "        use_i_name_students: list[str] = []\n",
    "        for i_name_col in use_i_name_col:\n",
    "            i_name_student: str = student_only_document.get_column(i_name_col)[0]\n",
    "            use_i_name_students.append(i_name_student)\n",
    "\n",
    "        # 推論データから該当のデータ以外を省く\n",
    "        unmatch_b_name_students_expr = (\n",
    "            (pl.col(\"document\") == document)\n",
    "            & (pl.col(\"label\") == \"B-NAME_STUDENT\")\n",
    "            & ~(pl.col(\"token_str\").is_in(use_b_name_students))\n",
    "        )\n",
    "\n",
    "        unmatch_i_name_students_expr = (\n",
    "            (pl.col(\"document\") == document)\n",
    "            & (pl.col(\"label\") == \"I-NAME_STUDENT\")\n",
    "            & ~(pl.col(\"token_str\").is_in(use_i_name_students))\n",
    "        )\n",
    "\n",
    "        valid_pred_df = valid_pred_df.filter(\n",
    "            ~(unmatch_b_name_students_expr | unmatch_i_name_students_expr)\n",
    "        )\n",
    "\n",
    "    print(f\"After: valid_pred_df.shape = {valid_pred_df.shape}\")\n",
    "\n",
    "    return valid_pred_df\n",
    "\n",
    "\n",
    "filter_pred(three_distinct_students, pred_data)"
   ]
  },
  {
   "cell_type": "code",
   "execution_count": 194,
   "metadata": {},
   "outputs": [
    {
     "data": {
      "text/html": [
       "<div><style>\n",
       ".dataframe > thead > tr,\n",
       ".dataframe > tbody > tr {\n",
       "  text-align: right;\n",
       "  white-space: pre-wrap;\n",
       "}\n",
       "</style>\n",
       "<small>shape: (1_438, 4)</small><table border=\"1\" class=\"dataframe\"><thead><tr><th>document</th><th>token</th><th>label</th><th>token_str</th></tr><tr><td>i64</td><td>i64</td><td>str</td><td>str</td></tr></thead><tbody><tr><td>11092</td><td>10</td><td>&quot;B-NAME_STUDENT…</td><td>&quot;Bilal&quot;</td></tr><tr><td>11092</td><td>11</td><td>&quot;I-NAME_STUDENT…</td><td>&quot;Khan&quot;</td></tr><tr><td>6133</td><td>20</td><td>&quot;B-NAME_STUDENT…</td><td>&quot;Mahammad&quot;</td></tr><tr><td>6133</td><td>21</td><td>&quot;I-NAME_STUDENT…</td><td>&quot;Khan&quot;</td></tr><tr><td>7932</td><td>24</td><td>&quot;B-NAME_STUDENT…</td><td>&quot;Ahmed&quot;</td></tr><tr><td>7932</td><td>25</td><td>&quot;I-NAME_STUDENT…</td><td>&quot;Carlos&quot;</td></tr><tr><td>7932</td><td>528</td><td>&quot;B-NAME_STUDENT…</td><td>&quot;Ahmed&quot;</td></tr><tr><td>7932</td><td>529</td><td>&quot;I-NAME_STUDENT…</td><td>&quot;Carlos&quot;</td></tr><tr><td>7932</td><td>750</td><td>&quot;B-NAME_STUDENT…</td><td>&quot;Ahmed&quot;</td></tr><tr><td>7932</td><td>751</td><td>&quot;I-NAME_STUDENT…</td><td>&quot;Alaa&quot;</td></tr><tr><td>7932</td><td>757</td><td>&quot;B-NAME_STUDENT…</td><td>&quot;Ahmed&quot;</td></tr><tr><td>7932</td><td>758</td><td>&quot;I-NAME_STUDENT…</td><td>&quot;Alaa&quot;</td></tr><tr><td>&hellip;</td><td>&hellip;</td><td>&hellip;</td><td>&hellip;</td></tr><tr><td>9009</td><td>4</td><td>&quot;B-NAME_STUDENT…</td><td>&quot;Melvin&quot;</td></tr><tr><td>9009</td><td>5</td><td>&quot;I-NAME_STUDENT…</td><td>&quot;Alfaro&quot;</td></tr><tr><td>10693</td><td>34</td><td>&quot;B-NAME_STUDENT…</td><td>&quot;Jeremy&quot;</td></tr><tr><td>10693</td><td>35</td><td>&quot;I-NAME_STUDENT…</td><td>&quot;Borg&quot;</td></tr><tr><td>10693</td><td>177</td><td>&quot;B-NAME_STUDENT…</td><td>&quot;Jeremy&quot;</td></tr><tr><td>10693</td><td>178</td><td>&quot;I-NAME_STUDENT…</td><td>&quot;Borg&quot;</td></tr><tr><td>10693</td><td>519</td><td>&quot;B-NAME_STUDENT…</td><td>&quot;Jeremy&quot;</td></tr><tr><td>10693</td><td>520</td><td>&quot;I-NAME_STUDENT…</td><td>&quot;Borg&quot;</td></tr><tr><td>10693</td><td>1172</td><td>&quot;B-URL_PERSONAL…</td><td>&quot;https://butler…</td></tr><tr><td>4834</td><td>5</td><td>&quot;B-NAME_STUDENT…</td><td>&quot;Jens&quot;</td></tr><tr><td>4834</td><td>6</td><td>&quot;I-NAME_STUDENT…</td><td>&quot;Hoffmann&quot;</td></tr><tr><td>4834</td><td>326</td><td>&quot;B-NAME_STUDENT…</td><td>&quot;Jens&quot;</td></tr></tbody></table></div>"
      ],
      "text/plain": [
       "shape: (1_438, 4)\n",
       "┌──────────┬───────┬────────────────┬───────────────────────────────────┐\n",
       "│ document ┆ token ┆ label          ┆ token_str                         │\n",
       "│ ---      ┆ ---   ┆ ---            ┆ ---                               │\n",
       "│ i64      ┆ i64   ┆ str            ┆ str                               │\n",
       "╞══════════╪═══════╪════════════════╪═══════════════════════════════════╡\n",
       "│ 11092    ┆ 10    ┆ B-NAME_STUDENT ┆ Bilal                             │\n",
       "│ 11092    ┆ 11    ┆ I-NAME_STUDENT ┆ Khan                              │\n",
       "│ 6133     ┆ 20    ┆ B-NAME_STUDENT ┆ Mahammad                          │\n",
       "│ 6133     ┆ 21    ┆ I-NAME_STUDENT ┆ Khan                              │\n",
       "│ 7932     ┆ 24    ┆ B-NAME_STUDENT ┆ Ahmed                             │\n",
       "│ …        ┆ …     ┆ …              ┆ …                                 │\n",
       "│ 10693    ┆ 520   ┆ I-NAME_STUDENT ┆ Borg                              │\n",
       "│ 10693    ┆ 1172  ┆ B-URL_PERSONAL ┆ https://butler.com/search/wp-con… │\n",
       "│ 4834     ┆ 5     ┆ B-NAME_STUDENT ┆ Jens                              │\n",
       "│ 4834     ┆ 6     ┆ I-NAME_STUDENT ┆ Hoffmann                          │\n",
       "│ 4834     ┆ 326   ┆ B-NAME_STUDENT ┆ Jens                              │\n",
       "└──────────┴───────┴────────────────┴───────────────────────────────────┘"
      ]
     },
     "execution_count": 194,
     "metadata": {},
     "output_type": "execute_result"
    }
   ],
   "source": [
    "pred_data"
   ]
  },
  {
   "cell_type": "code",
   "execution_count": null,
   "metadata": {},
   "outputs": [],
   "source": []
  }
 ],
 "metadata": {
  "kernelspec": {
   "display_name": ".venv",
   "language": "python",
   "name": "python3"
  },
  "language_info": {
   "codemirror_mode": {
    "name": "ipython",
    "version": 3
   },
   "file_extension": ".py",
   "mimetype": "text/x-python",
   "name": "python",
   "nbconvert_exporter": "python",
   "pygments_lexer": "ipython3",
   "version": "3.12.1"
  }
 },
 "nbformat": 4,
 "nbformat_minor": 2
}
