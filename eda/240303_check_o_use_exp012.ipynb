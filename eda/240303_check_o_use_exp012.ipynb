{
 "cells": [
  {
   "cell_type": "markdown",
   "metadata": {},
   "source": [
    "# 目的\n",
    "- OがLBの評価に使われているかを判断する。\n",
    "- exp020のLBは0.9110\n",
    "\n",
    "詳細\n",
    "- https://www.notion.so/O-sample_sub-0-or-1-6b853c5f23bc4de7a0ed7b6eb194bdb9?pvs=4"
   ]
  },
  {
   "cell_type": "code",
   "execution_count": 13,
   "metadata": {},
   "outputs": [],
   "source": [
    "import polars as pl"
   ]
  },
  {
   "cell_type": "code",
   "execution_count": 14,
   "metadata": {},
   "outputs": [],
   "source": [
    "train = pl.read_json(\"../data/train.json\")\n",
    "data = pl.read_csv(\"../valid_df/exp020.csv\")"
   ]
  },
  {
   "cell_type": "code",
   "execution_count": 15,
   "metadata": {},
   "outputs": [
    {
     "data": {
      "text/plain": [
       "(6807, 5)"
      ]
     },
     "execution_count": 15,
     "metadata": {},
     "output_type": "execute_result"
    }
   ],
   "source": [
    "train.shape"
   ]
  },
  {
   "cell_type": "code",
   "execution_count": 16,
   "metadata": {},
   "outputs": [
    {
     "data": {
      "text/plain": [
       "polars.config.Config"
      ]
     },
     "execution_count": 16,
     "metadata": {},
     "output_type": "execute_result"
    }
   ],
   "source": [
    "# 全行を表示する\n",
    "pl.Config.set_tbl_rows(10)"
   ]
  },
  {
   "cell_type": "markdown",
   "metadata": {},
   "source": [
    "# 出力からラベル列を生成する"
   ]
  },
  {
   "cell_type": "code",
   "execution_count": 17,
   "metadata": {},
   "outputs": [],
   "source": [
    "pred_df = (\n",
    "    data.select(\n",
    "        pl.col(\"document_pred\").replace(\"null\", None).cast(pl.Int64),\n",
    "        pl.col(\"token_pred\").replace(\"null\", None).cast(pl.Int64),\n",
    "        pl.col(\"label_pred\").replace(\"null\", None),\n",
    "    )\n",
    "    .drop_nulls()\n",
    "    .sort(\"document_pred\")\n",
    ")"
   ]
  },
  {
   "cell_type": "code",
   "execution_count": 18,
   "metadata": {},
   "outputs": [],
   "source": [
    "# train_only_valid_document = train.filter(\n",
    "#     pl.col(\"document\").is_in(\n",
    "#         pred_df.get_column(\"document_pred\").unique()\n",
    "#     )\n",
    "# )"
   ]
  },
  {
   "cell_type": "code",
   "execution_count": 19,
   "metadata": {},
   "outputs": [],
   "source": [
    "# train_only_valid_document = train_only_valid_document.with_columns(\n",
    "#     pl.col(\"tokens\").map_elements(len).alias(\"tokens_len\"),\n",
    "# )"
   ]
  },
  {
   "cell_type": "code",
   "execution_count": 20,
   "metadata": {},
   "outputs": [],
   "source": [
    "train_with_token_len = train.with_columns(\n",
    "    pl.col(\"tokens\").map_elements(len).alias(\"tokens_len\"),\n",
    ")"
   ]
  },
  {
   "cell_type": "code",
   "execution_count": 21,
   "metadata": {},
   "outputs": [],
   "source": [
    "pred_df_agg_with_len = (\n",
    "    pred_df.group_by(\"document_pred\")\n",
    "    .agg(\n",
    "        pl.col(\"token_pred\"),\n",
    "        pl.col(\"label_pred\"),\n",
    "    )\n",
    "    .join(\n",
    "        train_with_token_len.select([\"document\", \"tokens_len\", \"labels\"]),\n",
    "        left_on=\"document_pred\",\n",
    "        right_on=\"document\",\n",
    "        how=\"left\",\n",
    "    )\n",
    ")"
   ]
  },
  {
   "cell_type": "code",
   "execution_count": 22,
   "metadata": {},
   "outputs": [],
   "source": [
    "# 推論したlabel列を\n",
    "label_pred_alls = []\n",
    "for token_pred, label_pred, tokens_len in zip(\n",
    "    pred_df_agg_with_len[\"token_pred\"],\n",
    "    pred_df_agg_with_len[\"label_pred\"],\n",
    "    pred_df_agg_with_len[\"tokens_len\"],\n",
    "):\n",
    "    label_pred_all = [\"O\" for _ in range(tokens_len)]\n",
    "    for token, label in zip(token_pred, label_pred):\n",
    "        label_pred_all[token] = label\n",
    "    label_pred_alls.append(label_pred_all)\n",
    "\n",
    "actual_pred_df = pred_df_agg_with_len.with_columns(\n",
    "    pl.Series(\"label_pred_all\", label_pred_alls)\n",
    ").select([\"labels\", \"label_pred_all\"])"
   ]
  },
  {
   "cell_type": "code",
   "execution_count": 23,
   "metadata": {},
   "outputs": [
    {
     "data": {
      "text/plain": [
       "(0.8816568047337279, 0.9407479358912092)"
      ]
     },
     "execution_count": 23,
     "metadata": {},
     "output_type": "execute_result"
    }
   ],
   "source": [
    "from seqeval.metrics.sequence_labeling import precision_recall_fscore_support\n",
    "\n",
    "calculated_f1_score = precision_recall_fscore_support(\n",
    "    actual_pred_df[\"labels\"].to_list(),\n",
    "    actual_pred_df[\"label_pred_all\"].to_list(),\n",
    "    beta=1,\n",
    "    average=\"micro\",\n",
    ")[2]\n",
    "\n",
    "calculated_f5_score = precision_recall_fscore_support(\n",
    "    actual_pred_df[\"labels\"].to_list(),\n",
    "    actual_pred_df[\"label_pred_all\"].to_list(),\n",
    "    beta=5,\n",
    "    average=\"micro\",\n",
    ")[2]\n",
    "\n",
    "calculated_f1_score, calculated_f5_score"
   ]
  },
  {
   "cell_type": "code",
   "execution_count": 24,
   "metadata": {},
   "outputs": [
    {
     "name": "stdout",
     "output_type": "stream",
     "text": [
      "                precision    recall  f1-score   support\n",
      "\n",
      "         EMAIL       0.80      1.00      0.89         4\n",
      "        ID_NUM       0.86      1.00      0.92        18\n",
      "  NAME_STUDENT       0.83      0.97      0.89       268\n",
      "     PHONE_NUM       1.00      1.00      1.00         1\n",
      "STREET_ADDRESS       0.00      0.00      0.00         1\n",
      "  URL_PERSONAL       0.82      0.67      0.74        21\n",
      "      USERNAME       1.00      1.00      1.00         2\n",
      "\n",
      "     micro avg       0.83      0.95      0.88       315\n",
      "     macro avg       0.76      0.80      0.78       315\n",
      "  weighted avg       0.83      0.95      0.88       315\n",
      "\n"
     ]
    }
   ],
   "source": [
    "from seqeval.metrics import classification_report\n",
    "\n",
    "print(\n",
    "    classification_report(\n",
    "        actual_pred_df[\"labels\"].to_list(),\n",
    "        actual_pred_df[\"label_pred_all\"].to_list(),\n",
    "    )\n",
    ")"
   ]
  },
  {
   "cell_type": "markdown",
   "metadata": {},
   "source": [
    "# 仮にOが評価される場合"
   ]
  },
  {
   "cell_type": "code",
   "execution_count": 33,
   "metadata": {},
   "outputs": [],
   "source": [
    "replaced_actual_labels = []\n",
    "for actual in actual_pred_df[\"labels\"].to_list():\n",
    "    replaced_actual = []\n",
    "    for actual_label in actual:\n",
    "        if actual_label == \"O\":\n",
    "            replaced_actual.append(\"Something\")\n",
    "        else:\n",
    "            replaced_actual.append(actual_label)\n",
    "    replaced_actual_labels.append(replaced_actual)\n",
    "\n",
    "replaced_pred_labels = []\n",
    "for pred in actual_pred_df[\"label_pred_all\"].to_list():\n",
    "    replaced_pred = []\n",
    "    for pred_label in pred:\n",
    "        if pred_label == \"O\":\n",
    "            replaced_pred.append(\"Something\")\n",
    "        else:\n",
    "            replaced_pred.append(pred_label)\n",
    "    replaced_pred_labels.append(replaced_pred)"
   ]
  },
  {
   "cell_type": "code",
   "execution_count": 34,
   "metadata": {},
   "outputs": [
    {
     "name": "stderr",
     "output_type": "stream",
     "text": [
      "/Users/shinichiro.saito/pll_data_detection/.venv/lib/python3.12/site-packages/seqeval/metrics/sequence_labeling.py:171: UserWarning: Something seems not to be NE tag.\n",
      "  warnings.warn('{} seems not to be NE tag.'.format(chunk))\n"
     ]
    },
    {
     "name": "stdout",
     "output_type": "stream",
     "text": [
      "                precision    recall  f1-score   support\n",
      "\n",
      "         EMAIL       0.80      1.00      0.89         4\n",
      "        ID_NUM       0.86      1.00      0.92        18\n",
      "  NAME_STUDENT       0.83      0.97      0.89       268\n",
      "     PHONE_NUM       1.00      1.00      1.00         1\n",
      "STREET_ADDRESS       0.00      0.00      0.00         1\n",
      "  URL_PERSONAL       0.82      0.67      0.74        21\n",
      "      USERNAME       1.00      1.00      1.00         2\n",
      "      omething       1.00      1.00      1.00    147806\n",
      "\n",
      "     micro avg       1.00      1.00      1.00    148121\n",
      "     macro avg       0.79      0.83      0.81    148121\n",
      "  weighted avg       1.00      1.00      1.00    148121\n",
      "\n"
     ]
    }
   ],
   "source": [
    "print(\n",
    "    classification_report(\n",
    "        replaced_actual_labels,\n",
    "        replaced_pred_labels,\n",
    "    )\n",
    ")"
   ]
  },
  {
   "cell_type": "code",
   "execution_count": 35,
   "metadata": {},
   "outputs": [
    {
     "data": {
      "text/plain": [
       "(0.9994666486632461, 0.9994604200725811)"
      ]
     },
     "execution_count": 35,
     "metadata": {},
     "output_type": "execute_result"
    }
   ],
   "source": [
    "from seqeval.metrics.sequence_labeling import precision_recall_fscore_support\n",
    "\n",
    "calculated_f1_score = precision_recall_fscore_support(\n",
    "    replaced_actual_labels,\n",
    "    replaced_pred_labels,\n",
    "    beta=1,\n",
    "    average=\"micro\",\n",
    ")[2]\n",
    "\n",
    "calculated_f5_score = precision_recall_fscore_support(\n",
    "    replaced_actual_labels,\n",
    "    replaced_pred_labels,\n",
    "    beta=5,\n",
    "    average=\"micro\",\n",
    ")[2]\n",
    "\n",
    "calculated_f1_score, calculated_f5_score"
   ]
  },
  {
   "cell_type": "code",
   "execution_count": null,
   "metadata": {},
   "outputs": [],
   "source": []
  }
 ],
 "metadata": {
  "kernelspec": {
   "display_name": "Python 3 (ipykernel)",
   "language": "python",
   "name": "python3"
  },
  "language_info": {
   "codemirror_mode": {
    "name": "ipython",
    "version": 3
   },
   "file_extension": ".py",
   "mimetype": "text/x-python",
   "name": "python",
   "nbconvert_exporter": "python",
   "pygments_lexer": "ipython3",
   "version": "3.12.1"
  }
 },
 "nbformat": 4,
 "nbformat_minor": 2
}
