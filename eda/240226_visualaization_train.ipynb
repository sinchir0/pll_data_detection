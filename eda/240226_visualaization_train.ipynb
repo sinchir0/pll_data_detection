{
 "cells": [
  {
   "cell_type": "markdown",
   "metadata": {},
   "source": [
    "# 目的\n",
    "spaCyのdisplaCyを用いて、文章とタグを可視化する"
   ]
  },
  {
   "cell_type": "code",
   "execution_count": 2,
   "metadata": {},
   "outputs": [],
   "source": [
    "import polars as pl\n",
    "\n",
    "import spacy\n",
    "from spacy.tokens import Span\n",
    "from spacy import displacy"
   ]
  },
  {
   "cell_type": "code",
   "execution_count": 3,
   "metadata": {},
   "outputs": [],
   "source": [
    "# 一度だけ必要\n",
    "#!poetry run python -m spacy download en_core_web_sm"
   ]
  },
  {
   "cell_type": "code",
   "execution_count": 4,
   "metadata": {},
   "outputs": [],
   "source": [
    "# https://matplotlib.org/2.0.2/examples/color/named_colors.html\n",
    "options = {\n",
    "    \"colors\": {\n",
    "        \"B-NAME_STUDENT\": \"aqua\",\n",
    "        \"I-NAME_STUDENT\": \"aliceblue\",\n",
    "        \"B-EMAIL\": \"forestgreen\",\n",
    "        \"I-EMAIL\": \"greenyellow\",\n",
    "        \"B-USERNAME\": \"hotpink\",\n",
    "        \"I-USERNAME\": \"lightpink\",\n",
    "        \"B-ID_NUM\": \"purple\",\n",
    "        \"I-ID_NUM\": \"rebeccapurple\",\n",
    "        \"B-PHONE_NUM\": \"red\",\n",
    "        \"I-PHONE_NUM\": \"salmon\",\n",
    "        \"B-URL_PERSONAL\": \"slategrey\",\n",
    "        \"I-URL_PERSONAL\": \"silver\",\n",
    "        \"B-STREET_ADDRESS\": \"brown\",\n",
    "        \"I-STREET_ADDRESS\": \"chocolate\",\n",
    "    }\n",
    "}"
   ]
  },
  {
   "cell_type": "code",
   "execution_count": 5,
   "metadata": {},
   "outputs": [],
   "source": [
    "train = pl.read_json(\"../data/train.json\")"
   ]
  },
  {
   "cell_type": "code",
   "execution_count": 6,
   "metadata": {},
   "outputs": [],
   "source": [
    "documents = train.get_column(\"document\").to_list()\n",
    "tokens = train.get_column(\"tokens\").to_list()\n",
    "# full_texts = pii_dataset_fixed.get_column(\"text\").to_list()\n",
    "labels = train.get_column(\"labels\").to_list()"
   ]
  },
  {
   "cell_type": "code",
   "execution_count": 7,
   "metadata": {},
   "outputs": [],
   "source": [
    "# class PllLabelRenderer:\n",
    "#     def __init__(\n",
    "#         self,\n",
    "#         documents: list[str],\n",
    "#         full_texts: list[str],\n",
    "#         labels: list[str],\n",
    "#         options: dict[str, dict[str, str]],\n",
    "#     ) -> None:\n",
    "#         self.nlp = spacy.blank(\"en\")\n",
    "#         self.documents = documents\n",
    "#         self.full_texts = full_texts\n",
    "#         self.labels = labels\n",
    "#         self.options = options\n",
    "\n",
    "#     def render(\n",
    "#         self, render_idx: int | None = None, documents_id: int | None = None\n",
    "#     ) -> None:\n",
    "#         if render_idx and documents_id:\n",
    "#             raise Exception(\"Don't Use Both render_idx and documents_id\")\n",
    "#         if documents_id:\n",
    "#             render_idx = self.documents.index(documents_id)\n",
    "#         doc = self.nlp(self.full_texts[render_idx])\n",
    "#         doc.ents = [\n",
    "#             Span(doc, idx, idx + 1, label=label)\n",
    "#             for idx, label in enumerate(self.labels[render_idx])\n",
    "#             if label != \"O\"\n",
    "#         ]\n",
    "#         displacy.render(doc, style=\"ent\", jupyter=True, options=options)"
   ]
  },
  {
   "cell_type": "code",
   "execution_count": 8,
   "metadata": {},
   "outputs": [],
   "source": [
    "import spacy\n",
    "from spacy.tokens import Span, Doc\n",
    "from spacy import displacy\n",
    "\n",
    "# https://matplotlib.org/2.0.2/examples/color/named_colors.html\n",
    "options = {\n",
    "    \"colors\": {\n",
    "        \"B-NAME_STUDENT\": \"aqua\",\n",
    "        \"I-NAME_STUDENT\": \"aliceblue\",\n",
    "        \"B-EMAIL\": \"forestgreen\",\n",
    "        \"I-EMAIL\": \"greenyellow\",\n",
    "        \"B-USERNAME\": \"hotpink\",\n",
    "        \"I-USERNAME\": \"lightpink\",\n",
    "        \"B-ID_NUM\": \"purple\",\n",
    "        \"I-ID_NUM\": \"rebeccapurple\",\n",
    "        \"B-PHONE_NUM\": \"red\",\n",
    "        \"I-PHONE_NUM\": \"salmon\",\n",
    "        \"B-URL_PERSONAL\": \"slategrey\",\n",
    "        \"I-URL_PERSONAL\": \"silver\",\n",
    "        \"B-STREET_ADDRESS\": \"brown\",\n",
    "        \"I-STREET_ADDRESS\": \"chocolate\",\n",
    "    }\n",
    "}\n",
    "\n",
    "\n",
    "class PiiLabelRenderer:\n",
    "    def __init__(\n",
    "        self,\n",
    "        documents: list[str],\n",
    "        tokens: list[str],\n",
    "        labels: list[str],\n",
    "        options: dict[str, dict[str, str]],\n",
    "    ) -> None:\n",
    "        self.documents = documents\n",
    "        self.tokens = tokens\n",
    "        self.labels = labels\n",
    "        self.options = options\n",
    "        self.nlp = spacy.blank(\"en\")\n",
    "\n",
    "    def get_original_text(\n",
    "        self, render_idx: int | None = None, documents_id: int | None = None\n",
    "    ) -> str:\n",
    "        if render_idx and documents_id:\n",
    "            raise Exception(\"Don't Use Both render_idx and documents_id\")\n",
    "        if documents_id:\n",
    "            render_idx = self.documents.index(documents_id)\n",
    "\n",
    "        return \" \".join(self.tokens[render_idx])\n",
    "\n",
    "    def render(\n",
    "        self, render_idx: int | None = None, documents_id: int | None = None\n",
    "    ) -> None:\n",
    "        if render_idx and documents_id:\n",
    "            raise Exception(\"Don't Use Both render_idx and documents_id\")\n",
    "        if documents_id:\n",
    "            render_idx = self.documents.index(documents_id)\n",
    "\n",
    "        doc = Doc(self.nlp.vocab, words=self.tokens[render_idx])\n",
    "        # エンティティをDocに追加\n",
    "        ents = []\n",
    "        label_seq: list[str] = self.labels[render_idx]\n",
    "        for i, label in enumerate(label_seq):\n",
    "            if label == \"O\":\n",
    "                continue\n",
    "            ents.append(Span(doc, start=i, end=i + 1, label=label))\n",
    "\n",
    "        doc.ents = ents\n",
    "\n",
    "        displacy.render(doc, style=\"ent\", jupyter=True, options=options)"
   ]
  },
  {
   "cell_type": "code",
   "execution_count": 9,
   "metadata": {},
   "outputs": [],
   "source": [
    "PLR = PiiLabelRenderer(\n",
    "    documents=documents, tokens=tokens, labels=labels, options=options\n",
    ")"
   ]
  },
  {
   "cell_type": "code",
   "execution_count": 28,
   "metadata": {},
   "outputs": [
    {
     "data": {
      "text/html": [
       "<span class=\"tex2jax_ignore\"><div class=\"entities\" style=\"line-height: 2.5; direction: ltr\">Tutoring Developmen <br><br> ( \n",
       "<mark class=\"entity\" style=\"background: aqua; padding: 0.45em 0.6em; margin: 0 0.25em; line-height: 1; border-radius: 0.35em;\">\n",
       "    Lamiaa\n",
       "    <span style=\"font-size: 0.8em; font-weight: bold; line-height: 1; border-radius: 0.35em; vertical-align: middle; margin-left: 0.5rem\">B-NAME_STUDENT</span>\n",
       "</mark>\n",
       " \n",
       "<mark class=\"entity\" style=\"background: aliceblue; padding: 0.45em 0.6em; margin: 0 0.25em; line-height: 1; border-radius: 0.35em;\">\n",
       "    Achraf\n",
       "    <span style=\"font-size: 0.8em; font-weight: bold; line-height: 1; border-radius: 0.35em; vertical-align: middle; margin-left: 0.5rem\">I-NAME_STUDENT</span>\n",
       "</mark>\n",
       " \n",
       "<mark class=\"entity\" style=\"background: purple; padding: 0.45em 0.6em; margin: 0 0.25em; line-height: 1; border-radius: 0.35em;\">\n",
       "    Weyhacy_7000693584\n",
       "    <span style=\"font-size: 0.8em; font-weight: bold; line-height: 1; border-radius: 0.35em; vertical-align: middle; margin-left: 0.5rem\">B-ID_NUM</span>\n",
       "</mark>\n",
       " ) <br><br> Challenge Me and some friends at home have just set up tutoring in the past 4 months . There are so many tutoring in our environment , but in learning it is not effective enough to be applied to students who want to learn and understand the material . Most of the tutors that have been established previously only do assignments without providing material , so that many students do not understand properly . We come with different learning methods , but because many students are already tutored , our tutoring still has a dozen members . We have challenges in the progress of adding members / students to increase . There are 4 teachers in this learning guide , teaching from early childhood , kindergarten , elementary , junior high , high school and equivalent . In one week there are 6 meetings . We will focus on trying to increase student members . <br><br> Selection Our members have gone through several design thinking activities / tools , so we are ready to try them out on tutoring development . Broadly speaking , the development of learning is a way that is intended to attract students quickly and easily interesting idea . <br><br> Application For the development of this tutoring , we focus on competitions / activities to develop our tutoring . In it , we wanted to see if we could structure our activities , developments and processes to adapt the right method for our tutoring ( eg , funds , time , meetings , etc . ) in an effort to realize a tutoring that meets the needs of students and increases the number of students who want to join us . Our members underwent preparation with three meetings . Next , we organize tasks , prepare what is needed starting from promotions and process quickly . These sessions occur over a period of 2 weeks . We are expected to be able to manage activities well and can improve the graph of students who join . From competitions or other events we can find samples that we can use to improve the development of our tutoring . <br><br> Insight By applying the tutoring development method , our members identify how many children have signed up to join and compete . In addition , we think about how many children are joining , we hope to find more ways or activities that we will run in the future to improve our performance , both from teaching members and students . If the results we get are slightly different from what we plan , we are open to new steps or methods so as not to tedious the activities developed . Moving forward , we will review these insights and incorporate them into future tutoring developments . which incorporates this insight , because the development is done before the development meets the target and time . <br><br> Approach Our members have gone through several activities at this stage , the development of tutoring activities by holding competitions or events is the right tool . These activities need to be developed again every month to be more creative and there are lots of different learning / competitions in each development for the next activity so that it does n't seem boring . <br><br> </div></span>"
      ],
      "text/plain": [
       "<IPython.core.display.HTML object>"
      ]
     },
     "metadata": {},
     "output_type": "display_data"
    }
   ],
   "source": [
    "PLR.render(documents_id=12483)"
   ]
  },
  {
   "cell_type": "code",
   "execution_count": 12,
   "metadata": {},
   "outputs": [
    {
     "data": {
      "text/plain": [
       "'DESIGN THINKING : Utilization of Brainstorming Tool to Create a Foolproof Relief \\n\\n and Rescue Operations in the Philippines \\n\\n By Jamal Wahab \\n\\n CHALLENGE \\n\\n Image source : https://www.google.com/url?sa=i&url=https%3A%2F%2Finteraksyon.philstar.com%2Ftrends- spotlights%2F2020%2F11%2F12%2F180332%2Fwidespread - flooding - during - ulysses - onslaught - triggers - memories - of-2009s- ondoy%2F&psig = AOvVaw0nJWUdtSz5On4qDYmupYP_&ust=1605587485880000&source = images&cd = vfe&ved=0CAIQjRxqFwoTCMDi_tOdhu0C FQAAAAAdAAAAABAD     Filipinos are often portrayed as free - spirited : smiling even at the brink of misery , laughing even   at the wallows of despair , and joking even at the expense of one ’s well - being . With the country   regarded as ever resilient , it is concurred to foster a national image of a strong nation and uplift   the disposition of each of its citizens . However , the resiliency of the Filipinos has also been   irrefutably contentious . Recent arguments claim that the people in power relations incline to   brush off adversities like that of the deadly pandemic and frightening calamities as something   commonly dealt with on a daily basis . The present - day society outwardly overemphasizes and   overplays Filipinos ’ resilient trait . The very same resiliency is the one conjuring up the dismissal   of risks in an advent of another insignificant event . Granted that frequent super typhoons on top   of the pandemic are not abating and the stop - gap measures such as community quarantine and   rescue operations are not sufficiently working , this so - called resiliency induces not a foolproof   borderline for the nation but rather a tinge of frailocracy to its people . \\n\\n With an aim to cease the social stigmatization engulfing the Philippine society , I would like to   focus this study on possible effective and efficient ways in upholding the welfare of all the citizens   of this venerable nation in the face of the virulent COVID-19 and super typhoon streaks targeting   not only the privileged class but most especially the oppressed sectors . This is through designing   an ideal model for relief and rescue operations that would cater the needs of those who are   severely affected during this hardest and darkest times .      SELECTION \\n\\n Image source : https://www.google.com/url?sa=i&url=https%3A%2F%2Fwww.tes.com%2Flessons%2FSXXLSjVkqghu4Q%2Fbrainstorming- expository - writing&psig = AOvVaw18HOrC- 8OUpoTBewPKSir6&ust=1605587398481000&source = images&cd = vfe&ved=0CAIQjRxqFwoTCPiBraidhu0CFQAAAAAdAAAAABAJ      The tool I decided to utilize is the Brainstorming Tool . This , I believe , is the most appropriate   because it serves as a collective bowl of ideas from various people who are deemed to have   gained expertise and compassion in this particular field . According to Dianne Ty who spent years   in product marketing and new product development , design thinking is an interesting approach   mainly because it is unique compared to all the other typical ideations . Brainstorming , as one of   the familiar tools to us , is actually crucial to apply for it requires a more structured representation   than the commonly known free - form approach . This is to ensure that all the information and   ideas to be gathered from various people will be properly solicited , sorted out , dissected , and   employed . Moreover , brainstorming is presumably the soundest method for this study as it   constantly prompting a large array of people who would be willing to share their experiences ,   ideas , and opinions about the correct organization of relief and rescue operations as well as   promoting a wider range of valuable resolutions to the given problem . \\n\\n APPLICATION     As I ponder on this course , I would like to apply the organized method of brainstorming session   proposed by the Business Development Bank of Canada ( BDC ) . The first step for the   brainstorming process is defining the exact problem . For this case , it is the ineffective and   inefficient ways to execute the relief and rescue operations during the difficult times like that of   the super typhoons in the Philippines . The second step is laying out all the relevant and significant   contexts and additional information . This is to ensure that the proponents of the study are   actually going to the right path that would determine the specific needs of the people and   establish a call of action . The third step is choosing the appropriate facilitator for the   study / project . For this case , I assume the position since I have determined the specific challenge   and selected the appropriate tool for this study . The fourth step is inviting the right people . This   might be a little difficult because the community quarantine hinders everyone to personally meet   and connect with each other . Fortunately , the internet and social media equip me to better   incorporate the necessary things to be accomplished for this study . I would like to reach out to   private organizations and concerned individuals because I believe that they would be of great   help in planning of the advocated project . The fifth step is setting the agenda . This is a very basic   thing to do . It is a common knowledge that a profound agenda is required in any design thinking .   For this case , the agenda is to have a collective set of responses , insights , and experiences that   may potentially build upon the development of an effective and efficient relief and rescue   operations . The last and most crucial step is holding the session . In this step , every single person   invited for this session will be delivering significant insights for the creation of a resolution . All of   the people involved have the rights to speak their minds as their thoughts may play a vital role in   the execution of the project . A separate notetaker is assigned to gather all the details that have   been talked about . After everyone has spoken , a concrete plan will be accomplished in response   to the determined problem of the study . There may be revisions along the way that makes the   whole process cyclical . In the entirety , carrying out all the steps is certainly an arduous task but ,   nevertheless , all the Filipino people ( and/or probably the other nations ) will be benefiting greatly   in this study .      INSIGHT     The application of Brainstorming Tool in this study allowed me to freely think of ideas – whether   it is feasible or not does not really give much of an importance because that is the purpose of this   tool . It basically encouraged me more to work competently and politely with other people in   solving the stated challenge and generating innovative ideas . I believe that this tool did not only   harness my hard skills ( e.g. , intellectual intelligence , content creation , data management , and   critical thinking ) but also improved my soft skills ( e.g. , emotional intelligence , team player   aptitude , adaptability , and work ethics ) . The diverse group of people working hand - in - hand to   produce an enhanced model for relief and rescue operations specifically designed for the Filipino   people guided me to have a broader and deeper growth mindset of what more can I contribute   to my nation . Towards the end of the study , I began to realize that by using the brainstorming   tool , I enabled myself to be accustomed with bottom - top approach . This approach focuses first \\n\\n on the perspective of the people who are actually under such circumstances before creating a   coalition to particularly cater the needs of these people , then submitting the design to the people   in power relations or the higher ups . Overall , I did not regret utilizing the brainstorming tool for   it greatly benefited me and this study .     APPROACH \\n\\n Imgae source :   https://www.google.com/url?sa=i&url=http%3A%2F%2Fwww.workem.com%2Findex.php%2Fbl og%2Fconcept - development - and - interweaving - used - in - varied- circumstances&psig = AOvVaw2Key2vxGyO92nzU7itBP07&ust=1605587632319000&source = ima ges&cd = vfe&ved=0CAIQjRxqFwoTCODK7paehu0CFQAAAAAdAAAAABAJ     If I had not used the Brainstorming Tool , I would suggest an alternative one which is the Concept   Development Tool . This basically just inherits out the output done in the brainstorming ;   however , the huge difference that this tool can have compared to the previous one is the fact   that it follows the phase of insights - > ideas - > concepts . With this phase , the proponents of the   study would be able to further organize the inputs to coherent clusters . Afterwards , an accurate   and foolproof plan may now be executed in line with the proposed problem which is the creation   of effective and efficient relief and rescue operations for the victims of super typhoon . \\n\\n'"
      ]
     },
     "execution_count": 12,
     "metadata": {},
     "output_type": "execute_result"
    }
   ],
   "source": [
    "PLR.get_original_text(documents_id=7137)"
   ]
  },
  {
   "cell_type": "code",
   "execution_count": null,
   "metadata": {},
   "outputs": [],
   "source": []
  }
 ],
 "metadata": {
  "kernelspec": {
   "display_name": ".venv",
   "language": "python",
   "name": "python3"
  },
  "language_info": {
   "codemirror_mode": {
    "name": "ipython",
    "version": 3
   },
   "file_extension": ".py",
   "mimetype": "text/x-python",
   "name": "python",
   "nbconvert_exporter": "python",
   "pygments_lexer": "ipython3",
   "version": "3.12.1"
  }
 },
 "nbformat": 4,
 "nbformat_minor": 2
}
