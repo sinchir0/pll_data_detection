{
 "cells": [
  {
   "cell_type": "markdown",
   "metadata": {},
   "source": [
    "# 目的\n",
    "spaCyのdisplaCyを用いて、文章とタグを可視化する"
   ]
  },
  {
   "cell_type": "code",
   "execution_count": 1,
   "metadata": {},
   "outputs": [],
   "source": [
    "import polars as pl\n",
    "\n",
    "import spacy\n",
    "from spacy.tokens import Span\n",
    "from spacy import displacy"
   ]
  },
  {
   "cell_type": "code",
   "execution_count": 2,
   "metadata": {},
   "outputs": [],
   "source": [
    "# 一度だけ必要\n",
    "#!poetry run python -m spacy download en_core_web_sm"
   ]
  },
  {
   "cell_type": "code",
   "execution_count": 3,
   "metadata": {},
   "outputs": [],
   "source": [
    "# https://matplotlib.org/2.0.2/examples/color/named_colors.html\n",
    "options = {\n",
    "    \"colors\": {\n",
    "        \"B-NAME_STUDENT\": \"aqua\",\n",
    "        \"I-NAME_STUDENT\": \"aliceblue\",\n",
    "        \"B-EMAIL\": \"forestgreen\",\n",
    "        \"I-EMAIL\": \"greenyellow\",\n",
    "        \"B-USERNAME\": \"hotpink\",\n",
    "        \"I-USERNAME\": \"lightpink\",\n",
    "        \"B-ID_NUM\": \"purple\",\n",
    "        \"I-ID_NUM\": \"rebeccapurple\",\n",
    "        \"B-PHONE_NUM\": \"red\",\n",
    "        \"I-PHONE_NUM\": \"salmon\",\n",
    "        \"B-URL_PERSONAL\": \"slategrey\",\n",
    "        \"I-URL_PERSONAL\": \"silver\",\n",
    "        \"B-STREET_ADDRESS\": \"brown\",\n",
    "        \"I-STREET_ADDRESS\": \"chocolate\",\n",
    "    }\n",
    "}"
   ]
  },
  {
   "cell_type": "code",
   "execution_count": 4,
   "metadata": {},
   "outputs": [],
   "source": [
    "train = pl.read_json(\"../data/train.json\")"
   ]
  },
  {
   "cell_type": "code",
   "execution_count": 5,
   "metadata": {},
   "outputs": [],
   "source": [
    "documents = train.get_column(\"document\").to_list()\n",
    "tokens = train.get_column(\"tokens\").to_list()\n",
    "full_texts = train.get_column(\"full_text\").to_list()\n",
    "labels = train.get_column(\"labels\").to_list()"
   ]
  },
  {
   "cell_type": "code",
   "execution_count": 6,
   "metadata": {},
   "outputs": [],
   "source": [
    "# class PllLabelRenderer:\n",
    "#     def __init__(\n",
    "#         self,\n",
    "#         documents: list[str],\n",
    "#         full_texts: list[str],\n",
    "#         labels: list[str],\n",
    "#         options: dict[str, dict[str, str]],\n",
    "#     ) -> None:\n",
    "#         self.nlp = spacy.blank(\"en\")\n",
    "#         self.documents = documents\n",
    "#         self.full_texts = full_texts\n",
    "#         self.labels = labels\n",
    "#         self.options = options\n",
    "\n",
    "#     def render(\n",
    "#         self, render_idx: int | None = None, documents_id: int | None = None\n",
    "#     ) -> None:\n",
    "#         if render_idx and documents_id:\n",
    "#             raise Exception(\"Don't Use Both render_idx and documents_id\")\n",
    "#         if documents_id:\n",
    "#             render_idx = self.documents.index(documents_id)\n",
    "#         doc = self.nlp(self.full_texts[render_idx])\n",
    "#         doc.ents = [\n",
    "#             Span(doc, idx, idx + 1, label=label)\n",
    "#             for idx, label in enumerate(self.labels[render_idx])\n",
    "#             if label != \"O\"\n",
    "#         ]\n",
    "#         displacy.render(doc, style=\"ent\", jupyter=True, options=options)"
   ]
  },
  {
   "cell_type": "code",
   "execution_count": 7,
   "metadata": {},
   "outputs": [],
   "source": [
    "import spacy\n",
    "from spacy.tokens import Span, Doc\n",
    "from spacy import displacy\n",
    "\n",
    "# https://matplotlib.org/2.0.2/examples/color/named_colors.html\n",
    "options = {\n",
    "    \"colors\": {\n",
    "        \"B-NAME_STUDENT\": \"aqua\",\n",
    "        \"I-NAME_STUDENT\": \"aliceblue\",\n",
    "        \"B-EMAIL\": \"forestgreen\",\n",
    "        \"I-EMAIL\": \"greenyellow\",\n",
    "        \"B-USERNAME\": \"hotpink\",\n",
    "        \"I-USERNAME\": \"lightpink\",\n",
    "        \"B-ID_NUM\": \"purple\",\n",
    "        \"I-ID_NUM\": \"rebeccapurple\",\n",
    "        \"B-PHONE_NUM\": \"red\",\n",
    "        \"I-PHONE_NUM\": \"salmon\",\n",
    "        \"B-URL_PERSONAL\": \"slategrey\",\n",
    "        \"I-URL_PERSONAL\": \"silver\",\n",
    "        \"B-STREET_ADDRESS\": \"brown\",\n",
    "        \"I-STREET_ADDRESS\": \"chocolate\",\n",
    "    }\n",
    "}\n",
    "\n",
    "\n",
    "class PiiLabelRenderer:\n",
    "    def __init__(\n",
    "        self,\n",
    "        documents: list[str],\n",
    "        tokens: list[str],\n",
    "        full_texts: list[str],\n",
    "        labels: list[str],\n",
    "        options: dict[str, dict[str, str]],\n",
    "    ) -> None:\n",
    "        self.documents = documents\n",
    "        self.tokens = tokens\n",
    "        self.full_texts = full_texts\n",
    "        self.labels = labels\n",
    "        self.options = options\n",
    "        self.nlp = spacy.blank(\"en\")\n",
    "\n",
    "    def get_original_text(\n",
    "        self, render_idx: int | None = None, documents_id: int | None = None\n",
    "    ) -> str:\n",
    "        if render_idx and documents_id:\n",
    "            raise Exception(\"Don't Use Both render_idx and documents_id\")\n",
    "        if documents_id:\n",
    "            render_idx = self.documents.index(documents_id)\n",
    "\n",
    "        return self.full_texts[render_idx]\n",
    "\n",
    "    def render(\n",
    "        self, render_idx: int | None = None, documents_id: int | None = None\n",
    "    ) -> None:\n",
    "        if render_idx and documents_id:\n",
    "            raise Exception(\"Don't Use Both render_idx and documents_id\")\n",
    "        if documents_id and render_idx is None:\n",
    "            render_idx = self.documents.index(documents_id)\n",
    "        if documents_id is None and render_idx:\n",
    "            documents_id = self.documents[render_idx]\n",
    "        if documents_id is None and render_idx is None:\n",
    "            raise Exception(\"Please specify either render_idx or documents_id\")\n",
    "\n",
    "        print(f\"render_idx: {render_idx}, documents_id: {documents_id}\")\n",
    "\n",
    "        doc = self.nlp(self.full_texts[render_idx])\n",
    "        doc.ents = [\n",
    "            Span(doc, idx, idx + 1, label=label)\n",
    "            for idx, label in enumerate(self.labels[render_idx])\n",
    "            if label != \"O\"\n",
    "        ]\n",
    "\n",
    "        displacy.render(doc, style=\"ent\", jupyter=True, options=options)"
   ]
  },
  {
   "cell_type": "code",
   "execution_count": 8,
   "metadata": {},
   "outputs": [],
   "source": [
    "PLR = PiiLabelRenderer(\n",
    "    documents=documents,\n",
    "    tokens=tokens,\n",
    "    full_texts=full_texts,\n",
    "    labels=labels,\n",
    "    options=options,\n",
    ")"
   ]
  },
  {
   "cell_type": "code",
   "execution_count": 26,
   "metadata": {},
   "outputs": [
    {
     "name": "stdout",
     "output_type": "stream",
     "text": [
      "render_idx: 150, documents_id: 3921\n"
     ]
    },
    {
     "data": {
      "text/html": [
       "<span class=\"tex2jax_ignore\"><div class=\"entities\" style=\"line-height: 2.5; direction: ltr\">Design Thinking for Innovation - Mind Mapping  \n",
       "<mark class=\"entity\" style=\"background: aqua; padding: 0.45em 0.6em; margin: 0 0.25em; line-height: 1; border-radius: 0.35em;\">\n",
       "    Juan\n",
       "    <span style=\"font-size: 0.8em; font-weight: bold; line-height: 1; border-radius: 0.35em; vertical-align: middle; margin-left: 0.5rem\">B-NAME_STUDENT</span>\n",
       "</mark>\n",
       " \n",
       "<mark class=\"entity\" style=\"background: aliceblue; padding: 0.45em 0.6em; margin: 0 0.25em; line-height: 1; border-radius: 0.35em;\">\n",
       "    Flores\n",
       "    <span style=\"font-size: 0.8em; font-weight: bold; line-height: 1; border-radius: 0.35em; vertical-align: middle; margin-left: 0.5rem\">I-NAME_STUDENT</span>\n",
       "</mark>\n",
       "<br><br>Challenge<br><br>I’m a software engineer student at Sathyabama University and my principal goal is to improve reading interest  specially on teens, in my opinion this would cause positive changes in reading comprehension and  linguistic enrichment, adding an improvement in spelling and speaking. I am going to focus on thinking  strategies to attract people's attention especially to young people. I’ve chosen this challenge because is  important to understand and analyze what are you reading to.<br><br>Selection<br><br>I’ve chosen mind mapping because I can add ideas as many as I want without respecting a concrete order  and applicating my own best distribution maybe using techniques as brain storming, nevertheless I can  compare and analyze the ideas I’ve thought and then select the best of all.<br><br>Application<br><br>I’m going to use a kind of marketing focusing on something that attract the people which we want to  convey this message or this proposal for me I would use various resources such as talks which motivate  students reading to make such a reading a habit would then use various types of methods such as in- person lectures which give reasons to read, lectures which explain more the importance and need of  reading, these lectures would be more intuitive, more participatory, etc. One aspect on the internet we can  make videoconferences to give reasons and make dynamics to encourage reading in young people,  another would be that we can give access to online books which would be more attractive for young  people since they are used on their mobile device, another of the online forms would be through  audiobooks since some young people do not like to see letters very much because the r They produce and  listen to them anyway, we would give some attractive books such as science fiction, action, among others,  since they are the ones that are read the most and the last of my ideas would be like audio books.<br><br>Insight<br><br>By chosen mind mapping y was able to add ideas as many as I want without respecting a concrete order  and applicating my own best distribution using brain storming, I was developing, such as the lectures, I put  them in the face-to-face space and online, I also analyzed some trends as an explanation and joined them  with ideas that help attract the reader.<br><br>Approach<br><br>The use of mind map helped me a lot because I could organize my ideas and use the best of all in order to  show a proper article.<br><br></div></span>"
      ],
      "text/plain": [
       "<IPython.core.display.HTML object>"
      ]
     },
     "metadata": {},
     "output_type": "display_data"
    }
   ],
   "source": [
    "PLR.render(render_idx=150)"
   ]
  },
  {
   "cell_type": "code",
   "execution_count": 10,
   "metadata": {},
   "outputs": [
    {
     "name": "stdout",
     "output_type": "stream",
     "text": [
      "Storytelling  The Path to Innovation\n",
      "\n",
      "Dr Sakir Ahmad\n",
      "\n",
      "Challenge & Selection\n",
      "\n",
      "Be it any organization, team or a government venture, I have often observed that they experience  failures because they couldn’t connect with their audience aptly. In such scenarios, storytelling  can turn the table significantly. I have used the tool ‘storytelling’ in my organization to convey a  complicated message as simply as possible or to generate ideas from people around me. The idea  is to implement this innovative tool to make the intricate issues understandable and engage the  targeted audience. I relayed the context of the story to captivate the attention of the audience. I  have used the technique in front of my team-members of the organization to impart its essence,  brainstorm notions, make productive connections and develop appropriate strategies. The crucial  element in storytelling is to engagingly answer the questions raised in the story to its targeted  audience and allow them to resonate with the core subject of the story. When I shared the story, I  tried to gain the insights from the audience as to how the characters inspire them and how it  related to their work emotions. The information and feedback immensely helped me in  recognizing its importance in finding solutions in real world.\n",
      "\n",
      "Application\n",
      "\n",
      "I used the storytelling tool in an organizational meeting to help the team members visualize the  essence and impact of revolutionary thinking. I understood that the story has to make sense so  that they can comprehend the context and relate with it. I started the story of the time when there  was an emergence of deadly diseases due to mosquitoes i.e. malaria etc. and a company brought  a revolution by introducing a range of mosquito repellent products. I emphasized on its out-of- the box thinking & ideas that made the brand conquer the market. I observed that my audience  were sincerely engaged and were emotionally connected with the company. After I finished, there  were questions and productive interactions which exhibited that they relate it with their ongoing  project. The enthusiasm of thinking afresh was quite overwhelming.\n",
      "\n",
      "Insight & Approach\n",
      "\n",
      "When I analysed the whole series of events it made me wonder, “Did my tool work? The answer I  think is ‘YES’. Will it serve the purpose? I think that time will tell but I believe it will certainly aid  them in making apt strategies.”\n",
      "\n",
      "The exercise portrayed that a revolutionary story can influence a small number of people then  storytelling as a design-thinking tool, if implemented efficiently, can bring ground-breaking  changes in organizations & countries. I observed that my story engaged my targeted audience,  inspired them to think new and deliver better results.\n",
      "\n",
      "As a student of design thinking, I can explore this tool from all corners and can confidently say  that I can creatively use it in number of inspiring ways at any appropriate phase of design thinking  activities.\n",
      "\n",
      "\n"
     ]
    }
   ],
   "source": [
    "print(PLR.get_original_text(render_idx=7))"
   ]
  },
  {
   "cell_type": "code",
   "execution_count": null,
   "metadata": {},
   "outputs": [],
   "source": []
  }
 ],
 "metadata": {
  "kernelspec": {
   "display_name": ".venv",
   "language": "python",
   "name": "python3"
  },
  "language_info": {
   "codemirror_mode": {
    "name": "ipython",
    "version": 3
   },
   "file_extension": ".py",
   "mimetype": "text/x-python",
   "name": "python",
   "nbconvert_exporter": "python",
   "pygments_lexer": "ipython3",
   "version": "3.12.1"
  }
 },
 "nbformat": 4,
 "nbformat_minor": 2
}
