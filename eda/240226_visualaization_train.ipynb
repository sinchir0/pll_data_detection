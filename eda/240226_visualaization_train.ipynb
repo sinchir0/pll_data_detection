{
 "cells": [
  {
   "cell_type": "markdown",
   "metadata": {},
   "source": [
    "# 目的\n",
    "spaCyのdisplaCyを用いて、文章とタグを可視化する"
   ]
  },
  {
   "cell_type": "code",
   "execution_count": 30,
   "metadata": {},
   "outputs": [],
   "source": [
    "import polars as pl\n",
    "\n",
    "import spacy\n",
    "from spacy.tokens import Span\n",
    "from spacy import displacy"
   ]
  },
  {
   "cell_type": "code",
   "execution_count": 31,
   "metadata": {},
   "outputs": [],
   "source": [
    "# 一度だけ必要\n",
    "#!poetry run python -m spacy download en_core_web_sm"
   ]
  },
  {
   "cell_type": "code",
   "execution_count": 32,
   "metadata": {},
   "outputs": [],
   "source": [
    "# https://matplotlib.org/2.0.2/examples/color/named_colors.html\n",
    "options = {\n",
    "    \"colors\": {\n",
    "        \"B-NAME_STUDENT\": \"aqua\",\n",
    "        \"I-NAME_STUDENT\": \"aliceblue\",\n",
    "        \"B-EMAIL\": \"forestgreen\",\n",
    "        \"I-EMAIL\": \"greenyellow\",\n",
    "        \"B-USERNAME\": \"hotpink\",\n",
    "        \"I-USERNAME\": \"lightpink\",\n",
    "        \"B-ID_NUM\": \"purple\",\n",
    "        \"I-ID_NUM\": \"rebeccapurple\",\n",
    "        \"B-PHONE_NUM\": \"red\",\n",
    "        \"I-PHONE_NUM\": \"salmon\",\n",
    "        \"B-URL_PERSONAL\": \"slategrey\",\n",
    "        \"I-URL_PERSONAL\": \"silver\",\n",
    "        \"B-STREET_ADDRESS\": \"brown\",\n",
    "        \"I-STREET_ADDRESS\": \"chocolate\",\n",
    "    }\n",
    "}"
   ]
  },
  {
   "cell_type": "code",
   "execution_count": 33,
   "metadata": {},
   "outputs": [],
   "source": [
    "train = pl.read_json(\"../data/train.json\")"
   ]
  },
  {
   "cell_type": "code",
   "execution_count": 34,
   "metadata": {},
   "outputs": [],
   "source": [
    "documents = train.get_column(\"document\").to_list()\n",
    "tokens = train.get_column(\"tokens\").to_list()\n",
    "full_texts = train.get_column(\"full_text\").to_list()\n",
    "labels = train.get_column(\"labels\").to_list()"
   ]
  },
  {
   "cell_type": "code",
   "execution_count": 35,
   "metadata": {},
   "outputs": [],
   "source": [
    "# class PllLabelRenderer:\n",
    "#     def __init__(\n",
    "#         self,\n",
    "#         documents: list[str],\n",
    "#         full_texts: list[str],\n",
    "#         labels: list[str],\n",
    "#         options: dict[str, dict[str, str]],\n",
    "#     ) -> None:\n",
    "#         self.nlp = spacy.blank(\"en\")\n",
    "#         self.documents = documents\n",
    "#         self.full_texts = full_texts\n",
    "#         self.labels = labels\n",
    "#         self.options = options\n",
    "\n",
    "#     def render(\n",
    "#         self, render_idx: int | None = None, documents_id: int | None = None\n",
    "#     ) -> None:\n",
    "#         if render_idx and documents_id:\n",
    "#             raise Exception(\"Don't Use Both render_idx and documents_id\")\n",
    "#         if documents_id:\n",
    "#             render_idx = self.documents.index(documents_id)\n",
    "#         doc = self.nlp(self.full_texts[render_idx])\n",
    "#         doc.ents = [\n",
    "#             Span(doc, idx, idx + 1, label=label)\n",
    "#             for idx, label in enumerate(self.labels[render_idx])\n",
    "#             if label != \"O\"\n",
    "#         ]\n",
    "#         displacy.render(doc, style=\"ent\", jupyter=True, options=options)"
   ]
  },
  {
   "cell_type": "code",
   "execution_count": 51,
   "metadata": {},
   "outputs": [],
   "source": [
    "import spacy\n",
    "from spacy.tokens import Span, Doc\n",
    "from spacy import displacy\n",
    "\n",
    "# https://matplotlib.org/2.0.2/examples/color/named_colors.html\n",
    "options = {\n",
    "    \"colors\": {\n",
    "        \"B-NAME_STUDENT\": \"aqua\",\n",
    "        \"I-NAME_STUDENT\": \"aliceblue\",\n",
    "        \"B-EMAIL\": \"forestgreen\",\n",
    "        \"I-EMAIL\": \"greenyellow\",\n",
    "        \"B-USERNAME\": \"hotpink\",\n",
    "        \"I-USERNAME\": \"lightpink\",\n",
    "        \"B-ID_NUM\": \"purple\",\n",
    "        \"I-ID_NUM\": \"rebeccapurple\",\n",
    "        \"B-PHONE_NUM\": \"red\",\n",
    "        \"I-PHONE_NUM\": \"salmon\",\n",
    "        \"B-URL_PERSONAL\": \"slategrey\",\n",
    "        \"I-URL_PERSONAL\": \"silver\",\n",
    "        \"B-STREET_ADDRESS\": \"brown\",\n",
    "        \"I-STREET_ADDRESS\": \"chocolate\",\n",
    "    }\n",
    "}\n",
    "\n",
    "\n",
    "class PiiLabelRenderer:\n",
    "    def __init__(\n",
    "        self,\n",
    "        documents: list[str],\n",
    "        tokens: list[str],\n",
    "        full_texts: list[str],\n",
    "        labels: list[str],\n",
    "        options: dict[str, dict[str, str]],\n",
    "    ) -> None:\n",
    "        self.documents = documents\n",
    "        self.tokens = tokens\n",
    "        self.full_texts = full_texts\n",
    "        self.labels = labels\n",
    "        self.options = options\n",
    "        self.nlp = spacy.blank(\"en\")\n",
    "\n",
    "    def get_original_text(\n",
    "        self, render_idx: int | None = None, documents_id: int | None = None\n",
    "    ) -> str:\n",
    "        if render_idx and documents_id:\n",
    "            raise Exception(\"Don't Use Both render_idx and documents_id\")\n",
    "        if documents_id:\n",
    "            render_idx = self.documents.index(documents_id)\n",
    "\n",
    "        return self.full_texts[render_idx]\n",
    "\n",
    "    def render(\n",
    "        self, render_idx: int | None = None, documents_id: int | None = None\n",
    "    ) -> None:\n",
    "        if render_idx and documents_id:\n",
    "            raise Exception(\"Don't Use Both render_idx and documents_id\")\n",
    "        if documents_id and render_idx is None:\n",
    "            render_idx = self.documents.index(documents_id)\n",
    "        if documents_id is None and render_idx:\n",
    "            documents_id = self.documents[render_idx]\n",
    "        if documents_id is None and render_idx is None:\n",
    "            raise Exception(\"Please specify either render_idx or documents_id\")\n",
    "\n",
    "        print(f\"render_idx: {render_idx}, documents_id: {documents_id}\")\n",
    "\n",
    "        doc = self.nlp(self.full_texts[render_idx])\n",
    "        doc.ents = [\n",
    "            Span(doc, idx, idx + 1, label=label)\n",
    "            for idx, label in enumerate(self.labels[render_idx])\n",
    "            if label != \"O\"\n",
    "        ]\n",
    "\n",
    "        displacy.render(doc, style=\"ent\", jupyter=True, options=options)"
   ]
  },
  {
   "cell_type": "code",
   "execution_count": 52,
   "metadata": {},
   "outputs": [],
   "source": [
    "PLR = PiiLabelRenderer(\n",
    "    documents=documents,\n",
    "    tokens=tokens,\n",
    "    full_texts=full_texts,\n",
    "    labels=labels,\n",
    "    options=options,\n",
    ")"
   ]
  },
  {
   "cell_type": "code",
   "execution_count": 60,
   "metadata": {},
   "outputs": [
    {
     "name": "stdout",
     "output_type": "stream",
     "text": [
      "render_idx: 9, documents_id: 123\n"
     ]
    },
    {
     "data": {
      "text/html": [
       "<span class=\"tex2jax_ignore\"><div class=\"entities\" style=\"line-height: 2.5; direction: ltr\">Gandhi Institute of Technology and Management   Higher School of Economics<br><br>Essay №1<br><br>on Economics course<br><br>Topic 7<br><br>“Why are people sometimes altruistic?”<br><br>\n",
       "<mark class=\"entity\" style=\"background: aqua; padding: 0.45em 0.6em; margin: 0 0.25em; line-height: 1; border-radius: 0.35em;\">\n",
       "    Stefano\n",
       "    <span style=\"font-size: 0.8em; font-weight: bold; line-height: 1; border-radius: 0.35em; vertical-align: middle; margin-left: 0.5rem\">B-NAME_STUDENT</span>\n",
       "</mark>\n",
       " \n",
       "<mark class=\"entity\" style=\"background: aliceblue; padding: 0.45em 0.6em; margin: 0 0.25em; line-height: 1; border-radius: 0.35em;\">\n",
       "    Lovato\n",
       "    <span style=\"font-size: 0.8em; font-weight: bold; line-height: 1; border-radius: 0.35em; vertical-align: middle; margin-left: 0.5rem\">I-NAME_STUDENT</span>\n",
       "</mark>\n",
       "<br><br>MDI-191 student<br><br>Sathyabama<br><br>April, 2020<br><br>In many classical economic theories, it is common to determine a human, as a very egoistic  creature. Adam Smith’s books (but not all of them) were wrote based on this idea also.  However, the conception of Homo economicus was introduced for the first time by John Stuart  Mill in the nineteens century and it assumes, that all human beings are consistently rational,  narrowly self-interested, and who pursue their subjectively-defined ends optimally1. However,  in our real life we face acts of altruism very often: our parents provide us with all necessary  goods, a lot of businessmen give money for charity and even strangers give money to homeless  people. So, it is very clear, that people do not necessarily acts in their own interests all the time,  they also tend to help others. But what makes them to do this? Why are people sometimes  altruistic?<br><br>Gerashchenko Igor in his article “The ethical teaching of A. Smith in the context of the modern  economy” writes, that altruism has been existing from the very times of primitive man, as a  single egoistic individual was not capable to survive out of his or her community. All resources  were so difficult to get, that the efforts of the whole pride were essential in struggle for  survival. The following way the system of social values, where helping other people is highly  appreciated, started to form. The ideology of individualism instead of collectivism has appeared  much time later, when the market economy gave us a possibility to live independently from  each other, or to form smaller communities, as nuclear families. But even now, in modern word  and in modern families, we can see people continue to act in altruistic way. So, let’s try to  discover, what other motives, besides ancient habit, do they have.<br><br>One of the mechanisms, which makes people act in altruistic way, is called reciprocal (or  mutual) altruism. It means, that individuals tend to help someone, who is likely to give  something back. But it doesn’t mean, that human beings are egoistic. People subconsciously  wait for the same attitude to them after performing altruistic actions (there the golden rule of  morality2 is taken place). Alexander Shmakov, the author of the article “The purpose for just  cooperation as a motive of economic behavior”, provides us with results of the experiment,  which shows the relevancy of the statement, which was made above:<br><br>Both of two players (A and B) were provided with a certain amount of money (a and b  respectively). Firstly, player A is asked to give a part of his money to player B, and after that  player B is also asked to give money to A. Both players are free to choose any amount of money  (x or y respectively) they want to give or not to give anything at all.<br><br>The rational strategy for both players will be not give money. Because in case, when A decided  to share, it would not be profitable for B to share money (b + xa — yb &lt; b + xa). And if A decided  not to give money, B would not give money either. However, in reality, when the experiment  took place, the results showed that 20 of 30 pairs of students shared their money. The average  received sum of money were 32,5% of the initial one. But in case, when one of the players<br><br>1 The definition is taken from https://en.wikipedia.org/wiki/Homo_economicus .  2 Treat people the way you want to be treated.<br><br>Player A / Player B  To give money  Not to give<br><br>To give money  a + yb — xa, b + xa — yb  a — xa, b + xa<br><br>Not to give  a + yb, b — yb  a, b<br><br>denied the opportunity of cooperation ones, in most of the cases it put the end for the future  transaction, as the condition of relicense was lost.<br><br>One more thing, which can help us to understand the phenomenon of altruism, is economic  games. There exist a lot of such games, but the most famous are “Dictator”, “Ultimatum” and  “The division of the public good”.  In “Dictator” game one the players receives a sum of money,  part of which he/she can give to another player. The rational behavior, which is expected from  the first person, is not to give anything, as only in this case he/she will get the maximum  possible profit. Strangely, but in 616 experiments3, which were carried out, an average given  sum was about 28,35% of the initial sum and only about 1/3 of all participants gave nothing. The  motive for such altruistic action is probably a sense of justice, as the first person did nothing in  order to get money, so he/she thinks, that it would be fair to share them.<br><br>Another explanation of altruism is people’s consciousness about their reputation. As I  mentioned above, altruism is socially approved behavior, so individuals, who are known for  helping people around, may be in more respect, than others. So, the motives for the altruistic  actions can be not only empathy, but also concern for the opinion of others.  Charity donations  are a good example of an altruistic action, which has a considerable impact in person’s  reputation. In most of the charity cases only small donations are made anonymously, but  names of people, who donate huge amounts of money, are usually well-known and numerous  times mentioned in newspapers, magazines and TV programs. So, philanthropists may expect  more support from the society, if they need, as they are known as a good person.<br><br>Developing the idea about philanthropy, we face another reason for being altruistic. This  motive is about being conscious of the future of the civilization, also known as communal  interest, which differ people from animals. People want to live in comfortable conditions,  where hospitals, education and other social institutions work well enough. So, they are ready to  contribute to the common good in order to provide their families and themselves with better  life. That is why the idea of social altruism appeared. Scientists faced the fact, that they are  unable to explain why people continue help others even, when they do not have any filiation at  all. This type of behavior started to take place, when human’s intentions goes beyond family  and reputational altruism. Ernst Fehr and Urs Fischbacher in their article “Nature of human  altruism” call this phenomenon a strong reciprocity, which works under the possibility of  altruistic remuneration or altruistic punishment (stigmatization).<br><br>Taking all things into consideration, we can conclude, that altruism has a significant economic  effect not only on one particular person or a small social group, but on the whole society. And  strange, as it may seem, altruistic behavior can be profitable for the altruist as well as for  someone, who receives help. Moreover, many social organizations, even economic ones, would  not work at all, if people behaved themselves only in egoistic way, as due to desire to get the  maximum possible profit people may break adopted regulations, what may ruin the whole  system.<br><br>3 Kazantseva T.V. Altruism: the phenomenon and operationalization (https://cyberleninka.ru/article/n/stremlenie- k-spravedlivomu-sotrudnichestvu-kak-motiv-ekonomicheskogo-povedeniya)<br><br>Sources:<br><br>1. Gerashchenko I.G. A. Smith's Ethical Teaching in the Context of the Modern Economy //<br><br>Credo new (http://www.intelros.ru/readroom/credo_new/k3-2018/36398-eticheskoe- uchenie-asmita-v-kontekste-sovremennoy-ekonomiki.html).<br><br>2. Shmakov A.V. PURPOSE FOR JUST COOPERATION AS MOTIVES OF ECONOMIC BEHAVIOR<br><br>// Terra Economicus. 2010. (https://cyberleninka.ru/article/n/14398333).<br><br>3. Kazantseva T.V. Altruism: the phenomenon and operationalization<br><br>(https://cyberleninka.ru/article/n/stremlenie-k-spravedlivomu-sotrudnichestvu-kak- motiv-ekonomicheskogo-povedeniya) .<br><br>4. Andreoni J. Philanthropy // Handbook of Giving, Altruism, and Reciprocity. Vol. 2 / S.<br><br>Kolm, J. Ythier (eds.). Amsterdam; L.; N. Y.: Elsevier, 2006. P. 1201-1265.  (https://econweb.ucsd.edu/~jandreon/WorkingPapers/Philanthropy.pdf)<br><br>5. Fehr E., Schmidt K. M. The economics of fairness, reciprocity and altruism–experimental<br><br>evidence and new theories // Handbook of the economics of giving, altruism and  reciprocity. 2006.( https://www.melessa.uni- muenchen.de/team/vorstandssprecher/schmidt/publikationen/papers/reciprocalt.pdf)<br><br></div></span>"
      ],
      "text/plain": [
       "<IPython.core.display.HTML object>"
      ]
     },
     "metadata": {},
     "output_type": "display_data"
    }
   ],
   "source": [
    "PLR.render(render_idx=9)"
   ]
  },
  {
   "cell_type": "code",
   "execution_count": 58,
   "metadata": {},
   "outputs": [
    {
     "name": "stdout",
     "output_type": "stream",
     "text": [
      "Storytelling  The Path to Innovation\n",
      "\n",
      "Dr Sakir Ahmad\n",
      "\n",
      "Challenge & Selection\n",
      "\n",
      "Be it any organization, team or a government venture, I have often observed that they experience  failures because they couldn’t connect with their audience aptly. In such scenarios, storytelling  can turn the table significantly. I have used the tool ‘storytelling’ in my organization to convey a  complicated message as simply as possible or to generate ideas from people around me. The idea  is to implement this innovative tool to make the intricate issues understandable and engage the  targeted audience. I relayed the context of the story to captivate the attention of the audience. I  have used the technique in front of my team-members of the organization to impart its essence,  brainstorm notions, make productive connections and develop appropriate strategies. The crucial  element in storytelling is to engagingly answer the questions raised in the story to its targeted  audience and allow them to resonate with the core subject of the story. When I shared the story, I  tried to gain the insights from the audience as to how the characters inspire them and how it  related to their work emotions. The information and feedback immensely helped me in  recognizing its importance in finding solutions in real world.\n",
      "\n",
      "Application\n",
      "\n",
      "I used the storytelling tool in an organizational meeting to help the team members visualize the  essence and impact of revolutionary thinking. I understood that the story has to make sense so  that they can comprehend the context and relate with it. I started the story of the time when there  was an emergence of deadly diseases due to mosquitoes i.e. malaria etc. and a company brought  a revolution by introducing a range of mosquito repellent products. I emphasized on its out-of- the box thinking & ideas that made the brand conquer the market. I observed that my audience  were sincerely engaged and were emotionally connected with the company. After I finished, there  were questions and productive interactions which exhibited that they relate it with their ongoing  project. The enthusiasm of thinking afresh was quite overwhelming.\n",
      "\n",
      "Insight & Approach\n",
      "\n",
      "When I analysed the whole series of events it made me wonder, “Did my tool work? The answer I  think is ‘YES’. Will it serve the purpose? I think that time will tell but I believe it will certainly aid  them in making apt strategies.”\n",
      "\n",
      "The exercise portrayed that a revolutionary story can influence a small number of people then  storytelling as a design-thinking tool, if implemented efficiently, can bring ground-breaking  changes in organizations & countries. I observed that my story engaged my targeted audience,  inspired them to think new and deliver better results.\n",
      "\n",
      "As a student of design thinking, I can explore this tool from all corners and can confidently say  that I can creatively use it in number of inspiring ways at any appropriate phase of design thinking  activities.\n",
      "\n",
      "\n"
     ]
    }
   ],
   "source": [
    "print(PLR.get_original_text(render_idx=7))"
   ]
  },
  {
   "cell_type": "code",
   "execution_count": null,
   "metadata": {},
   "outputs": [],
   "source": []
  }
 ],
 "metadata": {
  "kernelspec": {
   "display_name": ".venv",
   "language": "python",
   "name": "python3"
  },
  "language_info": {
   "codemirror_mode": {
    "name": "ipython",
    "version": 3
   },
   "file_extension": ".py",
   "mimetype": "text/x-python",
   "name": "python",
   "nbconvert_exporter": "python",
   "pygments_lexer": "ipython3",
   "version": "3.12.1"
  }
 },
 "nbformat": 4,
 "nbformat_minor": 2
}
