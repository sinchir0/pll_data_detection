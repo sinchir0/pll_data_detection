{
 "cells": [
  {
   "cell_type": "markdown",
   "metadata": {},
   "source": [
    "# 目的\n",
    "spaCyのdisplaCyを用いて、文章とタグを可視化する"
   ]
  },
  {
   "cell_type": "code",
   "execution_count": 1,
   "metadata": {},
   "outputs": [],
   "source": [
    "import polars as pl\n",
    "\n",
    "import spacy\n",
    "from spacy.tokens import Span\n",
    "from spacy import displacy"
   ]
  },
  {
   "cell_type": "code",
   "execution_count": 2,
   "metadata": {},
   "outputs": [],
   "source": [
    "# 一度だけ必要\n",
    "#!poetry run python -m spacy download en_core_web_sm"
   ]
  },
  {
   "cell_type": "code",
   "execution_count": 3,
   "metadata": {},
   "outputs": [],
   "source": [
    "# https://matplotlib.org/2.0.2/examples/color/named_colors.html\n",
    "options = {\n",
    "    \"colors\": {\n",
    "        \"B-NAME_STUDENT\": \"aqua\",\n",
    "        \"I-NAME_STUDENT\": \"aliceblue\",\n",
    "        \"B-EMAIL\": \"forestgreen\",\n",
    "        \"I-EMAIL\": \"greenyellow\",\n",
    "        \"B-USERNAME\": \"hotpink\",\n",
    "        \"I-USERNAME\": \"lightpink\",\n",
    "        \"B-ID_NUM\": \"purple\",\n",
    "        \"I-ID_NUM\": \"rebeccapurple\",\n",
    "        \"B-PHONE_NUM\": \"red\",\n",
    "        \"I-PHONE_NUM\": \"salmon\",\n",
    "        \"B-URL_PERSONAL\": \"slategrey\",\n",
    "        \"I-URL_PERSONAL\": \"silver\",\n",
    "        \"B-STREET_ADDRESS\": \"brown\",\n",
    "        \"I-STREET_ADDRESS\": \"chocolate\",\n",
    "    }\n",
    "}"
   ]
  },
  {
   "cell_type": "code",
   "execution_count": 4,
   "metadata": {},
   "outputs": [],
   "source": [
    "train = pl.read_json(\"../data/train.json\")"
   ]
  },
  {
   "cell_type": "code",
   "execution_count": 5,
   "metadata": {},
   "outputs": [],
   "source": [
    "documents = train.get_column(\"document\").to_list()\n",
    "tokens = train.get_column(\"tokens\").to_list()\n",
    "full_texts = train.get_column(\"full_text\").to_list()\n",
    "labels = train.get_column(\"labels\").to_list()"
   ]
  },
  {
   "cell_type": "code",
   "execution_count": 6,
   "metadata": {},
   "outputs": [],
   "source": [
    "# class PllLabelRenderer:\n",
    "#     def __init__(\n",
    "#         self,\n",
    "#         documents: list[str],\n",
    "#         full_texts: list[str],\n",
    "#         labels: list[str],\n",
    "#         options: dict[str, dict[str, str]],\n",
    "#     ) -> None:\n",
    "#         self.nlp = spacy.blank(\"en\")\n",
    "#         self.documents = documents\n",
    "#         self.full_texts = full_texts\n",
    "#         self.labels = labels\n",
    "#         self.options = options\n",
    "\n",
    "#     def render(\n",
    "#         self, render_idx: int | None = None, documents_id: int | None = None\n",
    "#     ) -> None:\n",
    "#         if render_idx and documents_id:\n",
    "#             raise Exception(\"Don't Use Both render_idx and documents_id\")\n",
    "#         if documents_id:\n",
    "#             render_idx = self.documents.index(documents_id)\n",
    "#         doc = self.nlp(self.full_texts[render_idx])\n",
    "#         doc.ents = [\n",
    "#             Span(doc, idx, idx + 1, label=label)\n",
    "#             for idx, label in enumerate(self.labels[render_idx])\n",
    "#             if label != \"O\"\n",
    "#         ]\n",
    "#         displacy.render(doc, style=\"ent\", jupyter=True, options=options)"
   ]
  },
  {
   "cell_type": "code",
   "execution_count": 7,
   "metadata": {},
   "outputs": [],
   "source": [
    "import spacy\n",
    "from spacy.tokens import Span, Doc\n",
    "from spacy import displacy\n",
    "\n",
    "# https://matplotlib.org/2.0.2/examples/color/named_colors.html\n",
    "options = {\n",
    "    \"colors\": {\n",
    "        \"B-NAME_STUDENT\": \"aqua\",\n",
    "        \"I-NAME_STUDENT\": \"aliceblue\",\n",
    "        \"B-EMAIL\": \"forestgreen\",\n",
    "        \"I-EMAIL\": \"greenyellow\",\n",
    "        \"B-USERNAME\": \"hotpink\",\n",
    "        \"I-USERNAME\": \"lightpink\",\n",
    "        \"B-ID_NUM\": \"purple\",\n",
    "        \"I-ID_NUM\": \"rebeccapurple\",\n",
    "        \"B-PHONE_NUM\": \"red\",\n",
    "        \"I-PHONE_NUM\": \"salmon\",\n",
    "        \"B-URL_PERSONAL\": \"slategrey\",\n",
    "        \"I-URL_PERSONAL\": \"silver\",\n",
    "        \"B-STREET_ADDRESS\": \"brown\",\n",
    "        \"I-STREET_ADDRESS\": \"chocolate\",\n",
    "    }\n",
    "}\n",
    "\n",
    "\n",
    "class PiiLabelRenderer:\n",
    "    def __init__(\n",
    "        self,\n",
    "        documents: list[str],\n",
    "        tokens: list[str],\n",
    "        full_texts: list[str],\n",
    "        labels: list[str],\n",
    "        options: dict[str, dict[str, str]],\n",
    "    ) -> None:\n",
    "        self.documents = documents\n",
    "        self.tokens = tokens\n",
    "        self.full_texts = full_texts\n",
    "        self.labels = labels\n",
    "        self.options = options\n",
    "        self.nlp = spacy.blank(\"en\")\n",
    "\n",
    "    def get_original_text(\n",
    "        self, render_idx: int | None = None, documents_id: int | None = None\n",
    "    ) -> str:\n",
    "        if render_idx and documents_id:\n",
    "            raise Exception(\"Don't Use Both render_idx and documents_id\")\n",
    "        if documents_id:\n",
    "            render_idx = self.documents.index(documents_id)\n",
    "\n",
    "        return self.full_texts[render_idx]\n",
    "\n",
    "    def render(\n",
    "        self, render_idx: int | None = None, documents_id: int | None = None\n",
    "    ) -> None:\n",
    "        if render_idx and documents_id:\n",
    "            raise Exception(\"Don't Use Both render_idx and documents_id\")\n",
    "        if documents_id and render_idx is None:\n",
    "            render_idx = self.documents.index(documents_id)\n",
    "        if documents_id is None and render_idx:\n",
    "            documents_id = self.documents[render_idx]\n",
    "        if documents_id is None and render_idx is None:\n",
    "            raise Exception(\"Please specify either render_idx or documents_id\")\n",
    "\n",
    "        print(f\"render_idx: {render_idx}, documents_id: {documents_id}\")\n",
    "\n",
    "        doc = self.nlp(self.full_texts[render_idx])\n",
    "        doc.ents = [\n",
    "            Span(doc, idx, idx + 1, label=label)\n",
    "            for idx, label in enumerate(self.labels[render_idx])\n",
    "            if label != \"O\"\n",
    "        ]\n",
    "\n",
    "        displacy.render(doc, style=\"ent\", jupyter=True, options=options)"
   ]
  },
  {
   "cell_type": "code",
   "execution_count": 8,
   "metadata": {},
   "outputs": [],
   "source": [
    "PLR = PiiLabelRenderer(\n",
    "    documents=documents,\n",
    "    tokens=tokens,\n",
    "    full_texts=full_texts,\n",
    "    labels=labels,\n",
    "    options=options,\n",
    ")"
   ]
  },
  {
   "cell_type": "code",
   "execution_count": 12,
   "metadata": {},
   "outputs": [
    {
     "name": "stdout",
     "output_type": "stream",
     "text": [
      "render_idx: 0, documents_id: 7\n"
     ]
    },
    {
     "data": {
      "text/html": [
       "<span class=\"tex2jax_ignore\"><div class=\"entities\" style=\"line-height: 2.5; direction: ltr\">Design Thinking for innovation reflexion-Avril 2021-\n",
       "<mark class=\"entity\" style=\"background: aqua; padding: 0.45em 0.6em; margin: 0 0.25em; line-height: 1; border-radius: 0.35em;\">\n",
       "    Nathalie\n",
       "    <span style=\"font-size: 0.8em; font-weight: bold; line-height: 1; border-radius: 0.35em; vertical-align: middle; margin-left: 0.5rem\">B-NAME_STUDENT</span>\n",
       "</mark>\n",
       " \n",
       "<mark class=\"entity\" style=\"background: aliceblue; padding: 0.45em 0.6em; margin: 0 0.25em; line-height: 1; border-radius: 0.35em;\">\n",
       "    Sylla\n",
       "    <span style=\"font-size: 0.8em; font-weight: bold; line-height: 1; border-radius: 0.35em; vertical-align: middle; margin-left: 0.5rem\">I-NAME_STUDENT</span>\n",
       "</mark>\n",
       "<br><br>Challenge &amp; selection<br><br>The tool I use to help all stakeholders finding their way through the complexity of a project is the  mind map.<br><br>What exactly is a mind map? According to the definition of Buzan T. and Buzan B. (1999, Dessine-moi  l'intelligence. Paris: Les Éditions d'Organisation.), the mind map (or heuristic diagram) is a graphic  representation technique that follows the natural functioning of the mind and allows the brain's  potential to be released. Cf Annex1<br><br>This tool has many advantages:<br><br>•  It is accessible to all and does not require significant material investment and can be done  quickly<br><br>•  It is scalable<br><br>•  It allows categorization and linking of information<br><br>•  It can be applied to any type of situation: notetaking, problem solving, analysis, creation of  new ideas<br><br>•  It is suitable for all people and is easy to learn<br><br>•  It is fun and encourages exchanges<br><br>•  It makes visible the dimension of projects, opportunities, interconnections<br><br>•  It synthesizes<br><br>•  It makes the project understandable<br><br>•  It allows you to explore ideas<br><br>The creation of a mind map starts with an idea/problem located at its center. This starting point  generates ideas/work areas, incremented around this center in a radial structure, which in turn is  completed with as many branches as new ideas.<br><br>This tool enables creativity and logic to be mobilized, it is a map of the thoughts.<br><br>Creativity is enhanced because participants feel comfortable with the method.<br><br>Application &amp; Insight<br><br>I start the process of the mind map creation with the stakeholders standing around a large board  (white or paper board). In the center of the board, I write and highlight the topic to design.<br><br>Through a series of questions, I guide the stakeholders in modelling the mind map. I adapt the series  of questions according to the topic to be addressed. In the type of questions, we can use: who, what,  when, where, why, how, how much.<br><br>The use of the “why” is very interesting to understand the origin. By this way, the interviewed person  frees itself from paradigms and thus dares to propose new ideas / ways of functioning. I plan two  hours for a workshop.<br><br>Design Thinking for innovation reflexion-Avril 2021-\n",
       "<mark class=\"entity\" style=\"background: aqua; padding: 0.45em 0.6em; margin: 0 0.25em; line-height: 1; border-radius: 0.35em;\">\n",
       "    Nathalie\n",
       "    <span style=\"font-size: 0.8em; font-weight: bold; line-height: 1; border-radius: 0.35em; vertical-align: middle; margin-left: 0.5rem\">B-NAME_STUDENT</span>\n",
       "</mark>\n",
       " \n",
       "<mark class=\"entity\" style=\"background: aliceblue; padding: 0.45em 0.6em; margin: 0 0.25em; line-height: 1; border-radius: 0.35em;\">\n",
       "    Sylla\n",
       "    <span style=\"font-size: 0.8em; font-weight: bold; line-height: 1; border-radius: 0.35em; vertical-align: middle; margin-left: 0.5rem\">I-NAME_STUDENT</span>\n",
       "</mark>\n",
       "<br><br>After modelling the mind map on paper, I propose to the participants a digital visualization of their  work with the addition of color codes, images and interconnections. This second workshop also lasts  two hours and allows the mind map to evolve. Once familiarized with it, the stakeholders discover  the power of the tool. Then, the second workshop brings out even more ideas and constructive  exchanges between the stakeholders. Around this new mind map, they have learned to work  together and want to make visible the untold ideas.<br><br>I now present all the projects I manage in this type of format in order to ease rapid understanding for  decision-makers. These presentations are the core of my business models. The decision-makers are  thus able to identify the opportunities of the projects and can take quick decisions to validate them.  They find answers to their questions thank to a schematic representation.<br><br>Approach<br><br>What I find amazing with the facilitation of this type of workshop is the participants commitment for  the project. This tool helps to give meaning. The participants appropriate the story and want to keep  writing it. Then, they easily become actors or sponsors of the project. A trust relationship is built,  thus facilitating the implementation of related actions.<br><br>Design Thinking for innovation reflexion-Avril 2021-\n",
       "<mark class=\"entity\" style=\"background: aqua; padding: 0.45em 0.6em; margin: 0 0.25em; line-height: 1; border-radius: 0.35em;\">\n",
       "    Nathalie\n",
       "    <span style=\"font-size: 0.8em; font-weight: bold; line-height: 1; border-radius: 0.35em; vertical-align: middle; margin-left: 0.5rem\">B-NAME_STUDENT</span>\n",
       "</mark>\n",
       " \n",
       "<mark class=\"entity\" style=\"background: aliceblue; padding: 0.45em 0.6em; margin: 0 0.25em; line-height: 1; border-radius: 0.35em;\">\n",
       "    Sylla\n",
       "    <span style=\"font-size: 0.8em; font-weight: bold; line-height: 1; border-radius: 0.35em; vertical-align: middle; margin-left: 0.5rem\">I-NAME_STUDENT</span>\n",
       "</mark>\n",
       "<br><br>Annex 1: Mind Map Shared facilities project<br><br></div></span>"
      ],
      "text/plain": [
       "<IPython.core.display.HTML object>"
      ]
     },
     "metadata": {},
     "output_type": "display_data"
    }
   ],
   "source": [
    "PLR.render(documents_id=7)"
   ]
  },
  {
   "cell_type": "code",
   "execution_count": 10,
   "metadata": {},
   "outputs": [
    {
     "name": "stdout",
     "output_type": "stream",
     "text": [
      "Storytelling  The Path to Innovation\n",
      "\n",
      "Dr Sakir Ahmad\n",
      "\n",
      "Challenge & Selection\n",
      "\n",
      "Be it any organization, team or a government venture, I have often observed that they experience  failures because they couldn’t connect with their audience aptly. In such scenarios, storytelling  can turn the table significantly. I have used the tool ‘storytelling’ in my organization to convey a  complicated message as simply as possible or to generate ideas from people around me. The idea  is to implement this innovative tool to make the intricate issues understandable and engage the  targeted audience. I relayed the context of the story to captivate the attention of the audience. I  have used the technique in front of my team-members of the organization to impart its essence,  brainstorm notions, make productive connections and develop appropriate strategies. The crucial  element in storytelling is to engagingly answer the questions raised in the story to its targeted  audience and allow them to resonate with the core subject of the story. When I shared the story, I  tried to gain the insights from the audience as to how the characters inspire them and how it  related to their work emotions. The information and feedback immensely helped me in  recognizing its importance in finding solutions in real world.\n",
      "\n",
      "Application\n",
      "\n",
      "I used the storytelling tool in an organizational meeting to help the team members visualize the  essence and impact of revolutionary thinking. I understood that the story has to make sense so  that they can comprehend the context and relate with it. I started the story of the time when there  was an emergence of deadly diseases due to mosquitoes i.e. malaria etc. and a company brought  a revolution by introducing a range of mosquito repellent products. I emphasized on its out-of- the box thinking & ideas that made the brand conquer the market. I observed that my audience  were sincerely engaged and were emotionally connected with the company. After I finished, there  were questions and productive interactions which exhibited that they relate it with their ongoing  project. The enthusiasm of thinking afresh was quite overwhelming.\n",
      "\n",
      "Insight & Approach\n",
      "\n",
      "When I analysed the whole series of events it made me wonder, “Did my tool work? The answer I  think is ‘YES’. Will it serve the purpose? I think that time will tell but I believe it will certainly aid  them in making apt strategies.”\n",
      "\n",
      "The exercise portrayed that a revolutionary story can influence a small number of people then  storytelling as a design-thinking tool, if implemented efficiently, can bring ground-breaking  changes in organizations & countries. I observed that my story engaged my targeted audience,  inspired them to think new and deliver better results.\n",
      "\n",
      "As a student of design thinking, I can explore this tool from all corners and can confidently say  that I can creatively use it in number of inspiring ways at any appropriate phase of design thinking  activities.\n",
      "\n",
      "\n"
     ]
    }
   ],
   "source": [
    "print(PLR.get_original_text(render_idx=7))"
   ]
  },
  {
   "cell_type": "code",
   "execution_count": null,
   "metadata": {},
   "outputs": [],
   "source": []
  }
 ],
 "metadata": {
  "kernelspec": {
   "display_name": ".venv",
   "language": "python",
   "name": "python3"
  },
  "language_info": {
   "codemirror_mode": {
    "name": "ipython",
    "version": 3
   },
   "file_extension": ".py",
   "mimetype": "text/x-python",
   "name": "python",
   "nbconvert_exporter": "python",
   "pygments_lexer": "ipython3",
   "version": "3.12.1"
  }
 },
 "nbformat": 4,
 "nbformat_minor": 2
}
