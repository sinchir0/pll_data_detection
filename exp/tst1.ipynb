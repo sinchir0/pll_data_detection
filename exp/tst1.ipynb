{
 "cells": [
  {
   "cell_type": "code",
   "execution_count": 1,
   "id": "817cf631-b997-43fb-9f0d-bcefff3544f5",
   "metadata": {
    "autoscroll": "auto",
    "collapsed": false,
    "execution": {
     "iopub.execute_input": "2024-02-27T23:46:27.968180Z",
     "iopub.status.busy": "2024-02-27T23:46:27.967992Z",
     "iopub.status.idle": "2024-02-27T23:46:37.985697Z",
     "shell.execute_reply": "2024-02-27T23:46:37.985174Z"
    }
   },
   "outputs": [
    {
     "name": "stdout",
     "output_type": "stream",
     "text": [
      "処理を開始\n"
     ]
    },
    {
     "name": "stdout",
     "output_type": "stream",
     "text": [
      "10秒経過しました。\n",
      "処理を開始\n",
      "10秒経過しました。\n"
     ]
    }
   ],
   "source": [
    "import time\n",
    "\n",
    "print(\"処理を開始\")\n",
    "time.sleep(10)\n",
    "print(\"10秒経過しました。\")"
   ]
  },
  {
   "cell_type": "code",
   "execution_count": null,
   "id": "b9846e6a-34bd-4969-b983-e5157ef429ea",
   "metadata": {},
   "outputs": [],
   "source": []
  }
 ],
 "metadata": {
  "kernelspec": {
   "display_name": "Python 3 (ipykernel)",
   "language": "python",
   "name": "python3"
  },
  "language_info": {
   "codemirror_mode": {
    "name": "ipython",
    "version": 3
   },
   "file_extension": ".py",
   "mimetype": "text/x-python",
   "name": "python",
   "nbconvert_exporter": "python",
   "pygments_lexer": "ipython3",
   "version": "3.9.16"
  }
 },
 "nbformat": 4,
 "nbformat_minor": 5
}
