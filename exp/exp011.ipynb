{
 "cells": [
  {
   "cell_type": "markdown",
   "metadata": {},
   "source": [
    "# 目的\n",
    "- moredata_dataset_fixed.csvを利用する\n",
    "- ~~pii_dataset_fixed.csvを利用する~~"
   ]
  },
  {
   "cell_type": "code",
   "execution_count": 1,
   "metadata": {
    "execution": {
     "iopub.execute_input": "2024-02-28T04:36:54.304576Z",
     "iopub.status.busy": "2024-02-28T04:36:54.304138Z",
     "iopub.status.idle": "2024-02-28T04:36:54.313906Z",
     "shell.execute_reply": "2024-02-28T04:36:54.313291Z"
    },
    "tags": []
   },
   "outputs": [],
   "source": [
    "EXP_NAME = \"e11-stratified-valid-only-moredata\"\n",
    "MODEL_NAME = \"microsoft/deberta-v3-base\"\n",
    "DATA_PATH = \"pll_data_detection/data\"  # vscode, nohup\n",
    "# DATA_PATH = \"../../pll_data_detection/data\" # jupyterlab\n",
    "DATASET_NAME = f\"{EXP_NAME}-{MODEL_NAME.split('/')[-1]}\"\n",
    "if len(DATASET_NAME) < 6 or len(DATASET_NAME) > 50:\n",
    "    raise Exception(f\"データセットの文字列は6~50文字にしてください。現在{len(DATASET_NAME)}文字\")\n",
    "LOG_PATH = f\"pll_data_detection/log/{EXP_NAME}\"\n",
    "MODEL_OUTPUT_PATH = f\"pll_data_detection/trained_models/{EXP_NAME}\"\n",
    "DEBUG = False\n",
    "UPLOAD_DATA = True\n",
    "TRAINING_MAX_LENGTH = 1024  # NOTE: ほとんどOなのに、後半のtokenに正解があると、truncationで落ちてしまって勿体無い"
   ]
  },
  {
   "cell_type": "markdown",
   "metadata": {},
   "source": [
    "# Install"
   ]
  },
  {
   "cell_type": "code",
   "execution_count": 2,
   "metadata": {
    "execution": {
     "iopub.execute_input": "2024-02-28T04:36:54.317199Z",
     "iopub.status.busy": "2024-02-28T04:36:54.316633Z",
     "iopub.status.idle": "2024-02-28T04:37:19.481795Z",
     "shell.execute_reply": "2024-02-28T04:37:19.480641Z"
    },
    "tags": []
   },
   "outputs": [],
   "source": [
    "%pip install polars\n",
    "%pip install transformers==4.37.2\n",
    "%pip install datasets==2.16.1\n",
    "%pip install evaluate==0.4.1\n",
    "%pip install seqeval==1.2.2\n",
    "%pip install accelerate\n",
    "%pip install python-dotenv\n",
    "%pip install kaggle\n",
    "%pip iinstall wandb==0.16.3\n",
    "\n",
    "# formatter\n",
    "%pip install black isort"
   ]
  },
  {
   "cell_type": "markdown",
   "metadata": {},
   "source": [
    "# Import"
   ]
  },
  {
   "cell_type": "code",
   "execution_count": 3,
   "metadata": {
    "execution": {
     "iopub.execute_input": "2024-02-28T04:37:19.486231Z",
     "iopub.status.busy": "2024-02-28T04:37:19.485461Z",
     "iopub.status.idle": "2024-02-28T04:37:23.478853Z",
     "shell.execute_reply": "2024-02-28T04:37:23.478115Z"
    },
    "tags": []
   },
   "outputs": [],
   "source": [
    "import os\n",
    "\n",
    "import json\n",
    "import ast\n",
    "import evaluate\n",
    "import numpy as np\n",
    "import polars as pl\n",
    "import torch\n",
    "import wandb\n",
    "from datasets import DatasetDict, load_dataset, concatenate_datasets, Value, ClassLabel\n",
    "from seqeval.metrics import accuracy_score, f1_score, precision_score, recall_score\n",
    "from tqdm.auto import tqdm\n",
    "from transformers import (\n",
    "    AutoModelForTokenClassification,\n",
    "    AutoTokenizer,\n",
    "    DataCollatorForTokenClassification,\n",
    "    TokenClassificationPipeline,\n",
    "    Trainer,\n",
    "    TrainingArguments,\n",
    ")\n",
    "\n",
    "os.environ[\"TOKENIZERS_PARALLELISM\"] = \"false\""
   ]
  },
  {
   "cell_type": "code",
   "execution_count": 4,
   "metadata": {
    "execution": {
     "iopub.execute_input": "2024-02-28T04:37:23.481634Z",
     "iopub.status.busy": "2024-02-28T04:37:23.481422Z",
     "iopub.status.idle": "2024-02-28T04:37:23.484449Z",
     "shell.execute_reply": "2024-02-28T04:37:23.483816Z"
    },
    "tags": []
   },
   "outputs": [],
   "source": [
    "import transformers\n",
    "\n",
    "assert transformers.__version__ == \"4.37.2\""
   ]
  },
  {
   "cell_type": "code",
   "execution_count": 5,
   "metadata": {
    "execution": {
     "iopub.execute_input": "2024-02-28T04:37:23.486647Z",
     "iopub.status.busy": "2024-02-28T04:37:23.486294Z",
     "iopub.status.idle": "2024-02-28T04:37:23.489071Z",
     "shell.execute_reply": "2024-02-28T04:37:23.488529Z"
    },
    "tags": []
   },
   "outputs": [],
   "source": [
    "import datasets\n",
    "\n",
    "assert datasets.__version__ == \"2.16.1\""
   ]
  },
  {
   "cell_type": "code",
   "execution_count": 6,
   "metadata": {
    "execution": {
     "iopub.execute_input": "2024-02-28T04:37:23.490886Z",
     "iopub.status.busy": "2024-02-28T04:37:23.490723Z",
     "iopub.status.idle": "2024-02-28T04:37:23.493416Z",
     "shell.execute_reply": "2024-02-28T04:37:23.492890Z"
    },
    "tags": []
   },
   "outputs": [],
   "source": [
    "import evaluate\n",
    "\n",
    "assert evaluate.__version__ == \"0.4.1\""
   ]
  },
  {
   "cell_type": "markdown",
   "metadata": {},
   "source": [
    "# Wandb"
   ]
  },
  {
   "cell_type": "code",
   "execution_count": 7,
   "metadata": {
    "autoscroll": "auto",
    "collapsed": false,
    "execution": {
     "iopub.execute_input": "2024-02-28T04:37:23.495453Z",
     "iopub.status.busy": "2024-02-28T04:37:23.495046Z",
     "iopub.status.idle": "2024-02-28T04:37:28.446384Z",
     "shell.execute_reply": "2024-02-28T04:37:28.445762Z"
    },
    "jupyter": {
     "outputs_hidden": false
    },
    "tags": []
   },
   "outputs": [
    {
     "data": {
      "text/html": [
       "wandb version 0.16.3 is available!  To upgrade, please run:\n",
       " $ pip install wandb --upgrade"
      ],
      "text/plain": [
       "<IPython.core.display.HTML object>"
      ]
     },
     "metadata": {},
     "output_type": "display_data"
    },
    {
     "data": {
      "text/html": [
       "Tracking run with wandb version 0.13.4"
      ],
      "text/plain": [
       "<IPython.core.display.HTML object>"
      ]
     },
     "metadata": {},
     "output_type": "display_data"
    },
    {
     "data": {
      "text/html": [
       "Run data is saved locally in <code>/notebooks/wandb/run-20240228_043726-2hkqexpq</code>"
      ],
      "text/plain": [
       "<IPython.core.display.HTML object>"
      ]
     },
     "metadata": {},
     "output_type": "display_data"
    },
    {
     "data": {
      "text/html": [
       "Syncing run <strong><a href=\"https://wandb.ai/sinchir0/pll/runs/2hkqexpq\" target=\"_blank\">e08-add-only-punc-fixed-moredata</a></strong> to <a href=\"https://wandb.ai/sinchir0/pll\" target=\"_blank\">Weights & Biases</a> (<a href=\"https://wandb.me/run\" target=\"_blank\">docs</a>)<br/>"
      ],
      "text/plain": [
       "<IPython.core.display.HTML object>"
      ]
     },
     "metadata": {},
     "output_type": "display_data"
    },
    {
     "data": {
      "text/plain": [
       "'wandb'"
      ]
     },
     "execution_count": 7,
     "metadata": {},
     "output_type": "execute_result"
    }
   ],
   "source": [
    "from dotenv import load_dotenv\n",
    "\n",
    "if not DEBUG:\n",
    "    load_dotenv(f\"{DATA_PATH}/.env\")\n",
    "    wandb.login(key=os.environ[\"WANDB_API_KEY\"])\n",
    "    wandb.init(project=\"pll\", name=EXP_NAME)\n",
    "    REPORT_TO = \"wandb\"\n",
    "else:\n",
    "    REPORT_TO = \"none\"\n",
    "\n",
    "REPORT_TO"
   ]
  },
  {
   "cell_type": "markdown",
   "metadata": {},
   "source": [
    "# Check Environment"
   ]
  },
  {
   "cell_type": "code",
   "execution_count": 8,
   "metadata": {
    "autoscroll": "auto",
    "collapsed": false,
    "execution": {
     "iopub.execute_input": "2024-02-28T04:37:28.468806Z",
     "iopub.status.busy": "2024-02-28T04:37:28.468222Z",
     "iopub.status.idle": "2024-02-28T04:37:29.071014Z",
     "shell.execute_reply": "2024-02-28T04:37:29.070301Z"
    },
    "jupyter": {
     "outputs_hidden": false
    }
   },
   "outputs": [],
   "source": [
    "!python --version"
   ]
  },
  {
   "cell_type": "code",
   "execution_count": 9,
   "metadata": {
    "autoscroll": "auto",
    "collapsed": false,
    "execution": {
     "iopub.execute_input": "2024-02-28T04:37:29.074593Z",
     "iopub.status.busy": "2024-02-28T04:37:29.073934Z",
     "iopub.status.idle": "2024-02-28T04:37:29.975690Z",
     "shell.execute_reply": "2024-02-28T04:37:29.974714Z"
    },
    "jupyter": {
     "outputs_hidden": false
    }
   },
   "outputs": [],
   "source": [
    "!nvidia-smi"
   ]
  },
  {
   "cell_type": "markdown",
   "metadata": {},
   "source": [
    "# Data Load"
   ]
  },
  {
   "cell_type": "code",
   "execution_count": 10,
   "metadata": {
    "autoscroll": "auto",
    "collapsed": false,
    "execution": {
     "iopub.execute_input": "2024-02-28T04:37:29.980197Z",
     "iopub.status.busy": "2024-02-28T04:37:29.979621Z",
     "iopub.status.idle": "2024-02-28T04:37:29.984103Z",
     "shell.execute_reply": "2024-02-28T04:37:29.983567Z"
    },
    "jupyter": {
     "outputs_hidden": false
    }
   },
   "outputs": [],
   "source": [
    "# # データ確認用\n",
    "# train = pl.read_json(f\"{DATA_PATH}/train.json\")\n",
    "# train.head()"
   ]
  },
  {
   "cell_type": "code",
   "execution_count": 11,
   "metadata": {
    "autoscroll": "auto",
    "collapsed": false,
    "execution": {
     "iopub.execute_input": "2024-02-28T04:37:29.986510Z",
     "iopub.status.busy": "2024-02-28T04:37:29.986335Z",
     "iopub.status.idle": "2024-02-28T04:37:29.990127Z",
     "shell.execute_reply": "2024-02-28T04:37:29.989579Z"
    },
    "jupyter": {
     "outputs_hidden": false
    }
   },
   "outputs": [],
   "source": [
    "# # データ確認用\n",
    "# test = pl.read_json(f\"{DATA_PATH}/test.json\")"
   ]
  },
  {
   "cell_type": "code",
   "execution_count": 12,
   "metadata": {
    "autoscroll": "auto",
    "collapsed": false,
    "execution": {
     "iopub.execute_input": "2024-02-28T04:37:29.992498Z",
     "iopub.status.busy": "2024-02-28T04:37:29.992322Z",
     "iopub.status.idle": "2024-02-28T04:37:30.254251Z",
     "shell.execute_reply": "2024-02-28T04:37:30.253558Z"
    },
    "jupyter": {
     "outputs_hidden": false
    }
   },
   "outputs": [],
   "source": [
    "def convert_string_to_list(example, col):\n",
    "    # 'your_column_name'は変換したい列の名前に置き換えてください\n",
    "    example[col] = eval(example[col])\n",
    "    return example\n",
    "\n",
    "\n",
    "external_pii_dataset = (\n",
    "    load_dataset(\n",
    "        \"csv\",\n",
    "        data_files={\"train\": f\"{DATA_PATH}/pii_dataset_fixed.csv\"},\n",
    "        split=\"train\",\n",
    "    )\n",
    "    .select_columns([\"document\", \"labels\", \"text\", \"trailing_whitespace\", \"tokens\"])\n",
    "    .rename_columns({\"labels\": \"provided_labels\", \"text\": \"full_text\"})\n",
    "    .map(convert_string_to_list, fn_kwargs={\"col\": \"provided_labels\"}, num_proc=3)\n",
    "    .map(convert_string_to_list, fn_kwargs={\"col\": \"trailing_whitespace\"}, num_proc=3)\n",
    "    .map(convert_string_to_list, fn_kwargs={\"col\": \"tokens\"}, num_proc=3)\n",
    "    .map(lambda example: {\"flag\": \"external\"}, num_proc=3)\n",
    ")"
   ]
  },
  {
   "cell_type": "code",
   "execution_count": 13,
   "metadata": {
    "autoscroll": "auto",
    "collapsed": false,
    "execution": {
     "iopub.execute_input": "2024-02-28T04:37:30.257827Z",
     "iopub.status.busy": "2024-02-28T04:37:30.257341Z",
     "iopub.status.idle": "2024-02-28T04:37:30.462764Z",
     "shell.execute_reply": "2024-02-28T04:37:30.462156Z"
    },
    "jupyter": {
     "outputs_hidden": false
    }
   },
   "outputs": [],
   "source": [
    "moredata_pii_dataset = (\n",
    "    load_dataset(\n",
    "        \"csv\",\n",
    "        data_files={\"train\": f\"{DATA_PATH}/moredata_dataset_fixed.csv\"},\n",
    "        split=\"train\",\n",
    "    )\n",
    "    .rename_columns({\"labels\": \"provided_labels\", \"text\": \"full_text\"})\n",
    "    .map(convert_string_to_list, fn_kwargs={\"col\": \"provided_labels\"}, num_proc=3)\n",
    "    .map(convert_string_to_list, fn_kwargs={\"col\": \"trailing_whitespace\"}, num_proc=3)\n",
    "    .map(convert_string_to_list, fn_kwargs={\"col\": \"tokens\"}, num_proc=3)\n",
    "    .map(lambda example: {\"flag\": \"moredata\"}, num_proc=3)\n",
    ")"
   ]
  },
  {
   "cell_type": "code",
   "execution_count": 14,
   "metadata": {
    "autoscroll": "auto",
    "collapsed": false,
    "execution": {
     "iopub.execute_input": "2024-02-28T04:37:30.465609Z",
     "iopub.status.busy": "2024-02-28T04:37:30.465413Z",
     "iopub.status.idle": "2024-02-28T04:37:30.469986Z",
     "shell.execute_reply": "2024-02-28T04:37:30.469601Z"
    },
    "jupyter": {
     "outputs_hidden": false
    }
   },
   "outputs": [
    {
     "data": {
      "text/plain": [
       "{'document': Value(dtype='string', id=None),\n",
       " 'full_text': Value(dtype='string', id=None),\n",
       " 'tokens': Sequence(feature=Value(dtype='string', id=None), length=-1, id=None),\n",
       " 'trailing_whitespace': Sequence(feature=Value(dtype='bool', id=None), length=-1, id=None),\n",
       " 'provided_labels': Sequence(feature=Value(dtype='string', id=None), length=-1, id=None),\n",
       " 'flag': Value(dtype='string', id=None)}"
      ]
     },
     "execution_count": 14,
     "metadata": {},
     "output_type": "execute_result"
    }
   ],
   "source": [
    "moredata_pii_dataset.features"
   ]
  },
  {
   "cell_type": "code",
   "execution_count": 15,
   "metadata": {
    "autoscroll": "auto",
    "collapsed": false,
    "execution": {
     "iopub.execute_input": "2024-02-28T04:37:30.472069Z",
     "iopub.status.busy": "2024-02-28T04:37:30.471914Z",
     "iopub.status.idle": "2024-02-28T04:37:30.476034Z",
     "shell.execute_reply": "2024-02-28T04:37:30.475564Z"
    },
    "jupyter": {
     "outputs_hidden": false
    }
   },
   "outputs": [
    {
     "data": {
      "text/plain": [
       "{'document': Value(dtype='string', id=None),\n",
       " 'provided_labels': Sequence(feature=Value(dtype='string', id=None), length=-1, id=None),\n",
       " 'full_text': Value(dtype='string', id=None),\n",
       " 'trailing_whitespace': Sequence(feature=Value(dtype='bool', id=None), length=-1, id=None),\n",
       " 'tokens': Sequence(feature=Value(dtype='string', id=None), length=-1, id=None),\n",
       " 'flag': Value(dtype='string', id=None)}"
      ]
     },
     "execution_count": 15,
     "metadata": {},
     "output_type": "execute_result"
    }
   ],
   "source": [
    "external_pii_dataset.features"
   ]
  },
  {
   "cell_type": "code",
   "execution_count": 16,
   "metadata": {
    "autoscroll": "auto",
    "collapsed": false,
    "execution": {
     "iopub.execute_input": "2024-02-28T04:37:30.478148Z",
     "iopub.status.busy": "2024-02-28T04:37:30.477994Z",
     "iopub.status.idle": "2024-02-28T04:37:30.811998Z",
     "shell.execute_reply": "2024-02-28T04:37:30.811503Z"
    },
    "jupyter": {
     "outputs_hidden": false
    }
   },
   "outputs": [],
   "source": [
    "train_dataset = (\n",
    "    load_dataset(\n",
    "        \"json\", data_files={\"train\": f\"{DATA_PATH}/train.json\"}, split=\"train\"\n",
    "    ).rename_column(\"labels\", \"provided_labels\")\n",
    "    # documentをstringに変換\n",
    "    .cast_column(\"document\", Value(dtype=\"string\", id=None))\n",
    "    # 識別のためのflagを追加\n",
    "    .map(lambda example: {\"flag\": \"original\"})\n",
    ")\n",
    "\n",
    "test_dataset = load_dataset(\n",
    "    \"json\", data_files={\"test\": f\"{DATA_PATH}/test.json\"}, split=\"test\"\n",
    ")"
   ]
  },
  {
   "cell_type": "code",
   "execution_count": 17,
   "metadata": {
    "execution": {
     "iopub.execute_input": "2024-02-28T04:37:30.814664Z",
     "iopub.status.busy": "2024-02-28T04:37:30.814490Z",
     "iopub.status.idle": "2024-02-28T04:37:30.821063Z",
     "shell.execute_reply": "2024-02-28T04:37:30.820624Z"
    }
   },
   "outputs": [],
   "source": [
    "# 外部データと結合\n",
    "train_dataset = concatenate_datasets(\n",
    "    [train_dataset, external_pii_dataset, moredata_pii_dataset]\n",
    ")"
   ]
  },
  {
   "cell_type": "code",
   "execution_count": 18,
   "metadata": {
    "execution": {
     "iopub.execute_input": "2024-02-28T04:37:30.822937Z",
     "iopub.status.busy": "2024-02-28T04:37:30.822776Z",
     "iopub.status.idle": "2024-02-28T04:37:30.827466Z",
     "shell.execute_reply": "2024-02-28T04:37:30.827040Z"
    }
   },
   "outputs": [],
   "source": [
    "# shuffle\n",
    "train_dataset = train_dataset.shuffle(seed=42)"
   ]
  },
  {
   "cell_type": "code",
   "execution_count": 19,
   "metadata": {
    "execution": {
     "iopub.execute_input": "2024-02-28T04:37:30.829454Z",
     "iopub.status.busy": "2024-02-28T04:37:30.829300Z",
     "iopub.status.idle": "2024-02-28T04:37:30.832070Z",
     "shell.execute_reply": "2024-02-28T04:37:30.831616Z"
    }
   },
   "outputs": [],
   "source": [
    "# debug\n",
    "if DEBUG:\n",
    "    train_dataset = train_dataset.select(range(100))"
   ]
  },
  {
   "cell_type": "code",
   "execution_count": 20,
   "metadata": {
    "autoscroll": "auto",
    "collapsed": false,
    "execution": {
     "iopub.execute_input": "2024-02-28T04:37:30.833881Z",
     "iopub.status.busy": "2024-02-28T04:37:30.833723Z",
     "iopub.status.idle": "2024-02-28T04:37:30.837493Z",
     "shell.execute_reply": "2024-02-28T04:37:30.836949Z"
    },
    "jupyter": {
     "outputs_hidden": false
    }
   },
   "outputs": [
    {
     "data": {
      "text/plain": [
       "Dataset({\n",
       "    features: ['document', 'provided_labels', 'tokens', 'full_text', 'trailing_whitespace', 'flag'],\n",
       "    num_rows: 13241\n",
       "})"
      ]
     },
     "execution_count": 20,
     "metadata": {},
     "output_type": "execute_result"
    }
   ],
   "source": [
    "train_dataset"
   ]
  },
  {
   "cell_type": "code",
   "execution_count": 21,
   "metadata": {
    "autoscroll": "auto",
    "collapsed": false,
    "execution": {
     "iopub.execute_input": "2024-02-28T04:37:30.839365Z",
     "iopub.status.busy": "2024-02-28T04:37:30.839215Z",
     "iopub.status.idle": "2024-02-28T04:37:30.842426Z",
     "shell.execute_reply": "2024-02-28T04:37:30.842054Z"
    },
    "jupyter": {
     "outputs_hidden": false
    }
   },
   "outputs": [
    {
     "data": {
      "text/plain": [
       "Dataset({\n",
       "    features: ['full_text', 'trailing_whitespace', 'document', 'tokens'],\n",
       "    num_rows: 10\n",
       "})"
      ]
     },
     "execution_count": 21,
     "metadata": {},
     "output_type": "execute_result"
    }
   ],
   "source": [
    "test_dataset"
   ]
  },
  {
   "cell_type": "code",
   "execution_count": 22,
   "metadata": {
    "autoscroll": "auto",
    "collapsed": false,
    "execution": {
     "iopub.execute_input": "2024-02-28T04:37:30.844196Z",
     "iopub.status.busy": "2024-02-28T04:37:30.844042Z",
     "iopub.status.idle": "2024-02-28T04:37:31.772800Z",
     "shell.execute_reply": "2024-02-28T04:37:31.772178Z"
    },
    "jupyter": {
     "outputs_hidden": false
    }
   },
   "outputs": [],
   "source": [
    "tokenizer = AutoTokenizer.from_pretrained(MODEL_NAME)"
   ]
  },
  {
   "cell_type": "code",
   "execution_count": 23,
   "metadata": {
    "autoscroll": "auto",
    "collapsed": false,
    "execution": {
     "iopub.execute_input": "2024-02-28T04:37:31.775173Z",
     "iopub.status.busy": "2024-02-28T04:37:31.774981Z",
     "iopub.status.idle": "2024-02-28T04:37:31.790829Z",
     "shell.execute_reply": "2024-02-28T04:37:31.790323Z"
    },
    "jupyter": {
     "outputs_hidden": false
    }
   },
   "outputs": [
    {
     "data": {
      "text/plain": [
       "['[CLS]',\n",
       " '▁VISUAL',\n",
       " 'IZATION',\n",
       " '▁Challenge',\n",
       " '▁and',\n",
       " '▁selection',\n",
       " '▁Visualization',\n",
       " '▁',\n",
       " '▁or',\n",
       " '▁visual',\n",
       " '▁thinking',\n",
       " '▁is',\n",
       " '▁the',\n",
       " '▁great',\n",
       " '▁tool',\n",
       " '▁in',\n",
       " '▁the',\n",
       " '▁Design',\n",
       " '▁thinking',\n",
       " '▁process',\n",
       " '▁.',\n",
       " '▁Visualization',\n",
       " '▁is',\n",
       " '▁about',\n",
       " '▁using',\n",
       " '▁images',\n",
       " '▁.',\n",
       " '▁It',\n",
       " \"▁'\",\n",
       " 's',\n",
       " '▁not',\n",
       " '▁about',\n",
       " '▁drawing',\n",
       " '▁;',\n",
       " '▁it',\n",
       " \"▁'\",\n",
       " 's',\n",
       " '▁about',\n",
       " '▁visual',\n",
       " '▁thinking',\n",
       " '▁.',\n",
       " '▁It',\n",
       " '▁pushes',\n",
       " '▁us',\n",
       " '▁beyond',\n",
       " '▁using',\n",
       " '▁words',\n",
       " '▁or',\n",
       " '▁language',\n",
       " '▁alone',\n",
       " '▁.',\n",
       " '▁If',\n",
       " '▁instead',\n",
       " '▁you',\n",
       " '▁present',\n",
       " '▁your',\n",
       " '▁idea',\n",
       " '▁to',\n",
       " '▁us',\n",
       " '▁by',\n",
       " '▁drawing',\n",
       " '▁a',\n",
       " '▁picture',\n",
       " '▁of',\n",
       " '▁it',\n",
       " '▁,',\n",
       " '▁you',\n",
       " '▁reduce',\n",
       " '▁the',\n",
       " '▁possibility',\n",
       " '▁of',\n",
       " '▁unmatched',\n",
       " '▁mental',\n",
       " '▁models',\n",
       " '▁.',\n",
       " 'Visual',\n",
       " 'ization',\n",
       " '▁One',\n",
       " '▁design',\n",
       " '▁tool',\n",
       " '▁enhances',\n",
       " '▁the',\n",
       " '▁early',\n",
       " '▁part',\n",
       " '▁in',\n",
       " '▁a',\n",
       " '▁group',\n",
       " '▁setting',\n",
       " '▁,',\n",
       " '▁it',\n",
       " '▁helps',\n",
       " '▁to',\n",
       " '▁spark',\n",
       " '▁idea',\n",
       " '▁generation',\n",
       " '▁.',\n",
       " '▁Seeing',\n",
       " '▁what',\n",
       " '▁other',\n",
       " '▁people',\n",
       " '▁are',\n",
       " '▁drawing',\n",
       " '▁,',\n",
       " '▁adding',\n",
       " '▁elements',\n",
       " '▁to',\n",
       " '▁their',\n",
       " '▁drawing',\n",
       " '▁or',\n",
       " '▁simply',\n",
       " '▁discussing',\n",
       " '▁the',\n",
       " '▁sketches',\n",
       " '▁helps',\n",
       " '▁to',\n",
       " '▁build',\n",
       " '▁on',\n",
       " '▁top',\n",
       " '▁of',\n",
       " '▁each',\n",
       " '▁other',\n",
       " '▁',\n",
       " '’',\n",
       " 's',\n",
       " '▁ideas',\n",
       " '▁.',\n",
       " '▁I',\n",
       " '▁choose',\n",
       " '▁visualization',\n",
       " '▁for',\n",
       " '▁this',\n",
       " '▁assignment',\n",
       " '▁,',\n",
       " '▁in',\n",
       " '▁addition',\n",
       " '▁i',\n",
       " '▁feel',\n",
       " '▁it',\n",
       " '▁is',\n",
       " '▁a',\n",
       " '▁powerful',\n",
       " '▁tool',\n",
       " '▁that',\n",
       " '▁allows',\n",
       " '▁to',\n",
       " '▁be',\n",
       " '▁more',\n",
       " '▁easily',\n",
       " '▁able',\n",
       " '▁to',\n",
       " '▁gather',\n",
       " '▁information',\n",
       " '▁or',\n",
       " '▁data',\n",
       " '▁in',\n",
       " '▁a',\n",
       " '▁useful',\n",
       " '▁way',\n",
       " '▁and',\n",
       " '▁in',\n",
       " '▁position',\n",
       " '▁to',\n",
       " '▁find',\n",
       " '▁potentially',\n",
       " '▁useful',\n",
       " '▁data',\n",
       " '▁and',\n",
       " '▁solutions',\n",
       " '▁,',\n",
       " '▁get',\n",
       " '▁insights',\n",
       " '▁,',\n",
       " '▁see',\n",
       " '▁patterns',\n",
       " '▁and',\n",
       " '▁improve',\n",
       " '▁creativity',\n",
       " '▁colors',\n",
       " '▁or',\n",
       " '▁structure',\n",
       " '▁equivalent',\n",
       " '▁to',\n",
       " '▁the',\n",
       " '▁brain',\n",
       " '▁functions',\n",
       " '▁.',\n",
       " '▁To',\n",
       " '▁design',\n",
       " '▁a',\n",
       " '▁product',\n",
       " '▁we',\n",
       " '▁have',\n",
       " '▁built',\n",
       " '▁a',\n",
       " '▁good',\n",
       " '▁understanding',\n",
       " '▁of',\n",
       " '▁the',\n",
       " '▁product',\n",
       " '▁that',\n",
       " '▁we',\n",
       " '▁are',\n",
       " '▁going',\n",
       " '▁to',\n",
       " '▁design',\n",
       " '▁.',\n",
       " '▁Application',\n",
       " '▁In',\n",
       " '▁order',\n",
       " '▁to',\n",
       " '▁design',\n",
       " '▁the',\n",
       " '▁solution',\n",
       " '▁,',\n",
       " '▁first',\n",
       " '▁we',\n",
       " '▁have',\n",
       " '▁to',\n",
       " '▁build',\n",
       " '▁a',\n",
       " '▁good',\n",
       " '▁understanding',\n",
       " '▁of',\n",
       " '▁the',\n",
       " '▁problem',\n",
       " '▁that',\n",
       " '▁we',\n",
       " '▁are',\n",
       " '▁trying',\n",
       " '▁to',\n",
       " '▁solve',\n",
       " '▁.',\n",
       " '▁Interviews',\n",
       " '▁,',\n",
       " '▁observations',\n",
       " '▁,',\n",
       " '▁desk',\n",
       " '▁research',\n",
       " '▁and',\n",
       " '▁other',\n",
       " '▁research',\n",
       " '▁techniques',\n",
       " '▁that',\n",
       " '▁are',\n",
       " '▁applied',\n",
       " '▁during',\n",
       " '▁this',\n",
       " '▁phase',\n",
       " '▁generate',\n",
       " '▁huge',\n",
       " '▁amounts',\n",
       " '▁of',\n",
       " '▁data',\n",
       " '▁–',\n",
       " '▁data',\n",
       " '▁that',\n",
       " '▁has',\n",
       " '▁to',\n",
       " '▁be',\n",
       " '▁grouped',\n",
       " '▁and',\n",
       " '▁analyzed',\n",
       " '▁.',\n",
       " '▁Creating',\n",
       " '▁a',\n",
       " '▁research',\n",
       " '▁wall',\n",
       " '▁is',\n",
       " '▁a',\n",
       " '▁great',\n",
       " '▁way',\n",
       " '▁to',\n",
       " '▁display',\n",
       " '▁insights',\n",
       " '▁,',\n",
       " '▁photos',\n",
       " '▁,',\n",
       " '▁and',\n",
       " '▁artifacts',\n",
       " '▁all',\n",
       " '▁the',\n",
       " '▁relevant',\n",
       " '▁research',\n",
       " '▁outputs',\n",
       " '▁in',\n",
       " '▁one',\n",
       " '▁place',\n",
       " '▁.',\n",
       " '▁This',\n",
       " '▁approach',\n",
       " '▁helps',\n",
       " '▁us',\n",
       " '▁build',\n",
       " '▁connections',\n",
       " '▁between',\n",
       " '▁different',\n",
       " '▁findings',\n",
       " '▁and',\n",
       " '▁understand',\n",
       " '▁the',\n",
       " '▁bigger',\n",
       " '▁picture',\n",
       " '▁.',\n",
       " '▁The',\n",
       " '▁visual',\n",
       " '▁aspect',\n",
       " '▁of',\n",
       " '▁the',\n",
       " '▁wall',\n",
       " '▁triggers',\n",
       " '▁idea',\n",
       " '▁generation',\n",
       " '▁and',\n",
       " '▁enables',\n",
       " '▁project',\n",
       " '▁members',\n",
       " '▁to',\n",
       " '▁better',\n",
       " '▁understand',\n",
       " '▁research',\n",
       " '▁insights',\n",
       " '▁.',\n",
       " '▁Visual',\n",
       " '▁tools',\n",
       " '▁that',\n",
       " '▁can',\n",
       " '▁be',\n",
       " '▁used',\n",
       " '▁for',\n",
       " '▁understanding',\n",
       " '▁the',\n",
       " '▁problem',\n",
       " '▁are',\n",
       " '▁for',\n",
       " '▁e',\n",
       " '.',\n",
       " 'g',\n",
       " '.',\n",
       " '▁personas',\n",
       " '▁,',\n",
       " '▁mind',\n",
       " '▁map',\n",
       " '▁,',\n",
       " '▁customer',\n",
       " '▁journey',\n",
       " '▁maps',\n",
       " '▁,',\n",
       " '▁mood',\n",
       " 'board',\n",
       " '▁.',\n",
       " '▁Visual',\n",
       " 'isation',\n",
       " '▁is',\n",
       " '▁really',\n",
       " '▁important',\n",
       " '▁for',\n",
       " '▁the',\n",
       " '▁process',\n",
       " '▁of',\n",
       " '▁Design',\n",
       " '▁Thinking',\n",
       " '▁because',\n",
       " '▁it',\n",
       " \"▁'\",\n",
       " 's',\n",
       " '▁actually',\n",
       " '▁a',\n",
       " '▁way',\n",
       " '▁of',\n",
       " '▁unlocking',\n",
       " '▁a',\n",
       " '▁different',\n",
       " '▁part',\n",
       " '▁of',\n",
       " '▁our',\n",
       " '▁brain',\n",
       " '▁.',\n",
       " '▁It',\n",
       " '▁allows',\n",
       " '▁us',\n",
       " '▁to',\n",
       " '▁think',\n",
       " '▁in',\n",
       " '▁a',\n",
       " '▁non',\n",
       " '▁-',\n",
       " '▁verbal',\n",
       " '▁way',\n",
       " '▁and',\n",
       " '▁access',\n",
       " '▁parts',\n",
       " '▁of',\n",
       " '▁our',\n",
       " '▁brain',\n",
       " '▁,',\n",
       " '▁our',\n",
       " '▁creativity',\n",
       " '▁.',\n",
       " '▁The',\n",
       " '▁beauty',\n",
       " '▁of',\n",
       " '▁using',\n",
       " '▁Visual',\n",
       " 'isation',\n",
       " '▁is',\n",
       " '▁that',\n",
       " '▁we',\n",
       " '▁can',\n",
       " '▁tap',\n",
       " '▁into',\n",
       " '▁a',\n",
       " '▁single',\n",
       " '▁picture',\n",
       " '▁.',\n",
       " '▁One',\n",
       " '▁of',\n",
       " '▁my',\n",
       " '▁current',\n",
       " '▁projects',\n",
       " '▁I',\n",
       " 's',\n",
       " '▁developing',\n",
       " '▁an',\n",
       " '▁mobile',\n",
       " '▁online',\n",
       " '▁shopping',\n",
       " '▁app',\n",
       " '▁.',\n",
       " '▁The',\n",
       " '▁important',\n",
       " '▁role',\n",
       " '▁in',\n",
       " '▁developing',\n",
       " '▁an',\n",
       " '▁app',\n",
       " '▁is',\n",
       " '▁testing',\n",
       " '▁of',\n",
       " '▁the',\n",
       " '▁app',\n",
       " '▁and',\n",
       " '▁curious',\n",
       " '▁to',\n",
       " '▁know',\n",
       " '▁the',\n",
       " '▁user',\n",
       " '▁experience',\n",
       " '▁.',\n",
       " '▁This',\n",
       " '▁testing',\n",
       " '▁I',\n",
       " 's',\n",
       " '▁only',\n",
       " '▁viable',\n",
       " '▁as',\n",
       " '▁the',\n",
       " '▁data',\n",
       " '▁that',\n",
       " '▁',\n",
       " '’',\n",
       " 's',\n",
       " '▁garnered',\n",
       " '▁from',\n",
       " '▁it',\n",
       " '▁.',\n",
       " '▁After',\n",
       " '▁filtering',\n",
       " '▁the',\n",
       " '▁data',\n",
       " '▁we',\n",
       " '▁need',\n",
       " '▁to',\n",
       " '▁visualize',\n",
       " '▁it',\n",
       " '▁.',\n",
       " '▁First',\n",
       " '▁the',\n",
       " '▁raw',\n",
       " '▁data',\n",
       " '▁is',\n",
       " '▁collected',\n",
       " '▁which',\n",
       " '▁is',\n",
       " '▁not',\n",
       " '▁of',\n",
       " '▁much',\n",
       " '▁use',\n",
       " '▁to',\n",
       " '▁anyone',\n",
       " '▁due',\n",
       " '▁to',\n",
       " '▁situational',\n",
       " '▁data',\n",
       " '▁,',\n",
       " '▁redundancies',\n",
       " '▁and',\n",
       " '▁faux',\n",
       " '▁data',\n",
       " '▁.',\n",
       " '▁We',\n",
       " '▁took',\n",
       " '▁the',\n",
       " '▁user',\n",
       " '▁',\n",
       " '’',\n",
       " 's',\n",
       " '▁phone',\n",
       " '▁into',\n",
       " '▁account',\n",
       " '▁.',\n",
       " '▁Phones',\n",
       " '▁come',\n",
       " '▁in',\n",
       " '▁all',\n",
       " '▁shapes',\n",
       " '▁and',\n",
       " '▁sizes',\n",
       " '▁,',\n",
       " '▁and',\n",
       " '▁mobile',\n",
       " '▁apps',\n",
       " '▁run',\n",
       " '▁on',\n",
       " '▁watches',\n",
       " '▁,',\n",
       " '▁tablets',\n",
       " '▁and',\n",
       " '▁many',\n",
       " '▁other',\n",
       " '▁appliances',\n",
       " '▁.',\n",
       " '▁At',\n",
       " '▁first',\n",
       " '▁we',\n",
       " '▁collected',\n",
       " '▁data',\n",
       " '▁from',\n",
       " '▁the',\n",
       " '▁customers',\n",
       " '▁about',\n",
       " '▁which',\n",
       " '▁types',\n",
       " '▁of',\n",
       " '▁products',\n",
       " '▁should',\n",
       " '▁be',\n",
       " '▁available',\n",
       " '▁in',\n",
       " '▁this',\n",
       " '▁online',\n",
       " '▁shopping',\n",
       " '▁.',\n",
       " '▁And',\n",
       " '▁asked',\n",
       " '▁the',\n",
       " '▁people',\n",
       " '▁of',\n",
       " '▁what',\n",
       " '▁type',\n",
       " '▁of',\n",
       " '▁features',\n",
       " '▁we',\n",
       " '▁need',\n",
       " '▁to',\n",
       " '▁develop',\n",
       " '▁.',\n",
       " '▁Insight',\n",
       " '▁and',\n",
       " '▁approach',\n",
       " '▁After',\n",
       " '▁conducting',\n",
       " '▁the',\n",
       " '▁data',\n",
       " '▁analysis',\n",
       " '▁extraction',\n",
       " '▁process',\n",
       " '▁and',\n",
       " '▁visualizing',\n",
       " '▁the',\n",
       " '▁data',\n",
       " '▁,',\n",
       " '▁I',\n",
       " '▁have',\n",
       " '▁understood',\n",
       " '▁that',\n",
       " '▁asking',\n",
       " '▁for',\n",
       " '▁advice',\n",
       " '▁and',\n",
       " '▁feedback',\n",
       " '▁made',\n",
       " '▁this',\n",
       " '▁process',\n",
       " '▁easier',\n",
       " '▁.',\n",
       " '▁And',\n",
       " '▁visualization',\n",
       " '▁tool',\n",
       " '▁is',\n",
       " '▁very',\n",
       " '▁useful',\n",
       " '▁in',\n",
       " '▁integrating',\n",
       " '▁our',\n",
       " '▁daily',\n",
       " '▁life',\n",
       " '▁activities',\n",
       " '▁.',\n",
       " '▁I',\n",
       " '▁understand',\n",
       " '▁the',\n",
       " '▁important',\n",
       " '▁points',\n",
       " '▁what',\n",
       " '▁people',\n",
       " '▁are',\n",
       " '▁expecting',\n",
       " '▁from',\n",
       " '▁the',\n",
       " '▁app',\n",
       " '▁and',\n",
       " '▁which',\n",
       " '▁makes',\n",
       " '▁our',\n",
       " '▁app',\n",
       " '▁great',\n",
       " '▁demand',\n",
       " '▁in',\n",
       " '▁the',\n",
       " '▁market',\n",
       " '▁.',\n",
       " '▁Without',\n",
       " '▁knowing',\n",
       " '▁the',\n",
       " '▁people',\n",
       " '▁',\n",
       " '’',\n",
       " 's',\n",
       " '▁needs',\n",
       " '▁it',\n",
       " '▁is',\n",
       " '▁impossible',\n",
       " '▁to',\n",
       " '▁get',\n",
       " '▁success',\n",
       " '▁in',\n",
       " '▁any',\n",
       " '▁field',\n",
       " '▁.',\n",
       " '▁This',\n",
       " '▁would',\n",
       " '▁have',\n",
       " '▁helped',\n",
       " '▁me',\n",
       " '▁have',\n",
       " '▁more',\n",
       " '▁real',\n",
       " '▁life',\n",
       " '▁experiences',\n",
       " '▁to',\n",
       " '▁follow',\n",
       " '▁the',\n",
       " '▁four',\n",
       " '▁step',\n",
       " '▁process',\n",
       " '▁of',\n",
       " '▁design',\n",
       " '▁thinking',\n",
       " '▁and',\n",
       " '▁apply',\n",
       " '▁this',\n",
       " '▁to',\n",
       " '▁project',\n",
       " '▁what',\n",
       " '▁is',\n",
       " '?',\n",
       " ',',\n",
       " 'what',\n",
       " '▁if',\n",
       " '?',\n",
       " ',',\n",
       " 'what',\n",
       " '▁works',\n",
       " '?',\n",
       " ',',\n",
       " 'For',\n",
       " '▁every',\n",
       " '▁project',\n",
       " '▁,',\n",
       " '▁I',\n",
       " '▁use',\n",
       " '▁this',\n",
       " '▁visualization',\n",
       " '▁tool',\n",
       " '▁as',\n",
       " '▁a',\n",
       " '▁starting',\n",
       " '▁point',\n",
       " '▁in',\n",
       " '▁design',\n",
       " '▁thinking',\n",
       " '▁activities',\n",
       " '▁.',\n",
       " '▁This',\n",
       " '▁is',\n",
       " '▁my',\n",
       " '▁first',\n",
       " '▁project',\n",
       " '▁and',\n",
       " '▁I',\n",
       " '▁am',\n",
       " '▁very',\n",
       " '▁interested',\n",
       " '▁and',\n",
       " '▁grateful',\n",
       " '▁.',\n",
       " '▁This',\n",
       " '▁visualization',\n",
       " '▁process',\n",
       " '▁made',\n",
       " '▁my',\n",
       " '▁work',\n",
       " '▁easier',\n",
       " '▁and',\n",
       " '▁comfortable',\n",
       " '▁.',\n",
       " '[SEP]']"
      ]
     },
     "execution_count": 23,
     "metadata": {},
     "output_type": "execute_result"
    }
   ],
   "source": [
    "# TODO: 512?が上限であるのに対し、NER対象のテキストが512よりも長い場合が多いため、適したモデルにする\n",
    "# DeBERTaあたりは、512を超えるテキストに対応していたような\n",
    "# example = train_dataset[30]\n",
    "example = train_dataset[0]\n",
    "tokenized_input = tokenizer(example[\"tokens\"], is_split_into_words=True)\n",
    "tokens = tokenizer.convert_ids_to_tokens(tokenized_input[\"input_ids\"])\n",
    "tokens"
   ]
  },
  {
   "cell_type": "code",
   "execution_count": 24,
   "metadata": {
    "autoscroll": "auto",
    "collapsed": false,
    "execution": {
     "iopub.execute_input": "2024-02-28T04:37:31.793062Z",
     "iopub.status.busy": "2024-02-28T04:37:31.792880Z",
     "iopub.status.idle": "2024-02-28T04:37:31.797412Z",
     "shell.execute_reply": "2024-02-28T04:37:31.796920Z"
    },
    "jupyter": {
     "outputs_hidden": false
    }
   },
   "outputs": [
    {
     "data": {
      "text/plain": [
       "['[CLS]',\n",
       " '▁this',\n",
       " '▁is',\n",
       " '▁kin',\n",
       " 'learn',\n",
       " '@',\n",
       " 'gmail',\n",
       " '.',\n",
       " 'com',\n",
       " '.',\n",
       " '[SEP]']"
      ]
     },
     "execution_count": 24,
     "metadata": {},
     "output_type": "execute_result"
    }
   ],
   "source": [
    "text = \"this is kinlearn@gmail.com.\"\n",
    "tokenized_input = tokenizer(text)\n",
    "tokens = tokenizer.convert_ids_to_tokens(tokenized_input[\"input_ids\"])\n",
    "tokens"
   ]
  },
  {
   "cell_type": "code",
   "execution_count": 25,
   "metadata": {
    "autoscroll": "auto",
    "collapsed": false,
    "execution": {
     "iopub.execute_input": "2024-02-28T04:37:31.800067Z",
     "iopub.status.busy": "2024-02-28T04:37:31.799894Z",
     "iopub.status.idle": "2024-02-28T04:37:31.803872Z",
     "shell.execute_reply": "2024-02-28T04:37:31.803217Z"
    },
    "jupyter": {
     "outputs_hidden": false
    }
   },
   "outputs": [],
   "source": [
    "# labelを変換する\n",
    "id2label = {\n",
    "    0: \"O\",\n",
    "    1: \"B-NAME_STUDENT\",\n",
    "    2: \"I-NAME_STUDENT\",\n",
    "    3: \"B-EMAIL\",\n",
    "    4: \"I-EMAIL\",\n",
    "    5: \"B-USERNAME\",\n",
    "    6: \"I-USERNAME\",\n",
    "    7: \"B-ID_NUM\",\n",
    "    8: \"I-ID_NUM\",\n",
    "    9: \"B-PHONE_NUM\",\n",
    "    10: \"I-PHONE_NUM\",\n",
    "    11: \"B-URL_PERSONAL\",\n",
    "    12: \"I-URL_PERSONAL\",\n",
    "    13: \"B-STREET_ADDRESS\",\n",
    "    14: \"I-STREET_ADDRESS\",\n",
    "}\n",
    "\n",
    "label2id = {v: k for k, v in id2label.items()}\n",
    "\n",
    "\n",
    "# def label2id_func(example):\n",
    "#     example[\"labels\"] = [label2id[tag] for tag in example[\"labels\"]]\n",
    "#     return example\n",
    "\n",
    "\n",
    "# labele2id_train_dataset = train_dataset.map(label2id_func)"
   ]
  },
  {
   "cell_type": "code",
   "execution_count": 26,
   "metadata": {
    "autoscroll": "auto",
    "collapsed": false,
    "execution": {
     "iopub.execute_input": "2024-02-28T04:37:31.805953Z",
     "iopub.status.busy": "2024-02-28T04:37:31.805788Z",
     "iopub.status.idle": "2024-02-28T04:37:31.834414Z",
     "shell.execute_reply": "2024-02-28T04:37:31.833816Z"
    },
    "jupyter": {
     "outputs_hidden": false
    }
   },
   "outputs": [],
   "source": [
    "def tokenize(example, tokenizer, label2id, max_length):\n",
    "    \"\"\"\n",
    "    与えられたtokenとlabelから、\n",
    "    今回のtokenizerで区切った場合のtokenとlabelを作成する。\n",
    "    \"\"\"\n",
    "    # rebuild text from tokens\n",
    "    text = []\n",
    "    labels = []\n",
    "\n",
    "    for t, l, ws in zip(\n",
    "        example[\"tokens\"], example[\"provided_labels\"], example[\"trailing_whitespace\"]\n",
    "    ):\n",
    "        text.append(t)\n",
    "        # 文字数分だけ、該当のラベルを追加する\n",
    "        labels.extend([l] * len(t))\n",
    "\n",
    "        if ws:\n",
    "            text.append(\" \")\n",
    "            labels.append(\"O\")\n",
    "        # text -> ['Design', ' ']\n",
    "        # labels -> ['O', 'O', 'O', 'O', 'O', 'O', 'O'] (6文字分 + 空白1文字分)\n",
    "\n",
    "    # actual tokenization\n",
    "    tokenized = tokenizer(\n",
    "        \"\".join(text),\n",
    "        return_offsets_mapping=True,\n",
    "        max_length=max_length,\n",
    "        truncation=True,\n",
    "    )\n",
    "\n",
    "    labels = np.array(labels)\n",
    "\n",
    "    text = \"\".join(text)\n",
    "    token_labels = []\n",
    "\n",
    "    for start_idx, end_idx in tokenized.offset_mapping:\n",
    "        # offset_mappingの各エントリは、トークンが元のテキストのどの範囲（開始位置と終了位置）にマッピングされるかを示す\n",
    "        # タプルまたはリストで構成されます。\n",
    "\n",
    "        # CLS tokenの対応\n",
    "        # CLSやSEPには必ず(start_idx, end_idx) = (0, 0)が割り当てられる\n",
    "        if start_idx == 0 and end_idx == 0:\n",
    "            token_labels.append(label2id[\"O\"])\n",
    "            continue\n",
    "\n",
    "        # 空白が存在する時は、offset_mappingのstart_idxを+1する\n",
    "        # DeBERTaV2Tokenizerは、空白を文字の先頭に▁としてくっつけるため。\n",
    "        # NOTE: もし空白を▁として文字の先頭にくっつけるないtokenizerの場合は、不要\n",
    "        if text[start_idx].isspace():\n",
    "            start_idx += 1\n",
    "\n",
    "        token_labels.append(label2id[labels[start_idx]])\n",
    "\n",
    "    # Q: token_labelsは何の長さ？\n",
    "    # A: 今回のtokenizerで区切った時の、tokenに該当するlabel\n",
    "    # 例:\n",
    "    # 与えられたtoken example[\"tokens\"][:10]\n",
    "    # -> ['Design', 'Thinking', 'for', 'innovation', 'reflexion', '-', 'Avril', '2021', '-', 'Nathalie']\n",
    "    # 今回のtokenizerで区切ったtoken　tokenizer.convert_ids_to_tokens(tokenized.input_ids[:10])\n",
    "    # -> ['[CLS]', '▁Design', '▁Thinking', '▁for', '▁innovation', '▁reflex', 'ion', '-', 'Av', 'ril']\n",
    "    # 文字数が違う！！！\n",
    "    # 最初に与えられたtokenとそのlabelだと、今回のtokenizerで区切った場合のラベルが分からない。\n",
    "    # 今回のtokenizerで区切った場合のtokenとラベルを作成した。\n",
    "\n",
    "    length = len(tokenized.input_ids)\n",
    "\n",
    "    return {**tokenized, \"labels\": token_labels, \"length\": length}\n",
    "\n",
    "\n",
    "train_dataset = train_dataset.map(\n",
    "    tokenize,\n",
    "    fn_kwargs={\n",
    "        \"tokenizer\": tokenizer,\n",
    "        \"label2id\": label2id,\n",
    "        \"max_length\": TRAINING_MAX_LENGTH,\n",
    "    },\n",
    "    num_proc=3,\n",
    ")"
   ]
  },
  {
   "cell_type": "code",
   "execution_count": 27,
   "metadata": {
    "autoscroll": "auto",
    "collapsed": false,
    "execution": {
     "iopub.execute_input": "2024-02-28T04:37:31.837231Z",
     "iopub.status.busy": "2024-02-28T04:37:31.837035Z",
     "iopub.status.idle": "2024-02-28T04:37:31.849393Z",
     "shell.execute_reply": "2024-02-28T04:37:31.848879Z"
    },
    "jupyter": {
     "outputs_hidden": false
    }
   },
   "outputs": [],
   "source": [
    "x = train_dataset[2]\n",
    "\n",
    "for t, l in zip(x[\"tokens\"], x[\"provided_labels\"]):\n",
    "    if l != \"O\":\n",
    "        print((t, l))\n",
    "\n",
    "print(\"*\" * 100)\n",
    "\n",
    "for t, l in zip(tokenizer.convert_ids_to_tokens(x[\"input_ids\"]), x[\"labels\"]):\n",
    "    if id2label[l] != \"O\":\n",
    "        print((t, id2label[l]))"
   ]
  },
  {
   "cell_type": "code",
   "execution_count": 28,
   "metadata": {
    "autoscroll": "auto",
    "collapsed": false,
    "execution": {
     "iopub.execute_input": "2024-02-28T04:37:31.851939Z",
     "iopub.status.busy": "2024-02-28T04:37:31.851746Z",
     "iopub.status.idle": "2024-02-28T04:37:31.855885Z",
     "shell.execute_reply": "2024-02-28T04:37:31.855363Z"
    },
    "jupyter": {
     "outputs_hidden": false
    }
   },
   "outputs": [
    {
     "data": {
      "text/plain": [
       "['O',\n",
       " 'B-NAME_STUDENT',\n",
       " 'I-NAME_STUDENT',\n",
       " 'B-EMAIL',\n",
       " 'I-EMAIL',\n",
       " 'B-USERNAME',\n",
       " 'I-USERNAME',\n",
       " 'B-ID_NUM',\n",
       " 'I-ID_NUM',\n",
       " 'B-PHONE_NUM',\n",
       " 'I-PHONE_NUM',\n",
       " 'B-URL_PERSONAL',\n",
       " 'I-URL_PERSONAL',\n",
       " 'B-STREET_ADDRESS',\n",
       " 'I-STREET_ADDRESS']"
      ]
     },
     "execution_count": 28,
     "metadata": {},
     "output_type": "execute_result"
    }
   ],
   "source": [
    "label_list = list(label2id.keys())\n",
    "label_list"
   ]
  },
  {
   "cell_type": "code",
   "execution_count": 29,
   "metadata": {
    "autoscroll": "auto",
    "collapsed": false,
    "execution": {
     "iopub.execute_input": "2024-02-28T04:37:31.858364Z",
     "iopub.status.busy": "2024-02-28T04:37:31.858188Z",
     "iopub.status.idle": "2024-02-28T04:37:31.861992Z",
     "shell.execute_reply": "2024-02-28T04:37:31.861478Z"
    },
    "jupyter": {
     "outputs_hidden": false
    }
   },
   "outputs": [
    {
     "data": {
      "text/plain": [
       "15"
      ]
     },
     "execution_count": 29,
     "metadata": {},
     "output_type": "execute_result"
    }
   ],
   "source": [
    "len(label_list)"
   ]
  },
  {
   "cell_type": "code",
   "execution_count": 30,
   "metadata": {
    "execution": {
     "iopub.execute_input": "2024-02-28T04:37:31.863969Z",
     "iopub.status.busy": "2024-02-28T04:37:31.863809Z",
     "iopub.status.idle": "2024-02-28T04:37:31.866808Z",
     "shell.execute_reply": "2024-02-28T04:37:31.866283Z"
    }
   },
   "outputs": [],
   "source": [
    "# pad_to_multiple_of\n",
    "# paddingの際に、指定した数の倍数になるように、各サンプルの長さを揃える\n",
    "# ハードウェアの要件に合致することで、計算効率が良くなる可能性がある\n",
    "data_collator = DataCollatorForTokenClassification(\n",
    "    tokenizer=tokenizer, pad_to_multiple_of=16\n",
    ")"
   ]
  },
  {
   "cell_type": "code",
   "execution_count": 31,
   "metadata": {
    "autoscroll": "auto",
    "collapsed": false,
    "execution": {
     "iopub.execute_input": "2024-02-28T04:37:31.869116Z",
     "iopub.status.busy": "2024-02-28T04:37:31.868949Z",
     "iopub.status.idle": "2024-02-28T04:37:32.124797Z",
     "shell.execute_reply": "2024-02-28T04:37:32.124294Z"
    },
    "jupyter": {
     "outputs_hidden": false
    }
   },
   "outputs": [],
   "source": [
    "seqeval = evaluate.load(\"seqeval\")"
   ]
  },
  {
   "cell_type": "code",
   "execution_count": 32,
   "metadata": {
    "execution": {
     "iopub.execute_input": "2024-02-28T04:37:32.127310Z",
     "iopub.status.busy": "2024-02-28T04:37:32.127122Z",
     "iopub.status.idle": "2024-02-28T04:37:32.132696Z",
     "shell.execute_reply": "2024-02-28T04:37:32.132132Z"
    }
   },
   "outputs": [],
   "source": [
    "def f5_score(precision: float, recall: float, beta: int = 5):\n",
    "    return (1 + beta**2) * (precision * recall) / ((beta**2 * precision) + recall)\n",
    "\n",
    "\n",
    "def compute_metrics(p):\n",
    "    predictions, labels = p\n",
    "    predictions = np.argmax(predictions, axis=2)\n",
    "\n",
    "    true_predictions = [\n",
    "        [label_list[p] for (p, l) in zip(prediction, label) if l != -100]\n",
    "        for prediction, label in zip(predictions, labels)\n",
    "    ]\n",
    "    true_labels = [\n",
    "        [label_list[l] for (p, l) in zip(prediction, label) if l != -100]\n",
    "        for prediction, label in zip(predictions, labels)\n",
    "    ]\n",
    "\n",
    "    results = seqeval.compute(predictions=true_predictions, references=true_labels)\n",
    "\n",
    "    # seqevalのmetrics関数を使用して、精度、再現率、F1スコア、正解率を計算\n",
    "    precision = results[\"overall_precision\"]\n",
    "    recall = results[\"overall_recall\"]\n",
    "\n",
    "    return {\n",
    "        \"precision\": precision,\n",
    "        \"recall\": recall,\n",
    "        \"f1\": results[\"overall_f1\"],\n",
    "        \"accuracy\": results[\"overall_accuracy\"],\n",
    "        \"f5score\": f5_score(precision, recall),\n",
    "    }"
   ]
  },
  {
   "cell_type": "code",
   "execution_count": 33,
   "metadata": {
    "autoscroll": "auto",
    "collapsed": false,
    "execution": {
     "iopub.execute_input": "2024-02-28T04:37:32.134598Z",
     "iopub.status.busy": "2024-02-28T04:37:32.134437Z",
     "iopub.status.idle": "2024-02-28T04:37:32.535535Z",
     "shell.execute_reply": "2024-02-28T04:37:32.535011Z"
    },
    "jupyter": {
     "outputs_hidden": false
    }
   },
   "outputs": [],
   "source": [
    "model = AutoModelForTokenClassification.from_pretrained(\n",
    "    MODEL_NAME,\n",
    "    num_labels=len(id2label),\n",
    "    id2label=id2label,\n",
    "    label2id=label2id,\n",
    ")"
   ]
  },
  {
   "cell_type": "code",
   "execution_count": 34,
   "metadata": {
    "autoscroll": "auto",
    "collapsed": false,
    "execution": {
     "iopub.execute_input": "2024-02-28T04:37:32.537691Z",
     "iopub.status.busy": "2024-02-28T04:37:32.537523Z",
     "iopub.status.idle": "2024-02-28T04:37:32.541178Z",
     "shell.execute_reply": "2024-02-28T04:37:32.540784Z"
    },
    "jupyter": {
     "outputs_hidden": false
    }
   },
   "outputs": [
    {
     "data": {
      "text/plain": [
       "Dataset({\n",
       "    features: ['document', 'provided_labels', 'tokens', 'full_text', 'trailing_whitespace', 'flag', 'input_ids', 'token_type_ids', 'attention_mask', 'offset_mapping', 'labels', 'length'],\n",
       "    num_rows: 13241\n",
       "})"
      ]
     },
     "execution_count": 34,
     "metadata": {},
     "output_type": "execute_result"
    }
   ],
   "source": [
    "train_dataset"
   ]
  },
  {
   "cell_type": "code",
   "execution_count": 35,
   "metadata": {
    "autoscroll": "auto",
    "collapsed": false,
    "execution": {
     "iopub.execute_input": "2024-02-28T04:37:32.543006Z",
     "iopub.status.busy": "2024-02-28T04:37:32.542849Z",
     "iopub.status.idle": "2024-02-28T04:37:32.560985Z",
     "shell.execute_reply": "2024-02-28T04:37:32.560492Z"
    },
    "jupyter": {
     "outputs_hidden": false
    }
   },
   "outputs": [],
   "source": [
    "with open(f\"{DATA_PATH}/document_pattern_dict.json\") as f:\n",
    "    document_pattern_dict = json.load(f)\n",
    "\n",
    "\n",
    "def document_id_to_pattern(example) -> str:\n",
    "    return document_pattern_dict[example[\"document\"]]\n",
    "\n",
    "\n",
    "def add_pattern_column(dataset):\n",
    "    # original_datasetに対し、patternを付与する\n",
    "    dataset = dataset.map(\n",
    "        lambda example: {\"pattern\": document_id_to_pattern(example)}, num_proc=3\n",
    "    )\n",
    "    unique_labels = np.unique(dataset[\"pattern\"])\n",
    "\n",
    "    # train_test_splitのstratifyに使うために、ClassLabelに変換する\n",
    "    class_label_feature = ClassLabel(names=unique_labels.tolist())\n",
    "    return dataset.cast_column(\"pattern\", class_label_feature)\n",
    "\n",
    "\n",
    "def train_valid_split(train_dataset):\n",
    "    # 'flag'列が'original'のもののみをテストデータとする\n",
    "    original_dataset = train_dataset.filter(lambda x: x[\"flag\"] == \"original\")\n",
    "    extrenal_dataset = train_dataset.filter(lambda x: x[\"flag\"] != \"original\")\n",
    "\n",
    "    # pattern列を付与する\n",
    "    original_dataset = add_pattern_column(original_dataset)\n",
    "\n",
    "    # pattern列に対してstratifyになるよう分割する\n",
    "    train_split_dataset = original_dataset.train_test_split(\n",
    "        test_size=0.2, seed=42, stratify_by_column=\"pattern\"\n",
    "    )\n",
    "\n",
    "    # 'flag'列が'original'でないものを訓練データと検証データに分割する\n",
    "    # train_split_dataset = original_dataset.train_test_split(test_size=0.2, seed=42)\n",
    "\n",
    "    # 再結合する\n",
    "    concat_train_dataset = concatenate_datasets(\n",
    "        [train_split_dataset[\"train\"], extrenal_dataset]\n",
    "    )\n",
    "\n",
    "    train_valid_dataset = DatasetDict(\n",
    "        {\"train\": concat_train_dataset, \"valid\": train_split_dataset[\"test\"]}\n",
    "    )\n",
    "    return train_valid_dataset\n",
    "\n",
    "\n",
    "train_valid_dataset = train_valid_split(train_dataset)"
   ]
  },
  {
   "cell_type": "code",
   "execution_count": 36,
   "metadata": {
    "autoscroll": "auto",
    "collapsed": false,
    "execution": {
     "iopub.execute_input": "2024-02-28T04:37:32.563086Z",
     "iopub.status.busy": "2024-02-28T04:37:32.562908Z",
     "iopub.status.idle": "2024-02-28T04:37:33.938818Z",
     "shell.execute_reply": "2024-02-28T04:37:33.938174Z"
    },
    "jupyter": {
     "outputs_hidden": false
    }
   },
   "outputs": [],
   "source": [
    "training_args = TrainingArguments(\n",
    "    output_dir=LOG_PATH,\n",
    "    learning_rate=2e-5,\n",
    "    per_device_train_batch_size=8,  # 16,  # 32はだめ、性能がepoch0の時、precision0.31→0.00、Recall0.25→0.00に落ちる\n",
    "    per_device_eval_batch_size=8,  # 16,  # 32,↑同様、バッチサイズが非常に重要なパラメーターであるとも言える\n",
    "    num_train_epochs=3,\n",
    "    weight_decay=0.01,\n",
    "    evaluation_strategy=\"epoch\",\n",
    "    save_strategy=\"epoch\",\n",
    "    load_best_model_at_end=True,\n",
    "    push_to_hub=False,\n",
    "    metric_for_best_model=\"f5score\",  # add\n",
    "    greater_is_better=True,  # add\n",
    "    warmup_ratio=0.1,  # add\n",
    "    lr_scheduler_type=\"cosine\",  # add\n",
    "    report_to=REPORT_TO,\n",
    ")\n",
    "\n",
    "trainer = Trainer(\n",
    "    model=model,\n",
    "    args=training_args,\n",
    "    train_dataset=train_valid_dataset[\"train\"],\n",
    "    eval_dataset=train_valid_dataset[\"valid\"],\n",
    "    tokenizer=tokenizer,\n",
    "    data_collator=data_collator,\n",
    "    compute_metrics=compute_metrics,\n",
    ")"
   ]
  },
  {
   "cell_type": "code",
   "execution_count": 37,
   "metadata": {
    "autoscroll": "auto",
    "collapsed": false,
    "execution": {
     "iopub.execute_input": "2024-02-28T04:37:33.941913Z",
     "iopub.status.busy": "2024-02-28T04:37:33.941670Z",
     "iopub.status.idle": "2024-02-28T05:35:31.506765Z",
     "shell.execute_reply": "2024-02-28T05:35:31.505918Z"
    },
    "jupyter": {
     "outputs_hidden": false
    }
   },
   "outputs": [
    {
     "data": {
      "text/html": [
       "\n",
       "    <div>\n",
       "      \n",
       "      <progress value='4455' max='4455' style='width:300px; height:20px; vertical-align: middle;'></progress>\n",
       "      [4455/4455 56:52, Epoch 3/3]\n",
       "    </div>\n",
       "    <table border=\"1\" class=\"dataframe\">\n",
       "  <thead>\n",
       " <tr style=\"text-align: left;\">\n",
       "      <th>Epoch</th>\n",
       "      <th>Training Loss</th>\n",
       "      <th>Validation Loss</th>\n",
       "      <th>Precision</th>\n",
       "      <th>Recall</th>\n",
       "      <th>F1</th>\n",
       "      <th>Accuracy</th>\n",
       "      <th>F5score</th>\n",
       "    </tr>\n",
       "  </thead>\n",
       "  <tbody>\n",
       "    <tr>\n",
       "      <td>1</td>\n",
       "      <td>0.008600</td>\n",
       "      <td>0.000821</td>\n",
       "      <td>0.927273</td>\n",
       "      <td>0.839241</td>\n",
       "      <td>0.881063</td>\n",
       "      <td>0.999781</td>\n",
       "      <td>0.842316</td>\n",
       "    </tr>\n",
       "    <tr>\n",
       "      <td>2</td>\n",
       "      <td>0.004600</td>\n",
       "      <td>0.000719</td>\n",
       "      <td>0.866330</td>\n",
       "      <td>0.869620</td>\n",
       "      <td>0.867972</td>\n",
       "      <td>0.999752</td>\n",
       "      <td>0.869493</td>\n",
       "    </tr>\n",
       "    <tr>\n",
       "      <td>3</td>\n",
       "      <td>0.002600</td>\n",
       "      <td>0.000738</td>\n",
       "      <td>0.893726</td>\n",
       "      <td>0.883544</td>\n",
       "      <td>0.888606</td>\n",
       "      <td>0.999786</td>\n",
       "      <td>0.883932</td>\n",
       "    </tr>\n",
       "  </tbody>\n",
       "</table><p>"
      ],
      "text/plain": [
       "<IPython.core.display.HTML object>"
      ]
     },
     "metadata": {},
     "output_type": "display_data"
    },
    {
     "data": {
      "text/html": [
       "\n",
       "    <div>\n",
       "      \n",
       "      <progress value='171' max='171' style='width:300px; height:20px; vertical-align: middle;'></progress>\n",
       "      [171/171 00:51]\n",
       "    </div>\n",
       "    "
      ],
      "text/plain": [
       "<IPython.core.display.HTML object>"
      ]
     },
     "metadata": {},
     "output_type": "display_data"
    }
   ],
   "source": [
    "# モデルの学習\n",
    "trainer.train()\n",
    "cv_score = trainer.evaluate()[\"eval_f5score\"]\n",
    "# モデルの保存\n",
    "trainer.save_model(MODEL_OUTPUT_PATH)"
   ]
  },
  {
   "cell_type": "code",
   "execution_count": 38,
   "metadata": {
    "execution": {
     "iopub.execute_input": "2024-02-28T05:35:31.511786Z",
     "iopub.status.busy": "2024-02-28T05:35:31.511098Z",
     "iopub.status.idle": "2024-02-28T05:35:32.321514Z",
     "shell.execute_reply": "2024-02-28T05:35:32.320751Z"
    }
   },
   "outputs": [],
   "source": [
    "model = AutoModelForTokenClassification.from_pretrained(MODEL_OUTPUT_PATH)\n",
    "tokenizer = AutoTokenizer.from_pretrained(MODEL_OUTPUT_PATH)\n",
    "\n",
    "args = TrainingArguments(\n",
    "    \".\",\n",
    "    per_device_eval_batch_size=1,\n",
    "    report_to=\"none\",\n",
    ")\n",
    "\n",
    "trainer = Trainer(\n",
    "    model=model,\n",
    "    args=args,\n",
    "    data_collator=data_collator,\n",
    "    tokenizer=tokenizer,\n",
    ")"
   ]
  },
  {
   "cell_type": "markdown",
   "metadata": {},
   "source": [
    "# Make CV DataFrame"
   ]
  },
  {
   "cell_type": "code",
   "execution_count": 39,
   "metadata": {
    "execution": {
     "iopub.execute_input": "2024-02-28T05:35:32.325561Z",
     "iopub.status.busy": "2024-02-28T05:35:32.325313Z",
     "iopub.status.idle": "2024-02-28T05:35:32.333855Z",
     "shell.execute_reply": "2024-02-28T05:35:32.332814Z"
    }
   },
   "outputs": [],
   "source": [
    "def get_valid_preds(trainer, valid_dataset):\n",
    "    \"\"\"\n",
    "    trainerを用いてvalid_datasetに対する予測を行う\n",
    "    \"\"\"\n",
    "    predictions = trainer.predict(valid_dataset).predictions\n",
    "    preds_final = predictions.argmax(-1)\n",
    "\n",
    "    return preds_final"
   ]
  },
  {
   "cell_type": "code",
   "execution_count": 40,
   "metadata": {
    "execution": {
     "iopub.execute_input": "2024-02-28T05:35:32.337598Z",
     "iopub.status.busy": "2024-02-28T05:35:32.337360Z",
     "iopub.status.idle": "2024-02-28T05:35:32.342450Z",
     "shell.execute_reply": "2024-02-28T05:35:32.341795Z"
    }
   },
   "outputs": [],
   "source": [
    "def tokenize(example, tokenizer):\n",
    "    text = []\n",
    "    token_map = []\n",
    "\n",
    "    idx = 0\n",
    "\n",
    "    for t, ws in zip(example[\"tokens\"], example[\"trailing_whitespace\"]):\n",
    "        text.append(t)\n",
    "        token_map.extend([idx] * len(t))\n",
    "        if ws:\n",
    "            text.append(\" \")\n",
    "            token_map.append(-1)\n",
    "\n",
    "        idx += 1\n",
    "\n",
    "    # tokenized = tokenizer(\"\".join(text), return_offsets_mapping=True, truncation=True, max_length=INFERENCE_MAX_LENGTH)\n",
    "    tokenized = tokenizer(\"\".join(text), return_offsets_mapping=True, truncation=True)\n",
    "\n",
    "    return {\n",
    "        **tokenized,\n",
    "        \"token_map\": token_map,\n",
    "    }"
   ]
  },
  {
   "cell_type": "code",
   "execution_count": 41,
   "metadata": {
    "execution": {
     "iopub.execute_input": "2024-02-28T05:35:32.345426Z",
     "iopub.status.busy": "2024-02-28T05:35:32.345155Z",
     "iopub.status.idle": "2024-02-28T05:35:32.352795Z",
     "shell.execute_reply": "2024-02-28T05:35:32.352045Z"
    }
   },
   "outputs": [],
   "source": [
    "def get_output_part(preds_final, valid_dataset):\n",
    "    triplets = []\n",
    "    document, token, label, token_str = [], [], [], []\n",
    "    # token_mapはoffsetsの文字列indexが、何番目のtokenの紐付け\n",
    "    # start_idx = 0の時、tokens[token_map[start_idx]] → 'Design'\n",
    "    # start_idx = 1の時、tokens[token_map[start_idx]] → 'Design'\n",
    "    # ・・・\n",
    "    # start_idx = 5の時、tokens[token_map[start_idx]] → 'Design'\n",
    "    # start_idx = 6の時、tokens[token_map[start_idx]] → '\\n\\n'\n",
    "\n",
    "    # 同じtoken_idに、二つの予測結果が入ってしまう問題\n",
    "    # 原因は、「文字列をtokenizerで区切り、別のlabelと予測した場合を、別のtripletとして扱うから」\n",
    "    # 例えば、'kellyharrison@gmail.com'のlabelの予測結果\n",
    "    # '\\nkelly' -> 'B-EMAIL'\n",
    "    # '##harris' -> 'B-EMAIL'\n",
    "    # '##on' -> 'I-NAME_STUDENT'\n",
    "    # '@' -> 'B-EMAIL'\n",
    "    # 'gmail' -> 'B-EMAIL'\n",
    "    # '.' -> 'B-EMAIL'\n",
    "    # 'com' -> 'B-EMAIL'\n",
    "    # 簡易的な解決策: 同じtoken_idの場合は、tripletに追加しない\n",
    "    # 根本的な解決策: サブワードの推論結果は無視する？（サブワードの話ではないかも。もうちょっと考えたほうがよさそう。）\n",
    "\n",
    "    for p, token_map, offsets, tokens, doc in zip(\n",
    "        preds_final,\n",
    "        valid_dataset[\"token_map\"],\n",
    "        valid_dataset[\"offset_mapping\"],\n",
    "        valid_dataset[\"tokens\"],\n",
    "        valid_dataset[\"document\"],\n",
    "    ):\n",
    "        for token_pred, (start_idx, end_idx) in zip(p, offsets):\n",
    "            label_pred = id2label[token_pred]\n",
    "\n",
    "            if start_idx + end_idx == 0:\n",
    "                continue\n",
    "\n",
    "            if token_map[start_idx] == -1:\n",
    "                start_idx += 1\n",
    "\n",
    "            # ignore \"\\n\\n\"\n",
    "            while start_idx < len(token_map) and tokens[token_map[start_idx]].isspace():\n",
    "                start_idx += 1\n",
    "\n",
    "            if start_idx >= len(token_map):\n",
    "                break\n",
    "\n",
    "            token_id = token_map[start_idx]\n",
    "\n",
    "            # ignore \"O\" predictions and whitespace preds\n",
    "            if label_pred != \"O\" and token_id != -1:\n",
    "                triplet = (label_pred, token_id, tokens[token_id])\n",
    "\n",
    "                if triplet not in triplets:\n",
    "                    document.append(doc)\n",
    "                    token.append(token_id)\n",
    "                    label.append(label_pred)\n",
    "                    token_str.append(tokens[token_id])\n",
    "                    triplets.append(triplet)\n",
    "\n",
    "    return document, token, label, token_str"
   ]
  },
  {
   "cell_type": "code",
   "execution_count": 42,
   "metadata": {
    "execution": {
     "iopub.execute_input": "2024-02-28T05:35:32.355840Z",
     "iopub.status.busy": "2024-02-28T05:35:32.355543Z",
     "iopub.status.idle": "2024-02-28T05:35:32.360480Z",
     "shell.execute_reply": "2024-02-28T05:35:32.359765Z"
    }
   },
   "outputs": [],
   "source": [
    "def make_correct_df(train: pl.DataFrame):\n",
    "    # 学習データから、outputと同様のデータフレームを作成する\n",
    "    outputs = []\n",
    "    for document_id, token, label in zip(\n",
    "        train[\"document\"], train[\"tokens\"], train[\"provided_labels\"]\n",
    "    ):\n",
    "        for token, (token_str, label_one) in enumerate(zip(token, label)):\n",
    "            if label_one != \"O\":\n",
    "                outputs.append((document_id, token, label_one, token_str))\n",
    "    return pl.DataFrame(outputs, schema=[\"document\", \"token\", \"label\", \"token_str\"])"
   ]
  },
  {
   "cell_type": "code",
   "execution_count": 43,
   "metadata": {
    "execution": {
     "iopub.execute_input": "2024-02-28T05:35:32.363034Z",
     "iopub.status.busy": "2024-02-28T05:35:32.362846Z",
     "iopub.status.idle": "2024-02-28T05:35:32.368358Z",
     "shell.execute_reply": "2024-02-28T05:35:32.367420Z"
    }
   },
   "outputs": [],
   "source": [
    "def make_correct_pred_join_df(\n",
    "    train_correct_df: pl.DataFrame, valid_pred_df: pl.DataFrame\n",
    ") -> pl.DataFrame:\n",
    "    \"\"\"\n",
    "    validで利用したdocumentのみを抽出し、train_correct_dfとvalid_pred_dfを結合して、documentごとに比較できるようにする\n",
    "    \"\"\"\n",
    "    out = train_correct_df.filter(\n",
    "        pl.col(\"document\").is_in(valid_pred_df[\"document\"])\n",
    "    ).join(valid_pred_df, on=[\"document\", \"token\"], how=\"outer\", suffix=\"_pred\")\n",
    "\n",
    "    joined_dfs = []\n",
    "    for document in out[\"document\"].unique().to_list():\n",
    "        if document is None:\n",
    "            continue\n",
    "        joined_df_per_document = out.filter(\n",
    "            (pl.col(\"document\") == document) | (pl.col(\"document_pred\") == document)\n",
    "        )\n",
    "        joined_dfs.append(joined_df_per_document)\n",
    "\n",
    "    return pl.concat(joined_dfs)"
   ]
  },
  {
   "cell_type": "code",
   "execution_count": 44,
   "metadata": {
    "autoscroll": "auto",
    "collapsed": false,
    "execution": {
     "iopub.execute_input": "2024-02-28T05:35:32.371072Z",
     "iopub.status.busy": "2024-02-28T05:35:32.370892Z",
     "iopub.status.idle": "2024-02-28T05:37:10.827391Z",
     "shell.execute_reply": "2024-02-28T05:37:10.826548Z"
    },
    "jupyter": {
     "outputs_hidden": false
    }
   },
   "outputs": [
    {
     "data": {
      "application/vnd.jupyter.widget-view+json": {
       "model_id": "c527ddce2a0b41adae7836f4135a9af8",
       "version_major": 2,
       "version_minor": 0
      },
      "text/plain": [
       "Filter (num_proc=3):   0%|          | 0/13241 [00:00<?, ? examples/s]"
      ]
     },
     "metadata": {},
     "output_type": "display_data"
    },
    {
     "data": {
      "application/vnd.jupyter.widget-view+json": {
       "model_id": "e921d42a40664f869631f31940a0e242",
       "version_major": 2,
       "version_minor": 0
      },
      "text/plain": [
       "Map (num_proc=3):   0%|          | 0/1362 [00:00<?, ? examples/s]"
      ]
     },
     "metadata": {},
     "output_type": "display_data"
    },
    {
     "data": {
      "text/html": [],
      "text/plain": [
       "<IPython.core.display.HTML object>"
      ]
     },
     "metadata": {},
     "output_type": "display_data"
    }
   ],
   "source": [
    "# main\n",
    "valid_dataset = train_dataset.filter(\n",
    "    lambda example: example[\"document\"] in train_valid_dataset[\"valid\"][\"document\"],\n",
    "    num_proc=3,\n",
    ")\n",
    "\n",
    "valid_dataset = valid_dataset.map(\n",
    "    tokenize, fn_kwargs={\"tokenizer\": tokenizer}, num_proc=3\n",
    ")\n",
    "\n",
    "valid_preds = get_valid_preds(trainer, valid_dataset)\n",
    "\n",
    "document, token, label, token_str = get_output_part(valid_preds, valid_dataset)\n",
    "\n",
    "valid_pred_df = pl.DataFrame(\n",
    "    [document, token, label, token_str],\n",
    "    schema=[\"document\", \"token\", \"label\", \"token_str\"],\n",
    ")\n",
    "\n",
    "train_correct_df = make_correct_df(pl.from_pandas(train_dataset.to_pandas()))\n",
    "# train_correct_df = make_correct_df(train)\n",
    "\n",
    "valid_correct_pred_df = make_correct_pred_join_df(train_correct_df, valid_pred_df)\n",
    "\n",
    "# wandbにuploadする\n",
    "if not DEBUG:\n",
    "    tbl = wandb.Table(data=valid_correct_pred_df.to_pandas())\n",
    "    wandb.log({\"valid_correct_pred_df\": tbl})"
   ]
  },
  {
   "cell_type": "code",
   "execution_count": 45,
   "metadata": {
    "execution": {
     "iopub.execute_input": "2024-02-28T05:37:10.830301Z",
     "iopub.status.busy": "2024-02-28T05:37:10.830074Z",
     "iopub.status.idle": "2024-02-28T05:37:11.028248Z",
     "shell.execute_reply": "2024-02-28T05:37:11.027602Z"
    }
   },
   "outputs": [],
   "source": [
    "valid_correct_pred_df.write_csv(\"exp006.csv\")"
   ]
  },
  {
   "cell_type": "markdown",
   "metadata": {},
   "source": [
    "# Data Upload"
   ]
  },
  {
   "cell_type": "code",
   "execution_count": 46,
   "metadata": {
    "autoscroll": "auto",
    "collapsed": false,
    "execution": {
     "iopub.execute_input": "2024-02-28T05:37:11.031171Z",
     "iopub.status.busy": "2024-02-28T05:37:11.030953Z",
     "iopub.status.idle": "2024-02-28T05:37:11.054433Z",
     "shell.execute_reply": "2024-02-28T05:37:11.053782Z"
    },
    "jupyter": {
     "outputs_hidden": false
    }
   },
   "outputs": [
    {
     "data": {
      "text/plain": [
       "0"
      ]
     },
     "execution_count": 46,
     "metadata": {},
     "output_type": "execute_result"
    }
   ],
   "source": [
    "import os\n",
    "\n",
    "os.system(\"mkdir -p ~/.kaggle/\")\n",
    "os.system(\"cp /notebooks/pll_data_detection/kaggle.json ~/.kaggle/\")\n",
    "os.system(\"chmod 600 ~/.kaggle/kaggle.json\")"
   ]
  },
  {
   "cell_type": "code",
   "execution_count": 47,
   "metadata": {
    "execution": {
     "iopub.execute_input": "2024-02-28T05:37:11.057117Z",
     "iopub.status.busy": "2024-02-28T05:37:11.056857Z",
     "iopub.status.idle": "2024-02-28T05:37:42.975316Z",
     "shell.execute_reply": "2024-02-28T05:37:42.974894Z"
    }
   },
   "outputs": [],
   "source": [
    "from kaggle.api.kaggle_api_extended import KaggleApi\n",
    "import json\n",
    "\n",
    "\n",
    "def dataset_create_new(dataset_name: str, upload_dir: str):\n",
    "    if \"_\" in dataset_name:\n",
    "        raise ValueError(\"datasetの名称に_の使用は禁止です\")\n",
    "    dataset_metadata = {}\n",
    "    dataset_metadata[\"id\"] = f\"sinchir0/{dataset_name}\"\n",
    "    dataset_metadata[\"licenses\"] = [{\"name\": \"CC0-1.0\"}]\n",
    "    dataset_metadata[\"title\"] = dataset_name\n",
    "    with open(os.path.join(upload_dir, \"dataset-metadata.json\"), \"w\") as f:\n",
    "        json.dump(dataset_metadata, f, indent=4)\n",
    "    api = KaggleApi()\n",
    "    api.authenticate()\n",
    "    api.dataset_create_new(folder=upload_dir, convert_to_csv=False, dir_mode=\"tar\")\n",
    "\n",
    "\n",
    "if (not DEBUG) and UPLOAD_DATA:\n",
    "    print(f\"Create Dataset name:{DATASET_NAME}, output_dir:{MODEL_OUTPUT_PATH}\")\n",
    "    dataset_create_new(dataset_name=DATASET_NAME, upload_dir=MODEL_OUTPUT_PATH)"
   ]
  },
  {
   "cell_type": "code",
   "execution_count": 48,
   "metadata": {
    "autoscroll": "auto",
    "collapsed": false,
    "execution": {
     "iopub.execute_input": "2024-02-28T05:37:42.978370Z",
     "iopub.status.busy": "2024-02-28T05:37:42.978075Z",
     "iopub.status.idle": "2024-02-28T05:37:42.981699Z",
     "shell.execute_reply": "2024-02-28T05:37:42.981300Z"
    },
    "jupyter": {
     "outputs_hidden": false
    }
   },
   "outputs": [
    {
     "data": {
      "text/plain": [
       "'pll_data_detection/trained_models/e08-add-only-punc-fixed-moredata'"
      ]
     },
     "execution_count": 48,
     "metadata": {},
     "output_type": "execute_result"
    }
   ],
   "source": [
    "MODEL_OUTPUT_PATH"
   ]
  },
  {
   "cell_type": "code",
   "execution_count": 49,
   "metadata": {
    "autoscroll": "auto",
    "collapsed": false,
    "execution": {
     "iopub.execute_input": "2024-02-28T05:37:42.984083Z",
     "iopub.status.busy": "2024-02-28T05:37:42.983712Z",
     "iopub.status.idle": "2024-02-28T05:37:48.074233Z",
     "shell.execute_reply": "2024-02-28T05:37:48.073636Z"
    },
    "jupyter": {
     "outputs_hidden": false
    },
    "tags": []
   },
   "outputs": [
    {
     "data": {
      "text/html": [
       "Waiting for W&B process to finish... <strong style=\"color:green\">(success).</strong>"
      ],
      "text/plain": [
       "<IPython.core.display.HTML object>"
      ]
     },
     "metadata": {},
     "output_type": "display_data"
    },
    {
     "data": {
      "text/html": [
       "<style>\n",
       "    table.wandb td:nth-child(1) { padding: 0 10px; text-align: left ; width: auto;} td:nth-child(2) {text-align: left ; width: 100%}\n",
       "    .wandb-row { display: flex; flex-direction: row; flex-wrap: wrap; justify-content: flex-start; width: 100% }\n",
       "    .wandb-col { display: flex; flex-direction: column; flex-basis: 100%; flex: 1; padding: 10px; }\n",
       "    </style>\n",
       "<div class=\"wandb-row\"><div class=\"wandb-col\"><h3>Run summary:</h3><br/><table class=\"wandb\"><tr><td>eval/accuracy</td><td>0.99979</td></tr><tr><td>eval/f1</td><td>0.88861</td></tr><tr><td>eval/f5score</td><td>0.88393</td></tr><tr><td>eval/loss</td><td>0.00074</td></tr><tr><td>eval/precision</td><td>0.89373</td></tr><tr><td>eval/recall</td><td>0.88354</td></tr><tr><td>eval/runtime</td><td>62.2685</td></tr><tr><td>eval/samples_per_second</td><td>21.873</td></tr><tr><td>eval/steps_per_second</td><td>2.746</td></tr><tr><td>train/epoch</td><td>3.0</td></tr><tr><td>train/global_step</td><td>4455</td></tr><tr><td>train/learning_rate</td><td>0.0</td></tr><tr><td>train/loss</td><td>0.0026</td></tr><tr><td>train/total_flos</td><td>1.6133922340412256e+16</td></tr><tr><td>train/train_loss</td><td>0.05803</td></tr><tr><td>train/train_runtime</td><td>3413.5503</td></tr><tr><td>train/train_samples_per_second</td><td>10.44</td></tr><tr><td>train/train_steps_per_second</td><td>1.305</td></tr></table><br/></div></div>"
      ],
      "text/plain": [
       "<IPython.core.display.HTML object>"
      ]
     },
     "metadata": {},
     "output_type": "display_data"
    },
    {
     "data": {
      "text/html": [
       "Synced <strong style=\"color:#cdcd00\">e08-add-only-punc-fixed-moredata</strong>: <a href=\"https://wandb.ai/sinchir0/pll/runs/2hkqexpq\" target=\"_blank\">https://wandb.ai/sinchir0/pll/runs/2hkqexpq</a><br/>Synced 5 W&B file(s), 1 media file(s), 1 artifact file(s) and 0 other file(s)"
      ],
      "text/plain": [
       "<IPython.core.display.HTML object>"
      ]
     },
     "metadata": {},
     "output_type": "display_data"
    },
    {
     "data": {
      "text/html": [
       "Find logs at: <code>./wandb/run-20240228_043726-2hkqexpq/logs</code>"
      ],
      "text/plain": [
       "<IPython.core.display.HTML object>"
      ]
     },
     "metadata": {},
     "output_type": "display_data"
    }
   ],
   "source": [
    "if not DEBUG:\n",
    "    wandb.finish()"
   ]
  }
 ],
 "metadata": {
  "kernelspec": {
   "display_name": "Python 3 (ipykernel)",
   "language": "python",
   "name": "python3"
  },
  "language_info": {
   "codemirror_mode": {
    "name": "ipython",
    "version": 3
   },
   "file_extension": ".py",
   "mimetype": "text/x-python",
   "name": "python",
   "nbconvert_exporter": "python",
   "pygments_lexer": "ipython3",
   "version": "3.9.16"
  },
  "widgets": {
   "application/vnd.jupyter.widget-state+json": {
    "state": {
     "024be1ecc3554bd48c75330ccc1be872": {
      "model_module": "@jupyter-widgets/controls",
      "model_module_version": "2.0.0",
      "model_name": "HTMLModel",
      "state": {
       "_dom_classes": [],
       "_model_module": "@jupyter-widgets/controls",
       "_model_module_version": "2.0.0",
       "_model_name": "HTMLModel",
       "_view_count": null,
       "_view_module": "@jupyter-widgets/controls",
       "_view_module_version": "2.0.0",
       "_view_name": "HTMLView",
       "description": "",
       "description_allow_html": false,
       "layout": "IPY_MODEL_f1a43f18467b46989f25658b024336d1",
       "placeholder": "​",
       "style": "IPY_MODEL_775f53eda73f4f0db29eaa0c6bb54c55",
       "tabbable": null,
       "tooltip": null,
       "value": " 13241/13241 [00:38&lt;00:00, 466.22 examples/s]"
      }
     },
     "12dc5487bcbc4f958d35759ecb69583d": {
      "model_module": "@jupyter-widgets/controls",
      "model_module_version": "2.0.0",
      "model_name": "VBoxModel",
      "state": {
       "_dom_classes": [],
       "_model_module": "@jupyter-widgets/controls",
       "_model_module_version": "2.0.0",
       "_model_name": "VBoxModel",
       "_view_count": null,
       "_view_module": "@jupyter-widgets/controls",
       "_view_module_version": "2.0.0",
       "_view_name": "VBoxView",
       "box_style": "",
       "children": [
        "IPY_MODEL_a7f9fa4a0d67417085fe425aea833a32",
        "IPY_MODEL_493008044e62470fba6d0dbf0971918b"
       ],
       "layout": "IPY_MODEL_393234f6aaa74b71bcca72e2e489927a",
       "tabbable": null,
       "tooltip": null
      }
     },
     "157850fe9c0a4ba8b647dcd04d05f464": {
      "model_module": "@jupyter-widgets/base",
      "model_module_version": "2.0.0",
      "model_name": "LayoutModel",
      "state": {
       "_model_module": "@jupyter-widgets/base",
       "_model_module_version": "2.0.0",
       "_model_name": "LayoutModel",
       "_view_count": null,
       "_view_module": "@jupyter-widgets/base",
       "_view_module_version": "2.0.0",
       "_view_name": "LayoutView",
       "align_content": null,
       "align_items": null,
       "align_self": null,
       "border_bottom": null,
       "border_left": null,
       "border_right": null,
       "border_top": null,
       "bottom": null,
       "display": null,
       "flex": null,
       "flex_flow": null,
       "grid_area": null,
       "grid_auto_columns": null,
       "grid_auto_flow": null,
       "grid_auto_rows": null,
       "grid_column": null,
       "grid_gap": null,
       "grid_row": null,
       "grid_template_areas": null,
       "grid_template_columns": null,
       "grid_template_rows": null,
       "height": null,
       "justify_content": null,
       "justify_items": null,
       "left": null,
       "margin": null,
       "max_height": null,
       "max_width": null,
       "min_height": null,
       "min_width": null,
       "object_fit": null,
       "object_position": null,
       "order": null,
       "overflow": null,
       "padding": null,
       "right": null,
       "top": null,
       "visibility": null,
       "width": null
      }
     },
     "18c171194e8b41aeb5da84d0ef8807af": {
      "model_module": "@jupyter-widgets/controls",
      "model_module_version": "2.0.0",
      "model_name": "LabelModel",
      "state": {
       "_dom_classes": [],
       "_model_module": "@jupyter-widgets/controls",
       "_model_module_version": "2.0.0",
       "_model_name": "LabelModel",
       "_view_count": null,
       "_view_module": "@jupyter-widgets/controls",
       "_view_module_version": "2.0.0",
       "_view_name": "LabelView",
       "description": "",
       "description_allow_html": false,
       "layout": "IPY_MODEL_26dfd2add7404e8499c84f73a6c5f609",
       "placeholder": "​",
       "style": "IPY_MODEL_2a9b856eda674656abc707d9c2b0b8b9",
       "tabbable": null,
       "tooltip": null,
       "value": ""
      }
     },
     "26dfd2add7404e8499c84f73a6c5f609": {
      "model_module": "@jupyter-widgets/base",
      "model_module_version": "2.0.0",
      "model_name": "LayoutModel",
      "state": {
       "_model_module": "@jupyter-widgets/base",
       "_model_module_version": "2.0.0",
       "_model_name": "LayoutModel",
       "_view_count": null,
       "_view_module": "@jupyter-widgets/base",
       "_view_module_version": "2.0.0",
       "_view_name": "LayoutView",
       "align_content": null,
       "align_items": null,
       "align_self": null,
       "border_bottom": null,
       "border_left": null,
       "border_right": null,
       "border_top": null,
       "bottom": null,
       "display": null,
       "flex": null,
       "flex_flow": null,
       "grid_area": null,
       "grid_auto_columns": null,
       "grid_auto_flow": null,
       "grid_auto_rows": null,
       "grid_column": null,
       "grid_gap": null,
       "grid_row": null,
       "grid_template_areas": null,
       "grid_template_columns": null,
       "grid_template_rows": null,
       "height": null,
       "justify_content": null,
       "justify_items": null,
       "left": null,
       "margin": null,
       "max_height": null,
       "max_width": null,
       "min_height": null,
       "min_width": null,
       "object_fit": null,
       "object_position": null,
       "order": null,
       "overflow": null,
       "padding": null,
       "right": null,
       "top": null,
       "visibility": null,
       "width": null
      }
     },
     "27334fd301b747b5adc93ca58961098a": {
      "model_module": "@jupyter-widgets/controls",
      "model_module_version": "2.0.0",
      "model_name": "FloatProgressModel",
      "state": {
       "_dom_classes": [],
       "_model_module": "@jupyter-widgets/controls",
       "_model_module_version": "2.0.0",
       "_model_name": "FloatProgressModel",
       "_view_count": null,
       "_view_module": "@jupyter-widgets/controls",
       "_view_module_version": "2.0.0",
       "_view_name": "ProgressView",
       "bar_style": "",
       "description": "",
       "description_allow_html": false,
       "layout": "IPY_MODEL_a9ca6332750c463fac4e0ea8e4be82dc",
       "max": 1,
       "min": 0,
       "orientation": "horizontal",
       "style": "IPY_MODEL_6a905265d9cd4a4ea3313815ca3da496",
       "tabbable": null,
       "tooltip": null,
       "value": 0
      }
     },
     "299ddb590e03424293fb9977f438a2fa": {
      "model_module": "@jupyter-widgets/base",
      "model_module_version": "2.0.0",
      "model_name": "LayoutModel",
      "state": {
       "_model_module": "@jupyter-widgets/base",
       "_model_module_version": "2.0.0",
       "_model_name": "LayoutModel",
       "_view_count": null,
       "_view_module": "@jupyter-widgets/base",
       "_view_module_version": "2.0.0",
       "_view_name": "LayoutView",
       "align_content": null,
       "align_items": null,
       "align_self": null,
       "border_bottom": null,
       "border_left": null,
       "border_right": null,
       "border_top": null,
       "bottom": null,
       "display": null,
       "flex": null,
       "flex_flow": null,
       "grid_area": null,
       "grid_auto_columns": null,
       "grid_auto_flow": null,
       "grid_auto_rows": null,
       "grid_column": null,
       "grid_gap": null,
       "grid_row": null,
       "grid_template_areas": null,
       "grid_template_columns": null,
       "grid_template_rows": null,
       "height": null,
       "justify_content": null,
       "justify_items": null,
       "left": null,
       "margin": null,
       "max_height": null,
       "max_width": null,
       "min_height": null,
       "min_width": null,
       "object_fit": null,
       "object_position": null,
       "order": null,
       "overflow": null,
       "padding": null,
       "right": null,
       "top": null,
       "visibility": null,
       "width": null
      }
     },
     "2a9b856eda674656abc707d9c2b0b8b9": {
      "model_module": "@jupyter-widgets/controls",
      "model_module_version": "2.0.0",
      "model_name": "LabelStyleModel",
      "state": {
       "_model_module": "@jupyter-widgets/controls",
       "_model_module_version": "2.0.0",
       "_model_name": "LabelStyleModel",
       "_view_count": null,
       "_view_module": "@jupyter-widgets/base",
       "_view_module_version": "2.0.0",
       "_view_name": "StyleView",
       "background": null,
       "description_width": "",
       "font_family": null,
       "font_size": null,
       "font_style": null,
       "font_variant": null,
       "font_weight": null,
       "text_color": null,
       "text_decoration": null
      }
     },
     "2d32bbcc54a4422fafcc88136210fe02": {
      "model_module": "@jupyter-widgets/controls",
      "model_module_version": "2.0.0",
      "model_name": "HTMLModel",
      "state": {
       "_dom_classes": [],
       "_model_module": "@jupyter-widgets/controls",
       "_model_module_version": "2.0.0",
       "_model_name": "HTMLModel",
       "_view_count": null,
       "_view_module": "@jupyter-widgets/controls",
       "_view_module_version": "2.0.0",
       "_view_name": "HTMLView",
       "description": "",
       "description_allow_html": false,
       "layout": "IPY_MODEL_7df862999aba44be9bb90ce0f09442f0",
       "placeholder": "​",
       "style": "IPY_MODEL_c35be65098534b7f8fc9f63834b6fc26",
       "tabbable": null,
       "tooltip": null,
       "value": " 1362/1362 [00:02&lt;00:00, 380.77 examples/s]"
      }
     },
     "32fb16a8fb76404c8b15dcedc0a83a43": {
      "model_module": "@jupyter-widgets/base",
      "model_module_version": "2.0.0",
      "model_name": "LayoutModel",
      "state": {
       "_model_module": "@jupyter-widgets/base",
       "_model_module_version": "2.0.0",
       "_model_name": "LayoutModel",
       "_view_count": null,
       "_view_module": "@jupyter-widgets/base",
       "_view_module_version": "2.0.0",
       "_view_name": "LayoutView",
       "align_content": null,
       "align_items": null,
       "align_self": null,
       "border_bottom": null,
       "border_left": null,
       "border_right": null,
       "border_top": null,
       "bottom": null,
       "display": null,
       "flex": null,
       "flex_flow": null,
       "grid_area": null,
       "grid_auto_columns": null,
       "grid_auto_flow": null,
       "grid_auto_rows": null,
       "grid_column": null,
       "grid_gap": null,
       "grid_row": null,
       "grid_template_areas": null,
       "grid_template_columns": null,
       "grid_template_rows": null,
       "height": null,
       "justify_content": null,
       "justify_items": null,
       "left": null,
       "margin": null,
       "max_height": null,
       "max_width": null,
       "min_height": null,
       "min_width": null,
       "object_fit": null,
       "object_position": null,
       "order": null,
       "overflow": null,
       "padding": null,
       "right": null,
       "top": null,
       "visibility": null,
       "width": null
      }
     },
     "393234f6aaa74b71bcca72e2e489927a": {
      "model_module": "@jupyter-widgets/base",
      "model_module_version": "2.0.0",
      "model_name": "LayoutModel",
      "state": {
       "_model_module": "@jupyter-widgets/base",
       "_model_module_version": "2.0.0",
       "_model_name": "LayoutModel",
       "_view_count": null,
       "_view_module": "@jupyter-widgets/base",
       "_view_module_version": "2.0.0",
       "_view_name": "LayoutView",
       "align_content": null,
       "align_items": null,
       "align_self": null,
       "border_bottom": null,
       "border_left": null,
       "border_right": null,
       "border_top": null,
       "bottom": null,
       "display": null,
       "flex": null,
       "flex_flow": null,
       "grid_area": null,
       "grid_auto_columns": null,
       "grid_auto_flow": null,
       "grid_auto_rows": null,
       "grid_column": null,
       "grid_gap": null,
       "grid_row": null,
       "grid_template_areas": null,
       "grid_template_columns": null,
       "grid_template_rows": null,
       "height": null,
       "justify_content": null,
       "justify_items": null,
       "left": null,
       "margin": null,
       "max_height": null,
       "max_width": null,
       "min_height": null,
       "min_width": null,
       "object_fit": null,
       "object_position": null,
       "order": null,
       "overflow": null,
       "padding": null,
       "right": null,
       "top": null,
       "visibility": null,
       "width": null
      }
     },
     "3b08e07ff3244dc09b8974818e5ce9aa": {
      "model_module": "@jupyter-widgets/base",
      "model_module_version": "2.0.0",
      "model_name": "LayoutModel",
      "state": {
       "_model_module": "@jupyter-widgets/base",
       "_model_module_version": "2.0.0",
       "_model_name": "LayoutModel",
       "_view_count": null,
       "_view_module": "@jupyter-widgets/base",
       "_view_module_version": "2.0.0",
       "_view_name": "LayoutView",
       "align_content": null,
       "align_items": null,
       "align_self": null,
       "border_bottom": null,
       "border_left": null,
       "border_right": null,
       "border_top": null,
       "bottom": null,
       "display": null,
       "flex": null,
       "flex_flow": null,
       "grid_area": null,
       "grid_auto_columns": null,
       "grid_auto_flow": null,
       "grid_auto_rows": null,
       "grid_column": null,
       "grid_gap": null,
       "grid_row": null,
       "grid_template_areas": null,
       "grid_template_columns": null,
       "grid_template_rows": null,
       "height": null,
       "justify_content": null,
       "justify_items": null,
       "left": null,
       "margin": null,
       "max_height": null,
       "max_width": null,
       "min_height": null,
       "min_width": null,
       "object_fit": null,
       "object_position": null,
       "order": null,
       "overflow": null,
       "padding": null,
       "right": null,
       "top": null,
       "visibility": null,
       "width": null
      }
     },
     "40508ac9795d47c5a981fd1e5275a285": {
      "model_module": "@jupyter-widgets/controls",
      "model_module_version": "2.0.0",
      "model_name": "FloatProgressModel",
      "state": {
       "_dom_classes": [],
       "_model_module": "@jupyter-widgets/controls",
       "_model_module_version": "2.0.0",
       "_model_name": "FloatProgressModel",
       "_view_count": null,
       "_view_module": "@jupyter-widgets/controls",
       "_view_module_version": "2.0.0",
       "_view_name": "ProgressView",
       "bar_style": "success",
       "description": "",
       "description_allow_html": false,
       "layout": "IPY_MODEL_32fb16a8fb76404c8b15dcedc0a83a43",
       "max": 1362,
       "min": 0,
       "orientation": "horizontal",
       "style": "IPY_MODEL_9561c489decd4f21807cc14ed48be9d0",
       "tabbable": null,
       "tooltip": null,
       "value": 1362
      }
     },
     "419004d216cd464395fccf153d64840c": {
      "model_module": "@jupyter-widgets/controls",
      "model_module_version": "2.0.0",
      "model_name": "HTMLStyleModel",
      "state": {
       "_model_module": "@jupyter-widgets/controls",
       "_model_module_version": "2.0.0",
       "_model_name": "HTMLStyleModel",
       "_view_count": null,
       "_view_module": "@jupyter-widgets/base",
       "_view_module_version": "2.0.0",
       "_view_name": "StyleView",
       "background": null,
       "description_width": "",
       "font_size": null,
       "text_color": null
      }
     },
     "493008044e62470fba6d0dbf0971918b": {
      "model_module": "@jupyter-widgets/controls",
      "model_module_version": "2.0.0",
      "model_name": "FloatProgressModel",
      "state": {
       "_dom_classes": [],
       "_model_module": "@jupyter-widgets/controls",
       "_model_module_version": "2.0.0",
       "_model_name": "FloatProgressModel",
       "_view_count": null,
       "_view_module": "@jupyter-widgets/controls",
       "_view_module_version": "2.0.0",
       "_view_name": "ProgressView",
       "bar_style": "",
       "description": "",
       "description_allow_html": false,
       "layout": "IPY_MODEL_3b08e07ff3244dc09b8974818e5ce9aa",
       "max": 1,
       "min": 0,
       "orientation": "horizontal",
       "style": "IPY_MODEL_5abe3e6fb9c544b0a1dbeb4289d7beca",
       "tabbable": null,
       "tooltip": null,
       "value": 0
      }
     },
     "4bc101d2627e41e6a0f575498a70b36d": {
      "model_module": "@jupyter-widgets/controls",
      "model_module_version": "2.0.0",
      "model_name": "HTMLStyleModel",
      "state": {
       "_model_module": "@jupyter-widgets/controls",
       "_model_module_version": "2.0.0",
       "_model_name": "HTMLStyleModel",
       "_view_count": null,
       "_view_module": "@jupyter-widgets/base",
       "_view_module_version": "2.0.0",
       "_view_name": "StyleView",
       "background": null,
       "description_width": "",
       "font_size": null,
       "text_color": null
      }
     },
     "4d69878e2ddd49f3bd608d42f4d74a31": {
      "model_module": "@jupyter-widgets/base",
      "model_module_version": "2.0.0",
      "model_name": "LayoutModel",
      "state": {
       "_model_module": "@jupyter-widgets/base",
       "_model_module_version": "2.0.0",
       "_model_name": "LayoutModel",
       "_view_count": null,
       "_view_module": "@jupyter-widgets/base",
       "_view_module_version": "2.0.0",
       "_view_name": "LayoutView",
       "align_content": null,
       "align_items": null,
       "align_self": null,
       "border_bottom": null,
       "border_left": null,
       "border_right": null,
       "border_top": null,
       "bottom": null,
       "display": null,
       "flex": null,
       "flex_flow": null,
       "grid_area": null,
       "grid_auto_columns": null,
       "grid_auto_flow": null,
       "grid_auto_rows": null,
       "grid_column": null,
       "grid_gap": null,
       "grid_row": null,
       "grid_template_areas": null,
       "grid_template_columns": null,
       "grid_template_rows": null,
       "height": null,
       "justify_content": null,
       "justify_items": null,
       "left": null,
       "margin": null,
       "max_height": null,
       "max_width": null,
       "min_height": null,
       "min_width": null,
       "object_fit": null,
       "object_position": null,
       "order": null,
       "overflow": null,
       "padding": null,
       "right": null,
       "top": null,
       "visibility": null,
       "width": null
      }
     },
     "51e235aad37a4a3db0d32d3c58721c6d": {
      "model_module": "@jupyter-widgets/controls",
      "model_module_version": "2.0.0",
      "model_name": "FloatProgressModel",
      "state": {
       "_dom_classes": [],
       "_model_module": "@jupyter-widgets/controls",
       "_model_module_version": "2.0.0",
       "_model_name": "FloatProgressModel",
       "_view_count": null,
       "_view_module": "@jupyter-widgets/controls",
       "_view_module_version": "2.0.0",
       "_view_name": "ProgressView",
       "bar_style": "success",
       "description": "",
       "description_allow_html": false,
       "layout": "IPY_MODEL_a6bf0e3f743a4187af648d54900751c5",
       "max": 13241,
       "min": 0,
       "orientation": "horizontal",
       "style": "IPY_MODEL_7b58f61f60664ea0850f15f9e20129b6",
       "tabbable": null,
       "tooltip": null,
       "value": 13241
      }
     },
     "5abe3e6fb9c544b0a1dbeb4289d7beca": {
      "model_module": "@jupyter-widgets/controls",
      "model_module_version": "2.0.0",
      "model_name": "ProgressStyleModel",
      "state": {
       "_model_module": "@jupyter-widgets/controls",
       "_model_module_version": "2.0.0",
       "_model_name": "ProgressStyleModel",
       "_view_count": null,
       "_view_module": "@jupyter-widgets/base",
       "_view_module_version": "2.0.0",
       "_view_name": "StyleView",
       "bar_color": null,
       "description_width": ""
      }
     },
     "62a9b61c5e464c68a02bfb2e20d37f16": {
      "model_module": "@jupyter-widgets/controls",
      "model_module_version": "2.0.0",
      "model_name": "VBoxModel",
      "state": {
       "_dom_classes": [],
       "_model_module": "@jupyter-widgets/controls",
       "_model_module_version": "2.0.0",
       "_model_name": "VBoxModel",
       "_view_count": null,
       "_view_module": "@jupyter-widgets/controls",
       "_view_module_version": "2.0.0",
       "_view_name": "VBoxView",
       "box_style": "",
       "children": [
        "IPY_MODEL_18c171194e8b41aeb5da84d0ef8807af",
        "IPY_MODEL_27334fd301b747b5adc93ca58961098a"
       ],
       "layout": "IPY_MODEL_641e4c11a0874fc9b10c7d943b3b16ff",
       "tabbable": null,
       "tooltip": null
      }
     },
     "641e4c11a0874fc9b10c7d943b3b16ff": {
      "model_module": "@jupyter-widgets/base",
      "model_module_version": "2.0.0",
      "model_name": "LayoutModel",
      "state": {
       "_model_module": "@jupyter-widgets/base",
       "_model_module_version": "2.0.0",
       "_model_name": "LayoutModel",
       "_view_count": null,
       "_view_module": "@jupyter-widgets/base",
       "_view_module_version": "2.0.0",
       "_view_name": "LayoutView",
       "align_content": null,
       "align_items": null,
       "align_self": null,
       "border_bottom": null,
       "border_left": null,
       "border_right": null,
       "border_top": null,
       "bottom": null,
       "display": null,
       "flex": null,
       "flex_flow": null,
       "grid_area": null,
       "grid_auto_columns": null,
       "grid_auto_flow": null,
       "grid_auto_rows": null,
       "grid_column": null,
       "grid_gap": null,
       "grid_row": null,
       "grid_template_areas": null,
       "grid_template_columns": null,
       "grid_template_rows": null,
       "height": null,
       "justify_content": null,
       "justify_items": null,
       "left": null,
       "margin": null,
       "max_height": null,
       "max_width": null,
       "min_height": null,
       "min_width": null,
       "object_fit": null,
       "object_position": null,
       "order": null,
       "overflow": null,
       "padding": null,
       "right": null,
       "top": null,
       "visibility": null,
       "width": null
      }
     },
     "6a905265d9cd4a4ea3313815ca3da496": {
      "model_module": "@jupyter-widgets/controls",
      "model_module_version": "2.0.0",
      "model_name": "ProgressStyleModel",
      "state": {
       "_model_module": "@jupyter-widgets/controls",
       "_model_module_version": "2.0.0",
       "_model_name": "ProgressStyleModel",
       "_view_count": null,
       "_view_module": "@jupyter-widgets/base",
       "_view_module_version": "2.0.0",
       "_view_name": "StyleView",
       "bar_color": null,
       "description_width": ""
      }
     },
     "775f53eda73f4f0db29eaa0c6bb54c55": {
      "model_module": "@jupyter-widgets/controls",
      "model_module_version": "2.0.0",
      "model_name": "HTMLStyleModel",
      "state": {
       "_model_module": "@jupyter-widgets/controls",
       "_model_module_version": "2.0.0",
       "_model_name": "HTMLStyleModel",
       "_view_count": null,
       "_view_module": "@jupyter-widgets/base",
       "_view_module_version": "2.0.0",
       "_view_name": "StyleView",
       "background": null,
       "description_width": "",
       "font_size": null,
       "text_color": null
      }
     },
     "7b58f61f60664ea0850f15f9e20129b6": {
      "model_module": "@jupyter-widgets/controls",
      "model_module_version": "2.0.0",
      "model_name": "ProgressStyleModel",
      "state": {
       "_model_module": "@jupyter-widgets/controls",
       "_model_module_version": "2.0.0",
       "_model_name": "ProgressStyleModel",
       "_view_count": null,
       "_view_module": "@jupyter-widgets/base",
       "_view_module_version": "2.0.0",
       "_view_name": "StyleView",
       "bar_color": null,
       "description_width": ""
      }
     },
     "7df862999aba44be9bb90ce0f09442f0": {
      "model_module": "@jupyter-widgets/base",
      "model_module_version": "2.0.0",
      "model_name": "LayoutModel",
      "state": {
       "_model_module": "@jupyter-widgets/base",
       "_model_module_version": "2.0.0",
       "_model_name": "LayoutModel",
       "_view_count": null,
       "_view_module": "@jupyter-widgets/base",
       "_view_module_version": "2.0.0",
       "_view_name": "LayoutView",
       "align_content": null,
       "align_items": null,
       "align_self": null,
       "border_bottom": null,
       "border_left": null,
       "border_right": null,
       "border_top": null,
       "bottom": null,
       "display": null,
       "flex": null,
       "flex_flow": null,
       "grid_area": null,
       "grid_auto_columns": null,
       "grid_auto_flow": null,
       "grid_auto_rows": null,
       "grid_column": null,
       "grid_gap": null,
       "grid_row": null,
       "grid_template_areas": null,
       "grid_template_columns": null,
       "grid_template_rows": null,
       "height": null,
       "justify_content": null,
       "justify_items": null,
       "left": null,
       "margin": null,
       "max_height": null,
       "max_width": null,
       "min_height": null,
       "min_width": null,
       "object_fit": null,
       "object_position": null,
       "order": null,
       "overflow": null,
       "padding": null,
       "right": null,
       "top": null,
       "visibility": null,
       "width": null
      }
     },
     "8cc8ec6ce7944229a0ea111832177040": {
      "model_module": "@jupyter-widgets/base",
      "model_module_version": "2.0.0",
      "model_name": "LayoutModel",
      "state": {
       "_model_module": "@jupyter-widgets/base",
       "_model_module_version": "2.0.0",
       "_model_name": "LayoutModel",
       "_view_count": null,
       "_view_module": "@jupyter-widgets/base",
       "_view_module_version": "2.0.0",
       "_view_name": "LayoutView",
       "align_content": null,
       "align_items": null,
       "align_self": null,
       "border_bottom": null,
       "border_left": null,
       "border_right": null,
       "border_top": null,
       "bottom": null,
       "display": null,
       "flex": null,
       "flex_flow": null,
       "grid_area": null,
       "grid_auto_columns": null,
       "grid_auto_flow": null,
       "grid_auto_rows": null,
       "grid_column": null,
       "grid_gap": null,
       "grid_row": null,
       "grid_template_areas": null,
       "grid_template_columns": null,
       "grid_template_rows": null,
       "height": null,
       "justify_content": null,
       "justify_items": null,
       "left": null,
       "margin": null,
       "max_height": null,
       "max_width": null,
       "min_height": null,
       "min_width": null,
       "object_fit": null,
       "object_position": null,
       "order": null,
       "overflow": null,
       "padding": null,
       "right": null,
       "top": null,
       "visibility": null,
       "width": null
      }
     },
     "9561c489decd4f21807cc14ed48be9d0": {
      "model_module": "@jupyter-widgets/controls",
      "model_module_version": "2.0.0",
      "model_name": "ProgressStyleModel",
      "state": {
       "_model_module": "@jupyter-widgets/controls",
       "_model_module_version": "2.0.0",
       "_model_name": "ProgressStyleModel",
       "_view_count": null,
       "_view_module": "@jupyter-widgets/base",
       "_view_module_version": "2.0.0",
       "_view_name": "StyleView",
       "bar_color": null,
       "description_width": ""
      }
     },
     "9af3960f0e984266a2c71f1529a1a3a3": {
      "model_module": "@jupyter-widgets/controls",
      "model_module_version": "2.0.0",
      "model_name": "LabelStyleModel",
      "state": {
       "_model_module": "@jupyter-widgets/controls",
       "_model_module_version": "2.0.0",
       "_model_name": "LabelStyleModel",
       "_view_count": null,
       "_view_module": "@jupyter-widgets/base",
       "_view_module_version": "2.0.0",
       "_view_name": "StyleView",
       "background": null,
       "description_width": "",
       "font_family": null,
       "font_size": null,
       "font_style": null,
       "font_variant": null,
       "font_weight": null,
       "text_color": null,
       "text_decoration": null
      }
     },
     "a6bf0e3f743a4187af648d54900751c5": {
      "model_module": "@jupyter-widgets/base",
      "model_module_version": "2.0.0",
      "model_name": "LayoutModel",
      "state": {
       "_model_module": "@jupyter-widgets/base",
       "_model_module_version": "2.0.0",
       "_model_name": "LayoutModel",
       "_view_count": null,
       "_view_module": "@jupyter-widgets/base",
       "_view_module_version": "2.0.0",
       "_view_name": "LayoutView",
       "align_content": null,
       "align_items": null,
       "align_self": null,
       "border_bottom": null,
       "border_left": null,
       "border_right": null,
       "border_top": null,
       "bottom": null,
       "display": null,
       "flex": null,
       "flex_flow": null,
       "grid_area": null,
       "grid_auto_columns": null,
       "grid_auto_flow": null,
       "grid_auto_rows": null,
       "grid_column": null,
       "grid_gap": null,
       "grid_row": null,
       "grid_template_areas": null,
       "grid_template_columns": null,
       "grid_template_rows": null,
       "height": null,
       "justify_content": null,
       "justify_items": null,
       "left": null,
       "margin": null,
       "max_height": null,
       "max_width": null,
       "min_height": null,
       "min_width": null,
       "object_fit": null,
       "object_position": null,
       "order": null,
       "overflow": null,
       "padding": null,
       "right": null,
       "top": null,
       "visibility": null,
       "width": null
      }
     },
     "a7f9fa4a0d67417085fe425aea833a32": {
      "model_module": "@jupyter-widgets/controls",
      "model_module_version": "2.0.0",
      "model_name": "LabelModel",
      "state": {
       "_dom_classes": [],
       "_model_module": "@jupyter-widgets/controls",
       "_model_module_version": "2.0.0",
       "_model_name": "LabelModel",
       "_view_count": null,
       "_view_module": "@jupyter-widgets/controls",
       "_view_module_version": "2.0.0",
       "_view_name": "LabelView",
       "description": "",
       "description_allow_html": false,
       "layout": "IPY_MODEL_b90437eacb0945009589aed2a36a8d6c",
       "placeholder": "​",
       "style": "IPY_MODEL_9af3960f0e984266a2c71f1529a1a3a3",
       "tabbable": null,
       "tooltip": null,
       "value": ""
      }
     },
     "a9ca6332750c463fac4e0ea8e4be82dc": {
      "model_module": "@jupyter-widgets/base",
      "model_module_version": "2.0.0",
      "model_name": "LayoutModel",
      "state": {
       "_model_module": "@jupyter-widgets/base",
       "_model_module_version": "2.0.0",
       "_model_name": "LayoutModel",
       "_view_count": null,
       "_view_module": "@jupyter-widgets/base",
       "_view_module_version": "2.0.0",
       "_view_name": "LayoutView",
       "align_content": null,
       "align_items": null,
       "align_self": null,
       "border_bottom": null,
       "border_left": null,
       "border_right": null,
       "border_top": null,
       "bottom": null,
       "display": null,
       "flex": null,
       "flex_flow": null,
       "grid_area": null,
       "grid_auto_columns": null,
       "grid_auto_flow": null,
       "grid_auto_rows": null,
       "grid_column": null,
       "grid_gap": null,
       "grid_row": null,
       "grid_template_areas": null,
       "grid_template_columns": null,
       "grid_template_rows": null,
       "height": null,
       "justify_content": null,
       "justify_items": null,
       "left": null,
       "margin": null,
       "max_height": null,
       "max_width": null,
       "min_height": null,
       "min_width": null,
       "object_fit": null,
       "object_position": null,
       "order": null,
       "overflow": null,
       "padding": null,
       "right": null,
       "top": null,
       "visibility": null,
       "width": null
      }
     },
     "ae62eeea9013427594da5915ed219d16": {
      "model_module": "@jupyter-widgets/controls",
      "model_module_version": "2.0.0",
      "model_name": "HTMLModel",
      "state": {
       "_dom_classes": [],
       "_model_module": "@jupyter-widgets/controls",
       "_model_module_version": "2.0.0",
       "_model_name": "HTMLModel",
       "_view_count": null,
       "_view_module": "@jupyter-widgets/controls",
       "_view_module_version": "2.0.0",
       "_view_name": "HTMLView",
       "description": "",
       "description_allow_html": false,
       "layout": "IPY_MODEL_157850fe9c0a4ba8b647dcd04d05f464",
       "placeholder": "​",
       "style": "IPY_MODEL_419004d216cd464395fccf153d64840c",
       "tabbable": null,
       "tooltip": null,
       "value": "Map (num_proc=3): 100%"
      }
     },
     "b5e658c9c9f54116bbbe2bfa03217e8b": {
      "model_module": "@jupyter-widgets/controls",
      "model_module_version": "2.0.0",
      "model_name": "HTMLModel",
      "state": {
       "_dom_classes": [],
       "_model_module": "@jupyter-widgets/controls",
       "_model_module_version": "2.0.0",
       "_model_name": "HTMLModel",
       "_view_count": null,
       "_view_module": "@jupyter-widgets/controls",
       "_view_module_version": "2.0.0",
       "_view_name": "HTMLView",
       "description": "",
       "description_allow_html": false,
       "layout": "IPY_MODEL_299ddb590e03424293fb9977f438a2fa",
       "placeholder": "​",
       "style": "IPY_MODEL_4bc101d2627e41e6a0f575498a70b36d",
       "tabbable": null,
       "tooltip": null,
       "value": "Filter (num_proc=3): 100%"
      }
     },
     "b90437eacb0945009589aed2a36a8d6c": {
      "model_module": "@jupyter-widgets/base",
      "model_module_version": "2.0.0",
      "model_name": "LayoutModel",
      "state": {
       "_model_module": "@jupyter-widgets/base",
       "_model_module_version": "2.0.0",
       "_model_name": "LayoutModel",
       "_view_count": null,
       "_view_module": "@jupyter-widgets/base",
       "_view_module_version": "2.0.0",
       "_view_name": "LayoutView",
       "align_content": null,
       "align_items": null,
       "align_self": null,
       "border_bottom": null,
       "border_left": null,
       "border_right": null,
       "border_top": null,
       "bottom": null,
       "display": null,
       "flex": null,
       "flex_flow": null,
       "grid_area": null,
       "grid_auto_columns": null,
       "grid_auto_flow": null,
       "grid_auto_rows": null,
       "grid_column": null,
       "grid_gap": null,
       "grid_row": null,
       "grid_template_areas": null,
       "grid_template_columns": null,
       "grid_template_rows": null,
       "height": null,
       "justify_content": null,
       "justify_items": null,
       "left": null,
       "margin": null,
       "max_height": null,
       "max_width": null,
       "min_height": null,
       "min_width": null,
       "object_fit": null,
       "object_position": null,
       "order": null,
       "overflow": null,
       "padding": null,
       "right": null,
       "top": null,
       "visibility": null,
       "width": null
      }
     },
     "c35be65098534b7f8fc9f63834b6fc26": {
      "model_module": "@jupyter-widgets/controls",
      "model_module_version": "2.0.0",
      "model_name": "HTMLStyleModel",
      "state": {
       "_model_module": "@jupyter-widgets/controls",
       "_model_module_version": "2.0.0",
       "_model_name": "HTMLStyleModel",
       "_view_count": null,
       "_view_module": "@jupyter-widgets/base",
       "_view_module_version": "2.0.0",
       "_view_name": "StyleView",
       "background": null,
       "description_width": "",
       "font_size": null,
       "text_color": null
      }
     },
     "c527ddce2a0b41adae7836f4135a9af8": {
      "model_module": "@jupyter-widgets/controls",
      "model_module_version": "2.0.0",
      "model_name": "HBoxModel",
      "state": {
       "_dom_classes": [],
       "_model_module": "@jupyter-widgets/controls",
       "_model_module_version": "2.0.0",
       "_model_name": "HBoxModel",
       "_view_count": null,
       "_view_module": "@jupyter-widgets/controls",
       "_view_module_version": "2.0.0",
       "_view_name": "HBoxView",
       "box_style": "",
       "children": [
        "IPY_MODEL_b5e658c9c9f54116bbbe2bfa03217e8b",
        "IPY_MODEL_51e235aad37a4a3db0d32d3c58721c6d",
        "IPY_MODEL_024be1ecc3554bd48c75330ccc1be872"
       ],
       "layout": "IPY_MODEL_8cc8ec6ce7944229a0ea111832177040",
       "tabbable": null,
       "tooltip": null
      }
     },
     "e921d42a40664f869631f31940a0e242": {
      "model_module": "@jupyter-widgets/controls",
      "model_module_version": "2.0.0",
      "model_name": "HBoxModel",
      "state": {
       "_dom_classes": [],
       "_model_module": "@jupyter-widgets/controls",
       "_model_module_version": "2.0.0",
       "_model_name": "HBoxModel",
       "_view_count": null,
       "_view_module": "@jupyter-widgets/controls",
       "_view_module_version": "2.0.0",
       "_view_name": "HBoxView",
       "box_style": "",
       "children": [
        "IPY_MODEL_ae62eeea9013427594da5915ed219d16",
        "IPY_MODEL_40508ac9795d47c5a981fd1e5275a285",
        "IPY_MODEL_2d32bbcc54a4422fafcc88136210fe02"
       ],
       "layout": "IPY_MODEL_4d69878e2ddd49f3bd608d42f4d74a31",
       "tabbable": null,
       "tooltip": null
      }
     },
     "f1a43f18467b46989f25658b024336d1": {
      "model_module": "@jupyter-widgets/base",
      "model_module_version": "2.0.0",
      "model_name": "LayoutModel",
      "state": {
       "_model_module": "@jupyter-widgets/base",
       "_model_module_version": "2.0.0",
       "_model_name": "LayoutModel",
       "_view_count": null,
       "_view_module": "@jupyter-widgets/base",
       "_view_module_version": "2.0.0",
       "_view_name": "LayoutView",
       "align_content": null,
       "align_items": null,
       "align_self": null,
       "border_bottom": null,
       "border_left": null,
       "border_right": null,
       "border_top": null,
       "bottom": null,
       "display": null,
       "flex": null,
       "flex_flow": null,
       "grid_area": null,
       "grid_auto_columns": null,
       "grid_auto_flow": null,
       "grid_auto_rows": null,
       "grid_column": null,
       "grid_gap": null,
       "grid_row": null,
       "grid_template_areas": null,
       "grid_template_columns": null,
       "grid_template_rows": null,
       "height": null,
       "justify_content": null,
       "justify_items": null,
       "left": null,
       "margin": null,
       "max_height": null,
       "max_width": null,
       "min_height": null,
       "min_width": null,
       "object_fit": null,
       "object_position": null,
       "order": null,
       "overflow": null,
       "padding": null,
       "right": null,
       "top": null,
       "visibility": null,
       "width": null
      }
     }
    },
    "version_major": 2,
    "version_minor": 0
   }
  }
 },
 "nbformat": 4,
 "nbformat_minor": 4
}
