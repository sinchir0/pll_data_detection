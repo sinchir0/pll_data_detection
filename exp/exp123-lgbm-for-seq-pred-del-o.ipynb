{
 "cells": [
  {
   "cell_type": "markdown",
   "id": "d40f526f-d9ec-4ed6-8517-762305fd654a",
   "metadata": {},
   "source": [
    "# 目的\n",
    "LightGBMによる特徴量を追加する、Spacy TokenでのCVを計算する。"
   ]
  },
  {
   "cell_type": "code",
   "execution_count": 3,
   "id": "601e12d8",
   "metadata": {
    "papermill": {
     "duration": 0.030372,
     "end_time": "2024-04-14T06:27:04.101792",
     "exception": false,
     "start_time": "2024-04-14T06:27:04.071420",
     "status": "completed"
    },
    "tags": []
   },
   "outputs": [],
   "source": [
    "SEED = 42"
   ]
  },
  {
   "cell_type": "code",
   "execution_count": 4,
   "id": "cd9f1d63",
   "metadata": {
    "papermill": {
     "duration": 0.024146,
     "end_time": "2024-04-14T06:27:04.139002",
     "exception": false,
     "start_time": "2024-04-14T06:27:04.114856",
     "status": "completed"
    },
    "tags": []
   },
   "outputs": [],
   "source": [
    "id2label = {\n",
    "    0: \"O\",\n",
    "    1: \"B-NAME_STUDENT\",\n",
    "    2: \"I-NAME_STUDENT\",\n",
    "    3: \"B-EMAIL\",\n",
    "    4: \"I-EMAIL\",\n",
    "    5: \"B-USERNAME\",\n",
    "    6: \"I-USERNAME\",\n",
    "    7: \"B-ID_NUM\",\n",
    "    8: \"I-ID_NUM\",\n",
    "    9: \"B-PHONE_NUM\",\n",
    "    10: \"I-PHONE_NUM\",\n",
    "    11: \"B-URL_PERSONAL\",\n",
    "    12: \"I-URL_PERSONAL\",\n",
    "    13: \"B-STREET_ADDRESS\",\n",
    "    14: \"I-STREET_ADDRESS\",\n",
    "}"
   ]
  },
  {
   "cell_type": "code",
   "execution_count": 3,
   "id": "9c072c5d",
   "metadata": {
    "_cell_guid": "b1076dfc-b9ad-4769-8c92-a6c4dae69d19",
    "_uuid": "8f2839f25d086af736a60e9eeb907d3b93b6e0e5",
    "execution": {
     "iopub.execute_input": "2024-04-14T06:27:04.167035Z",
     "iopub.status.busy": "2024-04-14T06:27:04.166275Z",
     "iopub.status.idle": "2024-04-14T06:27:09.615050Z",
     "shell.execute_reply": "2024-04-14T06:27:09.613514Z"
    },
    "papermill": {
     "duration": 5.468012,
     "end_time": "2024-04-14T06:27:09.619737",
     "exception": false,
     "start_time": "2024-04-14T06:27:04.151725",
     "status": "completed"
    },
    "tags": []
   },
   "outputs": [],
   "source": [
    "import pandas as pd\n",
    "import numpy as np\n",
    "import lightgbm as lgb\n",
    "from sklearn.model_selection import StratifiedGroupKFold\n",
    "\n",
    "from datasets import load_from_disk\n",
    "from datasets.arrow_dataset import Dataset"
   ]
  },
  {
   "cell_type": "code",
   "execution_count": 4,
   "id": "f90a9992",
   "metadata": {
    "execution": {
     "iopub.execute_input": "2024-04-14T06:27:09.649395Z",
     "iopub.status.busy": "2024-04-14T06:27:09.648621Z",
     "iopub.status.idle": "2024-04-14T06:27:10.396539Z",
     "shell.execute_reply": "2024-04-14T06:27:10.395203Z"
    },
    "papermill": {
     "duration": 0.765808,
     "end_time": "2024-04-14T06:27:10.399689",
     "exception": false,
     "start_time": "2024-04-14T06:27:09.633881",
     "status": "completed"
    },
    "tags": []
   },
   "outputs": [
    {
     "data": {
      "application/vnd.jupyter.widget-view+json": {
       "model_id": "d093f6c9a6754a74b3cd0164e564d490",
       "version_major": 2,
       "version_minor": 0
      },
      "text/plain": [
       "Saving the dataset (0/1 shards):   0%|          | 0/473 [00:00<?, ? examples/s]"
      ]
     },
     "metadata": {},
     "output_type": "display_data"
    },
    {
     "data": {
      "text/plain": [
       "Dataset({\n",
       "    features: ['full_text', 'trailing_whitespace', 'provided_labels', 'tokens', 'document', 'flag', 'input_ids', 'token_type_ids', 'attention_mask', 'offset_mapping', 'labels', 'length', 'token_map'],\n",
       "    num_rows: 473\n",
       "})"
      ]
     },
     "execution_count": 4,
     "metadata": {},
     "output_type": "execute_result"
    }
   ],
   "source": [
    "valid_dataset = load_from_disk(\"/kaggle/input/pii-valid-dataset\")\n",
    "\n",
    "# 直接読んでしまうと、\n",
    "# OSError: [Errno 30] Read-only file system: '/kaggle/input/e083-original-data-mpware-deberta-v3-large/valid_dataset/tmpu2p70cd5'\n",
    "# が発生する\n",
    "valid_dataset.save_to_disk(\"valid_dataset\")\n",
    "valid_dataset = load_from_disk(\"valid_dataset\")\n",
    "\n",
    "valid_dataset"
   ]
  },
  {
   "cell_type": "code",
   "execution_count": 5,
   "id": "cdce9b75",
   "metadata": {
    "execution": {
     "iopub.execute_input": "2024-04-14T06:27:10.428337Z",
     "iopub.status.busy": "2024-04-14T06:27:10.427861Z",
     "iopub.status.idle": "2024-04-14T06:27:13.476325Z",
     "shell.execute_reply": "2024-04-14T06:27:13.474873Z"
    },
    "papermill": {
     "duration": 3.066338,
     "end_time": "2024-04-14T06:27:13.479506",
     "exception": false,
     "start_time": "2024-04-14T06:27:10.413168",
     "status": "completed"
    },
    "tags": []
   },
   "outputs": [],
   "source": [
    "# valid　dataを読み込む\n",
    "with open(\"/kaggle/input/make-valid-data/valid-pred-e072-fix-tokenize-deberta-v3-large.npy\", \"rb\") as f:\n",
    "    valid_e072 = np.load(f)\n",
    "\n",
    "with open(\"/kaggle/input/make-valid-data/valid-pred-e078-public-high-deberta-v3-large-retry2.npy\", \"rb\") as f:\n",
    "    valid_e078 = np.load(f)\n",
    "    \n",
    "with open(\"/kaggle/input/make-valid-data/valid-pred-e083-original-data-mpware-deberta-v3-large.npy\", \"rb\") as f:\n",
    "    valid_e083 = np.load(f)"
   ]
  },
  {
   "cell_type": "code",
   "execution_count": 6,
   "id": "d859e4bf",
   "metadata": {
    "execution": {
     "iopub.execute_input": "2024-04-14T06:27:13.508627Z",
     "iopub.status.busy": "2024-04-14T06:27:13.508189Z",
     "iopub.status.idle": "2024-04-14T06:27:13.674905Z",
     "shell.execute_reply": "2024-04-14T06:27:13.673494Z"
    },
    "papermill": {
     "duration": 0.184543,
     "end_time": "2024-04-14T06:27:13.678345",
     "exception": false,
     "start_time": "2024-04-14T06:27:13.493802",
     "status": "completed"
    },
    "tags": []
   },
   "outputs": [],
   "source": [
    "# subしている手法でensembleする。今回はaverageとする\n",
    "weights = [0.964, 0.941, 0.960] # average\n",
    "weights_probs = [w / sum(weights) for w in weights]\n",
    "\n",
    "valid_preds = weights_probs[0] * valid_e072 \\\n",
    "            + weights_probs[1] * valid_e078 \\\n",
    "            + weights_probs[2] * valid_e083"
   ]
  },
  {
   "cell_type": "code",
   "execution_count": 7,
   "id": "4667f5d9",
   "metadata": {
    "execution": {
     "iopub.execute_input": "2024-04-14T06:27:13.708879Z",
     "iopub.status.busy": "2024-04-14T06:27:13.707623Z",
     "iopub.status.idle": "2024-04-14T06:27:13.715105Z",
     "shell.execute_reply": "2024-04-14T06:27:13.713704Z"
    },
    "papermill": {
     "duration": 0.025741,
     "end_time": "2024-04-14T06:27:13.718237",
     "exception": false,
     "start_time": "2024-04-14T06:27:13.692496",
     "status": "completed"
    },
    "tags": []
   },
   "outputs": [],
   "source": [
    "TAG_NAMES = [\n",
    "    \"O\",\n",
    "    \"B-NAME_STUDENT\",\n",
    "    \"I-NAME_STUDENT\",\n",
    "    \"B-EMAIL\",\n",
    "    \"I-EMAIL\",\n",
    "    \"B-USERNAME\",\n",
    "    \"I-USERNAME\",\n",
    "    \"B-ID_NUM\",\n",
    "    \"I-ID_NUM\",\n",
    "    \"B-PHONE_NUM\",\n",
    "    \"I-PHONE_NUM\",\n",
    "    \"B-URL_PERSONAL\",\n",
    "    \"I-URL_PERSONAL\",\n",
    "    \"B-STREET_ADDRESS\",\n",
    "    \"I-STREET_ADDRESS\",\n",
    "]"
   ]
  },
  {
   "cell_type": "code",
   "execution_count": 8,
   "id": "f11bb592",
   "metadata": {
    "execution": {
     "iopub.execute_input": "2024-04-14T06:27:13.748713Z",
     "iopub.status.busy": "2024-04-14T06:27:13.747741Z",
     "iopub.status.idle": "2024-04-14T06:27:23.458741Z",
     "shell.execute_reply": "2024-04-14T06:27:23.457437Z"
    },
    "papermill": {
     "duration": 9.729829,
     "end_time": "2024-04-14T06:27:23.461786",
     "exception": false,
     "start_time": "2024-04-14T06:27:13.731957",
     "status": "completed"
    },
    "tags": []
   },
   "outputs": [],
   "source": [
    "def preds_to_df(preds: list[np.ndarray]) -> list[pd.DataFrame]:\n",
    "    \"\"\"各テキストごとに、pd.DataFrameへ変換する\"\"\"\n",
    "    return [\n",
    "        pd.DataFrame(\n",
    "            pred, \n",
    "            columns=TAG_NAMES\n",
    "        )\n",
    "        for pred\n",
    "        in preds\n",
    "    ]\n",
    "\n",
    "class MakeShiftFeat:\n",
    "    def __init__(self, org_df: pd.DataFrame) -> None:\n",
    "        self.org_df = org_df.copy()\n",
    "    def make_shift_feat(self, df: pd.DataFrame, shift_num: int) -> pd.DataFrame:\n",
    "        if shift_num > 0:\n",
    "            df.loc[:,[f\"prev_{shift_num}_{col}\" for col in TAG_NAMES]] = self.org_df.shift(shift_num).values\n",
    "        elif shift_num < 0:\n",
    "            df.loc[:,[f\"future_{abs(shift_num)}_{col}\" for col in TAG_NAMES]] = self.org_df.shift(shift_num).values\n",
    "        else:\n",
    "            raise Exception(\"0に意味はありません。\")\n",
    "        return df\n",
    "\n",
    "def make_feature_df_per_text(\n",
    "    input_len: int,\n",
    "    pred_df: pd.DataFrame,\n",
    "    document: str | None,\n",
    "    labels: list[int] | None\n",
    ") -> pd.DataFrame:\n",
    "    \"\"\"テキストごとに特徴量の生成を行う\n",
    "    NOTE: テキストの　DataFrameごとに生成をしないと、テキストをまたぐ際に別のテキストの情報を使ってしまうため注意\n",
    "    \"\"\"\n",
    "    \n",
    "    # 与えられたinputの長さ以上はpaddingを行なっているため、捨てる\n",
    "    # NOTE: 特徴量エンジニアリングよりも先にやらないと、paddingの値を特徴量として持ってしまう\n",
    "    pred_df = pred_df.iloc[:input_len, :]\n",
    "    \n",
    "    # 特徴量エンジニアリングを行う。 # \n",
    "    MSF = MakeShiftFeat(pred_df)\n",
    "    \n",
    "    # 自分より前の推論確率を加える\n",
    "    pred_df = MSF.make_shift_feat(pred_df, 1)\n",
    "    # pred_df = MSF.make_shift_feat(pred_df, 2)\n",
    "    # pred_df = MSF.make_shift_feat(pred_df, 3)\n",
    "    \n",
    "    # 自分より後の推論確率を加える\n",
    "    pred_df = MSF.make_shift_feat(pred_df, -1)\n",
    "    # pred_df = MSF.make_shift_feat(pred_df, -2)\n",
    "    # pred_df = MSF.make_shift_feat(pred_df, -3)\n",
    "    \n",
    "    if labels:\n",
    "        # 正解のlabel列を加える\n",
    "        pred_df.loc[:, [\"labels\"]] = labels\n",
    "    \n",
    "    if document:\n",
    "        # documentを加える\n",
    "        pred_df.loc[:, [\"document\"]] = document\n",
    "    \n",
    "    return pred_df\n",
    "\n",
    "def make_valid_feature_df(\n",
    "    valid_dataset: Dataset,\n",
    "    valid_pred_dfs: list[pd.DataFrame]\n",
    ") -> pd.DataFrame:\n",
    "    return pd.concat(\n",
    "        [\n",
    "            make_feature_df_per_text(len(input_ids), valid_pred_df, document, labels)\n",
    "            for document, labels, input_ids, valid_pred_df\n",
    "            in zip(\n",
    "                valid_dataset[\"document\"],\n",
    "                valid_dataset[\"labels\"],\n",
    "                valid_dataset[\"input_ids\"],\n",
    "                valid_pred_dfs\n",
    "            )\n",
    "        ]\n",
    "    ).reset_index(drop=True)\n",
    "\n",
    "valid_pred_dfs = preds_to_df(valid_preds)\n",
    "valid_feature_df = make_valid_feature_df(valid_dataset, valid_pred_dfs)"
   ]
  },
  {
   "cell_type": "code",
   "execution_count": 9,
   "id": "616c469f",
   "metadata": {
    "execution": {
     "iopub.execute_input": "2024-04-14T06:27:23.491640Z",
     "iopub.status.busy": "2024-04-14T06:27:23.490641Z",
     "iopub.status.idle": "2024-04-14T06:27:23.543053Z",
     "shell.execute_reply": "2024-04-14T06:27:23.541681Z"
    },
    "papermill": {
     "duration": 0.071033,
     "end_time": "2024-04-14T06:27:23.546159",
     "exception": false,
     "start_time": "2024-04-14T06:27:23.475126",
     "status": "completed"
    },
    "tags": []
   },
   "outputs": [],
   "source": [
    "# 確認\n",
    "assert valid_feature_df.iloc[1][\"prev_1_O\"] == valid_feature_df.iloc[0][\"O\"] # prev_1_Oは1つ前のOの値\n",
    "assert valid_feature_df.iloc[0][\"future_1_O\"] == valid_feature_df.iloc[1][\"O\"] # future_1_Oは1つ後のOの値\n",
    "assert np.isnan(valid_feature_df.iloc[0][\"prev_1_O\"]) # prev_1_Oは最初がnan\n",
    "assert np.isnan(valid_feature_df.iloc[1016][\"future_1_O\"]) # future_1_Oは最後がnan\n",
    "\n",
    "assert valid_feature_df[\"document\"].nunique() == 473 # documentのunique数はvalid_datasetと同じはず"
   ]
  },
  {
   "cell_type": "code",
   "execution_count": 10,
   "id": "8b53e5ec",
   "metadata": {
    "execution": {
     "iopub.execute_input": "2024-04-14T06:27:23.574445Z",
     "iopub.status.busy": "2024-04-14T06:27:23.573987Z",
     "iopub.status.idle": "2024-04-14T06:27:23.661068Z",
     "shell.execute_reply": "2024-04-14T06:27:23.659937Z"
    },
    "papermill": {
     "duration": 0.104635,
     "end_time": "2024-04-14T06:27:23.663874",
     "exception": false,
     "start_time": "2024-04-14T06:27:23.559239",
     "status": "completed"
    },
    "tags": []
   },
   "outputs": [],
   "source": [
    "# パターンを付与する\n",
    "import json\n",
    "with open(\"/kaggle/input/pii-document-pattern-dict-json/document_pattern_dict.json\", \"rb\") as f:\n",
    "    document_pattern_dict = json.load(f)\n",
    "    \n",
    "valid_feature_df[\"pattern\"] = valid_feature_df[\"document\"].map(document_pattern_dict)"
   ]
  },
  {
   "cell_type": "code",
   "execution_count": 11,
   "id": "86871d05",
   "metadata": {
    "execution": {
     "iopub.execute_input": "2024-04-14T06:27:23.694592Z",
     "iopub.status.busy": "2024-04-14T06:27:23.694076Z",
     "iopub.status.idle": "2024-04-14T06:27:26.362631Z",
     "shell.execute_reply": "2024-04-14T06:27:26.361095Z"
    },
    "papermill": {
     "duration": 2.687342,
     "end_time": "2024-04-14T06:27:26.365840",
     "exception": false,
     "start_time": "2024-04-14T06:27:23.678498",
     "status": "completed"
    },
    "tags": []
   },
   "outputs": [],
   "source": [
    "# train, validを半分に分ける\n",
    "sgkf = StratifiedGroupKFold(n_splits=4, shuffle=False)\n",
    "\n",
    "group = valid_feature_df[\"pattern\"]\n",
    "\n",
    "for i, (train_index, test_index) in enumerate(sgkf.split(\n",
    "        valid_feature_df,\n",
    "        valid_feature_df[\"pattern\"],\n",
    "        valid_feature_df[\"document\"]\n",
    "        )\n",
    "    ):\n",
    "    train_df = valid_feature_df.iloc[train_index]\n",
    "    valid_df = valid_feature_df.iloc[test_index]\n",
    "    break"
   ]
  },
  {
   "cell_type": "code",
   "execution_count": 12,
   "id": "d33b9938",
   "metadata": {
    "execution": {
     "iopub.execute_input": "2024-04-14T06:27:26.394388Z",
     "iopub.status.busy": "2024-04-14T06:27:26.393431Z",
     "iopub.status.idle": "2024-04-14T06:27:26.410372Z",
     "shell.execute_reply": "2024-04-14T06:27:26.409244Z"
    },
    "papermill": {
     "duration": 0.033795,
     "end_time": "2024-04-14T06:27:26.412976",
     "exception": false,
     "start_time": "2024-04-14T06:27:26.379181",
     "status": "completed"
    },
    "tags": []
   },
   "outputs": [
    {
     "data": {
      "text/plain": [
       "labels\n",
       "0     300945\n",
       "11       788\n",
       "1        701\n",
       "2        525\n",
       "7        142\n",
       "3         76\n",
       "10        24\n",
       "14        12\n",
       "5          7\n",
       "9          3\n",
       "8          3\n",
       "13         1\n",
       "Name: count, dtype: int64"
      ]
     },
     "execution_count": 12,
     "metadata": {},
     "output_type": "execute_result"
    }
   ],
   "source": [
    "train_df[\"labels\"].value_counts()"
   ]
  },
  {
   "cell_type": "code",
   "execution_count": 13,
   "id": "e14f847b",
   "metadata": {
    "execution": {
     "iopub.execute_input": "2024-04-14T06:27:26.440832Z",
     "iopub.status.busy": "2024-04-14T06:27:26.440380Z",
     "iopub.status.idle": "2024-04-14T06:27:26.520446Z",
     "shell.execute_reply": "2024-04-14T06:27:26.519391Z"
    },
    "papermill": {
     "duration": 0.097368,
     "end_time": "2024-04-14T06:27:26.523201",
     "exception": false,
     "start_time": "2024-04-14T06:27:26.425833",
     "status": "completed"
    },
    "tags": []
   },
   "outputs": [],
   "source": [
    "# Oのデータを削減する\n",
    "wo_o_index = train_df[train_df[\"labels\"] != 0].index\n",
    "o_index = train_df[train_df[\"labels\"] == 0].sample(500).index\n",
    "\n",
    "use_index = wo_o_index.append(o_index)\n",
    "\n",
    "train_df = train_df[train_df.index.isin(use_index)]"
   ]
  },
  {
   "cell_type": "code",
   "execution_count": 14,
   "id": "42fc8fc6",
   "metadata": {
    "execution": {
     "iopub.execute_input": "2024-04-14T06:27:26.551667Z",
     "iopub.status.busy": "2024-04-14T06:27:26.550571Z",
     "iopub.status.idle": "2024-04-14T06:27:26.561769Z",
     "shell.execute_reply": "2024-04-14T06:27:26.560560Z"
    },
    "papermill": {
     "duration": 0.028109,
     "end_time": "2024-04-14T06:27:26.564413",
     "exception": false,
     "start_time": "2024-04-14T06:27:26.536304",
     "status": "completed"
    },
    "tags": []
   },
   "outputs": [
    {
     "data": {
      "text/plain": [
       "labels\n",
       "B-URL_PERSONAL      788\n",
       "B-NAME_STUDENT      701\n",
       "I-NAME_STUDENT      525\n",
       "O                   500\n",
       "B-ID_NUM            142\n",
       "B-EMAIL              76\n",
       "I-PHONE_NUM          24\n",
       "I-STREET_ADDRESS     12\n",
       "B-USERNAME            7\n",
       "B-PHONE_NUM           3\n",
       "I-ID_NUM              3\n",
       "B-STREET_ADDRESS      1\n",
       "Name: count, dtype: int64"
      ]
     },
     "execution_count": 14,
     "metadata": {},
     "output_type": "execute_result"
    }
   ],
   "source": [
    "train_df[\"labels\"].map(id2label).value_counts()"
   ]
  },
  {
   "cell_type": "code",
   "execution_count": 15,
   "id": "52083b4a",
   "metadata": {
    "execution": {
     "iopub.execute_input": "2024-04-14T06:27:26.593719Z",
     "iopub.status.busy": "2024-04-14T06:27:26.593206Z",
     "iopub.status.idle": "2024-04-14T06:27:26.620150Z",
     "shell.execute_reply": "2024-04-14T06:27:26.618960Z"
    },
    "papermill": {
     "duration": 0.04484,
     "end_time": "2024-04-14T06:27:26.623047",
     "exception": false,
     "start_time": "2024-04-14T06:27:26.578207",
     "status": "completed"
    },
    "tags": []
   },
   "outputs": [
    {
     "data": {
      "text/plain": [
       "labels\n",
       "O                 100824\n",
       "B-URL_PERSONAL       259\n",
       "B-NAME_STUDENT       230\n",
       "I-NAME_STUDENT       200\n",
       "B-ID_NUM              91\n",
       "B-EMAIL               48\n",
       "I-URL_PERSONAL         7\n",
       "Name: count, dtype: int64"
      ]
     },
     "execution_count": 15,
     "metadata": {},
     "output_type": "execute_result"
    }
   ],
   "source": [
    "valid_df[\"labels\"].map(id2label).value_counts()"
   ]
  },
  {
   "cell_type": "code",
   "execution_count": 16,
   "id": "1f7213f1",
   "metadata": {
    "execution": {
     "iopub.execute_input": "2024-04-14T06:27:26.651596Z",
     "iopub.status.busy": "2024-04-14T06:27:26.651144Z",
     "iopub.status.idle": "2024-04-14T06:27:26.684945Z",
     "shell.execute_reply": "2024-04-14T06:27:26.683553Z"
    },
    "papermill": {
     "duration": 0.051482,
     "end_time": "2024-04-14T06:27:26.687816",
     "exception": false,
     "start_time": "2024-04-14T06:27:26.636334",
     "status": "completed"
    },
    "tags": []
   },
   "outputs": [
    {
     "name": "stdout",
     "output_type": "stream",
     "text": [
      "pattern\n",
      "1_1_0_0_0_0_0_0_0_0_0_0_0_0    0.483465\n",
      "0_0_0_0_0_0_0_0_0_0_1_0_0_0    0.178289\n",
      "1_1_0_0_0_0_0_0_0_0_1_0_0_0    0.103163\n",
      "1_1_0_0_0_0_1_0_0_0_0_0_0_0    0.073329\n",
      "1_0_0_0_0_0_0_0_0_0_0_0_0_0    0.063264\n",
      "1_1_1_0_0_0_0_0_0_0_1_0_0_0    0.034867\n",
      "1_1_1_0_0_0_0_0_0_0_0_0_0_0    0.024443\n",
      "1_1_1_0_0_0_0_0_1_1_0_0_0_0    0.020489\n",
      "Other                          0.011143\n",
      "0_0_0_0_0_0_1_0_0_0_0_0_0_0    0.003235\n",
      "1_0_0_0_0_0_1_0_0_0_0_0_0_0    0.002157\n",
      "0_0_0_0_1_0_0_0_0_0_0_0_0_0    0.002157\n",
      "Name: proportion, dtype: float64\n",
      "\n",
      "pattern\n",
      "1_1_0_0_0_0_0_0_0_0_0_0_0_0    0.792493\n",
      "1_0_0_0_0_0_0_0_0_0_0_0_0_0    0.065838\n",
      "0_0_0_0_0_0_0_0_0_0_1_0_0_0    0.042849\n",
      "1_1_0_0_0_0_0_0_0_0_1_0_0_0    0.031458\n",
      "1_1_0_0_0_0_1_0_0_0_0_0_0_0    0.018985\n",
      "0_0_0_0_0_0_1_0_0_0_0_0_0_0    0.013840\n",
      "1_1_1_0_0_0_0_0_0_0_0_0_0_0    0.012375\n",
      "0_0_1_0_0_0_0_0_0_0_0_0_0_0    0.008381\n",
      "1_1_1_0_0_0_0_0_0_0_1_0_0_0    0.007328\n",
      "Other                          0.006453\n",
      "Name: proportion, dtype: float64\n"
     ]
    }
   ],
   "source": [
    "# パターンの割合\n",
    "print(train_df[\"pattern\"].value_counts(normalize=True).sort_values(ascending=False))\n",
    "print(\"\")\n",
    "print(valid_df[\"pattern\"].value_counts(normalize=True).sort_values(ascending=False))"
   ]
  },
  {
   "cell_type": "code",
   "execution_count": 17,
   "id": "3c242984",
   "metadata": {
    "execution": {
     "iopub.execute_input": "2024-04-14T06:27:26.718066Z",
     "iopub.status.busy": "2024-04-14T06:27:26.717639Z",
     "iopub.status.idle": "2024-04-14T06:27:26.736578Z",
     "shell.execute_reply": "2024-04-14T06:27:26.735272Z"
    },
    "papermill": {
     "duration": 0.036749,
     "end_time": "2024-04-14T06:27:26.739293",
     "exception": false,
     "start_time": "2024-04-14T06:27:26.702544",
     "status": "completed"
    },
    "tags": []
   },
   "outputs": [],
   "source": [
    "# trainとvalidで共通するdocumentは存在しない\n",
    "assert not set(train_df[\"document\"]) & set(valid_df[\"document\"])"
   ]
  },
  {
   "cell_type": "markdown",
   "id": "cad2f178",
   "metadata": {
    "papermill": {
     "duration": 0.012981,
     "end_time": "2024-04-14T06:27:26.766306",
     "exception": false,
     "start_time": "2024-04-14T06:27:26.753325",
     "status": "completed"
    },
    "tags": []
   },
   "source": [
    "# 学習"
   ]
  },
  {
   "cell_type": "code",
   "execution_count": 18,
   "id": "18261916",
   "metadata": {
    "execution": {
     "iopub.execute_input": "2024-04-14T06:27:26.795069Z",
     "iopub.status.busy": "2024-04-14T06:27:26.794633Z",
     "iopub.status.idle": "2024-04-14T06:27:26.804244Z",
     "shell.execute_reply": "2024-04-14T06:27:26.802917Z"
    },
    "papermill": {
     "duration": 0.026987,
     "end_time": "2024-04-14T06:27:26.806714",
     "exception": false,
     "start_time": "2024-04-14T06:27:26.779727",
     "status": "completed"
    },
    "tags": []
   },
   "outputs": [
    {
     "data": {
      "text/plain": [
       "['O',\n",
       " 'B-NAME_STUDENT',\n",
       " 'I-NAME_STUDENT',\n",
       " 'B-EMAIL',\n",
       " 'I-EMAIL',\n",
       " 'B-USERNAME',\n",
       " 'I-USERNAME',\n",
       " 'B-ID_NUM',\n",
       " 'I-ID_NUM',\n",
       " 'B-PHONE_NUM',\n",
       " 'I-PHONE_NUM',\n",
       " 'B-URL_PERSONAL',\n",
       " 'I-URL_PERSONAL',\n",
       " 'B-STREET_ADDRESS',\n",
       " 'I-STREET_ADDRESS',\n",
       " 'prev_1_O',\n",
       " 'prev_1_B-NAME_STUDENT',\n",
       " 'prev_1_I-NAME_STUDENT',\n",
       " 'prev_1_B-EMAIL',\n",
       " 'prev_1_I-EMAIL',\n",
       " 'prev_1_B-USERNAME',\n",
       " 'prev_1_I-USERNAME',\n",
       " 'prev_1_B-ID_NUM',\n",
       " 'prev_1_I-ID_NUM',\n",
       " 'prev_1_B-PHONE_NUM',\n",
       " 'prev_1_I-PHONE_NUM',\n",
       " 'prev_1_B-URL_PERSONAL',\n",
       " 'prev_1_I-URL_PERSONAL',\n",
       " 'prev_1_B-STREET_ADDRESS',\n",
       " 'prev_1_I-STREET_ADDRESS',\n",
       " 'future_1_O',\n",
       " 'future_1_B-NAME_STUDENT',\n",
       " 'future_1_I-NAME_STUDENT',\n",
       " 'future_1_B-EMAIL',\n",
       " 'future_1_I-EMAIL',\n",
       " 'future_1_B-USERNAME',\n",
       " 'future_1_I-USERNAME',\n",
       " 'future_1_B-ID_NUM',\n",
       " 'future_1_I-ID_NUM',\n",
       " 'future_1_B-PHONE_NUM',\n",
       " 'future_1_I-PHONE_NUM',\n",
       " 'future_1_B-URL_PERSONAL',\n",
       " 'future_1_I-URL_PERSONAL',\n",
       " 'future_1_B-STREET_ADDRESS',\n",
       " 'future_1_I-STREET_ADDRESS']"
      ]
     },
     "execution_count": 18,
     "metadata": {},
     "output_type": "execute_result"
    }
   ],
   "source": [
    "use_col = train_df.columns.tolist()\n",
    "use_col.remove(\"labels\")\n",
    "use_col.remove(\"document\")\n",
    "use_col.remove(\"pattern\")\n",
    "use_col"
   ]
  },
  {
   "cell_type": "code",
   "execution_count": 19,
   "id": "4579ed53",
   "metadata": {
    "execution": {
     "iopub.execute_input": "2024-04-14T06:27:26.837765Z",
     "iopub.status.busy": "2024-04-14T06:27:26.837310Z",
     "iopub.status.idle": "2024-04-14T06:27:26.842610Z",
     "shell.execute_reply": "2024-04-14T06:27:26.841319Z"
    },
    "papermill": {
     "duration": 0.02389,
     "end_time": "2024-04-14T06:27:26.845044",
     "exception": false,
     "start_time": "2024-04-14T06:27:26.821154",
     "status": "completed"
    },
    "tags": []
   },
   "outputs": [],
   "source": [
    "TARGET_COL = \"labels\""
   ]
  },
  {
   "cell_type": "code",
   "execution_count": 20,
   "id": "c3295c44",
   "metadata": {
    "execution": {
     "iopub.execute_input": "2024-04-14T06:27:26.874510Z",
     "iopub.status.busy": "2024-04-14T06:27:26.874017Z",
     "iopub.status.idle": "2024-04-14T06:27:26.882005Z",
     "shell.execute_reply": "2024-04-14T06:27:26.880652Z"
    },
    "papermill": {
     "duration": 0.025619,
     "end_time": "2024-04-14T06:27:26.884503",
     "exception": false,
     "start_time": "2024-04-14T06:27:26.858884",
     "status": "completed"
    },
    "tags": []
   },
   "outputs": [],
   "source": [
    "# LightGBMで用いるパラメータを指定\n",
    "params = {\n",
    "    \"objective\": \"multiclass\",\n",
    "    'num_class': len(TAG_NAMES),\n",
    "    \"max_depth\": -1,\n",
    "    \"min_data_in_leaf\": 10,  # 1つの葉に入る最小のデータ数\n",
    "    \"num_leaves\": 24,  # 2**max_depthより少し小さめにすると過学習を防げる\n",
    "    \"learning_rate\": 0.01,  # 1回のiterationで学習を進める割合、大きいと学習が早く終わる。小さいと学習は長いが高精度になりやすい。\n",
    "    \"bagging_freq\": 5,  # 指定した回数ごとにbaggingを行う\n",
    "    \"feature_fraction\": 0.7,  # 1回のiterationで利用する特徴量(列方向)の割合\n",
    "    \"bagging_fraction\": 0.6,  # 1回のiterationで利用するデータ(行方向)の割合\n",
    "    \"verbose\": -1,  # 出力するログレベルの変更、-1はFatalなログのみを出力\n",
    "    \"seed\": SEED,  # ランダムシードの固定\n",
    "    \"lambda_l1\": 0.4,  # 正則化のためのパラメータ\n",
    "    \"lambda_l2\": 0.4,  # 正則化のためのパラメータ\n",
    "}"
   ]
  },
  {
   "cell_type": "code",
   "execution_count": 21,
   "id": "8016e459",
   "metadata": {
    "execution": {
     "iopub.execute_input": "2024-04-14T06:27:26.913924Z",
     "iopub.status.busy": "2024-04-14T06:27:26.913493Z",
     "iopub.status.idle": "2024-04-14T06:27:26.930824Z",
     "shell.execute_reply": "2024-04-14T06:27:26.929446Z"
    },
    "papermill": {
     "duration": 0.035256,
     "end_time": "2024-04-14T06:27:26.933758",
     "exception": false,
     "start_time": "2024-04-14T06:27:26.898502",
     "status": "completed"
    },
    "tags": []
   },
   "outputs": [],
   "source": [
    "X_train = train_df[use_col]\n",
    "X_valid = valid_df[use_col]\n",
    "y_train = train_df[TARGET_COL]\n",
    "y_valid = valid_df[TARGET_COL]"
   ]
  },
  {
   "cell_type": "code",
   "execution_count": 22,
   "id": "e46e1916",
   "metadata": {
    "execution": {
     "iopub.execute_input": "2024-04-14T06:27:26.963497Z",
     "iopub.status.busy": "2024-04-14T06:27:26.963036Z",
     "iopub.status.idle": "2024-04-14T06:27:26.969610Z",
     "shell.execute_reply": "2024-04-14T06:27:26.967608Z"
    },
    "papermill": {
     "duration": 0.024492,
     "end_time": "2024-04-14T06:27:26.972089",
     "exception": false,
     "start_time": "2024-04-14T06:27:26.947597",
     "status": "completed"
    },
    "tags": []
   },
   "outputs": [],
   "source": [
    "lgb_train = lgb.Dataset(X_train, y_train)\n",
    "lgb_eval = lgb.Dataset(\n",
    "    X_valid, y_valid, reference=lgb_train\n",
    ")"
   ]
  },
  {
   "cell_type": "code",
   "execution_count": 23,
   "id": "168ed759",
   "metadata": {
    "execution": {
     "iopub.execute_input": "2024-04-14T06:27:27.003003Z",
     "iopub.status.busy": "2024-04-14T06:27:27.002526Z",
     "iopub.status.idle": "2024-04-14T06:27:50.231681Z",
     "shell.execute_reply": "2024-04-14T06:27:50.230427Z"
    },
    "papermill": {
     "duration": 23.247612,
     "end_time": "2024-04-14T06:27:50.234442",
     "exception": false,
     "start_time": "2024-04-14T06:27:26.986830",
     "status": "completed"
    },
    "tags": []
   },
   "outputs": [
    {
     "name": "stdout",
     "output_type": "stream",
     "text": [
      "Training until validation scores don't improve for 100 rounds\n",
      "[100]\ttraining's multi_logloss: 0.221521\tvalid_1's multi_logloss: 0.210371\n",
      "[200]\ttraining's multi_logloss: 0.0490152\tvalid_1's multi_logloss: 0.0423219\n",
      "[300]\ttraining's multi_logloss: 0.0161869\tvalid_1's multi_logloss: 0.0159645\n",
      "[400]\ttraining's multi_logloss: 0.00810866\tvalid_1's multi_logloss: 0.0117524\n",
      "[500]\ttraining's multi_logloss: 0.00537393\tvalid_1's multi_logloss: 0.0112374\n",
      "[600]\ttraining's multi_logloss: 0.00412644\tvalid_1's multi_logloss: 0.0111166\n",
      "Early stopping, best iteration is:\n",
      "[579]\ttraining's multi_logloss: 0.00434099\tvalid_1's multi_logloss: 0.0111044\n"
     ]
    }
   ],
   "source": [
    "model = lgb.train(\n",
    "    params,\n",
    "    lgb_train,\n",
    "    num_boost_round=10000,  # 学習のiteration回数\n",
    "    valid_sets=[lgb_train, lgb_eval],\n",
    "    callbacks=[\n",
    "        lgb.early_stopping(\n",
    "            stopping_rounds=100\n",
    "        ),  # Early stopingの回数、binary_loglossが改善しないiterationが100回続いたら学習を止める\n",
    "        lgb.log_evaluation(100),  # 指定したiteration回数ごとにlogを出力する\n",
    "    ],\n",
    ")"
   ]
  },
  {
   "cell_type": "code",
   "execution_count": 24,
   "id": "ee5bb7f3",
   "metadata": {
    "execution": {
     "iopub.execute_input": "2024-04-14T06:27:50.265908Z",
     "iopub.status.busy": "2024-04-14T06:27:50.265413Z",
     "iopub.status.idle": "2024-04-14T06:27:51.228348Z",
     "shell.execute_reply": "2024-04-14T06:27:51.226837Z"
    },
    "papermill": {
     "duration": 0.984384,
     "end_time": "2024-04-14T06:27:51.233451",
     "exception": false,
     "start_time": "2024-04-14T06:27:50.249067",
     "status": "completed"
    },
    "tags": []
   },
   "outputs": [
    {
     "data": {
      "image/png": "[encoded data removed]",
      "text/plain": [
       "<Figure size 700x2000 with 1 Axes>"
      ]
     },
     "metadata": {},
     "output_type": "display_data"
    },
    {
     "data": {
      "text/plain": [
       "<Figure size 640x480 with 0 Axes>"
      ]
     },
     "metadata": {},
     "output_type": "display_data"
    }
   ],
   "source": [
    "import matplotlib.pyplot as plt\n",
    "lgb.plot_importance(model, importance_type=\"gain\", figsize=(7,20), title=\"LightGBM Feature Importance (Gain)\")\n",
    "plt.show()\n",
    "plt.tight_layout()"
   ]
  },
  {
   "cell_type": "code",
   "execution_count": 25,
   "id": "a13dce64",
   "metadata": {
    "execution": {
     "iopub.execute_input": "2024-04-14T06:27:51.270794Z",
     "iopub.status.busy": "2024-04-14T06:27:51.270345Z",
     "iopub.status.idle": "2024-04-14T06:27:59.497086Z",
     "shell.execute_reply": "2024-04-14T06:27:59.495445Z"
    },
    "papermill": {
     "duration": 8.24941,
     "end_time": "2024-04-14T06:27:59.500717",
     "exception": false,
     "start_time": "2024-04-14T06:27:51.251307",
     "status": "completed"
    },
    "tags": []
   },
   "outputs": [],
   "source": [
    "y_valid_pred = model.predict(X_valid)"
   ]
  },
  {
   "cell_type": "code",
   "execution_count": 26,
   "id": "a09396f0",
   "metadata": {
    "execution": {
     "iopub.execute_input": "2024-04-14T06:27:59.539747Z",
     "iopub.status.busy": "2024-04-14T06:27:59.539253Z",
     "iopub.status.idle": "2024-04-14T06:28:09.031085Z",
     "shell.execute_reply": "2024-04-14T06:28:09.029565Z"
    },
    "papermill": {
     "duration": 9.51451,
     "end_time": "2024-04-14T06:28:09.033855",
     "exception": false,
     "start_time": "2024-04-14T06:27:59.519345",
     "status": "completed"
    },
    "tags": []
   },
   "outputs": [
    {
     "data": {
      "application/vnd.jupyter.widget-view+json": {
       "model_id": "454131d4bfec481187bc023eb1d5b84d",
       "version_major": 2,
       "version_minor": 0
      },
      "text/plain": [
       "Filter:   0%|          | 0/473 [00:00<?, ? examples/s]"
      ]
     },
     "metadata": {},
     "output_type": "display_data"
    }
   ],
   "source": [
    "valid_valid_dataset = valid_dataset.filter(\n",
    "    lambda example: example[\"document\"] in valid_df[\"document\"].tolist()\n",
    ")"
   ]
  },
  {
   "cell_type": "code",
   "execution_count": 27,
   "id": "afd28a4a",
   "metadata": {
    "execution": {
     "iopub.execute_input": "2024-04-14T06:28:09.073162Z",
     "iopub.status.busy": "2024-04-14T06:28:09.072721Z",
     "iopub.status.idle": "2024-04-14T06:28:09.080367Z",
     "shell.execute_reply": "2024-04-14T06:28:09.079213Z"
    },
    "papermill": {
     "duration": 0.030625,
     "end_time": "2024-04-14T06:28:09.083254",
     "exception": false,
     "start_time": "2024-04-14T06:28:09.052629",
     "status": "completed"
    },
    "tags": []
   },
   "outputs": [
    {
     "data": {
      "text/plain": [
       "Dataset({\n",
       "    features: ['full_text', 'trailing_whitespace', 'provided_labels', 'tokens', 'document', 'flag', 'input_ids', 'token_type_ids', 'attention_mask', 'offset_mapping', 'labels', 'length', 'token_map'],\n",
       "    num_rows: 120\n",
       "})"
      ]
     },
     "execution_count": 27,
     "metadata": {},
     "output_type": "execute_result"
    }
   ],
   "source": [
    "valid_valid_dataset"
   ]
  },
  {
   "cell_type": "code",
   "execution_count": 28,
   "id": "889e539a",
   "metadata": {
    "execution": {
     "iopub.execute_input": "2024-04-14T06:28:09.129419Z",
     "iopub.status.busy": "2024-04-14T06:28:09.128399Z",
     "iopub.status.idle": "2024-04-14T06:28:09.991773Z",
     "shell.execute_reply": "2024-04-14T06:28:09.990010Z"
    },
    "papermill": {
     "duration": 0.89267,
     "end_time": "2024-04-14T06:28:09.994734",
     "exception": false,
     "start_time": "2024-04-14T06:28:09.102064",
     "status": "completed"
    },
    "tags": []
   },
   "outputs": [
    {
     "data": {
      "application/vnd.jupyter.widget-view+json": {
       "model_id": "f3748185040e47ae96553b3817969d0a",
       "version_major": 2,
       "version_minor": 0
      },
      "text/plain": [
       "  0%|          | 0/120 [00:00<?, ?it/s]"
      ]
     },
     "metadata": {},
     "output_type": "display_data"
    }
   ],
   "source": [
    "from tqdm.auto import tqdm\n",
    "all_token = []\n",
    "documents = []\n",
    "deberta_token_num = []\n",
    "for full_text, offset_mapping, document in tqdm(\n",
    "    zip(\n",
    "        valid_valid_dataset[\"full_text\"],\n",
    "        valid_valid_dataset[\"offset_mapping\"],\n",
    "        valid_valid_dataset[\"document\"],\n",
    "    ),\n",
    "    total = len(valid_valid_dataset)\n",
    "):\n",
    "    for token_num, (start_idx, end_idx) in enumerate(offset_mapping):\n",
    "        all_token.append(full_text[start_idx:end_idx])\n",
    "        documents.append(document)\n",
    "        deberta_token_num.append(token_num)"
   ]
  },
  {
   "cell_type": "code",
   "execution_count": 29,
   "id": "095771a0",
   "metadata": {
    "execution": {
     "iopub.execute_input": "2024-04-14T06:28:10.044313Z",
     "iopub.status.busy": "2024-04-14T06:28:10.043815Z",
     "iopub.status.idle": "2024-04-14T06:28:10.295022Z",
     "shell.execute_reply": "2024-04-14T06:28:10.293504Z"
    },
    "papermill": {
     "duration": 0.278469,
     "end_time": "2024-04-14T06:28:10.298030",
     "exception": false,
     "start_time": "2024-04-14T06:28:10.019561",
     "status": "completed"
    },
    "tags": []
   },
   "outputs": [],
   "source": [
    "valid_pred_df = pd.DataFrame(\n",
    "    {\n",
    "        \"document\": documents,\n",
    "        \"deberta_token_num\": deberta_token_num,\n",
    "        \"text\": all_token,\n",
    "        \"y_valid\": [id2label[val] for val in y_valid],\n",
    "        \"y_valid_pred\": [id2label[val] for val in y_valid_pred.argmax(axis=1)],\n",
    "        \"y_valid_ensemble\": [id2label[val] for val in valid_df[TAG_NAMES].values.argmax(-1)]\n",
    "    }\n",
    ")"
   ]
  },
  {
   "cell_type": "code",
   "execution_count": 30,
   "id": "7397d723",
   "metadata": {
    "execution": {
     "iopub.execute_input": "2024-04-14T06:28:10.338256Z",
     "iopub.status.busy": "2024-04-14T06:28:10.337745Z",
     "iopub.status.idle": "2024-04-14T06:28:14.919321Z",
     "shell.execute_reply": "2024-04-14T06:28:14.917546Z"
    },
    "papermill": {
     "duration": 4.605961,
     "end_time": "2024-04-14T06:28:14.923392",
     "exception": false,
     "start_time": "2024-04-14T06:28:10.317431",
     "status": "completed"
    },
    "tags": []
   },
   "outputs": [
    {
     "name": "stderr",
     "output_type": "stream",
     "text": [
      "/opt/conda/lib/python3.10/site-packages/sklearn/metrics/_classification.py:1344: UndefinedMetricWarning: Precision and F-score are ill-defined and being set to 0.0 in labels with no predicted samples. Use `zero_division` parameter to control this behavior.\n",
      "  _warn_prf(average, modifier, msg_start, len(result))\n",
      "/opt/conda/lib/python3.10/site-packages/sklearn/metrics/_classification.py:1344: UndefinedMetricWarning: Recall and F-score are ill-defined and being set to 0.0 in labels with no true samples. Use `zero_division` parameter to control this behavior.\n",
      "  _warn_prf(average, modifier, msg_start, len(result))\n",
      "/opt/conda/lib/python3.10/site-packages/sklearn/metrics/_classification.py:1344: UndefinedMetricWarning: Precision and F-score are ill-defined and being set to 0.0 in labels with no predicted samples. Use `zero_division` parameter to control this behavior.\n",
      "  _warn_prf(average, modifier, msg_start, len(result))\n",
      "/opt/conda/lib/python3.10/site-packages/sklearn/metrics/_classification.py:1344: UndefinedMetricWarning: Recall and F-score are ill-defined and being set to 0.0 in labels with no true samples. Use `zero_division` parameter to control this behavior.\n",
      "  _warn_prf(average, modifier, msg_start, len(result))\n",
      "/opt/conda/lib/python3.10/site-packages/sklearn/metrics/_classification.py:1344: UndefinedMetricWarning: Precision and F-score are ill-defined and being set to 0.0 in labels with no predicted samples. Use `zero_division` parameter to control this behavior.\n",
      "  _warn_prf(average, modifier, msg_start, len(result))\n",
      "/opt/conda/lib/python3.10/site-packages/sklearn/metrics/_classification.py:1344: UndefinedMetricWarning: Recall and F-score are ill-defined and being set to 0.0 in labels with no true samples. Use `zero_division` parameter to control this behavior.\n",
      "  _warn_prf(average, modifier, msg_start, len(result))\n"
     ]
    },
    {
     "name": "stdout",
     "output_type": "stream",
     "text": [
      "                precision    recall  f1-score   support\n",
      "\n",
      "       B-EMAIL       1.00      1.00      1.00        48\n",
      "      B-ID_NUM       0.94      0.98      0.96        91\n",
      "B-NAME_STUDENT       0.85      1.00      0.92       230\n",
      "B-URL_PERSONAL       0.77      1.00      0.87       259\n",
      "    B-USERNAME       0.00      0.00      0.00         0\n",
      "I-NAME_STUDENT       0.93      1.00      0.96       200\n",
      "I-URL_PERSONAL       0.00      0.00      0.00         7\n",
      "             O       1.00      1.00      1.00    100824\n",
      "\n",
      "      accuracy                           1.00    101659\n",
      "     macro avg       0.69      0.75      0.71    101659\n",
      "  weighted avg       1.00      1.00      1.00    101659\n",
      "\n"
     ]
    },
    {
     "name": "stderr",
     "output_type": "stream",
     "text": [
      "/opt/conda/lib/python3.10/site-packages/sklearn/metrics/_classification.py:1344: UndefinedMetricWarning: Precision and F-score are ill-defined and being set to 0.0 in labels with no predicted samples. Use `zero_division` parameter to control this behavior.\n",
      "  _warn_prf(average, modifier, msg_start, len(result))\n",
      "/opt/conda/lib/python3.10/site-packages/sklearn/metrics/_classification.py:1344: UndefinedMetricWarning: Recall and F-score are ill-defined and being set to 0.0 in labels with no true samples. Use `zero_division` parameter to control this behavior.\n",
      "  _warn_prf(average, modifier, msg_start, len(result))\n",
      "/opt/conda/lib/python3.10/site-packages/sklearn/metrics/_classification.py:1344: UndefinedMetricWarning: Precision and F-score are ill-defined and being set to 0.0 in labels with no predicted samples. Use `zero_division` parameter to control this behavior.\n",
      "  _warn_prf(average, modifier, msg_start, len(result))\n",
      "/opt/conda/lib/python3.10/site-packages/sklearn/metrics/_classification.py:1344: UndefinedMetricWarning: Recall and F-score are ill-defined and being set to 0.0 in labels with no true samples. Use `zero_division` parameter to control this behavior.\n",
      "  _warn_prf(average, modifier, msg_start, len(result))\n"
     ]
    },
    {
     "name": "stdout",
     "output_type": "stream",
     "text": [
      "                precision    recall  f1-score   support\n",
      "\n",
      "       B-EMAIL       1.00      1.00      1.00        48\n",
      "      B-ID_NUM       1.00      0.89      0.94        91\n",
      "B-NAME_STUDENT       0.92      1.00      0.96       230\n",
      "B-URL_PERSONAL       0.79      1.00      0.88       259\n",
      "    B-USERNAME       0.00      0.00      0.00         0\n",
      "I-NAME_STUDENT       0.98      0.99      0.99       200\n",
      "I-URL_PERSONAL       0.00      0.00      0.00         7\n",
      "             O       1.00      1.00      1.00    100824\n",
      "\n",
      "      accuracy                           1.00    101659\n",
      "     macro avg       0.71      0.73      0.72    101659\n",
      "  weighted avg       1.00      1.00      1.00    101659\n",
      "\n"
     ]
    },
    {
     "name": "stderr",
     "output_type": "stream",
     "text": [
      "/opt/conda/lib/python3.10/site-packages/sklearn/metrics/_classification.py:1344: UndefinedMetricWarning: Precision and F-score are ill-defined and being set to 0.0 in labels with no predicted samples. Use `zero_division` parameter to control this behavior.\n",
      "  _warn_prf(average, modifier, msg_start, len(result))\n",
      "/opt/conda/lib/python3.10/site-packages/sklearn/metrics/_classification.py:1344: UndefinedMetricWarning: Recall and F-score are ill-defined and being set to 0.0 in labels with no true samples. Use `zero_division` parameter to control this behavior.\n",
      "  _warn_prf(average, modifier, msg_start, len(result))\n"
     ]
    }
   ],
   "source": [
    "from sklearn.metrics import classification_report\n",
    "\n",
    "print(\n",
    "    classification_report(valid_pred_df[\"y_valid\"].tolist(), valid_pred_df[\"y_valid_pred\"].tolist())\n",
    ")\n",
    "\n",
    "print(\n",
    "    classification_report(valid_pred_df[\"y_valid\"].tolist(), valid_pred_df[\"y_valid_ensemble\"].tolist())\n",
    ")"
   ]
  },
  {
   "cell_type": "code",
   "execution_count": 31,
   "id": "1fdd24e3",
   "metadata": {
    "execution": {
     "iopub.execute_input": "2024-04-14T06:28:14.964159Z",
     "iopub.status.busy": "2024-04-14T06:28:14.963721Z",
     "iopub.status.idle": "2024-04-14T06:28:36.220058Z",
     "shell.execute_reply": "2024-04-14T06:28:36.218381Z"
    },
    "papermill": {
     "duration": 21.280612,
     "end_time": "2024-04-14T06:28:36.223366",
     "exception": false,
     "start_time": "2024-04-14T06:28:14.942754",
     "status": "completed"
    },
    "tags": []
   },
   "outputs": [
    {
     "name": "stdout",
     "output_type": "stream",
     "text": [
      "Collecting seqeval\n",
      "  Downloading seqeval-1.2.2.tar.gz (43 kB)\n",
      "\u001b[2K     \u001b[90m━━━━━━━━━━━━━━━━━━━━━━━━━━━━━━━━━━━━━━━━\u001b[0m \u001b[32m43.6/43.6 kB\u001b[0m \u001b[31m1.7 MB/s\u001b[0m eta \u001b[36m0:00:00\u001b[0m\n",
      "\u001b[?25h  Preparing metadata (setup.py) ... \u001b[?25ldone\n",
      "\u001b[?25hRequirement already satisfied: numpy>=1.14.0 in /opt/conda/lib/python3.10/site-packages (from seqeval) (1.26.4)\n",
      "Requirement already satisfied: scikit-learn>=0.21.3 in /opt/conda/lib/python3.10/site-packages (from seqeval) (1.2.2)\n",
      "Requirement already satisfied: scipy>=1.3.2 in /opt/conda/lib/python3.10/site-packages (from scikit-learn>=0.21.3->seqeval) (1.11.4)\n",
      "Requirement already satisfied: joblib>=1.1.1 in /opt/conda/lib/python3.10/site-packages (from scikit-learn>=0.21.3->seqeval) (1.3.2)\n",
      "Requirement already satisfied: threadpoolctl>=2.0.0 in /opt/conda/lib/python3.10/site-packages (from scikit-learn>=0.21.3->seqeval) (3.2.0)\n",
      "Building wheels for collected packages: seqeval\n",
      "  Building wheel for seqeval (setup.py) ... \u001b[?25ldone\n",
      "\u001b[?25h  Created wheel for seqeval: filename=seqeval-1.2.2-py3-none-any.whl size=16162 sha256=f6dfc18c4360bbe4f09b5d84ac967a3b19d0ebf2acc1ffebb9e5d358476bbdf5\n",
      "  Stored in directory: /root/.cache/pip/wheels/1a/67/4a/ad4082dd7dfc30f2abfe4d80a2ed5926a506eb8a972b4767fa\n",
      "Successfully built seqeval\n",
      "Installing collected packages: seqeval\n",
      "Successfully installed seqeval-1.2.2\n"
     ]
    }
   ],
   "source": [
    "!pip install seqeval"
   ]
  },
  {
   "cell_type": "code",
   "execution_count": 32,
   "id": "127761d5",
   "metadata": {
    "execution": {
     "iopub.execute_input": "2024-04-14T06:28:36.267893Z",
     "iopub.status.busy": "2024-04-14T06:28:36.267380Z",
     "iopub.status.idle": "2024-04-14T06:28:37.277559Z",
     "shell.execute_reply": "2024-04-14T06:28:37.276198Z"
    },
    "papermill": {
     "duration": 1.0355,
     "end_time": "2024-04-14T06:28:37.279939",
     "exception": false,
     "start_time": "2024-04-14T06:28:36.244439",
     "status": "completed"
    },
    "tags": []
   },
   "outputs": [
    {
     "name": "stdout",
     "output_type": "stream",
     "text": [
      "Ensemble f5score CV:0.9741683928353845\n",
      "LightGBM f5score CV:0.9862613981762918\n"
     ]
    }
   ],
   "source": [
    "from seqeval.metrics.sequence_labeling import precision_recall_fscore_support\n",
    "\n",
    "cv_score = precision_recall_fscore_support(\n",
    "    [valid_pred_df[\"y_valid\"].tolist()],\n",
    "    [valid_pred_df[\"y_valid_ensemble\"].to_list()],\n",
    "    beta=5,\n",
    "    average=\"micro\",\n",
    ")[2]\n",
    "\n",
    "print(f\"Ensemble f5score CV:{cv_score}\")\n",
    "\n",
    "cv_score = precision_recall_fscore_support(\n",
    "    [valid_pred_df[\"y_valid\"].tolist()],\n",
    "    [valid_pred_df[\"y_valid_pred\"].to_list()],\n",
    "    beta=5,\n",
    "    average=\"micro\",\n",
    ")[2]\n",
    "\n",
    "print(f\"LightGBM f5score CV:{cv_score}\")"
   ]
  },
  {
   "cell_type": "code",
   "execution_count": 33,
   "id": "51fb684a",
   "metadata": {
    "execution": {
     "iopub.execute_input": "2024-04-14T06:28:37.324070Z",
     "iopub.status.busy": "2024-04-14T06:28:37.323567Z",
     "iopub.status.idle": "2024-04-14T06:28:37.642645Z",
     "shell.execute_reply": "2024-04-14T06:28:37.641078Z"
    },
    "papermill": {
     "duration": 0.345202,
     "end_time": "2024-04-14T06:28:37.645803",
     "exception": false,
     "start_time": "2024-04-14T06:28:37.300601",
     "status": "completed"
    },
    "tags": []
   },
   "outputs": [],
   "source": [
    "valid_pred_df.to_csv(\"valid_pred.csv\", index=False)"
   ]
  },
  {
   "cell_type": "code",
   "execution_count": 34,
   "id": "6b33d633",
   "metadata": {
    "execution": {
     "iopub.execute_input": "2024-04-14T06:28:37.689741Z",
     "iopub.status.busy": "2024-04-14T06:28:37.689266Z",
     "iopub.status.idle": "2024-04-14T06:28:37.739041Z",
     "shell.execute_reply": "2024-04-14T06:28:37.737674Z"
    },
    "papermill": {
     "duration": 0.075576,
     "end_time": "2024-04-14T06:28:37.741977",
     "exception": false,
     "start_time": "2024-04-14T06:28:37.666401",
     "status": "completed"
    },
    "tags": []
   },
   "outputs": [
    {
     "data": {
      "text/html": [
       "<div>\n",
       "<style scoped>\n",
       "    .dataframe tbody tr th:only-of-type {\n",
       "        vertical-align: middle;\n",
       "    }\n",
       "\n",
       "    .dataframe tbody tr th {\n",
       "        vertical-align: top;\n",
       "    }\n",
       "\n",
       "    .dataframe thead th {\n",
       "        text-align: right;\n",
       "    }\n",
       "</style>\n",
       "<table border=\"1\" class=\"dataframe\">\n",
       "  <thead>\n",
       "    <tr style=\"text-align: right;\">\n",
       "      <th></th>\n",
       "      <th>document</th>\n",
       "      <th>deberta_token_num</th>\n",
       "      <th>text</th>\n",
       "      <th>y_valid</th>\n",
       "      <th>y_valid_pred</th>\n",
       "      <th>y_valid_ensemble</th>\n",
       "    </tr>\n",
       "  </thead>\n",
       "  <tbody>\n",
       "    <tr>\n",
       "      <th>20</th>\n",
       "      <td>2915</td>\n",
       "      <td>20</td>\n",
       "      <td>Carolina</td>\n",
       "      <td>O</td>\n",
       "      <td>B-NAME_STUDENT</td>\n",
       "      <td>B-NAME_STUDENT</td>\n",
       "    </tr>\n",
       "    <tr>\n",
       "      <th>21</th>\n",
       "      <td>2915</td>\n",
       "      <td>21</td>\n",
       "      <td>Gomez</td>\n",
       "      <td>O</td>\n",
       "      <td>I-NAME_STUDENT</td>\n",
       "      <td>I-NAME_STUDENT</td>\n",
       "    </tr>\n",
       "    <tr>\n",
       "      <th>1281</th>\n",
       "      <td>6853</td>\n",
       "      <td>264</td>\n",
       "      <td>George</td>\n",
       "      <td>O</td>\n",
       "      <td>B-NAME_STUDENT</td>\n",
       "      <td>O</td>\n",
       "    </tr>\n",
       "    <tr>\n",
       "      <th>1283</th>\n",
       "      <td>6853</td>\n",
       "      <td>266</td>\n",
       "      <td>Geoff</td>\n",
       "      <td>O</td>\n",
       "      <td>B-NAME_STUDENT</td>\n",
       "      <td>O</td>\n",
       "    </tr>\n",
       "    <tr>\n",
       "      <th>6702</th>\n",
       "      <td>379</td>\n",
       "      <td>37</td>\n",
       "      <td>In</td>\n",
       "      <td>O</td>\n",
       "      <td>B-URL_PERSONAL</td>\n",
       "      <td>O</td>\n",
       "    </tr>\n",
       "    <tr>\n",
       "      <th>...</th>\n",
       "      <td>...</td>\n",
       "      <td>...</td>\n",
       "      <td>...</td>\n",
       "      <td>...</td>\n",
       "      <td>...</td>\n",
       "      <td>...</td>\n",
       "    </tr>\n",
       "    <tr>\n",
       "      <th>94296</th>\n",
       "      <td>9585</td>\n",
       "      <td>766</td>\n",
       "      <td>Michelle</td>\n",
       "      <td>O</td>\n",
       "      <td>B-NAME_STUDENT</td>\n",
       "      <td>B-NAME_STUDENT</td>\n",
       "    </tr>\n",
       "    <tr>\n",
       "      <th>94539</th>\n",
       "      <td>9585</td>\n",
       "      <td>1009</td>\n",
       "      <td>Michelle</td>\n",
       "      <td>O</td>\n",
       "      <td>B-NAME_STUDENT</td>\n",
       "      <td>B-NAME_STUDENT</td>\n",
       "    </tr>\n",
       "    <tr>\n",
       "      <th>94564</th>\n",
       "      <td>9585</td>\n",
       "      <td>1034</td>\n",
       "      <td>Michelle</td>\n",
       "      <td>O</td>\n",
       "      <td>B-NAME_STUDENT</td>\n",
       "      <td>B-NAME_STUDENT</td>\n",
       "    </tr>\n",
       "    <tr>\n",
       "      <th>94699</th>\n",
       "      <td>9146</td>\n",
       "      <td>98</td>\n",
       "      <td>n</td>\n",
       "      <td>B-ID_NUM</td>\n",
       "      <td>B-USERNAME</td>\n",
       "      <td>B-USERNAME</td>\n",
       "    </tr>\n",
       "    <tr>\n",
       "      <th>94901</th>\n",
       "      <td>9146</td>\n",
       "      <td>300</td>\n",
       "      <td>n</td>\n",
       "      <td>B-ID_NUM</td>\n",
       "      <td>B-USERNAME</td>\n",
       "      <td>B-USERNAME</td>\n",
       "    </tr>\n",
       "  </tbody>\n",
       "</table>\n",
       "<p>140 rows × 6 columns</p>\n",
       "</div>"
      ],
      "text/plain": [
       "      document  deberta_token_num       text   y_valid    y_valid_pred  \\\n",
       "20        2915                 20   Carolina         O  B-NAME_STUDENT   \n",
       "21        2915                 21      Gomez         O  I-NAME_STUDENT   \n",
       "1281      6853                264     George         O  B-NAME_STUDENT   \n",
       "1283      6853                266      Geoff         O  B-NAME_STUDENT   \n",
       "6702       379                 37         In         O  B-URL_PERSONAL   \n",
       "...        ...                ...        ...       ...             ...   \n",
       "94296     9585                766   Michelle         O  B-NAME_STUDENT   \n",
       "94539     9585               1009   Michelle         O  B-NAME_STUDENT   \n",
       "94564     9585               1034   Michelle         O  B-NAME_STUDENT   \n",
       "94699     9146                 98          n  B-ID_NUM      B-USERNAME   \n",
       "94901     9146                300          n  B-ID_NUM      B-USERNAME   \n",
       "\n",
       "      y_valid_ensemble  \n",
       "20      B-NAME_STUDENT  \n",
       "21      I-NAME_STUDENT  \n",
       "1281                 O  \n",
       "1283                 O  \n",
       "6702                 O  \n",
       "...                ...  \n",
       "94296   B-NAME_STUDENT  \n",
       "94539   B-NAME_STUDENT  \n",
       "94564   B-NAME_STUDENT  \n",
       "94699       B-USERNAME  \n",
       "94901       B-USERNAME  \n",
       "\n",
       "[140 rows x 6 columns]"
      ]
     },
     "execution_count": 34,
     "metadata": {},
     "output_type": "execute_result"
    }
   ],
   "source": [
    "valid_pred_df[\n",
    "    valid_pred_df[\"y_valid\"] != valid_pred_df[\"y_valid_pred\"]\n",
    "]"
   ]
  },
  {
   "cell_type": "code",
   "execution_count": 35,
   "id": "8197d115",
   "metadata": {
    "execution": {
     "iopub.execute_input": "2024-04-14T06:28:37.787564Z",
     "iopub.status.busy": "2024-04-14T06:28:37.787081Z",
     "iopub.status.idle": "2024-04-14T06:28:37.918092Z",
     "shell.execute_reply": "2024-04-14T06:28:37.916584Z"
    },
    "papermill": {
     "duration": 0.157264,
     "end_time": "2024-04-14T06:28:37.921042",
     "exception": false,
     "start_time": "2024-04-14T06:28:37.763778",
     "status": "completed"
    },
    "tags": []
   },
   "outputs": [],
   "source": [
    "import pickle\n",
    "with open(\"trained_model.pkl\", \"wb\") as f:\n",
    "    pickle.dump(model, f)"
   ]
  },
  {
   "cell_type": "code",
   "execution_count": 36,
   "id": "5568c13f",
   "metadata": {
    "execution": {
     "iopub.execute_input": "2024-04-14T06:28:38.061120Z",
     "iopub.status.busy": "2024-04-14T06:28:38.060675Z",
     "iopub.status.idle": "2024-04-14T06:28:39.188078Z",
     "shell.execute_reply": "2024-04-14T06:28:39.186656Z"
    },
    "papermill": {
     "duration": 1.155374,
     "end_time": "2024-04-14T06:28:39.191119",
     "exception": false,
     "start_time": "2024-04-14T06:28:38.035745",
     "status": "completed"
    },
    "tags": []
   },
   "outputs": [],
   "source": [
    "!rm -rf /kaggle/working/valid_dataset"
   ]
  }
 ],
 "metadata": {
  "kaggle": {
   "accelerator": "none",
   "dataSources": [
    {
     "databundleVersionId": 7500999,
     "sourceId": 66653,
     "sourceType": "competition"
    },
    {
     "datasetId": 4776473,
     "sourceId": 8090502,
     "sourceType": "datasetVersion"
    },
    {
     "datasetId": 4788233,
     "sourceId": 8106810,
     "sourceType": "datasetVersion"
    },
    {
     "sourceId": 171580977,
     "sourceType": "kernelVersion"
    }
   ],
   "dockerImageVersionId": 30684,
   "isGpuEnabled": false,
   "isInternetEnabled": true,
   "language": "python",
   "sourceType": "notebook"
  },
  "kernelspec": {
   "display_name": "Python 3 (ipykernel)",
   "language": "python",
   "name": "python3"
  },
  "language_info": {
   "codemirror_mode": {
    "name": "ipython",
    "version": 3
   },
   "file_extension": ".py",
   "mimetype": "text/x-python",
   "name": "python",
   "nbconvert_exporter": "python",
   "pygments_lexer": "ipython3",
   "version": "3.9.16"
  },
  "papermill": {
   "default_parameters": {},
   "duration": 99.667704,
   "end_time": "2024-04-14T06:28:40.339671",
   "environment_variables": {},
   "exception": null,
   "input_path": "__notebook__.ipynb",
   "output_path": "__notebook__.ipynb",
   "parameters": {},
   "start_time": "2024-04-14T06:27:00.671967",
   "version": "2.5.0"
  },
  "widgets": {
   "application/vnd.jupyter.widget-state+json": {
    "state": {
     "065dfc0d539742b8a3c70f24012f1da0": {
      "model_module": "@jupyter-widgets/base",
      "model_module_version": "1.2.0",
      "model_name": "LayoutModel",
      "state": {
       "_model_module": "@jupyter-widgets/base",
       "_model_module_version": "1.2.0",
       "_model_name": "LayoutModel",
       "_view_count": null,
       "_view_module": "@jupyter-widgets/base",
       "_view_module_version": "1.2.0",
       "_view_name": "LayoutView",
       "align_content": null,
       "align_items": null,
       "align_self": null,
       "border": null,
       "bottom": null,
       "display": null,
       "flex": null,
       "flex_flow": null,
       "grid_area": null,
       "grid_auto_columns": null,
       "grid_auto_flow": null,
       "grid_auto_rows": null,
       "grid_column": null,
       "grid_gap": null,
       "grid_row": null,
       "grid_template_areas": null,
       "grid_template_columns": null,
       "grid_template_rows": null,
       "height": null,
       "justify_content": null,
       "justify_items": null,
       "left": null,
       "margin": null,
       "max_height": null,
       "max_width": null,
       "min_height": null,
       "min_width": null,
       "object_fit": null,
       "object_position": null,
       "order": null,
       "overflow": null,
       "overflow_x": null,
       "overflow_y": null,
       "padding": null,
       "right": null,
       "top": null,
       "visibility": null,
       "width": null
      }
     },
     "0e0000fcb65548678db6b70a3ebddc62": {
      "model_module": "@jupyter-widgets/controls",
      "model_module_version": "1.5.0",
      "model_name": "FloatProgressModel",
      "state": {
       "_dom_classes": [],
       "_model_module": "@jupyter-widgets/controls",
       "_model_module_version": "1.5.0",
       "_model_name": "FloatProgressModel",
       "_view_count": null,
       "_view_module": "@jupyter-widgets/controls",
       "_view_module_version": "1.5.0",
       "_view_name": "ProgressView",
       "bar_style": "success",
       "description": "",
       "description_tooltip": null,
       "layout": "IPY_MODEL_3fd9cba3ce774cd489d318a4da315f48",
       "max": 473,
       "min": 0,
       "orientation": "horizontal",
       "style": "IPY_MODEL_1b43c0a5e26040df86fec27ca2e19e73",
       "value": 473
      }
     },
     "1b43c0a5e26040df86fec27ca2e19e73": {
      "model_module": "@jupyter-widgets/controls",
      "model_module_version": "1.5.0",
      "model_name": "ProgressStyleModel",
      "state": {
       "_model_module": "@jupyter-widgets/controls",
       "_model_module_version": "1.5.0",
       "_model_name": "ProgressStyleModel",
       "_view_count": null,
       "_view_module": "@jupyter-widgets/base",
       "_view_module_version": "1.2.0",
       "_view_name": "StyleView",
       "bar_color": null,
       "description_width": ""
      }
     },
     "2084518392bd4196a725e8865ac0704d": {
      "model_module": "@jupyter-widgets/controls",
      "model_module_version": "1.5.0",
      "model_name": "HTMLModel",
      "state": {
       "_dom_classes": [],
       "_model_module": "@jupyter-widgets/controls",
       "_model_module_version": "1.5.0",
       "_model_name": "HTMLModel",
       "_view_count": null,
       "_view_module": "@jupyter-widgets/controls",
       "_view_module_version": "1.5.0",
       "_view_name": "HTMLView",
       "description": "",
       "description_tooltip": null,
       "layout": "IPY_MODEL_d29f9ecaf342495ba015cf92ba36185f",
       "placeholder": "​",
       "style": "IPY_MODEL_918ab2555ae84e4e8640f3876b51616c",
       "value": "Filter: 100%"
      }
     },
     "30db1fbef23d4012ba9f3b8d0822e542": {
      "model_module": "@jupyter-widgets/base",
      "model_module_version": "1.2.0",
      "model_name": "LayoutModel",
      "state": {
       "_model_module": "@jupyter-widgets/base",
       "_model_module_version": "1.2.0",
       "_model_name": "LayoutModel",
       "_view_count": null,
       "_view_module": "@jupyter-widgets/base",
       "_view_module_version": "1.2.0",
       "_view_name": "LayoutView",
       "align_content": null,
       "align_items": null,
       "align_self": null,
       "border": null,
       "bottom": null,
       "display": null,
       "flex": null,
       "flex_flow": null,
       "grid_area": null,
       "grid_auto_columns": null,
       "grid_auto_flow": null,
       "grid_auto_rows": null,
       "grid_column": null,
       "grid_gap": null,
       "grid_row": null,
       "grid_template_areas": null,
       "grid_template_columns": null,
       "grid_template_rows": null,
       "height": null,
       "justify_content": null,
       "justify_items": null,
       "left": null,
       "margin": null,
       "max_height": null,
       "max_width": null,
       "min_height": null,
       "min_width": null,
       "object_fit": null,
       "object_position": null,
       "order": null,
       "overflow": null,
       "overflow_x": null,
       "overflow_y": null,
       "padding": null,
       "right": null,
       "top": null,
       "visibility": null,
       "width": null
      }
     },
     "361609d1df7e400182d3598ae9a653c1": {
      "model_module": "@jupyter-widgets/base",
      "model_module_version": "1.2.0",
      "model_name": "LayoutModel",
      "state": {
       "_model_module": "@jupyter-widgets/base",
       "_model_module_version": "1.2.0",
       "_model_name": "LayoutModel",
       "_view_count": null,
       "_view_module": "@jupyter-widgets/base",
       "_view_module_version": "1.2.0",
       "_view_name": "LayoutView",
       "align_content": null,
       "align_items": null,
       "align_self": null,
       "border": null,
       "bottom": null,
       "display": null,
       "flex": null,
       "flex_flow": null,
       "grid_area": null,
       "grid_auto_columns": null,
       "grid_auto_flow": null,
       "grid_auto_rows": null,
       "grid_column": null,
       "grid_gap": null,
       "grid_row": null,
       "grid_template_areas": null,
       "grid_template_columns": null,
       "grid_template_rows": null,
       "height": null,
       "justify_content": null,
       "justify_items": null,
       "left": null,
       "margin": null,
       "max_height": null,
       "max_width": null,
       "min_height": null,
       "min_width": null,
       "object_fit": null,
       "object_position": null,
       "order": null,
       "overflow": null,
       "overflow_x": null,
       "overflow_y": null,
       "padding": null,
       "right": null,
       "top": null,
       "visibility": null,
       "width": null
      }
     },
     "3bbcfe7c6da6483d9fdeda1cf1c8a67a": {
      "model_module": "@jupyter-widgets/base",
      "model_module_version": "1.2.0",
      "model_name": "LayoutModel",
      "state": {
       "_model_module": "@jupyter-widgets/base",
       "_model_module_version": "1.2.0",
       "_model_name": "LayoutModel",
       "_view_count": null,
       "_view_module": "@jupyter-widgets/base",
       "_view_module_version": "1.2.0",
       "_view_name": "LayoutView",
       "align_content": null,
       "align_items": null,
       "align_self": null,
       "border": null,
       "bottom": null,
       "display": null,
       "flex": null,
       "flex_flow": null,
       "grid_area": null,
       "grid_auto_columns": null,
       "grid_auto_flow": null,
       "grid_auto_rows": null,
       "grid_column": null,
       "grid_gap": null,
       "grid_row": null,
       "grid_template_areas": null,
       "grid_template_columns": null,
       "grid_template_rows": null,
       "height": null,
       "justify_content": null,
       "justify_items": null,
       "left": null,
       "margin": null,
       "max_height": null,
       "max_width": null,
       "min_height": null,
       "min_width": null,
       "object_fit": null,
       "object_position": null,
       "order": null,
       "overflow": null,
       "overflow_x": null,
       "overflow_y": null,
       "padding": null,
       "right": null,
       "top": null,
       "visibility": null,
       "width": null
      }
     },
     "3f8f34151c144d95923484b27c2c3c73": {
      "model_module": "@jupyter-widgets/controls",
      "model_module_version": "1.5.0",
      "model_name": "HTMLModel",
      "state": {
       "_dom_classes": [],
       "_model_module": "@jupyter-widgets/controls",
       "_model_module_version": "1.5.0",
       "_model_name": "HTMLModel",
       "_view_count": null,
       "_view_module": "@jupyter-widgets/controls",
       "_view_module_version": "1.5.0",
       "_view_name": "HTMLView",
       "description": "",
       "description_tooltip": null,
       "layout": "IPY_MODEL_e4d2f23a6b85488280c03ed7d1512e3e",
       "placeholder": "​",
       "style": "IPY_MODEL_71f02674a46a466ca6f07e4adc79e650",
       "value": " 473/473 [00:00&lt;00:00, 789.71 examples/s]"
      }
     },
     "3fd9cba3ce774cd489d318a4da315f48": {
      "model_module": "@jupyter-widgets/base",
      "model_module_version": "1.2.0",
      "model_name": "LayoutModel",
      "state": {
       "_model_module": "@jupyter-widgets/base",
       "_model_module_version": "1.2.0",
       "_model_name": "LayoutModel",
       "_view_count": null,
       "_view_module": "@jupyter-widgets/base",
       "_view_module_version": "1.2.0",
       "_view_name": "LayoutView",
       "align_content": null,
       "align_items": null,
       "align_self": null,
       "border": null,
       "bottom": null,
       "display": null,
       "flex": null,
       "flex_flow": null,
       "grid_area": null,
       "grid_auto_columns": null,
       "grid_auto_flow": null,
       "grid_auto_rows": null,
       "grid_column": null,
       "grid_gap": null,
       "grid_row": null,
       "grid_template_areas": null,
       "grid_template_columns": null,
       "grid_template_rows": null,
       "height": null,
       "justify_content": null,
       "justify_items": null,
       "left": null,
       "margin": null,
       "max_height": null,
       "max_width": null,
       "min_height": null,
       "min_width": null,
       "object_fit": null,
       "object_position": null,
       "order": null,
       "overflow": null,
       "overflow_x": null,
       "overflow_y": null,
       "padding": null,
       "right": null,
       "top": null,
       "visibility": null,
       "width": null
      }
     },
     "454131d4bfec481187bc023eb1d5b84d": {
      "model_module": "@jupyter-widgets/controls",
      "model_module_version": "1.5.0",
      "model_name": "HBoxModel",
      "state": {
       "_dom_classes": [],
       "_model_module": "@jupyter-widgets/controls",
       "_model_module_version": "1.5.0",
       "_model_name": "HBoxModel",
       "_view_count": null,
       "_view_module": "@jupyter-widgets/controls",
       "_view_module_version": "1.5.0",
       "_view_name": "HBoxView",
       "box_style": "",
       "children": [
        "IPY_MODEL_2084518392bd4196a725e8865ac0704d",
        "IPY_MODEL_a759ef24981b4bc7b1eeaf1e908262c9",
        "IPY_MODEL_9ea5c2f55ca64017b4f5fcc5da824ebb"
       ],
       "layout": "IPY_MODEL_81728ee5b8d84eaf94a615aba38a72c9"
      }
     },
     "4672008fa7a348cab4bcebe507d399d3": {
      "model_module": "@jupyter-widgets/controls",
      "model_module_version": "1.5.0",
      "model_name": "DescriptionStyleModel",
      "state": {
       "_model_module": "@jupyter-widgets/controls",
       "_model_module_version": "1.5.0",
       "_model_name": "DescriptionStyleModel",
       "_view_count": null,
       "_view_module": "@jupyter-widgets/base",
       "_view_module_version": "1.2.0",
       "_view_name": "StyleView",
       "description_width": ""
      }
     },
     "5fdc07a8f3e544478589eb62a099e4ef": {
      "model_module": "@jupyter-widgets/base",
      "model_module_version": "1.2.0",
      "model_name": "LayoutModel",
      "state": {
       "_model_module": "@jupyter-widgets/base",
       "_model_module_version": "1.2.0",
       "_model_name": "LayoutModel",
       "_view_count": null,
       "_view_module": "@jupyter-widgets/base",
       "_view_module_version": "1.2.0",
       "_view_name": "LayoutView",
       "align_content": null,
       "align_items": null,
       "align_self": null,
       "border": null,
       "bottom": null,
       "display": null,
       "flex": null,
       "flex_flow": null,
       "grid_area": null,
       "grid_auto_columns": null,
       "grid_auto_flow": null,
       "grid_auto_rows": null,
       "grid_column": null,
       "grid_gap": null,
       "grid_row": null,
       "grid_template_areas": null,
       "grid_template_columns": null,
       "grid_template_rows": null,
       "height": null,
       "justify_content": null,
       "justify_items": null,
       "left": null,
       "margin": null,
       "max_height": null,
       "max_width": null,
       "min_height": null,
       "min_width": null,
       "object_fit": null,
       "object_position": null,
       "order": null,
       "overflow": null,
       "overflow_x": null,
       "overflow_y": null,
       "padding": null,
       "right": null,
       "top": null,
       "visibility": null,
       "width": null
      }
     },
     "64d9d4d31b2e45f38fd685f311d95613": {
      "model_module": "@jupyter-widgets/controls",
      "model_module_version": "1.5.0",
      "model_name": "DescriptionStyleModel",
      "state": {
       "_model_module": "@jupyter-widgets/controls",
       "_model_module_version": "1.5.0",
       "_model_name": "DescriptionStyleModel",
       "_view_count": null,
       "_view_module": "@jupyter-widgets/base",
       "_view_module_version": "1.2.0",
       "_view_name": "StyleView",
       "description_width": ""
      }
     },
     "682962363ae54df0a1bb4a169f87b9ab": {
      "model_module": "@jupyter-widgets/controls",
      "model_module_version": "1.5.0",
      "model_name": "HTMLModel",
      "state": {
       "_dom_classes": [],
       "_model_module": "@jupyter-widgets/controls",
       "_model_module_version": "1.5.0",
       "_model_name": "HTMLModel",
       "_view_count": null,
       "_view_module": "@jupyter-widgets/controls",
       "_view_module_version": "1.5.0",
       "_view_name": "HTMLView",
       "description": "",
       "description_tooltip": null,
       "layout": "IPY_MODEL_5fdc07a8f3e544478589eb62a099e4ef",
       "placeholder": "​",
       "style": "IPY_MODEL_4672008fa7a348cab4bcebe507d399d3",
       "value": "Saving the dataset (1/1 shards): 100%"
      }
     },
     "71f02674a46a466ca6f07e4adc79e650": {
      "model_module": "@jupyter-widgets/controls",
      "model_module_version": "1.5.0",
      "model_name": "DescriptionStyleModel",
      "state": {
       "_model_module": "@jupyter-widgets/controls",
       "_model_module_version": "1.5.0",
       "_model_name": "DescriptionStyleModel",
       "_view_count": null,
       "_view_module": "@jupyter-widgets/base",
       "_view_module_version": "1.2.0",
       "_view_name": "StyleView",
       "description_width": ""
      }
     },
     "7602a3b7dba140dca2a179921d70899d": {
      "model_module": "@jupyter-widgets/base",
      "model_module_version": "1.2.0",
      "model_name": "LayoutModel",
      "state": {
       "_model_module": "@jupyter-widgets/base",
       "_model_module_version": "1.2.0",
       "_model_name": "LayoutModel",
       "_view_count": null,
       "_view_module": "@jupyter-widgets/base",
       "_view_module_version": "1.2.0",
       "_view_name": "LayoutView",
       "align_content": null,
       "align_items": null,
       "align_self": null,
       "border": null,
       "bottom": null,
       "display": null,
       "flex": null,
       "flex_flow": null,
       "grid_area": null,
       "grid_auto_columns": null,
       "grid_auto_flow": null,
       "grid_auto_rows": null,
       "grid_column": null,
       "grid_gap": null,
       "grid_row": null,
       "grid_template_areas": null,
       "grid_template_columns": null,
       "grid_template_rows": null,
       "height": null,
       "justify_content": null,
       "justify_items": null,
       "left": null,
       "margin": null,
       "max_height": null,
       "max_width": null,
       "min_height": null,
       "min_width": null,
       "object_fit": null,
       "object_position": null,
       "order": null,
       "overflow": null,
       "overflow_x": null,
       "overflow_y": null,
       "padding": null,
       "right": null,
       "top": null,
       "visibility": null,
       "width": null
      }
     },
     "81728ee5b8d84eaf94a615aba38a72c9": {
      "model_module": "@jupyter-widgets/base",
      "model_module_version": "1.2.0",
      "model_name": "LayoutModel",
      "state": {
       "_model_module": "@jupyter-widgets/base",
       "_model_module_version": "1.2.0",
       "_model_name": "LayoutModel",
       "_view_count": null,
       "_view_module": "@jupyter-widgets/base",
       "_view_module_version": "1.2.0",
       "_view_name": "LayoutView",
       "align_content": null,
       "align_items": null,
       "align_self": null,
       "border": null,
       "bottom": null,
       "display": null,
       "flex": null,
       "flex_flow": null,
       "grid_area": null,
       "grid_auto_columns": null,
       "grid_auto_flow": null,
       "grid_auto_rows": null,
       "grid_column": null,
       "grid_gap": null,
       "grid_row": null,
       "grid_template_areas": null,
       "grid_template_columns": null,
       "grid_template_rows": null,
       "height": null,
       "justify_content": null,
       "justify_items": null,
       "left": null,
       "margin": null,
       "max_height": null,
       "max_width": null,
       "min_height": null,
       "min_width": null,
       "object_fit": null,
       "object_position": null,
       "order": null,
       "overflow": null,
       "overflow_x": null,
       "overflow_y": null,
       "padding": null,
       "right": null,
       "top": null,
       "visibility": null,
       "width": null
      }
     },
     "86d97c408ee44a15b4a0a12da3fb49e8": {
      "model_module": "@jupyter-widgets/controls",
      "model_module_version": "1.5.0",
      "model_name": "HTMLModel",
      "state": {
       "_dom_classes": [],
       "_model_module": "@jupyter-widgets/controls",
       "_model_module_version": "1.5.0",
       "_model_name": "HTMLModel",
       "_view_count": null,
       "_view_module": "@jupyter-widgets/controls",
       "_view_module_version": "1.5.0",
       "_view_name": "HTMLView",
       "description": "",
       "description_tooltip": null,
       "layout": "IPY_MODEL_361609d1df7e400182d3598ae9a653c1",
       "placeholder": "​",
       "style": "IPY_MODEL_d96311dc2646462d81af908b8a00ef75",
       "value": " 120/120 [00:00&lt;00:00, 799.79it/s]"
      }
     },
     "8b0790ba785b435a87f8cbad72415ee0": {
      "model_module": "@jupyter-widgets/controls",
      "model_module_version": "1.5.0",
      "model_name": "ProgressStyleModel",
      "state": {
       "_model_module": "@jupyter-widgets/controls",
       "_model_module_version": "1.5.0",
       "_model_name": "ProgressStyleModel",
       "_view_count": null,
       "_view_module": "@jupyter-widgets/base",
       "_view_module_version": "1.2.0",
       "_view_name": "StyleView",
       "bar_color": null,
       "description_width": ""
      }
     },
     "918ab2555ae84e4e8640f3876b51616c": {
      "model_module": "@jupyter-widgets/controls",
      "model_module_version": "1.5.0",
      "model_name": "DescriptionStyleModel",
      "state": {
       "_model_module": "@jupyter-widgets/controls",
       "_model_module_version": "1.5.0",
       "_model_name": "DescriptionStyleModel",
       "_view_count": null,
       "_view_module": "@jupyter-widgets/base",
       "_view_module_version": "1.2.0",
       "_view_name": "StyleView",
       "description_width": ""
      }
     },
     "9e3c8d1b6d7c4146a0e5d56a5d1d62ec": {
      "model_module": "@jupyter-widgets/controls",
      "model_module_version": "1.5.0",
      "model_name": "HTMLModel",
      "state": {
       "_dom_classes": [],
       "_model_module": "@jupyter-widgets/controls",
       "_model_module_version": "1.5.0",
       "_model_name": "HTMLModel",
       "_view_count": null,
       "_view_module": "@jupyter-widgets/controls",
       "_view_module_version": "1.5.0",
       "_view_name": "HTMLView",
       "description": "",
       "description_tooltip": null,
       "layout": "IPY_MODEL_e15ebf94780c4064929686ad26dee1f5",
       "placeholder": "​",
       "style": "IPY_MODEL_b146f638f3ac43f1bcd115ca1ac39570",
       "value": "100%"
      }
     },
     "9ea5c2f55ca64017b4f5fcc5da824ebb": {
      "model_module": "@jupyter-widgets/controls",
      "model_module_version": "1.5.0",
      "model_name": "HTMLModel",
      "state": {
       "_dom_classes": [],
       "_model_module": "@jupyter-widgets/controls",
       "_model_module_version": "1.5.0",
       "_model_name": "HTMLModel",
       "_view_count": null,
       "_view_module": "@jupyter-widgets/controls",
       "_view_module_version": "1.5.0",
       "_view_name": "HTMLView",
       "description": "",
       "description_tooltip": null,
       "layout": "IPY_MODEL_30db1fbef23d4012ba9f3b8d0822e542",
       "placeholder": "​",
       "style": "IPY_MODEL_64d9d4d31b2e45f38fd685f311d95613",
       "value": " 473/473 [00:08&lt;00:00, 57.61 examples/s]"
      }
     },
     "a759ef24981b4bc7b1eeaf1e908262c9": {
      "model_module": "@jupyter-widgets/controls",
      "model_module_version": "1.5.0",
      "model_name": "FloatProgressModel",
      "state": {
       "_dom_classes": [],
       "_model_module": "@jupyter-widgets/controls",
       "_model_module_version": "1.5.0",
       "_model_name": "FloatProgressModel",
       "_view_count": null,
       "_view_module": "@jupyter-widgets/controls",
       "_view_module_version": "1.5.0",
       "_view_name": "ProgressView",
       "bar_style": "success",
       "description": "",
       "description_tooltip": null,
       "layout": "IPY_MODEL_7602a3b7dba140dca2a179921d70899d",
       "max": 473,
       "min": 0,
       "orientation": "horizontal",
       "style": "IPY_MODEL_8b0790ba785b435a87f8cbad72415ee0",
       "value": 473
      }
     },
     "b146f638f3ac43f1bcd115ca1ac39570": {
      "model_module": "@jupyter-widgets/controls",
      "model_module_version": "1.5.0",
      "model_name": "DescriptionStyleModel",
      "state": {
       "_model_module": "@jupyter-widgets/controls",
       "_model_module_version": "1.5.0",
       "_model_name": "DescriptionStyleModel",
       "_view_count": null,
       "_view_module": "@jupyter-widgets/base",
       "_view_module_version": "1.2.0",
       "_view_name": "StyleView",
       "description_width": ""
      }
     },
     "b4f6c146db01462197144ffeb6f8cd6b": {
      "model_module": "@jupyter-widgets/controls",
      "model_module_version": "1.5.0",
      "model_name": "ProgressStyleModel",
      "state": {
       "_model_module": "@jupyter-widgets/controls",
       "_model_module_version": "1.5.0",
       "_model_name": "ProgressStyleModel",
       "_view_count": null,
       "_view_module": "@jupyter-widgets/base",
       "_view_module_version": "1.2.0",
       "_view_name": "StyleView",
       "bar_color": null,
       "description_width": ""
      }
     },
     "c0ccc6969bd6413383eced78ba8459c6": {
      "model_module": "@jupyter-widgets/controls",
      "model_module_version": "1.5.0",
      "model_name": "FloatProgressModel",
      "state": {
       "_dom_classes": [],
       "_model_module": "@jupyter-widgets/controls",
       "_model_module_version": "1.5.0",
       "_model_name": "FloatProgressModel",
       "_view_count": null,
       "_view_module": "@jupyter-widgets/controls",
       "_view_module_version": "1.5.0",
       "_view_name": "ProgressView",
       "bar_style": "success",
       "description": "",
       "description_tooltip": null,
       "layout": "IPY_MODEL_065dfc0d539742b8a3c70f24012f1da0",
       "max": 120,
       "min": 0,
       "orientation": "horizontal",
       "style": "IPY_MODEL_b4f6c146db01462197144ffeb6f8cd6b",
       "value": 120
      }
     },
     "d093f6c9a6754a74b3cd0164e564d490": {
      "model_module": "@jupyter-widgets/controls",
      "model_module_version": "1.5.0",
      "model_name": "HBoxModel",
      "state": {
       "_dom_classes": [],
       "_model_module": "@jupyter-widgets/controls",
       "_model_module_version": "1.5.0",
       "_model_name": "HBoxModel",
       "_view_count": null,
       "_view_module": "@jupyter-widgets/controls",
       "_view_module_version": "1.5.0",
       "_view_name": "HBoxView",
       "box_style": "",
       "children": [
        "IPY_MODEL_682962363ae54df0a1bb4a169f87b9ab",
        "IPY_MODEL_0e0000fcb65548678db6b70a3ebddc62",
        "IPY_MODEL_3f8f34151c144d95923484b27c2c3c73"
       ],
       "layout": "IPY_MODEL_3bbcfe7c6da6483d9fdeda1cf1c8a67a"
      }
     },
     "d29f9ecaf342495ba015cf92ba36185f": {
      "model_module": "@jupyter-widgets/base",
      "model_module_version": "1.2.0",
      "model_name": "LayoutModel",
      "state": {
       "_model_module": "@jupyter-widgets/base",
       "_model_module_version": "1.2.0",
       "_model_name": "LayoutModel",
       "_view_count": null,
       "_view_module": "@jupyter-widgets/base",
       "_view_module_version": "1.2.0",
       "_view_name": "LayoutView",
       "align_content": null,
       "align_items": null,
       "align_self": null,
       "border": null,
       "bottom": null,
       "display": null,
       "flex": null,
       "flex_flow": null,
       "grid_area": null,
       "grid_auto_columns": null,
       "grid_auto_flow": null,
       "grid_auto_rows": null,
       "grid_column": null,
       "grid_gap": null,
       "grid_row": null,
       "grid_template_areas": null,
       "grid_template_columns": null,
       "grid_template_rows": null,
       "height": null,
       "justify_content": null,
       "justify_items": null,
       "left": null,
       "margin": null,
       "max_height": null,
       "max_width": null,
       "min_height": null,
       "min_width": null,
       "object_fit": null,
       "object_position": null,
       "order": null,
       "overflow": null,
       "overflow_x": null,
       "overflow_y": null,
       "padding": null,
       "right": null,
       "top": null,
       "visibility": null,
       "width": null
      }
     },
     "d96311dc2646462d81af908b8a00ef75": {
      "model_module": "@jupyter-widgets/controls",
      "model_module_version": "1.5.0",
      "model_name": "DescriptionStyleModel",
      "state": {
       "_model_module": "@jupyter-widgets/controls",
       "_model_module_version": "1.5.0",
       "_model_name": "DescriptionStyleModel",
       "_view_count": null,
       "_view_module": "@jupyter-widgets/base",
       "_view_module_version": "1.2.0",
       "_view_name": "StyleView",
       "description_width": ""
      }
     },
     "e15ebf94780c4064929686ad26dee1f5": {
      "model_module": "@jupyter-widgets/base",
      "model_module_version": "1.2.0",
      "model_name": "LayoutModel",
      "state": {
       "_model_module": "@jupyter-widgets/base",
       "_model_module_version": "1.2.0",
       "_model_name": "LayoutModel",
       "_view_count": null,
       "_view_module": "@jupyter-widgets/base",
       "_view_module_version": "1.2.0",
       "_view_name": "LayoutView",
       "align_content": null,
       "align_items": null,
       "align_self": null,
       "border": null,
       "bottom": null,
       "display": null,
       "flex": null,
       "flex_flow": null,
       "grid_area": null,
       "grid_auto_columns": null,
       "grid_auto_flow": null,
       "grid_auto_rows": null,
       "grid_column": null,
       "grid_gap": null,
       "grid_row": null,
       "grid_template_areas": null,
       "grid_template_columns": null,
       "grid_template_rows": null,
       "height": null,
       "justify_content": null,
       "justify_items": null,
       "left": null,
       "margin": null,
       "max_height": null,
       "max_width": null,
       "min_height": null,
       "min_width": null,
       "object_fit": null,
       "object_position": null,
       "order": null,
       "overflow": null,
       "overflow_x": null,
       "overflow_y": null,
       "padding": null,
       "right": null,
       "top": null,
       "visibility": null,
       "width": null
      }
     },
     "e4d2f23a6b85488280c03ed7d1512e3e": {
      "model_module": "@jupyter-widgets/base",
      "model_module_version": "1.2.0",
      "model_name": "LayoutModel",
      "state": {
       "_model_module": "@jupyter-widgets/base",
       "_model_module_version": "1.2.0",
       "_model_name": "LayoutModel",
       "_view_count": null,
       "_view_module": "@jupyter-widgets/base",
       "_view_module_version": "1.2.0",
       "_view_name": "LayoutView",
       "align_content": null,
       "align_items": null,
       "align_self": null,
       "border": null,
       "bottom": null,
       "display": null,
       "flex": null,
       "flex_flow": null,
       "grid_area": null,
       "grid_auto_columns": null,
       "grid_auto_flow": null,
       "grid_auto_rows": null,
       "grid_column": null,
       "grid_gap": null,
       "grid_row": null,
       "grid_template_areas": null,
       "grid_template_columns": null,
       "grid_template_rows": null,
       "height": null,
       "justify_content": null,
       "justify_items": null,
       "left": null,
       "margin": null,
       "max_height": null,
       "max_width": null,
       "min_height": null,
       "min_width": null,
       "object_fit": null,
       "object_position": null,
       "order": null,
       "overflow": null,
       "overflow_x": null,
       "overflow_y": null,
       "padding": null,
       "right": null,
       "top": null,
       "visibility": null,
       "width": null
      }
     },
     "f3748185040e47ae96553b3817969d0a": {
      "model_module": "@jupyter-widgets/controls",
      "model_module_version": "1.5.0",
      "model_name": "HBoxModel",
      "state": {
       "_dom_classes": [],
       "_model_module": "@jupyter-widgets/controls",
       "_model_module_version": "1.5.0",
       "_model_name": "HBoxModel",
       "_view_count": null,
       "_view_module": "@jupyter-widgets/controls",
       "_view_module_version": "1.5.0",
       "_view_name": "HBoxView",
       "box_style": "",
       "children": [
        "IPY_MODEL_9e3c8d1b6d7c4146a0e5d56a5d1d62ec",
        "IPY_MODEL_c0ccc6969bd6413383eced78ba8459c6",
        "IPY_MODEL_86d97c408ee44a15b4a0a12da3fb49e8"
       ],
       "layout": "IPY_MODEL_f48ecdafd26444ab94df39f3d0b00fc6"
      }
     },
     "f48ecdafd26444ab94df39f3d0b00fc6": {
      "model_module": "@jupyter-widgets/base",
      "model_module_version": "1.2.0",
      "model_name": "LayoutModel",
      "state": {
       "_model_module": "@jupyter-widgets/base",
       "_model_module_version": "1.2.0",
       "_model_name": "LayoutModel",
       "_view_count": null,
       "_view_module": "@jupyter-widgets/base",
       "_view_module_version": "1.2.0",
       "_view_name": "LayoutView",
       "align_content": null,
       "align_items": null,
       "align_self": null,
       "border": null,
       "bottom": null,
       "display": null,
       "flex": null,
       "flex_flow": null,
       "grid_area": null,
       "grid_auto_columns": null,
       "grid_auto_flow": null,
       "grid_auto_rows": null,
       "grid_column": null,
       "grid_gap": null,
       "grid_row": null,
       "grid_template_areas": null,
       "grid_template_columns": null,
       "grid_template_rows": null,
       "height": null,
       "justify_content": null,
       "justify_items": null,
       "left": null,
       "margin": null,
       "max_height": null,
       "max_width": null,
       "min_height": null,
       "min_width": null,
       "object_fit": null,
       "object_position": null,
       "order": null,
       "overflow": null,
       "overflow_x": null,
       "overflow_y": null,
       "padding": null,
       "right": null,
       "top": null,
       "visibility": null,
       "width": null
      }
     }
    },
    "version_major": 2,
    "version_minor": 0
   }
  }
 },
 "nbformat": 4,
 "nbformat_minor": 5
}
