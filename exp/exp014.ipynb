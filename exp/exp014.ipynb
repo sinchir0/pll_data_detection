{
 "cells": [
  {
   "cell_type": "markdown",
   "metadata": {},
   "source": [
    "# 目的\n",
    "- randomなvalidを利用する\n",
    "- moredata_dataset_fixed.csvを利用する"
   ]
  },
  {
   "cell_type": "code",
   "execution_count": 1,
   "metadata": {
    "execution": {
     "iopub.execute_input": "2024-02-29T11:24:22.334613Z",
     "iopub.status.busy": "2024-02-29T11:24:22.334427Z",
     "iopub.status.idle": "2024-02-29T11:24:22.342427Z",
     "shell.execute_reply": "2024-02-29T11:24:22.341978Z"
    },
    "tags": []
   },
   "outputs": [],
   "source": [
    "EXP_NAME = \"e14-random-valid-only-moredata\"\n",
    "MODEL_NAME = \"microsoft/deberta-v3-base\"\n",
    "DATA_PATH = \"pll_data_detection/data\"  # vscode, nohup\n",
    "# DATA_PATH = \"../../pll_data_detection/data\" # jupyterlab\n",
    "DATASET_NAME = f\"{EXP_NAME}-{MODEL_NAME.split('/')[-1]}\"\n",
    "if len(DATASET_NAME) < 6 or len(DATASET_NAME) > 50:\n",
    "    raise Exception(f\"データセットの文字列は6~50文字にしてください。現在{len(DATASET_NAME)}文字\")\n",
    "LOG_PATH = f\"pll_data_detection/log/{EXP_NAME}\"\n",
    "MODEL_OUTPUT_PATH = f\"pll_data_detection/trained_models/{EXP_NAME}\"\n",
    "DEBUG = False\n",
    "UPLOAD_DATA = True\n",
    "TRAINING_MAX_LENGTH = 1024  # NOTE: ほとんどOなのに、後半のtokenに正解があると、truncationで落ちてしまって勿体無い\n",
    "INFERENCE_MAX_LENGTH = 2048"
   ]
  },
  {
   "cell_type": "markdown",
   "metadata": {},
   "source": [
    "# Install"
   ]
  },
  {
   "cell_type": "code",
   "execution_count": 2,
   "metadata": {
    "execution": {
     "iopub.execute_input": "2024-02-29T11:24:22.344326Z",
     "iopub.status.busy": "2024-02-29T11:24:22.344159Z",
     "iopub.status.idle": "2024-02-29T11:24:46.511273Z",
     "shell.execute_reply": "2024-02-29T11:24:46.510464Z"
    },
    "tags": []
   },
   "outputs": [],
   "source": [
    "%pip install polars==0.20.10\n",
    "%pip install transformers==4.37.2\n",
    "%pip install datasets==2.16.1\n",
    "%pip install evaluate==0.4.1\n",
    "%pip install seqeval==1.2.2\n",
    "%pip install accelerate\n",
    "%pip install python-dotenv\n",
    "%pip install kaggle\n",
    "%pip iinstall wandb==0.16.3\n",
    "\n",
    "# formatter\n",
    "%pip install black isort"
   ]
  },
  {
   "cell_type": "markdown",
   "metadata": {},
   "source": [
    "# Import"
   ]
  },
  {
   "cell_type": "code",
   "execution_count": 3,
   "metadata": {
    "autoscroll": "auto",
    "collapsed": false,
    "execution": {
     "iopub.execute_input": "2024-02-29T11:24:46.513826Z",
     "iopub.status.busy": "2024-02-29T11:24:46.513617Z",
     "iopub.status.idle": "2024-02-29T11:24:50.349651Z",
     "shell.execute_reply": "2024-02-29T11:24:50.348986Z"
    },
    "jupyter": {
     "outputs_hidden": false
    },
    "tags": []
   },
   "outputs": [],
   "source": [
    "import os\n",
    "\n",
    "import json\n",
    "import ast\n",
    "import evaluate\n",
    "import numpy as np\n",
    "import polars as pl\n",
    "import torch\n",
    "import wandb\n",
    "from datasets import DatasetDict, load_dataset, concatenate_datasets, Value, ClassLabel\n",
    "from seqeval.metrics import accuracy_score, f1_score, precision_score, recall_score\n",
    "from tqdm.auto import tqdm\n",
    "from transformers import (\n",
    "    AutoModelForTokenClassification,\n",
    "    AutoTokenizer,\n",
    "    DataCollatorForTokenClassification,\n",
    "    TokenClassificationPipeline,\n",
    "    Trainer,\n",
    "    TrainingArguments,\n",
    ")\n",
    "\n",
    "os.environ[\"TOKENIZERS_PARALLELISM\"] = \"false\""
   ]
  },
  {
   "cell_type": "code",
   "execution_count": 4,
   "metadata": {
    "execution": {
     "iopub.execute_input": "2024-02-29T11:24:50.352687Z",
     "iopub.status.busy": "2024-02-29T11:24:50.352208Z",
     "iopub.status.idle": "2024-02-29T11:24:50.354899Z",
     "shell.execute_reply": "2024-02-29T11:24:50.354537Z"
    },
    "tags": []
   },
   "outputs": [],
   "source": [
    "import transformers\n",
    "\n",
    "assert transformers.__version__ == \"4.37.2\""
   ]
  },
  {
   "cell_type": "code",
   "execution_count": 5,
   "metadata": {
    "execution": {
     "iopub.execute_input": "2024-02-29T11:24:50.356982Z",
     "iopub.status.busy": "2024-02-29T11:24:50.356527Z",
     "iopub.status.idle": "2024-02-29T11:24:50.358917Z",
     "shell.execute_reply": "2024-02-29T11:24:50.358529Z"
    },
    "tags": []
   },
   "outputs": [],
   "source": [
    "import datasets\n",
    "\n",
    "assert datasets.__version__ == \"2.16.1\""
   ]
  },
  {
   "cell_type": "code",
   "execution_count": 6,
   "metadata": {
    "execution": {
     "iopub.execute_input": "2024-02-29T11:24:50.360836Z",
     "iopub.status.busy": "2024-02-29T11:24:50.360430Z",
     "iopub.status.idle": "2024-02-29T11:24:50.362734Z",
     "shell.execute_reply": "2024-02-29T11:24:50.362341Z"
    },
    "tags": []
   },
   "outputs": [],
   "source": [
    "import evaluate\n",
    "\n",
    "assert evaluate.__version__ == \"0.4.1\""
   ]
  },
  {
   "cell_type": "markdown",
   "metadata": {},
   "source": [
    "# Wandb"
   ]
  },
  {
   "cell_type": "code",
   "execution_count": 7,
   "metadata": {
    "autoscroll": "auto",
    "collapsed": false,
    "execution": {
     "iopub.execute_input": "2024-02-29T11:24:50.364642Z",
     "iopub.status.busy": "2024-02-29T11:24:50.364317Z",
     "iopub.status.idle": "2024-02-29T11:24:54.250206Z",
     "shell.execute_reply": "2024-02-29T11:24:54.249379Z"
    },
    "jupyter": {
     "outputs_hidden": false
    },
    "tags": []
   },
   "outputs": [
    {
     "data": {
      "text/html": [
       "wandb version 0.16.3 is available!  To upgrade, please run:\n",
       " $ pip install wandb --upgrade"
      ],
      "text/plain": [
       "<IPython.core.display.HTML object>"
      ]
     },
     "metadata": {},
     "output_type": "display_data"
    },
    {
     "data": {
      "text/html": [
       "Tracking run with wandb version 0.13.4"
      ],
      "text/plain": [
       "<IPython.core.display.HTML object>"
      ]
     },
     "metadata": {},
     "output_type": "display_data"
    },
    {
     "data": {
      "text/html": [
       "Run data is saved locally in <code>/notebooks/wandb/run-20240229_112452-2srm2r0v</code>"
      ],
      "text/plain": [
       "<IPython.core.display.HTML object>"
      ]
     },
     "metadata": {},
     "output_type": "display_data"
    },
    {
     "data": {
      "text/html": [
       "Syncing run <strong><a href=\"https://wandb.ai/sinchir0/pll/runs/2srm2r0v\" target=\"_blank\">e14-random-valid-only-moredata</a></strong> to <a href=\"https://wandb.ai/sinchir0/pll\" target=\"_blank\">Weights & Biases</a> (<a href=\"https://wandb.me/run\" target=\"_blank\">docs</a>)<br/>"
      ],
      "text/plain": [
       "<IPython.core.display.HTML object>"
      ]
     },
     "metadata": {},
     "output_type": "display_data"
    },
    {
     "data": {
      "text/plain": [
       "'wandb'"
      ]
     },
     "execution_count": 7,
     "metadata": {},
     "output_type": "execute_result"
    }
   ],
   "source": [
    "from dotenv import load_dotenv\n",
    "\n",
    "if not DEBUG:\n",
    "    load_dotenv(f\"{DATA_PATH}/.env\")\n",
    "    wandb.login(key=os.environ[\"WANDB_API_KEY\"])\n",
    "    wandb.init(project=\"pll\", name=EXP_NAME)\n",
    "    REPORT_TO = \"wandb\"\n",
    "else:\n",
    "    REPORT_TO = \"none\"\n",
    "\n",
    "REPORT_TO"
   ]
  },
  {
   "cell_type": "markdown",
   "metadata": {},
   "source": [
    "# Check Environment"
   ]
  },
  {
   "cell_type": "code",
   "execution_count": 8,
   "metadata": {
    "autoscroll": "auto",
    "collapsed": false,
    "execution": {
     "iopub.execute_input": "2024-02-29T11:24:54.270524Z",
     "iopub.status.busy": "2024-02-29T11:24:54.270303Z",
     "iopub.status.idle": "2024-02-29T11:24:54.842843Z",
     "shell.execute_reply": "2024-02-29T11:24:54.842117Z"
    },
    "jupyter": {
     "outputs_hidden": false
    }
   },
   "outputs": [],
   "source": [
    "!python --version"
   ]
  },
  {
   "cell_type": "code",
   "execution_count": 9,
   "metadata": {
    "autoscroll": "auto",
    "collapsed": false,
    "execution": {
     "iopub.execute_input": "2024-02-29T11:24:54.845704Z",
     "iopub.status.busy": "2024-02-29T11:24:54.845493Z",
     "iopub.status.idle": "2024-02-29T11:24:55.737991Z",
     "shell.execute_reply": "2024-02-29T11:24:55.737379Z"
    },
    "jupyter": {
     "outputs_hidden": false
    }
   },
   "outputs": [],
   "source": [
    "!nvidia-smi"
   ]
  },
  {
   "cell_type": "markdown",
   "metadata": {},
   "source": [
    "# Data Load"
   ]
  },
  {
   "cell_type": "code",
   "execution_count": 10,
   "metadata": {
    "autoscroll": "auto",
    "collapsed": false,
    "execution": {
     "iopub.execute_input": "2024-02-29T11:24:55.741082Z",
     "iopub.status.busy": "2024-02-29T11:24:55.740873Z",
     "iopub.status.idle": "2024-02-29T11:24:55.743632Z",
     "shell.execute_reply": "2024-02-29T11:24:55.743261Z"
    },
    "jupyter": {
     "outputs_hidden": false
    }
   },
   "outputs": [],
   "source": [
    "# # データ確認用\n",
    "# train = pl.read_json(f\"{DATA_PATH}/train.json\")\n",
    "# train.head()"
   ]
  },
  {
   "cell_type": "code",
   "execution_count": 11,
   "metadata": {
    "autoscroll": "auto",
    "collapsed": false,
    "execution": {
     "iopub.execute_input": "2024-02-29T11:24:55.745617Z",
     "iopub.status.busy": "2024-02-29T11:24:55.745465Z",
     "iopub.status.idle": "2024-02-29T11:24:55.747811Z",
     "shell.execute_reply": "2024-02-29T11:24:55.747433Z"
    },
    "jupyter": {
     "outputs_hidden": false
    }
   },
   "outputs": [],
   "source": [
    "# # データ確認用\n",
    "# test = pl.read_json(f\"{DATA_PATH}/test.json\")"
   ]
  },
  {
   "cell_type": "code",
   "execution_count": 12,
   "metadata": {
    "autoscroll": "auto",
    "collapsed": false,
    "execution": {
     "iopub.execute_input": "2024-02-29T11:24:55.749669Z",
     "iopub.status.busy": "2024-02-29T11:24:55.749511Z",
     "iopub.status.idle": "2024-02-29T11:24:55.961468Z",
     "shell.execute_reply": "2024-02-29T11:24:55.961032Z"
    },
    "jupyter": {
     "outputs_hidden": false
    }
   },
   "outputs": [],
   "source": [
    "def convert_string_to_list(example, col):\n",
    "    # 'your_column_name'は変換したい列の名前に置き換えてください\n",
    "    example[col] = eval(example[col])\n",
    "    return example\n",
    "\n",
    "\n",
    "external_pii_dataset = (\n",
    "    load_dataset(\n",
    "        \"csv\",\n",
    "        data_files={\"train\": f\"{DATA_PATH}/pii_dataset_fixed.csv\"},\n",
    "        split=\"train\",\n",
    "    )\n",
    "    .select_columns([\"document\", \"labels\", \"text\", \"trailing_whitespace\", \"tokens\"])\n",
    "    .rename_columns({\"labels\": \"provided_labels\", \"text\": \"full_text\"})\n",
    "    .map(convert_string_to_list, fn_kwargs={\"col\": \"provided_labels\"}, num_proc=3)\n",
    "    .map(convert_string_to_list, fn_kwargs={\"col\": \"trailing_whitespace\"}, num_proc=3)\n",
    "    .map(convert_string_to_list, fn_kwargs={\"col\": \"tokens\"}, num_proc=3)\n",
    "    .map(lambda example: {\"flag\": \"external\"}, num_proc=3)\n",
    ")"
   ]
  },
  {
   "cell_type": "code",
   "execution_count": 13,
   "metadata": {
    "autoscroll": "auto",
    "collapsed": false,
    "execution": {
     "iopub.execute_input": "2024-02-29T11:24:55.963940Z",
     "iopub.status.busy": "2024-02-29T11:24:55.963771Z",
     "iopub.status.idle": "2024-02-29T11:24:56.490377Z",
     "shell.execute_reply": "2024-02-29T11:24:56.489945Z"
    },
    "jupyter": {
     "outputs_hidden": false
    }
   },
   "outputs": [],
   "source": [
    "moredata_pii_dataset = (\n",
    "    load_dataset(\n",
    "        \"csv\",\n",
    "        data_files={\"train\": f\"{DATA_PATH}/moredata_dataset_fixed.csv\"},\n",
    "        split=\"train\",\n",
    "    )\n",
    "    .rename_columns({\"labels\": \"provided_labels\", \"text\": \"full_text\"})\n",
    "    .map(convert_string_to_list, fn_kwargs={\"col\": \"provided_labels\"}, num_proc=3)\n",
    "    .map(convert_string_to_list, fn_kwargs={\"col\": \"trailing_whitespace\"}, num_proc=3)\n",
    "    .map(convert_string_to_list, fn_kwargs={\"col\": \"tokens\"}, num_proc=3)\n",
    "    .map(lambda example: {\"flag\": \"moredata\"}, num_proc=3)\n",
    ")"
   ]
  },
  {
   "cell_type": "code",
   "execution_count": 14,
   "metadata": {
    "autoscroll": "auto",
    "collapsed": false,
    "execution": {
     "iopub.execute_input": "2024-02-29T11:24:56.493452Z",
     "iopub.status.busy": "2024-02-29T11:24:56.492960Z",
     "iopub.status.idle": "2024-02-29T11:24:56.497047Z",
     "shell.execute_reply": "2024-02-29T11:24:56.496672Z"
    },
    "jupyter": {
     "outputs_hidden": false
    }
   },
   "outputs": [
    {
     "data": {
      "text/plain": [
       "{'document': Value(dtype='string', id=None),\n",
       " 'full_text': Value(dtype='string', id=None),\n",
       " 'tokens': Sequence(feature=Value(dtype='string', id=None), length=-1, id=None),\n",
       " 'trailing_whitespace': Sequence(feature=Value(dtype='bool', id=None), length=-1, id=None),\n",
       " 'provided_labels': Sequence(feature=Value(dtype='string', id=None), length=-1, id=None),\n",
       " 'flag': Value(dtype='string', id=None)}"
      ]
     },
     "execution_count": 14,
     "metadata": {},
     "output_type": "execute_result"
    }
   ],
   "source": [
    "moredata_pii_dataset.features"
   ]
  },
  {
   "cell_type": "code",
   "execution_count": 15,
   "metadata": {
    "autoscroll": "auto",
    "collapsed": false,
    "execution": {
     "iopub.execute_input": "2024-02-29T11:24:56.499135Z",
     "iopub.status.busy": "2024-02-29T11:24:56.498751Z",
     "iopub.status.idle": "2024-02-29T11:24:56.502348Z",
     "shell.execute_reply": "2024-02-29T11:24:56.501996Z"
    },
    "jupyter": {
     "outputs_hidden": false
    }
   },
   "outputs": [
    {
     "data": {
      "text/plain": [
       "{'document': Value(dtype='string', id=None),\n",
       " 'provided_labels': Sequence(feature=Value(dtype='string', id=None), length=-1, id=None),\n",
       " 'full_text': Value(dtype='string', id=None),\n",
       " 'trailing_whitespace': Sequence(feature=Value(dtype='bool', id=None), length=-1, id=None),\n",
       " 'tokens': Sequence(feature=Value(dtype='string', id=None), length=-1, id=None),\n",
       " 'flag': Value(dtype='string', id=None)}"
      ]
     },
     "execution_count": 15,
     "metadata": {},
     "output_type": "execute_result"
    }
   ],
   "source": [
    "external_pii_dataset.features"
   ]
  },
  {
   "cell_type": "code",
   "execution_count": 16,
   "metadata": {
    "autoscroll": "auto",
    "collapsed": false,
    "execution": {
     "iopub.execute_input": "2024-02-29T11:24:56.504250Z",
     "iopub.status.busy": "2024-02-29T11:24:56.503890Z",
     "iopub.status.idle": "2024-02-29T11:24:57.564436Z",
     "shell.execute_reply": "2024-02-29T11:24:57.563995Z"
    },
    "jupyter": {
     "outputs_hidden": false
    }
   },
   "outputs": [],
   "source": [
    "train_dataset = (\n",
    "    load_dataset(\n",
    "        \"json\", data_files={\"train\": f\"{DATA_PATH}/train.json\"}, split=\"train\"\n",
    "    ).rename_column(\"labels\", \"provided_labels\")\n",
    "    # documentをstringに変換\n",
    "    .cast_column(\"document\", Value(dtype=\"string\", id=None))\n",
    "    # 識別のためのflagを追加\n",
    "    .map(lambda example: {\"flag\": \"original\"})\n",
    ")\n",
    "\n",
    "test_dataset = load_dataset(\n",
    "    \"json\", data_files={\"test\": f\"{DATA_PATH}/test.json\"}, split=\"test\"\n",
    ")"
   ]
  },
  {
   "cell_type": "code",
   "execution_count": 17,
   "metadata": {
    "execution": {
     "iopub.execute_input": "2024-02-29T11:24:57.567780Z",
     "iopub.status.busy": "2024-02-29T11:24:57.567381Z",
     "iopub.status.idle": "2024-02-29T11:24:57.573943Z",
     "shell.execute_reply": "2024-02-29T11:24:57.573562Z"
    }
   },
   "outputs": [],
   "source": [
    "# 外部データと結合\n",
    "train_dataset = concatenate_datasets(\n",
    "    [train_dataset, external_pii_dataset, moredata_pii_dataset]\n",
    ")"
   ]
  },
  {
   "cell_type": "code",
   "execution_count": 18,
   "metadata": {
    "execution": {
     "iopub.execute_input": "2024-02-29T11:24:57.576576Z",
     "iopub.status.busy": "2024-02-29T11:24:57.576159Z",
     "iopub.status.idle": "2024-02-29T11:24:57.581092Z",
     "shell.execute_reply": "2024-02-29T11:24:57.580698Z"
    }
   },
   "outputs": [],
   "source": [
    "# shuffle\n",
    "train_dataset = train_dataset.shuffle(seed=42)"
   ]
  },
  {
   "cell_type": "code",
   "execution_count": 19,
   "metadata": {
    "execution": {
     "iopub.execute_input": "2024-02-29T11:24:57.583252Z",
     "iopub.status.busy": "2024-02-29T11:24:57.582820Z",
     "iopub.status.idle": "2024-02-29T11:24:57.585515Z",
     "shell.execute_reply": "2024-02-29T11:24:57.585164Z"
    }
   },
   "outputs": [],
   "source": [
    "# debug\n",
    "if DEBUG:\n",
    "    train_dataset = train_dataset.select(range(100))"
   ]
  },
  {
   "cell_type": "code",
   "execution_count": 20,
   "metadata": {
    "autoscroll": "auto",
    "collapsed": false,
    "execution": {
     "iopub.execute_input": "2024-02-29T11:24:57.587405Z",
     "iopub.status.busy": "2024-02-29T11:24:57.587093Z",
     "iopub.status.idle": "2024-02-29T11:24:57.590458Z",
     "shell.execute_reply": "2024-02-29T11:24:57.590099Z"
    },
    "jupyter": {
     "outputs_hidden": false
    }
   },
   "outputs": [
    {
     "data": {
      "text/plain": [
       "Dataset({\n",
       "    features: ['document', 'trailing_whitespace', 'tokens', 'full_text', 'provided_labels', 'flag'],\n",
       "    num_rows: 13241\n",
       "})"
      ]
     },
     "execution_count": 20,
     "metadata": {},
     "output_type": "execute_result"
    }
   ],
   "source": [
    "train_dataset"
   ]
  },
  {
   "cell_type": "code",
   "execution_count": 21,
   "metadata": {
    "autoscroll": "auto",
    "collapsed": false,
    "execution": {
     "iopub.execute_input": "2024-02-29T11:24:57.592514Z",
     "iopub.status.busy": "2024-02-29T11:24:57.592150Z",
     "iopub.status.idle": "2024-02-29T11:24:57.595611Z",
     "shell.execute_reply": "2024-02-29T11:24:57.595243Z"
    },
    "jupyter": {
     "outputs_hidden": false
    }
   },
   "outputs": [
    {
     "data": {
      "text/plain": [
       "Dataset({\n",
       "    features: ['document', 'tokens', 'trailing_whitespace', 'full_text'],\n",
       "    num_rows: 10\n",
       "})"
      ]
     },
     "execution_count": 21,
     "metadata": {},
     "output_type": "execute_result"
    }
   ],
   "source": [
    "test_dataset"
   ]
  },
  {
   "cell_type": "code",
   "execution_count": 22,
   "metadata": {
    "autoscroll": "auto",
    "collapsed": false,
    "execution": {
     "iopub.execute_input": "2024-02-29T11:24:57.597704Z",
     "iopub.status.busy": "2024-02-29T11:24:57.597250Z",
     "iopub.status.idle": "2024-02-29T11:24:58.620628Z",
     "shell.execute_reply": "2024-02-29T11:24:58.620115Z"
    },
    "jupyter": {
     "outputs_hidden": false
    }
   },
   "outputs": [],
   "source": [
    "tokenizer = AutoTokenizer.from_pretrained(MODEL_NAME)"
   ]
  },
  {
   "cell_type": "code",
   "execution_count": 23,
   "metadata": {
    "autoscroll": "auto",
    "collapsed": false,
    "execution": {
     "iopub.execute_input": "2024-02-29T11:24:58.623911Z",
     "iopub.status.busy": "2024-02-29T11:24:58.623483Z",
     "iopub.status.idle": "2024-02-29T11:24:58.640560Z",
     "shell.execute_reply": "2024-02-29T11:24:58.640054Z"
    },
    "jupyter": {
     "outputs_hidden": false
    }
   },
   "outputs": [
    {
     "data": {
      "text/plain": [
       "['[CLS]',\n",
       " '▁VISUAL',\n",
       " 'IZATION',\n",
       " '▁Challenge',\n",
       " '▁and',\n",
       " '▁selection',\n",
       " '▁Visualization',\n",
       " '▁',\n",
       " '▁or',\n",
       " '▁visual',\n",
       " '▁thinking',\n",
       " '▁is',\n",
       " '▁the',\n",
       " '▁great',\n",
       " '▁tool',\n",
       " '▁in',\n",
       " '▁the',\n",
       " '▁Design',\n",
       " '▁thinking',\n",
       " '▁process',\n",
       " '▁.',\n",
       " '▁Visualization',\n",
       " '▁is',\n",
       " '▁about',\n",
       " '▁using',\n",
       " '▁images',\n",
       " '▁.',\n",
       " '▁It',\n",
       " \"▁'\",\n",
       " 's',\n",
       " '▁not',\n",
       " '▁about',\n",
       " '▁drawing',\n",
       " '▁;',\n",
       " '▁it',\n",
       " \"▁'\",\n",
       " 's',\n",
       " '▁about',\n",
       " '▁visual',\n",
       " '▁thinking',\n",
       " '▁.',\n",
       " '▁It',\n",
       " '▁pushes',\n",
       " '▁us',\n",
       " '▁beyond',\n",
       " '▁using',\n",
       " '▁words',\n",
       " '▁or',\n",
       " '▁language',\n",
       " '▁alone',\n",
       " '▁.',\n",
       " '▁If',\n",
       " '▁instead',\n",
       " '▁you',\n",
       " '▁present',\n",
       " '▁your',\n",
       " '▁idea',\n",
       " '▁to',\n",
       " '▁us',\n",
       " '▁by',\n",
       " '▁drawing',\n",
       " '▁a',\n",
       " '▁picture',\n",
       " '▁of',\n",
       " '▁it',\n",
       " '▁,',\n",
       " '▁you',\n",
       " '▁reduce',\n",
       " '▁the',\n",
       " '▁possibility',\n",
       " '▁of',\n",
       " '▁unmatched',\n",
       " '▁mental',\n",
       " '▁models',\n",
       " '▁.',\n",
       " 'Visual',\n",
       " 'ization',\n",
       " '▁One',\n",
       " '▁design',\n",
       " '▁tool',\n",
       " '▁enhances',\n",
       " '▁the',\n",
       " '▁early',\n",
       " '▁part',\n",
       " '▁in',\n",
       " '▁a',\n",
       " '▁group',\n",
       " '▁setting',\n",
       " '▁,',\n",
       " '▁it',\n",
       " '▁helps',\n",
       " '▁to',\n",
       " '▁spark',\n",
       " '▁idea',\n",
       " '▁generation',\n",
       " '▁.',\n",
       " '▁Seeing',\n",
       " '▁what',\n",
       " '▁other',\n",
       " '▁people',\n",
       " '▁are',\n",
       " '▁drawing',\n",
       " '▁,',\n",
       " '▁adding',\n",
       " '▁elements',\n",
       " '▁to',\n",
       " '▁their',\n",
       " '▁drawing',\n",
       " '▁or',\n",
       " '▁simply',\n",
       " '▁discussing',\n",
       " '▁the',\n",
       " '▁sketches',\n",
       " '▁helps',\n",
       " '▁to',\n",
       " '▁build',\n",
       " '▁on',\n",
       " '▁top',\n",
       " '▁of',\n",
       " '▁each',\n",
       " '▁other',\n",
       " '▁',\n",
       " '’',\n",
       " 's',\n",
       " '▁ideas',\n",
       " '▁.',\n",
       " '▁I',\n",
       " '▁choose',\n",
       " '▁visualization',\n",
       " '▁for',\n",
       " '▁this',\n",
       " '▁assignment',\n",
       " '▁,',\n",
       " '▁in',\n",
       " '▁addition',\n",
       " '▁i',\n",
       " '▁feel',\n",
       " '▁it',\n",
       " '▁is',\n",
       " '▁a',\n",
       " '▁powerful',\n",
       " '▁tool',\n",
       " '▁that',\n",
       " '▁allows',\n",
       " '▁to',\n",
       " '▁be',\n",
       " '▁more',\n",
       " '▁easily',\n",
       " '▁able',\n",
       " '▁to',\n",
       " '▁gather',\n",
       " '▁information',\n",
       " '▁or',\n",
       " '▁data',\n",
       " '▁in',\n",
       " '▁a',\n",
       " '▁useful',\n",
       " '▁way',\n",
       " '▁and',\n",
       " '▁in',\n",
       " '▁position',\n",
       " '▁to',\n",
       " '▁find',\n",
       " '▁potentially',\n",
       " '▁useful',\n",
       " '▁data',\n",
       " '▁and',\n",
       " '▁solutions',\n",
       " '▁,',\n",
       " '▁get',\n",
       " '▁insights',\n",
       " '▁,',\n",
       " '▁see',\n",
       " '▁patterns',\n",
       " '▁and',\n",
       " '▁improve',\n",
       " '▁creativity',\n",
       " '▁colors',\n",
       " '▁or',\n",
       " '▁structure',\n",
       " '▁equivalent',\n",
       " '▁to',\n",
       " '▁the',\n",
       " '▁brain',\n",
       " '▁functions',\n",
       " '▁.',\n",
       " '▁To',\n",
       " '▁design',\n",
       " '▁a',\n",
       " '▁product',\n",
       " '▁we',\n",
       " '▁have',\n",
       " '▁built',\n",
       " '▁a',\n",
       " '▁good',\n",
       " '▁understanding',\n",
       " '▁of',\n",
       " '▁the',\n",
       " '▁product',\n",
       " '▁that',\n",
       " '▁we',\n",
       " '▁are',\n",
       " '▁going',\n",
       " '▁to',\n",
       " '▁design',\n",
       " '▁.',\n",
       " '▁Application',\n",
       " '▁In',\n",
       " '▁order',\n",
       " '▁to',\n",
       " '▁design',\n",
       " '▁the',\n",
       " '▁solution',\n",
       " '▁,',\n",
       " '▁first',\n",
       " '▁we',\n",
       " '▁have',\n",
       " '▁to',\n",
       " '▁build',\n",
       " '▁a',\n",
       " '▁good',\n",
       " '▁understanding',\n",
       " '▁of',\n",
       " '▁the',\n",
       " '▁problem',\n",
       " '▁that',\n",
       " '▁we',\n",
       " '▁are',\n",
       " '▁trying',\n",
       " '▁to',\n",
       " '▁solve',\n",
       " '▁.',\n",
       " '▁Interviews',\n",
       " '▁,',\n",
       " '▁observations',\n",
       " '▁,',\n",
       " '▁desk',\n",
       " '▁research',\n",
       " '▁and',\n",
       " '▁other',\n",
       " '▁research',\n",
       " '▁techniques',\n",
       " '▁that',\n",
       " '▁are',\n",
       " '▁applied',\n",
       " '▁during',\n",
       " '▁this',\n",
       " '▁phase',\n",
       " '▁generate',\n",
       " '▁huge',\n",
       " '▁amounts',\n",
       " '▁of',\n",
       " '▁data',\n",
       " '▁–',\n",
       " '▁data',\n",
       " '▁that',\n",
       " '▁has',\n",
       " '▁to',\n",
       " '▁be',\n",
       " '▁grouped',\n",
       " '▁and',\n",
       " '▁analyzed',\n",
       " '▁.',\n",
       " '▁Creating',\n",
       " '▁a',\n",
       " '▁research',\n",
       " '▁wall',\n",
       " '▁is',\n",
       " '▁a',\n",
       " '▁great',\n",
       " '▁way',\n",
       " '▁to',\n",
       " '▁display',\n",
       " '▁insights',\n",
       " '▁,',\n",
       " '▁photos',\n",
       " '▁,',\n",
       " '▁and',\n",
       " '▁artifacts',\n",
       " '▁all',\n",
       " '▁the',\n",
       " '▁relevant',\n",
       " '▁research',\n",
       " '▁outputs',\n",
       " '▁in',\n",
       " '▁one',\n",
       " '▁place',\n",
       " '▁.',\n",
       " '▁This',\n",
       " '▁approach',\n",
       " '▁helps',\n",
       " '▁us',\n",
       " '▁build',\n",
       " '▁connections',\n",
       " '▁between',\n",
       " '▁different',\n",
       " '▁findings',\n",
       " '▁and',\n",
       " '▁understand',\n",
       " '▁the',\n",
       " '▁bigger',\n",
       " '▁picture',\n",
       " '▁.',\n",
       " '▁The',\n",
       " '▁visual',\n",
       " '▁aspect',\n",
       " '▁of',\n",
       " '▁the',\n",
       " '▁wall',\n",
       " '▁triggers',\n",
       " '▁idea',\n",
       " '▁generation',\n",
       " '▁and',\n",
       " '▁enables',\n",
       " '▁project',\n",
       " '▁members',\n",
       " '▁to',\n",
       " '▁better',\n",
       " '▁understand',\n",
       " '▁research',\n",
       " '▁insights',\n",
       " '▁.',\n",
       " '▁Visual',\n",
       " '▁tools',\n",
       " '▁that',\n",
       " '▁can',\n",
       " '▁be',\n",
       " '▁used',\n",
       " '▁for',\n",
       " '▁understanding',\n",
       " '▁the',\n",
       " '▁problem',\n",
       " '▁are',\n",
       " '▁for',\n",
       " '▁e',\n",
       " '.',\n",
       " 'g',\n",
       " '.',\n",
       " '▁personas',\n",
       " '▁,',\n",
       " '▁mind',\n",
       " '▁map',\n",
       " '▁,',\n",
       " '▁customer',\n",
       " '▁journey',\n",
       " '▁maps',\n",
       " '▁,',\n",
       " '▁mood',\n",
       " 'board',\n",
       " '▁.',\n",
       " '▁Visual',\n",
       " 'isation',\n",
       " '▁is',\n",
       " '▁really',\n",
       " '▁important',\n",
       " '▁for',\n",
       " '▁the',\n",
       " '▁process',\n",
       " '▁of',\n",
       " '▁Design',\n",
       " '▁Thinking',\n",
       " '▁because',\n",
       " '▁it',\n",
       " \"▁'\",\n",
       " 's',\n",
       " '▁actually',\n",
       " '▁a',\n",
       " '▁way',\n",
       " '▁of',\n",
       " '▁unlocking',\n",
       " '▁a',\n",
       " '▁different',\n",
       " '▁part',\n",
       " '▁of',\n",
       " '▁our',\n",
       " '▁brain',\n",
       " '▁.',\n",
       " '▁It',\n",
       " '▁allows',\n",
       " '▁us',\n",
       " '▁to',\n",
       " '▁think',\n",
       " '▁in',\n",
       " '▁a',\n",
       " '▁non',\n",
       " '▁-',\n",
       " '▁verbal',\n",
       " '▁way',\n",
       " '▁and',\n",
       " '▁access',\n",
       " '▁parts',\n",
       " '▁of',\n",
       " '▁our',\n",
       " '▁brain',\n",
       " '▁,',\n",
       " '▁our',\n",
       " '▁creativity',\n",
       " '▁.',\n",
       " '▁The',\n",
       " '▁beauty',\n",
       " '▁of',\n",
       " '▁using',\n",
       " '▁Visual',\n",
       " 'isation',\n",
       " '▁is',\n",
       " '▁that',\n",
       " '▁we',\n",
       " '▁can',\n",
       " '▁tap',\n",
       " '▁into',\n",
       " '▁a',\n",
       " '▁single',\n",
       " '▁picture',\n",
       " '▁.',\n",
       " '▁One',\n",
       " '▁of',\n",
       " '▁my',\n",
       " '▁current',\n",
       " '▁projects',\n",
       " '▁I',\n",
       " 's',\n",
       " '▁developing',\n",
       " '▁an',\n",
       " '▁mobile',\n",
       " '▁online',\n",
       " '▁shopping',\n",
       " '▁app',\n",
       " '▁.',\n",
       " '▁The',\n",
       " '▁important',\n",
       " '▁role',\n",
       " '▁in',\n",
       " '▁developing',\n",
       " '▁an',\n",
       " '▁app',\n",
       " '▁is',\n",
       " '▁testing',\n",
       " '▁of',\n",
       " '▁the',\n",
       " '▁app',\n",
       " '▁and',\n",
       " '▁curious',\n",
       " '▁to',\n",
       " '▁know',\n",
       " '▁the',\n",
       " '▁user',\n",
       " '▁experience',\n",
       " '▁.',\n",
       " '▁This',\n",
       " '▁testing',\n",
       " '▁I',\n",
       " 's',\n",
       " '▁only',\n",
       " '▁viable',\n",
       " '▁as',\n",
       " '▁the',\n",
       " '▁data',\n",
       " '▁that',\n",
       " '▁',\n",
       " '’',\n",
       " 's',\n",
       " '▁garnered',\n",
       " '▁from',\n",
       " '▁it',\n",
       " '▁.',\n",
       " '▁After',\n",
       " '▁filtering',\n",
       " '▁the',\n",
       " '▁data',\n",
       " '▁we',\n",
       " '▁need',\n",
       " '▁to',\n",
       " '▁visualize',\n",
       " '▁it',\n",
       " '▁.',\n",
       " '▁First',\n",
       " '▁the',\n",
       " '▁raw',\n",
       " '▁data',\n",
       " '▁is',\n",
       " '▁collected',\n",
       " '▁which',\n",
       " '▁is',\n",
       " '▁not',\n",
       " '▁of',\n",
       " '▁much',\n",
       " '▁use',\n",
       " '▁to',\n",
       " '▁anyone',\n",
       " '▁due',\n",
       " '▁to',\n",
       " '▁situational',\n",
       " '▁data',\n",
       " '▁,',\n",
       " '▁redundancies',\n",
       " '▁and',\n",
       " '▁faux',\n",
       " '▁data',\n",
       " '▁.',\n",
       " '▁We',\n",
       " '▁took',\n",
       " '▁the',\n",
       " '▁user',\n",
       " '▁',\n",
       " '’',\n",
       " 's',\n",
       " '▁phone',\n",
       " '▁into',\n",
       " '▁account',\n",
       " '▁.',\n",
       " '▁Phones',\n",
       " '▁come',\n",
       " '▁in',\n",
       " '▁all',\n",
       " '▁shapes',\n",
       " '▁and',\n",
       " '▁sizes',\n",
       " '▁,',\n",
       " '▁and',\n",
       " '▁mobile',\n",
       " '▁apps',\n",
       " '▁run',\n",
       " '▁on',\n",
       " '▁watches',\n",
       " '▁,',\n",
       " '▁tablets',\n",
       " '▁and',\n",
       " '▁many',\n",
       " '▁other',\n",
       " '▁appliances',\n",
       " '▁.',\n",
       " '▁At',\n",
       " '▁first',\n",
       " '▁we',\n",
       " '▁collected',\n",
       " '▁data',\n",
       " '▁from',\n",
       " '▁the',\n",
       " '▁customers',\n",
       " '▁about',\n",
       " '▁which',\n",
       " '▁types',\n",
       " '▁of',\n",
       " '▁products',\n",
       " '▁should',\n",
       " '▁be',\n",
       " '▁available',\n",
       " '▁in',\n",
       " '▁this',\n",
       " '▁online',\n",
       " '▁shopping',\n",
       " '▁.',\n",
       " '▁And',\n",
       " '▁asked',\n",
       " '▁the',\n",
       " '▁people',\n",
       " '▁of',\n",
       " '▁what',\n",
       " '▁type',\n",
       " '▁of',\n",
       " '▁features',\n",
       " '▁we',\n",
       " '▁need',\n",
       " '▁to',\n",
       " '▁develop',\n",
       " '▁.',\n",
       " '▁Insight',\n",
       " '▁and',\n",
       " '▁approach',\n",
       " '▁After',\n",
       " '▁conducting',\n",
       " '▁the',\n",
       " '▁data',\n",
       " '▁analysis',\n",
       " '▁extraction',\n",
       " '▁process',\n",
       " '▁and',\n",
       " '▁visualizing',\n",
       " '▁the',\n",
       " '▁data',\n",
       " '▁,',\n",
       " '▁I',\n",
       " '▁have',\n",
       " '▁understood',\n",
       " '▁that',\n",
       " '▁asking',\n",
       " '▁for',\n",
       " '▁advice',\n",
       " '▁and',\n",
       " '▁feedback',\n",
       " '▁made',\n",
       " '▁this',\n",
       " '▁process',\n",
       " '▁easier',\n",
       " '▁.',\n",
       " '▁And',\n",
       " '▁visualization',\n",
       " '▁tool',\n",
       " '▁is',\n",
       " '▁very',\n",
       " '▁useful',\n",
       " '▁in',\n",
       " '▁integrating',\n",
       " '▁our',\n",
       " '▁daily',\n",
       " '▁life',\n",
       " '▁activities',\n",
       " '▁.',\n",
       " '▁I',\n",
       " '▁understand',\n",
       " '▁the',\n",
       " '▁important',\n",
       " '▁points',\n",
       " '▁what',\n",
       " '▁people',\n",
       " '▁are',\n",
       " '▁expecting',\n",
       " '▁from',\n",
       " '▁the',\n",
       " '▁app',\n",
       " '▁and',\n",
       " '▁which',\n",
       " '▁makes',\n",
       " '▁our',\n",
       " '▁app',\n",
       " '▁great',\n",
       " '▁demand',\n",
       " '▁in',\n",
       " '▁the',\n",
       " '▁market',\n",
       " '▁.',\n",
       " '▁Without',\n",
       " '▁knowing',\n",
       " '▁the',\n",
       " '▁people',\n",
       " '▁',\n",
       " '’',\n",
       " 's',\n",
       " '▁needs',\n",
       " '▁it',\n",
       " '▁is',\n",
       " '▁impossible',\n",
       " '▁to',\n",
       " '▁get',\n",
       " '▁success',\n",
       " '▁in',\n",
       " '▁any',\n",
       " '▁field',\n",
       " '▁.',\n",
       " '▁This',\n",
       " '▁would',\n",
       " '▁have',\n",
       " '▁helped',\n",
       " '▁me',\n",
       " '▁have',\n",
       " '▁more',\n",
       " '▁real',\n",
       " '▁life',\n",
       " '▁experiences',\n",
       " '▁to',\n",
       " '▁follow',\n",
       " '▁the',\n",
       " '▁four',\n",
       " '▁step',\n",
       " '▁process',\n",
       " '▁of',\n",
       " '▁design',\n",
       " '▁thinking',\n",
       " '▁and',\n",
       " '▁apply',\n",
       " '▁this',\n",
       " '▁to',\n",
       " '▁project',\n",
       " '▁what',\n",
       " '▁is',\n",
       " '?',\n",
       " ',',\n",
       " 'what',\n",
       " '▁if',\n",
       " '?',\n",
       " ',',\n",
       " 'what',\n",
       " '▁works',\n",
       " '?',\n",
       " ',',\n",
       " 'For',\n",
       " '▁every',\n",
       " '▁project',\n",
       " '▁,',\n",
       " '▁I',\n",
       " '▁use',\n",
       " '▁this',\n",
       " '▁visualization',\n",
       " '▁tool',\n",
       " '▁as',\n",
       " '▁a',\n",
       " '▁starting',\n",
       " '▁point',\n",
       " '▁in',\n",
       " '▁design',\n",
       " '▁thinking',\n",
       " '▁activities',\n",
       " '▁.',\n",
       " '▁This',\n",
       " '▁is',\n",
       " '▁my',\n",
       " '▁first',\n",
       " '▁project',\n",
       " '▁and',\n",
       " '▁I',\n",
       " '▁am',\n",
       " '▁very',\n",
       " '▁interested',\n",
       " '▁and',\n",
       " '▁grateful',\n",
       " '▁.',\n",
       " '▁This',\n",
       " '▁visualization',\n",
       " '▁process',\n",
       " '▁made',\n",
       " '▁my',\n",
       " '▁work',\n",
       " '▁easier',\n",
       " '▁and',\n",
       " '▁comfortable',\n",
       " '▁.',\n",
       " '[SEP]']"
      ]
     },
     "execution_count": 23,
     "metadata": {},
     "output_type": "execute_result"
    }
   ],
   "source": [
    "# TODO: 512?が上限であるのに対し、NER対象のテキストが512よりも長い場合が多いため、適したモデルにする\n",
    "# DeBERTaあたりは、512を超えるテキストに対応していたような\n",
    "# example = train_dataset[30]\n",
    "example = train_dataset[0]\n",
    "tokenized_input = tokenizer(example[\"tokens\"], is_split_into_words=True)\n",
    "tokens = tokenizer.convert_ids_to_tokens(tokenized_input[\"input_ids\"])\n",
    "tokens"
   ]
  },
  {
   "cell_type": "code",
   "execution_count": 24,
   "metadata": {
    "autoscroll": "auto",
    "collapsed": false,
    "execution": {
     "iopub.execute_input": "2024-02-29T11:24:58.642764Z",
     "iopub.status.busy": "2024-02-29T11:24:58.642469Z",
     "iopub.status.idle": "2024-02-29T11:24:58.647197Z",
     "shell.execute_reply": "2024-02-29T11:24:58.646562Z"
    },
    "jupyter": {
     "outputs_hidden": false
    }
   },
   "outputs": [
    {
     "data": {
      "text/plain": [
       "['[CLS]',\n",
       " '▁this',\n",
       " '▁is',\n",
       " '▁kin',\n",
       " 'learn',\n",
       " '@',\n",
       " 'gmail',\n",
       " '.',\n",
       " 'com',\n",
       " '.',\n",
       " '[SEP]']"
      ]
     },
     "execution_count": 24,
     "metadata": {},
     "output_type": "execute_result"
    }
   ],
   "source": [
    "text = \"this is kinlearn@gmail.com.\"\n",
    "tokenized_input = tokenizer(text)\n",
    "tokens = tokenizer.convert_ids_to_tokens(tokenized_input[\"input_ids\"])\n",
    "tokens"
   ]
  },
  {
   "cell_type": "code",
   "execution_count": 25,
   "metadata": {
    "autoscroll": "auto",
    "collapsed": false,
    "execution": {
     "iopub.execute_input": "2024-02-29T11:24:58.649719Z",
     "iopub.status.busy": "2024-02-29T11:24:58.649096Z",
     "iopub.status.idle": "2024-02-29T11:24:58.653097Z",
     "shell.execute_reply": "2024-02-29T11:24:58.652687Z"
    },
    "jupyter": {
     "outputs_hidden": false
    }
   },
   "outputs": [],
   "source": [
    "# labelを変換する\n",
    "id2label = {\n",
    "    0: \"O\",\n",
    "    1: \"B-NAME_STUDENT\",\n",
    "    2: \"I-NAME_STUDENT\",\n",
    "    3: \"B-EMAIL\",\n",
    "    4: \"I-EMAIL\",\n",
    "    5: \"B-USERNAME\",\n",
    "    6: \"I-USERNAME\",\n",
    "    7: \"B-ID_NUM\",\n",
    "    8: \"I-ID_NUM\",\n",
    "    9: \"B-PHONE_NUM\",\n",
    "    10: \"I-PHONE_NUM\",\n",
    "    11: \"B-URL_PERSONAL\",\n",
    "    12: \"I-URL_PERSONAL\",\n",
    "    13: \"B-STREET_ADDRESS\",\n",
    "    14: \"I-STREET_ADDRESS\",\n",
    "}\n",
    "\n",
    "label2id = {v: k for k, v in id2label.items()}\n",
    "\n",
    "\n",
    "# def label2id_func(example):\n",
    "#     example[\"labels\"] = [label2id[tag] for tag in example[\"labels\"]]\n",
    "#     return example\n",
    "\n",
    "\n",
    "# labele2id_train_dataset = train_dataset.map(label2id_func)"
   ]
  },
  {
   "cell_type": "code",
   "execution_count": 26,
   "metadata": {
    "autoscroll": "auto",
    "collapsed": false,
    "execution": {
     "iopub.execute_input": "2024-02-29T11:24:58.655530Z",
     "iopub.status.busy": "2024-02-29T11:24:58.655022Z",
     "iopub.status.idle": "2024-02-29T11:24:58.682769Z",
     "shell.execute_reply": "2024-02-29T11:24:58.682365Z"
    },
    "jupyter": {
     "outputs_hidden": false
    }
   },
   "outputs": [],
   "source": [
    "def tokenize(example, tokenizer, label2id, max_length):\n",
    "    \"\"\"\n",
    "    与えられたtokenとlabelから、\n",
    "    今回のtokenizerで区切った場合のtokenとlabelを作成する。\n",
    "    \"\"\"\n",
    "    # rebuild text from tokens\n",
    "    text = []\n",
    "    labels = []\n",
    "\n",
    "    for t, l, ws in zip(\n",
    "        example[\"tokens\"], example[\"provided_labels\"], example[\"trailing_whitespace\"]\n",
    "    ):\n",
    "        text.append(t)\n",
    "        # 文字数分だけ、該当のラベルを追加する\n",
    "        labels.extend([l] * len(t))\n",
    "\n",
    "        if ws:\n",
    "            text.append(\" \")\n",
    "            labels.append(\"O\")\n",
    "        # text -> ['Design', ' ']\n",
    "        # labels -> ['O', 'O', 'O', 'O', 'O', 'O', 'O'] (6文字分 + 空白1文字分)\n",
    "\n",
    "    # actual tokenization\n",
    "    tokenized = tokenizer(\n",
    "        \"\".join(text),\n",
    "        return_offsets_mapping=True,\n",
    "        max_length=max_length,\n",
    "        truncation=True,\n",
    "    )\n",
    "\n",
    "    labels = np.array(labels)\n",
    "\n",
    "    text = \"\".join(text)\n",
    "    token_labels = []\n",
    "\n",
    "    for start_idx, end_idx in tokenized.offset_mapping:\n",
    "        # offset_mappingの各エントリは、トークンが元のテキストのどの範囲（開始位置と終了位置）にマッピングされるかを示す\n",
    "        # タプルまたはリストで構成されます。\n",
    "\n",
    "        # CLS tokenの対応\n",
    "        # CLSやSEPには必ず(start_idx, end_idx) = (0, 0)が割り当てられる\n",
    "        if start_idx == 0 and end_idx == 0:\n",
    "            token_labels.append(label2id[\"O\"])\n",
    "            continue\n",
    "\n",
    "        # 空白が存在する時は、offset_mappingのstart_idxを+1する\n",
    "        # DeBERTaV2Tokenizerは、空白を文字の先頭に▁としてくっつけるため。\n",
    "        # NOTE: もし空白を▁として文字の先頭にくっつけるないtokenizerの場合は、不要\n",
    "        if text[start_idx].isspace():\n",
    "            start_idx += 1\n",
    "\n",
    "        token_labels.append(label2id[labels[start_idx]])\n",
    "\n",
    "    # Q: token_labelsは何の長さ？\n",
    "    # A: 今回のtokenizerで区切った時の、tokenに該当するlabel\n",
    "    # 例:\n",
    "    # 与えられたtoken example[\"tokens\"][:10]\n",
    "    # -> ['Design', 'Thinking', 'for', 'innovation', 'reflexion', '-', 'Avril', '2021', '-', 'Nathalie']\n",
    "    # 今回のtokenizerで区切ったtoken　tokenizer.convert_ids_to_tokens(tokenized.input_ids[:10])\n",
    "    # -> ['[CLS]', '▁Design', '▁Thinking', '▁for', '▁innovation', '▁reflex', 'ion', '-', 'Av', 'ril']\n",
    "    # 文字数が違う！！！\n",
    "    # 最初に与えられたtokenとそのlabelだと、今回のtokenizerで区切った場合のラベルが分からない。\n",
    "    # 今回のtokenizerで区切った場合のtokenとラベルを作成した。\n",
    "\n",
    "    length = len(tokenized.input_ids)\n",
    "\n",
    "    return {**tokenized, \"labels\": token_labels, \"length\": length}\n",
    "\n",
    "\n",
    "train_dataset = train_dataset.map(\n",
    "    tokenize,\n",
    "    fn_kwargs={\n",
    "        \"tokenizer\": tokenizer,\n",
    "        \"label2id\": label2id,\n",
    "        \"max_length\": TRAINING_MAX_LENGTH,\n",
    "    },\n",
    "    num_proc=3,\n",
    ")"
   ]
  },
  {
   "cell_type": "code",
   "execution_count": 27,
   "metadata": {
    "autoscroll": "auto",
    "collapsed": false,
    "execution": {
     "iopub.execute_input": "2024-02-29T11:24:58.685690Z",
     "iopub.status.busy": "2024-02-29T11:24:58.685063Z",
     "iopub.status.idle": "2024-02-29T11:24:58.694288Z",
     "shell.execute_reply": "2024-02-29T11:24:58.693915Z"
    },
    "jupyter": {
     "outputs_hidden": false
    }
   },
   "outputs": [],
   "source": [
    "x = train_dataset[2]\n",
    "\n",
    "for t, l in zip(x[\"tokens\"], x[\"provided_labels\"]):\n",
    "    if l != \"O\":\n",
    "        print((t, l))\n",
    "\n",
    "print(\"*\" * 100)\n",
    "\n",
    "for t, l in zip(tokenizer.convert_ids_to_tokens(x[\"input_ids\"]), x[\"labels\"]):\n",
    "    if id2label[l] != \"O\":\n",
    "        print((t, id2label[l]))"
   ]
  },
  {
   "cell_type": "code",
   "execution_count": 28,
   "metadata": {
    "autoscroll": "auto",
    "collapsed": false,
    "execution": {
     "iopub.execute_input": "2024-02-29T11:24:58.696782Z",
     "iopub.status.busy": "2024-02-29T11:24:58.696256Z",
     "iopub.status.idle": "2024-02-29T11:24:58.700065Z",
     "shell.execute_reply": "2024-02-29T11:24:58.699700Z"
    },
    "jupyter": {
     "outputs_hidden": false
    }
   },
   "outputs": [
    {
     "data": {
      "text/plain": [
       "['O',\n",
       " 'B-NAME_STUDENT',\n",
       " 'I-NAME_STUDENT',\n",
       " 'B-EMAIL',\n",
       " 'I-EMAIL',\n",
       " 'B-USERNAME',\n",
       " 'I-USERNAME',\n",
       " 'B-ID_NUM',\n",
       " 'I-ID_NUM',\n",
       " 'B-PHONE_NUM',\n",
       " 'I-PHONE_NUM',\n",
       " 'B-URL_PERSONAL',\n",
       " 'I-URL_PERSONAL',\n",
       " 'B-STREET_ADDRESS',\n",
       " 'I-STREET_ADDRESS']"
      ]
     },
     "execution_count": 28,
     "metadata": {},
     "output_type": "execute_result"
    }
   ],
   "source": [
    "label_list = list(label2id.keys())\n",
    "label_list"
   ]
  },
  {
   "cell_type": "code",
   "execution_count": 29,
   "metadata": {
    "autoscroll": "auto",
    "collapsed": false,
    "execution": {
     "iopub.execute_input": "2024-02-29T11:24:58.702446Z",
     "iopub.status.busy": "2024-02-29T11:24:58.701959Z",
     "iopub.status.idle": "2024-02-29T11:24:58.705572Z",
     "shell.execute_reply": "2024-02-29T11:24:58.705210Z"
    },
    "jupyter": {
     "outputs_hidden": false
    }
   },
   "outputs": [
    {
     "data": {
      "text/plain": [
       "15"
      ]
     },
     "execution_count": 29,
     "metadata": {},
     "output_type": "execute_result"
    }
   ],
   "source": [
    "len(label_list)"
   ]
  },
  {
   "cell_type": "code",
   "execution_count": 30,
   "metadata": {
    "execution": {
     "iopub.execute_input": "2024-02-29T11:24:58.708006Z",
     "iopub.status.busy": "2024-02-29T11:24:58.707524Z",
     "iopub.status.idle": "2024-02-29T11:24:58.710643Z",
     "shell.execute_reply": "2024-02-29T11:24:58.710259Z"
    }
   },
   "outputs": [],
   "source": [
    "# pad_to_multiple_of\n",
    "# paddingの際に、指定した数の倍数になるように、各サンプルの長さを揃える\n",
    "# ハードウェアの要件に合致することで、計算効率が良くなる可能性がある\n",
    "data_collator = DataCollatorForTokenClassification(\n",
    "    tokenizer=tokenizer, pad_to_multiple_of=16\n",
    ")"
   ]
  },
  {
   "cell_type": "code",
   "execution_count": 31,
   "metadata": {
    "autoscroll": "auto",
    "collapsed": false,
    "execution": {
     "iopub.execute_input": "2024-02-29T11:24:58.712497Z",
     "iopub.status.busy": "2024-02-29T11:24:58.712267Z",
     "iopub.status.idle": "2024-02-29T11:24:59.388101Z",
     "shell.execute_reply": "2024-02-29T11:24:59.387637Z"
    },
    "jupyter": {
     "outputs_hidden": false
    }
   },
   "outputs": [],
   "source": [
    "seqeval = evaluate.load(\"seqeval\")"
   ]
  },
  {
   "cell_type": "code",
   "execution_count": 32,
   "metadata": {
    "execution": {
     "iopub.execute_input": "2024-02-29T11:24:59.391347Z",
     "iopub.status.busy": "2024-02-29T11:24:59.390869Z",
     "iopub.status.idle": "2024-02-29T11:24:59.397024Z",
     "shell.execute_reply": "2024-02-29T11:24:59.396498Z"
    }
   },
   "outputs": [],
   "source": [
    "def f5_score(precision: float, recall: float, beta: int = 5):\n",
    "    return (1 + beta**2) * (precision * recall) / ((beta**2 * precision) + recall)\n",
    "\n",
    "\n",
    "def compute_metrics(p):\n",
    "    predictions, labels = p\n",
    "    predictions = np.argmax(predictions, axis=2)\n",
    "\n",
    "    true_predictions = [\n",
    "        [label_list[p] for (p, l) in zip(prediction, label) if l != -100]\n",
    "        for prediction, label in zip(predictions, labels)\n",
    "    ]\n",
    "    true_labels = [\n",
    "        [label_list[l] for (p, l) in zip(prediction, label) if l != -100]\n",
    "        for prediction, label in zip(predictions, labels)\n",
    "    ]\n",
    "\n",
    "    results = seqeval.compute(predictions=true_predictions, references=true_labels)\n",
    "\n",
    "    # seqevalのmetrics関数を使用して、精度、再現率、F1スコア、正解率を計算\n",
    "    precision = results[\"overall_precision\"]\n",
    "    recall = results[\"overall_recall\"]\n",
    "\n",
    "    return {\n",
    "        \"precision\": precision,\n",
    "        \"recall\": recall,\n",
    "        \"f1\": results[\"overall_f1\"],\n",
    "        \"accuracy\": results[\"overall_accuracy\"],\n",
    "        \"f5score\": f5_score(precision, recall),\n",
    "    }"
   ]
  },
  {
   "cell_type": "code",
   "execution_count": 33,
   "metadata": {
    "autoscroll": "auto",
    "collapsed": false,
    "execution": {
     "iopub.execute_input": "2024-02-29T11:24:59.399431Z",
     "iopub.status.busy": "2024-02-29T11:24:59.399063Z",
     "iopub.status.idle": "2024-02-29T11:25:00.157129Z",
     "shell.execute_reply": "2024-02-29T11:25:00.156634Z"
    },
    "jupyter": {
     "outputs_hidden": false
    }
   },
   "outputs": [],
   "source": [
    "model = AutoModelForTokenClassification.from_pretrained(\n",
    "    MODEL_NAME,\n",
    "    num_labels=len(id2label),\n",
    "    id2label=id2label,\n",
    "    label2id=label2id,\n",
    ")"
   ]
  },
  {
   "cell_type": "code",
   "execution_count": 34,
   "metadata": {
    "autoscroll": "auto",
    "collapsed": false,
    "execution": {
     "iopub.execute_input": "2024-02-29T11:25:00.159962Z",
     "iopub.status.busy": "2024-02-29T11:25:00.159400Z",
     "iopub.status.idle": "2024-02-29T11:25:00.163337Z",
     "shell.execute_reply": "2024-02-29T11:25:00.162917Z"
    },
    "jupyter": {
     "outputs_hidden": false
    }
   },
   "outputs": [
    {
     "data": {
      "text/plain": [
       "Dataset({\n",
       "    features: ['document', 'trailing_whitespace', 'tokens', 'full_text', 'provided_labels', 'flag', 'input_ids', 'token_type_ids', 'attention_mask', 'offset_mapping', 'labels', 'length'],\n",
       "    num_rows: 13241\n",
       "})"
      ]
     },
     "execution_count": 34,
     "metadata": {},
     "output_type": "execute_result"
    }
   ],
   "source": [
    "train_dataset"
   ]
  },
  {
   "cell_type": "code",
   "execution_count": 35,
   "metadata": {
    "autoscroll": "auto",
    "collapsed": false,
    "execution": {
     "iopub.execute_input": "2024-02-29T11:25:00.165564Z",
     "iopub.status.busy": "2024-02-29T11:25:00.165106Z",
     "iopub.status.idle": "2024-02-29T11:25:00.168504Z",
     "shell.execute_reply": "2024-02-29T11:25:00.168120Z"
    },
    "jupyter": {
     "outputs_hidden": false
    }
   },
   "outputs": [],
   "source": [
    "# with open(f\"{DATA_PATH}/document_pattern_dict.json\") as f:\n",
    "#     document_pattern_dict = json.load(f)\n",
    "\n",
    "\n",
    "# def document_id_to_pattern(example) -> str:\n",
    "#     return document_pattern_dict[example[\"document\"]]\n",
    "\n",
    "\n",
    "# def add_pattern_column(dataset):\n",
    "#     # original_datasetに対し、patternを付与する\n",
    "#     dataset = dataset.map(\n",
    "#         lambda example: {\"pattern\": document_id_to_pattern(example)}, num_proc=3\n",
    "#     )\n",
    "#     unique_labels = np.unique(dataset[\"pattern\"])\n",
    "\n",
    "#     # train_test_splitのstratifyに使うために、ClassLabelに変換する\n",
    "#     class_label_feature = ClassLabel(names=unique_labels.tolist())\n",
    "#     return dataset.cast_column(\"pattern\", class_label_feature)\n",
    "\n",
    "\n",
    "# def train_valid_split(train_dataset):\n",
    "#     # 'flag'列が'original'のもののみをテストデータとする\n",
    "#     original_dataset = train_dataset.filter(lambda x: x[\"flag\"] == \"original\")\n",
    "#     extrenal_dataset = train_dataset.filter(lambda x: x[\"flag\"] != \"original\")\n",
    "\n",
    "#     # pattern列を付与する\n",
    "#     original_dataset = add_pattern_column(original_dataset)\n",
    "\n",
    "#     # pattern列に対してstratifyになるよう分割する\n",
    "#     train_split_dataset = original_dataset.train_test_split(\n",
    "#         test_size=0.2, seed=42, stratify_by_column=\"pattern\"\n",
    "#     )\n",
    "\n",
    "#     # 'flag'列が'original'でないものを訓練データと検証データに分割する\n",
    "#     # train_split_dataset = original_dataset.train_test_split(test_size=0.2, seed=42)\n",
    "\n",
    "#     # 再結合する\n",
    "#     concat_train_dataset = concatenate_datasets(\n",
    "#         [train_split_dataset[\"train\"], extrenal_dataset]\n",
    "#     )\n",
    "\n",
    "#     train_valid_dataset = DatasetDict(\n",
    "#         {\"train\": concat_train_dataset, \"valid\": train_split_dataset[\"test\"]}\n",
    "#     )\n",
    "#     return train_valid_dataset\n",
    "\n",
    "\n",
    "# train_valid_dataset = train_valid_split(train_dataset)"
   ]
  },
  {
   "cell_type": "code",
   "execution_count": 36,
   "metadata": {
    "execution": {
     "iopub.execute_input": "2024-02-29T11:25:00.170621Z",
     "iopub.status.busy": "2024-02-29T11:25:00.170149Z",
     "iopub.status.idle": "2024-02-29T11:25:00.183311Z",
     "shell.execute_reply": "2024-02-29T11:25:00.182868Z"
    }
   },
   "outputs": [],
   "source": [
    "split_dataset = train_dataset.train_test_split(test_size=0.2, seed=42)\n",
    "train_valid_dataset = DatasetDict(\n",
    "    {\"train\": split_dataset[\"train\"], \"valid\": split_dataset[\"test\"]}\n",
    ")"
   ]
  },
  {
   "cell_type": "code",
   "execution_count": 37,
   "metadata": {
    "autoscroll": "auto",
    "collapsed": false,
    "execution": {
     "iopub.execute_input": "2024-02-29T11:25:00.185684Z",
     "iopub.status.busy": "2024-02-29T11:25:00.185293Z",
     "iopub.status.idle": "2024-02-29T11:25:01.501562Z",
     "shell.execute_reply": "2024-02-29T11:25:01.501070Z"
    },
    "jupyter": {
     "outputs_hidden": false
    }
   },
   "outputs": [],
   "source": [
    "training_args = TrainingArguments(\n",
    "    output_dir=LOG_PATH,\n",
    "    learning_rate=2e-5,\n",
    "    per_device_train_batch_size=8,  # 16,  # 32はだめ、性能がepoch0の時、precision0.31→0.00、Recall0.25→0.00に落ちる\n",
    "    per_device_eval_batch_size=8,  # 16,  # 32,↑同様、バッチサイズが非常に重要なパラメーターであるとも言える\n",
    "    num_train_epochs=3,\n",
    "    weight_decay=0.01,\n",
    "    evaluation_strategy=\"epoch\",\n",
    "    save_strategy=\"epoch\",\n",
    "    load_best_model_at_end=True,\n",
    "    push_to_hub=False,\n",
    "    metric_for_best_model=\"f5score\",  # add\n",
    "    greater_is_better=True,  # add\n",
    "    warmup_ratio=0.1,  # add\n",
    "    lr_scheduler_type=\"cosine\",  # add\n",
    "    report_to=REPORT_TO,\n",
    ")\n",
    "\n",
    "trainer = Trainer(\n",
    "    model=model,\n",
    "    args=training_args,\n",
    "    train_dataset=train_valid_dataset[\"train\"],\n",
    "    eval_dataset=train_valid_dataset[\"valid\"],\n",
    "    tokenizer=tokenizer,\n",
    "    data_collator=data_collator,\n",
    "    compute_metrics=compute_metrics,\n",
    ")"
   ]
  },
  {
   "cell_type": "code",
   "execution_count": 38,
   "metadata": {
    "autoscroll": "auto",
    "collapsed": false,
    "execution": {
     "iopub.execute_input": "2024-02-29T11:25:01.504175Z",
     "iopub.status.busy": "2024-02-29T11:25:01.503667Z",
     "iopub.status.idle": "2024-02-29T12:22:09.595739Z",
     "shell.execute_reply": "2024-02-29T12:22:09.595236Z"
    },
    "jupyter": {
     "outputs_hidden": false
    }
   },
   "outputs": [
    {
     "data": {
      "text/html": [
       "\n",
       "    <div>\n",
       "      \n",
       "      <progress value='3972' max='3972' style='width:300px; height:20px; vertical-align: middle;'></progress>\n",
       "      [3972/3972 55:17, Epoch 3/3]\n",
       "    </div>\n",
       "    <table border=\"1\" class=\"dataframe\">\n",
       "  <thead>\n",
       " <tr style=\"text-align: left;\">\n",
       "      <th>Epoch</th>\n",
       "      <th>Training Loss</th>\n",
       "      <th>Validation Loss</th>\n",
       "      <th>Precision</th>\n",
       "      <th>Recall</th>\n",
       "      <th>F1</th>\n",
       "      <th>Accuracy</th>\n",
       "      <th>F5score</th>\n",
       "    </tr>\n",
       "  </thead>\n",
       "  <tbody>\n",
       "    <tr>\n",
       "      <td>1</td>\n",
       "      <td>0.007600</td>\n",
       "      <td>0.005784</td>\n",
       "      <td>0.962830</td>\n",
       "      <td>0.987204</td>\n",
       "      <td>0.974865</td>\n",
       "      <td>0.998695</td>\n",
       "      <td>0.986244</td>\n",
       "    </tr>\n",
       "    <tr>\n",
       "      <td>2</td>\n",
       "      <td>0.003000</td>\n",
       "      <td>0.003476</td>\n",
       "      <td>0.983517</td>\n",
       "      <td>0.987757</td>\n",
       "      <td>0.985632</td>\n",
       "      <td>0.999336</td>\n",
       "      <td>0.987593</td>\n",
       "    </tr>\n",
       "    <tr>\n",
       "      <td>3</td>\n",
       "      <td>0.002100</td>\n",
       "      <td>0.003441</td>\n",
       "      <td>0.983530</td>\n",
       "      <td>0.988586</td>\n",
       "      <td>0.986052</td>\n",
       "      <td>0.999346</td>\n",
       "      <td>0.988391</td>\n",
       "    </tr>\n",
       "  </tbody>\n",
       "</table><p>"
      ],
      "text/plain": [
       "<IPython.core.display.HTML object>"
      ]
     },
     "metadata": {},
     "output_type": "display_data"
    },
    {
     "data": {
      "text/html": [
       "\n",
       "    <div>\n",
       "      \n",
       "      <progress value='332' max='332' style='width:300px; height:20px; vertical-align: middle;'></progress>\n",
       "      [332/332 01:29]\n",
       "    </div>\n",
       "    "
      ],
      "text/plain": [
       "<IPython.core.display.HTML object>"
      ]
     },
     "metadata": {},
     "output_type": "display_data"
    }
   ],
   "source": [
    "# モデルの学習\n",
    "trainer.train()\n",
    "cv_score = trainer.evaluate()[\"eval_f5score\"]\n",
    "# モデルの保存\n",
    "trainer.save_model(MODEL_OUTPUT_PATH)"
   ]
  },
  {
   "cell_type": "code",
   "execution_count": 39,
   "metadata": {
    "execution": {
     "iopub.execute_input": "2024-02-29T12:22:09.598805Z",
     "iopub.status.busy": "2024-02-29T12:22:09.598130Z",
     "iopub.status.idle": "2024-02-29T12:22:10.293161Z",
     "shell.execute_reply": "2024-02-29T12:22:10.292641Z"
    }
   },
   "outputs": [],
   "source": [
    "model = AutoModelForTokenClassification.from_pretrained(MODEL_OUTPUT_PATH)\n",
    "tokenizer = AutoTokenizer.from_pretrained(MODEL_OUTPUT_PATH)\n",
    "\n",
    "args = TrainingArguments(\n",
    "    \".\",\n",
    "    per_device_eval_batch_size=1,\n",
    "    report_to=\"none\",\n",
    ")\n",
    "\n",
    "trainer = Trainer(\n",
    "    model=model,\n",
    "    args=args,\n",
    "    data_collator=data_collator,\n",
    "    tokenizer=tokenizer,\n",
    ")"
   ]
  },
  {
   "cell_type": "markdown",
   "metadata": {},
   "source": [
    "# Make CV DataFrame"
   ]
  },
  {
   "cell_type": "code",
   "execution_count": 40,
   "metadata": {
    "execution": {
     "iopub.execute_input": "2024-02-29T12:22:10.296549Z",
     "iopub.status.busy": "2024-02-29T12:22:10.296216Z",
     "iopub.status.idle": "2024-02-29T12:22:10.299650Z",
     "shell.execute_reply": "2024-02-29T12:22:10.299277Z"
    }
   },
   "outputs": [],
   "source": [
    "def get_valid_preds(trainer, valid_dataset):\n",
    "    \"\"\"\n",
    "    trainerを用いてvalid_datasetに対する予測を行う\n",
    "    \"\"\"\n",
    "    predictions = trainer.predict(valid_dataset).predictions\n",
    "    preds_final = predictions.argmax(-1)\n",
    "\n",
    "    return preds_final"
   ]
  },
  {
   "cell_type": "code",
   "execution_count": 41,
   "metadata": {
    "execution": {
     "iopub.execute_input": "2024-02-29T12:22:10.301913Z",
     "iopub.status.busy": "2024-02-29T12:22:10.301451Z",
     "iopub.status.idle": "2024-02-29T12:22:10.305657Z",
     "shell.execute_reply": "2024-02-29T12:22:10.305322Z"
    }
   },
   "outputs": [],
   "source": [
    "def tokenize(example, tokenizer):\n",
    "    text = []\n",
    "    token_map = []\n",
    "\n",
    "    idx = 0\n",
    "\n",
    "    for t, ws in zip(example[\"tokens\"], example[\"trailing_whitespace\"]):\n",
    "        text.append(t)\n",
    "        token_map.extend([idx] * len(t))\n",
    "        if ws:\n",
    "            text.append(\" \")\n",
    "            token_map.append(-1)\n",
    "\n",
    "        idx += 1\n",
    "\n",
    "    tokenized = tokenizer(\"\".join(text), return_offsets_mapping=True, truncation=True, max_length=INFERENCE_MAX_LENGTH)\n",
    "\n",
    "    return {\n",
    "        **tokenized,\n",
    "        \"token_map\": token_map,\n",
    "    }"
   ]
  },
  {
   "cell_type": "code",
   "execution_count": 42,
   "metadata": {
    "execution": {
     "iopub.execute_input": "2024-02-29T12:22:10.307630Z",
     "iopub.status.busy": "2024-02-29T12:22:10.307312Z",
     "iopub.status.idle": "2024-02-29T12:22:10.313384Z",
     "shell.execute_reply": "2024-02-29T12:22:10.313002Z"
    }
   },
   "outputs": [],
   "source": [
    "def get_output_part(preds_final, valid_dataset):\n",
    "    triplets = []\n",
    "    document, token, label, token_str = [], [], [], []\n",
    "    # token_mapはoffsetsの文字列indexが、何番目のtokenの紐付け\n",
    "    # start_idx = 0の時、tokens[token_map[start_idx]] → 'Design'\n",
    "    # start_idx = 1の時、tokens[token_map[start_idx]] → 'Design'\n",
    "    # ・・・\n",
    "    # start_idx = 5の時、tokens[token_map[start_idx]] → 'Design'\n",
    "    # start_idx = 6の時、tokens[token_map[start_idx]] → '\\n\\n'\n",
    "\n",
    "    # 同じtoken_idに、二つの予測結果が入ってしまう問題\n",
    "    # 原因は、「文字列をtokenizerで区切り、別のlabelと予測した場合を、別のtripletとして扱うから」\n",
    "    # 例えば、'kellyharrison@gmail.com'のlabelの予測結果\n",
    "    # '\\nkelly' -> 'B-EMAIL'\n",
    "    # '##harris' -> 'B-EMAIL'\n",
    "    # '##on' -> 'I-NAME_STUDENT'\n",
    "    # '@' -> 'B-EMAIL'\n",
    "    # 'gmail' -> 'B-EMAIL'\n",
    "    # '.' -> 'B-EMAIL'\n",
    "    # 'com' -> 'B-EMAIL'\n",
    "    # 簡易的な解決策: 同じtoken_idの場合は、tripletに追加しない\n",
    "    # 根本的な解決策: サブワードの推論結果は無視する？（サブワードの話ではないかも。もうちょっと考えたほうがよさそう。）\n",
    "\n",
    "    for p, token_map, offsets, tokens, doc in zip(\n",
    "        preds_final,\n",
    "        valid_dataset[\"token_map\"],\n",
    "        valid_dataset[\"offset_mapping\"],\n",
    "        valid_dataset[\"tokens\"],\n",
    "        valid_dataset[\"document\"],\n",
    "    ):\n",
    "        for token_pred, (start_idx, end_idx) in zip(p, offsets):\n",
    "            label_pred = id2label[token_pred]\n",
    "\n",
    "            if start_idx + end_idx == 0:\n",
    "                continue\n",
    "\n",
    "            if token_map[start_idx] == -1:\n",
    "                start_idx += 1\n",
    "\n",
    "            # ignore \"\\n\\n\"\n",
    "            while start_idx < len(token_map) and tokens[token_map[start_idx]].isspace():\n",
    "                start_idx += 1\n",
    "\n",
    "            if start_idx >= len(token_map):\n",
    "                break\n",
    "\n",
    "            token_id = token_map[start_idx]\n",
    "\n",
    "            # ignore \"O\" predictions and whitespace preds\n",
    "            if label_pred != \"O\" and token_id != -1:\n",
    "                triplet = (label_pred, token_id, tokens[token_id])\n",
    "\n",
    "                if triplet not in triplets:\n",
    "                    document.append(doc)\n",
    "                    token.append(token_id)\n",
    "                    label.append(label_pred)\n",
    "                    token_str.append(tokens[token_id])\n",
    "                    triplets.append(triplet)\n",
    "\n",
    "    return document, token, label, token_str"
   ]
  },
  {
   "cell_type": "code",
   "execution_count": 43,
   "metadata": {
    "execution": {
     "iopub.execute_input": "2024-02-29T12:22:10.315699Z",
     "iopub.status.busy": "2024-02-29T12:22:10.315080Z",
     "iopub.status.idle": "2024-02-29T12:22:10.319069Z",
     "shell.execute_reply": "2024-02-29T12:22:10.318664Z"
    }
   },
   "outputs": [],
   "source": [
    "def make_correct_df(train: pl.DataFrame):\n",
    "    # 学習データから、outputと同様のデータフレームを作成する\n",
    "    outputs = []\n",
    "    for document_id, token, label in zip(\n",
    "        train[\"document\"], train[\"tokens\"], train[\"provided_labels\"]\n",
    "    ):\n",
    "        for token, (token_str, label_one) in enumerate(zip(token, label)):\n",
    "            if label_one != \"O\":\n",
    "                outputs.append((document_id, token, label_one, token_str))\n",
    "    return pl.DataFrame(outputs, schema=[\"document\", \"token\", \"label\", \"token_str\"])"
   ]
  },
  {
   "cell_type": "code",
   "execution_count": 44,
   "metadata": {
    "execution": {
     "iopub.execute_input": "2024-02-29T12:22:10.320967Z",
     "iopub.status.busy": "2024-02-29T12:22:10.320609Z",
     "iopub.status.idle": "2024-02-29T12:22:10.324982Z",
     "shell.execute_reply": "2024-02-29T12:22:10.324611Z"
    }
   },
   "outputs": [],
   "source": [
    "def make_correct_pred_join_df(\n",
    "    train_correct_df: pl.DataFrame, valid_pred_df: pl.DataFrame\n",
    ") -> pl.DataFrame:\n",
    "    \"\"\"\n",
    "    validで利用したdocumentのみを抽出し、train_correct_dfとvalid_pred_dfを結合して、documentごとに比較できるようにする\n",
    "    \"\"\"\n",
    "    out = train_correct_df.filter(\n",
    "        pl.col(\"document\").is_in(valid_pred_df[\"document\"])\n",
    "    ).join(valid_pred_df, on=[\"document\", \"token\"], how=\"outer\", suffix=\"_pred\")\n",
    "\n",
    "    joined_dfs = []\n",
    "    for document in out[\"document\"].unique().to_list():\n",
    "        if document is None:\n",
    "            continue\n",
    "        joined_df_per_document = out.filter(\n",
    "            (pl.col(\"document\") == document) | (pl.col(\"document_pred\") == document)\n",
    "        )\n",
    "        joined_dfs.append(joined_df_per_document)\n",
    "\n",
    "    return pl.concat(joined_dfs)"
   ]
  },
  {
   "cell_type": "code",
   "execution_count": 45,
   "metadata": {
    "autoscroll": "auto",
    "collapsed": false,
    "execution": {
     "iopub.execute_input": "2024-02-29T12:22:10.326936Z",
     "iopub.status.busy": "2024-02-29T12:22:10.326585Z",
     "iopub.status.idle": "2024-02-29T12:24:42.603663Z",
     "shell.execute_reply": "2024-02-29T12:24:42.602974Z"
    },
    "jupyter": {
     "outputs_hidden": false
    }
   },
   "outputs": [
    {
     "data": {
      "application/vnd.jupyter.widget-view+json": {
       "model_id": "bd803a39f9f6434ba6b48e178683de98",
       "version_major": 2,
       "version_minor": 0
      },
      "text/plain": [
       "Filter (num_proc=3):   0%|          | 0/13241 [00:00<?, ? examples/s]"
      ]
     },
     "metadata": {},
     "output_type": "display_data"
    },
    {
     "data": {
      "application/vnd.jupyter.widget-view+json": {
       "model_id": "17650efd4fdd48a2924cf466e8eab11e",
       "version_major": 2,
       "version_minor": 0
      },
      "text/plain": [
       "Map (num_proc=3):   0%|          | 0/2649 [00:00<?, ? examples/s]"
      ]
     },
     "metadata": {},
     "output_type": "display_data"
    },
    {
     "data": {
      "text/html": [],
      "text/plain": [
       "<IPython.core.display.HTML object>"
      ]
     },
     "metadata": {},
     "output_type": "display_data"
    }
   ],
   "source": [
    "# main\n",
    "valid_dataset = train_dataset.filter(\n",
    "    lambda example: example[\"document\"] in train_valid_dataset[\"valid\"][\"document\"],\n",
    "    num_proc=3,\n",
    ")\n",
    "\n",
    "valid_dataset = valid_dataset.map(\n",
    "    tokenize, fn_kwargs={\"tokenizer\": tokenizer}, num_proc=3\n",
    ")\n",
    "\n",
    "valid_preds = get_valid_preds(trainer, valid_dataset)\n",
    "\n",
    "document, token, label, token_str = get_output_part(valid_preds, valid_dataset)\n",
    "\n",
    "valid_pred_df = pl.DataFrame(\n",
    "    [document, token, label, token_str],\n",
    "    schema=[\"document\", \"token\", \"label\", \"token_str\"],\n",
    ")\n",
    "\n",
    "train_correct_df = make_correct_df(pl.from_pandas(train_dataset.to_pandas()))\n",
    "# train_correct_df = make_correct_df(train)\n",
    "\n",
    "valid_correct_pred_df = make_correct_pred_join_df(train_correct_df, valid_pred_df)\n",
    "\n",
    "# wandbにuploadする\n",
    "if not DEBUG:\n",
    "    tbl = wandb.Table(data=valid_correct_pred_df.to_pandas())\n",
    "    wandb.log({\"valid_correct_pred_df\": tbl})"
   ]
  },
  {
   "cell_type": "code",
   "execution_count": 46,
   "metadata": {
    "execution": {
     "iopub.execute_input": "2024-02-29T12:24:42.606658Z",
     "iopub.status.busy": "2024-02-29T12:24:42.606225Z",
     "iopub.status.idle": "2024-02-29T12:24:44.328344Z",
     "shell.execute_reply": "2024-02-29T12:24:44.327857Z"
    }
   },
   "outputs": [],
   "source": [
    "valid_correct_pred_df.write_csv(\"exp006.csv\")"
   ]
  },
  {
   "cell_type": "markdown",
   "metadata": {},
   "source": [
    "# Data Upload"
   ]
  },
  {
   "cell_type": "code",
   "execution_count": 47,
   "metadata": {
    "autoscroll": "auto",
    "collapsed": false,
    "execution": {
     "iopub.execute_input": "2024-02-29T12:24:44.330998Z",
     "iopub.status.busy": "2024-02-29T12:24:44.330580Z",
     "iopub.status.idle": "2024-02-29T12:24:44.340664Z",
     "shell.execute_reply": "2024-02-29T12:24:44.340292Z"
    },
    "jupyter": {
     "outputs_hidden": false
    }
   },
   "outputs": [
    {
     "data": {
      "text/plain": [
       "0"
      ]
     },
     "execution_count": 47,
     "metadata": {},
     "output_type": "execute_result"
    }
   ],
   "source": [
    "import os\n",
    "\n",
    "os.system(\"mkdir -p ~/.kaggle/\")\n",
    "os.system(\"cp /notebooks/pll_data_detection/kaggle.json ~/.kaggle/\")\n",
    "os.system(\"chmod 600 ~/.kaggle/kaggle.json\")"
   ]
  },
  {
   "cell_type": "code",
   "execution_count": 48,
   "metadata": {
    "execution": {
     "iopub.execute_input": "2024-02-29T12:24:44.343148Z",
     "iopub.status.busy": "2024-02-29T12:24:44.342671Z",
     "iopub.status.idle": "2024-02-29T12:44:23.632069Z",
     "shell.execute_reply": "2024-02-29T12:44:23.631590Z"
    }
   },
   "outputs": [],
   "source": [
    "from kaggle.api.kaggle_api_extended import KaggleApi\n",
    "import json\n",
    "\n",
    "\n",
    "def dataset_create_new(dataset_name: str, upload_dir: str):\n",
    "    if \"_\" in dataset_name:\n",
    "        raise ValueError(\"datasetの名称に_の使用は禁止です\")\n",
    "    dataset_metadata = {}\n",
    "    dataset_metadata[\"id\"] = f\"sinchir0/{dataset_name}\"\n",
    "    dataset_metadata[\"licenses\"] = [{\"name\": \"CC0-1.0\"}]\n",
    "    dataset_metadata[\"title\"] = dataset_name\n",
    "    with open(os.path.join(upload_dir, \"dataset-metadata.json\"), \"w\") as f:\n",
    "        json.dump(dataset_metadata, f, indent=4)\n",
    "    api = KaggleApi()\n",
    "    api.authenticate()\n",
    "    api.dataset_create_new(folder=upload_dir, convert_to_csv=False, dir_mode=\"tar\")\n",
    "\n",
    "\n",
    "if (not DEBUG) and UPLOAD_DATA:\n",
    "    print(f\"Create Dataset name:{DATASET_NAME}, output_dir:{MODEL_OUTPUT_PATH}\")\n",
    "    dataset_create_new(dataset_name=DATASET_NAME, upload_dir=MODEL_OUTPUT_PATH)"
   ]
  },
  {
   "cell_type": "code",
   "execution_count": 49,
   "metadata": {
    "autoscroll": "auto",
    "collapsed": false,
    "execution": {
     "iopub.execute_input": "2024-02-29T12:44:23.634690Z",
     "iopub.status.busy": "2024-02-29T12:44:23.634002Z",
     "iopub.status.idle": "2024-02-29T12:44:23.638187Z",
     "shell.execute_reply": "2024-02-29T12:44:23.637786Z"
    },
    "jupyter": {
     "outputs_hidden": false
    }
   },
   "outputs": [
    {
     "data": {
      "text/plain": [
       "'pll_data_detection/trained_models/e14-random-valid-only-moredata'"
      ]
     },
     "execution_count": 49,
     "metadata": {},
     "output_type": "execute_result"
    }
   ],
   "source": [
    "MODEL_OUTPUT_PATH"
   ]
  },
  {
   "cell_type": "code",
   "execution_count": 50,
   "metadata": {
    "autoscroll": "auto",
    "collapsed": false,
    "execution": {
     "iopub.execute_input": "2024-02-29T12:44:23.640535Z",
     "iopub.status.busy": "2024-02-29T12:44:23.640010Z",
     "iopub.status.idle": "2024-02-29T12:44:28.297446Z",
     "shell.execute_reply": "2024-02-29T12:44:28.296766Z"
    },
    "jupyter": {
     "outputs_hidden": false
    },
    "tags": []
   },
   "outputs": [
    {
     "data": {
      "text/html": [
       "Waiting for W&B process to finish... <strong style=\"color:green\">(success).</strong>"
      ],
      "text/plain": [
       "<IPython.core.display.HTML object>"
      ]
     },
     "metadata": {},
     "output_type": "display_data"
    },
    {
     "data": {
      "text/html": [
       "<style>\n",
       "    table.wandb td:nth-child(1) { padding: 0 10px; text-align: left ; width: auto;} td:nth-child(2) {text-align: left ; width: 100%}\n",
       "    .wandb-row { display: flex; flex-direction: row; flex-wrap: wrap; justify-content: flex-start; width: 100% }\n",
       "    .wandb-col { display: flex; flex-direction: column; flex-basis: 100%; flex: 1; padding: 10px; }\n",
       "    </style>\n",
       "<div class=\"wandb-row\"><div class=\"wandb-col\"><h3>Run summary:</h3><br/><table class=\"wandb\"><tr><td>eval/accuracy</td><td>0.99935</td></tr><tr><td>eval/f1</td><td>0.98605</td></tr><tr><td>eval/f5score</td><td>0.98839</td></tr><tr><td>eval/loss</td><td>0.00344</td></tr><tr><td>eval/precision</td><td>0.98353</td></tr><tr><td>eval/recall</td><td>0.98859</td></tr><tr><td>eval/runtime</td><td>105.6412</td></tr><tr><td>eval/samples_per_second</td><td>25.075</td></tr><tr><td>eval/steps_per_second</td><td>3.143</td></tr><tr><td>train/epoch</td><td>3.0</td></tr><tr><td>train/global_step</td><td>3972</td></tr><tr><td>train/learning_rate</td><td>0.0</td></tr><tr><td>train/loss</td><td>0.0021</td></tr><tr><td>train/total_flos</td><td>1.4684778202005504e+16</td></tr><tr><td>train/train_loss</td><td>0.04632</td></tr><tr><td>train/train_runtime</td><td>3317.4163</td></tr><tr><td>train/train_samples_per_second</td><td>9.579</td></tr><tr><td>train/train_steps_per_second</td><td>1.197</td></tr></table><br/></div></div>"
      ],
      "text/plain": [
       "<IPython.core.display.HTML object>"
      ]
     },
     "metadata": {},
     "output_type": "display_data"
    },
    {
     "data": {
      "text/html": [
       "Synced <strong style=\"color:#cdcd00\">e14-random-valid-only-moredata</strong>: <a href=\"https://wandb.ai/sinchir0/pll/runs/2srm2r0v\" target=\"_blank\">https://wandb.ai/sinchir0/pll/runs/2srm2r0v</a><br/>Synced 5 W&B file(s), 1 media file(s), 1 artifact file(s) and 0 other file(s)"
      ],
      "text/plain": [
       "<IPython.core.display.HTML object>"
      ]
     },
     "metadata": {},
     "output_type": "display_data"
    },
    {
     "data": {
      "text/html": [
       "Find logs at: <code>./wandb/run-20240229_112452-2srm2r0v/logs</code>"
      ],
      "text/plain": [
       "<IPython.core.display.HTML object>"
      ]
     },
     "metadata": {},
     "output_type": "display_data"
    }
   ],
   "source": [
    "if not DEBUG:\n",
    "    wandb.finish()"
   ]
  }
 ],
 "metadata": {
  "kernelspec": {
   "display_name": "Python 3 (ipykernel)",
   "language": "python",
   "name": "python3"
  },
  "language_info": {
   "codemirror_mode": {
    "name": "ipython",
    "version": 3
   },
   "file_extension": ".py",
   "mimetype": "text/x-python",
   "name": "python",
   "nbconvert_exporter": "python",
   "pygments_lexer": "ipython3",
   "version": "3.9.16"
  },
  "widgets": {
   "application/vnd.jupyter.widget-state+json": {
    "state": {
     "0217012beb714cb2a1879bae9f0e0483": {
      "model_module": "@jupyter-widgets/base",
      "model_module_version": "2.0.0",
      "model_name": "LayoutModel",
      "state": {
       "_model_module": "@jupyter-widgets/base",
       "_model_module_version": "2.0.0",
       "_model_name": "LayoutModel",
       "_view_count": null,
       "_view_module": "@jupyter-widgets/base",
       "_view_module_version": "2.0.0",
       "_view_name": "LayoutView",
       "align_content": null,
       "align_items": null,
       "align_self": null,
       "border_bottom": null,
       "border_left": null,
       "border_right": null,
       "border_top": null,
       "bottom": null,
       "display": null,
       "flex": null,
       "flex_flow": null,
       "grid_area": null,
       "grid_auto_columns": null,
       "grid_auto_flow": null,
       "grid_auto_rows": null,
       "grid_column": null,
       "grid_gap": null,
       "grid_row": null,
       "grid_template_areas": null,
       "grid_template_columns": null,
       "grid_template_rows": null,
       "height": null,
       "justify_content": null,
       "justify_items": null,
       "left": null,
       "margin": null,
       "max_height": null,
       "max_width": null,
       "min_height": null,
       "min_width": null,
       "object_fit": null,
       "object_position": null,
       "order": null,
       "overflow": null,
       "padding": null,
       "right": null,
       "top": null,
       "visibility": null,
       "width": null
      }
     },
     "02cbf22452b84a4e80212b4c0b723250": {
      "model_module": "@jupyter-widgets/controls",
      "model_module_version": "2.0.0",
      "model_name": "HTMLModel",
      "state": {
       "_dom_classes": [],
       "_model_module": "@jupyter-widgets/controls",
       "_model_module_version": "2.0.0",
       "_model_name": "HTMLModel",
       "_view_count": null,
       "_view_module": "@jupyter-widgets/controls",
       "_view_module_version": "2.0.0",
       "_view_name": "HTMLView",
       "description": "",
       "description_allow_html": false,
       "layout": "IPY_MODEL_058f04ad87f34c64be797abc99948c6f",
       "placeholder": "​",
       "style": "IPY_MODEL_9d1c80177cd24f0f87e753b480b79b1b",
       "tabbable": null,
       "tooltip": null,
       "value": "Map (num_proc=3): 100%"
      }
     },
     "058f04ad87f34c64be797abc99948c6f": {
      "model_module": "@jupyter-widgets/base",
      "model_module_version": "2.0.0",
      "model_name": "LayoutModel",
      "state": {
       "_model_module": "@jupyter-widgets/base",
       "_model_module_version": "2.0.0",
       "_model_name": "LayoutModel",
       "_view_count": null,
       "_view_module": "@jupyter-widgets/base",
       "_view_module_version": "2.0.0",
       "_view_name": "LayoutView",
       "align_content": null,
       "align_items": null,
       "align_self": null,
       "border_bottom": null,
       "border_left": null,
       "border_right": null,
       "border_top": null,
       "bottom": null,
       "display": null,
       "flex": null,
       "flex_flow": null,
       "grid_area": null,
       "grid_auto_columns": null,
       "grid_auto_flow": null,
       "grid_auto_rows": null,
       "grid_column": null,
       "grid_gap": null,
       "grid_row": null,
       "grid_template_areas": null,
       "grid_template_columns": null,
       "grid_template_rows": null,
       "height": null,
       "justify_content": null,
       "justify_items": null,
       "left": null,
       "margin": null,
       "max_height": null,
       "max_width": null,
       "min_height": null,
       "min_width": null,
       "object_fit": null,
       "object_position": null,
       "order": null,
       "overflow": null,
       "padding": null,
       "right": null,
       "top": null,
       "visibility": null,
       "width": null
      }
     },
     "08d8fd1124304d6ba5bb1f418aecf920": {
      "model_module": "@jupyter-widgets/base",
      "model_module_version": "2.0.0",
      "model_name": "LayoutModel",
      "state": {
       "_model_module": "@jupyter-widgets/base",
       "_model_module_version": "2.0.0",
       "_model_name": "LayoutModel",
       "_view_count": null,
       "_view_module": "@jupyter-widgets/base",
       "_view_module_version": "2.0.0",
       "_view_name": "LayoutView",
       "align_content": null,
       "align_items": null,
       "align_self": null,
       "border_bottom": null,
       "border_left": null,
       "border_right": null,
       "border_top": null,
       "bottom": null,
       "display": null,
       "flex": null,
       "flex_flow": null,
       "grid_area": null,
       "grid_auto_columns": null,
       "grid_auto_flow": null,
       "grid_auto_rows": null,
       "grid_column": null,
       "grid_gap": null,
       "grid_row": null,
       "grid_template_areas": null,
       "grid_template_columns": null,
       "grid_template_rows": null,
       "height": null,
       "justify_content": null,
       "justify_items": null,
       "left": null,
       "margin": null,
       "max_height": null,
       "max_width": null,
       "min_height": null,
       "min_width": null,
       "object_fit": null,
       "object_position": null,
       "order": null,
       "overflow": null,
       "padding": null,
       "right": null,
       "top": null,
       "visibility": null,
       "width": null
      }
     },
     "0bb44eb643dd45f2bc29de368efc7a81": {
      "model_module": "@jupyter-widgets/base",
      "model_module_version": "2.0.0",
      "model_name": "LayoutModel",
      "state": {
       "_model_module": "@jupyter-widgets/base",
       "_model_module_version": "2.0.0",
       "_model_name": "LayoutModel",
       "_view_count": null,
       "_view_module": "@jupyter-widgets/base",
       "_view_module_version": "2.0.0",
       "_view_name": "LayoutView",
       "align_content": null,
       "align_items": null,
       "align_self": null,
       "border_bottom": null,
       "border_left": null,
       "border_right": null,
       "border_top": null,
       "bottom": null,
       "display": null,
       "flex": null,
       "flex_flow": null,
       "grid_area": null,
       "grid_auto_columns": null,
       "grid_auto_flow": null,
       "grid_auto_rows": null,
       "grid_column": null,
       "grid_gap": null,
       "grid_row": null,
       "grid_template_areas": null,
       "grid_template_columns": null,
       "grid_template_rows": null,
       "height": null,
       "justify_content": null,
       "justify_items": null,
       "left": null,
       "margin": null,
       "max_height": null,
       "max_width": null,
       "min_height": null,
       "min_width": null,
       "object_fit": null,
       "object_position": null,
       "order": null,
       "overflow": null,
       "padding": null,
       "right": null,
       "top": null,
       "visibility": null,
       "width": null
      }
     },
     "17650efd4fdd48a2924cf466e8eab11e": {
      "model_module": "@jupyter-widgets/controls",
      "model_module_version": "2.0.0",
      "model_name": "HBoxModel",
      "state": {
       "_dom_classes": [],
       "_model_module": "@jupyter-widgets/controls",
       "_model_module_version": "2.0.0",
       "_model_name": "HBoxModel",
       "_view_count": null,
       "_view_module": "@jupyter-widgets/controls",
       "_view_module_version": "2.0.0",
       "_view_name": "HBoxView",
       "box_style": "",
       "children": [
        "IPY_MODEL_02cbf22452b84a4e80212b4c0b723250",
        "IPY_MODEL_c48a2614063b453ba96c4cca6dba2a15",
        "IPY_MODEL_47b0652f01c94352b9ee714bebb17c83"
       ],
       "layout": "IPY_MODEL_f85b5b8d6d584b77904fe1573c47fb3e",
       "tabbable": null,
       "tooltip": null
      }
     },
     "1e56bbfaac1d48b09c9ab0cbcc70a05f": {
      "model_module": "@jupyter-widgets/base",
      "model_module_version": "2.0.0",
      "model_name": "LayoutModel",
      "state": {
       "_model_module": "@jupyter-widgets/base",
       "_model_module_version": "2.0.0",
       "_model_name": "LayoutModel",
       "_view_count": null,
       "_view_module": "@jupyter-widgets/base",
       "_view_module_version": "2.0.0",
       "_view_name": "LayoutView",
       "align_content": null,
       "align_items": null,
       "align_self": null,
       "border_bottom": null,
       "border_left": null,
       "border_right": null,
       "border_top": null,
       "bottom": null,
       "display": null,
       "flex": null,
       "flex_flow": null,
       "grid_area": null,
       "grid_auto_columns": null,
       "grid_auto_flow": null,
       "grid_auto_rows": null,
       "grid_column": null,
       "grid_gap": null,
       "grid_row": null,
       "grid_template_areas": null,
       "grid_template_columns": null,
       "grid_template_rows": null,
       "height": null,
       "justify_content": null,
       "justify_items": null,
       "left": null,
       "margin": null,
       "max_height": null,
       "max_width": null,
       "min_height": null,
       "min_width": null,
       "object_fit": null,
       "object_position": null,
       "order": null,
       "overflow": null,
       "padding": null,
       "right": null,
       "top": null,
       "visibility": null,
       "width": null
      }
     },
     "30c215d3bc8f488ab5b2bb1a414db9da": {
      "model_module": "@jupyter-widgets/controls",
      "model_module_version": "2.0.0",
      "model_name": "ProgressStyleModel",
      "state": {
       "_model_module": "@jupyter-widgets/controls",
       "_model_module_version": "2.0.0",
       "_model_name": "ProgressStyleModel",
       "_view_count": null,
       "_view_module": "@jupyter-widgets/base",
       "_view_module_version": "2.0.0",
       "_view_name": "StyleView",
       "bar_color": null,
       "description_width": ""
      }
     },
     "3801733811494ccb87d5ae5fcb2fde46": {
      "model_module": "@jupyter-widgets/controls",
      "model_module_version": "2.0.0",
      "model_name": "HTMLStyleModel",
      "state": {
       "_model_module": "@jupyter-widgets/controls",
       "_model_module_version": "2.0.0",
       "_model_name": "HTMLStyleModel",
       "_view_count": null,
       "_view_module": "@jupyter-widgets/base",
       "_view_module_version": "2.0.0",
       "_view_name": "StyleView",
       "background": null,
       "description_width": "",
       "font_size": null,
       "text_color": null
      }
     },
     "3b739a3e01ca460a871dff77bafca521": {
      "model_module": "@jupyter-widgets/controls",
      "model_module_version": "2.0.0",
      "model_name": "LabelStyleModel",
      "state": {
       "_model_module": "@jupyter-widgets/controls",
       "_model_module_version": "2.0.0",
       "_model_name": "LabelStyleModel",
       "_view_count": null,
       "_view_module": "@jupyter-widgets/base",
       "_view_module_version": "2.0.0",
       "_view_name": "StyleView",
       "background": null,
       "description_width": "",
       "font_family": null,
       "font_size": null,
       "font_style": null,
       "font_variant": null,
       "font_weight": null,
       "text_color": null,
       "text_decoration": null
      }
     },
     "4398f5b3a862467fabd580266ab4c819": {
      "model_module": "@jupyter-widgets/controls",
      "model_module_version": "2.0.0",
      "model_name": "VBoxModel",
      "state": {
       "_dom_classes": [],
       "_model_module": "@jupyter-widgets/controls",
       "_model_module_version": "2.0.0",
       "_model_name": "VBoxModel",
       "_view_count": null,
       "_view_module": "@jupyter-widgets/controls",
       "_view_module_version": "2.0.0",
       "_view_name": "VBoxView",
       "box_style": "",
       "children": [
        "IPY_MODEL_ba78fda2ee104fe1bbe632d7f50b577b",
        "IPY_MODEL_fc533489c04d45fc8d7a7241ae8f61c6"
       ],
       "layout": "IPY_MODEL_6836314b85b440f3b9fc34bf46a3b483",
       "tabbable": null,
       "tooltip": null
      }
     },
     "47836402e4db448a823135459bfaefb3": {
      "model_module": "@jupyter-widgets/controls",
      "model_module_version": "2.0.0",
      "model_name": "ProgressStyleModel",
      "state": {
       "_model_module": "@jupyter-widgets/controls",
       "_model_module_version": "2.0.0",
       "_model_name": "ProgressStyleModel",
       "_view_count": null,
       "_view_module": "@jupyter-widgets/base",
       "_view_module_version": "2.0.0",
       "_view_name": "StyleView",
       "bar_color": null,
       "description_width": ""
      }
     },
     "47b0652f01c94352b9ee714bebb17c83": {
      "model_module": "@jupyter-widgets/controls",
      "model_module_version": "2.0.0",
      "model_name": "HTMLModel",
      "state": {
       "_dom_classes": [],
       "_model_module": "@jupyter-widgets/controls",
       "_model_module_version": "2.0.0",
       "_model_name": "HTMLModel",
       "_view_count": null,
       "_view_module": "@jupyter-widgets/controls",
       "_view_module_version": "2.0.0",
       "_view_name": "HTMLView",
       "description": "",
       "description_allow_html": false,
       "layout": "IPY_MODEL_54e900630ba74442b1055c1073c8f162",
       "placeholder": "​",
       "style": "IPY_MODEL_3801733811494ccb87d5ae5fcb2fde46",
       "tabbable": null,
       "tooltip": null,
       "value": " 2649/2649 [00:03&lt;00:00, 1112.86 examples/s]"
      }
     },
     "54e900630ba74442b1055c1073c8f162": {
      "model_module": "@jupyter-widgets/base",
      "model_module_version": "2.0.0",
      "model_name": "LayoutModel",
      "state": {
       "_model_module": "@jupyter-widgets/base",
       "_model_module_version": "2.0.0",
       "_model_name": "LayoutModel",
       "_view_count": null,
       "_view_module": "@jupyter-widgets/base",
       "_view_module_version": "2.0.0",
       "_view_name": "LayoutView",
       "align_content": null,
       "align_items": null,
       "align_self": null,
       "border_bottom": null,
       "border_left": null,
       "border_right": null,
       "border_top": null,
       "bottom": null,
       "display": null,
       "flex": null,
       "flex_flow": null,
       "grid_area": null,
       "grid_auto_columns": null,
       "grid_auto_flow": null,
       "grid_auto_rows": null,
       "grid_column": null,
       "grid_gap": null,
       "grid_row": null,
       "grid_template_areas": null,
       "grid_template_columns": null,
       "grid_template_rows": null,
       "height": null,
       "justify_content": null,
       "justify_items": null,
       "left": null,
       "margin": null,
       "max_height": null,
       "max_width": null,
       "min_height": null,
       "min_width": null,
       "object_fit": null,
       "object_position": null,
       "order": null,
       "overflow": null,
       "padding": null,
       "right": null,
       "top": null,
       "visibility": null,
       "width": null
      }
     },
     "5af60feb43784090ac5d21af04e4257c": {
      "model_module": "@jupyter-widgets/controls",
      "model_module_version": "2.0.0",
      "model_name": "LabelStyleModel",
      "state": {
       "_model_module": "@jupyter-widgets/controls",
       "_model_module_version": "2.0.0",
       "_model_name": "LabelStyleModel",
       "_view_count": null,
       "_view_module": "@jupyter-widgets/base",
       "_view_module_version": "2.0.0",
       "_view_name": "StyleView",
       "background": null,
       "description_width": "",
       "font_family": null,
       "font_size": null,
       "font_style": null,
       "font_variant": null,
       "font_weight": null,
       "text_color": null,
       "text_decoration": null
      }
     },
     "5c2feb357a374268a9025ab94d7e8b9e": {
      "model_module": "@jupyter-widgets/controls",
      "model_module_version": "2.0.0",
      "model_name": "HTMLModel",
      "state": {
       "_dom_classes": [],
       "_model_module": "@jupyter-widgets/controls",
       "_model_module_version": "2.0.0",
       "_model_name": "HTMLModel",
       "_view_count": null,
       "_view_module": "@jupyter-widgets/controls",
       "_view_module_version": "2.0.0",
       "_view_name": "HTMLView",
       "description": "",
       "description_allow_html": false,
       "layout": "IPY_MODEL_75825086a15a4adfb71005a7ec0550af",
       "placeholder": "​",
       "style": "IPY_MODEL_d96a788c04044d079cf0c2423e546bd9",
       "tabbable": null,
       "tooltip": null,
       "value": " 13241/13241 [00:53&lt;00:00, 356.01 examples/s]"
      }
     },
     "61fcb00194be42418268cd210dfb05f7": {
      "model_module": "@jupyter-widgets/controls",
      "model_module_version": "2.0.0",
      "model_name": "LabelModel",
      "state": {
       "_dom_classes": [],
       "_model_module": "@jupyter-widgets/controls",
       "_model_module_version": "2.0.0",
       "_model_name": "LabelModel",
       "_view_count": null,
       "_view_module": "@jupyter-widgets/controls",
       "_view_module_version": "2.0.0",
       "_view_name": "LabelView",
       "description": "",
       "description_allow_html": false,
       "layout": "IPY_MODEL_08d8fd1124304d6ba5bb1f418aecf920",
       "placeholder": "​",
       "style": "IPY_MODEL_3b739a3e01ca460a871dff77bafca521",
       "tabbable": null,
       "tooltip": null,
       "value": ""
      }
     },
     "6836314b85b440f3b9fc34bf46a3b483": {
      "model_module": "@jupyter-widgets/base",
      "model_module_version": "2.0.0",
      "model_name": "LayoutModel",
      "state": {
       "_model_module": "@jupyter-widgets/base",
       "_model_module_version": "2.0.0",
       "_model_name": "LayoutModel",
       "_view_count": null,
       "_view_module": "@jupyter-widgets/base",
       "_view_module_version": "2.0.0",
       "_view_name": "LayoutView",
       "align_content": null,
       "align_items": null,
       "align_self": null,
       "border_bottom": null,
       "border_left": null,
       "border_right": null,
       "border_top": null,
       "bottom": null,
       "display": null,
       "flex": null,
       "flex_flow": null,
       "grid_area": null,
       "grid_auto_columns": null,
       "grid_auto_flow": null,
       "grid_auto_rows": null,
       "grid_column": null,
       "grid_gap": null,
       "grid_row": null,
       "grid_template_areas": null,
       "grid_template_columns": null,
       "grid_template_rows": null,
       "height": null,
       "justify_content": null,
       "justify_items": null,
       "left": null,
       "margin": null,
       "max_height": null,
       "max_width": null,
       "min_height": null,
       "min_width": null,
       "object_fit": null,
       "object_position": null,
       "order": null,
       "overflow": null,
       "padding": null,
       "right": null,
       "top": null,
       "visibility": null,
       "width": null
      }
     },
     "74b63a1aa7094b72801b1d09bdc9ff73": {
      "model_module": "@jupyter-widgets/controls",
      "model_module_version": "2.0.0",
      "model_name": "FloatProgressModel",
      "state": {
       "_dom_classes": [],
       "_model_module": "@jupyter-widgets/controls",
       "_model_module_version": "2.0.0",
       "_model_name": "FloatProgressModel",
       "_view_count": null,
       "_view_module": "@jupyter-widgets/controls",
       "_view_module_version": "2.0.0",
       "_view_name": "ProgressView",
       "bar_style": "",
       "description": "",
       "description_allow_html": false,
       "layout": "IPY_MODEL_9f0859df7c5d4508a1ee596c51ff920a",
       "max": 1.0,
       "min": 0.0,
       "orientation": "horizontal",
       "style": "IPY_MODEL_90a9e407c5ef4cb0b550611d51df9868",
       "tabbable": null,
       "tooltip": null,
       "value": 0.0
      }
     },
     "75825086a15a4adfb71005a7ec0550af": {
      "model_module": "@jupyter-widgets/base",
      "model_module_version": "2.0.0",
      "model_name": "LayoutModel",
      "state": {
       "_model_module": "@jupyter-widgets/base",
       "_model_module_version": "2.0.0",
       "_model_name": "LayoutModel",
       "_view_count": null,
       "_view_module": "@jupyter-widgets/base",
       "_view_module_version": "2.0.0",
       "_view_name": "LayoutView",
       "align_content": null,
       "align_items": null,
       "align_self": null,
       "border_bottom": null,
       "border_left": null,
       "border_right": null,
       "border_top": null,
       "bottom": null,
       "display": null,
       "flex": null,
       "flex_flow": null,
       "grid_area": null,
       "grid_auto_columns": null,
       "grid_auto_flow": null,
       "grid_auto_rows": null,
       "grid_column": null,
       "grid_gap": null,
       "grid_row": null,
       "grid_template_areas": null,
       "grid_template_columns": null,
       "grid_template_rows": null,
       "height": null,
       "justify_content": null,
       "justify_items": null,
       "left": null,
       "margin": null,
       "max_height": null,
       "max_width": null,
       "min_height": null,
       "min_width": null,
       "object_fit": null,
       "object_position": null,
       "order": null,
       "overflow": null,
       "padding": null,
       "right": null,
       "top": null,
       "visibility": null,
       "width": null
      }
     },
     "8a25148abc9a4777b5a22916c75f3d3b": {
      "model_module": "@jupyter-widgets/base",
      "model_module_version": "2.0.0",
      "model_name": "LayoutModel",
      "state": {
       "_model_module": "@jupyter-widgets/base",
       "_model_module_version": "2.0.0",
       "_model_name": "LayoutModel",
       "_view_count": null,
       "_view_module": "@jupyter-widgets/base",
       "_view_module_version": "2.0.0",
       "_view_name": "LayoutView",
       "align_content": null,
       "align_items": null,
       "align_self": null,
       "border_bottom": null,
       "border_left": null,
       "border_right": null,
       "border_top": null,
       "bottom": null,
       "display": null,
       "flex": null,
       "flex_flow": null,
       "grid_area": null,
       "grid_auto_columns": null,
       "grid_auto_flow": null,
       "grid_auto_rows": null,
       "grid_column": null,
       "grid_gap": null,
       "grid_row": null,
       "grid_template_areas": null,
       "grid_template_columns": null,
       "grid_template_rows": null,
       "height": null,
       "justify_content": null,
       "justify_items": null,
       "left": null,
       "margin": null,
       "max_height": null,
       "max_width": null,
       "min_height": null,
       "min_width": null,
       "object_fit": null,
       "object_position": null,
       "order": null,
       "overflow": null,
       "padding": null,
       "right": null,
       "top": null,
       "visibility": null,
       "width": null
      }
     },
     "8b5422fe752a4acd854256b7c3b2c86a": {
      "model_module": "@jupyter-widgets/controls",
      "model_module_version": "2.0.0",
      "model_name": "FloatProgressModel",
      "state": {
       "_dom_classes": [],
       "_model_module": "@jupyter-widgets/controls",
       "_model_module_version": "2.0.0",
       "_model_name": "FloatProgressModel",
       "_view_count": null,
       "_view_module": "@jupyter-widgets/controls",
       "_view_module_version": "2.0.0",
       "_view_name": "ProgressView",
       "bar_style": "success",
       "description": "",
       "description_allow_html": false,
       "layout": "IPY_MODEL_0217012beb714cb2a1879bae9f0e0483",
       "max": 13241.0,
       "min": 0.0,
       "orientation": "horizontal",
       "style": "IPY_MODEL_a1a20c08bd234a9fa269fd0c3fd14f7e",
       "tabbable": null,
       "tooltip": null,
       "value": 13241.0
      }
     },
     "90a9e407c5ef4cb0b550611d51df9868": {
      "model_module": "@jupyter-widgets/controls",
      "model_module_version": "2.0.0",
      "model_name": "ProgressStyleModel",
      "state": {
       "_model_module": "@jupyter-widgets/controls",
       "_model_module_version": "2.0.0",
       "_model_name": "ProgressStyleModel",
       "_view_count": null,
       "_view_module": "@jupyter-widgets/base",
       "_view_module_version": "2.0.0",
       "_view_name": "StyleView",
       "bar_color": null,
       "description_width": ""
      }
     },
     "9d1c80177cd24f0f87e753b480b79b1b": {
      "model_module": "@jupyter-widgets/controls",
      "model_module_version": "2.0.0",
      "model_name": "HTMLStyleModel",
      "state": {
       "_model_module": "@jupyter-widgets/controls",
       "_model_module_version": "2.0.0",
       "_model_name": "HTMLStyleModel",
       "_view_count": null,
       "_view_module": "@jupyter-widgets/base",
       "_view_module_version": "2.0.0",
       "_view_name": "StyleView",
       "background": null,
       "description_width": "",
       "font_size": null,
       "text_color": null
      }
     },
     "9f0859df7c5d4508a1ee596c51ff920a": {
      "model_module": "@jupyter-widgets/base",
      "model_module_version": "2.0.0",
      "model_name": "LayoutModel",
      "state": {
       "_model_module": "@jupyter-widgets/base",
       "_model_module_version": "2.0.0",
       "_model_name": "LayoutModel",
       "_view_count": null,
       "_view_module": "@jupyter-widgets/base",
       "_view_module_version": "2.0.0",
       "_view_name": "LayoutView",
       "align_content": null,
       "align_items": null,
       "align_self": null,
       "border_bottom": null,
       "border_left": null,
       "border_right": null,
       "border_top": null,
       "bottom": null,
       "display": null,
       "flex": null,
       "flex_flow": null,
       "grid_area": null,
       "grid_auto_columns": null,
       "grid_auto_flow": null,
       "grid_auto_rows": null,
       "grid_column": null,
       "grid_gap": null,
       "grid_row": null,
       "grid_template_areas": null,
       "grid_template_columns": null,
       "grid_template_rows": null,
       "height": null,
       "justify_content": null,
       "justify_items": null,
       "left": null,
       "margin": null,
       "max_height": null,
       "max_width": null,
       "min_height": null,
       "min_width": null,
       "object_fit": null,
       "object_position": null,
       "order": null,
       "overflow": null,
       "padding": null,
       "right": null,
       "top": null,
       "visibility": null,
       "width": null
      }
     },
     "a1a20c08bd234a9fa269fd0c3fd14f7e": {
      "model_module": "@jupyter-widgets/controls",
      "model_module_version": "2.0.0",
      "model_name": "ProgressStyleModel",
      "state": {
       "_model_module": "@jupyter-widgets/controls",
       "_model_module_version": "2.0.0",
       "_model_name": "ProgressStyleModel",
       "_view_count": null,
       "_view_module": "@jupyter-widgets/base",
       "_view_module_version": "2.0.0",
       "_view_name": "StyleView",
       "bar_color": null,
       "description_width": ""
      }
     },
     "b429e122d56848f7a043ddc42a7b1200": {
      "model_module": "@jupyter-widgets/controls",
      "model_module_version": "2.0.0",
      "model_name": "HTMLStyleModel",
      "state": {
       "_model_module": "@jupyter-widgets/controls",
       "_model_module_version": "2.0.0",
       "_model_name": "HTMLStyleModel",
       "_view_count": null,
       "_view_module": "@jupyter-widgets/base",
       "_view_module_version": "2.0.0",
       "_view_name": "StyleView",
       "background": null,
       "description_width": "",
       "font_size": null,
       "text_color": null
      }
     },
     "ba78fda2ee104fe1bbe632d7f50b577b": {
      "model_module": "@jupyter-widgets/controls",
      "model_module_version": "2.0.0",
      "model_name": "LabelModel",
      "state": {
       "_dom_classes": [],
       "_model_module": "@jupyter-widgets/controls",
       "_model_module_version": "2.0.0",
       "_model_name": "LabelModel",
       "_view_count": null,
       "_view_module": "@jupyter-widgets/controls",
       "_view_module_version": "2.0.0",
       "_view_name": "LabelView",
       "description": "",
       "description_allow_html": false,
       "layout": "IPY_MODEL_cec1e29b366341d582c86a392ede5be2",
       "placeholder": "​",
       "style": "IPY_MODEL_5af60feb43784090ac5d21af04e4257c",
       "tabbable": null,
       "tooltip": null,
       "value": ""
      }
     },
     "bd803a39f9f6434ba6b48e178683de98": {
      "model_module": "@jupyter-widgets/controls",
      "model_module_version": "2.0.0",
      "model_name": "HBoxModel",
      "state": {
       "_dom_classes": [],
       "_model_module": "@jupyter-widgets/controls",
       "_model_module_version": "2.0.0",
       "_model_name": "HBoxModel",
       "_view_count": null,
       "_view_module": "@jupyter-widgets/controls",
       "_view_module_version": "2.0.0",
       "_view_name": "HBoxView",
       "box_style": "",
       "children": [
        "IPY_MODEL_f8c7fb5541b54f75880a4f782a4755c2",
        "IPY_MODEL_8b5422fe752a4acd854256b7c3b2c86a",
        "IPY_MODEL_5c2feb357a374268a9025ab94d7e8b9e"
       ],
       "layout": "IPY_MODEL_8a25148abc9a4777b5a22916c75f3d3b",
       "tabbable": null,
       "tooltip": null
      }
     },
     "c48a2614063b453ba96c4cca6dba2a15": {
      "model_module": "@jupyter-widgets/controls",
      "model_module_version": "2.0.0",
      "model_name": "FloatProgressModel",
      "state": {
       "_dom_classes": [],
       "_model_module": "@jupyter-widgets/controls",
       "_model_module_version": "2.0.0",
       "_model_name": "FloatProgressModel",
       "_view_count": null,
       "_view_module": "@jupyter-widgets/controls",
       "_view_module_version": "2.0.0",
       "_view_name": "ProgressView",
       "bar_style": "success",
       "description": "",
       "description_allow_html": false,
       "layout": "IPY_MODEL_1e56bbfaac1d48b09c9ab0cbcc70a05f",
       "max": 2649.0,
       "min": 0.0,
       "orientation": "horizontal",
       "style": "IPY_MODEL_30c215d3bc8f488ab5b2bb1a414db9da",
       "tabbable": null,
       "tooltip": null,
       "value": 2649.0
      }
     },
     "c4b4a51f2e374f20815fb7ceedd3065b": {
      "model_module": "@jupyter-widgets/base",
      "model_module_version": "2.0.0",
      "model_name": "LayoutModel",
      "state": {
       "_model_module": "@jupyter-widgets/base",
       "_model_module_version": "2.0.0",
       "_model_name": "LayoutModel",
       "_view_count": null,
       "_view_module": "@jupyter-widgets/base",
       "_view_module_version": "2.0.0",
       "_view_name": "LayoutView",
       "align_content": null,
       "align_items": null,
       "align_self": null,
       "border_bottom": null,
       "border_left": null,
       "border_right": null,
       "border_top": null,
       "bottom": null,
       "display": null,
       "flex": null,
       "flex_flow": null,
       "grid_area": null,
       "grid_auto_columns": null,
       "grid_auto_flow": null,
       "grid_auto_rows": null,
       "grid_column": null,
       "grid_gap": null,
       "grid_row": null,
       "grid_template_areas": null,
       "grid_template_columns": null,
       "grid_template_rows": null,
       "height": null,
       "justify_content": null,
       "justify_items": null,
       "left": null,
       "margin": null,
       "max_height": null,
       "max_width": null,
       "min_height": null,
       "min_width": null,
       "object_fit": null,
       "object_position": null,
       "order": null,
       "overflow": null,
       "padding": null,
       "right": null,
       "top": null,
       "visibility": null,
       "width": null
      }
     },
     "cec1e29b366341d582c86a392ede5be2": {
      "model_module": "@jupyter-widgets/base",
      "model_module_version": "2.0.0",
      "model_name": "LayoutModel",
      "state": {
       "_model_module": "@jupyter-widgets/base",
       "_model_module_version": "2.0.0",
       "_model_name": "LayoutModel",
       "_view_count": null,
       "_view_module": "@jupyter-widgets/base",
       "_view_module_version": "2.0.0",
       "_view_name": "LayoutView",
       "align_content": null,
       "align_items": null,
       "align_self": null,
       "border_bottom": null,
       "border_left": null,
       "border_right": null,
       "border_top": null,
       "bottom": null,
       "display": null,
       "flex": null,
       "flex_flow": null,
       "grid_area": null,
       "grid_auto_columns": null,
       "grid_auto_flow": null,
       "grid_auto_rows": null,
       "grid_column": null,
       "grid_gap": null,
       "grid_row": null,
       "grid_template_areas": null,
       "grid_template_columns": null,
       "grid_template_rows": null,
       "height": null,
       "justify_content": null,
       "justify_items": null,
       "left": null,
       "margin": null,
       "max_height": null,
       "max_width": null,
       "min_height": null,
       "min_width": null,
       "object_fit": null,
       "object_position": null,
       "order": null,
       "overflow": null,
       "padding": null,
       "right": null,
       "top": null,
       "visibility": null,
       "width": null
      }
     },
     "d96a788c04044d079cf0c2423e546bd9": {
      "model_module": "@jupyter-widgets/controls",
      "model_module_version": "2.0.0",
      "model_name": "HTMLStyleModel",
      "state": {
       "_model_module": "@jupyter-widgets/controls",
       "_model_module_version": "2.0.0",
       "_model_name": "HTMLStyleModel",
       "_view_count": null,
       "_view_module": "@jupyter-widgets/base",
       "_view_module_version": "2.0.0",
       "_view_name": "StyleView",
       "background": null,
       "description_width": "",
       "font_size": null,
       "text_color": null
      }
     },
     "e6672b1e43cf47cc8622a2bcafb92e10": {
      "model_module": "@jupyter-widgets/base",
      "model_module_version": "2.0.0",
      "model_name": "LayoutModel",
      "state": {
       "_model_module": "@jupyter-widgets/base",
       "_model_module_version": "2.0.0",
       "_model_name": "LayoutModel",
       "_view_count": null,
       "_view_module": "@jupyter-widgets/base",
       "_view_module_version": "2.0.0",
       "_view_name": "LayoutView",
       "align_content": null,
       "align_items": null,
       "align_self": null,
       "border_bottom": null,
       "border_left": null,
       "border_right": null,
       "border_top": null,
       "bottom": null,
       "display": null,
       "flex": null,
       "flex_flow": null,
       "grid_area": null,
       "grid_auto_columns": null,
       "grid_auto_flow": null,
       "grid_auto_rows": null,
       "grid_column": null,
       "grid_gap": null,
       "grid_row": null,
       "grid_template_areas": null,
       "grid_template_columns": null,
       "grid_template_rows": null,
       "height": null,
       "justify_content": null,
       "justify_items": null,
       "left": null,
       "margin": null,
       "max_height": null,
       "max_width": null,
       "min_height": null,
       "min_width": null,
       "object_fit": null,
       "object_position": null,
       "order": null,
       "overflow": null,
       "padding": null,
       "right": null,
       "top": null,
       "visibility": null,
       "width": null
      }
     },
     "f85b5b8d6d584b77904fe1573c47fb3e": {
      "model_module": "@jupyter-widgets/base",
      "model_module_version": "2.0.0",
      "model_name": "LayoutModel",
      "state": {
       "_model_module": "@jupyter-widgets/base",
       "_model_module_version": "2.0.0",
       "_model_name": "LayoutModel",
       "_view_count": null,
       "_view_module": "@jupyter-widgets/base",
       "_view_module_version": "2.0.0",
       "_view_name": "LayoutView",
       "align_content": null,
       "align_items": null,
       "align_self": null,
       "border_bottom": null,
       "border_left": null,
       "border_right": null,
       "border_top": null,
       "bottom": null,
       "display": null,
       "flex": null,
       "flex_flow": null,
       "grid_area": null,
       "grid_auto_columns": null,
       "grid_auto_flow": null,
       "grid_auto_rows": null,
       "grid_column": null,
       "grid_gap": null,
       "grid_row": null,
       "grid_template_areas": null,
       "grid_template_columns": null,
       "grid_template_rows": null,
       "height": null,
       "justify_content": null,
       "justify_items": null,
       "left": null,
       "margin": null,
       "max_height": null,
       "max_width": null,
       "min_height": null,
       "min_width": null,
       "object_fit": null,
       "object_position": null,
       "order": null,
       "overflow": null,
       "padding": null,
       "right": null,
       "top": null,
       "visibility": null,
       "width": null
      }
     },
     "f8c7fb5541b54f75880a4f782a4755c2": {
      "model_module": "@jupyter-widgets/controls",
      "model_module_version": "2.0.0",
      "model_name": "HTMLModel",
      "state": {
       "_dom_classes": [],
       "_model_module": "@jupyter-widgets/controls",
       "_model_module_version": "2.0.0",
       "_model_name": "HTMLModel",
       "_view_count": null,
       "_view_module": "@jupyter-widgets/controls",
       "_view_module_version": "2.0.0",
       "_view_name": "HTMLView",
       "description": "",
       "description_allow_html": false,
       "layout": "IPY_MODEL_e6672b1e43cf47cc8622a2bcafb92e10",
       "placeholder": "​",
       "style": "IPY_MODEL_b429e122d56848f7a043ddc42a7b1200",
       "tabbable": null,
       "tooltip": null,
       "value": "Filter (num_proc=3): 100%"
      }
     },
     "fc533489c04d45fc8d7a7241ae8f61c6": {
      "model_module": "@jupyter-widgets/controls",
      "model_module_version": "2.0.0",
      "model_name": "FloatProgressModel",
      "state": {
       "_dom_classes": [],
       "_model_module": "@jupyter-widgets/controls",
       "_model_module_version": "2.0.0",
       "_model_name": "FloatProgressModel",
       "_view_count": null,
       "_view_module": "@jupyter-widgets/controls",
       "_view_module_version": "2.0.0",
       "_view_name": "ProgressView",
       "bar_style": "",
       "description": "",
       "description_allow_html": false,
       "layout": "IPY_MODEL_0bb44eb643dd45f2bc29de368efc7a81",
       "max": 1.0,
       "min": 0.0,
       "orientation": "horizontal",
       "style": "IPY_MODEL_47836402e4db448a823135459bfaefb3",
       "tabbable": null,
       "tooltip": null,
       "value": 0.0
      }
     },
     "fe1e6c427c604e9eb9dff7245309532b": {
      "model_module": "@jupyter-widgets/controls",
      "model_module_version": "2.0.0",
      "model_name": "VBoxModel",
      "state": {
       "_dom_classes": [],
       "_model_module": "@jupyter-widgets/controls",
       "_model_module_version": "2.0.0",
       "_model_name": "VBoxModel",
       "_view_count": null,
       "_view_module": "@jupyter-widgets/controls",
       "_view_module_version": "2.0.0",
       "_view_name": "VBoxView",
       "box_style": "",
       "children": [
        "IPY_MODEL_61fcb00194be42418268cd210dfb05f7",
        "IPY_MODEL_74b63a1aa7094b72801b1d09bdc9ff73"
       ],
       "layout": "IPY_MODEL_c4b4a51f2e374f20815fb7ceedd3065b",
       "tabbable": null,
       "tooltip": null
      }
     }
    },
    "version_major": 2,
    "version_minor": 0
   }
  }
 },
 "nbformat": 4,
 "nbformat_minor": 4
}
