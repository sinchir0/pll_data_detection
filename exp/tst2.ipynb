{
 "cells": [
  {
   "cell_type": "code",
   "execution_count": 1,
   "id": "70de60d7-67c1-4d9c-ac86-8263ebd4bff1",
   "metadata": {
    "autoscroll": "auto",
    "collapsed": false,
    "execution": {
     "iopub.execute_input": "2024-02-27T23:46:42.009586Z",
     "iopub.status.busy": "2024-02-27T23:46:42.009355Z",
     "iopub.status.idle": "2024-02-27T23:46:52.027278Z",
     "shell.execute_reply": "2024-02-27T23:46:52.026761Z"
    }
   },
   "outputs": [
    {
     "name": "stdout",
     "output_type": "stream",
     "text": [
      "処理を開始\n"
     ]
    },
    {
     "name": "stdout",
     "output_type": "stream",
     "text": [
      "10秒経過しました。\n",
      "処理を開始\n",
      "10秒経過しました。\n"
     ]
    }
   ],
   "source": [
    "import time\n",
    "\n",
    "print(\"処理を開始\")\n",
    "time.sleep(10)\n",
    "print(\"10秒経過しました。\")"
   ]
  },
  {
   "cell_type": "code",
   "execution_count": null,
   "id": "84151205-aa49-4035-adaa-400a0bab2cfc",
   "metadata": {},
   "outputs": [],
   "source": []
  }
 ],
 "metadata": {
  "kernelspec": {
   "display_name": "Python 3 (ipykernel)",
   "language": "python",
   "name": "python3"
  },
  "language_info": {
   "codemirror_mode": {
    "name": "ipython",
    "version": 3
   },
   "file_extension": ".py",
   "mimetype": "text/x-python",
   "name": "python",
   "nbconvert_exporter": "python",
   "pygments_lexer": "ipython3",
   "version": "3.9.16"
  }
 },
 "nbformat": 4,
 "nbformat_minor": 5
}
