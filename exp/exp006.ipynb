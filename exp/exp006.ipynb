{
 "cells": [
  {
   "cell_type": "markdown",
   "metadata": {},
   "source": [
    "# 目的\n",
    "- 学習データの追加1"
   ]
  },
  {
   "cell_type": "code",
   "execution_count": 1,
   "metadata": {
    "execution": {
     "iopub.execute_input": "2024-02-25T10:32:15.268934Z",
     "iopub.status.busy": "2024-02-25T10:32:15.268428Z",
     "iopub.status.idle": "2024-02-25T10:32:15.275855Z",
     "shell.execute_reply": "2024-02-25T10:32:15.275282Z"
    },
    "tags": []
   },
   "outputs": [],
   "source": [
    "EXP_NAME = \"e06-add-training-data\"\n",
    "MODEL_NAME = \"microsoft/deberta-v3-base\"\n",
    "DATA_PATH = \"pll_data_detection/data\" # vscode\n",
    "# DATA_PATH = \"../../pll_data_detection/data\" # jupyterlab\n",
    "DATASET_NAME = f\"{EXP_NAME}-{MODEL_NAME}\"\n",
    "LOG_PATH = f\"pll_data_detection/log/{EXP_NAME}\"\n",
    "MODEL_OUTPUT_PATH = f\"pll_data_detection/trained_models/{EXP_NAME}\"\n",
    "DEBUG = False\n",
    "UPLOAD_DATA = True\n",
    "TRAINING_MAX_LENGTH = 1024  # NOTE: ほとんどOなのに、後半のtokenに正解があると、truncationで落ちてしまって勿体無い"
   ]
  },
  {
   "cell_type": "markdown",
   "metadata": {},
   "source": [
    "# Install"
   ]
  },
  {
   "cell_type": "code",
   "execution_count": 2,
   "metadata": {
    "execution": {
     "iopub.execute_input": "2024-02-25T10:32:15.278012Z",
     "iopub.status.busy": "2024-02-25T10:32:15.277830Z",
     "iopub.status.idle": "2024-02-25T10:32:39.248829Z",
     "shell.execute_reply": "2024-02-25T10:32:39.247972Z"
    },
    "tags": []
   },
   "outputs": [],
   "source": [
    "%pip install polars\n",
    "%pip install transformers==4.37.2\n",
    "%pip install datasets==2.16.1\n",
    "%pip install evaluate==0.4.1\n",
    "%pip install seqeval==1.2.2\n",
    "%pip install accelerate\n",
    "%pip install python-dotenv\n",
    "%pip install kaggle\n",
    "%pip iinstall wandb==0.16.3\n",
    "\n",
    "# formatter\n",
    "%pip install black isort"
   ]
  },
  {
   "cell_type": "markdown",
   "metadata": {},
   "source": [
    "# Import"
   ]
  },
  {
   "cell_type": "code",
   "execution_count": 3,
   "metadata": {
    "execution": {
     "iopub.execute_input": "2024-02-25T10:32:39.252336Z",
     "iopub.status.busy": "2024-02-25T10:32:39.251826Z",
     "iopub.status.idle": "2024-02-25T10:32:43.157048Z",
     "shell.execute_reply": "2024-02-25T10:32:43.156387Z"
    },
    "tags": []
   },
   "outputs": [],
   "source": [
    "import os\n",
    "\n",
    "import ast\n",
    "import evaluate\n",
    "import numpy as np\n",
    "import polars as pl\n",
    "import torch\n",
    "import wandb\n",
    "from datasets import DatasetDict, load_dataset, concatenate_datasets, Value\n",
    "from seqeval.metrics import accuracy_score, f1_score, precision_score, recall_score\n",
    "from tqdm.auto import tqdm\n",
    "from transformers import (\n",
    "    AutoModelForTokenClassification,\n",
    "    AutoTokenizer,\n",
    "    DataCollatorForTokenClassification,\n",
    "    TokenClassificationPipeline,\n",
    "    Trainer,\n",
    "    TrainingArguments,\n",
    ")\n",
    "\n",
    "os.environ[\"TOKENIZERS_PARALLELISM\"] = \"false\""
   ]
  },
  {
   "cell_type": "code",
   "execution_count": 4,
   "metadata": {
    "execution": {
     "iopub.execute_input": "2024-02-25T10:32:43.159918Z",
     "iopub.status.busy": "2024-02-25T10:32:43.159704Z",
     "iopub.status.idle": "2024-02-25T10:32:43.163550Z",
     "shell.execute_reply": "2024-02-25T10:32:43.163074Z"
    },
    "tags": []
   },
   "outputs": [],
   "source": [
    "import transformers\n",
    "\n",
    "assert transformers.__version__ == \"4.37.2\""
   ]
  },
  {
   "cell_type": "code",
   "execution_count": 5,
   "metadata": {
    "execution": {
     "iopub.execute_input": "2024-02-25T10:32:43.165809Z",
     "iopub.status.busy": "2024-02-25T10:32:43.165620Z",
     "iopub.status.idle": "2024-02-25T10:32:43.169112Z",
     "shell.execute_reply": "2024-02-25T10:32:43.168633Z"
    },
    "tags": []
   },
   "outputs": [],
   "source": [
    "import datasets\n",
    "\n",
    "assert datasets.__version__ == \"2.16.1\""
   ]
  },
  {
   "cell_type": "code",
   "execution_count": 6,
   "metadata": {
    "execution": {
     "iopub.execute_input": "2024-02-25T10:32:43.171307Z",
     "iopub.status.busy": "2024-02-25T10:32:43.171126Z",
     "iopub.status.idle": "2024-02-25T10:32:43.174452Z",
     "shell.execute_reply": "2024-02-25T10:32:43.173988Z"
    },
    "tags": []
   },
   "outputs": [],
   "source": [
    "import evaluate\n",
    "\n",
    "assert evaluate.__version__ == \"0.4.1\""
   ]
  },
  {
   "cell_type": "markdown",
   "metadata": {},
   "source": [
    "# Wandb"
   ]
  },
  {
   "cell_type": "code",
   "execution_count": 7,
   "metadata": {
    "autoscroll": "auto",
    "collapsed": false,
    "execution": {
     "iopub.execute_input": "2024-02-25T10:32:43.176872Z",
     "iopub.status.busy": "2024-02-25T10:32:43.176336Z",
     "iopub.status.idle": "2024-02-25T10:33:57.512912Z",
     "shell.execute_reply": "2024-02-25T10:33:57.512448Z"
    },
    "jupyter": {
     "outputs_hidden": false
    },
    "tags": []
   },
   "outputs": [
    {
     "data": {
      "application/vnd.jupyter.widget-view+json": {
       "model_id": "2d59cd727cb84e1c805146799004f36b",
       "version_major": 2,
       "version_minor": 0
      },
      "text/plain": [
       "VBox(children=(Label(value='Waiting for wandb.init()...\\r'), FloatProgress(value=0.016669426439329983, max=1.0…"
      ]
     },
     "metadata": {},
     "output_type": "display_data"
    },
    {
     "data": {
      "text/html": [
       "Tracking run with wandb version 0.13.4"
      ],
      "text/plain": [
       "<IPython.core.display.HTML object>"
      ]
     },
     "metadata": {},
     "output_type": "display_data"
    },
    {
     "data": {
      "text/html": [
       "Run data is saved locally in <code>/notebooks/wandb/run-20240225_103257-20xg2nev</code>"
      ],
      "text/plain": [
       "<IPython.core.display.HTML object>"
      ]
     },
     "metadata": {},
     "output_type": "display_data"
    },
    {
     "data": {
      "text/html": [
       "Syncing run <strong><a href=\"https://wandb.ai/sinchir0/pll/runs/20xg2nev\" target=\"_blank\">e06-add-training-data</a></strong> to <a href=\"https://wandb.ai/sinchir0/pll\" target=\"_blank\">Weights & Biases</a> (<a href=\"https://wandb.me/run\" target=\"_blank\">docs</a>)<br/>"
      ],
      "text/plain": [
       "<IPython.core.display.HTML object>"
      ]
     },
     "metadata": {},
     "output_type": "display_data"
    },
    {
     "data": {
      "text/plain": [
       "'wandb'"
      ]
     },
     "execution_count": 7,
     "metadata": {},
     "output_type": "execute_result"
    }
   ],
   "source": [
    "from dotenv import load_dotenv\n",
    "\n",
    "if not DEBUG:\n",
    "    load_dotenv(f\"{DATA_PATH}/.env\")\n",
    "    wandb.login(key=os.environ[\"WANDB_API_KEY\"])\n",
    "    wandb.init(project=\"pll\", name=EXP_NAME)\n",
    "    REPORT_TO = \"wandb\"\n",
    "else:\n",
    "    REPORT_TO = \"none\"\n",
    "\n",
    "REPORT_TO"
   ]
  },
  {
   "cell_type": "markdown",
   "metadata": {},
   "source": [
    "# Check Environment"
   ]
  },
  {
   "cell_type": "code",
   "execution_count": 8,
   "metadata": {
    "autoscroll": "auto",
    "collapsed": false,
    "execution": {
     "iopub.execute_input": "2024-02-25T10:33:57.515766Z",
     "iopub.status.busy": "2024-02-25T10:33:57.515090Z",
     "iopub.status.idle": "2024-02-25T10:33:57.965184Z",
     "shell.execute_reply": "2024-02-25T10:33:57.964643Z"
    },
    "jupyter": {
     "outputs_hidden": false
    },
    "tags": []
   },
   "outputs": [],
   "source": [
    "!python --version"
   ]
  },
  {
   "cell_type": "code",
   "execution_count": 9,
   "metadata": {
    "autoscroll": "auto",
    "collapsed": false,
    "execution": {
     "iopub.execute_input": "2024-02-25T10:33:57.968411Z",
     "iopub.status.busy": "2024-02-25T10:33:57.967765Z",
     "iopub.status.idle": "2024-02-25T10:33:58.568014Z",
     "shell.execute_reply": "2024-02-25T10:33:58.567463Z"
    },
    "jupyter": {
     "outputs_hidden": false
    },
    "tags": []
   },
   "outputs": [],
   "source": [
    "!nvidia-smi"
   ]
  },
  {
   "cell_type": "markdown",
   "metadata": {},
   "source": [
    "# Data Load"
   ]
  },
  {
   "cell_type": "code",
   "execution_count": 10,
   "metadata": {
    "autoscroll": "auto",
    "collapsed": false,
    "execution": {
     "iopub.execute_input": "2024-02-25T10:33:58.571178Z",
     "iopub.status.busy": "2024-02-25T10:33:58.570774Z",
     "iopub.status.idle": "2024-02-25T10:34:00.062040Z",
     "shell.execute_reply": "2024-02-25T10:34:00.061529Z"
    },
    "jupyter": {
     "outputs_hidden": false
    },
    "tags": []
   },
   "outputs": [
    {
     "data": {
      "text/html": [
       "<div><style>\n",
       ".dataframe > thead > tr,\n",
       ".dataframe > tbody > tr {\n",
       "  text-align: right;\n",
       "  white-space: pre-wrap;\n",
       "}\n",
       "</style>\n",
       "<small>shape: (5, 5)</small><table border=\"1\" class=\"dataframe\"><thead><tr><th>document</th><th>full_text</th><th>tokens</th><th>trailing_whitespace</th><th>labels</th></tr><tr><td>i64</td><td>str</td><td>list[str]</td><td>list[bool]</td><td>list[str]</td></tr></thead><tbody><tr><td>7</td><td>&quot;Design Thinkin…</td><td>[&quot;Design&quot;, &quot;Thinking&quot;, … &quot;\n",
       "\n",
       "&quot;]</td><td>[true, true, … false]</td><td>[&quot;O&quot;, &quot;O&quot;, … &quot;O&quot;]</td></tr><tr><td>10</td><td>&quot;Diego Estrada\n",
       "…</td><td>[&quot;Diego&quot;, &quot;Estrada&quot;, … &quot;\n",
       "\n",
       "&quot;]</td><td>[true, false, … false]</td><td>[&quot;B-NAME_STUDENT&quot;, &quot;I-NAME_STUDENT&quot;, … &quot;O&quot;]</td></tr><tr><td>16</td><td>&quot;Reporting proc…</td><td>[&quot;Reporting&quot;, &quot;process&quot;, … &quot;\n",
       "\n",
       "&quot;]</td><td>[true, false, … false]</td><td>[&quot;O&quot;, &quot;O&quot;, … &quot;O&quot;]</td></tr><tr><td>20</td><td>&quot;Design Thinkin…</td><td>[&quot;Design&quot;, &quot;Thinking&quot;, … &quot;\n",
       "\n",
       "&quot;]</td><td>[true, true, … false]</td><td>[&quot;O&quot;, &quot;O&quot;, … &quot;O&quot;]</td></tr><tr><td>56</td><td>&quot;Assignment:  V…</td><td>[&quot;Assignment&quot;, &quot;:&quot;, … &quot;\n",
       "\n",
       "&quot;]</td><td>[false, false, … false]</td><td>[&quot;O&quot;, &quot;O&quot;, … &quot;O&quot;]</td></tr></tbody></table></div>"
      ],
      "text/plain": [
       "shape: (5, 5)\n",
       "┌──────────┬─────────────────────┬─────────────────────┬─────────────────────┬─────────────────────┐\n",
       "│ document ┆ full_text           ┆ tokens              ┆ trailing_whitespace ┆ labels              │\n",
       "│ ---      ┆ ---                 ┆ ---                 ┆ ---                 ┆ ---                 │\n",
       "│ i64      ┆ str                 ┆ list[str]           ┆ list[bool]          ┆ list[str]           │\n",
       "╞══════════╪═════════════════════╪═════════════════════╪═════════════════════╪═════════════════════╡\n",
       "│ 7        ┆ Design Thinking for ┆ [\"Design\",          ┆ [true, true, …      ┆ [\"O\", \"O\", … \"O\"]   │\n",
       "│          ┆ innovation r…       ┆ \"Thinking\", … \"     ┆ false]              ┆                     │\n",
       "│          ┆                     ┆                     ┆                     ┆                     │\n",
       "│          ┆                     ┆ \"]                  ┆                     ┆                     │\n",
       "│ 10       ┆ Diego Estrada       ┆ [\"Diego\",           ┆ [true, false, …     ┆ [\"B-NAME_STUDENT\",  │\n",
       "│          ┆                     ┆ \"Estrada\", … \"      ┆ false]              ┆ \"I-NAME_STUDE…      │\n",
       "│          ┆ Design Thinking A…  ┆                     ┆                     ┆                     │\n",
       "│          ┆                     ┆ \"]                  ┆                     ┆                     │\n",
       "│ 16       ┆ Reporting process   ┆ [\"Reporting\",       ┆ [true, false, …     ┆ [\"O\", \"O\", … \"O\"]   │\n",
       "│          ┆                     ┆ \"process\", … \"      ┆ false]              ┆                     │\n",
       "│          ┆ by Gilberto G…      ┆                     ┆                     ┆                     │\n",
       "│          ┆                     ┆ \"]                  ┆                     ┆                     │\n",
       "│ 20       ┆ Design Thinking for ┆ [\"Design\",          ┆ [true, true, …      ┆ [\"O\", \"O\", … \"O\"]   │\n",
       "│          ┆ Innovation          ┆ \"Thinking\", … \"     ┆ false]              ┆                     │\n",
       "│          ┆                     ┆                     ┆                     ┆                     │\n",
       "│          ┆ …                   ┆ \"]                  ┆                     ┆                     │\n",
       "│ 56       ┆ Assignment:  Visual ┆ [\"Assignment\", \":\", ┆ [false, false, …    ┆ [\"O\", \"O\", … \"O\"]   │\n",
       "│          ┆ ization Refle…      ┆ … \"                 ┆ false]              ┆                     │\n",
       "│          ┆                     ┆                     ┆                     ┆                     │\n",
       "│          ┆                     ┆ \"]                  ┆                     ┆                     │\n",
       "└──────────┴─────────────────────┴─────────────────────┴─────────────────────┴─────────────────────┘"
      ]
     },
     "execution_count": 10,
     "metadata": {},
     "output_type": "execute_result"
    }
   ],
   "source": [
    "# データ確認用\n",
    "train = pl.read_json(f\"{DATA_PATH}/train.json\")\n",
    "train.head()"
   ]
  },
  {
   "cell_type": "code",
   "execution_count": 11,
   "metadata": {
    "autoscroll": "auto",
    "collapsed": false,
    "execution": {
     "iopub.execute_input": "2024-02-25T10:34:00.064438Z",
     "iopub.status.busy": "2024-02-25T10:34:00.064260Z",
     "iopub.status.idle": "2024-02-25T10:34:00.069085Z",
     "shell.execute_reply": "2024-02-25T10:34:00.068603Z"
    },
    "jupyter": {
     "outputs_hidden": false
    },
    "tags": []
   },
   "outputs": [],
   "source": [
    "# データ確認用\n",
    "test = pl.read_json(f\"{DATA_PATH}/test.json\")"
   ]
  },
  {
   "cell_type": "code",
   "execution_count": 12,
   "metadata": {
    "execution": {
     "iopub.execute_input": "2024-02-25T10:34:00.071179Z",
     "iopub.status.busy": "2024-02-25T10:34:00.071021Z",
     "iopub.status.idle": "2024-02-25T10:34:05.333022Z",
     "shell.execute_reply": "2024-02-25T10:34:05.332358Z"
    }
   },
   "outputs": [],
   "source": [
    "def convert_string_to_list(example, col):\n",
    "    # 'your_column_name'は変換したい列の名前に置き換えてください\n",
    "    example[col] = eval(example[col])\n",
    "    return example\n",
    "\n",
    "\n",
    "external_pii_dataset = (\n",
    "    load_dataset(\n",
    "        \"csv\",\n",
    "        data_files={\"train\": f\"{DATA_PATH}/external_pii_dataset.csv\"},\n",
    "        split=\"train\",\n",
    "    )\n",
    "    .select_columns([\"document\", \"labels\", \"text\", \"trailing_whitespace\", \"tokens\"])\n",
    "    .rename_columns({\"labels\": \"provided_labels\", \"text\": \"full_text\"})\n",
    "    .map(convert_string_to_list, fn_kwargs={\"col\": \"provided_labels\"}, num_proc=3)\n",
    "    .map(convert_string_to_list, fn_kwargs={\"col\": \"trailing_whitespace\"}, num_proc=3)\n",
    "    .map(convert_string_to_list, fn_kwargs={\"col\": \"tokens\"}, num_proc=3)\n",
    "    .map(lambda example: {\"flag\": \"external\"}, num_proc=3)\n",
    ")"
   ]
  },
  {
   "cell_type": "code",
   "execution_count": 13,
   "metadata": {
    "autoscroll": "auto",
    "collapsed": false,
    "execution": {
     "iopub.execute_input": "2024-02-25T10:34:05.335897Z",
     "iopub.status.busy": "2024-02-25T10:34:05.335700Z",
     "iopub.status.idle": "2024-02-25T10:34:05.765929Z",
     "shell.execute_reply": "2024-02-25T10:34:05.765382Z"
    },
    "jupyter": {
     "outputs_hidden": false
    }
   },
   "outputs": [],
   "source": [
    "train_dataset = (\n",
    "    load_dataset(\n",
    "        \"json\", data_files={\"train\": f\"{DATA_PATH}/train.json\"}, split=\"train\"\n",
    "    ).rename_column(\"labels\", \"provided_labels\")\n",
    "    # documentをstringに変換\n",
    "    .cast_column(\"document\", Value(dtype=\"string\", id=None))\n",
    "    # 識別のためのflagを追加\n",
    "    .map(lambda example: {\"flag\": \"original\"})\n",
    ")\n",
    "\n",
    "test_dataset = load_dataset(\n",
    "    \"json\", data_files={\"test\": f\"{DATA_PATH}/test.json\"}, split=\"test\"\n",
    ")"
   ]
  },
  {
   "cell_type": "code",
   "execution_count": 14,
   "metadata": {
    "execution": {
     "iopub.execute_input": "2024-02-25T10:34:05.768558Z",
     "iopub.status.busy": "2024-02-25T10:34:05.768375Z",
     "iopub.status.idle": "2024-02-25T10:34:05.774344Z",
     "shell.execute_reply": "2024-02-25T10:34:05.773818Z"
    }
   },
   "outputs": [],
   "source": [
    "# 仮に、dataset1とdataset2が存在するとします\n",
    "train_dataset = concatenate_datasets([train_dataset, external_pii_dataset])"
   ]
  },
  {
   "cell_type": "code",
   "execution_count": 15,
   "metadata": {
    "execution": {
     "iopub.execute_input": "2024-02-25T10:34:05.776449Z",
     "iopub.status.busy": "2024-02-25T10:34:05.776281Z",
     "iopub.status.idle": "2024-02-25T10:34:05.780829Z",
     "shell.execute_reply": "2024-02-25T10:34:05.780355Z"
    }
   },
   "outputs": [],
   "source": [
    "# shuffle\n",
    "train_dataset = train_dataset.shuffle(seed=42)"
   ]
  },
  {
   "cell_type": "code",
   "execution_count": 16,
   "metadata": {
    "execution": {
     "iopub.execute_input": "2024-02-25T10:34:05.782725Z",
     "iopub.status.busy": "2024-02-25T10:34:05.782561Z",
     "iopub.status.idle": "2024-02-25T10:34:05.785554Z",
     "shell.execute_reply": "2024-02-25T10:34:05.784947Z"
    }
   },
   "outputs": [],
   "source": [
    "# debug\n",
    "if DEBUG:\n",
    "    train_dataset = train_dataset.select(range(100))"
   ]
  },
  {
   "cell_type": "code",
   "execution_count": 17,
   "metadata": {
    "autoscroll": "auto",
    "collapsed": false,
    "execution": {
     "iopub.execute_input": "2024-02-25T10:34:05.787775Z",
     "iopub.status.busy": "2024-02-25T10:34:05.787607Z",
     "iopub.status.idle": "2024-02-25T10:34:05.791481Z",
     "shell.execute_reply": "2024-02-25T10:34:05.790953Z"
    },
    "jupyter": {
     "outputs_hidden": false
    }
   },
   "outputs": [
    {
     "data": {
      "text/plain": [
       "Dataset({\n",
       "    features: ['document', 'provided_labels', 'full_text', 'trailing_whitespace', 'tokens', 'flag'],\n",
       "    num_rows: 11241\n",
       "})"
      ]
     },
     "execution_count": 17,
     "metadata": {},
     "output_type": "execute_result"
    }
   ],
   "source": [
    "train_dataset"
   ]
  },
  {
   "cell_type": "code",
   "execution_count": 18,
   "metadata": {
    "autoscroll": "auto",
    "collapsed": false,
    "execution": {
     "iopub.execute_input": "2024-02-25T10:34:05.793517Z",
     "iopub.status.busy": "2024-02-25T10:34:05.793353Z",
     "iopub.status.idle": "2024-02-25T10:34:05.796894Z",
     "shell.execute_reply": "2024-02-25T10:34:05.796404Z"
    },
    "jupyter": {
     "outputs_hidden": false
    }
   },
   "outputs": [
    {
     "data": {
      "text/plain": [
       "Dataset({\n",
       "    features: ['full_text', 'tokens', 'document', 'trailing_whitespace'],\n",
       "    num_rows: 10\n",
       "})"
      ]
     },
     "execution_count": 18,
     "metadata": {},
     "output_type": "execute_result"
    }
   ],
   "source": [
    "test_dataset"
   ]
  },
  {
   "cell_type": "code",
   "execution_count": 19,
   "metadata": {
    "autoscroll": "auto",
    "collapsed": false,
    "execution": {
     "iopub.execute_input": "2024-02-25T10:34:05.798816Z",
     "iopub.status.busy": "2024-02-25T10:34:05.798650Z",
     "iopub.status.idle": "2024-02-25T10:34:16.719069Z",
     "shell.execute_reply": "2024-02-25T10:34:16.718576Z"
    },
    "jupyter": {
     "outputs_hidden": false
    }
   },
   "outputs": [],
   "source": [
    "tokenizer = AutoTokenizer.from_pretrained(MODEL_NAME)"
   ]
  },
  {
   "cell_type": "code",
   "execution_count": 20,
   "metadata": {
    "autoscroll": "auto",
    "collapsed": false,
    "execution": {
     "iopub.execute_input": "2024-02-25T10:34:16.721987Z",
     "iopub.status.busy": "2024-02-25T10:34:16.721690Z",
     "iopub.status.idle": "2024-02-25T10:34:16.734429Z",
     "shell.execute_reply": "2024-02-25T10:34:16.733961Z"
    },
    "jupyter": {
     "outputs_hidden": false
    }
   },
   "outputs": [
    {
     "data": {
      "text/plain": [
       "['[CLS]',\n",
       " '▁Challenge',\n",
       " '▁The',\n",
       " '▁challenge',\n",
       " '▁that',\n",
       " '▁South',\n",
       " '▁Bay',\n",
       " '▁Christian',\n",
       " '▁School',\n",
       " '▁,',\n",
       " '▁the',\n",
       " '▁organization',\n",
       " '▁I',\n",
       " '▁work',\n",
       " '▁for',\n",
       " '▁,',\n",
       " '▁had',\n",
       " '▁to',\n",
       " '▁face',\n",
       " '▁was',\n",
       " '▁that',\n",
       " '▁of',\n",
       " '▁a',\n",
       " '▁new',\n",
       " '▁strategic',\n",
       " '▁cycle',\n",
       " '▁.',\n",
       " '▁Tata',\n",
       " '▁Group',\n",
       " '▁is',\n",
       " '▁a',\n",
       " '▁public',\n",
       " '▁organization',\n",
       " '▁where',\n",
       " '▁processes',\n",
       " '▁are',\n",
       " '▁very',\n",
       " '▁important',\n",
       " '▁.',\n",
       " '▁We',\n",
       " '▁had',\n",
       " '▁to',\n",
       " '▁challenge',\n",
       " '▁the',\n",
       " '▁organization',\n",
       " '▁to',\n",
       " '▁move',\n",
       " '▁beyond',\n",
       " '▁what',\n",
       " '▁the',\n",
       " '▁procedures',\n",
       " '▁say',\n",
       " '▁.',\n",
       " '▁It',\n",
       " '▁was',\n",
       " '▁necessary',\n",
       " '▁to',\n",
       " '▁work',\n",
       " '▁in',\n",
       " '▁new',\n",
       " '▁formats',\n",
       " '▁,',\n",
       " '▁to',\n",
       " '▁get',\n",
       " '▁out',\n",
       " '▁of',\n",
       " '▁the',\n",
       " '▁way',\n",
       " '▁we',\n",
       " '▁had',\n",
       " '▁been',\n",
       " '▁working',\n",
       " '▁in',\n",
       " '▁order',\n",
       " '▁to',\n",
       " '▁take',\n",
       " '▁on',\n",
       " '▁the',\n",
       " '▁new',\n",
       " '▁challenges',\n",
       " '▁of',\n",
       " '▁the',\n",
       " '▁strategic',\n",
       " '▁period',\n",
       " '▁.',\n",
       " '▁Selection',\n",
       " '▁For',\n",
       " '▁this',\n",
       " '▁we',\n",
       " '▁chose',\n",
       " '▁a',\n",
       " '▁work',\n",
       " '▁methodology',\n",
       " '▁based',\n",
       " '▁on',\n",
       " '▁visualization',\n",
       " '▁techniques',\n",
       " '▁.',\n",
       " '▁The',\n",
       " '▁selection',\n",
       " '▁of',\n",
       " '▁this',\n",
       " '▁tool',\n",
       " '▁was',\n",
       " '▁because',\n",
       " '▁I',\n",
       " '▁had',\n",
       " '▁seen',\n",
       " '▁its',\n",
       " '▁capacity',\n",
       " '▁in',\n",
       " '▁action',\n",
       " '▁.',\n",
       " '▁I',\n",
       " '▁was',\n",
       " '▁struck',\n",
       " '▁by',\n",
       " '▁the',\n",
       " '▁tool',\n",
       " \"▁'\",\n",
       " 's',\n",
       " '▁ability',\n",
       " '▁to',\n",
       " '▁build',\n",
       " '▁a',\n",
       " '▁common',\n",
       " '▁vision',\n",
       " '▁.',\n",
       " '▁And',\n",
       " '▁that',\n",
       " '▁was',\n",
       " '▁the',\n",
       " '▁central',\n",
       " '▁part',\n",
       " '▁of',\n",
       " '▁the',\n",
       " '▁challenge',\n",
       " '▁,',\n",
       " '▁to',\n",
       " '▁be',\n",
       " '▁able',\n",
       " '▁to',\n",
       " '▁share',\n",
       " '▁a',\n",
       " '▁strategy',\n",
       " '▁for',\n",
       " '▁the',\n",
       " '▁following',\n",
       " '▁years',\n",
       " '▁.',\n",
       " '▁A',\n",
       " 'plication',\n",
       " '▁The',\n",
       " '▁first',\n",
       " '▁thing',\n",
       " '▁we',\n",
       " '▁did',\n",
       " '▁was',\n",
       " '▁to',\n",
       " '▁visit',\n",
       " '▁the',\n",
       " '▁mission',\n",
       " '▁of',\n",
       " '▁the',\n",
       " '▁organization',\n",
       " '▁,',\n",
       " '▁the',\n",
       " '▁mission',\n",
       " '▁is',\n",
       " '▁what',\n",
       " '▁we',\n",
       " '▁are',\n",
       " '▁,',\n",
       " '▁what',\n",
       " '▁we',\n",
       " '▁should',\n",
       " '▁always',\n",
       " '▁do',\n",
       " '▁.',\n",
       " '▁Then',\n",
       " '▁we',\n",
       " '▁refined',\n",
       " '▁the',\n",
       " '▁vision',\n",
       " '▁,',\n",
       " '▁the',\n",
       " '▁vision',\n",
       " '▁describes',\n",
       " '▁what',\n",
       " '▁we',\n",
       " '▁want',\n",
       " '▁to',\n",
       " '▁be',\n",
       " '▁,',\n",
       " '▁what',\n",
       " '▁we',\n",
       " '▁would',\n",
       " '▁like',\n",
       " '▁to',\n",
       " '▁change',\n",
       " '▁,',\n",
       " '▁improve',\n",
       " '▁,',\n",
       " '▁strengthen',\n",
       " '▁in',\n",
       " '▁the',\n",
       " '▁following',\n",
       " '▁years',\n",
       " '▁.',\n",
       " '▁And',\n",
       " '▁finally',\n",
       " '▁we',\n",
       " '▁did',\n",
       " '▁a',\n",
       " '▁great',\n",
       " '▁job',\n",
       " '▁in',\n",
       " '▁the',\n",
       " '▁discovery',\n",
       " '▁of',\n",
       " '▁South',\n",
       " '▁Bay',\n",
       " '▁Christian',\n",
       " '▁School',\n",
       " \"▁'\",\n",
       " 's',\n",
       " '▁values',\n",
       " '▁,',\n",
       " '▁values',\n",
       " '▁on',\n",
       " '▁which',\n",
       " '▁to',\n",
       " '▁leverage',\n",
       " '▁our',\n",
       " '▁strategy',\n",
       " '▁,',\n",
       " '▁to',\n",
       " '▁have',\n",
       " '▁clear',\n",
       " '▁what',\n",
       " '▁are',\n",
       " '▁the',\n",
       " '▁capabilities',\n",
       " '▁and',\n",
       " '▁culture',\n",
       " '▁of',\n",
       " '▁our',\n",
       " '▁organization',\n",
       " '▁to',\n",
       " '▁be',\n",
       " '▁able',\n",
       " '▁to',\n",
       " '▁respond',\n",
       " '▁to',\n",
       " '▁the',\n",
       " '▁remains',\n",
       " '▁of',\n",
       " '▁the',\n",
       " '▁new',\n",
       " '▁strategic',\n",
       " '▁plan',\n",
       " '▁.',\n",
       " '▁Insight',\n",
       " '▁&',\n",
       " '▁approach',\n",
       " '▁For',\n",
       " '▁the',\n",
       " '▁definition',\n",
       " '▁of',\n",
       " '▁South',\n",
       " '▁Bay',\n",
       " '▁Christian',\n",
       " '▁School',\n",
       " \"▁'\",\n",
       " 's',\n",
       " '▁values',\n",
       " '▁,',\n",
       " '▁the',\n",
       " '▁participants',\n",
       " '▁chose',\n",
       " '▁South',\n",
       " '▁Bay',\n",
       " '▁Christian',\n",
       " '▁School',\n",
       " \"▁'\",\n",
       " 's',\n",
       " '▁stories',\n",
       " '▁,',\n",
       " '▁telling',\n",
       " '▁them',\n",
       " '▁and',\n",
       " '▁identifying',\n",
       " '▁the',\n",
       " '▁values',\n",
       " '▁that',\n",
       " '▁were',\n",
       " '▁behind',\n",
       " '▁these',\n",
       " '▁experiences',\n",
       " '▁and',\n",
       " '▁stories',\n",
       " '▁of',\n",
       " '▁South',\n",
       " '▁Bay',\n",
       " '▁Christian',\n",
       " '▁School',\n",
       " '▁.',\n",
       " '▁Through',\n",
       " '▁these',\n",
       " '▁stories',\n",
       " '▁,',\n",
       " '▁we',\n",
       " '▁identified',\n",
       " '▁a',\n",
       " '▁series',\n",
       " '▁of',\n",
       " '▁values',\n",
       " '▁that',\n",
       " '▁made',\n",
       " '▁up',\n",
       " '▁the',\n",
       " '▁three',\n",
       " '▁fundamental',\n",
       " '▁polarities',\n",
       " '▁of',\n",
       " '▁an',\n",
       " '▁organization',\n",
       " '▁:',\n",
       " '▁that',\n",
       " '▁which',\n",
       " '▁has',\n",
       " '▁to',\n",
       " '▁do',\n",
       " '▁with',\n",
       " '▁what',\n",
       " '▁is',\n",
       " '▁internal',\n",
       " '▁to',\n",
       " '▁the',\n",
       " '▁entity',\n",
       " '▁,',\n",
       " '▁that',\n",
       " '▁which',\n",
       " '▁is',\n",
       " '▁related',\n",
       " '▁to',\n",
       " '▁its',\n",
       " '▁service',\n",
       " '▁(',\n",
       " '▁in',\n",
       " '▁this',\n",
       " '▁case',\n",
       " '▁the',\n",
       " '▁clients',\n",
       " '▁)',\n",
       " '▁and',\n",
       " '▁that',\n",
       " '▁which',\n",
       " '▁is',\n",
       " '▁related',\n",
       " '▁to',\n",
       " '▁the',\n",
       " '▁environment',\n",
       " '▁,',\n",
       " '▁to',\n",
       " '▁society',\n",
       " '▁.',\n",
       " '▁From',\n",
       " '▁there',\n",
       " '▁,',\n",
       " '▁we',\n",
       " '▁decided',\n",
       " '▁that',\n",
       " '▁South',\n",
       " '▁Bay',\n",
       " '▁Christian',\n",
       " '▁School',\n",
       " '▁is',\n",
       " '▁defined',\n",
       " '▁by',\n",
       " '▁10',\n",
       " '▁fundamental',\n",
       " '▁values',\n",
       " '▁:',\n",
       " '▁\"',\n",
       " '▁Teamwork',\n",
       " '▁\"',\n",
       " '▁,',\n",
       " '▁\"',\n",
       " '▁Sustainability',\n",
       " '▁\"',\n",
       " '▁,',\n",
       " '▁\"',\n",
       " '▁Identity',\n",
       " '▁\"',\n",
       " '▁,',\n",
       " '▁\"',\n",
       " '▁Innovation',\n",
       " '▁\"',\n",
       " '▁,',\n",
       " '▁\"',\n",
       " '▁Trust',\n",
       " '▁and',\n",
       " '▁security',\n",
       " ',',\n",
       " '\"',\n",
       " 'Pro',\n",
       " 'xim',\n",
       " 'ity',\n",
       " '▁and',\n",
       " '▁commitment',\n",
       " '▁to',\n",
       " '▁the',\n",
       " '▁client',\n",
       " '▁\"',\n",
       " '▁,',\n",
       " '▁\"',\n",
       " '▁Providing',\n",
       " '▁the',\n",
       " '▁best',\n",
       " '▁solution',\n",
       " '▁\"',\n",
       " '▁,',\n",
       " '▁\"',\n",
       " '▁Transparency',\n",
       " '▁\"',\n",
       " '▁,',\n",
       " '▁\"',\n",
       " '▁Doing',\n",
       " '▁it',\n",
       " '▁in',\n",
       " '▁collaboration',\n",
       " '▁with',\n",
       " '\"',\n",
       " ',',\n",
       " '\"',\n",
       " 'Gender',\n",
       " '▁equality',\n",
       " '▁\"',\n",
       " '▁Next',\n",
       " '▁time',\n",
       " '▁,',\n",
       " '▁in',\n",
       " '▁addition',\n",
       " '▁to',\n",
       " '▁using',\n",
       " '▁these',\n",
       " '▁tools',\n",
       " '▁again',\n",
       " '▁,',\n",
       " '▁I',\n",
       " '▁would',\n",
       " '▁like',\n",
       " '▁to',\n",
       " '▁have',\n",
       " '▁people',\n",
       " '▁in',\n",
       " '▁our',\n",
       " '▁organization',\n",
       " '▁trained',\n",
       " '▁in',\n",
       " '▁these',\n",
       " '▁techniques',\n",
       " '▁so',\n",
       " '▁that',\n",
       " '▁we',\n",
       " '▁can',\n",
       " '▁use',\n",
       " '▁them',\n",
       " '▁with',\n",
       " '▁our',\n",
       " '▁customers',\n",
       " '▁and',\n",
       " '▁explain',\n",
       " '▁them',\n",
       " '▁to',\n",
       " '▁them',\n",
       " '▁.',\n",
       " '[SEP]']"
      ]
     },
     "execution_count": 20,
     "metadata": {},
     "output_type": "execute_result"
    }
   ],
   "source": [
    "# TODO: 512?が上限であるのに対し、NER対象のテキストが512よりも長い場合が多いため、適したモデルにする\n",
    "# DeBERTaあたりは、512を超えるテキストに対応していたような\n",
    "# example = train_dataset[30]\n",
    "example = train_dataset[0]\n",
    "tokenized_input = tokenizer(example[\"tokens\"], is_split_into_words=True)\n",
    "tokens = tokenizer.convert_ids_to_tokens(tokenized_input[\"input_ids\"])\n",
    "tokens"
   ]
  },
  {
   "cell_type": "code",
   "execution_count": 21,
   "metadata": {
    "autoscroll": "auto",
    "collapsed": false,
    "execution": {
     "iopub.execute_input": "2024-02-25T10:34:16.736742Z",
     "iopub.status.busy": "2024-02-25T10:34:16.736476Z",
     "iopub.status.idle": "2024-02-25T10:34:16.740721Z",
     "shell.execute_reply": "2024-02-25T10:34:16.740361Z"
    }
   },
   "outputs": [
    {
     "data": {
      "text/plain": [
       "['[CLS]',\n",
       " '▁this',\n",
       " '▁is',\n",
       " '▁kin',\n",
       " 'learn',\n",
       " '@',\n",
       " 'gmail',\n",
       " '.',\n",
       " 'com',\n",
       " '.',\n",
       " '[SEP]']"
      ]
     },
     "execution_count": 21,
     "metadata": {},
     "output_type": "execute_result"
    }
   ],
   "source": [
    "text = \"this is kinlearn@gmail.com.\"\n",
    "tokenized_input = tokenizer(text)\n",
    "tokens = tokenizer.convert_ids_to_tokens(tokenized_input[\"input_ids\"])\n",
    "tokens"
   ]
  },
  {
   "cell_type": "code",
   "execution_count": 22,
   "metadata": {
    "autoscroll": "auto",
    "collapsed": false,
    "execution": {
     "iopub.execute_input": "2024-02-25T10:34:16.742792Z",
     "iopub.status.busy": "2024-02-25T10:34:16.742527Z",
     "iopub.status.idle": "2024-02-25T10:34:16.746150Z",
     "shell.execute_reply": "2024-02-25T10:34:16.745796Z"
    },
    "jupyter": {
     "outputs_hidden": false
    }
   },
   "outputs": [],
   "source": [
    "# labelを変換する\n",
    "id2label = {\n",
    "    0: \"O\",\n",
    "    1: \"B-NAME_STUDENT\",\n",
    "    2: \"I-NAME_STUDENT\",\n",
    "    3: \"B-EMAIL\",\n",
    "    4: \"I-EMAIL\",\n",
    "    5: \"B-USERNAME\",\n",
    "    6: \"I-USERNAME\",\n",
    "    7: \"B-ID_NUM\",\n",
    "    8: \"I-ID_NUM\",\n",
    "    9: \"B-PHONE_NUM\",\n",
    "    10: \"I-PHONE_NUM\",\n",
    "    11: \"B-URL_PERSONAL\",\n",
    "    12: \"I-URL_PERSONAL\",\n",
    "    13: \"B-STREET_ADDRESS\",\n",
    "    14: \"I-STREET_ADDRESS\",\n",
    "}\n",
    "\n",
    "label2id = {v: k for k, v in id2label.items()}\n",
    "\n",
    "\n",
    "# def label2id_func(example):\n",
    "#     example[\"labels\"] = [label2id[tag] for tag in example[\"labels\"]]\n",
    "#     return example\n",
    "\n",
    "\n",
    "# labele2id_train_dataset = train_dataset.map(label2id_func)"
   ]
  },
  {
   "cell_type": "code",
   "execution_count": 23,
   "metadata": {
    "autoscroll": "auto",
    "collapsed": false,
    "execution": {
     "iopub.execute_input": "2024-02-25T10:34:16.748179Z",
     "iopub.status.busy": "2024-02-25T10:34:16.747914Z",
     "iopub.status.idle": "2024-02-25T10:34:16.774528Z",
     "shell.execute_reply": "2024-02-25T10:34:16.774090Z"
    },
    "jupyter": {
     "outputs_hidden": false
    }
   },
   "outputs": [],
   "source": [
    "def tokenize(example, tokenizer, label2id, max_length):\n",
    "    \"\"\"\n",
    "    与えられたtokenとlabelから、\n",
    "    今回のtokenizerで区切った場合のtokenとlabelを作成する。\n",
    "    \"\"\"\n",
    "    # rebuild text from tokens\n",
    "    text = []\n",
    "    labels = []\n",
    "\n",
    "    for t, l, ws in zip(\n",
    "        example[\"tokens\"], example[\"provided_labels\"], example[\"trailing_whitespace\"]\n",
    "    ):\n",
    "        text.append(t)\n",
    "        # 文字数分だけ、該当のラベルを追加する\n",
    "        labels.extend([l] * len(t))\n",
    "\n",
    "        if ws:\n",
    "            text.append(\" \")\n",
    "            labels.append(\"O\")\n",
    "        # text -> ['Design', ' ']\n",
    "        # labels -> ['O', 'O', 'O', 'O', 'O', 'O', 'O'] (6文字分 + 空白1文字分)\n",
    "\n",
    "    # actual tokenization\n",
    "    tokenized = tokenizer(\n",
    "        \"\".join(text),\n",
    "        return_offsets_mapping=True,\n",
    "        max_length=max_length,\n",
    "        truncation=True,\n",
    "    )\n",
    "\n",
    "    labels = np.array(labels)\n",
    "\n",
    "    text = \"\".join(text)\n",
    "    token_labels = []\n",
    "\n",
    "    for start_idx, end_idx in tokenized.offset_mapping:\n",
    "        # offset_mappingの各エントリは、トークンが元のテキストのどの範囲（開始位置と終了位置）にマッピングされるかを示す\n",
    "        # タプルまたはリストで構成されます。\n",
    "\n",
    "        # CLS tokenの対応\n",
    "        # CLSやSEPには必ず(start_idx, end_idx) = (0, 0)が割り当てられる\n",
    "        if start_idx == 0 and end_idx == 0:\n",
    "            token_labels.append(label2id[\"O\"])\n",
    "            continue\n",
    "\n",
    "        # 空白が存在する時は、offset_mappingのstart_idxを+1する\n",
    "        # DeBERTaV2Tokenizerは、空白を文字の先頭に▁としてくっつけるため。\n",
    "        # NOTE: もし空白を▁として文字の先頭にくっつけるないtokenizerの場合は、不要\n",
    "        if text[start_idx].isspace():\n",
    "            start_idx += 1\n",
    "\n",
    "        token_labels.append(label2id[labels[start_idx]])\n",
    "\n",
    "    # Q: token_labelsは何の長さ？\n",
    "    # A: 今回のtokenizerで区切った時の、tokenに該当するlabel\n",
    "    # 例:\n",
    "    # 与えられたtoken example[\"tokens\"][:10]\n",
    "    # -> ['Design', 'Thinking', 'for', 'innovation', 'reflexion', '-', 'Avril', '2021', '-', 'Nathalie']\n",
    "    # 今回のtokenizerで区切ったtoken　tokenizer.convert_ids_to_tokens(tokenized.input_ids[:10])\n",
    "    # -> ['[CLS]', '▁Design', '▁Thinking', '▁for', '▁innovation', '▁reflex', 'ion', '-', 'Av', 'ril']\n",
    "    # 文字数が違う！！！\n",
    "    # 最初に与えられたtokenとそのlabelだと、今回のtokenizerで区切った場合のラベルが分からない。\n",
    "    # 今回のtokenizerで区切った場合のtokenとラベルを作成した。\n",
    "\n",
    "    length = len(tokenized.input_ids)\n",
    "\n",
    "    return {**tokenized, \"labels\": token_labels, \"length\": length}\n",
    "\n",
    "\n",
    "train_dataset = train_dataset.map(\n",
    "    tokenize,\n",
    "    fn_kwargs={\n",
    "        \"tokenizer\": tokenizer,\n",
    "        \"label2id\": label2id,\n",
    "        \"max_length\": TRAINING_MAX_LENGTH,\n",
    "    },\n",
    "    num_proc=3,\n",
    ")"
   ]
  },
  {
   "cell_type": "code",
   "execution_count": 24,
   "metadata": {
    "execution": {
     "iopub.execute_input": "2024-02-25T10:34:16.778836Z",
     "iopub.status.busy": "2024-02-25T10:34:16.778474Z",
     "iopub.status.idle": "2024-02-25T10:34:16.787736Z",
     "shell.execute_reply": "2024-02-25T10:34:16.787313Z"
    }
   },
   "outputs": [],
   "source": [
    "x = train_dataset[2]\n",
    "\n",
    "for t, l in zip(x[\"tokens\"], x[\"provided_labels\"]):\n",
    "    if l != \"O\":\n",
    "        print((t, l))\n",
    "\n",
    "print(\"*\" * 100)\n",
    "\n",
    "for t, l in zip(tokenizer.convert_ids_to_tokens(x[\"input_ids\"]), x[\"labels\"]):\n",
    "    if id2label[l] != \"O\":\n",
    "        print((t, id2label[l]))"
   ]
  },
  {
   "cell_type": "code",
   "execution_count": 25,
   "metadata": {
    "autoscroll": "auto",
    "collapsed": false,
    "execution": {
     "iopub.execute_input": "2024-02-25T10:34:16.790547Z",
     "iopub.status.busy": "2024-02-25T10:34:16.790279Z",
     "iopub.status.idle": "2024-02-25T10:34:16.793964Z",
     "shell.execute_reply": "2024-02-25T10:34:16.793573Z"
    },
    "jupyter": {
     "outputs_hidden": false
    }
   },
   "outputs": [
    {
     "data": {
      "text/plain": [
       "['O',\n",
       " 'B-NAME_STUDENT',\n",
       " 'I-NAME_STUDENT',\n",
       " 'B-EMAIL',\n",
       " 'I-EMAIL',\n",
       " 'B-USERNAME',\n",
       " 'I-USERNAME',\n",
       " 'B-ID_NUM',\n",
       " 'I-ID_NUM',\n",
       " 'B-PHONE_NUM',\n",
       " 'I-PHONE_NUM',\n",
       " 'B-URL_PERSONAL',\n",
       " 'I-URL_PERSONAL',\n",
       " 'B-STREET_ADDRESS',\n",
       " 'I-STREET_ADDRESS']"
      ]
     },
     "execution_count": 25,
     "metadata": {},
     "output_type": "execute_result"
    }
   ],
   "source": [
    "label_list = list(label2id.keys())\n",
    "label_list"
   ]
  },
  {
   "cell_type": "code",
   "execution_count": 26,
   "metadata": {
    "autoscroll": "auto",
    "collapsed": false,
    "execution": {
     "iopub.execute_input": "2024-02-25T10:34:16.796057Z",
     "iopub.status.busy": "2024-02-25T10:34:16.795792Z",
     "iopub.status.idle": "2024-02-25T10:34:16.799268Z",
     "shell.execute_reply": "2024-02-25T10:34:16.798879Z"
    },
    "jupyter": {
     "outputs_hidden": false
    }
   },
   "outputs": [
    {
     "data": {
      "text/plain": [
       "15"
      ]
     },
     "execution_count": 26,
     "metadata": {},
     "output_type": "execute_result"
    }
   ],
   "source": [
    "len(label_list)"
   ]
  },
  {
   "cell_type": "code",
   "execution_count": 27,
   "metadata": {
    "execution": {
     "iopub.execute_input": "2024-02-25T10:34:16.801391Z",
     "iopub.status.busy": "2024-02-25T10:34:16.801125Z",
     "iopub.status.idle": "2024-02-25T10:34:16.803906Z",
     "shell.execute_reply": "2024-02-25T10:34:16.803514Z"
    }
   },
   "outputs": [],
   "source": [
    "# pad_to_multiple_of\n",
    "# paddingの際に、指定した数の倍数になるように、各サンプルの長さを揃える\n",
    "# ハードウェアの要件に合致することで、計算効率が良くなる可能性がある\n",
    "data_collator = DataCollatorForTokenClassification(\n",
    "    tokenizer=tokenizer, pad_to_multiple_of=16\n",
    ")"
   ]
  },
  {
   "cell_type": "code",
   "execution_count": 28,
   "metadata": {
    "autoscroll": "auto",
    "collapsed": false,
    "execution": {
     "iopub.execute_input": "2024-02-25T10:34:16.806002Z",
     "iopub.status.busy": "2024-02-25T10:34:16.805734Z",
     "iopub.status.idle": "2024-02-25T10:34:17.349017Z",
     "shell.execute_reply": "2024-02-25T10:34:17.348561Z"
    },
    "jupyter": {
     "outputs_hidden": false
    }
   },
   "outputs": [],
   "source": [
    "seqeval = evaluate.load(\"seqeval\")"
   ]
  },
  {
   "cell_type": "code",
   "execution_count": 29,
   "metadata": {
    "execution": {
     "iopub.execute_input": "2024-02-25T10:34:17.351794Z",
     "iopub.status.busy": "2024-02-25T10:34:17.351514Z",
     "iopub.status.idle": "2024-02-25T10:34:17.356545Z",
     "shell.execute_reply": "2024-02-25T10:34:17.356141Z"
    }
   },
   "outputs": [],
   "source": [
    "def f5_score(precision: float, recall: float, beta: int = 5):\n",
    "    return (1 + beta**2) * (precision * recall) / ((beta**2 * precision) + recall)\n",
    "\n",
    "\n",
    "def compute_metrics(p):\n",
    "    predictions, labels = p\n",
    "    predictions = np.argmax(predictions, axis=2)\n",
    "\n",
    "    true_predictions = [\n",
    "        [label_list[p] for (p, l) in zip(prediction, label) if l != -100]\n",
    "        for prediction, label in zip(predictions, labels)\n",
    "    ]\n",
    "    true_labels = [\n",
    "        [label_list[l] for (p, l) in zip(prediction, label) if l != -100]\n",
    "        for prediction, label in zip(predictions, labels)\n",
    "    ]\n",
    "\n",
    "    results = seqeval.compute(predictions=true_predictions, references=true_labels)\n",
    "\n",
    "    # seqevalのmetrics関数を使用して、精度、再現率、F1スコア、正解率を計算\n",
    "    precision = results[\"overall_precision\"]\n",
    "    recall = results[\"overall_recall\"]\n",
    "\n",
    "    return {\n",
    "        \"precision\": precision,\n",
    "        \"recall\": recall,\n",
    "        \"f1\": results[\"overall_f1\"],\n",
    "        \"accuracy\": results[\"overall_accuracy\"],\n",
    "        \"f5score\": f5_score(precision, recall),\n",
    "    }"
   ]
  },
  {
   "cell_type": "code",
   "execution_count": 30,
   "metadata": {
    "autoscroll": "auto",
    "collapsed": false,
    "execution": {
     "iopub.execute_input": "2024-02-25T10:34:17.358503Z",
     "iopub.status.busy": "2024-02-25T10:34:17.358245Z",
     "iopub.status.idle": "2024-02-25T10:34:18.376749Z",
     "shell.execute_reply": "2024-02-25T10:34:18.376264Z"
    },
    "jupyter": {
     "outputs_hidden": false
    }
   },
   "outputs": [],
   "source": [
    "model = AutoModelForTokenClassification.from_pretrained(\n",
    "    MODEL_NAME,\n",
    "    num_labels=len(id2label),\n",
    "    id2label=id2label,\n",
    "    label2id=label2id,\n",
    ")"
   ]
  },
  {
   "cell_type": "code",
   "execution_count": 31,
   "metadata": {
    "autoscroll": "auto",
    "collapsed": false,
    "execution": {
     "iopub.execute_input": "2024-02-25T10:34:18.379751Z",
     "iopub.status.busy": "2024-02-25T10:34:18.379445Z",
     "iopub.status.idle": "2024-02-25T10:34:18.382978Z",
     "shell.execute_reply": "2024-02-25T10:34:18.382617Z"
    }
   },
   "outputs": [
    {
     "data": {
      "text/plain": [
       "Dataset({\n",
       "    features: ['document', 'provided_labels', 'full_text', 'trailing_whitespace', 'tokens', 'flag', 'input_ids', 'token_type_ids', 'attention_mask', 'offset_mapping', 'labels', 'length'],\n",
       "    num_rows: 11241\n",
       "})"
      ]
     },
     "execution_count": 31,
     "metadata": {},
     "output_type": "execute_result"
    }
   ],
   "source": [
    "train_dataset"
   ]
  },
  {
   "cell_type": "code",
   "execution_count": 32,
   "metadata": {
    "autoscroll": "auto",
    "collapsed": false,
    "execution": {
     "iopub.execute_input": "2024-02-25T10:34:18.385056Z",
     "iopub.status.busy": "2024-02-25T10:34:18.384796Z",
     "iopub.status.idle": "2024-02-25T10:34:18.401962Z",
     "shell.execute_reply": "2024-02-25T10:34:18.401549Z"
    }
   },
   "outputs": [],
   "source": [
    "def train_valid_split(train_dataset):\n",
    "    # 'flag'列が'original'のもののみをテストデータとする\n",
    "    original_dataset = train_dataset.filter(lambda x: x[\"flag\"] == \"original\")\n",
    "    extrenal_dataset = train_dataset.filter(lambda x: x[\"flag\"] == \"external\")\n",
    "\n",
    "    # 'flag'列が'original'でないものを訓練データと検証データに分割する\n",
    "    train_split_dataset = original_dataset.train_test_split(test_size=0.2, seed=42)\n",
    "\n",
    "    # 再結合する\n",
    "    concat_train_dataset = concatenate_datasets(\n",
    "        [train_split_dataset[\"train\"], extrenal_dataset]\n",
    "    )\n",
    "\n",
    "    train_valid_dataset = DatasetDict(\n",
    "        {\"train\": concat_train_dataset, \"valid\": train_split_dataset[\"test\"]}\n",
    "    )\n",
    "    return train_valid_dataset\n",
    "\n",
    "\n",
    "train_valid_dataset = train_valid_split(train_dataset)"
   ]
  },
  {
   "cell_type": "code",
   "execution_count": 33,
   "metadata": {
    "execution": {
     "iopub.execute_input": "2024-02-25T10:34:18.404345Z",
     "iopub.status.busy": "2024-02-25T10:34:18.404055Z",
     "iopub.status.idle": "2024-02-25T10:34:19.668561Z",
     "shell.execute_reply": "2024-02-25T10:34:19.668022Z"
    }
   },
   "outputs": [],
   "source": [
    "training_args = TrainingArguments(\n",
    "    output_dir=LOG_PATH,\n",
    "    learning_rate=2e-5,\n",
    "    per_device_train_batch_size=16,  # 32はだめ、性能がepoch0の時、precision0.31→0.00、Recall0.25→0.00に落ちる\n",
    "    per_device_eval_batch_size=16,  # 32,↑同様、バッチサイズが非常に重要なパラメーターであるとも言える\n",
    "    # num_train_epochs=2,\n",
    "    num_train_epochs=3,\n",
    "    weight_decay=0.01,\n",
    "    evaluation_strategy=\"epoch\",\n",
    "    save_strategy=\"epoch\",\n",
    "    load_best_model_at_end=True,\n",
    "    push_to_hub=False,\n",
    "    metric_for_best_model=\"f5score\",  # add\n",
    "    greater_is_better=True,  # add\n",
    "    warmup_ratio=0.1,  # add\n",
    "    lr_scheduler_type=\"cosine\",  # add\n",
    "    report_to=REPORT_TO,\n",
    ")\n",
    "\n",
    "trainer = Trainer(\n",
    "    model=model,\n",
    "    args=training_args,\n",
    "    train_dataset=train_valid_dataset[\"train\"],\n",
    "    eval_dataset=train_valid_dataset[\"valid\"],\n",
    "    tokenizer=tokenizer,\n",
    "    data_collator=data_collator,\n",
    "    compute_metrics=compute_metrics,\n",
    ")"
   ]
  },
  {
   "cell_type": "code",
   "execution_count": 34,
   "metadata": {
    "autoscroll": "auto",
    "collapsed": false,
    "execution": {
     "iopub.execute_input": "2024-02-25T10:34:19.671217Z",
     "iopub.status.busy": "2024-02-25T10:34:19.670946Z",
     "iopub.status.idle": "2024-02-25T11:27:49.449830Z",
     "shell.execute_reply": "2024-02-25T11:27:49.449213Z"
    },
    "jupyter": {
     "outputs_hidden": false
    }
   },
   "outputs": [
    {
     "data": {
      "text/html": [
       "\n",
       "    <div>\n",
       "      \n",
       "      <progress value='1854' max='1854' style='width:300px; height:20px; vertical-align: middle;'></progress>\n",
       "      [1854/1854 52:22, Epoch 3/3]\n",
       "    </div>\n",
       "    <table border=\"1\" class=\"dataframe\">\n",
       "  <thead>\n",
       " <tr style=\"text-align: left;\">\n",
       "      <th>Epoch</th>\n",
       "      <th>Training Loss</th>\n",
       "      <th>Validation Loss</th>\n",
       "      <th>Precision</th>\n",
       "      <th>Recall</th>\n",
       "      <th>F1</th>\n",
       "      <th>Accuracy</th>\n",
       "      <th>F5score</th>\n",
       "    </tr>\n",
       "  </thead>\n",
       "  <tbody>\n",
       "    <tr>\n",
       "      <td>1</td>\n",
       "      <td>0.228300</td>\n",
       "      <td>0.001764</td>\n",
       "      <td>0.838235</td>\n",
       "      <td>0.695971</td>\n",
       "      <td>0.760507</td>\n",
       "      <td>0.999580</td>\n",
       "      <td>0.700544</td>\n",
       "    </tr>\n",
       "    <tr>\n",
       "      <td>2</td>\n",
       "      <td>0.003800</td>\n",
       "      <td>0.001279</td>\n",
       "      <td>0.815345</td>\n",
       "      <td>0.765568</td>\n",
       "      <td>0.789673</td>\n",
       "      <td>0.999608</td>\n",
       "      <td>0.767370</td>\n",
       "    </tr>\n",
       "    <tr>\n",
       "      <td>3</td>\n",
       "      <td>0.002700</td>\n",
       "      <td>0.001215</td>\n",
       "      <td>0.835165</td>\n",
       "      <td>0.742369</td>\n",
       "      <td>0.786037</td>\n",
       "      <td>0.999622</td>\n",
       "      <td>0.745555</td>\n",
       "    </tr>\n",
       "  </tbody>\n",
       "</table><p>"
      ],
      "text/plain": [
       "<IPython.core.display.HTML object>"
      ]
     },
     "metadata": {},
     "output_type": "display_data"
    },
    {
     "data": {
      "text/html": [
       "\n",
       "    <div>\n",
       "      \n",
       "      <progress value='86' max='86' style='width:300px; height:20px; vertical-align: middle;'></progress>\n",
       "      [86/86 00:52]\n",
       "    </div>\n",
       "    "
      ],
      "text/plain": [
       "<IPython.core.display.HTML object>"
      ]
     },
     "metadata": {},
     "output_type": "display_data"
    }
   ],
   "source": [
    "# モデルの学習\n",
    "trainer.train()\n",
    "cv_score = trainer.evaluate()[\"eval_f5score\"]\n",
    "# モデルの保存\n",
    "trainer.save_model(MODEL_OUTPUT_PATH)"
   ]
  },
  {
   "cell_type": "code",
   "execution_count": 35,
   "metadata": {
    "execution": {
     "iopub.execute_input": "2024-02-25T11:27:49.452512Z",
     "iopub.status.busy": "2024-02-25T11:27:49.452323Z",
     "iopub.status.idle": "2024-02-25T11:27:50.799931Z",
     "shell.execute_reply": "2024-02-25T11:27:50.799213Z"
    }
   },
   "outputs": [],
   "source": [
    "model = AutoModelForTokenClassification.from_pretrained(MODEL_OUTPUT_PATH)\n",
    "tokenizer = AutoTokenizer.from_pretrained(MODEL_OUTPUT_PATH)\n",
    "\n",
    "args = TrainingArguments(\n",
    "    \".\",\n",
    "    per_device_eval_batch_size=1,\n",
    "    report_to=\"none\",\n",
    ")\n",
    "\n",
    "trainer = Trainer(\n",
    "    model=model,\n",
    "    args=args,\n",
    "    data_collator=data_collator,\n",
    "    tokenizer=tokenizer,\n",
    ")"
   ]
  },
  {
   "cell_type": "markdown",
   "metadata": {},
   "source": [
    "# Make CV DataFrame"
   ]
  },
  {
   "cell_type": "code",
   "execution_count": 36,
   "metadata": {
    "execution": {
     "iopub.execute_input": "2024-02-25T11:27:50.802631Z",
     "iopub.status.busy": "2024-02-25T11:27:50.802437Z",
     "iopub.status.idle": "2024-02-25T11:27:50.806257Z",
     "shell.execute_reply": "2024-02-25T11:27:50.805725Z"
    }
   },
   "outputs": [],
   "source": [
    "def get_valid_preds(trainer, valid_dataset):\n",
    "    \"\"\"\n",
    "    trainerを用いてvalid_datasetに対する予測を行う\n",
    "    \"\"\"\n",
    "    predictions = trainer.predict(valid_dataset).predictions\n",
    "    preds_final = predictions.argmax(-1)\n",
    "\n",
    "    return preds_final"
   ]
  },
  {
   "cell_type": "code",
   "execution_count": 37,
   "metadata": {
    "execution": {
     "iopub.execute_input": "2024-02-25T11:27:50.808859Z",
     "iopub.status.busy": "2024-02-25T11:27:50.807928Z",
     "iopub.status.idle": "2024-02-25T11:27:50.812927Z",
     "shell.execute_reply": "2024-02-25T11:27:50.812410Z"
    }
   },
   "outputs": [],
   "source": [
    "def tokenize(example, tokenizer):\n",
    "    text = []\n",
    "    token_map = []\n",
    "\n",
    "    idx = 0\n",
    "\n",
    "    for t, ws in zip(example[\"tokens\"], example[\"trailing_whitespace\"]):\n",
    "        text.append(t)\n",
    "        token_map.extend([idx] * len(t))\n",
    "        if ws:\n",
    "            text.append(\" \")\n",
    "            token_map.append(-1)\n",
    "\n",
    "        idx += 1\n",
    "\n",
    "    # tokenized = tokenizer(\"\".join(text), return_offsets_mapping=True, truncation=True, max_length=INFERENCE_MAX_LENGTH)\n",
    "    tokenized = tokenizer(\"\".join(text), return_offsets_mapping=True, truncation=True)\n",
    "\n",
    "    return {\n",
    "        **tokenized,\n",
    "        \"token_map\": token_map,\n",
    "    }"
   ]
  },
  {
   "cell_type": "code",
   "execution_count": 38,
   "metadata": {
    "execution": {
     "iopub.execute_input": "2024-02-25T11:27:50.815039Z",
     "iopub.status.busy": "2024-02-25T11:27:50.814628Z",
     "iopub.status.idle": "2024-02-25T11:27:50.820922Z",
     "shell.execute_reply": "2024-02-25T11:27:50.820389Z"
    }
   },
   "outputs": [],
   "source": [
    "def get_output_part(preds_final, valid_dataset):\n",
    "    triplets = []\n",
    "    document, token, label, token_str = [], [], [], []\n",
    "    # token_mapはoffsetsの文字列indexが、何番目のtokenの紐付け\n",
    "    # start_idx = 0の時、tokens[token_map[start_idx]] → 'Design'\n",
    "    # start_idx = 1の時、tokens[token_map[start_idx]] → 'Design'\n",
    "    # ・・・\n",
    "    # start_idx = 5の時、tokens[token_map[start_idx]] → 'Design'\n",
    "    # start_idx = 6の時、tokens[token_map[start_idx]] → '\\n\\n'\n",
    "\n",
    "    # 同じtoken_idに、二つの予測結果が入ってしまう問題\n",
    "    # 原因は、「文字列をtokenizerで区切り、別のlabelと予測した場合を、別のtripletとして扱うから」\n",
    "    # 例えば、'kellyharrison@gmail.com'のlabelの予測結果\n",
    "    # '\\nkelly' -> 'B-EMAIL'\n",
    "    # '##harris' -> 'B-EMAIL'\n",
    "    # '##on' -> 'I-NAME_STUDENT'\n",
    "    # '@' -> 'B-EMAIL'\n",
    "    # 'gmail' -> 'B-EMAIL'\n",
    "    # '.' -> 'B-EMAIL'\n",
    "    # 'com' -> 'B-EMAIL'\n",
    "    # 簡易的な解決策: 同じtoken_idの場合は、tripletに追加しない\n",
    "    # 根本的な解決策: サブワードの推論結果は無視する？（サブワードの話ではないかも。もうちょっと考えたほうがよさそう。）\n",
    "\n",
    "    for p, token_map, offsets, tokens, doc in zip(\n",
    "        preds_final,\n",
    "        valid_dataset[\"token_map\"],\n",
    "        valid_dataset[\"offset_mapping\"],\n",
    "        valid_dataset[\"tokens\"],\n",
    "        valid_dataset[\"document\"],\n",
    "    ):\n",
    "        for token_pred, (start_idx, end_idx) in zip(p, offsets):\n",
    "            label_pred = id2label[token_pred]\n",
    "\n",
    "            if start_idx + end_idx == 0:\n",
    "                continue\n",
    "\n",
    "            if token_map[start_idx] == -1:\n",
    "                start_idx += 1\n",
    "\n",
    "            # ignore \"\\n\\n\"\n",
    "            while start_idx < len(token_map) and tokens[token_map[start_idx]].isspace():\n",
    "                start_idx += 1\n",
    "\n",
    "            if start_idx >= len(token_map):\n",
    "                break\n",
    "\n",
    "            token_id = token_map[start_idx]\n",
    "\n",
    "            # ignore \"O\" predictions and whitespace preds\n",
    "            if label_pred != \"O\" and token_id != -1:\n",
    "                triplet = (label_pred, token_id, tokens[token_id])\n",
    "\n",
    "                if triplet not in triplets:\n",
    "                    document.append(doc)\n",
    "                    token.append(token_id)\n",
    "                    label.append(label_pred)\n",
    "                    token_str.append(tokens[token_id])\n",
    "                    triplets.append(triplet)\n",
    "\n",
    "    return document, token, label, token_str"
   ]
  },
  {
   "cell_type": "code",
   "execution_count": 39,
   "metadata": {
    "execution": {
     "iopub.execute_input": "2024-02-25T11:27:50.823163Z",
     "iopub.status.busy": "2024-02-25T11:27:50.822738Z",
     "iopub.status.idle": "2024-02-25T11:27:50.827114Z",
     "shell.execute_reply": "2024-02-25T11:27:50.826563Z"
    }
   },
   "outputs": [],
   "source": [
    "def make_correct_df(train: pl.DataFrame):\n",
    "    # 学習データから、outputと同様のデータフレームを作成する\n",
    "    outputs = []\n",
    "    for document_id, token, label in zip(\n",
    "        train[\"document\"], train[\"tokens\"], train[\"provided_labels\"]\n",
    "    ):\n",
    "        for token, (token_str, label_one) in enumerate(zip(token, label)):\n",
    "            if label_one != \"O\":\n",
    "                outputs.append((document_id, token, label_one, token_str))\n",
    "    return pl.DataFrame(outputs, schema=[\"document\", \"token\", \"label\", \"token_str\"])"
   ]
  },
  {
   "cell_type": "code",
   "execution_count": 40,
   "metadata": {
    "execution": {
     "iopub.execute_input": "2024-02-25T11:27:50.829355Z",
     "iopub.status.busy": "2024-02-25T11:27:50.828916Z",
     "iopub.status.idle": "2024-02-25T11:27:50.834255Z",
     "shell.execute_reply": "2024-02-25T11:27:50.833766Z"
    }
   },
   "outputs": [],
   "source": [
    "def make_correct_pred_join_df(\n",
    "    train_correct_df: pl.DataFrame, valid_pred_df: pl.DataFrame\n",
    ") -> pl.DataFrame:\n",
    "    \"\"\"\n",
    "    validで利用したdocumentのみを抽出し、train_correct_dfとvalid_pred_dfを結合して、documentごとに比較できるようにする\n",
    "    \"\"\"\n",
    "    out = train_correct_df.filter(\n",
    "        pl.col(\"document\").is_in(valid_pred_df[\"document\"])\n",
    "    ).join(valid_pred_df, on=[\"document\", \"token\"], how=\"outer\", suffix=\"_pred\")\n",
    "\n",
    "    joined_dfs = []\n",
    "    for document in out[\"document\"].unique().to_list():\n",
    "        if document is None:\n",
    "            continue\n",
    "        joined_df_per_document = out.filter(\n",
    "            (pl.col(\"document\") == document) | (pl.col(\"document_pred\") == document)\n",
    "        )\n",
    "        joined_dfs.append(joined_df_per_document)\n",
    "\n",
    "    return pl.concat(joined_dfs)"
   ]
  },
  {
   "cell_type": "code",
   "execution_count": 41,
   "metadata": {
    "autoscroll": "auto",
    "collapsed": false,
    "execution": {
     "iopub.execute_input": "2024-02-25T11:27:50.836566Z",
     "iopub.status.busy": "2024-02-25T11:27:50.835995Z",
     "iopub.status.idle": "2024-02-25T11:30:11.085818Z",
     "shell.execute_reply": "2024-02-25T11:30:11.085212Z"
    },
    "jupyter": {
     "outputs_hidden": false
    }
   },
   "outputs": [
    {
     "data": {
      "application/vnd.jupyter.widget-view+json": {
       "model_id": "160d1509b2524a4ca11b920f70032910",
       "version_major": 2,
       "version_minor": 0
      },
      "text/plain": [
       "Filter:   0%|          | 0/11241 [00:00<?, ? examples/s]"
      ]
     },
     "metadata": {},
     "output_type": "display_data"
    },
    {
     "data": {
      "application/vnd.jupyter.widget-view+json": {
       "model_id": "1a8dbdd2ffe24ab7b18bf88afd784a37",
       "version_major": 2,
       "version_minor": 0
      },
      "text/plain": [
       "Map (num_proc=3):   0%|          | 0/1362 [00:00<?, ? examples/s]"
      ]
     },
     "metadata": {},
     "output_type": "display_data"
    },
    {
     "data": {
      "text/html": [],
      "text/plain": [
       "<IPython.core.display.HTML object>"
      ]
     },
     "metadata": {},
     "output_type": "display_data"
    }
   ],
   "source": [
    "# main\n",
    "valid_dataset = train_dataset.filter(\n",
    "    lambda example: example[\"document\"] in train_valid_dataset[\"valid\"][\"document\"]\n",
    ")\n",
    "\n",
    "valid_dataset = valid_dataset.map(\n",
    "    tokenize, fn_kwargs={\"tokenizer\": tokenizer}, num_proc=3\n",
    ")\n",
    "\n",
    "valid_preds = get_valid_preds(trainer, valid_dataset)\n",
    "\n",
    "document, token, label, token_str = get_output_part(valid_preds, valid_dataset)\n",
    "\n",
    "valid_pred_df = pl.DataFrame(\n",
    "    [document, token, label, token_str],\n",
    "    schema=[\"document\", \"token\", \"label\", \"token_str\"],\n",
    ")\n",
    "\n",
    "train_correct_df = make_correct_df(pl.from_pandas(train_dataset.to_pandas()))\n",
    "# train_correct_df = make_correct_df(train)\n",
    "\n",
    "valid_correct_pred_df = make_correct_pred_join_df(train_correct_df, valid_pred_df)\n",
    "\n",
    "# wandbにuploadする\n",
    "if not DEBUG:\n",
    "    tbl = wandb.Table(data=valid_correct_pred_df.to_pandas())\n",
    "    wandb.log({\"valid_correct_pred_df\": tbl})"
   ]
  },
  {
   "cell_type": "code",
   "execution_count": 42,
   "metadata": {
    "autoscroll": "auto",
    "collapsed": false,
    "execution": {
     "iopub.execute_input": "2024-02-25T11:30:11.088548Z",
     "iopub.status.busy": "2024-02-25T11:30:11.088354Z",
     "iopub.status.idle": "2024-02-25T11:30:11.094144Z",
     "shell.execute_reply": "2024-02-25T11:30:11.093642Z"
    }
   },
   "outputs": [
    {
     "data": {
      "text/html": [
       "<div><style>\n",
       ".dataframe > thead > tr,\n",
       ".dataframe > tbody > tr {\n",
       "  text-align: right;\n",
       "  white-space: pre-wrap;\n",
       "}\n",
       "</style>\n",
       "<small>shape: (490, 4)</small><table border=\"1\" class=\"dataframe\"><thead><tr><th>document</th><th>token</th><th>label</th><th>token_str</th></tr><tr><td>str</td><td>i64</td><td>str</td><td>str</td></tr></thead><tbody><tr><td>&quot;4313&quot;</td><td>0</td><td>&quot;B-NAME_STUDENT…</td><td>&quot;Mauro&quot;</td></tr><tr><td>&quot;4313&quot;</td><td>1</td><td>&quot;I-NAME_STUDENT…</td><td>&quot;Carella&quot;</td></tr><tr><td>&quot;4313&quot;</td><td>548</td><td>&quot;B-NAME_STUDENT…</td><td>&quot;Mauro&quot;</td></tr><tr><td>&quot;4313&quot;</td><td>549</td><td>&quot;I-NAME_STUDENT…</td><td>&quot;Carella&quot;</td></tr><tr><td>&quot;11558&quot;</td><td>0</td><td>&quot;B-NAME_STUDENT…</td><td>&quot;Luc&quot;</td></tr><tr><td>&quot;11558&quot;</td><td>1</td><td>&quot;I-NAME_STUDENT…</td><td>&quot;Batista&quot;</td></tr><tr><td>&quot;11558&quot;</td><td>402</td><td>&quot;B-NAME_STUDENT…</td><td>&quot;Luc&quot;</td></tr><tr><td>&quot;11558&quot;</td><td>403</td><td>&quot;I-NAME_STUDENT…</td><td>&quot;Batista&quot;</td></tr><tr><td>&quot;4968&quot;</td><td>10</td><td>&quot;B-NAME_STUDENT…</td><td>&quot;Mdjakir&quot;</td></tr><tr><td>&quot;4968&quot;</td><td>11</td><td>&quot;I-NAME_STUDENT…</td><td>&quot;Puerta&quot;</td></tr><tr><td>&quot;4059&quot;</td><td>2</td><td>&quot;B-NAME_STUDENT…</td><td>&quot;Javier&quot;</td></tr><tr><td>&quot;4059&quot;</td><td>3</td><td>&quot;I-NAME_STUDENT…</td><td>&quot;Castellanos&quot;</td></tr><tr><td>&hellip;</td><td>&hellip;</td><td>&hellip;</td><td>&hellip;</td></tr><tr><td>&quot;9188&quot;</td><td>701</td><td>&quot;B-NAME_STUDENT…</td><td>&quot;Alessandra&quot;</td></tr><tr><td>&quot;9188&quot;</td><td>702</td><td>&quot;I-NAME_STUDENT…</td><td>&quot;Farrag&quot;</td></tr><tr><td>&quot;9188&quot;</td><td>1514</td><td>&quot;B-NAME_STUDENT…</td><td>&quot;Alessandra&quot;</td></tr><tr><td>&quot;9188&quot;</td><td>1515</td><td>&quot;I-NAME_STUDENT…</td><td>&quot;Farrag&quot;</td></tr><tr><td>&quot;9188&quot;</td><td>2320</td><td>&quot;B-NAME_STUDENT…</td><td>&quot;Alessandra&quot;</td></tr><tr><td>&quot;9188&quot;</td><td>2321</td><td>&quot;I-NAME_STUDENT…</td><td>&quot;Farrag&quot;</td></tr><tr><td>&quot;8271&quot;</td><td>6</td><td>&quot;B-NAME_STUDENT…</td><td>&quot;Paul&quot;</td></tr><tr><td>&quot;8271&quot;</td><td>7</td><td>&quot;I-NAME_STUDENT…</td><td>&quot;Basha&quot;</td></tr><tr><td>&quot;10431&quot;</td><td>0</td><td>&quot;B-NAME_STUDENT…</td><td>&quot;Anas&quot;</td></tr><tr><td>&quot;10431&quot;</td><td>1</td><td>&quot;I-NAME_STUDENT…</td><td>&quot;Naser&quot;</td></tr><tr><td>&quot;10649&quot;</td><td>0</td><td>&quot;B-NAME_STUDENT…</td><td>&quot;Yu&quot;</td></tr><tr><td>&quot;10649&quot;</td><td>1</td><td>&quot;I-NAME_STUDENT…</td><td>&quot;Wang&quot;</td></tr></tbody></table></div>"
      ],
      "text/plain": [
       "shape: (490, 4)\n",
       "┌──────────┬───────┬────────────────┬───────────┐\n",
       "│ document ┆ token ┆ label          ┆ token_str │\n",
       "│ ---      ┆ ---   ┆ ---            ┆ ---       │\n",
       "│ str      ┆ i64   ┆ str            ┆ str       │\n",
       "╞══════════╪═══════╪════════════════╪═══════════╡\n",
       "│ 4313     ┆ 0     ┆ B-NAME_STUDENT ┆ Mauro     │\n",
       "│ 4313     ┆ 1     ┆ I-NAME_STUDENT ┆ Carella   │\n",
       "│ 4313     ┆ 548   ┆ B-NAME_STUDENT ┆ Mauro     │\n",
       "│ 4313     ┆ 549   ┆ I-NAME_STUDENT ┆ Carella   │\n",
       "│ 11558    ┆ 0     ┆ B-NAME_STUDENT ┆ Luc       │\n",
       "│ …        ┆ …     ┆ …              ┆ …         │\n",
       "│ 8271     ┆ 7     ┆ I-NAME_STUDENT ┆ Basha     │\n",
       "│ 10431    ┆ 0     ┆ B-NAME_STUDENT ┆ Anas      │\n",
       "│ 10431    ┆ 1     ┆ I-NAME_STUDENT ┆ Naser     │\n",
       "│ 10649    ┆ 0     ┆ B-NAME_STUDENT ┆ Yu        │\n",
       "│ 10649    ┆ 1     ┆ I-NAME_STUDENT ┆ Wang      │\n",
       "└──────────┴───────┴────────────────┴───────────┘"
      ]
     },
     "execution_count": 42,
     "metadata": {},
     "output_type": "execute_result"
    }
   ],
   "source": [
    "valid_pred_df"
   ]
  },
  {
   "cell_type": "markdown",
   "metadata": {},
   "source": [
    "# Data Upload"
   ]
  },
  {
   "cell_type": "code",
   "execution_count": 43,
   "metadata": {
    "autoscroll": "auto",
    "collapsed": false,
    "execution": {
     "iopub.execute_input": "2024-02-25T11:30:11.096344Z",
     "iopub.status.busy": "2024-02-25T11:30:11.096033Z",
     "iopub.status.idle": "2024-02-25T11:30:11.107109Z",
     "shell.execute_reply": "2024-02-25T11:30:11.106568Z"
    },
    "jupyter": {
     "outputs_hidden": false
    }
   },
   "outputs": [
    {
     "data": {
      "text/plain": [
       "0"
      ]
     },
     "execution_count": 43,
     "metadata": {},
     "output_type": "execute_result"
    }
   ],
   "source": [
    "import os\n",
    "\n",
    "os.system(\"mkdir -p ~/.kaggle/\")\n",
    "os.system(\"cp /notebooks/pll_data_detection/kaggle.json ~/.kaggle/\")\n",
    "os.system(\"chmod 600 ~/.kaggle/kaggle.json\")"
   ]
  },
  {
   "cell_type": "code",
   "execution_count": 44,
   "metadata": {
    "execution": {
     "iopub.execute_input": "2024-02-25T11:30:11.109157Z",
     "iopub.status.busy": "2024-02-25T11:30:11.108968Z",
     "iopub.status.idle": "2024-02-25T11:30:32.038225Z",
     "shell.execute_reply": "2024-02-25T11:30:32.037728Z"
    }
   },
   "outputs": [],
   "source": [
    "from kaggle.api.kaggle_api_extended import KaggleApi\n",
    "import json\n",
    "\n",
    "\n",
    "def dataset_create_new(dataset_name: str, upload_dir: str):\n",
    "    if \"_\" in dataset_name:\n",
    "        raise ValueError(\"datasetの名称に_の使用は禁止です\")\n",
    "    dataset_metadata = {}\n",
    "    dataset_metadata[\"id\"] = f\"sinchir0/{dataset_name}\"\n",
    "    dataset_metadata[\"licenses\"] = [{\"name\": \"CC0-1.0\"}]\n",
    "    dataset_metadata[\"title\"] = dataset_name\n",
    "    with open(os.path.join(upload_dir, \"dataset-metadata.json\"), \"w\") as f:\n",
    "        json.dump(dataset_metadata, f, indent=4)\n",
    "    api = KaggleApi()\n",
    "    api.authenticate()\n",
    "    api.dataset_create_new(folder=upload_dir, convert_to_csv=False, dir_mode=\"tar\")\n",
    "\n",
    "\n",
    "if (not DEBUG) and UPLOAD_DATA:\n",
    "    print(f\"Create Dataset name:{DATASET_NAME}, output_dir:{MODEL_OUTPUT_PATH}\")\n",
    "    dataset_create_new(dataset_name=DATASET_NAME, upload_dir=MODEL_OUTPUT_PATH)"
   ]
  },
  {
   "cell_type": "code",
   "execution_count": 45,
   "metadata": {
    "autoscroll": "auto",
    "collapsed": false,
    "execution": {
     "iopub.execute_input": "2024-02-25T11:30:32.040837Z",
     "iopub.status.busy": "2024-02-25T11:30:32.040187Z",
     "iopub.status.idle": "2024-02-25T11:30:32.044574Z",
     "shell.execute_reply": "2024-02-25T11:30:32.044121Z"
    },
    "jupyter": {
     "outputs_hidden": false
    }
   },
   "outputs": [
    {
     "data": {
      "text/plain": [
       "'pll_data_detection/trained_models/e06-add-training-data'"
      ]
     },
     "execution_count": 45,
     "metadata": {},
     "output_type": "execute_result"
    }
   ],
   "source": [
    "MODEL_OUTPUT_PATH"
   ]
  },
  {
   "cell_type": "code",
   "execution_count": 46,
   "metadata": {
    "autoscroll": "auto",
    "collapsed": false,
    "execution": {
     "iopub.execute_input": "2024-02-25T11:30:32.046723Z",
     "iopub.status.busy": "2024-02-25T11:30:32.046350Z",
     "iopub.status.idle": "2024-02-25T11:30:35.638803Z",
     "shell.execute_reply": "2024-02-25T11:30:35.638369Z"
    },
    "jupyter": {
     "outputs_hidden": false
    },
    "tags": []
   },
   "outputs": [
    {
     "data": {
      "text/html": [
       "Waiting for W&B process to finish... <strong style=\"color:green\">(success).</strong>"
      ],
      "text/plain": [
       "<IPython.core.display.HTML object>"
      ]
     },
     "metadata": {},
     "output_type": "display_data"
    },
    {
     "data": {
      "application/vnd.jupyter.widget-view+json": {
       "model_id": "eec2434ef5c648c59e8b093b4e88bb90",
       "version_major": 2,
       "version_minor": 0
      },
      "text/plain": [
       "VBox(children=(Label(value='0.085 MB of 0.085 MB uploaded (0.000 MB deduped)\\r'), FloatProgress(value=1.0, max…"
      ]
     },
     "metadata": {},
     "output_type": "display_data"
    },
    {
     "data": {
      "text/html": [
       "<style>\n",
       "    table.wandb td:nth-child(1) { padding: 0 10px; text-align: left ; width: auto;} td:nth-child(2) {text-align: left ; width: 100%}\n",
       "    .wandb-row { display: flex; flex-direction: row; flex-wrap: wrap; justify-content: flex-start; width: 100% }\n",
       "    .wandb-col { display: flex; flex-direction: column; flex-basis: 100%; flex: 1; padding: 10px; }\n",
       "    </style>\n",
       "<div class=\"wandb-row\"><div class=\"wandb-col\"><h3>Run summary:</h3><br/><table class=\"wandb\"><tr><td>eval/accuracy</td><td>0.99961</td></tr><tr><td>eval/f1</td><td>0.78967</td></tr><tr><td>eval/f5score</td><td>0.76737</td></tr><tr><td>eval/loss</td><td>0.00128</td></tr><tr><td>eval/precision</td><td>0.81534</td></tr><tr><td>eval/recall</td><td>0.76557</td></tr><tr><td>eval/runtime</td><td>63.3013</td></tr><tr><td>eval/samples_per_second</td><td>21.516</td></tr><tr><td>eval/steps_per_second</td><td>1.359</td></tr><tr><td>train/epoch</td><td>3.0</td></tr><tr><td>train/global_step</td><td>1854</td></tr><tr><td>train/learning_rate</td><td>0.0</td></tr><tr><td>train/loss</td><td>0.0027</td></tr><tr><td>train/total_flos</td><td>1.4872937376006144e+16</td></tr><tr><td>train/train_loss</td><td>0.06381</td></tr><tr><td>train/train_runtime</td><td>3144.7733</td></tr><tr><td>train/train_samples_per_second</td><td>9.424</td></tr><tr><td>train/train_steps_per_second</td><td>0.59</td></tr></table><br/></div></div>"
      ],
      "text/plain": [
       "<IPython.core.display.HTML object>"
      ]
     },
     "metadata": {},
     "output_type": "display_data"
    },
    {
     "data": {
      "text/html": [
       "Synced <strong style=\"color:#cdcd00\">e06-add-training-data</strong>: <a href=\"https://wandb.ai/sinchir0/pll/runs/20xg2nev\" target=\"_blank\">https://wandb.ai/sinchir0/pll/runs/20xg2nev</a><br/>Synced 5 W&B file(s), 1 media file(s), 1 artifact file(s) and 0 other file(s)"
      ],
      "text/plain": [
       "<IPython.core.display.HTML object>"
      ]
     },
     "metadata": {},
     "output_type": "display_data"
    },
    {
     "data": {
      "text/html": [
       "Find logs at: <code>./wandb/run-20240225_103257-20xg2nev/logs</code>"
      ],
      "text/plain": [
       "<IPython.core.display.HTML object>"
      ]
     },
     "metadata": {},
     "output_type": "display_data"
    }
   ],
   "source": [
    "if not DEBUG:\n",
    "    wandb.finish()"
   ]
  }
 ],
 "metadata": {
  "kernelspec": {
   "display_name": "Python 3 (ipykernel)",
   "language": "python",
   "name": "python3"
  },
  "language_info": {
   "codemirror_mode": {
    "name": "ipython",
    "version": 3
   },
   "file_extension": ".py",
   "mimetype": "text/x-python",
   "name": "python",
   "nbconvert_exporter": "python",
   "pygments_lexer": "ipython3",
   "version": "3.9.16"
  },
  "widgets": {
   "application/vnd.jupyter.widget-state+json": {
    "state": {
     "160d1509b2524a4ca11b920f70032910": {
      "model_module": "@jupyter-widgets/controls",
      "model_module_version": "2.0.0",
      "model_name": "HBoxModel",
      "state": {
       "_dom_classes": [],
       "_model_module": "@jupyter-widgets/controls",
       "_model_module_version": "2.0.0",
       "_model_name": "HBoxModel",
       "_view_count": null,
       "_view_module": "@jupyter-widgets/controls",
       "_view_module_version": "2.0.0",
       "_view_name": "HBoxView",
       "box_style": "",
       "children": [
        "IPY_MODEL_df671107775141ef82ead63e0470a7fa",
        "IPY_MODEL_b75d165106804ecd9c932a44bc880a75",
        "IPY_MODEL_bdcc4aee6dc34130bc238e7d05e0cf4e"
       ],
       "layout": "IPY_MODEL_d59f31bdd7314b2dadae8d503540bf3d",
       "tabbable": null,
       "tooltip": null
      }
     },
     "183dccd68a5e4b2fbeaa46478c5fc159": {
      "model_module": "@jupyter-widgets/base",
      "model_module_version": "2.0.0",
      "model_name": "LayoutModel",
      "state": {
       "_model_module": "@jupyter-widgets/base",
       "_model_module_version": "2.0.0",
       "_model_name": "LayoutModel",
       "_view_count": null,
       "_view_module": "@jupyter-widgets/base",
       "_view_module_version": "2.0.0",
       "_view_name": "LayoutView",
       "align_content": null,
       "align_items": null,
       "align_self": null,
       "border_bottom": null,
       "border_left": null,
       "border_right": null,
       "border_top": null,
       "bottom": null,
       "display": null,
       "flex": null,
       "flex_flow": null,
       "grid_area": null,
       "grid_auto_columns": null,
       "grid_auto_flow": null,
       "grid_auto_rows": null,
       "grid_column": null,
       "grid_gap": null,
       "grid_row": null,
       "grid_template_areas": null,
       "grid_template_columns": null,
       "grid_template_rows": null,
       "height": null,
       "justify_content": null,
       "justify_items": null,
       "left": null,
       "margin": null,
       "max_height": null,
       "max_width": null,
       "min_height": null,
       "min_width": null,
       "object_fit": null,
       "object_position": null,
       "order": null,
       "overflow": null,
       "padding": null,
       "right": null,
       "top": null,
       "visibility": null,
       "width": null
      }
     },
     "1a8dbdd2ffe24ab7b18bf88afd784a37": {
      "model_module": "@jupyter-widgets/controls",
      "model_module_version": "2.0.0",
      "model_name": "HBoxModel",
      "state": {
       "_dom_classes": [],
       "_model_module": "@jupyter-widgets/controls",
       "_model_module_version": "2.0.0",
       "_model_name": "HBoxModel",
       "_view_count": null,
       "_view_module": "@jupyter-widgets/controls",
       "_view_module_version": "2.0.0",
       "_view_name": "HBoxView",
       "box_style": "",
       "children": [
        "IPY_MODEL_9483b6c67e98419c8c921efc1fe338c8",
        "IPY_MODEL_c6f01b10d53f41609e81e5e1b3a5a53b",
        "IPY_MODEL_5565d5aa3fd14552bd5ab33d8d73ba7e"
       ],
       "layout": "IPY_MODEL_269023b41e7742e7b83c19c9e2ed5cd0",
       "tabbable": null,
       "tooltip": null
      }
     },
     "24b2a954dc4c401b8eaa7a789748ab86": {
      "model_module": "@jupyter-widgets/base",
      "model_module_version": "2.0.0",
      "model_name": "LayoutModel",
      "state": {
       "_model_module": "@jupyter-widgets/base",
       "_model_module_version": "2.0.0",
       "_model_name": "LayoutModel",
       "_view_count": null,
       "_view_module": "@jupyter-widgets/base",
       "_view_module_version": "2.0.0",
       "_view_name": "LayoutView",
       "align_content": null,
       "align_items": null,
       "align_self": null,
       "border_bottom": null,
       "border_left": null,
       "border_right": null,
       "border_top": null,
       "bottom": null,
       "display": null,
       "flex": null,
       "flex_flow": null,
       "grid_area": null,
       "grid_auto_columns": null,
       "grid_auto_flow": null,
       "grid_auto_rows": null,
       "grid_column": null,
       "grid_gap": null,
       "grid_row": null,
       "grid_template_areas": null,
       "grid_template_columns": null,
       "grid_template_rows": null,
       "height": null,
       "justify_content": null,
       "justify_items": null,
       "left": null,
       "margin": null,
       "max_height": null,
       "max_width": null,
       "min_height": null,
       "min_width": null,
       "object_fit": null,
       "object_position": null,
       "order": null,
       "overflow": null,
       "padding": null,
       "right": null,
       "top": null,
       "visibility": null,
       "width": null
      }
     },
     "25be5787dcc5422abc9f0bb35a60e535": {
      "model_module": "@jupyter-widgets/base",
      "model_module_version": "2.0.0",
      "model_name": "LayoutModel",
      "state": {
       "_model_module": "@jupyter-widgets/base",
       "_model_module_version": "2.0.0",
       "_model_name": "LayoutModel",
       "_view_count": null,
       "_view_module": "@jupyter-widgets/base",
       "_view_module_version": "2.0.0",
       "_view_name": "LayoutView",
       "align_content": null,
       "align_items": null,
       "align_self": null,
       "border_bottom": null,
       "border_left": null,
       "border_right": null,
       "border_top": null,
       "bottom": null,
       "display": null,
       "flex": null,
       "flex_flow": null,
       "grid_area": null,
       "grid_auto_columns": null,
       "grid_auto_flow": null,
       "grid_auto_rows": null,
       "grid_column": null,
       "grid_gap": null,
       "grid_row": null,
       "grid_template_areas": null,
       "grid_template_columns": null,
       "grid_template_rows": null,
       "height": null,
       "justify_content": null,
       "justify_items": null,
       "left": null,
       "margin": null,
       "max_height": null,
       "max_width": null,
       "min_height": null,
       "min_width": null,
       "object_fit": null,
       "object_position": null,
       "order": null,
       "overflow": null,
       "padding": null,
       "right": null,
       "top": null,
       "visibility": null,
       "width": null
      }
     },
     "269023b41e7742e7b83c19c9e2ed5cd0": {
      "model_module": "@jupyter-widgets/base",
      "model_module_version": "2.0.0",
      "model_name": "LayoutModel",
      "state": {
       "_model_module": "@jupyter-widgets/base",
       "_model_module_version": "2.0.0",
       "_model_name": "LayoutModel",
       "_view_count": null,
       "_view_module": "@jupyter-widgets/base",
       "_view_module_version": "2.0.0",
       "_view_name": "LayoutView",
       "align_content": null,
       "align_items": null,
       "align_self": null,
       "border_bottom": null,
       "border_left": null,
       "border_right": null,
       "border_top": null,
       "bottom": null,
       "display": null,
       "flex": null,
       "flex_flow": null,
       "grid_area": null,
       "grid_auto_columns": null,
       "grid_auto_flow": null,
       "grid_auto_rows": null,
       "grid_column": null,
       "grid_gap": null,
       "grid_row": null,
       "grid_template_areas": null,
       "grid_template_columns": null,
       "grid_template_rows": null,
       "height": null,
       "justify_content": null,
       "justify_items": null,
       "left": null,
       "margin": null,
       "max_height": null,
       "max_width": null,
       "min_height": null,
       "min_width": null,
       "object_fit": null,
       "object_position": null,
       "order": null,
       "overflow": null,
       "padding": null,
       "right": null,
       "top": null,
       "visibility": null,
       "width": null
      }
     },
     "28f1bc18dc084bdba0f64d5cb6a556a8": {
      "model_module": "@jupyter-widgets/base",
      "model_module_version": "2.0.0",
      "model_name": "LayoutModel",
      "state": {
       "_model_module": "@jupyter-widgets/base",
       "_model_module_version": "2.0.0",
       "_model_name": "LayoutModel",
       "_view_count": null,
       "_view_module": "@jupyter-widgets/base",
       "_view_module_version": "2.0.0",
       "_view_name": "LayoutView",
       "align_content": null,
       "align_items": null,
       "align_self": null,
       "border_bottom": null,
       "border_left": null,
       "border_right": null,
       "border_top": null,
       "bottom": null,
       "display": null,
       "flex": null,
       "flex_flow": null,
       "grid_area": null,
       "grid_auto_columns": null,
       "grid_auto_flow": null,
       "grid_auto_rows": null,
       "grid_column": null,
       "grid_gap": null,
       "grid_row": null,
       "grid_template_areas": null,
       "grid_template_columns": null,
       "grid_template_rows": null,
       "height": null,
       "justify_content": null,
       "justify_items": null,
       "left": null,
       "margin": null,
       "max_height": null,
       "max_width": null,
       "min_height": null,
       "min_width": null,
       "object_fit": null,
       "object_position": null,
       "order": null,
       "overflow": null,
       "padding": null,
       "right": null,
       "top": null,
       "visibility": null,
       "width": null
      }
     },
     "2d543df4804c446694405ee39262e4f0": {
      "model_module": "@jupyter-widgets/controls",
      "model_module_version": "2.0.0",
      "model_name": "HTMLStyleModel",
      "state": {
       "_model_module": "@jupyter-widgets/controls",
       "_model_module_version": "2.0.0",
       "_model_name": "HTMLStyleModel",
       "_view_count": null,
       "_view_module": "@jupyter-widgets/base",
       "_view_module_version": "2.0.0",
       "_view_name": "StyleView",
       "background": null,
       "description_width": "",
       "font_size": null,
       "text_color": null
      }
     },
     "2d59cd727cb84e1c805146799004f36b": {
      "model_module": "@jupyter-widgets/controls",
      "model_module_version": "2.0.0",
      "model_name": "VBoxModel",
      "state": {
       "_dom_classes": [],
       "_model_module": "@jupyter-widgets/controls",
       "_model_module_version": "2.0.0",
       "_model_name": "VBoxModel",
       "_view_count": null,
       "_view_module": "@jupyter-widgets/controls",
       "_view_module_version": "2.0.0",
       "_view_name": "VBoxView",
       "box_style": "",
       "children": [
        "IPY_MODEL_51507a433cfe4d9fa0f6cce595780d40",
        "IPY_MODEL_f08d05ed4412456fad91bf295dd153d8"
       ],
       "layout": "IPY_MODEL_dc48f35c90894d8da5a787d1f5b93588",
       "tabbable": null,
       "tooltip": null
      }
     },
     "2f61dffc33414252b925b0eaf65d959c": {
      "model_module": "@jupyter-widgets/base",
      "model_module_version": "2.0.0",
      "model_name": "LayoutModel",
      "state": {
       "_model_module": "@jupyter-widgets/base",
       "_model_module_version": "2.0.0",
       "_model_name": "LayoutModel",
       "_view_count": null,
       "_view_module": "@jupyter-widgets/base",
       "_view_module_version": "2.0.0",
       "_view_name": "LayoutView",
       "align_content": null,
       "align_items": null,
       "align_self": null,
       "border_bottom": null,
       "border_left": null,
       "border_right": null,
       "border_top": null,
       "bottom": null,
       "display": null,
       "flex": null,
       "flex_flow": null,
       "grid_area": null,
       "grid_auto_columns": null,
       "grid_auto_flow": null,
       "grid_auto_rows": null,
       "grid_column": null,
       "grid_gap": null,
       "grid_row": null,
       "grid_template_areas": null,
       "grid_template_columns": null,
       "grid_template_rows": null,
       "height": null,
       "justify_content": null,
       "justify_items": null,
       "left": null,
       "margin": null,
       "max_height": null,
       "max_width": null,
       "min_height": null,
       "min_width": null,
       "object_fit": null,
       "object_position": null,
       "order": null,
       "overflow": null,
       "padding": null,
       "right": null,
       "top": null,
       "visibility": null,
       "width": null
      }
     },
     "3245fd03a04b40bd9687bdc838710c9e": {
      "model_module": "@jupyter-widgets/controls",
      "model_module_version": "2.0.0",
      "model_name": "LabelStyleModel",
      "state": {
       "_model_module": "@jupyter-widgets/controls",
       "_model_module_version": "2.0.0",
       "_model_name": "LabelStyleModel",
       "_view_count": null,
       "_view_module": "@jupyter-widgets/base",
       "_view_module_version": "2.0.0",
       "_view_name": "StyleView",
       "background": null,
       "description_width": "",
       "font_family": null,
       "font_size": null,
       "font_style": null,
       "font_variant": null,
       "font_weight": null,
       "text_color": null,
       "text_decoration": null
      }
     },
     "3a1296ddfb7844259d73a4a2cdfe7f63": {
      "model_module": "@jupyter-widgets/base",
      "model_module_version": "2.0.0",
      "model_name": "LayoutModel",
      "state": {
       "_model_module": "@jupyter-widgets/base",
       "_model_module_version": "2.0.0",
       "_model_name": "LayoutModel",
       "_view_count": null,
       "_view_module": "@jupyter-widgets/base",
       "_view_module_version": "2.0.0",
       "_view_name": "LayoutView",
       "align_content": null,
       "align_items": null,
       "align_self": null,
       "border_bottom": null,
       "border_left": null,
       "border_right": null,
       "border_top": null,
       "bottom": null,
       "display": null,
       "flex": null,
       "flex_flow": null,
       "grid_area": null,
       "grid_auto_columns": null,
       "grid_auto_flow": null,
       "grid_auto_rows": null,
       "grid_column": null,
       "grid_gap": null,
       "grid_row": null,
       "grid_template_areas": null,
       "grid_template_columns": null,
       "grid_template_rows": null,
       "height": null,
       "justify_content": null,
       "justify_items": null,
       "left": null,
       "margin": null,
       "max_height": null,
       "max_width": null,
       "min_height": null,
       "min_width": null,
       "object_fit": null,
       "object_position": null,
       "order": null,
       "overflow": null,
       "padding": null,
       "right": null,
       "top": null,
       "visibility": null,
       "width": null
      }
     },
     "42ae6efe1b8241708ebbe368f5988118": {
      "model_module": "@jupyter-widgets/base",
      "model_module_version": "2.0.0",
      "model_name": "LayoutModel",
      "state": {
       "_model_module": "@jupyter-widgets/base",
       "_model_module_version": "2.0.0",
       "_model_name": "LayoutModel",
       "_view_count": null,
       "_view_module": "@jupyter-widgets/base",
       "_view_module_version": "2.0.0",
       "_view_name": "LayoutView",
       "align_content": null,
       "align_items": null,
       "align_self": null,
       "border_bottom": null,
       "border_left": null,
       "border_right": null,
       "border_top": null,
       "bottom": null,
       "display": null,
       "flex": null,
       "flex_flow": null,
       "grid_area": null,
       "grid_auto_columns": null,
       "grid_auto_flow": null,
       "grid_auto_rows": null,
       "grid_column": null,
       "grid_gap": null,
       "grid_row": null,
       "grid_template_areas": null,
       "grid_template_columns": null,
       "grid_template_rows": null,
       "height": null,
       "justify_content": null,
       "justify_items": null,
       "left": null,
       "margin": null,
       "max_height": null,
       "max_width": null,
       "min_height": null,
       "min_width": null,
       "object_fit": null,
       "object_position": null,
       "order": null,
       "overflow": null,
       "padding": null,
       "right": null,
       "top": null,
       "visibility": null,
       "width": null
      }
     },
     "51507a433cfe4d9fa0f6cce595780d40": {
      "model_module": "@jupyter-widgets/controls",
      "model_module_version": "2.0.0",
      "model_name": "LabelModel",
      "state": {
       "_dom_classes": [],
       "_model_module": "@jupyter-widgets/controls",
       "_model_module_version": "2.0.0",
       "_model_name": "LabelModel",
       "_view_count": null,
       "_view_module": "@jupyter-widgets/controls",
       "_view_module_version": "2.0.0",
       "_view_name": "LabelView",
       "description": "",
       "description_allow_html": false,
       "layout": "IPY_MODEL_a6adef7d6f864813a6895a22fe72a1ab",
       "placeholder": "​",
       "style": "IPY_MODEL_3245fd03a04b40bd9687bdc838710c9e",
       "tabbable": null,
       "tooltip": null,
       "value": "Waiting for wandb.init()...\r"
      }
     },
     "5565d5aa3fd14552bd5ab33d8d73ba7e": {
      "model_module": "@jupyter-widgets/controls",
      "model_module_version": "2.0.0",
      "model_name": "HTMLModel",
      "state": {
       "_dom_classes": [],
       "_model_module": "@jupyter-widgets/controls",
       "_model_module_version": "2.0.0",
       "_model_name": "HTMLModel",
       "_view_count": null,
       "_view_module": "@jupyter-widgets/controls",
       "_view_module_version": "2.0.0",
       "_view_name": "HTMLView",
       "description": "",
       "description_allow_html": false,
       "layout": "IPY_MODEL_28f1bc18dc084bdba0f64d5cb6a556a8",
       "placeholder": "​",
       "style": "IPY_MODEL_fffc431dac5e4fc3a27bf2b4d0954978",
       "tabbable": null,
       "tooltip": null,
       "value": " 1362/1362 [00:02&lt;00:00, 780.00 examples/s]"
      }
     },
     "5960b0abe21f4a8a879714b35e89a0b7": {
      "model_module": "@jupyter-widgets/controls",
      "model_module_version": "2.0.0",
      "model_name": "FloatProgressModel",
      "state": {
       "_dom_classes": [],
       "_model_module": "@jupyter-widgets/controls",
       "_model_module_version": "2.0.0",
       "_model_name": "FloatProgressModel",
       "_view_count": null,
       "_view_module": "@jupyter-widgets/controls",
       "_view_module_version": "2.0.0",
       "_view_name": "ProgressView",
       "bar_style": "",
       "description": "",
       "description_allow_html": false,
       "layout": "IPY_MODEL_3a1296ddfb7844259d73a4a2cdfe7f63",
       "max": 1.0,
       "min": 0.0,
       "orientation": "horizontal",
       "style": "IPY_MODEL_c7395e0e427c469298ea52be17015c9f",
       "tabbable": null,
       "tooltip": null,
       "value": 1.0
      }
     },
     "68010b677a604faabc09774abcba486a": {
      "model_module": "@jupyter-widgets/controls",
      "model_module_version": "2.0.0",
      "model_name": "HTMLStyleModel",
      "state": {
       "_model_module": "@jupyter-widgets/controls",
       "_model_module_version": "2.0.0",
       "_model_name": "HTMLStyleModel",
       "_view_count": null,
       "_view_module": "@jupyter-widgets/base",
       "_view_module_version": "2.0.0",
       "_view_name": "StyleView",
       "background": null,
       "description_width": "",
       "font_size": null,
       "text_color": null
      }
     },
     "69ffaa4d416b40d5ad5fd3114bbfc24a": {
      "model_module": "@jupyter-widgets/base",
      "model_module_version": "2.0.0",
      "model_name": "LayoutModel",
      "state": {
       "_model_module": "@jupyter-widgets/base",
       "_model_module_version": "2.0.0",
       "_model_name": "LayoutModel",
       "_view_count": null,
       "_view_module": "@jupyter-widgets/base",
       "_view_module_version": "2.0.0",
       "_view_name": "LayoutView",
       "align_content": null,
       "align_items": null,
       "align_self": null,
       "border_bottom": null,
       "border_left": null,
       "border_right": null,
       "border_top": null,
       "bottom": null,
       "display": null,
       "flex": null,
       "flex_flow": null,
       "grid_area": null,
       "grid_auto_columns": null,
       "grid_auto_flow": null,
       "grid_auto_rows": null,
       "grid_column": null,
       "grid_gap": null,
       "grid_row": null,
       "grid_template_areas": null,
       "grid_template_columns": null,
       "grid_template_rows": null,
       "height": null,
       "justify_content": null,
       "justify_items": null,
       "left": null,
       "margin": null,
       "max_height": null,
       "max_width": null,
       "min_height": null,
       "min_width": null,
       "object_fit": null,
       "object_position": null,
       "order": null,
       "overflow": null,
       "padding": null,
       "right": null,
       "top": null,
       "visibility": null,
       "width": null
      }
     },
     "7676a9fb9fc146e8a406b945a1a78577": {
      "model_module": "@jupyter-widgets/base",
      "model_module_version": "2.0.0",
      "model_name": "LayoutModel",
      "state": {
       "_model_module": "@jupyter-widgets/base",
       "_model_module_version": "2.0.0",
       "_model_name": "LayoutModel",
       "_view_count": null,
       "_view_module": "@jupyter-widgets/base",
       "_view_module_version": "2.0.0",
       "_view_name": "LayoutView",
       "align_content": null,
       "align_items": null,
       "align_self": null,
       "border_bottom": null,
       "border_left": null,
       "border_right": null,
       "border_top": null,
       "bottom": null,
       "display": null,
       "flex": null,
       "flex_flow": null,
       "grid_area": null,
       "grid_auto_columns": null,
       "grid_auto_flow": null,
       "grid_auto_rows": null,
       "grid_column": null,
       "grid_gap": null,
       "grid_row": null,
       "grid_template_areas": null,
       "grid_template_columns": null,
       "grid_template_rows": null,
       "height": null,
       "justify_content": null,
       "justify_items": null,
       "left": null,
       "margin": null,
       "max_height": null,
       "max_width": null,
       "min_height": null,
       "min_width": null,
       "object_fit": null,
       "object_position": null,
       "order": null,
       "overflow": null,
       "padding": null,
       "right": null,
       "top": null,
       "visibility": null,
       "width": null
      }
     },
     "82f7c1ad8ac4456d9d90802687474ff7": {
      "model_module": "@jupyter-widgets/controls",
      "model_module_version": "2.0.0",
      "model_name": "ProgressStyleModel",
      "state": {
       "_model_module": "@jupyter-widgets/controls",
       "_model_module_version": "2.0.0",
       "_model_name": "ProgressStyleModel",
       "_view_count": null,
       "_view_module": "@jupyter-widgets/base",
       "_view_module_version": "2.0.0",
       "_view_name": "StyleView",
       "bar_color": null,
       "description_width": ""
      }
     },
     "843c419f4e714bb3aad2062cdc6f1aeb": {
      "model_module": "@jupyter-widgets/base",
      "model_module_version": "2.0.0",
      "model_name": "LayoutModel",
      "state": {
       "_model_module": "@jupyter-widgets/base",
       "_model_module_version": "2.0.0",
       "_model_name": "LayoutModel",
       "_view_count": null,
       "_view_module": "@jupyter-widgets/base",
       "_view_module_version": "2.0.0",
       "_view_name": "LayoutView",
       "align_content": null,
       "align_items": null,
       "align_self": null,
       "border_bottom": null,
       "border_left": null,
       "border_right": null,
       "border_top": null,
       "bottom": null,
       "display": null,
       "flex": null,
       "flex_flow": null,
       "grid_area": null,
       "grid_auto_columns": null,
       "grid_auto_flow": null,
       "grid_auto_rows": null,
       "grid_column": null,
       "grid_gap": null,
       "grid_row": null,
       "grid_template_areas": null,
       "grid_template_columns": null,
       "grid_template_rows": null,
       "height": null,
       "justify_content": null,
       "justify_items": null,
       "left": null,
       "margin": null,
       "max_height": null,
       "max_width": null,
       "min_height": null,
       "min_width": null,
       "object_fit": null,
       "object_position": null,
       "order": null,
       "overflow": null,
       "padding": null,
       "right": null,
       "top": null,
       "visibility": null,
       "width": null
      }
     },
     "8651bb0f8bb04523a0f1f05b8621f421": {
      "model_module": "@jupyter-widgets/controls",
      "model_module_version": "2.0.0",
      "model_name": "ProgressStyleModel",
      "state": {
       "_model_module": "@jupyter-widgets/controls",
       "_model_module_version": "2.0.0",
       "_model_name": "ProgressStyleModel",
       "_view_count": null,
       "_view_module": "@jupyter-widgets/base",
       "_view_module_version": "2.0.0",
       "_view_name": "StyleView",
       "bar_color": null,
       "description_width": ""
      }
     },
     "9483b6c67e98419c8c921efc1fe338c8": {
      "model_module": "@jupyter-widgets/controls",
      "model_module_version": "2.0.0",
      "model_name": "HTMLModel",
      "state": {
       "_dom_classes": [],
       "_model_module": "@jupyter-widgets/controls",
       "_model_module_version": "2.0.0",
       "_model_name": "HTMLModel",
       "_view_count": null,
       "_view_module": "@jupyter-widgets/controls",
       "_view_module_version": "2.0.0",
       "_view_name": "HTMLView",
       "description": "",
       "description_allow_html": false,
       "layout": "IPY_MODEL_69ffaa4d416b40d5ad5fd3114bbfc24a",
       "placeholder": "​",
       "style": "IPY_MODEL_2d543df4804c446694405ee39262e4f0",
       "tabbable": null,
       "tooltip": null,
       "value": "Map (num_proc=3): 100%"
      }
     },
     "9862408c8a44452a8079b21e6aec392d": {
      "model_module": "@jupyter-widgets/controls",
      "model_module_version": "2.0.0",
      "model_name": "HTMLStyleModel",
      "state": {
       "_model_module": "@jupyter-widgets/controls",
       "_model_module_version": "2.0.0",
       "_model_name": "HTMLStyleModel",
       "_view_count": null,
       "_view_module": "@jupyter-widgets/base",
       "_view_module_version": "2.0.0",
       "_view_name": "StyleView",
       "background": null,
       "description_width": "",
       "font_size": null,
       "text_color": null
      }
     },
     "a6adef7d6f864813a6895a22fe72a1ab": {
      "model_module": "@jupyter-widgets/base",
      "model_module_version": "2.0.0",
      "model_name": "LayoutModel",
      "state": {
       "_model_module": "@jupyter-widgets/base",
       "_model_module_version": "2.0.0",
       "_model_name": "LayoutModel",
       "_view_count": null,
       "_view_module": "@jupyter-widgets/base",
       "_view_module_version": "2.0.0",
       "_view_name": "LayoutView",
       "align_content": null,
       "align_items": null,
       "align_self": null,
       "border_bottom": null,
       "border_left": null,
       "border_right": null,
       "border_top": null,
       "bottom": null,
       "display": null,
       "flex": null,
       "flex_flow": null,
       "grid_area": null,
       "grid_auto_columns": null,
       "grid_auto_flow": null,
       "grid_auto_rows": null,
       "grid_column": null,
       "grid_gap": null,
       "grid_row": null,
       "grid_template_areas": null,
       "grid_template_columns": null,
       "grid_template_rows": null,
       "height": null,
       "justify_content": null,
       "justify_items": null,
       "left": null,
       "margin": null,
       "max_height": null,
       "max_width": null,
       "min_height": null,
       "min_width": null,
       "object_fit": null,
       "object_position": null,
       "order": null,
       "overflow": null,
       "padding": null,
       "right": null,
       "top": null,
       "visibility": null,
       "width": null
      }
     },
     "b75d165106804ecd9c932a44bc880a75": {
      "model_module": "@jupyter-widgets/controls",
      "model_module_version": "2.0.0",
      "model_name": "FloatProgressModel",
      "state": {
       "_dom_classes": [],
       "_model_module": "@jupyter-widgets/controls",
       "_model_module_version": "2.0.0",
       "_model_name": "FloatProgressModel",
       "_view_count": null,
       "_view_module": "@jupyter-widgets/controls",
       "_view_module_version": "2.0.0",
       "_view_name": "ProgressView",
       "bar_style": "success",
       "description": "",
       "description_allow_html": false,
       "layout": "IPY_MODEL_2f61dffc33414252b925b0eaf65d959c",
       "max": 11241.0,
       "min": 0.0,
       "orientation": "horizontal",
       "style": "IPY_MODEL_8651bb0f8bb04523a0f1f05b8621f421",
       "tabbable": null,
       "tooltip": null,
       "value": 11241.0
      }
     },
     "bdcc4aee6dc34130bc238e7d05e0cf4e": {
      "model_module": "@jupyter-widgets/controls",
      "model_module_version": "2.0.0",
      "model_name": "HTMLModel",
      "state": {
       "_dom_classes": [],
       "_model_module": "@jupyter-widgets/controls",
       "_model_module_version": "2.0.0",
       "_model_name": "HTMLModel",
       "_view_count": null,
       "_view_module": "@jupyter-widgets/controls",
       "_view_module_version": "2.0.0",
       "_view_name": "HTMLView",
       "description": "",
       "description_allow_html": false,
       "layout": "IPY_MODEL_42ae6efe1b8241708ebbe368f5988118",
       "placeholder": "​",
       "style": "IPY_MODEL_9862408c8a44452a8079b21e6aec392d",
       "tabbable": null,
       "tooltip": null,
       "value": " 11241/11241 [01:23&lt;00:00, 134.24 examples/s]"
      }
     },
     "c6f01b10d53f41609e81e5e1b3a5a53b": {
      "model_module": "@jupyter-widgets/controls",
      "model_module_version": "2.0.0",
      "model_name": "FloatProgressModel",
      "state": {
       "_dom_classes": [],
       "_model_module": "@jupyter-widgets/controls",
       "_model_module_version": "2.0.0",
       "_model_name": "FloatProgressModel",
       "_view_count": null,
       "_view_module": "@jupyter-widgets/controls",
       "_view_module_version": "2.0.0",
       "_view_name": "ProgressView",
       "bar_style": "success",
       "description": "",
       "description_allow_html": false,
       "layout": "IPY_MODEL_25be5787dcc5422abc9f0bb35a60e535",
       "max": 1362.0,
       "min": 0.0,
       "orientation": "horizontal",
       "style": "IPY_MODEL_82f7c1ad8ac4456d9d90802687474ff7",
       "tabbable": null,
       "tooltip": null,
       "value": 1362.0
      }
     },
     "c7395e0e427c469298ea52be17015c9f": {
      "model_module": "@jupyter-widgets/controls",
      "model_module_version": "2.0.0",
      "model_name": "ProgressStyleModel",
      "state": {
       "_model_module": "@jupyter-widgets/controls",
       "_model_module_version": "2.0.0",
       "_model_name": "ProgressStyleModel",
       "_view_count": null,
       "_view_module": "@jupyter-widgets/base",
       "_view_module_version": "2.0.0",
       "_view_name": "StyleView",
       "bar_color": null,
       "description_width": ""
      }
     },
     "d59f31bdd7314b2dadae8d503540bf3d": {
      "model_module": "@jupyter-widgets/base",
      "model_module_version": "2.0.0",
      "model_name": "LayoutModel",
      "state": {
       "_model_module": "@jupyter-widgets/base",
       "_model_module_version": "2.0.0",
       "_model_name": "LayoutModel",
       "_view_count": null,
       "_view_module": "@jupyter-widgets/base",
       "_view_module_version": "2.0.0",
       "_view_name": "LayoutView",
       "align_content": null,
       "align_items": null,
       "align_self": null,
       "border_bottom": null,
       "border_left": null,
       "border_right": null,
       "border_top": null,
       "bottom": null,
       "display": null,
       "flex": null,
       "flex_flow": null,
       "grid_area": null,
       "grid_auto_columns": null,
       "grid_auto_flow": null,
       "grid_auto_rows": null,
       "grid_column": null,
       "grid_gap": null,
       "grid_row": null,
       "grid_template_areas": null,
       "grid_template_columns": null,
       "grid_template_rows": null,
       "height": null,
       "justify_content": null,
       "justify_items": null,
       "left": null,
       "margin": null,
       "max_height": null,
       "max_width": null,
       "min_height": null,
       "min_width": null,
       "object_fit": null,
       "object_position": null,
       "order": null,
       "overflow": null,
       "padding": null,
       "right": null,
       "top": null,
       "visibility": null,
       "width": null
      }
     },
     "dc48f35c90894d8da5a787d1f5b93588": {
      "model_module": "@jupyter-widgets/base",
      "model_module_version": "2.0.0",
      "model_name": "LayoutModel",
      "state": {
       "_model_module": "@jupyter-widgets/base",
       "_model_module_version": "2.0.0",
       "_model_name": "LayoutModel",
       "_view_count": null,
       "_view_module": "@jupyter-widgets/base",
       "_view_module_version": "2.0.0",
       "_view_name": "LayoutView",
       "align_content": null,
       "align_items": null,
       "align_self": null,
       "border_bottom": null,
       "border_left": null,
       "border_right": null,
       "border_top": null,
       "bottom": null,
       "display": null,
       "flex": null,
       "flex_flow": null,
       "grid_area": null,
       "grid_auto_columns": null,
       "grid_auto_flow": null,
       "grid_auto_rows": null,
       "grid_column": null,
       "grid_gap": null,
       "grid_row": null,
       "grid_template_areas": null,
       "grid_template_columns": null,
       "grid_template_rows": null,
       "height": null,
       "justify_content": null,
       "justify_items": null,
       "left": null,
       "margin": null,
       "max_height": null,
       "max_width": null,
       "min_height": null,
       "min_width": null,
       "object_fit": null,
       "object_position": null,
       "order": null,
       "overflow": null,
       "padding": null,
       "right": null,
       "top": null,
       "visibility": null,
       "width": null
      }
     },
     "df671107775141ef82ead63e0470a7fa": {
      "model_module": "@jupyter-widgets/controls",
      "model_module_version": "2.0.0",
      "model_name": "HTMLModel",
      "state": {
       "_dom_classes": [],
       "_model_module": "@jupyter-widgets/controls",
       "_model_module_version": "2.0.0",
       "_model_name": "HTMLModel",
       "_view_count": null,
       "_view_module": "@jupyter-widgets/controls",
       "_view_module_version": "2.0.0",
       "_view_name": "HTMLView",
       "description": "",
       "description_allow_html": false,
       "layout": "IPY_MODEL_7676a9fb9fc146e8a406b945a1a78577",
       "placeholder": "​",
       "style": "IPY_MODEL_68010b677a604faabc09774abcba486a",
       "tabbable": null,
       "tooltip": null,
       "value": "Filter: 100%"
      }
     },
     "e6765f66c881423887f68aef491692e4": {
      "model_module": "@jupyter-widgets/controls",
      "model_module_version": "2.0.0",
      "model_name": "LabelStyleModel",
      "state": {
       "_model_module": "@jupyter-widgets/controls",
       "_model_module_version": "2.0.0",
       "_model_name": "LabelStyleModel",
       "_view_count": null,
       "_view_module": "@jupyter-widgets/base",
       "_view_module_version": "2.0.0",
       "_view_name": "StyleView",
       "background": null,
       "description_width": "",
       "font_family": null,
       "font_size": null,
       "font_style": null,
       "font_variant": null,
       "font_weight": null,
       "text_color": null,
       "text_decoration": null
      }
     },
     "eec2434ef5c648c59e8b093b4e88bb90": {
      "model_module": "@jupyter-widgets/controls",
      "model_module_version": "2.0.0",
      "model_name": "VBoxModel",
      "state": {
       "_dom_classes": [],
       "_model_module": "@jupyter-widgets/controls",
       "_model_module_version": "2.0.0",
       "_model_name": "VBoxModel",
       "_view_count": null,
       "_view_module": "@jupyter-widgets/controls",
       "_view_module_version": "2.0.0",
       "_view_name": "VBoxView",
       "box_style": "",
       "children": [
        "IPY_MODEL_fc5c738fd27f4419addea669d83ef1be",
        "IPY_MODEL_5960b0abe21f4a8a879714b35e89a0b7"
       ],
       "layout": "IPY_MODEL_183dccd68a5e4b2fbeaa46478c5fc159",
       "tabbable": null,
       "tooltip": null
      }
     },
     "f08d05ed4412456fad91bf295dd153d8": {
      "model_module": "@jupyter-widgets/controls",
      "model_module_version": "2.0.0",
      "model_name": "FloatProgressModel",
      "state": {
       "_dom_classes": [],
       "_model_module": "@jupyter-widgets/controls",
       "_model_module_version": "2.0.0",
       "_model_name": "FloatProgressModel",
       "_view_count": null,
       "_view_module": "@jupyter-widgets/controls",
       "_view_module_version": "2.0.0",
       "_view_name": "ProgressView",
       "bar_style": "",
       "description": "",
       "description_allow_html": false,
       "layout": "IPY_MODEL_24b2a954dc4c401b8eaa7a789748ab86",
       "max": 1.0,
       "min": 0.0,
       "orientation": "horizontal",
       "style": "IPY_MODEL_f121cfe50d8b4ccbbcd94469dcb8212f",
       "tabbable": null,
       "tooltip": null,
       "value": 1.0
      }
     },
     "f121cfe50d8b4ccbbcd94469dcb8212f": {
      "model_module": "@jupyter-widgets/controls",
      "model_module_version": "2.0.0",
      "model_name": "ProgressStyleModel",
      "state": {
       "_model_module": "@jupyter-widgets/controls",
       "_model_module_version": "2.0.0",
       "_model_name": "ProgressStyleModel",
       "_view_count": null,
       "_view_module": "@jupyter-widgets/base",
       "_view_module_version": "2.0.0",
       "_view_name": "StyleView",
       "bar_color": null,
       "description_width": ""
      }
     },
     "fc5c738fd27f4419addea669d83ef1be": {
      "model_module": "@jupyter-widgets/controls",
      "model_module_version": "2.0.0",
      "model_name": "LabelModel",
      "state": {
       "_dom_classes": [],
       "_model_module": "@jupyter-widgets/controls",
       "_model_module_version": "2.0.0",
       "_model_name": "LabelModel",
       "_view_count": null,
       "_view_module": "@jupyter-widgets/controls",
       "_view_module_version": "2.0.0",
       "_view_name": "LabelView",
       "description": "",
       "description_allow_html": false,
       "layout": "IPY_MODEL_843c419f4e714bb3aad2062cdc6f1aeb",
       "placeholder": "​",
       "style": "IPY_MODEL_e6765f66c881423887f68aef491692e4",
       "tabbable": null,
       "tooltip": null,
       "value": "0.085 MB of 0.085 MB uploaded (0.000 MB deduped)\r"
      }
     },
     "fffc431dac5e4fc3a27bf2b4d0954978": {
      "model_module": "@jupyter-widgets/controls",
      "model_module_version": "2.0.0",
      "model_name": "HTMLStyleModel",
      "state": {
       "_model_module": "@jupyter-widgets/controls",
       "_model_module_version": "2.0.0",
       "_model_name": "HTMLStyleModel",
       "_view_count": null,
       "_view_module": "@jupyter-widgets/base",
       "_view_module_version": "2.0.0",
       "_view_name": "StyleView",
       "background": null,
       "description_width": "",
       "font_size": null,
       "text_color": null
      }
     }
    },
    "version_major": 2,
    "version_minor": 0
   }
  }
 },
 "nbformat": 4,
 "nbformat_minor": 4
}
